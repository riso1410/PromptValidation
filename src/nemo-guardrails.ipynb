{
 "cells": [
  {
   "cell_type": "code",
   "execution_count": null,
   "id": "8bf7cf11",
   "metadata": {},
   "outputs": [],
   "source": [
    "import os\n",
    "import time\n",
    "\n",
    "import gqr\n",
    "import nest_asyncio\n",
    "import pandas as pd\n",
    "from dotenv import load_dotenv\n",
    "from langchain_litellm import ChatLiteLLM\n",
    "from nemoguardrails import LLMRails, RailsConfig\n",
    "from tqdm import tqdm\n",
    "\n",
    "load_dotenv()\n",
    "nest_asyncio.apply()"
   ]
  },
  {
   "cell_type": "code",
   "execution_count": null,
   "id": "a83db6be",
   "metadata": {},
   "outputs": [],
   "source": [
    "API_KEY = os.getenv(\"API_KEY\")\n",
    "API_BASE = os.getenv(\"API_BASE\")\n",
    "\n",
    "domain = gqr.load_id_test_dataset()\n",
    "ood = gqr.load_ood_test_dataset()"
   ]
  },
  {
   "cell_type": "code",
   "execution_count": null,
   "id": "c8c27011",
   "metadata": {},
   "outputs": [],
   "source": [
    "def batch_is_domain_questions(rails : LLMRails, content: list[str]) -> list:\n",
    "    results = []\n",
    "    for i in range(len(content)):\n",
    "        try:\n",
    "            _ = rails.generate(messages=[{\"role\": \"user\", \"content\": content[i]}])\n",
    "            info = rails.explain()\n",
    "            if str(info.llm_calls[0].completion).lower() == 'yes':\n",
    "                results.append(False)\n",
    "            else:\n",
    "                results.append(True)\n",
    "        except Exception:\n",
    "            results.append(False)\n",
    "    return results\n",
    "\n",
    "def is_domain_questions(rails : LLMRails, content : str) -> bool:\n",
    "    try:\n",
    "        _ = rails.generate(messages=[{\"role\": \"user\", \"content\": content}])\n",
    "        info = rails.explain()\n",
    "        return str(info.llm_calls[0].completion).lower() != \"yes\"\n",
    "    except Exception:\n",
    "        return False"
   ]
  },
  {
   "cell_type": "code",
   "execution_count": null,
   "id": "1709b1e6",
   "metadata": {},
   "outputs": [],
   "source": [
    "for model_name in [\"openai/gpt-4o-mini\", \"llama3.2:3b\", \"llama3.1:8b\"]:\n",
    "    config = RailsConfig.from_path(\"nemo_config\")\n",
    "    llm = ChatLiteLLM(model=model_name, api_key=API_KEY, api_base=API_BASE, max_tokens=5, temperature=0, cache=False)\n",
    "    rails = LLMRails(config, llm=llm)\n",
    "    save_path = model_name.replace(\"/\", \"_\")\n",
    "\n",
    "    ood[\"pred\"] = ood[\"text\"].apply(is_domain_questions)\n",
    "    ood.to_csv(f\"data/results/nemo_{save_path}_ood_results.csv\", index=False)\n",
    "\n",
    "    domain[\"pred\"] = domain[\"text\"].apply(is_domain_questions)\n",
    "    domain.to_csv(f\"data/results/nemo_{save_path}_domain_results.csv\", index=False)\n",
    "\n",
    "    data = pd.read_csv(\"data/batch_data.csv\")\n",
    "    batch_results =[]\n",
    "    data = data['prompt'].tolist()\n",
    "    for batch_size in tqdm([1, 32, 64, 128, 256]):\n",
    "        batches = [\n",
    "            data[i : i + batch_size]\n",
    "            for i in range(0, len(data), batch_size)\n",
    "        ]\n",
    "        for batch in tqdm(batches):\n",
    "            start_time = time.perf_counter()\n",
    "            results = batch_is_domain_questions(batch)\n",
    "            end_time = time.perf_counter()\n",
    "            elapsed_time = end_time - start_time\n",
    "            batch_results.append({\n",
    "                \"batch_size\": batch_size,\n",
    "                \"time_taken\": elapsed_time,\n",
    "                \"results\": results,\n",
    "                \"model_name\": \"nvidia-nemo-gpt4o-mini\",\n",
    "            })\n",
    "        pd.DataFrame(batch_results).to_csv(f\"data/results/batch/nemo_{save_path}_batch.csv\", index=False)\n"
   ]
  }
 ],
 "metadata": {
  "kernelspec": {
   "display_name": ".venv",
   "language": "python",
   "name": "python3"
  },
  "language_info": {
   "codemirror_mode": {
    "name": "ipython",
    "version": 3
   },
   "file_extension": ".py",
   "mimetype": "text/x-python",
   "name": "python",
   "nbconvert_exporter": "python",
   "pygments_lexer": "ipython3",
   "version": "3.12.3"
  }
 },
 "nbformat": 4,
 "nbformat_minor": 5
}
