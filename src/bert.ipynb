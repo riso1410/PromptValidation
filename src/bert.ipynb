{
 "cells": [
  {
   "cell_type": "code",
   "execution_count": null,
   "metadata": {},
   "outputs": [],
   "source": [
    "import os\n",
    "import random\n",
    "import time\n",
    "\n",
    "import gqr\n",
    "import numpy as np\n",
    "import pandas as pd\n",
    "import torch\n",
    "import wandb\n",
    "from datasets import Dataset\n",
    "from dotenv import load_dotenv\n",
    "from tqdm import tqdm\n",
    "from transformers import (\n",
    "    AutoModelForSequenceClassification,\n",
    "    AutoTokenizer,\n",
    "    DataCollatorWithPadding,\n",
    "    Trainer,\n",
    "    TrainingArguments,\n",
    ")"
   ]
  },
  {
   "cell_type": "code",
   "execution_count": null,
   "metadata": {},
   "outputs": [],
   "source": [
    "load_dotenv()\n",
    "\n",
    "\n",
    "def set_seed(seed: int) -> None:\n",
    "    random.seed(seed)\n",
    "    np.random.seed(seed)\n",
    "    os.environ[\"PYTHONHASHSEED\"] = str(seed)\n",
    "\n",
    "\n",
    "set_seed(22)\n",
    "os.environ[\"TOKENIZERS_PARALLELISM\"] = \"false\"\n",
    "\n",
    "model_name = \"google-bert/bert-base-multilingual-cased\"  # 'google-bert/bert-base-multilingual-cased') \"answerdotai/ModernBERT-base\"\n",
    "save_dir = \"models-bert-multilingual-cased\""
   ]
  },
  {
   "cell_type": "code",
   "execution_count": null,
   "metadata": {},
   "outputs": [],
   "source": [
    "wandb.init(\n",
    "    project=\"ood-bert\",\n",
    "    tags=[\"bert\", \"classification\"],\n",
    ")"
   ]
  },
  {
   "cell_type": "code",
   "execution_count": null,
   "metadata": {},
   "outputs": [],
   "source": [
    "train_data, eval_data = gqr.load_train_dataset()"
   ]
  },
  {
   "cell_type": "code",
   "execution_count": null,
   "metadata": {},
   "outputs": [],
   "source": [
    "eval_labels = pd.get_dummies(eval_data[\"label\"], prefix=\"class\")\n",
    "eval_data = pd.concat([eval_data, eval_labels], axis=1)\n",
    "eval_labels = eval_labels.astype(np.float32).values.tolist()\n",
    "eval_data = eval_data[[\"text\", \"class_0\", \"class_1\", \"class_2\"]]\n",
    "eval_texts = eval_data[\"text\"].tolist()"
   ]
  },
  {
   "cell_type": "code",
   "execution_count": null,
   "metadata": {},
   "outputs": [],
   "source": [
    "train_labels = pd.get_dummies(train_data[\"label\"], prefix=\"class\")\n",
    "train = pd.concat([train_data, train_labels], axis=1)\n",
    "train_labels = train_labels.astype(np.float32).values.tolist()\n",
    "train = train[[\"text\", \"class_0\", \"class_1\", \"class_2\"]]\n",
    "train_texts = train[\"text\"].tolist()"
   ]
  },
  {
   "cell_type": "code",
   "execution_count": null,
   "metadata": {},
   "outputs": [],
   "source": [
    "tokenizer = AutoTokenizer.from_pretrained(model_name)\n",
    "\n",
    "# Prepare the datasets\n",
    "train_dataset = Dataset.from_dict({\"text\": train_texts, \"labels\": train_labels})\n",
    "\n",
    "eval_dataset = Dataset.from_dict({\"text\": eval_texts, \"labels\": eval_labels})\n",
    "\n",
    "\n",
    "def tokenize_function(examples: dict) -> dict:\n",
    "    return tokenizer(\n",
    "        examples[\"text\"], padding=\"max_length\", truncation=True, max_length=512\n",
    "    )\n",
    "\n",
    "\n",
    "train_dataset = train_dataset.map(tokenize_function, batched=True)\n",
    "eval_dataset = eval_dataset.map(tokenize_function, batched=True)\n",
    "\n",
    "train_dataset = train_dataset.remove_columns([\"text\"])\n",
    "eval_dataset = eval_dataset.remove_columns([\"text\"])\n",
    "\n",
    "train_dataset.set_format(type=\"torch\", device=\"cuda\")\n",
    "eval_dataset.set_format(type=\"torch\", device=\"cuda\")\n",
    "\n",
    "data_collator = DataCollatorWithPadding(tokenizer=tokenizer, return_tensors=\"pt\")\n",
    "\n",
    "model = AutoModelForSequenceClassification.from_pretrained(\n",
    "    model_name,\n",
    "    problem_type=\"multi_label_classification\",\n",
    "    num_labels=3,\n",
    "    reference_compile=False,\n",
    ")\n",
    "\n",
    "model = model.to(\"cuda\")"
   ]
  },
  {
   "cell_type": "code",
   "execution_count": null,
   "metadata": {},
   "outputs": [],
   "source": [
    "training_args = TrainingArguments(\n",
    "    output_dir=save_dir,\n",
    "    learning_rate=2e-5,\n",
    "    per_device_train_batch_size=16,\n",
    "    per_device_eval_batch_size=16,\n",
    "    num_train_epochs=5,\n",
    "    evaluation_strategy=\"steps\",\n",
    "    eval_steps=250,\n",
    "    save_strategy=\"steps\",\n",
    "    save_steps=250,\n",
    "    logging_strategy=\"steps\",\n",
    "    logging_steps=1,\n",
    "    load_best_model_at_end=True,\n",
    "    push_to_hub=False,\n",
    "    report_to=\"wandb\",\n",
    ")\n",
    "\n",
    "\n",
    "trainer = Trainer(\n",
    "    model=model,\n",
    "    args=training_args,\n",
    "    train_dataset=train_dataset,\n",
    "    eval_dataset=eval_dataset,\n",
    "    data_collator=data_collator,\n",
    ")\n",
    "\n",
    "trainer.train()"
   ]
  },
  {
   "cell_type": "code",
   "execution_count": null,
   "metadata": {},
   "outputs": [],
   "source": [
    "model = AutoModelForSequenceClassification.from_pretrained(\n",
    "    f\"{save_dir}/checkpoint-2000\",\n",
    "    problem_type=\"multi_label_classification\",\n",
    "    num_labels=3,\n",
    ").to(\"cuda\")\n",
    "\n",
    "domain = gqr.load_id_test_dataset()\n",
    "ood = gqr.load_ood_test_dataset()"
   ]
  },
  {
   "cell_type": "code",
   "execution_count": null,
   "metadata": {},
   "outputs": [],
   "source": [
    "model.eval()\n",
    "\n",
    "all_probabilities = []\n",
    "for text in tqdm(domain[\"text\"].tolist(), desc=\"Domain\"):\n",
    "    inputs = tokenizer(text, padding=True, truncation=True, return_tensors=\"pt\")\n",
    "    inputs = inputs.to(\"cuda\")\n",
    "    with torch.no_grad():\n",
    "        outputs = model(**inputs)\n",
    "    logits = outputs.logits\n",
    "    probabilities = torch.sigmoid(logits)\n",
    "    all_probabilities.append(probabilities.to(\"cpu\").numpy().tolist()[0])\n",
    "domain[\"pred\"] = all_probabilities\n",
    "domain.to_csv(\"data/results/bert_domain_results.csv\", index=False)"
   ]
  },
  {
   "cell_type": "code",
   "execution_count": null,
   "metadata": {},
   "outputs": [],
   "source": [
    "# Process each text\n",
    "all_probabilities = []\n",
    "for text in tqdm(ood[\"text\"].values.tolist()):\n",
    "    inputs = tokenizer(text, padding=True, truncation=True, return_tensors=\"pt\")\n",
    "    inputs = inputs.to(\"cuda\")\n",
    "\n",
    "    with torch.no_grad():\n",
    "        outputs = model(**inputs)\n",
    "\n",
    "    logits = outputs.logits\n",
    "    probabilities = torch.sigmoid(logits)\n",
    "    all_probabilities.append(probabilities.to(\"cpu\").numpy().tolist()[0])\n",
    "ood[\"pred\"] = all_probabilities\n",
    "ood.to_csv(\"data/results/bert_ood_results.csv\", index=False)"
   ]
  },
  {
   "cell_type": "code",
   "execution_count": null,
   "metadata": {},
   "outputs": [],
   "source": [
    "def batch_inference(model: AutoModelForSequenceClassification, texts: list) -> list:\n",
    "    model.eval()\n",
    "    all_probabilities = []\n",
    "    inputs = tokenizer(texts, padding=True, truncation=True, return_tensors=\"pt\")\n",
    "    inputs = inputs.to(\"cuda\")\n",
    "\n",
    "    with torch.no_grad():\n",
    "        outputs = model(**inputs)\n",
    "\n",
    "    logits = outputs.logits\n",
    "    probabilities = torch.sigmoid(logits)\n",
    "\n",
    "    all_probabilities.extend(probabilities.to(\"cpu\").numpy().tolist())\n",
    "    return all_probabilities"
   ]
  },
  {
   "cell_type": "code",
   "execution_count": null,
   "metadata": {},
   "outputs": [],
   "source": [
    "def load_batch_data() -> list:\n",
    "    batch_data = pd.read_csv(\"batch_data.csv\")\n",
    "    return batch_data[\"prompt\"].values.tolist()\n",
    "batch_data = load_batch_data()\n",
    "batch_sizes = [1, 32, 64, 128, 256]"
   ]
  },
  {
   "cell_type": "code",
   "execution_count": null,
   "metadata": {},
   "outputs": [],
   "source": [
    "batch_results = []\n",
    "for batch_size in tqdm(batch_sizes):\n",
    "    batches = [\n",
    "        batch_data[i : i + batch_size] for i in range(0, len(batch_data), batch_size)\n",
    "    ]\n",
    "    for batch in batches:\n",
    "\n",
    "        start_time = time.perf_counter()\n",
    "        preds = batch_inference(model, batch)\n",
    "        time_taken = time.perf_counter() - start_time\n",
    "\n",
    "        batch_results.append(\n",
    "            {\n",
    "                \"batch_size\": batch_size,\n",
    "                \"results\": preds,\n",
    "                \"model_name\": \"bert-base-multilingual-cased\",\n",
    "                \"time_taken\": time_taken,\n",
    "            }\n",
    "        )\n",
    "batch_results_df = pd.DataFrame(batch_results)\n",
    "batch_results_df.to_csv(\"data/results/batch/bert_batch_results.csv\")"
   ]
  }
 ],
 "metadata": {
  "kernelspec": {
   "display_name": ".venv",
   "language": "python",
   "name": "python3"
  },
  "language_info": {
   "codemirror_mode": {
    "name": "ipython",
    "version": 3
   },
   "file_extension": ".py",
   "mimetype": "text/x-python",
   "name": "python",
   "nbconvert_exporter": "python",
   "pygments_lexer": "ipython3",
   "version": "3.12.3"
  }
 },
 "nbformat": 4,
 "nbformat_minor": 2
}
