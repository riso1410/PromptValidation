{
 "cells": [
  {
   "cell_type": "code",
   "execution_count": 1,
   "id": "bdf8bd69",
   "metadata": {},
   "outputs": [],
   "source": [
    "import os\n",
    "\n",
    "import gqr\n",
    "import torch\n",
    "from tqdm import tqdm\n",
    "from transformers import AutoModelForCausalLM, AutoTokenizer\n",
    "\n",
    "os.environ[\"TOKENIZERS_PARALLELISM\"] = \"false\""
   ]
  },
  {
   "cell_type": "code",
   "execution_count": 2,
   "id": "8ac5287a",
   "metadata": {},
   "outputs": [
    {
     "data": {
      "application/vnd.jupyter.widget-view+json": {
       "model_id": "a7c9bc32bec647108396a6768f869b73",
       "version_major": 2,
       "version_minor": 0
      },
      "text/plain": [
       "Filter:   0%|          | 0/24343 [00:00<?, ? examples/s]"
      ]
     },
     "metadata": {},
     "output_type": "display_data"
    },
    {
     "data": {
      "application/vnd.jupyter.widget-view+json": {
       "model_id": "6c7705006eb04e4eb69c88597a57f6aa",
       "version_major": 2,
       "version_minor": 0
      },
      "text/plain": [
       "Filter:   0%|          | 0/24343 [00:00<?, ? examples/s]"
      ]
     },
     "metadata": {},
     "output_type": "display_data"
    },
    {
     "data": {
      "application/vnd.jupyter.widget-view+json": {
       "model_id": "9770407bae22427482d2457d44c7f55d",
       "version_major": 2,
       "version_minor": 0
      },
      "text/plain": [
       "Map:   0%|          | 0/15000 [00:00<?, ? examples/s]"
      ]
     },
     "metadata": {},
     "output_type": "display_data"
    },
    {
     "data": {
      "application/vnd.jupyter.widget-view+json": {
       "model_id": "55058d9b8bae47ea9897d98a405ec390",
       "version_major": 2,
       "version_minor": 0
      },
      "text/plain": [
       "Filter:   0%|          | 0/53937 [00:00<?, ? examples/s]"
      ]
     },
     "metadata": {},
     "output_type": "display_data"
    },
    {
     "data": {
      "application/vnd.jupyter.widget-view+json": {
       "model_id": "6ea2704dedf14da981b607d1ae8fd9c5",
       "version_major": 2,
       "version_minor": 0
      },
      "text/plain": [
       "Filter:   0%|          | 0/53937 [00:00<?, ? examples/s]"
      ]
     },
     "metadata": {},
     "output_type": "display_data"
    },
    {
     "data": {
      "application/vnd.jupyter.widget-view+json": {
       "model_id": "9c3fb5ca40e945cd8c579da4edaa99c8",
       "version_major": 2,
       "version_minor": 0
      },
      "text/plain": [
       "Map:   0%|          | 0/15000 [00:00<?, ? examples/s]"
      ]
     },
     "metadata": {},
     "output_type": "display_data"
    },
    {
     "data": {
      "application/vnd.jupyter.widget-view+json": {
       "model_id": "91c8dfd1fd3542e8b3b488f94950dbd3",
       "version_major": 2,
       "version_minor": 0
      },
      "text/plain": [
       "Filter:   0%|          | 0/19999 [00:00<?, ? examples/s]"
      ]
     },
     "metadata": {},
     "output_type": "display_data"
    },
    {
     "data": {
      "application/vnd.jupyter.widget-view+json": {
       "model_id": "d0deeb9eb9da42b19eaab4c5c3c12716",
       "version_major": 2,
       "version_minor": 0
      },
      "text/plain": [
       "Filter:   0%|          | 0/19996 [00:00<?, ? examples/s]"
      ]
     },
     "metadata": {},
     "output_type": "display_data"
    },
    {
     "data": {
      "application/vnd.jupyter.widget-view+json": {
       "model_id": "6e9404273404414bad1aa6dfa820857d",
       "version_major": 2,
       "version_minor": 0
      },
      "text/plain": [
       "Map:   0%|          | 0/15000 [00:00<?, ? examples/s]"
      ]
     },
     "metadata": {},
     "output_type": "display_data"
    },
    {
     "name": "stdout",
     "output_type": "stream",
     "text": [
      "Cannot load dkhate dataset. Skipping it.\n",
      "Error details:```401 Client Error. (Request ID: Root=1-681c9262-7eb7e9421b6ade3b53ab501f;8f218bbf-5db7-4d2e-b2b7-4e6cb2e069eb)\n",
      "\n",
      "Cannot access gated repo for url https://huggingface.co/api/datasets/DDSC/dkhate/paths-info/main.\n",
      "Access to dataset DDSC/dkhate is restricted. You must have access to it and be authenticated to access it. Please log in.\n",
      "```\n",
      "Please check if you are logged in to Hugging Face Hub.\n",
      "You can do this by running `huggingface-cli login` in your terminal.\n",
      "Ensure you have access to the dataset: https://huggingface.co/datasets/DDSC/dkhate\n"
     ]
    }
   ],
   "source": [
    "domain = gqr.load_id_test_dataset()\n",
    "ood = gqr.load_ood_test_dataset()"
   ]
  },
  {
   "cell_type": "code",
   "execution_count": null,
   "id": "46d84b04",
   "metadata": {},
   "outputs": [],
   "source": [
    "model_id = \"meta-llama/Llama-Guard-3-1B\"\n",
    "save_path = model_id.replace(\"/\", \"_\")\n",
    "save_path = f\"custom_categories_{save_path}\"\n",
    "\n",
    "model = AutoModelForCausalLM.from_pretrained(\n",
    "    model_id,\n",
    "    torch_dtype=torch.bfloat16,\n",
    "    device_map=\"auto\",\n",
    ")\n",
    "tokenizer = AutoTokenizer.from_pretrained(model_id)\n",
    "tokenizer.pad_token = \"<|begin_of_text|>\""
   ]
  },
  {
   "cell_type": "code",
   "execution_count": null,
   "id": "3727a718",
   "metadata": {},
   "outputs": [],
   "source": [
    "def is_safe_question(input_texts: str) -> list:\n",
    "\n",
    "    conversation = [\n",
    "        {\n",
    "            \"role\": \"user\",\n",
    "            \"content\": [\n",
    "                {\"type\": \"text\", \"text\": input_texts},\n",
    "            ],\n",
    "        }\n",
    "    ]\n",
    "    input_ids = tokenizer.apply_chat_template(\n",
    "        conversation,\n",
    "        return_tensors=\"pt\",\n",
    "        categories={\n",
    "            \"S1\": \"Violent Crimes.\",\n",
    "            \"S2\": \"Non-Violent Crimes.\",\n",
    "            \"S3\": \"Sex Crimes. \",\n",
    "            \"S4\": \"Child Exploitation. \",\n",
    "            \"S5\": \"Defamation.\",\n",
    "            \"S6\": \"Specialized Advice.\",\n",
    "            \"S7\": \"Privacy.\",\n",
    "            \"S8\": \"Intellectual Property.\",\n",
    "            \"S9\": \"Indiscriminate Weapons.\",\n",
    "            \"S10\": \"Hate.\",\n",
    "            \"S11\": \"Self-Harm.\",\n",
    "            \"S12\": \"Sexual Content.\",\n",
    "            \"S13\": \"Elections.\",\n",
    "        },\n",
    "    ).to(model.device)\n",
    "    prompt_len = input_ids.shape[1]\n",
    "    output = model.generate(\n",
    "        input_ids,\n",
    "        max_new_tokens=20,\n",
    "        pad_token_id=0,\n",
    "    )\n",
    "    generated_tokens = output[:, prompt_len:]\n",
    "    return tokenizer.decode(generated_tokens[0]).replace(\"<|eot_id|>\", \"\").strip()\n"
   ]
  },
  {
   "cell_type": "code",
   "execution_count": null,
   "id": "b4533bde",
   "metadata": {},
   "outputs": [],
   "source": [
    "for index, row in tqdm(ood.iterrows(), total=len(ood)):\n",
    "    text = row[\"text\"]\n",
    "    is_safe = is_safe_question(text)\n",
    "    ood.at[index, \"is_safe\"] = is_safe\n",
    "ood.to_csv(f\"data/results/{save_path}_ood_results.csv\", index=False)"
   ]
  },
  {
   "cell_type": "code",
   "execution_count": null,
   "id": "1ed4bebd",
   "metadata": {},
   "outputs": [],
   "source": [
    "for index, row in tqdm(domain.iterrows(), total=len(domain)):\n",
    "    text = row[\"text\"]\n",
    "    is_safe = is_safe_question(text)\n",
    "    domain.at[index, \"is_safe\"] = is_safe\n",
    "domain.to_csv(f\"data/results/{save_path}_domain_results.csv\", index=False)"
   ]
  }
 ],
 "metadata": {
  "kernelspec": {
   "display_name": "Python 3 (ipykernel)",
   "language": "python",
   "name": "python3"
  },
  "language_info": {
   "codemirror_mode": {
    "name": "ipython",
    "version": 3
   },
   "file_extension": ".py",
   "mimetype": "text/x-python",
   "name": "python",
   "nbconvert_exporter": "python",
   "pygments_lexer": "ipython3",
   "version": "3.12.10"
  }
 },
 "nbformat": 4,
 "nbformat_minor": 5
}
