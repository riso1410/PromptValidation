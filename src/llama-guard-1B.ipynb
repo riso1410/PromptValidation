{
 "cells": [
  {
   "cell_type": "code",
   "execution_count": 2,
   "id": "bdf8bd69",
   "metadata": {},
   "outputs": [],
   "source": [
    "import os\n",
    "\n",
    "import gqr\n",
    "import torch\n",
    "from tqdm import tqdm\n",
    "from transformers import AutoModelForCausalLM, AutoTokenizer\n",
    "\n",
    "os.environ[\"TOKENIZERS_PARALLELISM\"] = \"false\""
   ]
  },
  {
   "cell_type": "code",
   "execution_count": 3,
   "id": "8ac5287a",
   "metadata": {},
   "outputs": [],
   "source": [
    "domain = gqr.load_id_test_dataset()\n",
    "ood = gqr.load_ood_test_dataset()"
   ]
  },
  {
   "cell_type": "code",
   "execution_count": null,
   "id": "46d84b04",
   "metadata": {},
   "outputs": [],
   "source": [
    "model_id = \"meta-llama/Llama-Guard-3-1B\"\n",
    "save_path = model_id.replace(\"/\", \"_\")\n",
    "save_path = f\"custom_categories_{save_path}\"\n",
    "\n",
    "model = AutoModelForCausalLM.from_pretrained(\n",
    "    model_id,\n",
    "    torch_dtype=torch.bfloat16,\n",
    "    device_map=\"auto\",\n",
    ")\n",
    "tokenizer = AutoTokenizer.from_pretrained(model_id)\n",
    "tokenizer.pad_token = \"<|begin_of_text|>\""
   ]
  },
  {
   "cell_type": "code",
   "execution_count": null,
   "id": "3727a718",
   "metadata": {},
   "outputs": [],
   "source": [
    "def is_safe_question(input_texts: str) -> list:\n",
    "\n",
    "    conversation = [\n",
    "        {\n",
    "            \"role\": \"user\",\n",
    "            \"content\": [\n",
    "                {\"type\": \"text\", \"text\": input_texts},\n",
    "            ],\n",
    "        }\n",
    "    ]\n",
    "    input_ids = tokenizer.apply_chat_template(\n",
    "        conversation,\n",
    "        return_tensors=\"pt\",\n",
    "        categories={\n",
    "            \"S1\": \"Violent Crimes.\",\n",
    "            \"S2\": \"Non-Violent Crimes.\",\n",
    "            \"S3\": \"Sex Crimes. \",\n",
    "            \"S4\": \"Child Exploitation. \",\n",
    "            \"S5\": \"Defamation.\",\n",
    "            \"S6\": \"Specialized Advice.\",\n",
    "            \"S7\": \"Privacy.\",\n",
    "            \"S8\": \"Intellectual Property.\",\n",
    "            \"S9\": \"Indiscriminate Weapons.\",\n",
    "            \"S10\": \"Hate.\",\n",
    "            \"S11\": \"Self-Harm.\",\n",
    "            \"S12\": \"Sexual Content.\",\n",
    "            \"S13\": \"Elections.\",\n",
    "        },\n",
    "    ).to(model.device)\n",
    "    prompt_len = input_ids.shape[1]\n",
    "    output = model.generate(\n",
    "        input_ids,\n",
    "        max_new_tokens=20,\n",
    "        pad_token_id=0,\n",
    "    )\n",
    "    generated_tokens = output[:, prompt_len:]\n",
    "    return tokenizer.decode(generated_tokens[0]).replace(\"<|eot_id|>\", \"\").strip()\n"
   ]
  },
  {
   "cell_type": "code",
   "execution_count": null,
   "id": "b4533bde",
   "metadata": {},
   "outputs": [],
   "source": [
    "for index, row in tqdm(ood.iterrows(), total=len(ood)):\n",
    "    text = row[\"text\"]\n",
    "    is_safe = is_safe_question(text)\n",
    "    ood.at[index, \"is_safe\"] = is_safe\n",
    "ood.to_csv(f\"data/results/{save_path}_ood_results.csv\", index=False)"
   ]
  },
  {
   "cell_type": "code",
   "execution_count": null,
   "id": "1ed4bebd",
   "metadata": {},
   "outputs": [],
   "source": [
    "for index, row in tqdm(domain.iterrows(), total=len(domain)):\n",
    "    text = row[\"text\"]\n",
    "    is_safe = is_safe_question(text)\n",
    "    domain.at[index, \"is_safe\"] = is_safe\n",
    "domain.to_csv(f\"data/results/{save_path}_domain_results.csv\", index=False)"
   ]
  }
 ],
 "metadata": {
  "kernelspec": {
   "display_name": ".venv",
   "language": "python",
   "name": "python3"
  },
  "language_info": {
   "codemirror_mode": {
    "name": "ipython",
    "version": 3
   },
   "file_extension": ".py",
   "mimetype": "text/x-python",
   "name": "python",
   "nbconvert_exporter": "python",
   "pygments_lexer": "ipython3",
   "version": "3.12.3"
  }
 },
 "nbformat": 4,
 "nbformat_minor": 5
}
