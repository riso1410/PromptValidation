{
 "cells": [
  {
   "cell_type": "code",
   "execution_count": 1,
   "id": "bdf8bd69",
   "metadata": {},
   "outputs": [
    {
     "name": "stderr",
     "output_type": "stream",
     "text": [
      "/Users/williambrach/Developer/guarded-query-router/.venv/lib/python3.12/site-packages/tqdm/auto.py:21: TqdmWarning: IProgress not found. Please update jupyter and ipywidgets. See https://ipywidgets.readthedocs.io/en/stable/user_install.html\n",
      "  from .autonotebook import tqdm as notebook_tqdm\n"
     ]
    }
   ],
   "source": [
    "import os\n",
    "\n",
    "import gqr\n",
    "import torch\n",
    "from tqdm import tqdm\n",
    "from transformers import AutoModelForCausalLM, AutoTokenizer\n",
    "\n",
    "os.environ[\"TOKENIZERS_PARALLELISM\"] = \"false\""
   ]
  },
  {
   "cell_type": "code",
   "execution_count": null,
   "id": "8ac5287a",
   "metadata": {},
   "outputs": [],
   "source": [
    "domain = gqr.load_id_test_dataset()\n",
    "ood = gqr.load_ood_test_dataset()"
   ]
  },
  {
   "cell_type": "code",
   "execution_count": null,
   "id": "46d84b04",
   "metadata": {},
   "outputs": [],
   "source": [
    "model_id = \"meta-llama/Llama-Guard-3-8B\"\n",
    "save_path = model_id.replace(\"/\", \"_\")\n",
    "save_path = f\"custom_categories_{save_path}\"\n",
    "device = \"cuda:0\"\n",
    "dtype = torch.bfloat16\n",
    "\n",
    "tokenizer = AutoTokenizer.from_pretrained(model_id)\n",
    "model = AutoModelForCausalLM.from_pretrained(model_id, torch_dtype=dtype, device_map=device)"
   ]
  },
  {
   "cell_type": "code",
   "execution_count": null,
   "id": "31c318c6",
   "metadata": {},
   "outputs": [],
   "source": [
    "def moderate(text : str) -> str:\n",
    "    chat = [\n",
    "    {\"role\": \"user\", \"content\": text},\n",
    "    ]\n",
    "    input_ids = tokenizer.apply_chat_template(chat, categories={\n",
    "            \"S1\": \"Violent Crimes.\",\n",
    "            \"S2\": \"Non-Violent Crimes.\",\n",
    "            \"S3\": \"Sex Crimes. \",\n",
    "            \"S4\": \"Child Exploitation. \",\n",
    "            \"S5\": \"Defamation.\",\n",
    "            # \"S6\": \"Specialized Advice.\",\n",
    "            \"S7\": \"Privacy.\",\n",
    "            \"S8\": \"Intellectual Property.\",\n",
    "            \"S9\": \"Indiscriminate Weapons.\",\n",
    "            \"S10\": \"Hate.\",\n",
    "            \"S11\": \"Self-Harm.\",\n",
    "            \"S12\": \"Sexual Content.\",\n",
    "            \"S13\": \"Elections.\"\n",
    "        },return_tensors=\"pt\").to(device)\n",
    "    output = model.generate(input_ids=input_ids, max_new_tokens=5, pad_token_id=0)\n",
    "    prompt_len = input_ids.shape[-1]\n",
    "    output = tokenizer.decode(output[0][prompt_len:], skip_special_tokens=True)\n",
    "    return output"
   ]
  },
  {
   "cell_type": "code",
   "execution_count": null,
   "id": "b4533bde",
   "metadata": {},
   "outputs": [],
   "source": [
    "for index, row in tqdm(ood.iterrows(), total=len(ood)):\n",
    "    text = row['text']\n",
    "    is_safe = moderate(text)\n",
    "    ood.at[index, 'is_safe'] = is_safe\n",
    "ood.to_csv(f\"data/results/{save_path}_ood_results.csv\", index=False)"
   ]
  },
  {
   "cell_type": "code",
   "execution_count": null,
   "id": "1ed4bebd",
   "metadata": {},
   "outputs": [],
   "source": [
    "for index, row in tqdm(domain.iterrows(), total=len(domain)):\n",
    "    text = row['text']\n",
    "    is_safe = moderate(text)\n",
    "    domain.at[index, 'is_safe'] = is_safe\n",
    "domain.to_csv(f\"data/results/{save_path}_domain_results.csv\", index=False)"
   ]
  }
 ],
 "metadata": {
  "kernelspec": {
   "display_name": ".venv",
   "language": "python",
   "name": "python3"
  },
  "language_info": {
   "codemirror_mode": {
    "name": "ipython",
    "version": 3
   },
   "file_extension": ".py",
   "mimetype": "text/x-python",
   "name": "python",
   "nbconvert_exporter": "python",
   "pygments_lexer": "ipython3",
   "version": "3.12.3"
  }
 },
 "nbformat": 4,
 "nbformat_minor": 5
}
