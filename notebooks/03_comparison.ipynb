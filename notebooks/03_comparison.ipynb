{
 "cells": [
  {
   "cell_type": "markdown",
   "metadata": {},
   "source": [
    "#TODO\n",
    "pridat timer aj pri embeddingu, fixnut LLM loopm, hodit do funkcii a prec z ntb do .py suboru tie loopy "
   ]
  },
  {
   "cell_type": "code",
   "execution_count": 1,
   "metadata": {},
   "outputs": [
    {
     "name": "stdout",
     "output_type": "stream",
     "text": [
      "c:\\Users\\risko\\Desktop\\Prompt-Classification\n"
     ]
    }
   ],
   "source": [
    "import os\n",
    "\n",
    "os.chdir(\"../\")\n",
    "print(os.getcwd())"
   ]
  },
  {
   "cell_type": "code",
   "execution_count": 2,
   "metadata": {},
   "outputs": [
    {
     "name": "stderr",
     "output_type": "stream",
     "text": [
      "c:\\Users\\risko\\miniconda3\\envs\\prompt-classification\\Lib\\site-packages\\tqdm\\auto.py:21: TqdmWarning: IProgress not found. Please update jupyter and ipywidgets. See https://ipywidgets.readthedocs.io/en/stable/user_install.html\n",
      "  from .autonotebook import tqdm as notebook_tqdm\n"
     ]
    }
   ],
   "source": [
    "import pickle\n",
    "import random\n",
    "import statistics\n",
    "import time\n",
    "\n",
    "import numpy as np\n",
    "import onnxruntime as ort\n",
    "import pandas as pd\n",
    "import torch\n",
    "from dotenv import load_dotenv\n",
    "from fastembed import TextEmbedding\n",
    "from sklearn import metrics\n",
    "from sklearn.feature_extraction.text import TfidfVectorizer\n",
    "from sklearn.svm import SVC\n",
    "from tqdm import tqdm\n",
    "from xgboost import XGBClassifier\n",
    "\n",
    "from prompt_classifier.metrics import evaluate\n",
    "from prompt_classifier.modeling.dspy_gpt import GPT4oMini\n",
    "from prompt_classifier.modeling.fasttext import FastTextClassifier\n",
    "from prompt_classifier.modeling.nli_modernbert import ModernBERTNLI\n",
    "\n",
    "load_dotenv()\n",
    "random.seed(42)"
   ]
  },
  {
   "cell_type": "code",
   "execution_count": 3,
   "metadata": {},
   "outputs": [
    {
     "name": "stdout",
     "output_type": "stream",
     "text": [
      "['TensorrtExecutionProvider', 'CUDAExecutionProvider', 'CPUExecutionProvider']\n"
     ]
    }
   ],
   "source": [
    "providers = ort.get_available_providers()\n",
    "\n",
    "print(providers)"
   ]
  },
  {
   "cell_type": "code",
   "execution_count": 4,
   "metadata": {},
   "outputs": [],
   "source": [
    "law_prompts = pd.read_csv(\"data/processed/law_prompts.csv\")\n",
    "general_prompts = pd.read_csv(\"data/processed/general_prompts.csv\")\n",
    "healthcare_prompts = pd.read_csv(\"data/processed/healthcare_prompts.csv\")\n",
    "finance_prompts = pd.read_csv(\"data/processed/finance_prompts.csv\")\n",
    "\n",
    "law_dataset = (\n",
    "    pd.concat([law_prompts, general_prompts]).sample(frac=1).reset_index(drop=True)\n",
    ")\n",
    "healthcare_dataset = (\n",
    "    pd.concat([healthcare_prompts, general_prompts])\n",
    "    .sample(frac=1)\n",
    "    .reset_index(drop=True)\n",
    ")\n",
    "finance_dataset = (\n",
    "    pd.concat([finance_prompts, general_prompts]).sample(frac=1).reset_index(drop=True)\n",
    ")\n",
    "\n",
    "datasets = {\n",
    "    \"law\": law_dataset,\n",
    "    \"healthcare\": healthcare_dataset,\n",
    "    \"finance\": finance_dataset,\n",
    "}"
   ]
  },
  {
   "cell_type": "code",
   "execution_count": 5,
   "metadata": {},
   "outputs": [],
   "source": [
    "law_prompts_interim = pd.read_csv(\"data/interim/law_prompts.csv\")\n",
    "general_prompts_interim = pd.read_csv(\"data/interim/general_prompts.csv\")\n",
    "healthcare_prompts_interim = pd.read_csv(\"data/interim/healthcare_prompts.csv\")\n",
    "finance_prompts_interim = pd.read_csv(\"data/interim/finance_prompts.csv\")\n",
    "\n",
    "law_dataset_interim = (\n",
    "    pd.concat([law_prompts_interim, general_prompts_interim])\n",
    "    .sample(frac=1)\n",
    "    .reset_index(drop=True)\n",
    ")\n",
    "healthcare_dataset_interim = (\n",
    "    pd.concat([healthcare_prompts_interim, general_prompts_interim])\n",
    "    .sample(frac=1)\n",
    "    .reset_index(drop=True)\n",
    ")\n",
    "finance_dataset_interim = (\n",
    "    pd.concat([finance_prompts_interim, general_prompts_interim])\n",
    "    .sample(frac=1)\n",
    "    .reset_index(drop=True)\n",
    ")\n",
    "\n",
    "datasets_interim = {\n",
    "    \"law\": law_dataset_interim,\n",
    "    \"healthcare\": healthcare_dataset_interim,\n",
    "    \"finance\": finance_dataset_interim,\n",
    "}"
   ]
  },
  {
   "cell_type": "code",
   "execution_count": 6,
   "metadata": {},
   "outputs": [],
   "source": [
    "baai_embedding = TextEmbedding(\n",
    "    model_name=\"BAAI/bge-small-en-v1.5\", providers=[\"CUDAExecutionProvider\"]\n",
    ")\n",
    "mini_embedding = TextEmbedding(\n",
    "    model_name=\"sentence-transformers/all-MiniLM-L6-v2\",\n",
    "    providers=[\"CUDAExecutionProvider\"],\n",
    ")\n",
    "\n",
    "tfidf_embedding = TfidfVectorizer()\n",
    "\n",
    "embedding_models = {\n",
    "    \"mini\": mini_embedding,\n",
    "    \"tfidf\": tfidf_embedding,\n",
    "    \"baai\": baai_embedding,\n",
    "}"
   ]
  },
  {
   "cell_type": "code",
   "execution_count": 7,
   "metadata": {},
   "outputs": [
    {
     "name": "stdout",
     "output_type": "stream",
     "text": [
      "BAAI-BGE available providers: ['CUDAExecutionProvider', 'CPUExecutionProvider']\n",
      "MiniLM available providers: ['CUDAExecutionProvider', 'CPUExecutionProvider']\n",
      "Using device: cuda\n"
     ]
    }
   ],
   "source": [
    "print(f\"BAAI-BGE available providers: {baai_embedding.model.model.get_providers()}\")\n",
    "print(f\"MiniLM available providers: {mini_embedding.model.model.get_providers()}\")\n",
    "\n",
    "device = torch.device(\"cuda\" if torch.cuda.is_available() else \"cpu\")\n",
    "print(f\"Using device: {device}\")\n",
    "\n",
    "torch._dynamo.config.suppress_errors = True # Suppresses warnings in ModernBERT"
   ]
  },
  {
   "cell_type": "markdown",
   "metadata": {},
   "source": [
    "# GPT and ModernBERT loop using interim data"
   ]
  },
  {
   "cell_type": "code",
   "execution_count": null,
   "metadata": {},
   "outputs": [
    {
     "name": "stdout",
     "output_type": "stream",
     "text": [
      "Going to sample between 1 and 8 traces per predictor.\n",
      "Will attempt to bootstrap 4 candidate sets.\n",
      "  0%|          | 0/22 [00:00<?, ?it/s]"
     ]
    },
    {
     "name": "stderr",
     "output_type": "stream",
     "text": [
      "\u001b[92m23:59:12 - LiteLLM:ERROR\u001b[0m: caching.py:645 - LiteLLM Cache: Excepton add_cache: no such column: \"size\" - should this be a string literal in single-quotes?\n",
      "Traceback (most recent call last):\n",
      "  File \"c:\\Users\\risko\\miniconda3\\envs\\prompt-classification\\Lib\\site-packages\\litellm\\caching\\caching.py\", line 643, in add_cache\n",
      "    self.cache.set_cache(cache_key, cached_data, **kwargs)\n",
      "  File \"c:\\Users\\risko\\miniconda3\\envs\\prompt-classification\\Lib\\site-packages\\litellm\\caching\\disk_cache.py\", line 28, in set_cache\n",
      "    self.disk_cache.set(key, value)\n",
      "  File \"c:\\Users\\risko\\miniconda3\\envs\\prompt-classification\\Lib\\site-packages\\diskcache\\core.py\", line 808, in set\n",
      "    self._row_insert(db_key, raw, now, columns)\n",
      "  File \"c:\\Users\\risko\\miniconda3\\envs\\prompt-classification\\Lib\\site-packages\\diskcache\\core.py\", line 857, in _row_insert\n",
      "    sql(\n",
      "sqlite3.OperationalError: no such column: \"size\" - should this be a string literal in single-quotes?\n"
     ]
    },
    {
     "name": "stdout",
     "output_type": "stream",
     "text": [
      "Average Metric: 1.00 / 1 (100.0%):   5%|▍         | 1/22 [00:00<00:13,  1.58it/s]"
     ]
    },
    {
     "name": "stderr",
     "output_type": "stream",
     "text": [
      "\u001b[92m23:59:12 - LiteLLM:ERROR\u001b[0m: caching.py:645 - LiteLLM Cache: Excepton add_cache: no such column: \"size\" - should this be a string literal in single-quotes?\n",
      "Traceback (most recent call last):\n",
      "  File \"c:\\Users\\risko\\miniconda3\\envs\\prompt-classification\\Lib\\site-packages\\litellm\\caching\\caching.py\", line 643, in add_cache\n",
      "    self.cache.set_cache(cache_key, cached_data, **kwargs)\n",
      "  File \"c:\\Users\\risko\\miniconda3\\envs\\prompt-classification\\Lib\\site-packages\\litellm\\caching\\disk_cache.py\", line 28, in set_cache\n",
      "    self.disk_cache.set(key, value)\n",
      "  File \"c:\\Users\\risko\\miniconda3\\envs\\prompt-classification\\Lib\\site-packages\\diskcache\\core.py\", line 808, in set\n",
      "    self._row_insert(db_key, raw, now, columns)\n",
      "  File \"c:\\Users\\risko\\miniconda3\\envs\\prompt-classification\\Lib\\site-packages\\diskcache\\core.py\", line 857, in _row_insert\n",
      "    sql(\n",
      "sqlite3.OperationalError: no such column: \"size\" - should this be a string literal in single-quotes?\n"
     ]
    },
    {
     "name": "stdout",
     "output_type": "stream",
     "text": [
      "Average Metric: 2.00 / 2 (100.0%):   5%|▍         | 1/22 [00:00<00:13,  1.58it/s]"
     ]
    },
    {
     "name": "stderr",
     "output_type": "stream",
     "text": [
      "\u001b[92m23:59:12 - LiteLLM:ERROR\u001b[0m: caching.py:645 - LiteLLM Cache: Excepton add_cache: no such column: \"size\" - should this be a string literal in single-quotes?\n",
      "Traceback (most recent call last):\n",
      "  File \"c:\\Users\\risko\\miniconda3\\envs\\prompt-classification\\Lib\\site-packages\\litellm\\caching\\caching.py\", line 643, in add_cache\n",
      "    self.cache.set_cache(cache_key, cached_data, **kwargs)\n",
      "  File \"c:\\Users\\risko\\miniconda3\\envs\\prompt-classification\\Lib\\site-packages\\litellm\\caching\\disk_cache.py\", line 28, in set_cache\n",
      "    self.disk_cache.set(key, value)\n",
      "  File \"c:\\Users\\risko\\miniconda3\\envs\\prompt-classification\\Lib\\site-packages\\diskcache\\core.py\", line 808, in set\n",
      "    self._row_insert(db_key, raw, now, columns)\n",
      "  File \"c:\\Users\\risko\\miniconda3\\envs\\prompt-classification\\Lib\\site-packages\\diskcache\\core.py\", line 857, in _row_insert\n",
      "    sql(\n",
      "sqlite3.OperationalError: no such column: \"size\" - should this be a string literal in single-quotes?\n"
     ]
    },
    {
     "name": "stdout",
     "output_type": "stream",
     "text": [
      "Average Metric: 3.00 / 3 (100.0%):  14%|█▎        | 3/22 [00:01<00:06,  2.94it/s]"
     ]
    },
    {
     "name": "stderr",
     "output_type": "stream",
     "text": [
      "\u001b[92m23:59:12 - LiteLLM:ERROR\u001b[0m: caching.py:645 - LiteLLM Cache: Excepton add_cache: no such column: \"size\" - should this be a string literal in single-quotes?\n",
      "Traceback (most recent call last):\n",
      "  File \"c:\\Users\\risko\\miniconda3\\envs\\prompt-classification\\Lib\\site-packages\\litellm\\caching\\caching.py\", line 643, in add_cache\n",
      "    self.cache.set_cache(cache_key, cached_data, **kwargs)\n",
      "  File \"c:\\Users\\risko\\miniconda3\\envs\\prompt-classification\\Lib\\site-packages\\litellm\\caching\\disk_cache.py\", line 28, in set_cache\n",
      "    self.disk_cache.set(key, value)\n",
      "  File \"c:\\Users\\risko\\miniconda3\\envs\\prompt-classification\\Lib\\site-packages\\diskcache\\core.py\", line 808, in set\n",
      "    self._row_insert(db_key, raw, now, columns)\n",
      "  File \"c:\\Users\\risko\\miniconda3\\envs\\prompt-classification\\Lib\\site-packages\\diskcache\\core.py\", line 857, in _row_insert\n",
      "    sql(\n",
      "sqlite3.OperationalError: no such column: \"size\" - should this be a string literal in single-quotes?\n"
     ]
    },
    {
     "name": "stdout",
     "output_type": "stream",
     "text": [
      "Average Metric: 4.00 / 4 (100.0%):  14%|█▎        | 3/22 [00:01<00:06,  2.94it/s]"
     ]
    },
    {
     "name": "stderr",
     "output_type": "stream",
     "text": [
      "\u001b[92m23:59:12 - LiteLLM:ERROR\u001b[0m: caching.py:645 - LiteLLM Cache: Excepton add_cache: no such column: \"size\" - should this be a string literal in single-quotes?\n",
      "Traceback (most recent call last):\n",
      "  File \"c:\\Users\\risko\\miniconda3\\envs\\prompt-classification\\Lib\\site-packages\\litellm\\caching\\caching.py\", line 643, in add_cache\n",
      "    self.cache.set_cache(cache_key, cached_data, **kwargs)\n",
      "  File \"c:\\Users\\risko\\miniconda3\\envs\\prompt-classification\\Lib\\site-packages\\litellm\\caching\\disk_cache.py\", line 28, in set_cache\n",
      "    self.disk_cache.set(key, value)\n",
      "  File \"c:\\Users\\risko\\miniconda3\\envs\\prompt-classification\\Lib\\site-packages\\diskcache\\core.py\", line 808, in set\n",
      "    self._row_insert(db_key, raw, now, columns)\n",
      "  File \"c:\\Users\\risko\\miniconda3\\envs\\prompt-classification\\Lib\\site-packages\\diskcache\\core.py\", line 857, in _row_insert\n",
      "    sql(\n",
      "sqlite3.OperationalError: no such column: \"size\" - should this be a string literal in single-quotes?\n"
     ]
    },
    {
     "name": "stdout",
     "output_type": "stream",
     "text": [
      "Average Metric: 5.00 / 5 (100.0%):  18%|█▊        | 4/22 [00:01<00:06,  2.94it/s]"
     ]
    },
    {
     "name": "stderr",
     "output_type": "stream",
     "text": [
      "\u001b[92m23:59:12 - LiteLLM:ERROR\u001b[0m: caching.py:645 - LiteLLM Cache: Excepton add_cache: no such column: \"size\" - should this be a string literal in single-quotes?\n",
      "Traceback (most recent call last):\n",
      "  File \"c:\\Users\\risko\\miniconda3\\envs\\prompt-classification\\Lib\\site-packages\\litellm\\caching\\caching.py\", line 643, in add_cache\n",
      "    self.cache.set_cache(cache_key, cached_data, **kwargs)\n",
      "  File \"c:\\Users\\risko\\miniconda3\\envs\\prompt-classification\\Lib\\site-packages\\litellm\\caching\\disk_cache.py\", line 28, in set_cache\n",
      "    self.disk_cache.set(key, value)\n",
      "  File \"c:\\Users\\risko\\miniconda3\\envs\\prompt-classification\\Lib\\site-packages\\diskcache\\core.py\", line 808, in set\n",
      "    self._row_insert(db_key, raw, now, columns)\n",
      "  File \"c:\\Users\\risko\\miniconda3\\envs\\prompt-classification\\Lib\\site-packages\\diskcache\\core.py\", line 857, in _row_insert\n",
      "    sql(\n",
      "sqlite3.OperationalError: no such column: \"size\" - should this be a string literal in single-quotes?\n"
     ]
    },
    {
     "name": "stdout",
     "output_type": "stream",
     "text": [
      "Average Metric: 6.00 / 6 (100.0%):  27%|██▋       | 6/22 [00:01<00:03,  5.21it/s]"
     ]
    },
    {
     "name": "stderr",
     "output_type": "stream",
     "text": [
      "\u001b[92m23:59:12 - LiteLLM:ERROR\u001b[0m: caching.py:645 - LiteLLM Cache: Excepton add_cache: no such column: \"size\" - should this be a string literal in single-quotes?\n",
      "Traceback (most recent call last):\n",
      "  File \"c:\\Users\\risko\\miniconda3\\envs\\prompt-classification\\Lib\\site-packages\\litellm\\caching\\caching.py\", line 643, in add_cache\n",
      "    self.cache.set_cache(cache_key, cached_data, **kwargs)\n",
      "  File \"c:\\Users\\risko\\miniconda3\\envs\\prompt-classification\\Lib\\site-packages\\litellm\\caching\\disk_cache.py\", line 28, in set_cache\n",
      "    self.disk_cache.set(key, value)\n",
      "  File \"c:\\Users\\risko\\miniconda3\\envs\\prompt-classification\\Lib\\site-packages\\diskcache\\core.py\", line 808, in set\n",
      "    self._row_insert(db_key, raw, now, columns)\n",
      "  File \"c:\\Users\\risko\\miniconda3\\envs\\prompt-classification\\Lib\\site-packages\\diskcache\\core.py\", line 857, in _row_insert\n",
      "    sql(\n",
      "sqlite3.OperationalError: no such column: \"size\" - should this be a string literal in single-quotes?\n"
     ]
    },
    {
     "name": "stdout",
     "output_type": "stream",
     "text": [
      "Average Metric: 7.00 / 7 (100.0%):  27%|██▋       | 6/22 [00:01<00:03,  5.21it/s]"
     ]
    },
    {
     "name": "stderr",
     "output_type": "stream",
     "text": [
      "\u001b[92m23:59:12 - LiteLLM:ERROR\u001b[0m: caching.py:645 - LiteLLM Cache: Excepton add_cache: no such column: \"size\" - should this be a string literal in single-quotes?\n",
      "Traceback (most recent call last):\n",
      "  File \"c:\\Users\\risko\\miniconda3\\envs\\prompt-classification\\Lib\\site-packages\\litellm\\caching\\caching.py\", line 643, in add_cache\n",
      "    self.cache.set_cache(cache_key, cached_data, **kwargs)\n",
      "  File \"c:\\Users\\risko\\miniconda3\\envs\\prompt-classification\\Lib\\site-packages\\litellm\\caching\\disk_cache.py\", line 28, in set_cache\n",
      "    self.disk_cache.set(key, value)\n",
      "  File \"c:\\Users\\risko\\miniconda3\\envs\\prompt-classification\\Lib\\site-packages\\diskcache\\core.py\", line 808, in set\n",
      "    self._row_insert(db_key, raw, now, columns)\n",
      "  File \"c:\\Users\\risko\\miniconda3\\envs\\prompt-classification\\Lib\\site-packages\\diskcache\\core.py\", line 857, in _row_insert\n",
      "    sql(\n",
      "sqlite3.OperationalError: no such column: \"size\" - should this be a string literal in single-quotes?\n"
     ]
    },
    {
     "name": "stdout",
     "output_type": "stream",
     "text": [
      "Average Metric: 8.00 / 8 (100.0%):  32%|███▏      | 7/22 [00:01<00:02,  5.21it/s]"
     ]
    },
    {
     "name": "stderr",
     "output_type": "stream",
     "text": [
      "\u001b[92m23:59:12 - LiteLLM:ERROR\u001b[0m: caching.py:645 - LiteLLM Cache: Excepton add_cache: no such column: \"size\" - should this be a string literal in single-quotes?\n",
      "Traceback (most recent call last):\n",
      "  File \"c:\\Users\\risko\\miniconda3\\envs\\prompt-classification\\Lib\\site-packages\\litellm\\caching\\caching.py\", line 643, in add_cache\n",
      "    self.cache.set_cache(cache_key, cached_data, **kwargs)\n",
      "  File \"c:\\Users\\risko\\miniconda3\\envs\\prompt-classification\\Lib\\site-packages\\litellm\\caching\\disk_cache.py\", line 28, in set_cache\n",
      "    self.disk_cache.set(key, value)\n",
      "  File \"c:\\Users\\risko\\miniconda3\\envs\\prompt-classification\\Lib\\site-packages\\diskcache\\core.py\", line 808, in set\n",
      "    self._row_insert(db_key, raw, now, columns)\n",
      "  File \"c:\\Users\\risko\\miniconda3\\envs\\prompt-classification\\Lib\\site-packages\\diskcache\\core.py\", line 857, in _row_insert\n",
      "    sql(\n",
      "sqlite3.OperationalError: no such column: \"size\" - should this be a string literal in single-quotes?\n",
      "\u001b[92m23:59:12 - LiteLLM:ERROR\u001b[0m: caching.py:645 - LiteLLM Cache: Excepton add_cache: no such column: \"size\" - should this be a string literal in single-quotes?\n",
      "Traceback (most recent call last):\n",
      "  File \"c:\\Users\\risko\\miniconda3\\envs\\prompt-classification\\Lib\\site-packages\\litellm\\caching\\caching.py\", line 643, in add_cache\n",
      "    self.cache.set_cache(cache_key, cached_data, **kwargs)\n",
      "  File \"c:\\Users\\risko\\miniconda3\\envs\\prompt-classification\\Lib\\site-packages\\litellm\\caching\\disk_cache.py\", line 28, in set_cache\n",
      "    self.disk_cache.set(key, value)\n",
      "  File \"c:\\Users\\risko\\miniconda3\\envs\\prompt-classification\\Lib\\site-packages\\diskcache\\core.py\", line 808, in set\n",
      "    self._row_insert(db_key, raw, now, columns)\n",
      "  File \"c:\\Users\\risko\\miniconda3\\envs\\prompt-classification\\Lib\\site-packages\\diskcache\\core.py\", line 857, in _row_insert\n",
      "    sql(\n",
      "sqlite3.OperationalError: no such column: \"size\" - should this be a string literal in single-quotes?\n"
     ]
    },
    {
     "name": "stdout",
     "output_type": "stream",
     "text": [
      "Average Metric: 10.00 / 10 (100.0%):  41%|████      | 9/22 [00:01<00:01,  8.47it/s]"
     ]
    },
    {
     "name": "stderr",
     "output_type": "stream",
     "text": [
      "\u001b[92m23:59:12 - LiteLLM:ERROR\u001b[0m: caching.py:645 - LiteLLM Cache: Excepton add_cache: no such column: \"size\" - should this be a string literal in single-quotes?\n",
      "Traceback (most recent call last):\n",
      "  File \"c:\\Users\\risko\\miniconda3\\envs\\prompt-classification\\Lib\\site-packages\\litellm\\caching\\caching.py\", line 643, in add_cache\n",
      "    self.cache.set_cache(cache_key, cached_data, **kwargs)\n",
      "  File \"c:\\Users\\risko\\miniconda3\\envs\\prompt-classification\\Lib\\site-packages\\litellm\\caching\\disk_cache.py\", line 28, in set_cache\n",
      "    self.disk_cache.set(key, value)\n",
      "  File \"c:\\Users\\risko\\miniconda3\\envs\\prompt-classification\\Lib\\site-packages\\diskcache\\core.py\", line 808, in set\n",
      "    self._row_insert(db_key, raw, now, columns)\n",
      "  File \"c:\\Users\\risko\\miniconda3\\envs\\prompt-classification\\Lib\\site-packages\\diskcache\\core.py\", line 857, in _row_insert\n",
      "    sql(\n",
      "sqlite3.OperationalError: no such column: \"size\" - should this be a string literal in single-quotes?\n"
     ]
    },
    {
     "name": "stdout",
     "output_type": "stream",
     "text": [
      "Average Metric: 11.00 / 11 (100.0%):  45%|████▌     | 10/22 [00:01<00:01,  8.47it/s]"
     ]
    },
    {
     "name": "stderr",
     "output_type": "stream",
     "text": [
      "\u001b[92m23:59:13 - LiteLLM:ERROR\u001b[0m: caching.py:645 - LiteLLM Cache: Excepton add_cache: no such column: \"size\" - should this be a string literal in single-quotes?\n",
      "Traceback (most recent call last):\n",
      "  File \"c:\\Users\\risko\\miniconda3\\envs\\prompt-classification\\Lib\\site-packages\\litellm\\caching\\caching.py\", line 643, in add_cache\n",
      "    self.cache.set_cache(cache_key, cached_data, **kwargs)\n",
      "  File \"c:\\Users\\risko\\miniconda3\\envs\\prompt-classification\\Lib\\site-packages\\litellm\\caching\\disk_cache.py\", line 28, in set_cache\n",
      "    self.disk_cache.set(key, value)\n",
      "  File \"c:\\Users\\risko\\miniconda3\\envs\\prompt-classification\\Lib\\site-packages\\diskcache\\core.py\", line 808, in set\n",
      "    self._row_insert(db_key, raw, now, columns)\n",
      "  File \"c:\\Users\\risko\\miniconda3\\envs\\prompt-classification\\Lib\\site-packages\\diskcache\\core.py\", line 857, in _row_insert\n",
      "    sql(\n",
      "sqlite3.OperationalError: no such column: \"size\" - should this be a string literal in single-quotes?\n"
     ]
    },
    {
     "name": "stdout",
     "output_type": "stream",
     "text": [
      "Average Metric: 12.00 / 12 (100.0%):  55%|█████▍    | 12/22 [00:01<00:01,  9.81it/s]"
     ]
    },
    {
     "name": "stderr",
     "output_type": "stream",
     "text": [
      "\u001b[92m23:59:13 - LiteLLM:ERROR\u001b[0m: caching.py:645 - LiteLLM Cache: Excepton add_cache: no such column: \"size\" - should this be a string literal in single-quotes?\n",
      "Traceback (most recent call last):\n",
      "  File \"c:\\Users\\risko\\miniconda3\\envs\\prompt-classification\\Lib\\site-packages\\litellm\\caching\\caching.py\", line 643, in add_cache\n",
      "    self.cache.set_cache(cache_key, cached_data, **kwargs)\n",
      "  File \"c:\\Users\\risko\\miniconda3\\envs\\prompt-classification\\Lib\\site-packages\\litellm\\caching\\disk_cache.py\", line 28, in set_cache\n",
      "    self.disk_cache.set(key, value)\n",
      "  File \"c:\\Users\\risko\\miniconda3\\envs\\prompt-classification\\Lib\\site-packages\\diskcache\\core.py\", line 808, in set\n",
      "    self._row_insert(db_key, raw, now, columns)\n",
      "  File \"c:\\Users\\risko\\miniconda3\\envs\\prompt-classification\\Lib\\site-packages\\diskcache\\core.py\", line 857, in _row_insert\n",
      "    sql(\n",
      "sqlite3.OperationalError: no such column: \"size\" - should this be a string literal in single-quotes?\n"
     ]
    },
    {
     "name": "stdout",
     "output_type": "stream",
     "text": [
      "Average Metric: 13.00 / 13 (100.0%):  55%|█████▍    | 12/22 [00:01<00:01,  9.81it/s]"
     ]
    },
    {
     "name": "stderr",
     "output_type": "stream",
     "text": [
      "\u001b[92m23:59:13 - LiteLLM:ERROR\u001b[0m: caching.py:645 - LiteLLM Cache: Excepton add_cache: no such column: \"size\" - should this be a string literal in single-quotes?\n",
      "Traceback (most recent call last):\n",
      "  File \"c:\\Users\\risko\\miniconda3\\envs\\prompt-classification\\Lib\\site-packages\\litellm\\caching\\caching.py\", line 643, in add_cache\n",
      "    self.cache.set_cache(cache_key, cached_data, **kwargs)\n",
      "  File \"c:\\Users\\risko\\miniconda3\\envs\\prompt-classification\\Lib\\site-packages\\litellm\\caching\\disk_cache.py\", line 28, in set_cache\n",
      "    self.disk_cache.set(key, value)\n",
      "  File \"c:\\Users\\risko\\miniconda3\\envs\\prompt-classification\\Lib\\site-packages\\diskcache\\core.py\", line 808, in set\n",
      "    self._row_insert(db_key, raw, now, columns)\n",
      "  File \"c:\\Users\\risko\\miniconda3\\envs\\prompt-classification\\Lib\\site-packages\\diskcache\\core.py\", line 857, in _row_insert\n",
      "    sql(\n",
      "sqlite3.OperationalError: no such column: \"size\" - should this be a string literal in single-quotes?\n"
     ]
    },
    {
     "name": "stdout",
     "output_type": "stream",
     "text": [
      "Average Metric: 14.00 / 14 (100.0%):  64%|██████▎   | 14/22 [00:01<00:00, 10.40it/s]"
     ]
    },
    {
     "name": "stderr",
     "output_type": "stream",
     "text": [
      "\u001b[92m23:59:13 - LiteLLM:ERROR\u001b[0m: caching.py:645 - LiteLLM Cache: Excepton add_cache: no such column: \"size\" - should this be a string literal in single-quotes?\n",
      "Traceback (most recent call last):\n",
      "  File \"c:\\Users\\risko\\miniconda3\\envs\\prompt-classification\\Lib\\site-packages\\litellm\\caching\\caching.py\", line 643, in add_cache\n",
      "    self.cache.set_cache(cache_key, cached_data, **kwargs)\n",
      "  File \"c:\\Users\\risko\\miniconda3\\envs\\prompt-classification\\Lib\\site-packages\\litellm\\caching\\disk_cache.py\", line 28, in set_cache\n",
      "    self.disk_cache.set(key, value)\n",
      "  File \"c:\\Users\\risko\\miniconda3\\envs\\prompt-classification\\Lib\\site-packages\\diskcache\\core.py\", line 808, in set\n",
      "    self._row_insert(db_key, raw, now, columns)\n",
      "  File \"c:\\Users\\risko\\miniconda3\\envs\\prompt-classification\\Lib\\site-packages\\diskcache\\core.py\", line 857, in _row_insert\n",
      "    sql(\n",
      "sqlite3.OperationalError: no such column: \"size\" - should this be a string literal in single-quotes?\n"
     ]
    },
    {
     "name": "stdout",
     "output_type": "stream",
     "text": [
      "Average Metric: 15.00 / 15 (100.0%):  64%|██████▎   | 14/22 [00:01<00:00, 10.40it/s]"
     ]
    },
    {
     "name": "stderr",
     "output_type": "stream",
     "text": [
      "\u001b[92m23:59:13 - LiteLLM:ERROR\u001b[0m: caching.py:645 - LiteLLM Cache: Excepton add_cache: no such column: \"size\" - should this be a string literal in single-quotes?\n",
      "Traceback (most recent call last):\n",
      "  File \"c:\\Users\\risko\\miniconda3\\envs\\prompt-classification\\Lib\\site-packages\\litellm\\caching\\caching.py\", line 643, in add_cache\n",
      "    self.cache.set_cache(cache_key, cached_data, **kwargs)\n",
      "  File \"c:\\Users\\risko\\miniconda3\\envs\\prompt-classification\\Lib\\site-packages\\litellm\\caching\\disk_cache.py\", line 28, in set_cache\n",
      "    self.disk_cache.set(key, value)\n",
      "  File \"c:\\Users\\risko\\miniconda3\\envs\\prompt-classification\\Lib\\site-packages\\diskcache\\core.py\", line 808, in set\n",
      "    self._row_insert(db_key, raw, now, columns)\n",
      "  File \"c:\\Users\\risko\\miniconda3\\envs\\prompt-classification\\Lib\\site-packages\\diskcache\\core.py\", line 857, in _row_insert\n",
      "    sql(\n",
      "sqlite3.OperationalError: no such column: \"size\" - should this be a string literal in single-quotes?\n"
     ]
    },
    {
     "name": "stdout",
     "output_type": "stream",
     "text": [
      "Average Metric: 16.00 / 16 (100.0%):  73%|███████▎  | 16/22 [00:02<00:00,  8.66it/s]"
     ]
    },
    {
     "name": "stderr",
     "output_type": "stream",
     "text": [
      "\u001b[92m23:59:13 - LiteLLM:ERROR\u001b[0m: caching.py:645 - LiteLLM Cache: Excepton add_cache: no such column: \"size\" - should this be a string literal in single-quotes?\n",
      "Traceback (most recent call last):\n",
      "  File \"c:\\Users\\risko\\miniconda3\\envs\\prompt-classification\\Lib\\site-packages\\litellm\\caching\\caching.py\", line 643, in add_cache\n",
      "    self.cache.set_cache(cache_key, cached_data, **kwargs)\n",
      "  File \"c:\\Users\\risko\\miniconda3\\envs\\prompt-classification\\Lib\\site-packages\\litellm\\caching\\disk_cache.py\", line 28, in set_cache\n",
      "    self.disk_cache.set(key, value)\n",
      "  File \"c:\\Users\\risko\\miniconda3\\envs\\prompt-classification\\Lib\\site-packages\\diskcache\\core.py\", line 808, in set\n",
      "    self._row_insert(db_key, raw, now, columns)\n",
      "  File \"c:\\Users\\risko\\miniconda3\\envs\\prompt-classification\\Lib\\site-packages\\diskcache\\core.py\", line 857, in _row_insert\n",
      "    sql(\n",
      "sqlite3.OperationalError: no such column: \"size\" - should this be a string literal in single-quotes?\n"
     ]
    },
    {
     "name": "stdout",
     "output_type": "stream",
     "text": [
      "Average Metric: 17.00 / 17 (100.0%):  73%|███████▎  | 16/22 [00:02<00:00,  8.66it/s]"
     ]
    },
    {
     "name": "stderr",
     "output_type": "stream",
     "text": [
      "\u001b[92m23:59:13 - LiteLLM:ERROR\u001b[0m: caching.py:645 - LiteLLM Cache: Excepton add_cache: no such column: \"size\" - should this be a string literal in single-quotes?\n",
      "Traceback (most recent call last):\n",
      "  File \"c:\\Users\\risko\\miniconda3\\envs\\prompt-classification\\Lib\\site-packages\\litellm\\caching\\caching.py\", line 643, in add_cache\n",
      "    self.cache.set_cache(cache_key, cached_data, **kwargs)\n",
      "  File \"c:\\Users\\risko\\miniconda3\\envs\\prompt-classification\\Lib\\site-packages\\litellm\\caching\\disk_cache.py\", line 28, in set_cache\n",
      "    self.disk_cache.set(key, value)\n",
      "  File \"c:\\Users\\risko\\miniconda3\\envs\\prompt-classification\\Lib\\site-packages\\diskcache\\core.py\", line 808, in set\n",
      "    self._row_insert(db_key, raw, now, columns)\n",
      "  File \"c:\\Users\\risko\\miniconda3\\envs\\prompt-classification\\Lib\\site-packages\\diskcache\\core.py\", line 857, in _row_insert\n",
      "    sql(\n",
      "sqlite3.OperationalError: no such column: \"size\" - should this be a string literal in single-quotes?\n"
     ]
    },
    {
     "name": "stdout",
     "output_type": "stream",
     "text": [
      "Average Metric: 18.00 / 18 (100.0%):  82%|████████▏ | 18/22 [00:02<00:00,  7.88it/s]"
     ]
    },
    {
     "name": "stderr",
     "output_type": "stream",
     "text": [
      "\u001b[92m23:59:13 - LiteLLM:ERROR\u001b[0m: caching.py:645 - LiteLLM Cache: Excepton add_cache: no such column: \"size\" - should this be a string literal in single-quotes?\n",
      "Traceback (most recent call last):\n",
      "  File \"c:\\Users\\risko\\miniconda3\\envs\\prompt-classification\\Lib\\site-packages\\litellm\\caching\\caching.py\", line 643, in add_cache\n",
      "    self.cache.set_cache(cache_key, cached_data, **kwargs)\n",
      "  File \"c:\\Users\\risko\\miniconda3\\envs\\prompt-classification\\Lib\\site-packages\\litellm\\caching\\disk_cache.py\", line 28, in set_cache\n",
      "    self.disk_cache.set(key, value)\n",
      "  File \"c:\\Users\\risko\\miniconda3\\envs\\prompt-classification\\Lib\\site-packages\\diskcache\\core.py\", line 808, in set\n",
      "    self._row_insert(db_key, raw, now, columns)\n",
      "  File \"c:\\Users\\risko\\miniconda3\\envs\\prompt-classification\\Lib\\site-packages\\diskcache\\core.py\", line 857, in _row_insert\n",
      "    sql(\n",
      "sqlite3.OperationalError: no such column: \"size\" - should this be a string literal in single-quotes?\n"
     ]
    },
    {
     "name": "stdout",
     "output_type": "stream",
     "text": [
      "Average Metric: 19.00 / 19 (100.0%):  82%|████████▏ | 18/22 [00:02<00:00,  7.88it/s]"
     ]
    },
    {
     "name": "stderr",
     "output_type": "stream",
     "text": [
      "\u001b[92m23:59:14 - LiteLLM:ERROR\u001b[0m: caching.py:645 - LiteLLM Cache: Excepton add_cache: no such column: \"size\" - should this be a string literal in single-quotes?\n",
      "Traceback (most recent call last):\n",
      "  File \"c:\\Users\\risko\\miniconda3\\envs\\prompt-classification\\Lib\\site-packages\\litellm\\caching\\caching.py\", line 643, in add_cache\n",
      "    self.cache.set_cache(cache_key, cached_data, **kwargs)\n",
      "  File \"c:\\Users\\risko\\miniconda3\\envs\\prompt-classification\\Lib\\site-packages\\litellm\\caching\\disk_cache.py\", line 28, in set_cache\n",
      "    self.disk_cache.set(key, value)\n",
      "  File \"c:\\Users\\risko\\miniconda3\\envs\\prompt-classification\\Lib\\site-packages\\diskcache\\core.py\", line 808, in set\n",
      "    self._row_insert(db_key, raw, now, columns)\n",
      "  File \"c:\\Users\\risko\\miniconda3\\envs\\prompt-classification\\Lib\\site-packages\\diskcache\\core.py\", line 857, in _row_insert\n",
      "    sql(\n",
      "sqlite3.OperationalError: no such column: \"size\" - should this be a string literal in single-quotes?\n"
     ]
    },
    {
     "name": "stdout",
     "output_type": "stream",
     "text": [
      "Average Metric: 20.00 / 20 (100.0%):  91%|█████████ | 20/22 [00:02<00:00,  8.77it/s]"
     ]
    },
    {
     "name": "stderr",
     "output_type": "stream",
     "text": [
      "\u001b[92m23:59:14 - LiteLLM:ERROR\u001b[0m: caching.py:645 - LiteLLM Cache: Excepton add_cache: no such column: \"size\" - should this be a string literal in single-quotes?\n",
      "Traceback (most recent call last):\n",
      "  File \"c:\\Users\\risko\\miniconda3\\envs\\prompt-classification\\Lib\\site-packages\\litellm\\caching\\caching.py\", line 643, in add_cache\n",
      "    self.cache.set_cache(cache_key, cached_data, **kwargs)\n",
      "  File \"c:\\Users\\risko\\miniconda3\\envs\\prompt-classification\\Lib\\site-packages\\litellm\\caching\\disk_cache.py\", line 28, in set_cache\n",
      "    self.disk_cache.set(key, value)\n",
      "  File \"c:\\Users\\risko\\miniconda3\\envs\\prompt-classification\\Lib\\site-packages\\diskcache\\core.py\", line 808, in set\n",
      "    self._row_insert(db_key, raw, now, columns)\n",
      "  File \"c:\\Users\\risko\\miniconda3\\envs\\prompt-classification\\Lib\\site-packages\\diskcache\\core.py\", line 857, in _row_insert\n",
      "    sql(\n",
      "sqlite3.OperationalError: no such column: \"size\" - should this be a string literal in single-quotes?\n"
     ]
    },
    {
     "name": "stdout",
     "output_type": "stream",
     "text": [
      "Average Metric: 21.00 / 21 (100.0%):  91%|█████████ | 20/22 [00:03<00:00,  8.77it/s]"
     ]
    },
    {
     "name": "stderr",
     "output_type": "stream",
     "text": [
      "\u001b[92m23:59:14 - LiteLLM:ERROR\u001b[0m: caching.py:645 - LiteLLM Cache: Excepton add_cache: no such column: \"size\" - should this be a string literal in single-quotes?\n",
      "Traceback (most recent call last):\n",
      "  File \"c:\\Users\\risko\\miniconda3\\envs\\prompt-classification\\Lib\\site-packages\\litellm\\llms\\openai\\openai.py\", line 726, in completion\n",
      "    raise e\n",
      "  File \"c:\\Users\\risko\\miniconda3\\envs\\prompt-classification\\Lib\\site-packages\\litellm\\llms\\openai\\openai.py\", line 653, in completion\n",
      "    self.make_sync_openai_chat_completion_request(\n",
      "  File \"c:\\Users\\risko\\miniconda3\\envs\\prompt-classification\\Lib\\site-packages\\litellm\\litellm_core_utils\\logging_utils.py\", line 145, in sync_wrapper\n",
      "    result = func(*args, **kwargs)\n",
      "             ^^^^^^^^^^^^^^^^^^^^^\n",
      "  File \"c:\\Users\\risko\\miniconda3\\envs\\prompt-classification\\Lib\\site-packages\\litellm\\llms\\openai\\openai.py\", line 472, in make_sync_openai_chat_completion_request\n",
      "    raise e\n",
      "  File \"c:\\Users\\risko\\miniconda3\\envs\\prompt-classification\\Lib\\site-packages\\litellm\\llms\\openai\\openai.py\", line 454, in make_sync_openai_chat_completion_request\n",
      "    raw_response = openai_client.chat.completions.with_raw_response.create(\n",
      "                   ^^^^^^^^^^^^^^^^^^^^^^^^^^^^^^^^^^^^^^^^^^^^^^^^^^^^^^^^\n",
      "  File \"c:\\Users\\risko\\miniconda3\\envs\\prompt-classification\\Lib\\site-packages\\openai\\_legacy_response.py\", line 364, in wrapped\n",
      "    return cast(LegacyAPIResponse[R], func(*args, **kwargs))\n",
      "                                      ^^^^^^^^^^^^^^^^^^^^^\n",
      "  File \"c:\\Users\\risko\\miniconda3\\envs\\prompt-classification\\Lib\\site-packages\\openai\\_utils\\_utils.py\", line 279, in wrapper\n",
      "    return func(*args, **kwargs)\n",
      "           ^^^^^^^^^^^^^^^^^^^^^\n",
      "  File \"c:\\Users\\risko\\miniconda3\\envs\\prompt-classification\\Lib\\site-packages\\openai\\resources\\chat\\completions\\completions.py\", line 879, in create\n",
      "    return self._post(\n",
      "           ^^^^^^^^^^^\n",
      "  File \"c:\\Users\\risko\\miniconda3\\envs\\prompt-classification\\Lib\\site-packages\\openai\\_base_client.py\", line 1290, in post\n",
      "    return cast(ResponseT, self.request(cast_to, opts, stream=stream, stream_cls=stream_cls))\n",
      "                           ^^^^^^^^^^^^^^^^^^^^^^^^^^^^^^^^^^^^^^^^^^^^^^^^^^^^^^^^^^^^^^^^^\n",
      "  File \"c:\\Users\\risko\\miniconda3\\envs\\prompt-classification\\Lib\\site-packages\\openai\\_base_client.py\", line 967, in request\n",
      "    return self._request(\n",
      "           ^^^^^^^^^^^^^^\n",
      "  File \"c:\\Users\\risko\\miniconda3\\envs\\prompt-classification\\Lib\\site-packages\\openai\\_base_client.py\", line 1071, in _request\n",
      "    raise self._make_status_error_from_response(err.response) from None\n",
      "openai.BadRequestError: Error code: 400 - {'error': {'message': \"litellm.BadRequestError: litellm.ContentPolicyViolationError: litellm.ContentPolicyViolationError: AzureException - The response was filtered due to the prompt triggering Azure OpenAI's content management policy. Please modify your prompt and retry. To learn more about our content filtering policies please read our documentation: https://go.microsoft.com/fwlink/?linkid=2198766\\nmodel=gpt-4o-mini. content_policy_fallback=None. fallbacks=None.\\n\\nSet 'content_policy_fallback' - https://docs.litellm.ai/docs/routing#fallbacks. Received Model Group=gpt-4o-mini\\nAvailable Model Group Fallbacks=None\", 'type': None, 'param': None, 'code': '400'}}\n",
      "\n",
      "During handling of the above exception, another exception occurred:\n",
      "\n",
      "Traceback (most recent call last):\n",
      "  File \"c:\\Users\\risko\\miniconda3\\envs\\prompt-classification\\Lib\\site-packages\\litellm\\main.py\", line 1724, in completion\n",
      "    raise e\n",
      "  File \"c:\\Users\\risko\\miniconda3\\envs\\prompt-classification\\Lib\\site-packages\\litellm\\main.py\", line 1697, in completion\n",
      "    response = openai_chat_completions.completion(\n",
      "               ^^^^^^^^^^^^^^^^^^^^^^^^^^^^^^^^^^^\n",
      "  File \"c:\\Users\\risko\\miniconda3\\envs\\prompt-classification\\Lib\\site-packages\\litellm\\llms\\openai\\openai.py\", line 736, in completion\n",
      "    raise OpenAIError(\n",
      "litellm.llms.openai.common_utils.OpenAIError: Error code: 400 - {'error': {'message': \"litellm.BadRequestError: litellm.ContentPolicyViolationError: litellm.ContentPolicyViolationError: AzureException - The response was filtered due to the prompt triggering Azure OpenAI's content management policy. Please modify your prompt and retry. To learn more about our content filtering policies please read our documentation: https://go.microsoft.com/fwlink/?linkid=2198766\\nmodel=gpt-4o-mini. content_policy_fallback=None. fallbacks=None.\\n\\nSet 'content_policy_fallback' - https://docs.litellm.ai/docs/routing#fallbacks. Received Model Group=gpt-4o-mini\\nAvailable Model Group Fallbacks=None\", 'type': None, 'param': None, 'code': '400'}}\n",
      "\n",
      "During handling of the above exception, another exception occurred:\n",
      "\n",
      "Traceback (most recent call last):\n",
      "  File \"c:\\Users\\risko\\miniconda3\\envs\\prompt-classification\\Lib\\site-packages\\litellm\\utils.py\", line 1068, in wrapper\n",
      "    result = original_function(*args, **kwargs)\n",
      "             ^^^^^^^^^^^^^^^^^^^^^^^^^^^^^^^^^^\n",
      "  File \"c:\\Users\\risko\\miniconda3\\envs\\prompt-classification\\Lib\\site-packages\\litellm\\main.py\", line 3085, in completion\n",
      "    raise exception_type(\n",
      "          ^^^^^^^^^^^^^^^\n",
      "  File \"c:\\Users\\risko\\miniconda3\\envs\\prompt-classification\\Lib\\site-packages\\litellm\\litellm_core_utils\\exception_mapping_utils.py\", line 2202, in exception_type\n",
      "    raise e\n",
      "  File \"c:\\Users\\risko\\miniconda3\\envs\\prompt-classification\\Lib\\site-packages\\litellm\\litellm_core_utils\\exception_mapping_utils.py\", line 382, in exception_type\n",
      "    raise BadRequestError(\n",
      "litellm.exceptions.BadRequestError: litellm.BadRequestError: OpenAIException - Error code: 400 - {'error': {'message': \"litellm.BadRequestError: litellm.ContentPolicyViolationError: litellm.ContentPolicyViolationError: AzureException - The response was filtered due to the prompt triggering Azure OpenAI's content management policy. Please modify your prompt and retry. To learn more about our content filtering policies please read our documentation: https://go.microsoft.com/fwlink/?linkid=2198766\\nmodel=gpt-4o-mini. content_policy_fallback=None. fallbacks=None.\\n\\nSet 'content_policy_fallback' - https://docs.litellm.ai/docs/routing#fallbacks. Received Model Group=gpt-4o-mini\\nAvailable Model Group Fallbacks=None\", 'type': None, 'param': None, 'code': '400'}}\n",
      "\n",
      "During handling of the above exception, another exception occurred:\n",
      "\n",
      "Traceback (most recent call last):\n",
      "  File \"c:\\Users\\risko\\miniconda3\\envs\\prompt-classification\\Lib\\site-packages\\litellm\\caching\\caching.py\", line 643, in add_cache\n",
      "    self.cache.set_cache(cache_key, cached_data, **kwargs)\n",
      "  File \"c:\\Users\\risko\\miniconda3\\envs\\prompt-classification\\Lib\\site-packages\\litellm\\caching\\disk_cache.py\", line 28, in set_cache\n",
      "    self.disk_cache.set(key, value)\n",
      "  File \"c:\\Users\\risko\\miniconda3\\envs\\prompt-classification\\Lib\\site-packages\\diskcache\\core.py\", line 808, in set\n",
      "    self._row_insert(db_key, raw, now, columns)\n",
      "  File \"c:\\Users\\risko\\miniconda3\\envs\\prompt-classification\\Lib\\site-packages\\diskcache\\core.py\", line 857, in _row_insert\n",
      "    sql(\n",
      "sqlite3.OperationalError: no such column: \"size\" - should this be a string literal in single-quotes?\n"
     ]
    },
    {
     "name": "stdout",
     "output_type": "stream",
     "text": [
      "Average Metric: 22.00 / 22 (100.0%): 100%|██████████| 22/22 [00:03<00:00,  6.80it/s]"
     ]
    },
    {
     "name": "stderr",
     "output_type": "stream",
     "text": [
      "2025/02/21 23:59:14 INFO dspy.evaluate.evaluate: Average Metric: 22 / 22 (100.0%)\n"
     ]
    },
    {
     "name": "stdout",
     "output_type": "stream",
     "text": [
      "\n",
      "New best score: 100.0 for seed -3\n",
      "Scores so far: [100.0]\n",
      "Best score so far: 100.0\n",
      "  0%|          | 0/22 [00:00<?, ?it/s]"
     ]
    },
    {
     "name": "stderr",
     "output_type": "stream",
     "text": [
      "\u001b[92m23:59:15 - LiteLLM:ERROR\u001b[0m: caching.py:645 - LiteLLM Cache: Excepton add_cache: no such column: \"size\" - should this be a string literal in single-quotes?\n",
      "Traceback (most recent call last):\n",
      "  File \"c:\\Users\\risko\\miniconda3\\envs\\prompt-classification\\Lib\\site-packages\\litellm\\caching\\caching.py\", line 643, in add_cache\n",
      "    self.cache.set_cache(cache_key, cached_data, **kwargs)\n",
      "  File \"c:\\Users\\risko\\miniconda3\\envs\\prompt-classification\\Lib\\site-packages\\litellm\\caching\\disk_cache.py\", line 28, in set_cache\n",
      "    self.disk_cache.set(key, value)\n",
      "  File \"c:\\Users\\risko\\miniconda3\\envs\\prompt-classification\\Lib\\site-packages\\diskcache\\core.py\", line 808, in set\n",
      "    self._row_insert(db_key, raw, now, columns)\n",
      "  File \"c:\\Users\\risko\\miniconda3\\envs\\prompt-classification\\Lib\\site-packages\\diskcache\\core.py\", line 857, in _row_insert\n",
      "    sql(\n",
      "sqlite3.OperationalError: no such column: \"size\" - should this be a string literal in single-quotes?\n"
     ]
    },
    {
     "name": "stdout",
     "output_type": "stream",
     "text": [
      "Average Metric: 1.00 / 1 (100.0%):   5%|▍         | 1/22 [00:00<00:07,  2.64it/s]"
     ]
    },
    {
     "name": "stderr",
     "output_type": "stream",
     "text": [
      "\u001b[92m23:59:15 - LiteLLM:ERROR\u001b[0m: caching.py:645 - LiteLLM Cache: Excepton add_cache: no such column: \"size\" - should this be a string literal in single-quotes?\n",
      "Traceback (most recent call last):\n",
      "  File \"c:\\Users\\risko\\miniconda3\\envs\\prompt-classification\\Lib\\site-packages\\litellm\\caching\\caching.py\", line 643, in add_cache\n",
      "    self.cache.set_cache(cache_key, cached_data, **kwargs)\n",
      "  File \"c:\\Users\\risko\\miniconda3\\envs\\prompt-classification\\Lib\\site-packages\\litellm\\caching\\disk_cache.py\", line 28, in set_cache\n",
      "    self.disk_cache.set(key, value)\n",
      "  File \"c:\\Users\\risko\\miniconda3\\envs\\prompt-classification\\Lib\\site-packages\\diskcache\\core.py\", line 808, in set\n",
      "    self._row_insert(db_key, raw, now, columns)\n",
      "  File \"c:\\Users\\risko\\miniconda3\\envs\\prompt-classification\\Lib\\site-packages\\diskcache\\core.py\", line 857, in _row_insert\n",
      "    sql(\n",
      "sqlite3.OperationalError: no such column: \"size\" - should this be a string literal in single-quotes?\n"
     ]
    },
    {
     "name": "stdout",
     "output_type": "stream",
     "text": [
      "Average Metric: 2.00 / 2 (100.0%):   5%|▍         | 1/22 [00:00<00:07,  2.64it/s]"
     ]
    },
    {
     "name": "stderr",
     "output_type": "stream",
     "text": [
      "\u001b[92m23:59:15 - LiteLLM:ERROR\u001b[0m: caching.py:645 - LiteLLM Cache: Excepton add_cache: no such column: \"size\" - should this be a string literal in single-quotes?\n",
      "Traceback (most recent call last):\n",
      "  File \"c:\\Users\\risko\\miniconda3\\envs\\prompt-classification\\Lib\\site-packages\\litellm\\caching\\caching.py\", line 643, in add_cache\n",
      "    self.cache.set_cache(cache_key, cached_data, **kwargs)\n",
      "  File \"c:\\Users\\risko\\miniconda3\\envs\\prompt-classification\\Lib\\site-packages\\litellm\\caching\\disk_cache.py\", line 28, in set_cache\n",
      "    self.disk_cache.set(key, value)\n",
      "  File \"c:\\Users\\risko\\miniconda3\\envs\\prompt-classification\\Lib\\site-packages\\diskcache\\core.py\", line 808, in set\n",
      "    self._row_insert(db_key, raw, now, columns)\n",
      "  File \"c:\\Users\\risko\\miniconda3\\envs\\prompt-classification\\Lib\\site-packages\\diskcache\\core.py\", line 857, in _row_insert\n",
      "    sql(\n",
      "sqlite3.OperationalError: no such column: \"size\" - should this be a string literal in single-quotes?\n"
     ]
    },
    {
     "name": "stdout",
     "output_type": "stream",
     "text": [
      "Average Metric: 3.00 / 3 (100.0%):  14%|█▎        | 3/22 [00:00<00:03,  5.85it/s]"
     ]
    },
    {
     "name": "stderr",
     "output_type": "stream",
     "text": [
      "\u001b[92m23:59:15 - LiteLLM:ERROR\u001b[0m: caching.py:645 - LiteLLM Cache: Excepton add_cache: no such column: \"size\" - should this be a string literal in single-quotes?\n",
      "Traceback (most recent call last):\n",
      "  File \"c:\\Users\\risko\\miniconda3\\envs\\prompt-classification\\Lib\\site-packages\\litellm\\caching\\caching.py\", line 643, in add_cache\n",
      "    self.cache.set_cache(cache_key, cached_data, **kwargs)\n",
      "  File \"c:\\Users\\risko\\miniconda3\\envs\\prompt-classification\\Lib\\site-packages\\litellm\\caching\\disk_cache.py\", line 28, in set_cache\n",
      "    self.disk_cache.set(key, value)\n",
      "  File \"c:\\Users\\risko\\miniconda3\\envs\\prompt-classification\\Lib\\site-packages\\diskcache\\core.py\", line 808, in set\n",
      "    self._row_insert(db_key, raw, now, columns)\n",
      "  File \"c:\\Users\\risko\\miniconda3\\envs\\prompt-classification\\Lib\\site-packages\\diskcache\\core.py\", line 857, in _row_insert\n",
      "    sql(\n",
      "sqlite3.OperationalError: no such column: \"size\" - should this be a string literal in single-quotes?\n"
     ]
    },
    {
     "name": "stdout",
     "output_type": "stream",
     "text": [
      "Average Metric: 4.00 / 4 (100.0%):  14%|█▎        | 3/22 [00:00<00:03,  5.85it/s]"
     ]
    },
    {
     "name": "stderr",
     "output_type": "stream",
     "text": [
      "\u001b[92m23:59:15 - LiteLLM:ERROR\u001b[0m: caching.py:645 - LiteLLM Cache: Excepton add_cache: no such column: \"size\" - should this be a string literal in single-quotes?\n",
      "Traceback (most recent call last):\n",
      "  File \"c:\\Users\\risko\\miniconda3\\envs\\prompt-classification\\Lib\\site-packages\\litellm\\caching\\caching.py\", line 643, in add_cache\n",
      "    self.cache.set_cache(cache_key, cached_data, **kwargs)\n",
      "  File \"c:\\Users\\risko\\miniconda3\\envs\\prompt-classification\\Lib\\site-packages\\litellm\\caching\\disk_cache.py\", line 28, in set_cache\n",
      "    self.disk_cache.set(key, value)\n",
      "  File \"c:\\Users\\risko\\miniconda3\\envs\\prompt-classification\\Lib\\site-packages\\diskcache\\core.py\", line 808, in set\n",
      "    self._row_insert(db_key, raw, now, columns)\n",
      "  File \"c:\\Users\\risko\\miniconda3\\envs\\prompt-classification\\Lib\\site-packages\\diskcache\\core.py\", line 857, in _row_insert\n",
      "    sql(\n",
      "sqlite3.OperationalError: no such column: \"size\" - should this be a string literal in single-quotes?\n"
     ]
    },
    {
     "name": "stdout",
     "output_type": "stream",
     "text": [
      "Average Metric: 5.00 / 5 (100.0%):  23%|██▎       | 5/22 [00:00<00:01,  8.72it/s]"
     ]
    },
    {
     "name": "stderr",
     "output_type": "stream",
     "text": [
      "\u001b[92m23:59:15 - LiteLLM:ERROR\u001b[0m: caching.py:645 - LiteLLM Cache: Excepton add_cache: no such column: \"size\" - should this be a string literal in single-quotes?\n",
      "Traceback (most recent call last):\n",
      "  File \"c:\\Users\\risko\\miniconda3\\envs\\prompt-classification\\Lib\\site-packages\\litellm\\caching\\caching.py\", line 643, in add_cache\n",
      "    self.cache.set_cache(cache_key, cached_data, **kwargs)\n",
      "  File \"c:\\Users\\risko\\miniconda3\\envs\\prompt-classification\\Lib\\site-packages\\litellm\\caching\\disk_cache.py\", line 28, in set_cache\n",
      "    self.disk_cache.set(key, value)\n",
      "  File \"c:\\Users\\risko\\miniconda3\\envs\\prompt-classification\\Lib\\site-packages\\diskcache\\core.py\", line 808, in set\n",
      "    self._row_insert(db_key, raw, now, columns)\n",
      "  File \"c:\\Users\\risko\\miniconda3\\envs\\prompt-classification\\Lib\\site-packages\\diskcache\\core.py\", line 857, in _row_insert\n",
      "    sql(\n",
      "sqlite3.OperationalError: no such column: \"size\" - should this be a string literal in single-quotes?\n"
     ]
    },
    {
     "name": "stdout",
     "output_type": "stream",
     "text": [
      "Average Metric: 6.00 / 6 (100.0%):  23%|██▎       | 5/22 [00:00<00:01,  8.72it/s]"
     ]
    },
    {
     "name": "stderr",
     "output_type": "stream",
     "text": [
      "\u001b[92m23:59:15 - LiteLLM:ERROR\u001b[0m: caching.py:645 - LiteLLM Cache: Excepton add_cache: no such column: \"size\" - should this be a string literal in single-quotes?\n",
      "Traceback (most recent call last):\n",
      "  File \"c:\\Users\\risko\\miniconda3\\envs\\prompt-classification\\Lib\\site-packages\\litellm\\caching\\caching.py\", line 643, in add_cache\n",
      "    self.cache.set_cache(cache_key, cached_data, **kwargs)\n",
      "  File \"c:\\Users\\risko\\miniconda3\\envs\\prompt-classification\\Lib\\site-packages\\litellm\\caching\\disk_cache.py\", line 28, in set_cache\n",
      "    self.disk_cache.set(key, value)\n",
      "  File \"c:\\Users\\risko\\miniconda3\\envs\\prompt-classification\\Lib\\site-packages\\diskcache\\core.py\", line 808, in set\n",
      "    self._row_insert(db_key, raw, now, columns)\n",
      "  File \"c:\\Users\\risko\\miniconda3\\envs\\prompt-classification\\Lib\\site-packages\\diskcache\\core.py\", line 857, in _row_insert\n",
      "    sql(\n",
      "sqlite3.OperationalError: no such column: \"size\" - should this be a string literal in single-quotes?\n"
     ]
    },
    {
     "name": "stdout",
     "output_type": "stream",
     "text": [
      "Average Metric: 7.00 / 7 (100.0%):  32%|███▏      | 7/22 [00:01<00:01,  7.54it/s]"
     ]
    },
    {
     "name": "stderr",
     "output_type": "stream",
     "text": [
      "\u001b[92m23:59:15 - LiteLLM:ERROR\u001b[0m: caching.py:645 - LiteLLM Cache: Excepton add_cache: no such column: \"size\" - should this be a string literal in single-quotes?\n",
      "Traceback (most recent call last):\n",
      "  File \"c:\\Users\\risko\\miniconda3\\envs\\prompt-classification\\Lib\\site-packages\\litellm\\caching\\caching.py\", line 643, in add_cache\n",
      "    self.cache.set_cache(cache_key, cached_data, **kwargs)\n",
      "  File \"c:\\Users\\risko\\miniconda3\\envs\\prompt-classification\\Lib\\site-packages\\litellm\\caching\\disk_cache.py\", line 28, in set_cache\n",
      "    self.disk_cache.set(key, value)\n",
      "  File \"c:\\Users\\risko\\miniconda3\\envs\\prompt-classification\\Lib\\site-packages\\diskcache\\core.py\", line 808, in set\n",
      "    self._row_insert(db_key, raw, now, columns)\n",
      "  File \"c:\\Users\\risko\\miniconda3\\envs\\prompt-classification\\Lib\\site-packages\\diskcache\\core.py\", line 857, in _row_insert\n",
      "    sql(\n",
      "sqlite3.OperationalError: no such column: \"size\" - should this be a string literal in single-quotes?\n"
     ]
    },
    {
     "name": "stdout",
     "output_type": "stream",
     "text": [
      "Average Metric: 8.00 / 8 (100.0%):  36%|███▋      | 8/22 [00:01<00:01,  7.09it/s]"
     ]
    },
    {
     "name": "stderr",
     "output_type": "stream",
     "text": [
      "\u001b[92m23:59:16 - LiteLLM:ERROR\u001b[0m: caching.py:645 - LiteLLM Cache: Excepton add_cache: no such column: \"size\" - should this be a string literal in single-quotes?\n",
      "Traceback (most recent call last):\n",
      "  File \"c:\\Users\\risko\\miniconda3\\envs\\prompt-classification\\Lib\\site-packages\\litellm\\caching\\caching.py\", line 643, in add_cache\n",
      "    self.cache.set_cache(cache_key, cached_data, **kwargs)\n",
      "  File \"c:\\Users\\risko\\miniconda3\\envs\\prompt-classification\\Lib\\site-packages\\litellm\\caching\\disk_cache.py\", line 28, in set_cache\n",
      "    self.disk_cache.set(key, value)\n",
      "  File \"c:\\Users\\risko\\miniconda3\\envs\\prompt-classification\\Lib\\site-packages\\diskcache\\core.py\", line 808, in set\n",
      "    self._row_insert(db_key, raw, now, columns)\n",
      "  File \"c:\\Users\\risko\\miniconda3\\envs\\prompt-classification\\Lib\\site-packages\\diskcache\\core.py\", line 857, in _row_insert\n",
      "    sql(\n",
      "sqlite3.OperationalError: no such column: \"size\" - should this be a string literal in single-quotes?\n"
     ]
    },
    {
     "name": "stdout",
     "output_type": "stream",
     "text": [
      "Average Metric: 9.00 / 9 (100.0%):  41%|████      | 9/22 [00:01<00:02,  6.35it/s]"
     ]
    },
    {
     "name": "stderr",
     "output_type": "stream",
     "text": [
      "\u001b[92m23:59:16 - LiteLLM:ERROR\u001b[0m: caching.py:645 - LiteLLM Cache: Excepton add_cache: no such column: \"size\" - should this be a string literal in single-quotes?\n",
      "Traceback (most recent call last):\n",
      "  File \"c:\\Users\\risko\\miniconda3\\envs\\prompt-classification\\Lib\\site-packages\\litellm\\caching\\caching.py\", line 643, in add_cache\n",
      "    self.cache.set_cache(cache_key, cached_data, **kwargs)\n",
      "  File \"c:\\Users\\risko\\miniconda3\\envs\\prompt-classification\\Lib\\site-packages\\litellm\\caching\\disk_cache.py\", line 28, in set_cache\n",
      "    self.disk_cache.set(key, value)\n",
      "  File \"c:\\Users\\risko\\miniconda3\\envs\\prompt-classification\\Lib\\site-packages\\diskcache\\core.py\", line 808, in set\n",
      "    self._row_insert(db_key, raw, now, columns)\n",
      "  File \"c:\\Users\\risko\\miniconda3\\envs\\prompt-classification\\Lib\\site-packages\\diskcache\\core.py\", line 857, in _row_insert\n",
      "    sql(\n",
      "sqlite3.OperationalError: no such column: \"size\" - should this be a string literal in single-quotes?\n"
     ]
    },
    {
     "name": "stdout",
     "output_type": "stream",
     "text": [
      "Average Metric: 10.00 / 10 (100.0%):  45%|████▌     | 10/22 [00:01<00:01,  7.02it/s]"
     ]
    },
    {
     "name": "stderr",
     "output_type": "stream",
     "text": [
      "\u001b[92m23:59:16 - LiteLLM:ERROR\u001b[0m: caching.py:645 - LiteLLM Cache: Excepton add_cache: no such column: \"size\" - should this be a string literal in single-quotes?\n",
      "Traceback (most recent call last):\n",
      "  File \"c:\\Users\\risko\\miniconda3\\envs\\prompt-classification\\Lib\\site-packages\\litellm\\caching\\caching.py\", line 643, in add_cache\n",
      "    self.cache.set_cache(cache_key, cached_data, **kwargs)\n",
      "  File \"c:\\Users\\risko\\miniconda3\\envs\\prompt-classification\\Lib\\site-packages\\litellm\\caching\\disk_cache.py\", line 28, in set_cache\n",
      "    self.disk_cache.set(key, value)\n",
      "  File \"c:\\Users\\risko\\miniconda3\\envs\\prompt-classification\\Lib\\site-packages\\diskcache\\core.py\", line 808, in set\n",
      "    self._row_insert(db_key, raw, now, columns)\n",
      "  File \"c:\\Users\\risko\\miniconda3\\envs\\prompt-classification\\Lib\\site-packages\\diskcache\\core.py\", line 857, in _row_insert\n",
      "    sql(\n",
      "sqlite3.OperationalError: no such column: \"size\" - should this be a string literal in single-quotes?\n"
     ]
    },
    {
     "name": "stdout",
     "output_type": "stream",
     "text": [
      "Average Metric: 11.00 / 11 (100.0%):  45%|████▌     | 10/22 [00:01<00:01,  7.02it/s]"
     ]
    },
    {
     "name": "stderr",
     "output_type": "stream",
     "text": [
      "\u001b[92m23:59:16 - LiteLLM:ERROR\u001b[0m: caching.py:645 - LiteLLM Cache: Excepton add_cache: no such column: \"size\" - should this be a string literal in single-quotes?\n",
      "Traceback (most recent call last):\n",
      "  File \"c:\\Users\\risko\\miniconda3\\envs\\prompt-classification\\Lib\\site-packages\\litellm\\caching\\caching.py\", line 643, in add_cache\n",
      "    self.cache.set_cache(cache_key, cached_data, **kwargs)\n",
      "  File \"c:\\Users\\risko\\miniconda3\\envs\\prompt-classification\\Lib\\site-packages\\litellm\\caching\\disk_cache.py\", line 28, in set_cache\n",
      "    self.disk_cache.set(key, value)\n",
      "  File \"c:\\Users\\risko\\miniconda3\\envs\\prompt-classification\\Lib\\site-packages\\diskcache\\core.py\", line 808, in set\n",
      "    self._row_insert(db_key, raw, now, columns)\n",
      "  File \"c:\\Users\\risko\\miniconda3\\envs\\prompt-classification\\Lib\\site-packages\\diskcache\\core.py\", line 857, in _row_insert\n",
      "    sql(\n",
      "sqlite3.OperationalError: no such column: \"size\" - should this be a string literal in single-quotes?\n"
     ]
    },
    {
     "name": "stdout",
     "output_type": "stream",
     "text": [
      "Average Metric: 12.00 / 12 (100.0%):  55%|█████▍    | 12/22 [00:01<00:01,  7.47it/s]"
     ]
    },
    {
     "name": "stderr",
     "output_type": "stream",
     "text": [
      "\u001b[92m23:59:16 - LiteLLM:ERROR\u001b[0m: caching.py:645 - LiteLLM Cache: Excepton add_cache: no such column: \"size\" - should this be a string literal in single-quotes?\n",
      "Traceback (most recent call last):\n",
      "  File \"c:\\Users\\risko\\miniconda3\\envs\\prompt-classification\\Lib\\site-packages\\litellm\\caching\\caching.py\", line 643, in add_cache\n",
      "    self.cache.set_cache(cache_key, cached_data, **kwargs)\n",
      "  File \"c:\\Users\\risko\\miniconda3\\envs\\prompt-classification\\Lib\\site-packages\\litellm\\caching\\disk_cache.py\", line 28, in set_cache\n",
      "    self.disk_cache.set(key, value)\n",
      "  File \"c:\\Users\\risko\\miniconda3\\envs\\prompt-classification\\Lib\\site-packages\\diskcache\\core.py\", line 808, in set\n",
      "    self._row_insert(db_key, raw, now, columns)\n",
      "  File \"c:\\Users\\risko\\miniconda3\\envs\\prompt-classification\\Lib\\site-packages\\diskcache\\core.py\", line 857, in _row_insert\n",
      "    sql(\n",
      "sqlite3.OperationalError: no such column: \"size\" - should this be a string literal in single-quotes?\n"
     ]
    },
    {
     "name": "stdout",
     "output_type": "stream",
     "text": [
      "Average Metric: 13.00 / 13 (100.0%):  59%|█████▉    | 13/22 [00:01<00:01,  6.47it/s]"
     ]
    },
    {
     "name": "stderr",
     "output_type": "stream",
     "text": [
      "\u001b[92m23:59:16 - LiteLLM:ERROR\u001b[0m: caching.py:645 - LiteLLM Cache: Excepton add_cache: no such column: \"size\" - should this be a string literal in single-quotes?\n",
      "Traceback (most recent call last):\n",
      "  File \"c:\\Users\\risko\\miniconda3\\envs\\prompt-classification\\Lib\\site-packages\\litellm\\caching\\caching.py\", line 643, in add_cache\n",
      "    self.cache.set_cache(cache_key, cached_data, **kwargs)\n",
      "  File \"c:\\Users\\risko\\miniconda3\\envs\\prompt-classification\\Lib\\site-packages\\litellm\\caching\\disk_cache.py\", line 28, in set_cache\n",
      "    self.disk_cache.set(key, value)\n",
      "  File \"c:\\Users\\risko\\miniconda3\\envs\\prompt-classification\\Lib\\site-packages\\diskcache\\core.py\", line 808, in set\n",
      "    self._row_insert(db_key, raw, now, columns)\n",
      "  File \"c:\\Users\\risko\\miniconda3\\envs\\prompt-classification\\Lib\\site-packages\\diskcache\\core.py\", line 857, in _row_insert\n",
      "    sql(\n",
      "sqlite3.OperationalError: no such column: \"size\" - should this be a string literal in single-quotes?\n"
     ]
    },
    {
     "name": "stdout",
     "output_type": "stream",
     "text": [
      "Average Metric: 14.00 / 14 (100.0%):  64%|██████▎   | 14/22 [00:02<00:01,  6.17it/s]"
     ]
    },
    {
     "name": "stderr",
     "output_type": "stream",
     "text": [
      "\u001b[92m23:59:16 - LiteLLM:ERROR\u001b[0m: caching.py:645 - LiteLLM Cache: Excepton add_cache: no such column: \"size\" - should this be a string literal in single-quotes?\n",
      "Traceback (most recent call last):\n",
      "  File \"c:\\Users\\risko\\miniconda3\\envs\\prompt-classification\\Lib\\site-packages\\litellm\\caching\\caching.py\", line 643, in add_cache\n",
      "    self.cache.set_cache(cache_key, cached_data, **kwargs)\n",
      "  File \"c:\\Users\\risko\\miniconda3\\envs\\prompt-classification\\Lib\\site-packages\\litellm\\caching\\disk_cache.py\", line 28, in set_cache\n",
      "    self.disk_cache.set(key, value)\n",
      "  File \"c:\\Users\\risko\\miniconda3\\envs\\prompt-classification\\Lib\\site-packages\\diskcache\\core.py\", line 808, in set\n",
      "    self._row_insert(db_key, raw, now, columns)\n",
      "  File \"c:\\Users\\risko\\miniconda3\\envs\\prompt-classification\\Lib\\site-packages\\diskcache\\core.py\", line 857, in _row_insert\n",
      "    sql(\n",
      "sqlite3.OperationalError: no such column: \"size\" - should this be a string literal in single-quotes?\n"
     ]
    },
    {
     "name": "stdout",
     "output_type": "stream",
     "text": [
      "Average Metric: 15.00 / 15 (100.0%):  68%|██████▊   | 15/22 [00:02<00:01,  6.64it/s]"
     ]
    },
    {
     "name": "stderr",
     "output_type": "stream",
     "text": [
      "\u001b[92m23:59:16 - LiteLLM:ERROR\u001b[0m: caching.py:645 - LiteLLM Cache: Excepton add_cache: no such column: \"size\" - should this be a string literal in single-quotes?\n",
      "Traceback (most recent call last):\n",
      "  File \"c:\\Users\\risko\\miniconda3\\envs\\prompt-classification\\Lib\\site-packages\\litellm\\caching\\caching.py\", line 643, in add_cache\n",
      "    self.cache.set_cache(cache_key, cached_data, **kwargs)\n",
      "  File \"c:\\Users\\risko\\miniconda3\\envs\\prompt-classification\\Lib\\site-packages\\litellm\\caching\\disk_cache.py\", line 28, in set_cache\n",
      "    self.disk_cache.set(key, value)\n",
      "  File \"c:\\Users\\risko\\miniconda3\\envs\\prompt-classification\\Lib\\site-packages\\diskcache\\core.py\", line 808, in set\n",
      "    self._row_insert(db_key, raw, now, columns)\n",
      "  File \"c:\\Users\\risko\\miniconda3\\envs\\prompt-classification\\Lib\\site-packages\\diskcache\\core.py\", line 857, in _row_insert\n",
      "    sql(\n",
      "sqlite3.OperationalError: no such column: \"size\" - should this be a string literal in single-quotes?\n"
     ]
    },
    {
     "name": "stdout",
     "output_type": "stream",
     "text": [
      "Average Metric: 16.00 / 16 (100.0%):  68%|██████▊   | 15/22 [00:02<00:01,  6.64it/s]"
     ]
    },
    {
     "name": "stderr",
     "output_type": "stream",
     "text": [
      "\u001b[92m23:59:17 - LiteLLM:ERROR\u001b[0m: caching.py:645 - LiteLLM Cache: Excepton add_cache: no such column: \"size\" - should this be a string literal in single-quotes?\n",
      "Traceback (most recent call last):\n",
      "  File \"c:\\Users\\risko\\miniconda3\\envs\\prompt-classification\\Lib\\site-packages\\litellm\\caching\\caching.py\", line 643, in add_cache\n",
      "    self.cache.set_cache(cache_key, cached_data, **kwargs)\n",
      "  File \"c:\\Users\\risko\\miniconda3\\envs\\prompt-classification\\Lib\\site-packages\\litellm\\caching\\disk_cache.py\", line 28, in set_cache\n",
      "    self.disk_cache.set(key, value)\n",
      "  File \"c:\\Users\\risko\\miniconda3\\envs\\prompt-classification\\Lib\\site-packages\\diskcache\\core.py\", line 808, in set\n",
      "    self._row_insert(db_key, raw, now, columns)\n",
      "  File \"c:\\Users\\risko\\miniconda3\\envs\\prompt-classification\\Lib\\site-packages\\diskcache\\core.py\", line 857, in _row_insert\n",
      "    sql(\n",
      "sqlite3.OperationalError: no such column: \"size\" - should this be a string literal in single-quotes?\n"
     ]
    },
    {
     "name": "stdout",
     "output_type": "stream",
     "text": [
      "Average Metric: 17.00 / 17 (100.0%):  77%|███████▋  | 17/22 [00:02<00:00,  9.28it/s]"
     ]
    },
    {
     "name": "stderr",
     "output_type": "stream",
     "text": [
      "\u001b[92m23:59:17 - LiteLLM:ERROR\u001b[0m: caching.py:645 - LiteLLM Cache: Excepton add_cache: no such column: \"size\" - should this be a string literal in single-quotes?\n",
      "Traceback (most recent call last):\n",
      "  File \"c:\\Users\\risko\\miniconda3\\envs\\prompt-classification\\Lib\\site-packages\\litellm\\caching\\caching.py\", line 643, in add_cache\n",
      "    self.cache.set_cache(cache_key, cached_data, **kwargs)\n",
      "  File \"c:\\Users\\risko\\miniconda3\\envs\\prompt-classification\\Lib\\site-packages\\litellm\\caching\\disk_cache.py\", line 28, in set_cache\n",
      "    self.disk_cache.set(key, value)\n",
      "  File \"c:\\Users\\risko\\miniconda3\\envs\\prompt-classification\\Lib\\site-packages\\diskcache\\core.py\", line 808, in set\n",
      "    self._row_insert(db_key, raw, now, columns)\n",
      "  File \"c:\\Users\\risko\\miniconda3\\envs\\prompt-classification\\Lib\\site-packages\\diskcache\\core.py\", line 857, in _row_insert\n",
      "    sql(\n",
      "sqlite3.OperationalError: no such column: \"size\" - should this be a string literal in single-quotes?\n"
     ]
    },
    {
     "name": "stdout",
     "output_type": "stream",
     "text": [
      "Average Metric: 18.00 / 18 (100.0%):  77%|███████▋  | 17/22 [00:02<00:00,  9.28it/s]"
     ]
    },
    {
     "name": "stderr",
     "output_type": "stream",
     "text": [
      "\u001b[92m23:59:17 - LiteLLM:ERROR\u001b[0m: caching.py:645 - LiteLLM Cache: Excepton add_cache: no such column: \"size\" - should this be a string literal in single-quotes?\n",
      "Traceback (most recent call last):\n",
      "  File \"c:\\Users\\risko\\miniconda3\\envs\\prompt-classification\\Lib\\site-packages\\litellm\\caching\\caching.py\", line 643, in add_cache\n",
      "    self.cache.set_cache(cache_key, cached_data, **kwargs)\n",
      "  File \"c:\\Users\\risko\\miniconda3\\envs\\prompt-classification\\Lib\\site-packages\\litellm\\caching\\disk_cache.py\", line 28, in set_cache\n",
      "    self.disk_cache.set(key, value)\n",
      "  File \"c:\\Users\\risko\\miniconda3\\envs\\prompt-classification\\Lib\\site-packages\\diskcache\\core.py\", line 808, in set\n",
      "    self._row_insert(db_key, raw, now, columns)\n",
      "  File \"c:\\Users\\risko\\miniconda3\\envs\\prompt-classification\\Lib\\site-packages\\diskcache\\core.py\", line 857, in _row_insert\n",
      "    sql(\n",
      "sqlite3.OperationalError: no such column: \"size\" - should this be a string literal in single-quotes?\n"
     ]
    },
    {
     "name": "stdout",
     "output_type": "stream",
     "text": [
      "Average Metric: 19.00 / 19 (100.0%):  86%|████████▋ | 19/22 [00:02<00:00,  7.74it/s]"
     ]
    },
    {
     "name": "stderr",
     "output_type": "stream",
     "text": [
      "\u001b[92m23:59:17 - LiteLLM:ERROR\u001b[0m: caching.py:645 - LiteLLM Cache: Excepton add_cache: no such column: \"size\" - should this be a string literal in single-quotes?\n",
      "Traceback (most recent call last):\n",
      "  File \"c:\\Users\\risko\\miniconda3\\envs\\prompt-classification\\Lib\\site-packages\\litellm\\caching\\caching.py\", line 643, in add_cache\n",
      "    self.cache.set_cache(cache_key, cached_data, **kwargs)\n",
      "  File \"c:\\Users\\risko\\miniconda3\\envs\\prompt-classification\\Lib\\site-packages\\litellm\\caching\\disk_cache.py\", line 28, in set_cache\n",
      "    self.disk_cache.set(key, value)\n",
      "  File \"c:\\Users\\risko\\miniconda3\\envs\\prompt-classification\\Lib\\site-packages\\diskcache\\core.py\", line 808, in set\n",
      "    self._row_insert(db_key, raw, now, columns)\n",
      "  File \"c:\\Users\\risko\\miniconda3\\envs\\prompt-classification\\Lib\\site-packages\\diskcache\\core.py\", line 857, in _row_insert\n",
      "    sql(\n",
      "sqlite3.OperationalError: no such column: \"size\" - should this be a string literal in single-quotes?\n"
     ]
    },
    {
     "name": "stdout",
     "output_type": "stream",
     "text": [
      "Average Metric: 20.00 / 20 (100.0%):  91%|█████████ | 20/22 [00:02<00:00,  8.07it/s]"
     ]
    },
    {
     "name": "stderr",
     "output_type": "stream",
     "text": [
      "\u001b[92m23:59:17 - LiteLLM:ERROR\u001b[0m: caching.py:645 - LiteLLM Cache: Excepton add_cache: no such column: \"size\" - should this be a string literal in single-quotes?\n",
      "Traceback (most recent call last):\n",
      "  File \"c:\\Users\\risko\\miniconda3\\envs\\prompt-classification\\Lib\\site-packages\\litellm\\caching\\caching.py\", line 643, in add_cache\n",
      "    self.cache.set_cache(cache_key, cached_data, **kwargs)\n",
      "  File \"c:\\Users\\risko\\miniconda3\\envs\\prompt-classification\\Lib\\site-packages\\litellm\\caching\\disk_cache.py\", line 28, in set_cache\n",
      "    self.disk_cache.set(key, value)\n",
      "  File \"c:\\Users\\risko\\miniconda3\\envs\\prompt-classification\\Lib\\site-packages\\diskcache\\core.py\", line 808, in set\n",
      "    self._row_insert(db_key, raw, now, columns)\n",
      "  File \"c:\\Users\\risko\\miniconda3\\envs\\prompt-classification\\Lib\\site-packages\\diskcache\\core.py\", line 857, in _row_insert\n",
      "    sql(\n",
      "sqlite3.OperationalError: no such column: \"size\" - should this be a string literal in single-quotes?\n"
     ]
    },
    {
     "name": "stdout",
     "output_type": "stream",
     "text": [
      "Average Metric: 21.00 / 21 (100.0%):  95%|█████████▌| 21/22 [00:02<00:00,  8.24it/s]"
     ]
    },
    {
     "name": "stderr",
     "output_type": "stream",
     "text": [
      "\u001b[92m23:59:18 - LiteLLM:ERROR\u001b[0m: caching.py:645 - LiteLLM Cache: Excepton add_cache: no such column: \"size\" - should this be a string literal in single-quotes?\n",
      "Traceback (most recent call last):\n",
      "  File \"c:\\Users\\risko\\miniconda3\\envs\\prompt-classification\\Lib\\site-packages\\litellm\\caching\\caching.py\", line 643, in add_cache\n",
      "    self.cache.set_cache(cache_key, cached_data, **kwargs)\n",
      "  File \"c:\\Users\\risko\\miniconda3\\envs\\prompt-classification\\Lib\\site-packages\\litellm\\caching\\disk_cache.py\", line 28, in set_cache\n",
      "    self.disk_cache.set(key, value)\n",
      "  File \"c:\\Users\\risko\\miniconda3\\envs\\prompt-classification\\Lib\\site-packages\\diskcache\\core.py\", line 808, in set\n",
      "    self._row_insert(db_key, raw, now, columns)\n",
      "  File \"c:\\Users\\risko\\miniconda3\\envs\\prompt-classification\\Lib\\site-packages\\diskcache\\core.py\", line 857, in _row_insert\n",
      "    sql(\n",
      "sqlite3.OperationalError: no such column: \"size\" - should this be a string literal in single-quotes?\n"
     ]
    },
    {
     "name": "stdout",
     "output_type": "stream",
     "text": [
      "Average Metric: 22.00 / 22 (100.0%): 100%|██████████| 22/22 [00:03<00:00,  6.03it/s]"
     ]
    },
    {
     "name": "stderr",
     "output_type": "stream",
     "text": [
      "2025/02/21 23:59:18 INFO dspy.evaluate.evaluate: Average Metric: 22 / 22 (100.0%)\n"
     ]
    },
    {
     "name": "stdout",
     "output_type": "stream",
     "text": [
      "\n",
      "Scores so far: [100.0, 100.0]\n",
      "Best score so far: 100.0\n"
     ]
    },
    {
     "name": "stderr",
     "output_type": "stream",
     "text": [
      "  0%|          | 0/22 [00:00<?, ?it/s]\u001b[92m23:59:18 - LiteLLM:ERROR\u001b[0m: caching.py:645 - LiteLLM Cache: Excepton add_cache: no such column: \"size\" - should this be a string literal in single-quotes?\n",
      "Traceback (most recent call last):\n",
      "  File \"c:\\Users\\risko\\miniconda3\\envs\\prompt-classification\\Lib\\site-packages\\litellm\\caching\\caching.py\", line 643, in add_cache\n",
      "    self.cache.set_cache(cache_key, cached_data, **kwargs)\n",
      "  File \"c:\\Users\\risko\\miniconda3\\envs\\prompt-classification\\Lib\\site-packages\\litellm\\caching\\disk_cache.py\", line 28, in set_cache\n",
      "    self.disk_cache.set(key, value)\n",
      "  File \"c:\\Users\\risko\\miniconda3\\envs\\prompt-classification\\Lib\\site-packages\\diskcache\\core.py\", line 808, in set\n",
      "    self._row_insert(db_key, raw, now, columns)\n",
      "  File \"c:\\Users\\risko\\miniconda3\\envs\\prompt-classification\\Lib\\site-packages\\diskcache\\core.py\", line 857, in _row_insert\n",
      "    sql(\n",
      "sqlite3.OperationalError: no such column: \"size\" - should this be a string literal in single-quotes?\n",
      " 36%|███▋      | 8/22 [00:00<00:00, 22.29it/s]\n"
     ]
    },
    {
     "name": "stdout",
     "output_type": "stream",
     "text": [
      "Bootstrapped 8 full traces after 8 examples for up to 1 rounds, amounting to 8 attempts.\n",
      "  0%|          | 0/22 [00:00<?, ?it/s]"
     ]
    },
    {
     "name": "stderr",
     "output_type": "stream",
     "text": [
      "\u001b[92m23:59:19 - LiteLLM:ERROR\u001b[0m: caching.py:645 - LiteLLM Cache: Excepton add_cache: no such column: \"size\" - should this be a string literal in single-quotes?\n",
      "Traceback (most recent call last):\n",
      "  File \"c:\\Users\\risko\\miniconda3\\envs\\prompt-classification\\Lib\\site-packages\\litellm\\caching\\caching.py\", line 643, in add_cache\n",
      "    self.cache.set_cache(cache_key, cached_data, **kwargs)\n",
      "  File \"c:\\Users\\risko\\miniconda3\\envs\\prompt-classification\\Lib\\site-packages\\litellm\\caching\\disk_cache.py\", line 28, in set_cache\n",
      "    self.disk_cache.set(key, value)\n",
      "  File \"c:\\Users\\risko\\miniconda3\\envs\\prompt-classification\\Lib\\site-packages\\diskcache\\core.py\", line 808, in set\n",
      "    self._row_insert(db_key, raw, now, columns)\n",
      "  File \"c:\\Users\\risko\\miniconda3\\envs\\prompt-classification\\Lib\\site-packages\\diskcache\\core.py\", line 857, in _row_insert\n",
      "    sql(\n",
      "sqlite3.OperationalError: no such column: \"size\" - should this be a string literal in single-quotes?\n"
     ]
    },
    {
     "name": "stdout",
     "output_type": "stream",
     "text": [
      "Average Metric: 1.00 / 1 (100.0%):   5%|▍         | 1/22 [00:00<00:11,  1.81it/s]"
     ]
    },
    {
     "name": "stderr",
     "output_type": "stream",
     "text": [
      "\u001b[92m23:59:19 - LiteLLM:ERROR\u001b[0m: caching.py:645 - LiteLLM Cache: Excepton add_cache: no such column: \"size\" - should this be a string literal in single-quotes?\n",
      "Traceback (most recent call last):\n",
      "  File \"c:\\Users\\risko\\miniconda3\\envs\\prompt-classification\\Lib\\site-packages\\litellm\\caching\\caching.py\", line 643, in add_cache\n",
      "    self.cache.set_cache(cache_key, cached_data, **kwargs)\n",
      "  File \"c:\\Users\\risko\\miniconda3\\envs\\prompt-classification\\Lib\\site-packages\\litellm\\caching\\disk_cache.py\", line 28, in set_cache\n",
      "    self.disk_cache.set(key, value)\n",
      "  File \"c:\\Users\\risko\\miniconda3\\envs\\prompt-classification\\Lib\\site-packages\\diskcache\\core.py\", line 808, in set\n",
      "    self._row_insert(db_key, raw, now, columns)\n",
      "  File \"c:\\Users\\risko\\miniconda3\\envs\\prompt-classification\\Lib\\site-packages\\diskcache\\core.py\", line 857, in _row_insert\n",
      "    sql(\n",
      "sqlite3.OperationalError: no such column: \"size\" - should this be a string literal in single-quotes?\n"
     ]
    },
    {
     "name": "stdout",
     "output_type": "stream",
     "text": [
      "Average Metric: 2.00 / 2 (100.0%):   9%|▉         | 2/22 [00:00<00:08,  2.39it/s]"
     ]
    },
    {
     "name": "stderr",
     "output_type": "stream",
     "text": [
      "\u001b[92m23:59:19 - LiteLLM:ERROR\u001b[0m: caching.py:645 - LiteLLM Cache: Excepton add_cache: no such column: \"size\" - should this be a string literal in single-quotes?\n",
      "Traceback (most recent call last):\n",
      "  File \"c:\\Users\\risko\\miniconda3\\envs\\prompt-classification\\Lib\\site-packages\\litellm\\caching\\caching.py\", line 643, in add_cache\n",
      "    self.cache.set_cache(cache_key, cached_data, **kwargs)\n",
      "  File \"c:\\Users\\risko\\miniconda3\\envs\\prompt-classification\\Lib\\site-packages\\litellm\\caching\\disk_cache.py\", line 28, in set_cache\n",
      "    self.disk_cache.set(key, value)\n",
      "  File \"c:\\Users\\risko\\miniconda3\\envs\\prompt-classification\\Lib\\site-packages\\diskcache\\core.py\", line 808, in set\n",
      "    self._row_insert(db_key, raw, now, columns)\n",
      "  File \"c:\\Users\\risko\\miniconda3\\envs\\prompt-classification\\Lib\\site-packages\\diskcache\\core.py\", line 857, in _row_insert\n",
      "    sql(\n",
      "sqlite3.OperationalError: no such column: \"size\" - should this be a string literal in single-quotes?\n"
     ]
    },
    {
     "name": "stdout",
     "output_type": "stream",
     "text": [
      "Average Metric: 3.00 / 3 (100.0%):   9%|▉         | 2/22 [00:00<00:08,  2.39it/s]"
     ]
    },
    {
     "name": "stderr",
     "output_type": "stream",
     "text": [
      "\u001b[92m23:59:19 - LiteLLM:ERROR\u001b[0m: caching.py:645 - LiteLLM Cache: Excepton add_cache: no such column: \"size\" - should this be a string literal in single-quotes?\n",
      "Traceback (most recent call last):\n",
      "  File \"c:\\Users\\risko\\miniconda3\\envs\\prompt-classification\\Lib\\site-packages\\litellm\\caching\\caching.py\", line 643, in add_cache\n",
      "    self.cache.set_cache(cache_key, cached_data, **kwargs)\n",
      "  File \"c:\\Users\\risko\\miniconda3\\envs\\prompt-classification\\Lib\\site-packages\\litellm\\caching\\disk_cache.py\", line 28, in set_cache\n",
      "    self.disk_cache.set(key, value)\n",
      "  File \"c:\\Users\\risko\\miniconda3\\envs\\prompt-classification\\Lib\\site-packages\\diskcache\\core.py\", line 808, in set\n",
      "    self._row_insert(db_key, raw, now, columns)\n",
      "  File \"c:\\Users\\risko\\miniconda3\\envs\\prompt-classification\\Lib\\site-packages\\diskcache\\core.py\", line 857, in _row_insert\n",
      "    sql(\n",
      "sqlite3.OperationalError: no such column: \"size\" - should this be a string literal in single-quotes?\n"
     ]
    },
    {
     "name": "stdout",
     "output_type": "stream",
     "text": [
      "Average Metric: 4.00 / 4 (100.0%):  14%|█▎        | 3/22 [00:00<00:07,  2.39it/s]"
     ]
    },
    {
     "name": "stderr",
     "output_type": "stream",
     "text": [
      "\u001b[92m23:59:19 - LiteLLM:ERROR\u001b[0m: caching.py:645 - LiteLLM Cache: Excepton add_cache: no such column: \"size\" - should this be a string literal in single-quotes?\n",
      "Traceback (most recent call last):\n",
      "  File \"c:\\Users\\risko\\miniconda3\\envs\\prompt-classification\\Lib\\site-packages\\litellm\\caching\\caching.py\", line 643, in add_cache\n",
      "    self.cache.set_cache(cache_key, cached_data, **kwargs)\n",
      "  File \"c:\\Users\\risko\\miniconda3\\envs\\prompt-classification\\Lib\\site-packages\\litellm\\caching\\disk_cache.py\", line 28, in set_cache\n",
      "    self.disk_cache.set(key, value)\n",
      "  File \"c:\\Users\\risko\\miniconda3\\envs\\prompt-classification\\Lib\\site-packages\\diskcache\\core.py\", line 808, in set\n",
      "    self._row_insert(db_key, raw, now, columns)\n",
      "  File \"c:\\Users\\risko\\miniconda3\\envs\\prompt-classification\\Lib\\site-packages\\diskcache\\core.py\", line 857, in _row_insert\n",
      "    sql(\n",
      "sqlite3.OperationalError: no such column: \"size\" - should this be a string literal in single-quotes?\n"
     ]
    },
    {
     "name": "stdout",
     "output_type": "stream",
     "text": [
      "Average Metric: 5.00 / 5 (100.0%):  23%|██▎       | 5/22 [00:01<00:03,  5.26it/s]"
     ]
    },
    {
     "name": "stderr",
     "output_type": "stream",
     "text": [
      "\u001b[92m23:59:19 - LiteLLM:ERROR\u001b[0m: caching.py:645 - LiteLLM Cache: Excepton add_cache: no such column: \"size\" - should this be a string literal in single-quotes?\n",
      "Traceback (most recent call last):\n",
      "  File \"c:\\Users\\risko\\miniconda3\\envs\\prompt-classification\\Lib\\site-packages\\litellm\\caching\\caching.py\", line 643, in add_cache\n",
      "    self.cache.set_cache(cache_key, cached_data, **kwargs)\n",
      "  File \"c:\\Users\\risko\\miniconda3\\envs\\prompt-classification\\Lib\\site-packages\\litellm\\caching\\disk_cache.py\", line 28, in set_cache\n",
      "    self.disk_cache.set(key, value)\n",
      "  File \"c:\\Users\\risko\\miniconda3\\envs\\prompt-classification\\Lib\\site-packages\\diskcache\\core.py\", line 808, in set\n",
      "    self._row_insert(db_key, raw, now, columns)\n",
      "  File \"c:\\Users\\risko\\miniconda3\\envs\\prompt-classification\\Lib\\site-packages\\diskcache\\core.py\", line 857, in _row_insert\n",
      "    sql(\n",
      "sqlite3.OperationalError: no such column: \"size\" - should this be a string literal in single-quotes?\n"
     ]
    },
    {
     "name": "stdout",
     "output_type": "stream",
     "text": [
      "Average Metric: 6.00 / 6 (100.0%):  23%|██▎       | 5/22 [00:01<00:03,  5.26it/s]"
     ]
    },
    {
     "name": "stderr",
     "output_type": "stream",
     "text": [
      "\u001b[92m23:59:20 - LiteLLM:ERROR\u001b[0m: caching.py:645 - LiteLLM Cache: Excepton add_cache: no such column: \"size\" - should this be a string literal in single-quotes?\n",
      "Traceback (most recent call last):\n",
      "  File \"c:\\Users\\risko\\miniconda3\\envs\\prompt-classification\\Lib\\site-packages\\litellm\\caching\\caching.py\", line 643, in add_cache\n",
      "    self.cache.set_cache(cache_key, cached_data, **kwargs)\n",
      "  File \"c:\\Users\\risko\\miniconda3\\envs\\prompt-classification\\Lib\\site-packages\\litellm\\caching\\disk_cache.py\", line 28, in set_cache\n",
      "    self.disk_cache.set(key, value)\n",
      "  File \"c:\\Users\\risko\\miniconda3\\envs\\prompt-classification\\Lib\\site-packages\\diskcache\\core.py\", line 808, in set\n",
      "    self._row_insert(db_key, raw, now, columns)\n",
      "  File \"c:\\Users\\risko\\miniconda3\\envs\\prompt-classification\\Lib\\site-packages\\diskcache\\core.py\", line 857, in _row_insert\n",
      "    sql(\n",
      "sqlite3.OperationalError: no such column: \"size\" - should this be a string literal in single-quotes?\n"
     ]
    },
    {
     "name": "stdout",
     "output_type": "stream",
     "text": [
      "Average Metric: 7.00 / 7 (100.0%):  32%|███▏      | 7/22 [00:01<00:02,  7.06it/s]"
     ]
    },
    {
     "name": "stderr",
     "output_type": "stream",
     "text": [
      "\u001b[92m23:59:20 - LiteLLM:ERROR\u001b[0m: caching.py:645 - LiteLLM Cache: Excepton add_cache: no such column: \"size\" - should this be a string literal in single-quotes?\n",
      "Traceback (most recent call last):\n",
      "  File \"c:\\Users\\risko\\miniconda3\\envs\\prompt-classification\\Lib\\site-packages\\litellm\\caching\\caching.py\", line 643, in add_cache\n",
      "    self.cache.set_cache(cache_key, cached_data, **kwargs)\n",
      "  File \"c:\\Users\\risko\\miniconda3\\envs\\prompt-classification\\Lib\\site-packages\\litellm\\caching\\disk_cache.py\", line 28, in set_cache\n",
      "    self.disk_cache.set(key, value)\n",
      "  File \"c:\\Users\\risko\\miniconda3\\envs\\prompt-classification\\Lib\\site-packages\\diskcache\\core.py\", line 808, in set\n",
      "    self._row_insert(db_key, raw, now, columns)\n",
      "  File \"c:\\Users\\risko\\miniconda3\\envs\\prompt-classification\\Lib\\site-packages\\diskcache\\core.py\", line 857, in _row_insert\n",
      "    sql(\n",
      "sqlite3.OperationalError: no such column: \"size\" - should this be a string literal in single-quotes?\n"
     ]
    },
    {
     "name": "stdout",
     "output_type": "stream",
     "text": [
      "Average Metric: 8.00 / 8 (100.0%):  36%|███▋      | 8/22 [00:01<00:02,  6.17it/s]"
     ]
    },
    {
     "name": "stderr",
     "output_type": "stream",
     "text": [
      "\u001b[92m23:59:20 - LiteLLM:ERROR\u001b[0m: caching.py:645 - LiteLLM Cache: Excepton add_cache: no such column: \"size\" - should this be a string literal in single-quotes?\n",
      "Traceback (most recent call last):\n",
      "  File \"c:\\Users\\risko\\miniconda3\\envs\\prompt-classification\\Lib\\site-packages\\litellm\\caching\\caching.py\", line 643, in add_cache\n",
      "    self.cache.set_cache(cache_key, cached_data, **kwargs)\n",
      "  File \"c:\\Users\\risko\\miniconda3\\envs\\prompt-classification\\Lib\\site-packages\\litellm\\caching\\disk_cache.py\", line 28, in set_cache\n",
      "    self.disk_cache.set(key, value)\n",
      "  File \"c:\\Users\\risko\\miniconda3\\envs\\prompt-classification\\Lib\\site-packages\\diskcache\\core.py\", line 808, in set\n",
      "    self._row_insert(db_key, raw, now, columns)\n",
      "  File \"c:\\Users\\risko\\miniconda3\\envs\\prompt-classification\\Lib\\site-packages\\diskcache\\core.py\", line 857, in _row_insert\n",
      "    sql(\n",
      "sqlite3.OperationalError: no such column: \"size\" - should this be a string literal in single-quotes?\n"
     ]
    },
    {
     "name": "stdout",
     "output_type": "stream",
     "text": [
      "Average Metric: 9.00 / 9 (100.0%):  36%|███▋      | 8/22 [00:01<00:02,  6.17it/s]"
     ]
    },
    {
     "name": "stderr",
     "output_type": "stream",
     "text": [
      "\u001b[92m23:59:20 - LiteLLM:ERROR\u001b[0m: caching.py:645 - LiteLLM Cache: Excepton add_cache: no such column: \"size\" - should this be a string literal in single-quotes?\n",
      "Traceback (most recent call last):\n",
      "  File \"c:\\Users\\risko\\miniconda3\\envs\\prompt-classification\\Lib\\site-packages\\litellm\\caching\\caching.py\", line 643, in add_cache\n",
      "    self.cache.set_cache(cache_key, cached_data, **kwargs)\n",
      "  File \"c:\\Users\\risko\\miniconda3\\envs\\prompt-classification\\Lib\\site-packages\\litellm\\caching\\disk_cache.py\", line 28, in set_cache\n",
      "    self.disk_cache.set(key, value)\n",
      "  File \"c:\\Users\\risko\\miniconda3\\envs\\prompt-classification\\Lib\\site-packages\\diskcache\\core.py\", line 808, in set\n",
      "    self._row_insert(db_key, raw, now, columns)\n",
      "  File \"c:\\Users\\risko\\miniconda3\\envs\\prompt-classification\\Lib\\site-packages\\diskcache\\core.py\", line 857, in _row_insert\n",
      "    sql(\n",
      "sqlite3.OperationalError: no such column: \"size\" - should this be a string literal in single-quotes?\n"
     ]
    },
    {
     "name": "stdout",
     "output_type": "stream",
     "text": [
      "Average Metric: 10.00 / 10 (100.0%):  45%|████▌     | 10/22 [00:01<00:01,  6.00it/s]"
     ]
    },
    {
     "name": "stderr",
     "output_type": "stream",
     "text": [
      "\u001b[92m23:59:20 - LiteLLM:ERROR\u001b[0m: caching.py:645 - LiteLLM Cache: Excepton add_cache: no such column: \"size\" - should this be a string literal in single-quotes?\n",
      "Traceback (most recent call last):\n",
      "  File \"c:\\Users\\risko\\miniconda3\\envs\\prompt-classification\\Lib\\site-packages\\litellm\\caching\\caching.py\", line 643, in add_cache\n",
      "    self.cache.set_cache(cache_key, cached_data, **kwargs)\n",
      "  File \"c:\\Users\\risko\\miniconda3\\envs\\prompt-classification\\Lib\\site-packages\\litellm\\caching\\disk_cache.py\", line 28, in set_cache\n",
      "    self.disk_cache.set(key, value)\n",
      "  File \"c:\\Users\\risko\\miniconda3\\envs\\prompt-classification\\Lib\\site-packages\\diskcache\\core.py\", line 808, in set\n",
      "    self._row_insert(db_key, raw, now, columns)\n",
      "  File \"c:\\Users\\risko\\miniconda3\\envs\\prompt-classification\\Lib\\site-packages\\diskcache\\core.py\", line 857, in _row_insert\n",
      "    sql(\n",
      "sqlite3.OperationalError: no such column: \"size\" - should this be a string literal in single-quotes?\n"
     ]
    },
    {
     "name": "stdout",
     "output_type": "stream",
     "text": [
      "Average Metric: 11.00 / 11 (100.0%):  45%|████▌     | 10/22 [00:01<00:01,  6.00it/s]"
     ]
    },
    {
     "name": "stderr",
     "output_type": "stream",
     "text": [
      "\u001b[92m23:59:20 - LiteLLM:ERROR\u001b[0m: caching.py:645 - LiteLLM Cache: Excepton add_cache: no such column: \"size\" - should this be a string literal in single-quotes?\n",
      "Traceback (most recent call last):\n",
      "  File \"c:\\Users\\risko\\miniconda3\\envs\\prompt-classification\\Lib\\site-packages\\litellm\\caching\\caching.py\", line 643, in add_cache\n",
      "    self.cache.set_cache(cache_key, cached_data, **kwargs)\n",
      "  File \"c:\\Users\\risko\\miniconda3\\envs\\prompt-classification\\Lib\\site-packages\\litellm\\caching\\disk_cache.py\", line 28, in set_cache\n",
      "    self.disk_cache.set(key, value)\n",
      "  File \"c:\\Users\\risko\\miniconda3\\envs\\prompt-classification\\Lib\\site-packages\\diskcache\\core.py\", line 808, in set\n",
      "    self._row_insert(db_key, raw, now, columns)\n",
      "  File \"c:\\Users\\risko\\miniconda3\\envs\\prompt-classification\\Lib\\site-packages\\diskcache\\core.py\", line 857, in _row_insert\n",
      "    sql(\n",
      "sqlite3.OperationalError: no such column: \"size\" - should this be a string literal in single-quotes?\n"
     ]
    },
    {
     "name": "stdout",
     "output_type": "stream",
     "text": [
      "Average Metric: 12.00 / 12 (100.0%):  55%|█████▍    | 12/22 [00:02<00:01,  7.70it/s]"
     ]
    },
    {
     "name": "stderr",
     "output_type": "stream",
     "text": [
      "\u001b[92m23:59:20 - LiteLLM:ERROR\u001b[0m: caching.py:645 - LiteLLM Cache: Excepton add_cache: no such column: \"size\" - should this be a string literal in single-quotes?\n",
      "Traceback (most recent call last):\n",
      "  File \"c:\\Users\\risko\\miniconda3\\envs\\prompt-classification\\Lib\\site-packages\\litellm\\caching\\caching.py\", line 643, in add_cache\n",
      "    self.cache.set_cache(cache_key, cached_data, **kwargs)\n",
      "  File \"c:\\Users\\risko\\miniconda3\\envs\\prompt-classification\\Lib\\site-packages\\litellm\\caching\\disk_cache.py\", line 28, in set_cache\n",
      "    self.disk_cache.set(key, value)\n",
      "  File \"c:\\Users\\risko\\miniconda3\\envs\\prompt-classification\\Lib\\site-packages\\diskcache\\core.py\", line 808, in set\n",
      "    self._row_insert(db_key, raw, now, columns)\n",
      "  File \"c:\\Users\\risko\\miniconda3\\envs\\prompt-classification\\Lib\\site-packages\\diskcache\\core.py\", line 857, in _row_insert\n",
      "    sql(\n",
      "sqlite3.OperationalError: no such column: \"size\" - should this be a string literal in single-quotes?\n"
     ]
    },
    {
     "name": "stdout",
     "output_type": "stream",
     "text": [
      "Average Metric: 13.00 / 13 (100.0%):  59%|█████▉    | 13/22 [00:02<00:01,  7.40it/s]"
     ]
    },
    {
     "name": "stderr",
     "output_type": "stream",
     "text": [
      "\u001b[92m23:59:20 - LiteLLM:ERROR\u001b[0m: caching.py:645 - LiteLLM Cache: Excepton add_cache: no such column: \"size\" - should this be a string literal in single-quotes?\n",
      "Traceback (most recent call last):\n",
      "  File \"c:\\Users\\risko\\miniconda3\\envs\\prompt-classification\\Lib\\site-packages\\litellm\\caching\\caching.py\", line 643, in add_cache\n",
      "    self.cache.set_cache(cache_key, cached_data, **kwargs)\n",
      "  File \"c:\\Users\\risko\\miniconda3\\envs\\prompt-classification\\Lib\\site-packages\\litellm\\caching\\disk_cache.py\", line 28, in set_cache\n",
      "    self.disk_cache.set(key, value)\n",
      "  File \"c:\\Users\\risko\\miniconda3\\envs\\prompt-classification\\Lib\\site-packages\\diskcache\\core.py\", line 808, in set\n",
      "    self._row_insert(db_key, raw, now, columns)\n",
      "  File \"c:\\Users\\risko\\miniconda3\\envs\\prompt-classification\\Lib\\site-packages\\diskcache\\core.py\", line 857, in _row_insert\n",
      "    sql(\n",
      "sqlite3.OperationalError: no such column: \"size\" - should this be a string literal in single-quotes?\n"
     ]
    },
    {
     "name": "stdout",
     "output_type": "stream",
     "text": [
      "Average Metric: 14.00 / 14 (100.0%):  59%|█████▉    | 13/22 [00:02<00:01,  7.40it/s]"
     ]
    },
    {
     "name": "stderr",
     "output_type": "stream",
     "text": [
      "\u001b[92m23:59:21 - LiteLLM:ERROR\u001b[0m: caching.py:645 - LiteLLM Cache: Excepton add_cache: no such column: \"size\" - should this be a string literal in single-quotes?\n",
      "Traceback (most recent call last):\n",
      "  File \"c:\\Users\\risko\\miniconda3\\envs\\prompt-classification\\Lib\\site-packages\\litellm\\caching\\caching.py\", line 643, in add_cache\n",
      "    self.cache.set_cache(cache_key, cached_data, **kwargs)\n",
      "  File \"c:\\Users\\risko\\miniconda3\\envs\\prompt-classification\\Lib\\site-packages\\litellm\\caching\\disk_cache.py\", line 28, in set_cache\n",
      "    self.disk_cache.set(key, value)\n",
      "  File \"c:\\Users\\risko\\miniconda3\\envs\\prompt-classification\\Lib\\site-packages\\diskcache\\core.py\", line 808, in set\n",
      "    self._row_insert(db_key, raw, now, columns)\n",
      "  File \"c:\\Users\\risko\\miniconda3\\envs\\prompt-classification\\Lib\\site-packages\\diskcache\\core.py\", line 857, in _row_insert\n",
      "    sql(\n",
      "sqlite3.OperationalError: no such column: \"size\" - should this be a string literal in single-quotes?\n"
     ]
    },
    {
     "name": "stdout",
     "output_type": "stream",
     "text": [
      "Average Metric: 15.00 / 15 (100.0%):  64%|██████▎   | 14/22 [00:02<00:01,  7.40it/s]"
     ]
    },
    {
     "name": "stderr",
     "output_type": "stream",
     "text": [
      "\u001b[92m23:59:21 - LiteLLM:ERROR\u001b[0m: caching.py:645 - LiteLLM Cache: Excepton add_cache: no such column: \"size\" - should this be a string literal in single-quotes?\n",
      "Traceback (most recent call last):\n",
      "  File \"c:\\Users\\risko\\miniconda3\\envs\\prompt-classification\\Lib\\site-packages\\litellm\\caching\\caching.py\", line 643, in add_cache\n",
      "    self.cache.set_cache(cache_key, cached_data, **kwargs)\n",
      "  File \"c:\\Users\\risko\\miniconda3\\envs\\prompt-classification\\Lib\\site-packages\\litellm\\caching\\disk_cache.py\", line 28, in set_cache\n",
      "    self.disk_cache.set(key, value)\n",
      "  File \"c:\\Users\\risko\\miniconda3\\envs\\prompt-classification\\Lib\\site-packages\\diskcache\\core.py\", line 808, in set\n",
      "    self._row_insert(db_key, raw, now, columns)\n",
      "  File \"c:\\Users\\risko\\miniconda3\\envs\\prompt-classification\\Lib\\site-packages\\diskcache\\core.py\", line 857, in _row_insert\n",
      "    sql(\n",
      "sqlite3.OperationalError: no such column: \"size\" - should this be a string literal in single-quotes?\n"
     ]
    },
    {
     "name": "stdout",
     "output_type": "stream",
     "text": [
      "Average Metric: 16.00 / 16 (100.0%):  73%|███████▎  | 16/22 [00:02<00:00,  9.96it/s]"
     ]
    },
    {
     "name": "stderr",
     "output_type": "stream",
     "text": [
      "\u001b[92m23:59:21 - LiteLLM:ERROR\u001b[0m: caching.py:645 - LiteLLM Cache: Excepton add_cache: no such column: \"size\" - should this be a string literal in single-quotes?\n",
      "Traceback (most recent call last):\n",
      "  File \"c:\\Users\\risko\\miniconda3\\envs\\prompt-classification\\Lib\\site-packages\\litellm\\caching\\caching.py\", line 643, in add_cache\n",
      "    self.cache.set_cache(cache_key, cached_data, **kwargs)\n",
      "  File \"c:\\Users\\risko\\miniconda3\\envs\\prompt-classification\\Lib\\site-packages\\litellm\\caching\\disk_cache.py\", line 28, in set_cache\n",
      "    self.disk_cache.set(key, value)\n",
      "  File \"c:\\Users\\risko\\miniconda3\\envs\\prompt-classification\\Lib\\site-packages\\diskcache\\core.py\", line 808, in set\n",
      "    self._row_insert(db_key, raw, now, columns)\n",
      "  File \"c:\\Users\\risko\\miniconda3\\envs\\prompt-classification\\Lib\\site-packages\\diskcache\\core.py\", line 857, in _row_insert\n",
      "    sql(\n",
      "sqlite3.OperationalError: no such column: \"size\" - should this be a string literal in single-quotes?\n"
     ]
    },
    {
     "name": "stdout",
     "output_type": "stream",
     "text": [
      "Average Metric: 17.00 / 17 (100.0%):  73%|███████▎  | 16/22 [00:02<00:00,  9.96it/s]"
     ]
    },
    {
     "name": "stderr",
     "output_type": "stream",
     "text": [
      "\u001b[92m23:59:21 - LiteLLM:ERROR\u001b[0m: caching.py:645 - LiteLLM Cache: Excepton add_cache: no such column: \"size\" - should this be a string literal in single-quotes?\n",
      "Traceback (most recent call last):\n",
      "  File \"c:\\Users\\risko\\miniconda3\\envs\\prompt-classification\\Lib\\site-packages\\litellm\\caching\\caching.py\", line 643, in add_cache\n",
      "    self.cache.set_cache(cache_key, cached_data, **kwargs)\n",
      "  File \"c:\\Users\\risko\\miniconda3\\envs\\prompt-classification\\Lib\\site-packages\\litellm\\caching\\disk_cache.py\", line 28, in set_cache\n",
      "    self.disk_cache.set(key, value)\n",
      "  File \"c:\\Users\\risko\\miniconda3\\envs\\prompt-classification\\Lib\\site-packages\\diskcache\\core.py\", line 808, in set\n",
      "    self._row_insert(db_key, raw, now, columns)\n",
      "  File \"c:\\Users\\risko\\miniconda3\\envs\\prompt-classification\\Lib\\site-packages\\diskcache\\core.py\", line 857, in _row_insert\n",
      "    sql(\n",
      "sqlite3.OperationalError: no such column: \"size\" - should this be a string literal in single-quotes?\n"
     ]
    },
    {
     "name": "stdout",
     "output_type": "stream",
     "text": [
      "Average Metric: 18.00 / 18 (100.0%):  82%|████████▏ | 18/22 [00:03<00:00,  5.84it/s]"
     ]
    },
    {
     "name": "stderr",
     "output_type": "stream",
     "text": [
      "\u001b[92m23:59:21 - LiteLLM:ERROR\u001b[0m: caching.py:645 - LiteLLM Cache: Excepton add_cache: no such column: \"size\" - should this be a string literal in single-quotes?\n",
      "Traceback (most recent call last):\n",
      "  File \"c:\\Users\\risko\\miniconda3\\envs\\prompt-classification\\Lib\\site-packages\\litellm\\caching\\caching.py\", line 643, in add_cache\n",
      "    self.cache.set_cache(cache_key, cached_data, **kwargs)\n",
      "  File \"c:\\Users\\risko\\miniconda3\\envs\\prompt-classification\\Lib\\site-packages\\litellm\\caching\\disk_cache.py\", line 28, in set_cache\n",
      "    self.disk_cache.set(key, value)\n",
      "  File \"c:\\Users\\risko\\miniconda3\\envs\\prompt-classification\\Lib\\site-packages\\diskcache\\core.py\", line 808, in set\n",
      "    self._row_insert(db_key, raw, now, columns)\n",
      "  File \"c:\\Users\\risko\\miniconda3\\envs\\prompt-classification\\Lib\\site-packages\\diskcache\\core.py\", line 857, in _row_insert\n",
      "    sql(\n",
      "sqlite3.OperationalError: no such column: \"size\" - should this be a string literal in single-quotes?\n"
     ]
    },
    {
     "name": "stdout",
     "output_type": "stream",
     "text": [
      "Average Metric: 19.00 / 19 (100.0%):  82%|████████▏ | 18/22 [00:03<00:00,  5.84it/s]"
     ]
    },
    {
     "name": "stderr",
     "output_type": "stream",
     "text": [
      "\u001b[92m23:59:22 - LiteLLM:ERROR\u001b[0m: caching.py:645 - LiteLLM Cache: Excepton add_cache: no such column: \"size\" - should this be a string literal in single-quotes?\n",
      "Traceback (most recent call last):\n",
      "  File \"c:\\Users\\risko\\miniconda3\\envs\\prompt-classification\\Lib\\site-packages\\litellm\\caching\\caching.py\", line 643, in add_cache\n",
      "    self.cache.set_cache(cache_key, cached_data, **kwargs)\n",
      "  File \"c:\\Users\\risko\\miniconda3\\envs\\prompt-classification\\Lib\\site-packages\\litellm\\caching\\disk_cache.py\", line 28, in set_cache\n",
      "    self.disk_cache.set(key, value)\n",
      "  File \"c:\\Users\\risko\\miniconda3\\envs\\prompt-classification\\Lib\\site-packages\\diskcache\\core.py\", line 808, in set\n",
      "    self._row_insert(db_key, raw, now, columns)\n",
      "  File \"c:\\Users\\risko\\miniconda3\\envs\\prompt-classification\\Lib\\site-packages\\diskcache\\core.py\", line 857, in _row_insert\n",
      "    sql(\n",
      "sqlite3.OperationalError: no such column: \"size\" - should this be a string literal in single-quotes?\n"
     ]
    },
    {
     "name": "stdout",
     "output_type": "stream",
     "text": [
      "Average Metric: 20.00 / 20 (100.0%):  91%|█████████ | 20/22 [00:03<00:00,  6.24it/s]"
     ]
    },
    {
     "name": "stderr",
     "output_type": "stream",
     "text": [
      "\u001b[92m23:59:23 - LiteLLM:ERROR\u001b[0m: caching.py:645 - LiteLLM Cache: Excepton add_cache: no such column: \"size\" - should this be a string literal in single-quotes?\n",
      "Traceback (most recent call last):\n",
      "  File \"c:\\Users\\risko\\miniconda3\\envs\\prompt-classification\\Lib\\site-packages\\litellm\\caching\\caching.py\", line 643, in add_cache\n",
      "    self.cache.set_cache(cache_key, cached_data, **kwargs)\n",
      "  File \"c:\\Users\\risko\\miniconda3\\envs\\prompt-classification\\Lib\\site-packages\\litellm\\caching\\disk_cache.py\", line 28, in set_cache\n",
      "    self.disk_cache.set(key, value)\n",
      "  File \"c:\\Users\\risko\\miniconda3\\envs\\prompt-classification\\Lib\\site-packages\\diskcache\\core.py\", line 808, in set\n",
      "    self._row_insert(db_key, raw, now, columns)\n",
      "  File \"c:\\Users\\risko\\miniconda3\\envs\\prompt-classification\\Lib\\site-packages\\diskcache\\core.py\", line 857, in _row_insert\n",
      "    sql(\n",
      "sqlite3.OperationalError: no such column: \"size\" - should this be a string literal in single-quotes?\n"
     ]
    },
    {
     "name": "stdout",
     "output_type": "stream",
     "text": [
      "Average Metric: 21.00 / 21 (100.0%):  95%|█████████▌| 21/22 [00:04<00:00,  3.31it/s]"
     ]
    },
    {
     "name": "stderr",
     "output_type": "stream",
     "text": [
      "\u001b[92m23:59:23 - LiteLLM:ERROR\u001b[0m: caching.py:645 - LiteLLM Cache: Excepton add_cache: no such column: \"size\" - should this be a string literal in single-quotes?\n",
      "Traceback (most recent call last):\n",
      "  File \"c:\\Users\\risko\\miniconda3\\envs\\prompt-classification\\Lib\\site-packages\\litellm\\caching\\caching.py\", line 643, in add_cache\n",
      "    self.cache.set_cache(cache_key, cached_data, **kwargs)\n",
      "  File \"c:\\Users\\risko\\miniconda3\\envs\\prompt-classification\\Lib\\site-packages\\litellm\\caching\\disk_cache.py\", line 28, in set_cache\n",
      "    self.disk_cache.set(key, value)\n",
      "  File \"c:\\Users\\risko\\miniconda3\\envs\\prompt-classification\\Lib\\site-packages\\diskcache\\core.py\", line 808, in set\n",
      "    self._row_insert(db_key, raw, now, columns)\n",
      "  File \"c:\\Users\\risko\\miniconda3\\envs\\prompt-classification\\Lib\\site-packages\\diskcache\\core.py\", line 857, in _row_insert\n",
      "    sql(\n",
      "sqlite3.OperationalError: no such column: \"size\" - should this be a string literal in single-quotes?\n"
     ]
    },
    {
     "name": "stdout",
     "output_type": "stream",
     "text": [
      "Average Metric: 22.00 / 22 (100.0%): 100%|██████████| 22/22 [00:04<00:00,  4.99it/s]"
     ]
    },
    {
     "name": "stderr",
     "output_type": "stream",
     "text": [
      "2025/02/21 23:59:23 INFO dspy.evaluate.evaluate: Average Metric: 22 / 22 (100.0%)\n"
     ]
    },
    {
     "name": "stdout",
     "output_type": "stream",
     "text": [
      "\n",
      "Scores so far: [100.0, 100.0, 100.0]\n",
      "Best score so far: 100.0\n"
     ]
    },
    {
     "name": "stderr",
     "output_type": "stream",
     "text": [
      "  0%|          | 0/22 [00:00<?, ?it/s]\u001b[92m23:59:23 - LiteLLM:ERROR\u001b[0m: caching.py:645 - LiteLLM Cache: Excepton add_cache: no such column: \"size\" - should this be a string literal in single-quotes?\n",
      "Traceback (most recent call last):\n",
      "  File \"c:\\Users\\risko\\miniconda3\\envs\\prompt-classification\\Lib\\site-packages\\litellm\\caching\\caching.py\", line 643, in add_cache\n",
      "    self.cache.set_cache(cache_key, cached_data, **kwargs)\n",
      "  File \"c:\\Users\\risko\\miniconda3\\envs\\prompt-classification\\Lib\\site-packages\\litellm\\caching\\disk_cache.py\", line 28, in set_cache\n",
      "    self.disk_cache.set(key, value)\n",
      "  File \"c:\\Users\\risko\\miniconda3\\envs\\prompt-classification\\Lib\\site-packages\\diskcache\\core.py\", line 808, in set\n",
      "    self._row_insert(db_key, raw, now, columns)\n",
      "  File \"c:\\Users\\risko\\miniconda3\\envs\\prompt-classification\\Lib\\site-packages\\diskcache\\core.py\", line 857, in _row_insert\n",
      "    sql(\n",
      "sqlite3.OperationalError: no such column: \"size\" - should this be a string literal in single-quotes?\n",
      "  5%|▍         | 1/22 [00:00<00:07,  2.77it/s]\u001b[92m23:59:23 - LiteLLM:ERROR\u001b[0m: caching.py:645 - LiteLLM Cache: Excepton add_cache: no such column: \"size\" - should this be a string literal in single-quotes?\n",
      "Traceback (most recent call last):\n",
      "  File \"c:\\Users\\risko\\miniconda3\\envs\\prompt-classification\\Lib\\site-packages\\litellm\\caching\\caching.py\", line 643, in add_cache\n",
      "    self.cache.set_cache(cache_key, cached_data, **kwargs)\n",
      "  File \"c:\\Users\\risko\\miniconda3\\envs\\prompt-classification\\Lib\\site-packages\\litellm\\caching\\disk_cache.py\", line 28, in set_cache\n",
      "    self.disk_cache.set(key, value)\n",
      "  File \"c:\\Users\\risko\\miniconda3\\envs\\prompt-classification\\Lib\\site-packages\\diskcache\\core.py\", line 808, in set\n",
      "    self._row_insert(db_key, raw, now, columns)\n",
      "  File \"c:\\Users\\risko\\miniconda3\\envs\\prompt-classification\\Lib\\site-packages\\diskcache\\core.py\", line 857, in _row_insert\n",
      "    sql(\n",
      "sqlite3.OperationalError: no such column: \"size\" - should this be a string literal in single-quotes?\n",
      "  9%|▉         | 2/22 [00:00<00:07,  2.52it/s]\u001b[92m23:59:25 - LiteLLM:ERROR\u001b[0m: caching.py:645 - LiteLLM Cache: Excepton add_cache: no such column: \"size\" - should this be a string literal in single-quotes?\n",
      "Traceback (most recent call last):\n",
      "  File \"c:\\Users\\risko\\miniconda3\\envs\\prompt-classification\\Lib\\site-packages\\litellm\\caching\\caching.py\", line 643, in add_cache\n",
      "    self.cache.set_cache(cache_key, cached_data, **kwargs)\n",
      "  File \"c:\\Users\\risko\\miniconda3\\envs\\prompt-classification\\Lib\\site-packages\\litellm\\caching\\disk_cache.py\", line 28, in set_cache\n",
      "    self.disk_cache.set(key, value)\n",
      "  File \"c:\\Users\\risko\\miniconda3\\envs\\prompt-classification\\Lib\\site-packages\\diskcache\\core.py\", line 808, in set\n",
      "    self._row_insert(db_key, raw, now, columns)\n",
      "  File \"c:\\Users\\risko\\miniconda3\\envs\\prompt-classification\\Lib\\site-packages\\diskcache\\core.py\", line 857, in _row_insert\n",
      "    sql(\n",
      "sqlite3.OperationalError: no such column: \"size\" - should this be a string literal in single-quotes?\n",
      " 14%|█▎        | 3/22 [00:01<00:13,  1.37it/s]\u001b[92m23:59:25 - LiteLLM:ERROR\u001b[0m: caching.py:645 - LiteLLM Cache: Excepton add_cache: no such column: \"size\" - should this be a string literal in single-quotes?\n",
      "Traceback (most recent call last):\n",
      "  File \"c:\\Users\\risko\\miniconda3\\envs\\prompt-classification\\Lib\\site-packages\\litellm\\caching\\caching.py\", line 643, in add_cache\n",
      "    self.cache.set_cache(cache_key, cached_data, **kwargs)\n",
      "  File \"c:\\Users\\risko\\miniconda3\\envs\\prompt-classification\\Lib\\site-packages\\litellm\\caching\\disk_cache.py\", line 28, in set_cache\n",
      "    self.disk_cache.set(key, value)\n",
      "  File \"c:\\Users\\risko\\miniconda3\\envs\\prompt-classification\\Lib\\site-packages\\diskcache\\core.py\", line 808, in set\n",
      "    self._row_insert(db_key, raw, now, columns)\n",
      "  File \"c:\\Users\\risko\\miniconda3\\envs\\prompt-classification\\Lib\\site-packages\\diskcache\\core.py\", line 857, in _row_insert\n",
      "    sql(\n",
      "sqlite3.OperationalError: no such column: \"size\" - should this be a string literal in single-quotes?\n",
      " 18%|█▊        | 4/22 [00:02<00:10,  1.73it/s]\u001b[92m23:59:25 - LiteLLM:ERROR\u001b[0m: caching.py:645 - LiteLLM Cache: Excepton add_cache: no such column: \"size\" - should this be a string literal in single-quotes?\n",
      "Traceback (most recent call last):\n",
      "  File \"c:\\Users\\risko\\miniconda3\\envs\\prompt-classification\\Lib\\site-packages\\litellm\\caching\\caching.py\", line 643, in add_cache\n",
      "    self.cache.set_cache(cache_key, cached_data, **kwargs)\n",
      "  File \"c:\\Users\\risko\\miniconda3\\envs\\prompt-classification\\Lib\\site-packages\\litellm\\caching\\disk_cache.py\", line 28, in set_cache\n",
      "    self.disk_cache.set(key, value)\n",
      "  File \"c:\\Users\\risko\\miniconda3\\envs\\prompt-classification\\Lib\\site-packages\\diskcache\\core.py\", line 808, in set\n",
      "    self._row_insert(db_key, raw, now, columns)\n",
      "  File \"c:\\Users\\risko\\miniconda3\\envs\\prompt-classification\\Lib\\site-packages\\diskcache\\core.py\", line 857, in _row_insert\n",
      "    sql(\n",
      "sqlite3.OperationalError: no such column: \"size\" - should this be a string literal in single-quotes?\n",
      " 23%|██▎       | 5/22 [00:02<00:09,  1.83it/s]\u001b[92m23:59:30 - LiteLLM:ERROR\u001b[0m: caching.py:645 - LiteLLM Cache: Excepton add_cache: no such column: \"size\" - should this be a string literal in single-quotes?\n",
      "Traceback (most recent call last):\n",
      "  File \"c:\\Users\\risko\\miniconda3\\envs\\prompt-classification\\Lib\\site-packages\\litellm\\caching\\caching.py\", line 643, in add_cache\n",
      "    self.cache.set_cache(cache_key, cached_data, **kwargs)\n",
      "  File \"c:\\Users\\risko\\miniconda3\\envs\\prompt-classification\\Lib\\site-packages\\litellm\\caching\\disk_cache.py\", line 28, in set_cache\n",
      "    self.disk_cache.set(key, value)\n",
      "  File \"c:\\Users\\risko\\miniconda3\\envs\\prompt-classification\\Lib\\site-packages\\diskcache\\core.py\", line 808, in set\n",
      "    self._row_insert(db_key, raw, now, columns)\n",
      "  File \"c:\\Users\\risko\\miniconda3\\envs\\prompt-classification\\Lib\\site-packages\\diskcache\\core.py\", line 857, in _row_insert\n",
      "    sql(\n",
      "sqlite3.OperationalError: no such column: \"size\" - should this be a string literal in single-quotes?\n",
      " 27%|██▋       | 6/22 [00:06<00:27,  1.75s/it]\u001b[92m23:59:30 - LiteLLM:ERROR\u001b[0m: caching.py:645 - LiteLLM Cache: Excepton add_cache: no such column: \"size\" - should this be a string literal in single-quotes?\n",
      "Traceback (most recent call last):\n",
      "  File \"c:\\Users\\risko\\miniconda3\\envs\\prompt-classification\\Lib\\site-packages\\litellm\\caching\\caching.py\", line 643, in add_cache\n",
      "    self.cache.set_cache(cache_key, cached_data, **kwargs)\n",
      "  File \"c:\\Users\\risko\\miniconda3\\envs\\prompt-classification\\Lib\\site-packages\\litellm\\caching\\disk_cache.py\", line 28, in set_cache\n",
      "    self.disk_cache.set(key, value)\n",
      "  File \"c:\\Users\\risko\\miniconda3\\envs\\prompt-classification\\Lib\\site-packages\\diskcache\\core.py\", line 808, in set\n",
      "    self._row_insert(db_key, raw, now, columns)\n",
      "  File \"c:\\Users\\risko\\miniconda3\\envs\\prompt-classification\\Lib\\site-packages\\diskcache\\core.py\", line 857, in _row_insert\n",
      "    sql(\n",
      "sqlite3.OperationalError: no such column: \"size\" - should this be a string literal in single-quotes?\n",
      " 32%|███▏      | 7/22 [00:07<00:16,  1.10s/it]\n"
     ]
    },
    {
     "name": "stdout",
     "output_type": "stream",
     "text": [
      "Bootstrapped 7 full traces after 7 examples for up to 1 rounds, amounting to 7 attempts.\n",
      "  0%|          | 0/22 [00:00<?, ?it/s]"
     ]
    },
    {
     "name": "stderr",
     "output_type": "stream",
     "text": [
      "\u001b[92m23:59:31 - LiteLLM:ERROR\u001b[0m: caching.py:645 - LiteLLM Cache: Excepton add_cache: no such column: \"size\" - should this be a string literal in single-quotes?\n",
      "Traceback (most recent call last):\n",
      "  File \"c:\\Users\\risko\\miniconda3\\envs\\prompt-classification\\Lib\\site-packages\\litellm\\caching\\caching.py\", line 643, in add_cache\n",
      "    self.cache.set_cache(cache_key, cached_data, **kwargs)\n",
      "  File \"c:\\Users\\risko\\miniconda3\\envs\\prompt-classification\\Lib\\site-packages\\litellm\\caching\\disk_cache.py\", line 28, in set_cache\n",
      "    self.disk_cache.set(key, value)\n",
      "  File \"c:\\Users\\risko\\miniconda3\\envs\\prompt-classification\\Lib\\site-packages\\diskcache\\core.py\", line 808, in set\n",
      "    self._row_insert(db_key, raw, now, columns)\n",
      "  File \"c:\\Users\\risko\\miniconda3\\envs\\prompt-classification\\Lib\\site-packages\\diskcache\\core.py\", line 857, in _row_insert\n",
      "    sql(\n",
      "sqlite3.OperationalError: no such column: \"size\" - should this be a string literal in single-quotes?\n"
     ]
    },
    {
     "name": "stdout",
     "output_type": "stream",
     "text": [
      "Average Metric: 1.00 / 1 (100.0%):   5%|▍         | 1/22 [00:00<00:13,  1.52it/s]"
     ]
    },
    {
     "name": "stderr",
     "output_type": "stream",
     "text": [
      "\u001b[92m23:59:31 - LiteLLM:ERROR\u001b[0m: caching.py:645 - LiteLLM Cache: Excepton add_cache: no such column: \"size\" - should this be a string literal in single-quotes?\n",
      "Traceback (most recent call last):\n",
      "  File \"c:\\Users\\risko\\miniconda3\\envs\\prompt-classification\\Lib\\site-packages\\litellm\\caching\\caching.py\", line 643, in add_cache\n",
      "    self.cache.set_cache(cache_key, cached_data, **kwargs)\n",
      "  File \"c:\\Users\\risko\\miniconda3\\envs\\prompt-classification\\Lib\\site-packages\\litellm\\caching\\disk_cache.py\", line 28, in set_cache\n",
      "    self.disk_cache.set(key, value)\n",
      "  File \"c:\\Users\\risko\\miniconda3\\envs\\prompt-classification\\Lib\\site-packages\\diskcache\\core.py\", line 808, in set\n",
      "    self._row_insert(db_key, raw, now, columns)\n",
      "  File \"c:\\Users\\risko\\miniconda3\\envs\\prompt-classification\\Lib\\site-packages\\diskcache\\core.py\", line 857, in _row_insert\n",
      "    sql(\n",
      "sqlite3.OperationalError: no such column: \"size\" - should this be a string literal in single-quotes?\n"
     ]
    },
    {
     "name": "stdout",
     "output_type": "stream",
     "text": [
      "Average Metric: 1.00 / 2 (50.0%):   5%|▍         | 1/22 [00:00<00:13,  1.52it/s] "
     ]
    },
    {
     "name": "stderr",
     "output_type": "stream",
     "text": [
      "\u001b[92m23:59:31 - LiteLLM:ERROR\u001b[0m: caching.py:645 - LiteLLM Cache: Excepton add_cache: no such column: \"size\" - should this be a string literal in single-quotes?\n",
      "Traceback (most recent call last):\n",
      "  File \"c:\\Users\\risko\\miniconda3\\envs\\prompt-classification\\Lib\\site-packages\\litellm\\caching\\caching.py\", line 643, in add_cache\n",
      "    self.cache.set_cache(cache_key, cached_data, **kwargs)\n",
      "  File \"c:\\Users\\risko\\miniconda3\\envs\\prompt-classification\\Lib\\site-packages\\litellm\\caching\\disk_cache.py\", line 28, in set_cache\n",
      "    self.disk_cache.set(key, value)\n",
      "  File \"c:\\Users\\risko\\miniconda3\\envs\\prompt-classification\\Lib\\site-packages\\diskcache\\core.py\", line 808, in set\n",
      "    self._row_insert(db_key, raw, now, columns)\n",
      "  File \"c:\\Users\\risko\\miniconda3\\envs\\prompt-classification\\Lib\\site-packages\\diskcache\\core.py\", line 857, in _row_insert\n",
      "    sql(\n",
      "sqlite3.OperationalError: no such column: \"size\" - should this be a string literal in single-quotes?\n"
     ]
    },
    {
     "name": "stdout",
     "output_type": "stream",
     "text": [
      "Average Metric: 2.00 / 3 (66.7%):   9%|▉         | 2/22 [00:00<00:13,  1.52it/s]"
     ]
    },
    {
     "name": "stderr",
     "output_type": "stream",
     "text": [
      "\u001b[92m23:59:31 - LiteLLM:ERROR\u001b[0m: caching.py:645 - LiteLLM Cache: Excepton add_cache: no such column: \"size\" - should this be a string literal in single-quotes?\n",
      "Traceback (most recent call last):\n",
      "  File \"c:\\Users\\risko\\miniconda3\\envs\\prompt-classification\\Lib\\site-packages\\litellm\\caching\\caching.py\", line 643, in add_cache\n",
      "    self.cache.set_cache(cache_key, cached_data, **kwargs)\n",
      "  File \"c:\\Users\\risko\\miniconda3\\envs\\prompt-classification\\Lib\\site-packages\\litellm\\caching\\disk_cache.py\", line 28, in set_cache\n",
      "    self.disk_cache.set(key, value)\n",
      "  File \"c:\\Users\\risko\\miniconda3\\envs\\prompt-classification\\Lib\\site-packages\\diskcache\\core.py\", line 808, in set\n",
      "    self._row_insert(db_key, raw, now, columns)\n",
      "  File \"c:\\Users\\risko\\miniconda3\\envs\\prompt-classification\\Lib\\site-packages\\diskcache\\core.py\", line 857, in _row_insert\n",
      "    sql(\n",
      "sqlite3.OperationalError: no such column: \"size\" - should this be a string literal in single-quotes?\n",
      "\u001b[92m23:59:31 - LiteLLM:ERROR\u001b[0m: caching.py:645 - LiteLLM Cache: Excepton add_cache: no such column: \"size\" - should this be a string literal in single-quotes?\n",
      "Traceback (most recent call last):\n",
      "  File \"c:\\Users\\risko\\miniconda3\\envs\\prompt-classification\\Lib\\site-packages\\litellm\\caching\\caching.py\", line 643, in add_cache\n",
      "    self.cache.set_cache(cache_key, cached_data, **kwargs)\n",
      "  File \"c:\\Users\\risko\\miniconda3\\envs\\prompt-classification\\Lib\\site-packages\\litellm\\caching\\disk_cache.py\", line 28, in set_cache\n",
      "    self.disk_cache.set(key, value)\n",
      "  File \"c:\\Users\\risko\\miniconda3\\envs\\prompt-classification\\Lib\\site-packages\\diskcache\\core.py\", line 808, in set\n",
      "    self._row_insert(db_key, raw, now, columns)\n",
      "  File \"c:\\Users\\risko\\miniconda3\\envs\\prompt-classification\\Lib\\site-packages\\diskcache\\core.py\", line 857, in _row_insert\n",
      "    sql(\n",
      "sqlite3.OperationalError: no such column: \"size\" - should this be a string literal in single-quotes?\n"
     ]
    },
    {
     "name": "stdout",
     "output_type": "stream",
     "text": [
      "Average Metric: 4.00 / 5 (80.0%):  23%|██▎       | 5/22 [00:00<00:02,  8.03it/s]"
     ]
    },
    {
     "name": "stderr",
     "output_type": "stream",
     "text": [
      "\u001b[92m23:59:32 - LiteLLM:ERROR\u001b[0m: caching.py:645 - LiteLLM Cache: Excepton add_cache: no such column: \"size\" - should this be a string literal in single-quotes?\n",
      "Traceback (most recent call last):\n",
      "  File \"c:\\Users\\risko\\miniconda3\\envs\\prompt-classification\\Lib\\site-packages\\litellm\\caching\\caching.py\", line 643, in add_cache\n",
      "    self.cache.set_cache(cache_key, cached_data, **kwargs)\n",
      "  File \"c:\\Users\\risko\\miniconda3\\envs\\prompt-classification\\Lib\\site-packages\\litellm\\caching\\disk_cache.py\", line 28, in set_cache\n",
      "    self.disk_cache.set(key, value)\n",
      "  File \"c:\\Users\\risko\\miniconda3\\envs\\prompt-classification\\Lib\\site-packages\\diskcache\\core.py\", line 808, in set\n",
      "    self._row_insert(db_key, raw, now, columns)\n",
      "  File \"c:\\Users\\risko\\miniconda3\\envs\\prompt-classification\\Lib\\site-packages\\diskcache\\core.py\", line 857, in _row_insert\n",
      "    sql(\n",
      "sqlite3.OperationalError: no such column: \"size\" - should this be a string literal in single-quotes?\n"
     ]
    },
    {
     "name": "stdout",
     "output_type": "stream",
     "text": [
      "Average Metric: 5.00 / 6 (83.3%):  23%|██▎       | 5/22 [00:00<00:02,  8.03it/s]"
     ]
    },
    {
     "name": "stderr",
     "output_type": "stream",
     "text": [
      "\u001b[92m23:59:32 - LiteLLM:ERROR\u001b[0m: caching.py:645 - LiteLLM Cache: Excepton add_cache: no such column: \"size\" - should this be a string literal in single-quotes?\n",
      "Traceback (most recent call last):\n",
      "  File \"c:\\Users\\risko\\miniconda3\\envs\\prompt-classification\\Lib\\site-packages\\litellm\\caching\\caching.py\", line 643, in add_cache\n",
      "    self.cache.set_cache(cache_key, cached_data, **kwargs)\n",
      "  File \"c:\\Users\\risko\\miniconda3\\envs\\prompt-classification\\Lib\\site-packages\\litellm\\caching\\disk_cache.py\", line 28, in set_cache\n",
      "    self.disk_cache.set(key, value)\n",
      "  File \"c:\\Users\\risko\\miniconda3\\envs\\prompt-classification\\Lib\\site-packages\\diskcache\\core.py\", line 808, in set\n",
      "    self._row_insert(db_key, raw, now, columns)\n",
      "  File \"c:\\Users\\risko\\miniconda3\\envs\\prompt-classification\\Lib\\site-packages\\diskcache\\core.py\", line 857, in _row_insert\n",
      "    sql(\n",
      "sqlite3.OperationalError: no such column: \"size\" - should this be a string literal in single-quotes?\n"
     ]
    },
    {
     "name": "stdout",
     "output_type": "stream",
     "text": [
      "Average Metric: 6.00 / 7 (85.7%):  32%|███▏      | 7/22 [00:01<00:02,  6.12it/s]"
     ]
    },
    {
     "name": "stderr",
     "output_type": "stream",
     "text": [
      "\u001b[92m23:59:32 - LiteLLM:ERROR\u001b[0m: caching.py:645 - LiteLLM Cache: Excepton add_cache: no such column: \"size\" - should this be a string literal in single-quotes?\n",
      "Traceback (most recent call last):\n",
      "  File \"c:\\Users\\risko\\miniconda3\\envs\\prompt-classification\\Lib\\site-packages\\litellm\\caching\\caching.py\", line 643, in add_cache\n",
      "    self.cache.set_cache(cache_key, cached_data, **kwargs)\n",
      "  File \"c:\\Users\\risko\\miniconda3\\envs\\prompt-classification\\Lib\\site-packages\\litellm\\caching\\disk_cache.py\", line 28, in set_cache\n",
      "    self.disk_cache.set(key, value)\n",
      "  File \"c:\\Users\\risko\\miniconda3\\envs\\prompt-classification\\Lib\\site-packages\\diskcache\\core.py\", line 808, in set\n",
      "    self._row_insert(db_key, raw, now, columns)\n",
      "  File \"c:\\Users\\risko\\miniconda3\\envs\\prompt-classification\\Lib\\site-packages\\diskcache\\core.py\", line 857, in _row_insert\n",
      "    sql(\n",
      "sqlite3.OperationalError: no such column: \"size\" - should this be a string literal in single-quotes?\n"
     ]
    },
    {
     "name": "stdout",
     "output_type": "stream",
     "text": [
      "Average Metric: 7.00 / 8 (87.5%):  32%|███▏      | 7/22 [00:01<00:02,  6.12it/s]"
     ]
    },
    {
     "name": "stderr",
     "output_type": "stream",
     "text": [
      "\u001b[92m23:59:32 - LiteLLM:ERROR\u001b[0m: caching.py:645 - LiteLLM Cache: Excepton add_cache: no such column: \"size\" - should this be a string literal in single-quotes?\n",
      "Traceback (most recent call last):\n",
      "  File \"c:\\Users\\risko\\miniconda3\\envs\\prompt-classification\\Lib\\site-packages\\litellm\\caching\\caching.py\", line 643, in add_cache\n",
      "    self.cache.set_cache(cache_key, cached_data, **kwargs)\n",
      "  File \"c:\\Users\\risko\\miniconda3\\envs\\prompt-classification\\Lib\\site-packages\\litellm\\caching\\disk_cache.py\", line 28, in set_cache\n",
      "    self.disk_cache.set(key, value)\n",
      "  File \"c:\\Users\\risko\\miniconda3\\envs\\prompt-classification\\Lib\\site-packages\\diskcache\\core.py\", line 808, in set\n",
      "    self._row_insert(db_key, raw, now, columns)\n",
      "  File \"c:\\Users\\risko\\miniconda3\\envs\\prompt-classification\\Lib\\site-packages\\diskcache\\core.py\", line 857, in _row_insert\n",
      "    sql(\n",
      "sqlite3.OperationalError: no such column: \"size\" - should this be a string literal in single-quotes?\n"
     ]
    },
    {
     "name": "stdout",
     "output_type": "stream",
     "text": [
      "Average Metric: 8.00 / 9 (88.9%):  41%|████      | 9/22 [00:01<00:02,  5.33it/s]"
     ]
    },
    {
     "name": "stderr",
     "output_type": "stream",
     "text": [
      "\u001b[92m23:59:32 - LiteLLM:ERROR\u001b[0m: caching.py:645 - LiteLLM Cache: Excepton add_cache: no such column: \"size\" - should this be a string literal in single-quotes?\n",
      "Traceback (most recent call last):\n",
      "  File \"c:\\Users\\risko\\miniconda3\\envs\\prompt-classification\\Lib\\site-packages\\litellm\\caching\\caching.py\", line 643, in add_cache\n",
      "    self.cache.set_cache(cache_key, cached_data, **kwargs)\n",
      "  File \"c:\\Users\\risko\\miniconda3\\envs\\prompt-classification\\Lib\\site-packages\\litellm\\caching\\disk_cache.py\", line 28, in set_cache\n",
      "    self.disk_cache.set(key, value)\n",
      "  File \"c:\\Users\\risko\\miniconda3\\envs\\prompt-classification\\Lib\\site-packages\\diskcache\\core.py\", line 808, in set\n",
      "    self._row_insert(db_key, raw, now, columns)\n",
      "  File \"c:\\Users\\risko\\miniconda3\\envs\\prompt-classification\\Lib\\site-packages\\diskcache\\core.py\", line 857, in _row_insert\n",
      "    sql(\n",
      "sqlite3.OperationalError: no such column: \"size\" - should this be a string literal in single-quotes?\n"
     ]
    },
    {
     "name": "stdout",
     "output_type": "stream",
     "text": [
      "Average Metric: 9.00 / 10 (90.0%):  41%|████      | 9/22 [00:01<00:02,  5.33it/s]"
     ]
    },
    {
     "name": "stderr",
     "output_type": "stream",
     "text": [
      "\u001b[92m23:59:32 - LiteLLM:ERROR\u001b[0m: caching.py:645 - LiteLLM Cache: Excepton add_cache: no such column: \"size\" - should this be a string literal in single-quotes?\n",
      "Traceback (most recent call last):\n",
      "  File \"c:\\Users\\risko\\miniconda3\\envs\\prompt-classification\\Lib\\site-packages\\litellm\\caching\\caching.py\", line 643, in add_cache\n",
      "    self.cache.set_cache(cache_key, cached_data, **kwargs)\n",
      "  File \"c:\\Users\\risko\\miniconda3\\envs\\prompt-classification\\Lib\\site-packages\\litellm\\caching\\disk_cache.py\", line 28, in set_cache\n",
      "    self.disk_cache.set(key, value)\n",
      "  File \"c:\\Users\\risko\\miniconda3\\envs\\prompt-classification\\Lib\\site-packages\\diskcache\\core.py\", line 808, in set\n",
      "    self._row_insert(db_key, raw, now, columns)\n",
      "  File \"c:\\Users\\risko\\miniconda3\\envs\\prompt-classification\\Lib\\site-packages\\diskcache\\core.py\", line 857, in _row_insert\n",
      "    sql(\n",
      "sqlite3.OperationalError: no such column: \"size\" - should this be a string literal in single-quotes?\n"
     ]
    },
    {
     "name": "stdout",
     "output_type": "stream",
     "text": [
      "Average Metric: 10.00 / 11 (90.9%):  50%|█████     | 11/22 [00:01<00:01,  5.87it/s]"
     ]
    },
    {
     "name": "stderr",
     "output_type": "stream",
     "text": [
      "\u001b[92m23:59:33 - LiteLLM:ERROR\u001b[0m: caching.py:645 - LiteLLM Cache: Excepton add_cache: no such column: \"size\" - should this be a string literal in single-quotes?\n",
      "Traceback (most recent call last):\n",
      "  File \"c:\\Users\\risko\\miniconda3\\envs\\prompt-classification\\Lib\\site-packages\\litellm\\caching\\caching.py\", line 643, in add_cache\n",
      "    self.cache.set_cache(cache_key, cached_data, **kwargs)\n",
      "  File \"c:\\Users\\risko\\miniconda3\\envs\\prompt-classification\\Lib\\site-packages\\litellm\\caching\\disk_cache.py\", line 28, in set_cache\n",
      "    self.disk_cache.set(key, value)\n",
      "  File \"c:\\Users\\risko\\miniconda3\\envs\\prompt-classification\\Lib\\site-packages\\diskcache\\core.py\", line 808, in set\n",
      "    self._row_insert(db_key, raw, now, columns)\n",
      "  File \"c:\\Users\\risko\\miniconda3\\envs\\prompt-classification\\Lib\\site-packages\\diskcache\\core.py\", line 857, in _row_insert\n",
      "    sql(\n",
      "sqlite3.OperationalError: no such column: \"size\" - should this be a string literal in single-quotes?\n"
     ]
    },
    {
     "name": "stdout",
     "output_type": "stream",
     "text": [
      "Average Metric: 11.00 / 12 (91.7%):  55%|█████▍    | 12/22 [00:02<00:02,  4.14it/s]"
     ]
    },
    {
     "name": "stderr",
     "output_type": "stream",
     "text": [
      "\u001b[92m23:59:33 - LiteLLM:ERROR\u001b[0m: caching.py:645 - LiteLLM Cache: Excepton add_cache: no such column: \"size\" - should this be a string literal in single-quotes?\n",
      "Traceback (most recent call last):\n",
      "  File \"c:\\Users\\risko\\miniconda3\\envs\\prompt-classification\\Lib\\site-packages\\litellm\\caching\\caching.py\", line 643, in add_cache\n",
      "    self.cache.set_cache(cache_key, cached_data, **kwargs)\n",
      "  File \"c:\\Users\\risko\\miniconda3\\envs\\prompt-classification\\Lib\\site-packages\\litellm\\caching\\disk_cache.py\", line 28, in set_cache\n",
      "    self.disk_cache.set(key, value)\n",
      "  File \"c:\\Users\\risko\\miniconda3\\envs\\prompt-classification\\Lib\\site-packages\\diskcache\\core.py\", line 808, in set\n",
      "    self._row_insert(db_key, raw, now, columns)\n",
      "  File \"c:\\Users\\risko\\miniconda3\\envs\\prompt-classification\\Lib\\site-packages\\diskcache\\core.py\", line 857, in _row_insert\n",
      "    sql(\n",
      "sqlite3.OperationalError: no such column: \"size\" - should this be a string literal in single-quotes?\n"
     ]
    },
    {
     "name": "stdout",
     "output_type": "stream",
     "text": [
      "Average Metric: 12.00 / 13 (92.3%):  59%|█████▉    | 13/22 [00:02<00:01,  4.57it/s]"
     ]
    },
    {
     "name": "stderr",
     "output_type": "stream",
     "text": [
      "\u001b[92m23:59:33 - LiteLLM:ERROR\u001b[0m: caching.py:645 - LiteLLM Cache: Excepton add_cache: no such column: \"size\" - should this be a string literal in single-quotes?\n",
      "Traceback (most recent call last):\n",
      "  File \"c:\\Users\\risko\\miniconda3\\envs\\prompt-classification\\Lib\\site-packages\\litellm\\caching\\caching.py\", line 643, in add_cache\n",
      "    self.cache.set_cache(cache_key, cached_data, **kwargs)\n",
      "  File \"c:\\Users\\risko\\miniconda3\\envs\\prompt-classification\\Lib\\site-packages\\litellm\\caching\\disk_cache.py\", line 28, in set_cache\n",
      "    self.disk_cache.set(key, value)\n",
      "  File \"c:\\Users\\risko\\miniconda3\\envs\\prompt-classification\\Lib\\site-packages\\diskcache\\core.py\", line 808, in set\n",
      "    self._row_insert(db_key, raw, now, columns)\n",
      "  File \"c:\\Users\\risko\\miniconda3\\envs\\prompt-classification\\Lib\\site-packages\\diskcache\\core.py\", line 857, in _row_insert\n",
      "    sql(\n",
      "sqlite3.OperationalError: no such column: \"size\" - should this be a string literal in single-quotes?\n"
     ]
    },
    {
     "name": "stdout",
     "output_type": "stream",
     "text": [
      "Average Metric: 13.00 / 14 (92.9%):  59%|█████▉    | 13/22 [00:02<00:01,  4.57it/s]"
     ]
    },
    {
     "name": "stderr",
     "output_type": "stream",
     "text": [
      "\u001b[92m23:59:33 - LiteLLM:ERROR\u001b[0m: caching.py:645 - LiteLLM Cache: Excepton add_cache: no such column: \"size\" - should this be a string literal in single-quotes?\n",
      "Traceback (most recent call last):\n",
      "  File \"c:\\Users\\risko\\miniconda3\\envs\\prompt-classification\\Lib\\site-packages\\litellm\\caching\\caching.py\", line 643, in add_cache\n",
      "    self.cache.set_cache(cache_key, cached_data, **kwargs)\n",
      "  File \"c:\\Users\\risko\\miniconda3\\envs\\prompt-classification\\Lib\\site-packages\\litellm\\caching\\disk_cache.py\", line 28, in set_cache\n",
      "    self.disk_cache.set(key, value)\n",
      "  File \"c:\\Users\\risko\\miniconda3\\envs\\prompt-classification\\Lib\\site-packages\\diskcache\\core.py\", line 808, in set\n",
      "    self._row_insert(db_key, raw, now, columns)\n",
      "  File \"c:\\Users\\risko\\miniconda3\\envs\\prompt-classification\\Lib\\site-packages\\diskcache\\core.py\", line 857, in _row_insert\n",
      "    sql(\n",
      "sqlite3.OperationalError: no such column: \"size\" - should this be a string literal in single-quotes?\n"
     ]
    },
    {
     "name": "stdout",
     "output_type": "stream",
     "text": [
      "Average Metric: 14.00 / 15 (93.3%):  68%|██████▊   | 15/22 [00:02<00:01,  6.31it/s]"
     ]
    },
    {
     "name": "stderr",
     "output_type": "stream",
     "text": [
      "\u001b[92m23:59:33 - LiteLLM:ERROR\u001b[0m: caching.py:645 - LiteLLM Cache: Excepton add_cache: no such column: \"size\" - should this be a string literal in single-quotes?\n",
      "Traceback (most recent call last):\n",
      "  File \"c:\\Users\\risko\\miniconda3\\envs\\prompt-classification\\Lib\\site-packages\\litellm\\caching\\caching.py\", line 643, in add_cache\n",
      "    self.cache.set_cache(cache_key, cached_data, **kwargs)\n",
      "  File \"c:\\Users\\risko\\miniconda3\\envs\\prompt-classification\\Lib\\site-packages\\litellm\\caching\\disk_cache.py\", line 28, in set_cache\n",
      "    self.disk_cache.set(key, value)\n",
      "  File \"c:\\Users\\risko\\miniconda3\\envs\\prompt-classification\\Lib\\site-packages\\diskcache\\core.py\", line 808, in set\n",
      "    self._row_insert(db_key, raw, now, columns)\n",
      "  File \"c:\\Users\\risko\\miniconda3\\envs\\prompt-classification\\Lib\\site-packages\\diskcache\\core.py\", line 857, in _row_insert\n",
      "    sql(\n",
      "sqlite3.OperationalError: no such column: \"size\" - should this be a string literal in single-quotes?\n"
     ]
    },
    {
     "name": "stdout",
     "output_type": "stream",
     "text": [
      "Average Metric: 15.00 / 16 (93.8%):  68%|██████▊   | 15/22 [00:02<00:01,  6.31it/s]"
     ]
    },
    {
     "name": "stderr",
     "output_type": "stream",
     "text": [
      "\u001b[92m23:59:34 - LiteLLM:ERROR\u001b[0m: caching.py:645 - LiteLLM Cache: Excepton add_cache: no such column: \"size\" - should this be a string literal in single-quotes?\n",
      "Traceback (most recent call last):\n",
      "  File \"c:\\Users\\risko\\miniconda3\\envs\\prompt-classification\\Lib\\site-packages\\litellm\\caching\\caching.py\", line 643, in add_cache\n",
      "    self.cache.set_cache(cache_key, cached_data, **kwargs)\n",
      "  File \"c:\\Users\\risko\\miniconda3\\envs\\prompt-classification\\Lib\\site-packages\\litellm\\caching\\disk_cache.py\", line 28, in set_cache\n",
      "    self.disk_cache.set(key, value)\n",
      "  File \"c:\\Users\\risko\\miniconda3\\envs\\prompt-classification\\Lib\\site-packages\\diskcache\\core.py\", line 808, in set\n",
      "    self._row_insert(db_key, raw, now, columns)\n",
      "  File \"c:\\Users\\risko\\miniconda3\\envs\\prompt-classification\\Lib\\site-packages\\diskcache\\core.py\", line 857, in _row_insert\n",
      "    sql(\n",
      "sqlite3.OperationalError: no such column: \"size\" - should this be a string literal in single-quotes?\n"
     ]
    },
    {
     "name": "stdout",
     "output_type": "stream",
     "text": [
      "Average Metric: 16.00 / 17 (94.1%):  77%|███████▋  | 17/22 [00:02<00:00,  7.43it/s]"
     ]
    },
    {
     "name": "stderr",
     "output_type": "stream",
     "text": [
      "\u001b[92m23:59:34 - LiteLLM:ERROR\u001b[0m: caching.py:645 - LiteLLM Cache: Excepton add_cache: no such column: \"size\" - should this be a string literal in single-quotes?\n",
      "Traceback (most recent call last):\n",
      "  File \"c:\\Users\\risko\\miniconda3\\envs\\prompt-classification\\Lib\\site-packages\\litellm\\caching\\caching.py\", line 643, in add_cache\n",
      "    self.cache.set_cache(cache_key, cached_data, **kwargs)\n",
      "  File \"c:\\Users\\risko\\miniconda3\\envs\\prompt-classification\\Lib\\site-packages\\litellm\\caching\\disk_cache.py\", line 28, in set_cache\n",
      "    self.disk_cache.set(key, value)\n",
      "  File \"c:\\Users\\risko\\miniconda3\\envs\\prompt-classification\\Lib\\site-packages\\diskcache\\core.py\", line 808, in set\n",
      "    self._row_insert(db_key, raw, now, columns)\n",
      "  File \"c:\\Users\\risko\\miniconda3\\envs\\prompt-classification\\Lib\\site-packages\\diskcache\\core.py\", line 857, in _row_insert\n",
      "    sql(\n",
      "sqlite3.OperationalError: no such column: \"size\" - should this be a string literal in single-quotes?\n"
     ]
    },
    {
     "name": "stdout",
     "output_type": "stream",
     "text": [
      "Average Metric: 17.00 / 18 (94.4%):  77%|███████▋  | 17/22 [00:03<00:00,  7.43it/s]"
     ]
    },
    {
     "name": "stderr",
     "output_type": "stream",
     "text": [
      "\u001b[92m23:59:34 - LiteLLM:ERROR\u001b[0m: caching.py:645 - LiteLLM Cache: Excepton add_cache: no such column: \"size\" - should this be a string literal in single-quotes?\n",
      "Traceback (most recent call last):\n",
      "  File \"c:\\Users\\risko\\miniconda3\\envs\\prompt-classification\\Lib\\site-packages\\litellm\\caching\\caching.py\", line 643, in add_cache\n",
      "    self.cache.set_cache(cache_key, cached_data, **kwargs)\n",
      "  File \"c:\\Users\\risko\\miniconda3\\envs\\prompt-classification\\Lib\\site-packages\\litellm\\caching\\disk_cache.py\", line 28, in set_cache\n",
      "    self.disk_cache.set(key, value)\n",
      "  File \"c:\\Users\\risko\\miniconda3\\envs\\prompt-classification\\Lib\\site-packages\\diskcache\\core.py\", line 808, in set\n",
      "    self._row_insert(db_key, raw, now, columns)\n",
      "  File \"c:\\Users\\risko\\miniconda3\\envs\\prompt-classification\\Lib\\site-packages\\diskcache\\core.py\", line 857, in _row_insert\n",
      "    sql(\n",
      "sqlite3.OperationalError: no such column: \"size\" - should this be a string literal in single-quotes?\n"
     ]
    },
    {
     "name": "stdout",
     "output_type": "stream",
     "text": [
      "Average Metric: 18.00 / 19 (94.7%):  86%|████████▋ | 19/22 [00:03<00:00,  8.42it/s]"
     ]
    },
    {
     "name": "stderr",
     "output_type": "stream",
     "text": [
      "\u001b[92m23:59:34 - LiteLLM:ERROR\u001b[0m: caching.py:645 - LiteLLM Cache: Excepton add_cache: no such column: \"size\" - should this be a string literal in single-quotes?\n",
      "Traceback (most recent call last):\n",
      "  File \"c:\\Users\\risko\\miniconda3\\envs\\prompt-classification\\Lib\\site-packages\\litellm\\caching\\caching.py\", line 643, in add_cache\n",
      "    self.cache.set_cache(cache_key, cached_data, **kwargs)\n",
      "  File \"c:\\Users\\risko\\miniconda3\\envs\\prompt-classification\\Lib\\site-packages\\litellm\\caching\\disk_cache.py\", line 28, in set_cache\n",
      "    self.disk_cache.set(key, value)\n",
      "  File \"c:\\Users\\risko\\miniconda3\\envs\\prompt-classification\\Lib\\site-packages\\diskcache\\core.py\", line 808, in set\n",
      "    self._row_insert(db_key, raw, now, columns)\n",
      "  File \"c:\\Users\\risko\\miniconda3\\envs\\prompt-classification\\Lib\\site-packages\\diskcache\\core.py\", line 857, in _row_insert\n",
      "    sql(\n",
      "sqlite3.OperationalError: no such column: \"size\" - should this be a string literal in single-quotes?\n"
     ]
    },
    {
     "name": "stdout",
     "output_type": "stream",
     "text": [
      "Average Metric: 19.00 / 20 (95.0%):  86%|████████▋ | 19/22 [00:03<00:00,  8.42it/s]"
     ]
    },
    {
     "name": "stderr",
     "output_type": "stream",
     "text": [
      "\u001b[92m23:59:34 - LiteLLM:ERROR\u001b[0m: caching.py:645 - LiteLLM Cache: Excepton add_cache: no such column: \"size\" - should this be a string literal in single-quotes?\n",
      "Traceback (most recent call last):\n",
      "  File \"c:\\Users\\risko\\miniconda3\\envs\\prompt-classification\\Lib\\site-packages\\litellm\\caching\\caching.py\", line 643, in add_cache\n",
      "    self.cache.set_cache(cache_key, cached_data, **kwargs)\n",
      "  File \"c:\\Users\\risko\\miniconda3\\envs\\prompt-classification\\Lib\\site-packages\\litellm\\caching\\disk_cache.py\", line 28, in set_cache\n",
      "    self.disk_cache.set(key, value)\n",
      "  File \"c:\\Users\\risko\\miniconda3\\envs\\prompt-classification\\Lib\\site-packages\\diskcache\\core.py\", line 808, in set\n",
      "    self._row_insert(db_key, raw, now, columns)\n",
      "  File \"c:\\Users\\risko\\miniconda3\\envs\\prompt-classification\\Lib\\site-packages\\diskcache\\core.py\", line 857, in _row_insert\n",
      "    sql(\n",
      "sqlite3.OperationalError: no such column: \"size\" - should this be a string literal in single-quotes?\n"
     ]
    },
    {
     "name": "stdout",
     "output_type": "stream",
     "text": [
      "Average Metric: 20.00 / 21 (95.2%):  95%|█████████▌| 21/22 [00:03<00:00,  8.51it/s]"
     ]
    },
    {
     "name": "stderr",
     "output_type": "stream",
     "text": [
      "\u001b[92m23:59:34 - LiteLLM:ERROR\u001b[0m: caching.py:645 - LiteLLM Cache: Excepton add_cache: no such column: \"size\" - should this be a string literal in single-quotes?\n",
      "Traceback (most recent call last):\n",
      "  File \"c:\\Users\\risko\\miniconda3\\envs\\prompt-classification\\Lib\\site-packages\\litellm\\caching\\caching.py\", line 643, in add_cache\n",
      "    self.cache.set_cache(cache_key, cached_data, **kwargs)\n",
      "  File \"c:\\Users\\risko\\miniconda3\\envs\\prompt-classification\\Lib\\site-packages\\litellm\\caching\\disk_cache.py\", line 28, in set_cache\n",
      "    self.disk_cache.set(key, value)\n",
      "  File \"c:\\Users\\risko\\miniconda3\\envs\\prompt-classification\\Lib\\site-packages\\diskcache\\core.py\", line 808, in set\n",
      "    self._row_insert(db_key, raw, now, columns)\n",
      "  File \"c:\\Users\\risko\\miniconda3\\envs\\prompt-classification\\Lib\\site-packages\\diskcache\\core.py\", line 857, in _row_insert\n",
      "    sql(\n",
      "sqlite3.OperationalError: no such column: \"size\" - should this be a string literal in single-quotes?\n"
     ]
    },
    {
     "name": "stdout",
     "output_type": "stream",
     "text": [
      "Average Metric: 21.00 / 22 (95.5%): 100%|██████████| 22/22 [00:03<00:00,  6.18it/s]"
     ]
    },
    {
     "name": "stderr",
     "output_type": "stream",
     "text": [
      "2025/02/21 23:59:34 INFO dspy.evaluate.evaluate: Average Metric: 21 / 22 (95.5%)\n"
     ]
    },
    {
     "name": "stdout",
     "output_type": "stream",
     "text": [
      "\n",
      "Scores so far: [100.0, 100.0, 100.0, 95.45]\n",
      "Best score so far: 100.0\n"
     ]
    },
    {
     "name": "stderr",
     "output_type": "stream",
     "text": [
      "  0%|          | 0/22 [00:00<?, ?it/s]\u001b[92m23:59:34 - LiteLLM:ERROR\u001b[0m: caching.py:645 - LiteLLM Cache: Excepton add_cache: no such column: \"size\" - should this be a string literal in single-quotes?\n",
      "Traceback (most recent call last):\n",
      "  File \"c:\\Users\\risko\\miniconda3\\envs\\prompt-classification\\Lib\\site-packages\\litellm\\caching\\caching.py\", line 643, in add_cache\n",
      "    self.cache.set_cache(cache_key, cached_data, **kwargs)\n",
      "  File \"c:\\Users\\risko\\miniconda3\\envs\\prompt-classification\\Lib\\site-packages\\litellm\\caching\\disk_cache.py\", line 28, in set_cache\n",
      "    self.disk_cache.set(key, value)\n",
      "  File \"c:\\Users\\risko\\miniconda3\\envs\\prompt-classification\\Lib\\site-packages\\diskcache\\core.py\", line 808, in set\n",
      "    self._row_insert(db_key, raw, now, columns)\n",
      "  File \"c:\\Users\\risko\\miniconda3\\envs\\prompt-classification\\Lib\\site-packages\\diskcache\\core.py\", line 857, in _row_insert\n",
      "    sql(\n",
      "sqlite3.OperationalError: no such column: \"size\" - should this be a string literal in single-quotes?\n",
      "  5%|▍         | 1/22 [00:00<00:07,  2.90it/s]\u001b[92m23:59:35 - LiteLLM:ERROR\u001b[0m: caching.py:645 - LiteLLM Cache: Excepton add_cache: no such column: \"size\" - should this be a string literal in single-quotes?\n",
      "Traceback (most recent call last):\n",
      "  File \"c:\\Users\\risko\\miniconda3\\envs\\prompt-classification\\Lib\\site-packages\\litellm\\caching\\caching.py\", line 643, in add_cache\n",
      "    self.cache.set_cache(cache_key, cached_data, **kwargs)\n",
      "  File \"c:\\Users\\risko\\miniconda3\\envs\\prompt-classification\\Lib\\site-packages\\litellm\\caching\\disk_cache.py\", line 28, in set_cache\n",
      "    self.disk_cache.set(key, value)\n",
      "  File \"c:\\Users\\risko\\miniconda3\\envs\\prompt-classification\\Lib\\site-packages\\diskcache\\core.py\", line 808, in set\n",
      "    self._row_insert(db_key, raw, now, columns)\n",
      "  File \"c:\\Users\\risko\\miniconda3\\envs\\prompt-classification\\Lib\\site-packages\\diskcache\\core.py\", line 857, in _row_insert\n",
      "    sql(\n",
      "sqlite3.OperationalError: no such column: \"size\" - should this be a string literal in single-quotes?\n",
      "  9%|▉         | 2/22 [00:00<00:07,  2.84it/s]\u001b[92m23:59:36 - LiteLLM:ERROR\u001b[0m: caching.py:645 - LiteLLM Cache: Excepton add_cache: no such column: \"size\" - should this be a string literal in single-quotes?\n",
      "Traceback (most recent call last):\n",
      "  File \"c:\\Users\\risko\\miniconda3\\envs\\prompt-classification\\Lib\\site-packages\\litellm\\caching\\caching.py\", line 643, in add_cache\n",
      "    self.cache.set_cache(cache_key, cached_data, **kwargs)\n",
      "  File \"c:\\Users\\risko\\miniconda3\\envs\\prompt-classification\\Lib\\site-packages\\litellm\\caching\\disk_cache.py\", line 28, in set_cache\n",
      "    self.disk_cache.set(key, value)\n",
      "  File \"c:\\Users\\risko\\miniconda3\\envs\\prompt-classification\\Lib\\site-packages\\diskcache\\core.py\", line 808, in set\n",
      "    self._row_insert(db_key, raw, now, columns)\n",
      "  File \"c:\\Users\\risko\\miniconda3\\envs\\prompt-classification\\Lib\\site-packages\\diskcache\\core.py\", line 857, in _row_insert\n",
      "    sql(\n",
      "sqlite3.OperationalError: no such column: \"size\" - should this be a string literal in single-quotes?\n",
      " 14%|█▎        | 3/22 [00:01<00:10,  1.78it/s]\n"
     ]
    },
    {
     "name": "stdout",
     "output_type": "stream",
     "text": [
      "Bootstrapped 3 full traces after 3 examples for up to 1 rounds, amounting to 3 attempts.\n",
      "  0%|          | 0/22 [00:00<?, ?it/s]"
     ]
    },
    {
     "name": "stderr",
     "output_type": "stream",
     "text": [
      "\u001b[92m23:59:36 - LiteLLM:ERROR\u001b[0m: caching.py:645 - LiteLLM Cache: Excepton add_cache: no such column: \"size\" - should this be a string literal in single-quotes?\n",
      "Traceback (most recent call last):\n",
      "  File \"c:\\Users\\risko\\miniconda3\\envs\\prompt-classification\\Lib\\site-packages\\litellm\\caching\\caching.py\", line 643, in add_cache\n",
      "    self.cache.set_cache(cache_key, cached_data, **kwargs)\n",
      "  File \"c:\\Users\\risko\\miniconda3\\envs\\prompt-classification\\Lib\\site-packages\\litellm\\caching\\disk_cache.py\", line 28, in set_cache\n",
      "    self.disk_cache.set(key, value)\n",
      "  File \"c:\\Users\\risko\\miniconda3\\envs\\prompt-classification\\Lib\\site-packages\\diskcache\\core.py\", line 808, in set\n",
      "    self._row_insert(db_key, raw, now, columns)\n",
      "  File \"c:\\Users\\risko\\miniconda3\\envs\\prompt-classification\\Lib\\site-packages\\diskcache\\core.py\", line 857, in _row_insert\n",
      "    sql(\n",
      "sqlite3.OperationalError: no such column: \"size\" - should this be a string literal in single-quotes?\n"
     ]
    },
    {
     "name": "stdout",
     "output_type": "stream",
     "text": [
      "Average Metric: 1.00 / 1 (100.0%):   5%|▍         | 1/22 [00:00<00:10,  2.07it/s]"
     ]
    },
    {
     "name": "stderr",
     "output_type": "stream",
     "text": [
      "\u001b[92m23:59:36 - LiteLLM:ERROR\u001b[0m: caching.py:645 - LiteLLM Cache: Excepton add_cache: no such column: \"size\" - should this be a string literal in single-quotes?\n",
      "Traceback (most recent call last):\n",
      "  File \"c:\\Users\\risko\\miniconda3\\envs\\prompt-classification\\Lib\\site-packages\\litellm\\caching\\caching.py\", line 643, in add_cache\n",
      "    self.cache.set_cache(cache_key, cached_data, **kwargs)\n",
      "  File \"c:\\Users\\risko\\miniconda3\\envs\\prompt-classification\\Lib\\site-packages\\litellm\\caching\\disk_cache.py\", line 28, in set_cache\n",
      "    self.disk_cache.set(key, value)\n",
      "  File \"c:\\Users\\risko\\miniconda3\\envs\\prompt-classification\\Lib\\site-packages\\diskcache\\core.py\", line 808, in set\n",
      "    self._row_insert(db_key, raw, now, columns)\n",
      "  File \"c:\\Users\\risko\\miniconda3\\envs\\prompt-classification\\Lib\\site-packages\\diskcache\\core.py\", line 857, in _row_insert\n",
      "    sql(\n",
      "sqlite3.OperationalError: no such column: \"size\" - should this be a string literal in single-quotes?\n"
     ]
    },
    {
     "name": "stdout",
     "output_type": "stream",
     "text": [
      "Average Metric: 2.00 / 2 (100.0%):   5%|▍         | 1/22 [00:00<00:10,  2.07it/s]"
     ]
    },
    {
     "name": "stderr",
     "output_type": "stream",
     "text": [
      "\u001b[92m23:59:37 - LiteLLM:ERROR\u001b[0m: caching.py:645 - LiteLLM Cache: Excepton add_cache: no such column: \"size\" - should this be a string literal in single-quotes?\n",
      "Traceback (most recent call last):\n",
      "  File \"c:\\Users\\risko\\miniconda3\\envs\\prompt-classification\\Lib\\site-packages\\litellm\\caching\\caching.py\", line 643, in add_cache\n",
      "    self.cache.set_cache(cache_key, cached_data, **kwargs)\n",
      "  File \"c:\\Users\\risko\\miniconda3\\envs\\prompt-classification\\Lib\\site-packages\\litellm\\caching\\disk_cache.py\", line 28, in set_cache\n",
      "    self.disk_cache.set(key, value)\n",
      "  File \"c:\\Users\\risko\\miniconda3\\envs\\prompt-classification\\Lib\\site-packages\\diskcache\\core.py\", line 808, in set\n",
      "    self._row_insert(db_key, raw, now, columns)\n",
      "  File \"c:\\Users\\risko\\miniconda3\\envs\\prompt-classification\\Lib\\site-packages\\diskcache\\core.py\", line 857, in _row_insert\n",
      "    sql(\n",
      "sqlite3.OperationalError: no such column: \"size\" - should this be a string literal in single-quotes?\n"
     ]
    },
    {
     "name": "stdout",
     "output_type": "stream",
     "text": [
      "Average Metric: 3.00 / 3 (100.0%):  14%|█▎        | 3/22 [00:00<00:05,  3.78it/s]"
     ]
    },
    {
     "name": "stderr",
     "output_type": "stream",
     "text": [
      "\u001b[92m23:59:37 - LiteLLM:ERROR\u001b[0m: caching.py:645 - LiteLLM Cache: Excepton add_cache: no such column: \"size\" - should this be a string literal in single-quotes?\n",
      "Traceback (most recent call last):\n",
      "  File \"c:\\Users\\risko\\miniconda3\\envs\\prompt-classification\\Lib\\site-packages\\litellm\\caching\\caching.py\", line 643, in add_cache\n",
      "    self.cache.set_cache(cache_key, cached_data, **kwargs)\n",
      "  File \"c:\\Users\\risko\\miniconda3\\envs\\prompt-classification\\Lib\\site-packages\\litellm\\caching\\disk_cache.py\", line 28, in set_cache\n",
      "    self.disk_cache.set(key, value)\n",
      "  File \"c:\\Users\\risko\\miniconda3\\envs\\prompt-classification\\Lib\\site-packages\\diskcache\\core.py\", line 808, in set\n",
      "    self._row_insert(db_key, raw, now, columns)\n",
      "  File \"c:\\Users\\risko\\miniconda3\\envs\\prompt-classification\\Lib\\site-packages\\diskcache\\core.py\", line 857, in _row_insert\n",
      "    sql(\n",
      "sqlite3.OperationalError: no such column: \"size\" - should this be a string literal in single-quotes?\n"
     ]
    },
    {
     "name": "stdout",
     "output_type": "stream",
     "text": [
      "Average Metric: 4.00 / 4 (100.0%):  14%|█▎        | 3/22 [00:00<00:05,  3.78it/s]"
     ]
    },
    {
     "name": "stderr",
     "output_type": "stream",
     "text": [
      "\u001b[92m23:59:37 - LiteLLM:ERROR\u001b[0m: caching.py:645 - LiteLLM Cache: Excepton add_cache: no such column: \"size\" - should this be a string literal in single-quotes?\n",
      "Traceback (most recent call last):\n",
      "  File \"c:\\Users\\risko\\miniconda3\\envs\\prompt-classification\\Lib\\site-packages\\litellm\\caching\\caching.py\", line 643, in add_cache\n",
      "    self.cache.set_cache(cache_key, cached_data, **kwargs)\n",
      "  File \"c:\\Users\\risko\\miniconda3\\envs\\prompt-classification\\Lib\\site-packages\\litellm\\caching\\disk_cache.py\", line 28, in set_cache\n",
      "    self.disk_cache.set(key, value)\n",
      "  File \"c:\\Users\\risko\\miniconda3\\envs\\prompt-classification\\Lib\\site-packages\\diskcache\\core.py\", line 808, in set\n",
      "    self._row_insert(db_key, raw, now, columns)\n",
      "  File \"c:\\Users\\risko\\miniconda3\\envs\\prompt-classification\\Lib\\site-packages\\diskcache\\core.py\", line 857, in _row_insert\n",
      "    sql(\n",
      "sqlite3.OperationalError: no such column: \"size\" - should this be a string literal in single-quotes?\n"
     ]
    },
    {
     "name": "stdout",
     "output_type": "stream",
     "text": [
      "Average Metric: 5.00 / 5 (100.0%):  18%|█▊        | 4/22 [00:00<00:04,  3.78it/s]"
     ]
    },
    {
     "name": "stderr",
     "output_type": "stream",
     "text": [
      "\u001b[92m23:59:37 - LiteLLM:ERROR\u001b[0m: caching.py:645 - LiteLLM Cache: Excepton add_cache: no such column: \"size\" - should this be a string literal in single-quotes?\n",
      "Traceback (most recent call last):\n",
      "  File \"c:\\Users\\risko\\miniconda3\\envs\\prompt-classification\\Lib\\site-packages\\litellm\\caching\\caching.py\", line 643, in add_cache\n",
      "    self.cache.set_cache(cache_key, cached_data, **kwargs)\n",
      "  File \"c:\\Users\\risko\\miniconda3\\envs\\prompt-classification\\Lib\\site-packages\\litellm\\caching\\disk_cache.py\", line 28, in set_cache\n",
      "    self.disk_cache.set(key, value)\n",
      "  File \"c:\\Users\\risko\\miniconda3\\envs\\prompt-classification\\Lib\\site-packages\\diskcache\\core.py\", line 808, in set\n",
      "    self._row_insert(db_key, raw, now, columns)\n",
      "  File \"c:\\Users\\risko\\miniconda3\\envs\\prompt-classification\\Lib\\site-packages\\diskcache\\core.py\", line 857, in _row_insert\n",
      "    sql(\n",
      "sqlite3.OperationalError: no such column: \"size\" - should this be a string literal in single-quotes?\n"
     ]
    },
    {
     "name": "stdout",
     "output_type": "stream",
     "text": [
      "Average Metric: 6.00 / 6 (100.0%):  27%|██▋       | 6/22 [00:00<00:02,  7.99it/s]"
     ]
    },
    {
     "name": "stderr",
     "output_type": "stream",
     "text": [
      "\u001b[92m23:59:37 - LiteLLM:ERROR\u001b[0m: caching.py:645 - LiteLLM Cache: Excepton add_cache: no such column: \"size\" - should this be a string literal in single-quotes?\n",
      "Traceback (most recent call last):\n",
      "  File \"c:\\Users\\risko\\miniconda3\\envs\\prompt-classification\\Lib\\site-packages\\litellm\\caching\\caching.py\", line 643, in add_cache\n",
      "    self.cache.set_cache(cache_key, cached_data, **kwargs)\n",
      "  File \"c:\\Users\\risko\\miniconda3\\envs\\prompt-classification\\Lib\\site-packages\\litellm\\caching\\disk_cache.py\", line 28, in set_cache\n",
      "    self.disk_cache.set(key, value)\n",
      "  File \"c:\\Users\\risko\\miniconda3\\envs\\prompt-classification\\Lib\\site-packages\\diskcache\\core.py\", line 808, in set\n",
      "    self._row_insert(db_key, raw, now, columns)\n",
      "  File \"c:\\Users\\risko\\miniconda3\\envs\\prompt-classification\\Lib\\site-packages\\diskcache\\core.py\", line 857, in _row_insert\n",
      "    sql(\n",
      "sqlite3.OperationalError: no such column: \"size\" - should this be a string literal in single-quotes?\n"
     ]
    },
    {
     "name": "stdout",
     "output_type": "stream",
     "text": [
      "Average Metric: 7.00 / 7 (100.0%):  27%|██▋       | 6/22 [00:01<00:02,  7.99it/s]"
     ]
    },
    {
     "name": "stderr",
     "output_type": "stream",
     "text": [
      "\u001b[92m23:59:37 - LiteLLM:ERROR\u001b[0m: caching.py:645 - LiteLLM Cache: Excepton add_cache: no such column: \"size\" - should this be a string literal in single-quotes?\n",
      "Traceback (most recent call last):\n",
      "  File \"c:\\Users\\risko\\miniconda3\\envs\\prompt-classification\\Lib\\site-packages\\litellm\\caching\\caching.py\", line 643, in add_cache\n",
      "    self.cache.set_cache(cache_key, cached_data, **kwargs)\n",
      "  File \"c:\\Users\\risko\\miniconda3\\envs\\prompt-classification\\Lib\\site-packages\\litellm\\caching\\disk_cache.py\", line 28, in set_cache\n",
      "    self.disk_cache.set(key, value)\n",
      "  File \"c:\\Users\\risko\\miniconda3\\envs\\prompt-classification\\Lib\\site-packages\\diskcache\\core.py\", line 808, in set\n",
      "    self._row_insert(db_key, raw, now, columns)\n",
      "  File \"c:\\Users\\risko\\miniconda3\\envs\\prompt-classification\\Lib\\site-packages\\diskcache\\core.py\", line 857, in _row_insert\n",
      "    sql(\n",
      "sqlite3.OperationalError: no such column: \"size\" - should this be a string literal in single-quotes?\n"
     ]
    },
    {
     "name": "stdout",
     "output_type": "stream",
     "text": [
      "Average Metric: 8.00 / 8 (100.0%):  36%|███▋      | 8/22 [00:01<00:01,  7.54it/s]"
     ]
    },
    {
     "name": "stderr",
     "output_type": "stream",
     "text": [
      "\u001b[92m23:59:37 - LiteLLM:ERROR\u001b[0m: caching.py:645 - LiteLLM Cache: Excepton add_cache: no such column: \"size\" - should this be a string literal in single-quotes?\n",
      "Traceback (most recent call last):\n",
      "  File \"c:\\Users\\risko\\miniconda3\\envs\\prompt-classification\\Lib\\site-packages\\litellm\\caching\\caching.py\", line 643, in add_cache\n",
      "    self.cache.set_cache(cache_key, cached_data, **kwargs)\n",
      "  File \"c:\\Users\\risko\\miniconda3\\envs\\prompt-classification\\Lib\\site-packages\\litellm\\caching\\disk_cache.py\", line 28, in set_cache\n",
      "    self.disk_cache.set(key, value)\n",
      "  File \"c:\\Users\\risko\\miniconda3\\envs\\prompt-classification\\Lib\\site-packages\\diskcache\\core.py\", line 808, in set\n",
      "    self._row_insert(db_key, raw, now, columns)\n",
      "  File \"c:\\Users\\risko\\miniconda3\\envs\\prompt-classification\\Lib\\site-packages\\diskcache\\core.py\", line 857, in _row_insert\n",
      "    sql(\n",
      "sqlite3.OperationalError: no such column: \"size\" - should this be a string literal in single-quotes?\n"
     ]
    },
    {
     "name": "stdout",
     "output_type": "stream",
     "text": [
      "Average Metric: 9.00 / 9 (100.0%):  36%|███▋      | 8/22 [00:01<00:01,  7.54it/s]"
     ]
    },
    {
     "name": "stderr",
     "output_type": "stream",
     "text": [
      "\u001b[92m23:59:37 - LiteLLM:ERROR\u001b[0m: caching.py:645 - LiteLLM Cache: Excepton add_cache: no such column: \"size\" - should this be a string literal in single-quotes?\n",
      "Traceback (most recent call last):\n",
      "  File \"c:\\Users\\risko\\miniconda3\\envs\\prompt-classification\\Lib\\site-packages\\litellm\\caching\\caching.py\", line 643, in add_cache\n",
      "    self.cache.set_cache(cache_key, cached_data, **kwargs)\n",
      "  File \"c:\\Users\\risko\\miniconda3\\envs\\prompt-classification\\Lib\\site-packages\\litellm\\caching\\disk_cache.py\", line 28, in set_cache\n",
      "    self.disk_cache.set(key, value)\n",
      "  File \"c:\\Users\\risko\\miniconda3\\envs\\prompt-classification\\Lib\\site-packages\\diskcache\\core.py\", line 808, in set\n",
      "    self._row_insert(db_key, raw, now, columns)\n",
      "  File \"c:\\Users\\risko\\miniconda3\\envs\\prompt-classification\\Lib\\site-packages\\diskcache\\core.py\", line 857, in _row_insert\n",
      "    sql(\n",
      "sqlite3.OperationalError: no such column: \"size\" - should this be a string literal in single-quotes?\n"
     ]
    },
    {
     "name": "stdout",
     "output_type": "stream",
     "text": [
      "Average Metric: 10.00 / 10 (100.0%):  45%|████▌     | 10/22 [00:01<00:01,  9.15it/s]"
     ]
    },
    {
     "name": "stderr",
     "output_type": "stream",
     "text": [
      "\u001b[92m23:59:37 - LiteLLM:ERROR\u001b[0m: caching.py:645 - LiteLLM Cache: Excepton add_cache: no such column: \"size\" - should this be a string literal in single-quotes?\n",
      "Traceback (most recent call last):\n",
      "  File \"c:\\Users\\risko\\miniconda3\\envs\\prompt-classification\\Lib\\site-packages\\litellm\\caching\\caching.py\", line 643, in add_cache\n",
      "    self.cache.set_cache(cache_key, cached_data, **kwargs)\n",
      "  File \"c:\\Users\\risko\\miniconda3\\envs\\prompt-classification\\Lib\\site-packages\\litellm\\caching\\disk_cache.py\", line 28, in set_cache\n",
      "    self.disk_cache.set(key, value)\n",
      "  File \"c:\\Users\\risko\\miniconda3\\envs\\prompt-classification\\Lib\\site-packages\\diskcache\\core.py\", line 808, in set\n",
      "    self._row_insert(db_key, raw, now, columns)\n",
      "  File \"c:\\Users\\risko\\miniconda3\\envs\\prompt-classification\\Lib\\site-packages\\diskcache\\core.py\", line 857, in _row_insert\n",
      "    sql(\n",
      "sqlite3.OperationalError: no such column: \"size\" - should this be a string literal in single-quotes?\n"
     ]
    },
    {
     "name": "stdout",
     "output_type": "stream",
     "text": [
      "Average Metric: 11.00 / 11 (100.0%):  45%|████▌     | 10/22 [00:01<00:01,  9.15it/s]"
     ]
    },
    {
     "name": "stderr",
     "output_type": "stream",
     "text": [
      "\u001b[92m23:59:37 - LiteLLM:ERROR\u001b[0m: caching.py:645 - LiteLLM Cache: Excepton add_cache: no such column: \"size\" - should this be a string literal in single-quotes?\n",
      "Traceback (most recent call last):\n",
      "  File \"c:\\Users\\risko\\miniconda3\\envs\\prompt-classification\\Lib\\site-packages\\litellm\\caching\\caching.py\", line 643, in add_cache\n",
      "    self.cache.set_cache(cache_key, cached_data, **kwargs)\n",
      "  File \"c:\\Users\\risko\\miniconda3\\envs\\prompt-classification\\Lib\\site-packages\\litellm\\caching\\disk_cache.py\", line 28, in set_cache\n",
      "    self.disk_cache.set(key, value)\n",
      "  File \"c:\\Users\\risko\\miniconda3\\envs\\prompt-classification\\Lib\\site-packages\\diskcache\\core.py\", line 808, in set\n",
      "    self._row_insert(db_key, raw, now, columns)\n",
      "  File \"c:\\Users\\risko\\miniconda3\\envs\\prompt-classification\\Lib\\site-packages\\diskcache\\core.py\", line 857, in _row_insert\n",
      "    sql(\n",
      "sqlite3.OperationalError: no such column: \"size\" - should this be a string literal in single-quotes?\n"
     ]
    },
    {
     "name": "stdout",
     "output_type": "stream",
     "text": [
      "Average Metric: 12.00 / 12 (100.0%):  55%|█████▍    | 12/22 [00:01<00:00, 10.43it/s]"
     ]
    },
    {
     "name": "stderr",
     "output_type": "stream",
     "text": [
      "\u001b[92m23:59:37 - LiteLLM:ERROR\u001b[0m: caching.py:645 - LiteLLM Cache: Excepton add_cache: no such column: \"size\" - should this be a string literal in single-quotes?\n",
      "Traceback (most recent call last):\n",
      "  File \"c:\\Users\\risko\\miniconda3\\envs\\prompt-classification\\Lib\\site-packages\\litellm\\caching\\caching.py\", line 643, in add_cache\n",
      "    self.cache.set_cache(cache_key, cached_data, **kwargs)\n",
      "  File \"c:\\Users\\risko\\miniconda3\\envs\\prompt-classification\\Lib\\site-packages\\litellm\\caching\\disk_cache.py\", line 28, in set_cache\n",
      "    self.disk_cache.set(key, value)\n",
      "  File \"c:\\Users\\risko\\miniconda3\\envs\\prompt-classification\\Lib\\site-packages\\diskcache\\core.py\", line 808, in set\n",
      "    self._row_insert(db_key, raw, now, columns)\n",
      "  File \"c:\\Users\\risko\\miniconda3\\envs\\prompt-classification\\Lib\\site-packages\\diskcache\\core.py\", line 857, in _row_insert\n",
      "    sql(\n",
      "sqlite3.OperationalError: no such column: \"size\" - should this be a string literal in single-quotes?\n"
     ]
    },
    {
     "name": "stdout",
     "output_type": "stream",
     "text": [
      "Average Metric: 13.00 / 13 (100.0%):  55%|█████▍    | 12/22 [00:01<00:00, 10.43it/s]"
     ]
    },
    {
     "name": "stderr",
     "output_type": "stream",
     "text": [
      "\u001b[92m23:59:38 - LiteLLM:ERROR\u001b[0m: caching.py:645 - LiteLLM Cache: Excepton add_cache: no such column: \"size\" - should this be a string literal in single-quotes?\n",
      "Traceback (most recent call last):\n",
      "  File \"c:\\Users\\risko\\miniconda3\\envs\\prompt-classification\\Lib\\site-packages\\litellm\\caching\\caching.py\", line 643, in add_cache\n",
      "    self.cache.set_cache(cache_key, cached_data, **kwargs)\n",
      "  File \"c:\\Users\\risko\\miniconda3\\envs\\prompt-classification\\Lib\\site-packages\\litellm\\caching\\disk_cache.py\", line 28, in set_cache\n",
      "    self.disk_cache.set(key, value)\n",
      "  File \"c:\\Users\\risko\\miniconda3\\envs\\prompt-classification\\Lib\\site-packages\\diskcache\\core.py\", line 808, in set\n",
      "    self._row_insert(db_key, raw, now, columns)\n",
      "  File \"c:\\Users\\risko\\miniconda3\\envs\\prompt-classification\\Lib\\site-packages\\diskcache\\core.py\", line 857, in _row_insert\n",
      "    sql(\n",
      "sqlite3.OperationalError: no such column: \"size\" - should this be a string literal in single-quotes?\n"
     ]
    },
    {
     "name": "stdout",
     "output_type": "stream",
     "text": [
      "Average Metric: 14.00 / 14 (100.0%):  64%|██████▎   | 14/22 [00:01<00:00,  9.11it/s]"
     ]
    },
    {
     "name": "stderr",
     "output_type": "stream",
     "text": [
      "\u001b[92m23:59:38 - LiteLLM:ERROR\u001b[0m: caching.py:645 - LiteLLM Cache: Excepton add_cache: no such column: \"size\" - should this be a string literal in single-quotes?\n",
      "Traceback (most recent call last):\n",
      "  File \"c:\\Users\\risko\\miniconda3\\envs\\prompt-classification\\Lib\\site-packages\\litellm\\caching\\caching.py\", line 643, in add_cache\n",
      "    self.cache.set_cache(cache_key, cached_data, **kwargs)\n",
      "  File \"c:\\Users\\risko\\miniconda3\\envs\\prompt-classification\\Lib\\site-packages\\litellm\\caching\\disk_cache.py\", line 28, in set_cache\n",
      "    self.disk_cache.set(key, value)\n",
      "  File \"c:\\Users\\risko\\miniconda3\\envs\\prompt-classification\\Lib\\site-packages\\diskcache\\core.py\", line 808, in set\n",
      "    self._row_insert(db_key, raw, now, columns)\n",
      "  File \"c:\\Users\\risko\\miniconda3\\envs\\prompt-classification\\Lib\\site-packages\\diskcache\\core.py\", line 857, in _row_insert\n",
      "    sql(\n",
      "sqlite3.OperationalError: no such column: \"size\" - should this be a string literal in single-quotes?\n"
     ]
    },
    {
     "name": "stdout",
     "output_type": "stream",
     "text": [
      "Average Metric: 15.00 / 15 (100.0%):  64%|██████▎   | 14/22 [00:02<00:00,  9.11it/s]"
     ]
    },
    {
     "name": "stderr",
     "output_type": "stream",
     "text": [
      "\u001b[92m23:59:38 - LiteLLM:ERROR\u001b[0m: caching.py:645 - LiteLLM Cache: Excepton add_cache: no such column: \"size\" - should this be a string literal in single-quotes?\n",
      "Traceback (most recent call last):\n",
      "  File \"c:\\Users\\risko\\miniconda3\\envs\\prompt-classification\\Lib\\site-packages\\litellm\\caching\\caching.py\", line 643, in add_cache\n",
      "    self.cache.set_cache(cache_key, cached_data, **kwargs)\n",
      "  File \"c:\\Users\\risko\\miniconda3\\envs\\prompt-classification\\Lib\\site-packages\\litellm\\caching\\disk_cache.py\", line 28, in set_cache\n",
      "    self.disk_cache.set(key, value)\n",
      "  File \"c:\\Users\\risko\\miniconda3\\envs\\prompt-classification\\Lib\\site-packages\\diskcache\\core.py\", line 808, in set\n",
      "    self._row_insert(db_key, raw, now, columns)\n",
      "  File \"c:\\Users\\risko\\miniconda3\\envs\\prompt-classification\\Lib\\site-packages\\diskcache\\core.py\", line 857, in _row_insert\n",
      "    sql(\n",
      "sqlite3.OperationalError: no such column: \"size\" - should this be a string literal in single-quotes?\n"
     ]
    },
    {
     "name": "stdout",
     "output_type": "stream",
     "text": [
      "Average Metric: 16.00 / 16 (100.0%):  68%|██████▊   | 15/22 [00:02<00:00,  9.11it/s]"
     ]
    },
    {
     "name": "stderr",
     "output_type": "stream",
     "text": [
      "\u001b[92m23:59:38 - LiteLLM:ERROR\u001b[0m: caching.py:645 - LiteLLM Cache: Excepton add_cache: no such column: \"size\" - should this be a string literal in single-quotes?\n",
      "Traceback (most recent call last):\n",
      "  File \"c:\\Users\\risko\\miniconda3\\envs\\prompt-classification\\Lib\\site-packages\\litellm\\caching\\caching.py\", line 643, in add_cache\n",
      "    self.cache.set_cache(cache_key, cached_data, **kwargs)\n",
      "  File \"c:\\Users\\risko\\miniconda3\\envs\\prompt-classification\\Lib\\site-packages\\litellm\\caching\\disk_cache.py\", line 28, in set_cache\n",
      "    self.disk_cache.set(key, value)\n",
      "  File \"c:\\Users\\risko\\miniconda3\\envs\\prompt-classification\\Lib\\site-packages\\diskcache\\core.py\", line 808, in set\n",
      "    self._row_insert(db_key, raw, now, columns)\n",
      "  File \"c:\\Users\\risko\\miniconda3\\envs\\prompt-classification\\Lib\\site-packages\\diskcache\\core.py\", line 857, in _row_insert\n",
      "    sql(\n",
      "sqlite3.OperationalError: no such column: \"size\" - should this be a string literal in single-quotes?\n"
     ]
    },
    {
     "name": "stdout",
     "output_type": "stream",
     "text": [
      "Average Metric: 17.00 / 17 (100.0%):  73%|███████▎  | 16/22 [00:02<00:00,  7.15it/s]"
     ]
    },
    {
     "name": "stderr",
     "output_type": "stream",
     "text": [
      "\u001b[92m23:59:38 - LiteLLM:ERROR\u001b[0m: caching.py:645 - LiteLLM Cache: Excepton add_cache: no such column: \"size\" - should this be a string literal in single-quotes?\n",
      "Traceback (most recent call last):\n",
      "  File \"c:\\Users\\risko\\miniconda3\\envs\\prompt-classification\\Lib\\site-packages\\litellm\\caching\\caching.py\", line 643, in add_cache\n",
      "    self.cache.set_cache(cache_key, cached_data, **kwargs)\n",
      "  File \"c:\\Users\\risko\\miniconda3\\envs\\prompt-classification\\Lib\\site-packages\\litellm\\caching\\disk_cache.py\", line 28, in set_cache\n",
      "    self.disk_cache.set(key, value)\n",
      "  File \"c:\\Users\\risko\\miniconda3\\envs\\prompt-classification\\Lib\\site-packages\\diskcache\\core.py\", line 808, in set\n",
      "    self._row_insert(db_key, raw, now, columns)\n",
      "  File \"c:\\Users\\risko\\miniconda3\\envs\\prompt-classification\\Lib\\site-packages\\diskcache\\core.py\", line 857, in _row_insert\n",
      "    sql(\n",
      "sqlite3.OperationalError: no such column: \"size\" - should this be a string literal in single-quotes?\n"
     ]
    },
    {
     "name": "stdout",
     "output_type": "stream",
     "text": [
      "Average Metric: 18.00 / 18 (100.0%):  77%|███████▋  | 17/22 [00:02<00:00,  7.15it/s]"
     ]
    },
    {
     "name": "stderr",
     "output_type": "stream",
     "text": [
      "\u001b[92m23:59:38 - LiteLLM:ERROR\u001b[0m: caching.py:645 - LiteLLM Cache: Excepton add_cache: no such column: \"size\" - should this be a string literal in single-quotes?\n",
      "Traceback (most recent call last):\n",
      "  File \"c:\\Users\\risko\\miniconda3\\envs\\prompt-classification\\Lib\\site-packages\\litellm\\caching\\caching.py\", line 643, in add_cache\n",
      "    self.cache.set_cache(cache_key, cached_data, **kwargs)\n",
      "  File \"c:\\Users\\risko\\miniconda3\\envs\\prompt-classification\\Lib\\site-packages\\litellm\\caching\\disk_cache.py\", line 28, in set_cache\n",
      "    self.disk_cache.set(key, value)\n",
      "  File \"c:\\Users\\risko\\miniconda3\\envs\\prompt-classification\\Lib\\site-packages\\diskcache\\core.py\", line 808, in set\n",
      "    self._row_insert(db_key, raw, now, columns)\n",
      "  File \"c:\\Users\\risko\\miniconda3\\envs\\prompt-classification\\Lib\\site-packages\\diskcache\\core.py\", line 857, in _row_insert\n",
      "    sql(\n",
      "sqlite3.OperationalError: no such column: \"size\" - should this be a string literal in single-quotes?\n"
     ]
    },
    {
     "name": "stdout",
     "output_type": "stream",
     "text": [
      "Average Metric: 19.00 / 19 (100.0%):  86%|████████▋ | 19/22 [00:02<00:00,  9.70it/s]"
     ]
    },
    {
     "name": "stderr",
     "output_type": "stream",
     "text": [
      "\u001b[92m23:59:38 - LiteLLM:ERROR\u001b[0m: caching.py:645 - LiteLLM Cache: Excepton add_cache: no such column: \"size\" - should this be a string literal in single-quotes?\n",
      "Traceback (most recent call last):\n",
      "  File \"c:\\Users\\risko\\miniconda3\\envs\\prompt-classification\\Lib\\site-packages\\litellm\\caching\\caching.py\", line 643, in add_cache\n",
      "    self.cache.set_cache(cache_key, cached_data, **kwargs)\n",
      "  File \"c:\\Users\\risko\\miniconda3\\envs\\prompt-classification\\Lib\\site-packages\\litellm\\caching\\disk_cache.py\", line 28, in set_cache\n",
      "    self.disk_cache.set(key, value)\n",
      "  File \"c:\\Users\\risko\\miniconda3\\envs\\prompt-classification\\Lib\\site-packages\\diskcache\\core.py\", line 808, in set\n",
      "    self._row_insert(db_key, raw, now, columns)\n",
      "  File \"c:\\Users\\risko\\miniconda3\\envs\\prompt-classification\\Lib\\site-packages\\diskcache\\core.py\", line 857, in _row_insert\n",
      "    sql(\n",
      "sqlite3.OperationalError: no such column: \"size\" - should this be a string literal in single-quotes?\n"
     ]
    },
    {
     "name": "stdout",
     "output_type": "stream",
     "text": [
      "Average Metric: 20.00 / 20 (100.0%):  86%|████████▋ | 19/22 [00:02<00:00,  9.70it/s]"
     ]
    },
    {
     "name": "stderr",
     "output_type": "stream",
     "text": [
      "\u001b[92m23:59:39 - LiteLLM:ERROR\u001b[0m: caching.py:645 - LiteLLM Cache: Excepton add_cache: no such column: \"size\" - should this be a string literal in single-quotes?\n",
      "Traceback (most recent call last):\n",
      "  File \"c:\\Users\\risko\\miniconda3\\envs\\prompt-classification\\Lib\\site-packages\\litellm\\caching\\caching.py\", line 643, in add_cache\n",
      "    self.cache.set_cache(cache_key, cached_data, **kwargs)\n",
      "  File \"c:\\Users\\risko\\miniconda3\\envs\\prompt-classification\\Lib\\site-packages\\litellm\\caching\\disk_cache.py\", line 28, in set_cache\n",
      "    self.disk_cache.set(key, value)\n",
      "  File \"c:\\Users\\risko\\miniconda3\\envs\\prompt-classification\\Lib\\site-packages\\diskcache\\core.py\", line 808, in set\n",
      "    self._row_insert(db_key, raw, now, columns)\n",
      "  File \"c:\\Users\\risko\\miniconda3\\envs\\prompt-classification\\Lib\\site-packages\\diskcache\\core.py\", line 857, in _row_insert\n",
      "    sql(\n",
      "sqlite3.OperationalError: no such column: \"size\" - should this be a string literal in single-quotes?\n"
     ]
    },
    {
     "name": "stdout",
     "output_type": "stream",
     "text": [
      "Average Metric: 21.00 / 21 (100.0%):  95%|█████████▌| 21/22 [00:03<00:00,  5.15it/s]"
     ]
    },
    {
     "name": "stderr",
     "output_type": "stream",
     "text": [
      "\u001b[92m23:59:39 - LiteLLM:ERROR\u001b[0m: caching.py:645 - LiteLLM Cache: Excepton add_cache: no such column: \"size\" - should this be a string literal in single-quotes?\n",
      "Traceback (most recent call last):\n",
      "  File \"c:\\Users\\risko\\miniconda3\\envs\\prompt-classification\\Lib\\site-packages\\litellm\\caching\\caching.py\", line 643, in add_cache\n",
      "    self.cache.set_cache(cache_key, cached_data, **kwargs)\n",
      "  File \"c:\\Users\\risko\\miniconda3\\envs\\prompt-classification\\Lib\\site-packages\\litellm\\caching\\disk_cache.py\", line 28, in set_cache\n",
      "    self.disk_cache.set(key, value)\n",
      "  File \"c:\\Users\\risko\\miniconda3\\envs\\prompt-classification\\Lib\\site-packages\\diskcache\\core.py\", line 808, in set\n",
      "    self._row_insert(db_key, raw, now, columns)\n",
      "  File \"c:\\Users\\risko\\miniconda3\\envs\\prompt-classification\\Lib\\site-packages\\diskcache\\core.py\", line 857, in _row_insert\n",
      "    sql(\n",
      "sqlite3.OperationalError: no such column: \"size\" - should this be a string literal in single-quotes?\n"
     ]
    },
    {
     "name": "stdout",
     "output_type": "stream",
     "text": [
      "Average Metric: 22.00 / 22 (100.0%): 100%|██████████| 22/22 [00:03<00:00,  6.76it/s]"
     ]
    },
    {
     "name": "stderr",
     "output_type": "stream",
     "text": [
      "2025/02/21 23:59:39 INFO dspy.evaluate.evaluate: Average Metric: 22 / 22 (100.0%)\n"
     ]
    },
    {
     "name": "stdout",
     "output_type": "stream",
     "text": [
      "\n",
      "Scores so far: [100.0, 100.0, 100.0, 95.45, 100.0]\n",
      "Best score so far: 100.0\n"
     ]
    },
    {
     "name": "stderr",
     "output_type": "stream",
     "text": [
      "  0%|          | 0/22 [00:00<?, ?it/s]\u001b[92m23:59:40 - LiteLLM:ERROR\u001b[0m: caching.py:645 - LiteLLM Cache: Excepton add_cache: no such column: \"size\" - should this be a string literal in single-quotes?\n",
      "Traceback (most recent call last):\n",
      "  File \"c:\\Users\\risko\\miniconda3\\envs\\prompt-classification\\Lib\\site-packages\\litellm\\caching\\caching.py\", line 643, in add_cache\n",
      "    self.cache.set_cache(cache_key, cached_data, **kwargs)\n",
      "  File \"c:\\Users\\risko\\miniconda3\\envs\\prompt-classification\\Lib\\site-packages\\litellm\\caching\\disk_cache.py\", line 28, in set_cache\n",
      "    self.disk_cache.set(key, value)\n",
      "  File \"c:\\Users\\risko\\miniconda3\\envs\\prompt-classification\\Lib\\site-packages\\diskcache\\core.py\", line 808, in set\n",
      "    self._row_insert(db_key, raw, now, columns)\n",
      "  File \"c:\\Users\\risko\\miniconda3\\envs\\prompt-classification\\Lib\\site-packages\\diskcache\\core.py\", line 857, in _row_insert\n",
      "    sql(\n",
      "sqlite3.OperationalError: no such column: \"size\" - should this be a string literal in single-quotes?\n",
      "  5%|▍         | 1/22 [00:00<00:14,  1.42it/s]\n"
     ]
    },
    {
     "name": "stdout",
     "output_type": "stream",
     "text": [
      "Bootstrapped 1 full traces after 1 examples for up to 1 rounds, amounting to 1 attempts.\n",
      "  0%|          | 0/22 [00:00<?, ?it/s]"
     ]
    },
    {
     "name": "stderr",
     "output_type": "stream",
     "text": [
      "\u001b[92m23:59:40 - LiteLLM:ERROR\u001b[0m: caching.py:645 - LiteLLM Cache: Excepton add_cache: no such column: \"size\" - should this be a string literal in single-quotes?\n",
      "Traceback (most recent call last):\n",
      "  File \"c:\\Users\\risko\\miniconda3\\envs\\prompt-classification\\Lib\\site-packages\\litellm\\caching\\caching.py\", line 643, in add_cache\n",
      "    self.cache.set_cache(cache_key, cached_data, **kwargs)\n",
      "  File \"c:\\Users\\risko\\miniconda3\\envs\\prompt-classification\\Lib\\site-packages\\litellm\\caching\\disk_cache.py\", line 28, in set_cache\n",
      "    self.disk_cache.set(key, value)\n",
      "  File \"c:\\Users\\risko\\miniconda3\\envs\\prompt-classification\\Lib\\site-packages\\diskcache\\core.py\", line 808, in set\n",
      "    self._row_insert(db_key, raw, now, columns)\n",
      "  File \"c:\\Users\\risko\\miniconda3\\envs\\prompt-classification\\Lib\\site-packages\\diskcache\\core.py\", line 857, in _row_insert\n",
      "    sql(\n",
      "sqlite3.OperationalError: no such column: \"size\" - should this be a string literal in single-quotes?\n"
     ]
    },
    {
     "name": "stdout",
     "output_type": "stream",
     "text": [
      "Average Metric: 1.00 / 1 (100.0%):   5%|▍         | 1/22 [00:00<00:11,  1.86it/s]"
     ]
    },
    {
     "name": "stderr",
     "output_type": "stream",
     "text": [
      "\u001b[92m23:59:40 - LiteLLM:ERROR\u001b[0m: caching.py:645 - LiteLLM Cache: Excepton add_cache: no such column: \"size\" - should this be a string literal in single-quotes?\n",
      "Traceback (most recent call last):\n",
      "  File \"c:\\Users\\risko\\miniconda3\\envs\\prompt-classification\\Lib\\site-packages\\litellm\\caching\\caching.py\", line 643, in add_cache\n",
      "    self.cache.set_cache(cache_key, cached_data, **kwargs)\n",
      "  File \"c:\\Users\\risko\\miniconda3\\envs\\prompt-classification\\Lib\\site-packages\\litellm\\caching\\disk_cache.py\", line 28, in set_cache\n",
      "    self.disk_cache.set(key, value)\n",
      "  File \"c:\\Users\\risko\\miniconda3\\envs\\prompt-classification\\Lib\\site-packages\\diskcache\\core.py\", line 808, in set\n",
      "    self._row_insert(db_key, raw, now, columns)\n",
      "  File \"c:\\Users\\risko\\miniconda3\\envs\\prompt-classification\\Lib\\site-packages\\diskcache\\core.py\", line 857, in _row_insert\n",
      "    sql(\n",
      "sqlite3.OperationalError: no such column: \"size\" - should this be a string literal in single-quotes?\n"
     ]
    },
    {
     "name": "stdout",
     "output_type": "stream",
     "text": [
      "Average Metric: 2.00 / 2 (100.0%):   5%|▍         | 1/22 [00:00<00:11,  1.86it/s]"
     ]
    },
    {
     "name": "stderr",
     "output_type": "stream",
     "text": [
      "\u001b[92m23:59:41 - LiteLLM:ERROR\u001b[0m: caching.py:645 - LiteLLM Cache: Excepton add_cache: no such column: \"size\" - should this be a string literal in single-quotes?\n",
      "Traceback (most recent call last):\n",
      "  File \"c:\\Users\\risko\\miniconda3\\envs\\prompt-classification\\Lib\\site-packages\\litellm\\caching\\caching.py\", line 643, in add_cache\n",
      "    self.cache.set_cache(cache_key, cached_data, **kwargs)\n",
      "  File \"c:\\Users\\risko\\miniconda3\\envs\\prompt-classification\\Lib\\site-packages\\litellm\\caching\\disk_cache.py\", line 28, in set_cache\n",
      "    self.disk_cache.set(key, value)\n",
      "  File \"c:\\Users\\risko\\miniconda3\\envs\\prompt-classification\\Lib\\site-packages\\diskcache\\core.py\", line 808, in set\n",
      "    self._row_insert(db_key, raw, now, columns)\n",
      "  File \"c:\\Users\\risko\\miniconda3\\envs\\prompt-classification\\Lib\\site-packages\\diskcache\\core.py\", line 857, in _row_insert\n",
      "    sql(\n",
      "sqlite3.OperationalError: no such column: \"size\" - should this be a string literal in single-quotes?\n"
     ]
    },
    {
     "name": "stdout",
     "output_type": "stream",
     "text": [
      "Average Metric: 3.00 / 3 (100.0%):   9%|▉         | 2/22 [00:00<00:10,  1.86it/s]"
     ]
    },
    {
     "name": "stderr",
     "output_type": "stream",
     "text": [
      "\u001b[92m23:59:41 - LiteLLM:ERROR\u001b[0m: caching.py:645 - LiteLLM Cache: Excepton add_cache: no such column: \"size\" - should this be a string literal in single-quotes?\n",
      "Traceback (most recent call last):\n",
      "  File \"c:\\Users\\risko\\miniconda3\\envs\\prompt-classification\\Lib\\site-packages\\litellm\\caching\\caching.py\", line 643, in add_cache\n",
      "    self.cache.set_cache(cache_key, cached_data, **kwargs)\n",
      "  File \"c:\\Users\\risko\\miniconda3\\envs\\prompt-classification\\Lib\\site-packages\\litellm\\caching\\disk_cache.py\", line 28, in set_cache\n",
      "    self.disk_cache.set(key, value)\n",
      "  File \"c:\\Users\\risko\\miniconda3\\envs\\prompt-classification\\Lib\\site-packages\\diskcache\\core.py\", line 808, in set\n",
      "    self._row_insert(db_key, raw, now, columns)\n",
      "  File \"c:\\Users\\risko\\miniconda3\\envs\\prompt-classification\\Lib\\site-packages\\diskcache\\core.py\", line 857, in _row_insert\n",
      "    sql(\n",
      "sqlite3.OperationalError: no such column: \"size\" - should this be a string literal in single-quotes?\n"
     ]
    },
    {
     "name": "stdout",
     "output_type": "stream",
     "text": [
      "Average Metric: 4.00 / 4 (100.0%):  18%|█▊        | 4/22 [00:00<00:02,  6.04it/s]"
     ]
    },
    {
     "name": "stderr",
     "output_type": "stream",
     "text": [
      "\u001b[92m23:59:41 - LiteLLM:ERROR\u001b[0m: caching.py:645 - LiteLLM Cache: Excepton add_cache: no such column: \"size\" - should this be a string literal in single-quotes?\n",
      "Traceback (most recent call last):\n",
      "  File \"c:\\Users\\risko\\miniconda3\\envs\\prompt-classification\\Lib\\site-packages\\litellm\\caching\\caching.py\", line 643, in add_cache\n",
      "    self.cache.set_cache(cache_key, cached_data, **kwargs)\n",
      "  File \"c:\\Users\\risko\\miniconda3\\envs\\prompt-classification\\Lib\\site-packages\\litellm\\caching\\disk_cache.py\", line 28, in set_cache\n",
      "    self.disk_cache.set(key, value)\n",
      "  File \"c:\\Users\\risko\\miniconda3\\envs\\prompt-classification\\Lib\\site-packages\\diskcache\\core.py\", line 808, in set\n",
      "    self._row_insert(db_key, raw, now, columns)\n",
      "  File \"c:\\Users\\risko\\miniconda3\\envs\\prompt-classification\\Lib\\site-packages\\diskcache\\core.py\", line 857, in _row_insert\n",
      "    sql(\n",
      "sqlite3.OperationalError: no such column: \"size\" - should this be a string literal in single-quotes?\n"
     ]
    },
    {
     "name": "stdout",
     "output_type": "stream",
     "text": [
      "Average Metric: 5.00 / 5 (100.0%):  18%|█▊        | 4/22 [00:00<00:02,  6.04it/s]"
     ]
    },
    {
     "name": "stderr",
     "output_type": "stream",
     "text": [
      "\u001b[92m23:59:41 - LiteLLM:ERROR\u001b[0m: caching.py:645 - LiteLLM Cache: Excepton add_cache: no such column: \"size\" - should this be a string literal in single-quotes?\n",
      "Traceback (most recent call last):\n",
      "  File \"c:\\Users\\risko\\miniconda3\\envs\\prompt-classification\\Lib\\site-packages\\litellm\\caching\\caching.py\", line 643, in add_cache\n",
      "    self.cache.set_cache(cache_key, cached_data, **kwargs)\n",
      "  File \"c:\\Users\\risko\\miniconda3\\envs\\prompt-classification\\Lib\\site-packages\\litellm\\caching\\disk_cache.py\", line 28, in set_cache\n",
      "    self.disk_cache.set(key, value)\n",
      "  File \"c:\\Users\\risko\\miniconda3\\envs\\prompt-classification\\Lib\\site-packages\\diskcache\\core.py\", line 808, in set\n",
      "    self._row_insert(db_key, raw, now, columns)\n",
      "  File \"c:\\Users\\risko\\miniconda3\\envs\\prompt-classification\\Lib\\site-packages\\diskcache\\core.py\", line 857, in _row_insert\n",
      "    sql(\n",
      "sqlite3.OperationalError: no such column: \"size\" - should this be a string literal in single-quotes?\n"
     ]
    },
    {
     "name": "stdout",
     "output_type": "stream",
     "text": [
      "Average Metric: 6.00 / 6 (100.0%):  27%|██▋       | 6/22 [00:01<00:03,  4.91it/s]"
     ]
    },
    {
     "name": "stderr",
     "output_type": "stream",
     "text": [
      "\u001b[92m23:59:41 - LiteLLM:ERROR\u001b[0m: caching.py:645 - LiteLLM Cache: Excepton add_cache: no such column: \"size\" - should this be a string literal in single-quotes?\n",
      "Traceback (most recent call last):\n",
      "  File \"c:\\Users\\risko\\miniconda3\\envs\\prompt-classification\\Lib\\site-packages\\litellm\\caching\\caching.py\", line 643, in add_cache\n",
      "    self.cache.set_cache(cache_key, cached_data, **kwargs)\n",
      "  File \"c:\\Users\\risko\\miniconda3\\envs\\prompt-classification\\Lib\\site-packages\\litellm\\caching\\disk_cache.py\", line 28, in set_cache\n",
      "    self.disk_cache.set(key, value)\n",
      "  File \"c:\\Users\\risko\\miniconda3\\envs\\prompt-classification\\Lib\\site-packages\\diskcache\\core.py\", line 808, in set\n",
      "    self._row_insert(db_key, raw, now, columns)\n",
      "  File \"c:\\Users\\risko\\miniconda3\\envs\\prompt-classification\\Lib\\site-packages\\diskcache\\core.py\", line 857, in _row_insert\n",
      "    sql(\n",
      "sqlite3.OperationalError: no such column: \"size\" - should this be a string literal in single-quotes?\n"
     ]
    },
    {
     "name": "stdout",
     "output_type": "stream",
     "text": [
      "Average Metric: 7.00 / 7 (100.0%):  32%|███▏      | 7/22 [00:01<00:03,  4.85it/s]"
     ]
    },
    {
     "name": "stderr",
     "output_type": "stream",
     "text": [
      "\u001b[92m23:59:41 - LiteLLM:ERROR\u001b[0m: caching.py:645 - LiteLLM Cache: Excepton add_cache: no such column: \"size\" - should this be a string literal in single-quotes?\n",
      "Traceback (most recent call last):\n",
      "  File \"c:\\Users\\risko\\miniconda3\\envs\\prompt-classification\\Lib\\site-packages\\litellm\\caching\\caching.py\", line 643, in add_cache\n",
      "    self.cache.set_cache(cache_key, cached_data, **kwargs)\n",
      "  File \"c:\\Users\\risko\\miniconda3\\envs\\prompt-classification\\Lib\\site-packages\\litellm\\caching\\disk_cache.py\", line 28, in set_cache\n",
      "    self.disk_cache.set(key, value)\n",
      "  File \"c:\\Users\\risko\\miniconda3\\envs\\prompt-classification\\Lib\\site-packages\\diskcache\\core.py\", line 808, in set\n",
      "    self._row_insert(db_key, raw, now, columns)\n",
      "  File \"c:\\Users\\risko\\miniconda3\\envs\\prompt-classification\\Lib\\site-packages\\diskcache\\core.py\", line 857, in _row_insert\n",
      "    sql(\n",
      "sqlite3.OperationalError: no such column: \"size\" - should this be a string literal in single-quotes?\n"
     ]
    },
    {
     "name": "stdout",
     "output_type": "stream",
     "text": [
      "Average Metric: 8.00 / 8 (100.0%):  32%|███▏      | 7/22 [00:01<00:03,  4.85it/s]"
     ]
    },
    {
     "name": "stderr",
     "output_type": "stream",
     "text": [
      "\u001b[92m23:59:41 - LiteLLM:ERROR\u001b[0m: caching.py:645 - LiteLLM Cache: Excepton add_cache: no such column: \"size\" - should this be a string literal in single-quotes?\n",
      "Traceback (most recent call last):\n",
      "  File \"c:\\Users\\risko\\miniconda3\\envs\\prompt-classification\\Lib\\site-packages\\litellm\\caching\\caching.py\", line 643, in add_cache\n",
      "    self.cache.set_cache(cache_key, cached_data, **kwargs)\n",
      "  File \"c:\\Users\\risko\\miniconda3\\envs\\prompt-classification\\Lib\\site-packages\\litellm\\caching\\disk_cache.py\", line 28, in set_cache\n",
      "    self.disk_cache.set(key, value)\n",
      "  File \"c:\\Users\\risko\\miniconda3\\envs\\prompt-classification\\Lib\\site-packages\\diskcache\\core.py\", line 808, in set\n",
      "    self._row_insert(db_key, raw, now, columns)\n",
      "  File \"c:\\Users\\risko\\miniconda3\\envs\\prompt-classification\\Lib\\site-packages\\diskcache\\core.py\", line 857, in _row_insert\n",
      "    sql(\n",
      "sqlite3.OperationalError: no such column: \"size\" - should this be a string literal in single-quotes?\n"
     ]
    },
    {
     "name": "stdout",
     "output_type": "stream",
     "text": [
      "Average Metric: 9.00 / 9 (100.0%):  36%|███▋      | 8/22 [00:01<00:02,  4.85it/s]"
     ]
    },
    {
     "name": "stderr",
     "output_type": "stream",
     "text": [
      "\u001b[92m23:59:42 - LiteLLM:ERROR\u001b[0m: caching.py:645 - LiteLLM Cache: Excepton add_cache: no such column: \"size\" - should this be a string literal in single-quotes?\n",
      "Traceback (most recent call last):\n",
      "  File \"c:\\Users\\risko\\miniconda3\\envs\\prompt-classification\\Lib\\site-packages\\litellm\\caching\\caching.py\", line 643, in add_cache\n",
      "    self.cache.set_cache(cache_key, cached_data, **kwargs)\n",
      "  File \"c:\\Users\\risko\\miniconda3\\envs\\prompt-classification\\Lib\\site-packages\\litellm\\caching\\disk_cache.py\", line 28, in set_cache\n",
      "    self.disk_cache.set(key, value)\n",
      "  File \"c:\\Users\\risko\\miniconda3\\envs\\prompt-classification\\Lib\\site-packages\\diskcache\\core.py\", line 808, in set\n",
      "    self._row_insert(db_key, raw, now, columns)\n",
      "  File \"c:\\Users\\risko\\miniconda3\\envs\\prompt-classification\\Lib\\site-packages\\diskcache\\core.py\", line 857, in _row_insert\n",
      "    sql(\n",
      "sqlite3.OperationalError: no such column: \"size\" - should this be a string literal in single-quotes?\n"
     ]
    },
    {
     "name": "stdout",
     "output_type": "stream",
     "text": [
      "Average Metric: 10.00 / 10 (100.0%):  45%|████▌     | 10/22 [00:01<00:01,  7.80it/s]"
     ]
    },
    {
     "name": "stderr",
     "output_type": "stream",
     "text": [
      "\u001b[92m23:59:42 - LiteLLM:ERROR\u001b[0m: caching.py:645 - LiteLLM Cache: Excepton add_cache: no such column: \"size\" - should this be a string literal in single-quotes?\n",
      "Traceback (most recent call last):\n",
      "  File \"c:\\Users\\risko\\miniconda3\\envs\\prompt-classification\\Lib\\site-packages\\litellm\\caching\\caching.py\", line 643, in add_cache\n",
      "    self.cache.set_cache(cache_key, cached_data, **kwargs)\n",
      "  File \"c:\\Users\\risko\\miniconda3\\envs\\prompt-classification\\Lib\\site-packages\\litellm\\caching\\disk_cache.py\", line 28, in set_cache\n",
      "    self.disk_cache.set(key, value)\n",
      "  File \"c:\\Users\\risko\\miniconda3\\envs\\prompt-classification\\Lib\\site-packages\\diskcache\\core.py\", line 808, in set\n",
      "    self._row_insert(db_key, raw, now, columns)\n",
      "  File \"c:\\Users\\risko\\miniconda3\\envs\\prompt-classification\\Lib\\site-packages\\diskcache\\core.py\", line 857, in _row_insert\n",
      "    sql(\n",
      "sqlite3.OperationalError: no such column: \"size\" - should this be a string literal in single-quotes?\n"
     ]
    },
    {
     "name": "stdout",
     "output_type": "stream",
     "text": [
      "Average Metric: 11.00 / 11 (100.0%):  45%|████▌     | 10/22 [00:01<00:01,  7.80it/s]"
     ]
    },
    {
     "name": "stderr",
     "output_type": "stream",
     "text": [
      "\u001b[92m23:59:42 - LiteLLM:ERROR\u001b[0m: caching.py:645 - LiteLLM Cache: Excepton add_cache: no such column: \"size\" - should this be a string literal in single-quotes?\n",
      "Traceback (most recent call last):\n",
      "  File \"c:\\Users\\risko\\miniconda3\\envs\\prompt-classification\\Lib\\site-packages\\litellm\\caching\\caching.py\", line 643, in add_cache\n",
      "    self.cache.set_cache(cache_key, cached_data, **kwargs)\n",
      "  File \"c:\\Users\\risko\\miniconda3\\envs\\prompt-classification\\Lib\\site-packages\\litellm\\caching\\disk_cache.py\", line 28, in set_cache\n",
      "    self.disk_cache.set(key, value)\n",
      "  File \"c:\\Users\\risko\\miniconda3\\envs\\prompt-classification\\Lib\\site-packages\\diskcache\\core.py\", line 808, in set\n",
      "    self._row_insert(db_key, raw, now, columns)\n",
      "  File \"c:\\Users\\risko\\miniconda3\\envs\\prompt-classification\\Lib\\site-packages\\diskcache\\core.py\", line 857, in _row_insert\n",
      "    sql(\n",
      "sqlite3.OperationalError: no such column: \"size\" - should this be a string literal in single-quotes?\n"
     ]
    },
    {
     "name": "stdout",
     "output_type": "stream",
     "text": [
      "Average Metric: 12.00 / 12 (100.0%):  55%|█████▍    | 12/22 [00:01<00:01,  7.23it/s]"
     ]
    },
    {
     "name": "stderr",
     "output_type": "stream",
     "text": [
      "\u001b[92m23:59:42 - LiteLLM:ERROR\u001b[0m: caching.py:645 - LiteLLM Cache: Excepton add_cache: no such column: \"size\" - should this be a string literal in single-quotes?\n",
      "Traceback (most recent call last):\n",
      "  File \"c:\\Users\\risko\\miniconda3\\envs\\prompt-classification\\Lib\\site-packages\\litellm\\caching\\caching.py\", line 643, in add_cache\n",
      "    self.cache.set_cache(cache_key, cached_data, **kwargs)\n",
      "  File \"c:\\Users\\risko\\miniconda3\\envs\\prompt-classification\\Lib\\site-packages\\litellm\\caching\\disk_cache.py\", line 28, in set_cache\n",
      "    self.disk_cache.set(key, value)\n",
      "  File \"c:\\Users\\risko\\miniconda3\\envs\\prompt-classification\\Lib\\site-packages\\diskcache\\core.py\", line 808, in set\n",
      "    self._row_insert(db_key, raw, now, columns)\n",
      "  File \"c:\\Users\\risko\\miniconda3\\envs\\prompt-classification\\Lib\\site-packages\\diskcache\\core.py\", line 857, in _row_insert\n",
      "    sql(\n",
      "sqlite3.OperationalError: no such column: \"size\" - should this be a string literal in single-quotes?\n"
     ]
    },
    {
     "name": "stdout",
     "output_type": "stream",
     "text": [
      "Average Metric: 13.00 / 13 (100.0%):  55%|█████▍    | 12/22 [00:01<00:01,  7.23it/s]"
     ]
    },
    {
     "name": "stderr",
     "output_type": "stream",
     "text": [
      "\u001b[92m23:59:42 - LiteLLM:ERROR\u001b[0m: caching.py:645 - LiteLLM Cache: Excepton add_cache: no such column: \"size\" - should this be a string literal in single-quotes?\n",
      "Traceback (most recent call last):\n",
      "  File \"c:\\Users\\risko\\miniconda3\\envs\\prompt-classification\\Lib\\site-packages\\litellm\\caching\\caching.py\", line 643, in add_cache\n",
      "    self.cache.set_cache(cache_key, cached_data, **kwargs)\n",
      "  File \"c:\\Users\\risko\\miniconda3\\envs\\prompt-classification\\Lib\\site-packages\\litellm\\caching\\disk_cache.py\", line 28, in set_cache\n",
      "    self.disk_cache.set(key, value)\n",
      "  File \"c:\\Users\\risko\\miniconda3\\envs\\prompt-classification\\Lib\\site-packages\\diskcache\\core.py\", line 808, in set\n",
      "    self._row_insert(db_key, raw, now, columns)\n",
      "  File \"c:\\Users\\risko\\miniconda3\\envs\\prompt-classification\\Lib\\site-packages\\diskcache\\core.py\", line 857, in _row_insert\n",
      "    sql(\n",
      "sqlite3.OperationalError: no such column: \"size\" - should this be a string literal in single-quotes?\n"
     ]
    },
    {
     "name": "stdout",
     "output_type": "stream",
     "text": [
      "Average Metric: 14.00 / 14 (100.0%):  64%|██████▎   | 14/22 [00:02<00:00,  8.17it/s]"
     ]
    },
    {
     "name": "stderr",
     "output_type": "stream",
     "text": [
      "\u001b[92m23:59:42 - LiteLLM:ERROR\u001b[0m: caching.py:645 - LiteLLM Cache: Excepton add_cache: no such column: \"size\" - should this be a string literal in single-quotes?\n",
      "Traceback (most recent call last):\n",
      "  File \"c:\\Users\\risko\\miniconda3\\envs\\prompt-classification\\Lib\\site-packages\\litellm\\caching\\caching.py\", line 643, in add_cache\n",
      "    self.cache.set_cache(cache_key, cached_data, **kwargs)\n",
      "  File \"c:\\Users\\risko\\miniconda3\\envs\\prompt-classification\\Lib\\site-packages\\litellm\\caching\\disk_cache.py\", line 28, in set_cache\n",
      "    self.disk_cache.set(key, value)\n",
      "  File \"c:\\Users\\risko\\miniconda3\\envs\\prompt-classification\\Lib\\site-packages\\diskcache\\core.py\", line 808, in set\n",
      "    self._row_insert(db_key, raw, now, columns)\n",
      "  File \"c:\\Users\\risko\\miniconda3\\envs\\prompt-classification\\Lib\\site-packages\\diskcache\\core.py\", line 857, in _row_insert\n",
      "    sql(\n",
      "sqlite3.OperationalError: no such column: \"size\" - should this be a string literal in single-quotes?\n"
     ]
    },
    {
     "name": "stdout",
     "output_type": "stream",
     "text": [
      "Average Metric: 15.00 / 15 (100.0%):  68%|██████▊   | 15/22 [00:02<00:00,  7.47it/s]"
     ]
    },
    {
     "name": "stderr",
     "output_type": "stream",
     "text": [
      "\u001b[92m23:59:42 - LiteLLM:ERROR\u001b[0m: caching.py:645 - LiteLLM Cache: Excepton add_cache: no such column: \"size\" - should this be a string literal in single-quotes?\n",
      "Traceback (most recent call last):\n",
      "  File \"c:\\Users\\risko\\miniconda3\\envs\\prompt-classification\\Lib\\site-packages\\litellm\\caching\\caching.py\", line 643, in add_cache\n",
      "    self.cache.set_cache(cache_key, cached_data, **kwargs)\n",
      "  File \"c:\\Users\\risko\\miniconda3\\envs\\prompt-classification\\Lib\\site-packages\\litellm\\caching\\disk_cache.py\", line 28, in set_cache\n",
      "    self.disk_cache.set(key, value)\n",
      "  File \"c:\\Users\\risko\\miniconda3\\envs\\prompt-classification\\Lib\\site-packages\\diskcache\\core.py\", line 808, in set\n",
      "    self._row_insert(db_key, raw, now, columns)\n",
      "  File \"c:\\Users\\risko\\miniconda3\\envs\\prompt-classification\\Lib\\site-packages\\diskcache\\core.py\", line 857, in _row_insert\n",
      "    sql(\n",
      "sqlite3.OperationalError: no such column: \"size\" - should this be a string literal in single-quotes?\n"
     ]
    },
    {
     "name": "stdout",
     "output_type": "stream",
     "text": [
      "Average Metric: 16.00 / 16 (100.0%):  68%|██████▊   | 15/22 [00:02<00:00,  7.47it/s]"
     ]
    },
    {
     "name": "stderr",
     "output_type": "stream",
     "text": [
      "\u001b[92m23:59:42 - LiteLLM:ERROR\u001b[0m: caching.py:645 - LiteLLM Cache: Excepton add_cache: no such column: \"size\" - should this be a string literal in single-quotes?\n",
      "Traceback (most recent call last):\n",
      "  File \"c:\\Users\\risko\\miniconda3\\envs\\prompt-classification\\Lib\\site-packages\\litellm\\caching\\caching.py\", line 643, in add_cache\n",
      "    self.cache.set_cache(cache_key, cached_data, **kwargs)\n",
      "  File \"c:\\Users\\risko\\miniconda3\\envs\\prompt-classification\\Lib\\site-packages\\litellm\\caching\\disk_cache.py\", line 28, in set_cache\n",
      "    self.disk_cache.set(key, value)\n",
      "  File \"c:\\Users\\risko\\miniconda3\\envs\\prompt-classification\\Lib\\site-packages\\diskcache\\core.py\", line 808, in set\n",
      "    self._row_insert(db_key, raw, now, columns)\n",
      "  File \"c:\\Users\\risko\\miniconda3\\envs\\prompt-classification\\Lib\\site-packages\\diskcache\\core.py\", line 857, in _row_insert\n",
      "    sql(\n",
      "sqlite3.OperationalError: no such column: \"size\" - should this be a string literal in single-quotes?\n"
     ]
    },
    {
     "name": "stdout",
     "output_type": "stream",
     "text": [
      "Average Metric: 17.00 / 17 (100.0%):  73%|███████▎  | 16/22 [00:02<00:00,  7.47it/s]"
     ]
    },
    {
     "name": "stderr",
     "output_type": "stream",
     "text": [
      "\u001b[92m23:59:43 - LiteLLM:ERROR\u001b[0m: caching.py:645 - LiteLLM Cache: Excepton add_cache: no such column: \"size\" - should this be a string literal in single-quotes?\n",
      "Traceback (most recent call last):\n",
      "  File \"c:\\Users\\risko\\miniconda3\\envs\\prompt-classification\\Lib\\site-packages\\litellm\\caching\\caching.py\", line 643, in add_cache\n",
      "    self.cache.set_cache(cache_key, cached_data, **kwargs)\n",
      "  File \"c:\\Users\\risko\\miniconda3\\envs\\prompt-classification\\Lib\\site-packages\\litellm\\caching\\disk_cache.py\", line 28, in set_cache\n",
      "    self.disk_cache.set(key, value)\n",
      "  File \"c:\\Users\\risko\\miniconda3\\envs\\prompt-classification\\Lib\\site-packages\\diskcache\\core.py\", line 808, in set\n",
      "    self._row_insert(db_key, raw, now, columns)\n",
      "  File \"c:\\Users\\risko\\miniconda3\\envs\\prompt-classification\\Lib\\site-packages\\diskcache\\core.py\", line 857, in _row_insert\n",
      "    sql(\n",
      "sqlite3.OperationalError: no such column: \"size\" - should this be a string literal in single-quotes?\n"
     ]
    },
    {
     "name": "stdout",
     "output_type": "stream",
     "text": [
      "Average Metric: 18.00 / 18 (100.0%):  82%|████████▏ | 18/22 [00:03<00:00,  5.25it/s]"
     ]
    },
    {
     "name": "stderr",
     "output_type": "stream",
     "text": [
      "\u001b[92m23:59:43 - LiteLLM:ERROR\u001b[0m: caching.py:645 - LiteLLM Cache: Excepton add_cache: no such column: \"size\" - should this be a string literal in single-quotes?\n",
      "Traceback (most recent call last):\n",
      "  File \"c:\\Users\\risko\\miniconda3\\envs\\prompt-classification\\Lib\\site-packages\\litellm\\caching\\caching.py\", line 643, in add_cache\n",
      "    self.cache.set_cache(cache_key, cached_data, **kwargs)\n",
      "  File \"c:\\Users\\risko\\miniconda3\\envs\\prompt-classification\\Lib\\site-packages\\litellm\\caching\\disk_cache.py\", line 28, in set_cache\n",
      "    self.disk_cache.set(key, value)\n",
      "  File \"c:\\Users\\risko\\miniconda3\\envs\\prompt-classification\\Lib\\site-packages\\diskcache\\core.py\", line 808, in set\n",
      "    self._row_insert(db_key, raw, now, columns)\n",
      "  File \"c:\\Users\\risko\\miniconda3\\envs\\prompt-classification\\Lib\\site-packages\\diskcache\\core.py\", line 857, in _row_insert\n",
      "    sql(\n",
      "sqlite3.OperationalError: no such column: \"size\" - should this be a string literal in single-quotes?\n"
     ]
    },
    {
     "name": "stdout",
     "output_type": "stream",
     "text": [
      "Average Metric: 19.00 / 19 (100.0%):  86%|████████▋ | 19/22 [00:03<00:00,  5.37it/s]"
     ]
    },
    {
     "name": "stderr",
     "output_type": "stream",
     "text": [
      "\u001b[92m23:59:43 - LiteLLM:ERROR\u001b[0m: caching.py:645 - LiteLLM Cache: Excepton add_cache: no such column: \"size\" - should this be a string literal in single-quotes?\n",
      "Traceback (most recent call last):\n",
      "  File \"c:\\Users\\risko\\miniconda3\\envs\\prompt-classification\\Lib\\site-packages\\litellm\\caching\\caching.py\", line 643, in add_cache\n",
      "    self.cache.set_cache(cache_key, cached_data, **kwargs)\n",
      "  File \"c:\\Users\\risko\\miniconda3\\envs\\prompt-classification\\Lib\\site-packages\\litellm\\caching\\disk_cache.py\", line 28, in set_cache\n",
      "    self.disk_cache.set(key, value)\n",
      "  File \"c:\\Users\\risko\\miniconda3\\envs\\prompt-classification\\Lib\\site-packages\\diskcache\\core.py\", line 808, in set\n",
      "    self._row_insert(db_key, raw, now, columns)\n",
      "  File \"c:\\Users\\risko\\miniconda3\\envs\\prompt-classification\\Lib\\site-packages\\diskcache\\core.py\", line 857, in _row_insert\n",
      "    sql(\n",
      "sqlite3.OperationalError: no such column: \"size\" - should this be a string literal in single-quotes?\n"
     ]
    },
    {
     "name": "stdout",
     "output_type": "stream",
     "text": [
      "Average Metric: 20.00 / 20 (100.0%):  91%|█████████ | 20/22 [00:03<00:00,  5.65it/s]"
     ]
    },
    {
     "name": "stderr",
     "output_type": "stream",
     "text": [
      "\u001b[92m23:59:43 - LiteLLM:ERROR\u001b[0m: caching.py:645 - LiteLLM Cache: Excepton add_cache: no such column: \"size\" - should this be a string literal in single-quotes?\n",
      "Traceback (most recent call last):\n",
      "  File \"c:\\Users\\risko\\miniconda3\\envs\\prompt-classification\\Lib\\site-packages\\litellm\\caching\\caching.py\", line 643, in add_cache\n",
      "    self.cache.set_cache(cache_key, cached_data, **kwargs)\n",
      "  File \"c:\\Users\\risko\\miniconda3\\envs\\prompt-classification\\Lib\\site-packages\\litellm\\caching\\disk_cache.py\", line 28, in set_cache\n",
      "    self.disk_cache.set(key, value)\n",
      "  File \"c:\\Users\\risko\\miniconda3\\envs\\prompt-classification\\Lib\\site-packages\\diskcache\\core.py\", line 808, in set\n",
      "    self._row_insert(db_key, raw, now, columns)\n",
      "  File \"c:\\Users\\risko\\miniconda3\\envs\\prompt-classification\\Lib\\site-packages\\diskcache\\core.py\", line 857, in _row_insert\n",
      "    sql(\n",
      "sqlite3.OperationalError: no such column: \"size\" - should this be a string literal in single-quotes?\n"
     ]
    },
    {
     "name": "stdout",
     "output_type": "stream",
     "text": [
      "Average Metric: 21.00 / 21 (100.0%):  91%|█████████ | 20/22 [00:03<00:00,  5.65it/s]"
     ]
    },
    {
     "name": "stderr",
     "output_type": "stream",
     "text": [
      "\u001b[92m23:59:44 - LiteLLM:ERROR\u001b[0m: caching.py:645 - LiteLLM Cache: Excepton add_cache: no such column: \"size\" - should this be a string literal in single-quotes?\n",
      "Traceback (most recent call last):\n",
      "  File \"c:\\Users\\risko\\miniconda3\\envs\\prompt-classification\\Lib\\site-packages\\litellm\\caching\\caching.py\", line 643, in add_cache\n",
      "    self.cache.set_cache(cache_key, cached_data, **kwargs)\n",
      "  File \"c:\\Users\\risko\\miniconda3\\envs\\prompt-classification\\Lib\\site-packages\\litellm\\caching\\disk_cache.py\", line 28, in set_cache\n",
      "    self.disk_cache.set(key, value)\n",
      "  File \"c:\\Users\\risko\\miniconda3\\envs\\prompt-classification\\Lib\\site-packages\\diskcache\\core.py\", line 808, in set\n",
      "    self._row_insert(db_key, raw, now, columns)\n",
      "  File \"c:\\Users\\risko\\miniconda3\\envs\\prompt-classification\\Lib\\site-packages\\diskcache\\core.py\", line 857, in _row_insert\n",
      "    sql(\n",
      "sqlite3.OperationalError: no such column: \"size\" - should this be a string literal in single-quotes?\n"
     ]
    },
    {
     "name": "stdout",
     "output_type": "stream",
     "text": [
      "Average Metric: 22.00 / 22 (100.0%): 100%|██████████| 22/22 [00:04<00:00,  5.45it/s]"
     ]
    },
    {
     "name": "stderr",
     "output_type": "stream",
     "text": [
      "2025/02/21 23:59:44 INFO dspy.evaluate.evaluate: Average Metric: 22 / 22 (100.0%)\n"
     ]
    },
    {
     "name": "stdout",
     "output_type": "stream",
     "text": [
      "\n",
      "Scores so far: [100.0, 100.0, 100.0, 95.45, 100.0, 100.0]\n",
      "Best score so far: 100.0\n"
     ]
    },
    {
     "name": "stderr",
     "output_type": "stream",
     "text": [
      "  0%|          | 0/22 [00:00<?, ?it/s]\u001b[92m23:59:45 - LiteLLM:ERROR\u001b[0m: caching.py:645 - LiteLLM Cache: Excepton add_cache: no such column: \"size\" - should this be a string literal in single-quotes?\n",
      "Traceback (most recent call last):\n",
      "  File \"c:\\Users\\risko\\miniconda3\\envs\\prompt-classification\\Lib\\site-packages\\litellm\\caching\\caching.py\", line 643, in add_cache\n",
      "    self.cache.set_cache(cache_key, cached_data, **kwargs)\n",
      "  File \"c:\\Users\\risko\\miniconda3\\envs\\prompt-classification\\Lib\\site-packages\\litellm\\caching\\disk_cache.py\", line 28, in set_cache\n",
      "    self.disk_cache.set(key, value)\n",
      "  File \"c:\\Users\\risko\\miniconda3\\envs\\prompt-classification\\Lib\\site-packages\\diskcache\\core.py\", line 808, in set\n",
      "    self._row_insert(db_key, raw, now, columns)\n",
      "  File \"c:\\Users\\risko\\miniconda3\\envs\\prompt-classification\\Lib\\site-packages\\diskcache\\core.py\", line 857, in _row_insert\n",
      "    sql(\n",
      "sqlite3.OperationalError: no such column: \"size\" - should this be a string literal in single-quotes?\n",
      "  5%|▍         | 1/22 [00:00<00:17,  1.17it/s]\u001b[92m23:59:45 - LiteLLM:ERROR\u001b[0m: caching.py:645 - LiteLLM Cache: Excepton add_cache: no such column: \"size\" - should this be a string literal in single-quotes?\n",
      "Traceback (most recent call last):\n",
      "  File \"c:\\Users\\risko\\miniconda3\\envs\\prompt-classification\\Lib\\site-packages\\litellm\\caching\\caching.py\", line 643, in add_cache\n",
      "    self.cache.set_cache(cache_key, cached_data, **kwargs)\n",
      "  File \"c:\\Users\\risko\\miniconda3\\envs\\prompt-classification\\Lib\\site-packages\\litellm\\caching\\disk_cache.py\", line 28, in set_cache\n",
      "    self.disk_cache.set(key, value)\n",
      "  File \"c:\\Users\\risko\\miniconda3\\envs\\prompt-classification\\Lib\\site-packages\\diskcache\\core.py\", line 808, in set\n",
      "    self._row_insert(db_key, raw, now, columns)\n",
      "  File \"c:\\Users\\risko\\miniconda3\\envs\\prompt-classification\\Lib\\site-packages\\diskcache\\core.py\", line 857, in _row_insert\n",
      "    sql(\n",
      "sqlite3.OperationalError: no such column: \"size\" - should this be a string literal in single-quotes?\n",
      "  9%|▉         | 2/22 [00:01<00:10,  1.83it/s]\u001b[92m23:59:47 - LiteLLM:ERROR\u001b[0m: caching.py:645 - LiteLLM Cache: Excepton add_cache: no such column: \"size\" - should this be a string literal in single-quotes?\n",
      "Traceback (most recent call last):\n",
      "  File \"c:\\Users\\risko\\miniconda3\\envs\\prompt-classification\\Lib\\site-packages\\litellm\\caching\\caching.py\", line 643, in add_cache\n",
      "    self.cache.set_cache(cache_key, cached_data, **kwargs)\n",
      "  File \"c:\\Users\\risko\\miniconda3\\envs\\prompt-classification\\Lib\\site-packages\\litellm\\caching\\disk_cache.py\", line 28, in set_cache\n",
      "    self.disk_cache.set(key, value)\n",
      "  File \"c:\\Users\\risko\\miniconda3\\envs\\prompt-classification\\Lib\\site-packages\\diskcache\\core.py\", line 808, in set\n",
      "    self._row_insert(db_key, raw, now, columns)\n",
      "  File \"c:\\Users\\risko\\miniconda3\\envs\\prompt-classification\\Lib\\site-packages\\diskcache\\core.py\", line 857, in _row_insert\n",
      "    sql(\n",
      "sqlite3.OperationalError: no such column: \"size\" - should this be a string literal in single-quotes?\n",
      " 14%|█▎        | 3/22 [00:02<00:18,  1.01it/s]\u001b[92m23:59:47 - LiteLLM:ERROR\u001b[0m: caching.py:645 - LiteLLM Cache: Excepton add_cache: no such column: \"size\" - should this be a string literal in single-quotes?\n",
      "Traceback (most recent call last):\n",
      "  File \"c:\\Users\\risko\\miniconda3\\envs\\prompt-classification\\Lib\\site-packages\\litellm\\caching\\caching.py\", line 643, in add_cache\n",
      "    self.cache.set_cache(cache_key, cached_data, **kwargs)\n",
      "  File \"c:\\Users\\risko\\miniconda3\\envs\\prompt-classification\\Lib\\site-packages\\litellm\\caching\\disk_cache.py\", line 28, in set_cache\n",
      "    self.disk_cache.set(key, value)\n",
      "  File \"c:\\Users\\risko\\miniconda3\\envs\\prompt-classification\\Lib\\site-packages\\diskcache\\core.py\", line 808, in set\n",
      "    self._row_insert(db_key, raw, now, columns)\n",
      "  File \"c:\\Users\\risko\\miniconda3\\envs\\prompt-classification\\Lib\\site-packages\\diskcache\\core.py\", line 857, in _row_insert\n",
      "    sql(\n",
      "sqlite3.OperationalError: no such column: \"size\" - should this be a string literal in single-quotes?\n",
      " 18%|█▊        | 4/22 [00:03<00:14,  1.28it/s]\n"
     ]
    },
    {
     "name": "stdout",
     "output_type": "stream",
     "text": [
      "Bootstrapped 4 full traces after 4 examples for up to 1 rounds, amounting to 4 attempts.\n",
      "  0%|          | 0/22 [00:00<?, ?it/s]"
     ]
    },
    {
     "name": "stderr",
     "output_type": "stream",
     "text": [
      "\u001b[92m23:59:47 - LiteLLM:ERROR\u001b[0m: caching.py:645 - LiteLLM Cache: Excepton add_cache: no such column: \"size\" - should this be a string literal in single-quotes?\n",
      "Traceback (most recent call last):\n",
      "  File \"c:\\Users\\risko\\miniconda3\\envs\\prompt-classification\\Lib\\site-packages\\litellm\\caching\\caching.py\", line 643, in add_cache\n",
      "    self.cache.set_cache(cache_key, cached_data, **kwargs)\n",
      "  File \"c:\\Users\\risko\\miniconda3\\envs\\prompt-classification\\Lib\\site-packages\\litellm\\caching\\disk_cache.py\", line 28, in set_cache\n",
      "    self.disk_cache.set(key, value)\n",
      "  File \"c:\\Users\\risko\\miniconda3\\envs\\prompt-classification\\Lib\\site-packages\\diskcache\\core.py\", line 808, in set\n",
      "    self._row_insert(db_key, raw, now, columns)\n",
      "  File \"c:\\Users\\risko\\miniconda3\\envs\\prompt-classification\\Lib\\site-packages\\diskcache\\core.py\", line 857, in _row_insert\n",
      "    sql(\n",
      "sqlite3.OperationalError: no such column: \"size\" - should this be a string literal in single-quotes?\n"
     ]
    },
    {
     "name": "stdout",
     "output_type": "stream",
     "text": [
      "Average Metric: 1.00 / 1 (100.0%):   0%|          | 0/22 [00:00<?, ?it/s]"
     ]
    },
    {
     "name": "stderr",
     "output_type": "stream",
     "text": [
      "\u001b[92m23:59:48 - LiteLLM:ERROR\u001b[0m: caching.py:645 - LiteLLM Cache: Excepton add_cache: no such column: \"size\" - should this be a string literal in single-quotes?\n",
      "Traceback (most recent call last):\n",
      "  File \"c:\\Users\\risko\\miniconda3\\envs\\prompt-classification\\Lib\\site-packages\\litellm\\caching\\caching.py\", line 643, in add_cache\n",
      "    self.cache.set_cache(cache_key, cached_data, **kwargs)\n",
      "  File \"c:\\Users\\risko\\miniconda3\\envs\\prompt-classification\\Lib\\site-packages\\litellm\\caching\\disk_cache.py\", line 28, in set_cache\n",
      "    self.disk_cache.set(key, value)\n",
      "  File \"c:\\Users\\risko\\miniconda3\\envs\\prompt-classification\\Lib\\site-packages\\diskcache\\core.py\", line 808, in set\n",
      "    self._row_insert(db_key, raw, now, columns)\n",
      "  File \"c:\\Users\\risko\\miniconda3\\envs\\prompt-classification\\Lib\\site-packages\\diskcache\\core.py\", line 857, in _row_insert\n",
      "    sql(\n",
      "sqlite3.OperationalError: no such column: \"size\" - should this be a string literal in single-quotes?\n"
     ]
    },
    {
     "name": "stdout",
     "output_type": "stream",
     "text": [
      "Average Metric: 2.00 / 2 (100.0%):   5%|▍         | 1/22 [00:00<00:06,  3.12it/s]"
     ]
    },
    {
     "name": "stderr",
     "output_type": "stream",
     "text": [
      "\u001b[92m23:59:48 - LiteLLM:ERROR\u001b[0m: caching.py:645 - LiteLLM Cache: Excepton add_cache: no such column: \"size\" - should this be a string literal in single-quotes?\n",
      "Traceback (most recent call last):\n",
      "  File \"c:\\Users\\risko\\miniconda3\\envs\\prompt-classification\\Lib\\site-packages\\litellm\\caching\\caching.py\", line 643, in add_cache\n",
      "    self.cache.set_cache(cache_key, cached_data, **kwargs)\n",
      "  File \"c:\\Users\\risko\\miniconda3\\envs\\prompt-classification\\Lib\\site-packages\\litellm\\caching\\disk_cache.py\", line 28, in set_cache\n",
      "    self.disk_cache.set(key, value)\n",
      "  File \"c:\\Users\\risko\\miniconda3\\envs\\prompt-classification\\Lib\\site-packages\\diskcache\\core.py\", line 808, in set\n",
      "    self._row_insert(db_key, raw, now, columns)\n",
      "  File \"c:\\Users\\risko\\miniconda3\\envs\\prompt-classification\\Lib\\site-packages\\diskcache\\core.py\", line 857, in _row_insert\n",
      "    sql(\n",
      "sqlite3.OperationalError: no such column: \"size\" - should this be a string literal in single-quotes?\n"
     ]
    },
    {
     "name": "stdout",
     "output_type": "stream",
     "text": [
      "Average Metric: 3.00 / 3 (100.0%):  14%|█▎        | 3/22 [00:00<00:03,  5.13it/s]"
     ]
    },
    {
     "name": "stderr",
     "output_type": "stream",
     "text": [
      "\u001b[92m23:59:48 - LiteLLM:ERROR\u001b[0m: caching.py:645 - LiteLLM Cache: Excepton add_cache: no such column: \"size\" - should this be a string literal in single-quotes?\n",
      "Traceback (most recent call last):\n",
      "  File \"c:\\Users\\risko\\miniconda3\\envs\\prompt-classification\\Lib\\site-packages\\litellm\\caching\\caching.py\", line 643, in add_cache\n",
      "    self.cache.set_cache(cache_key, cached_data, **kwargs)\n",
      "  File \"c:\\Users\\risko\\miniconda3\\envs\\prompt-classification\\Lib\\site-packages\\litellm\\caching\\disk_cache.py\", line 28, in set_cache\n",
      "    self.disk_cache.set(key, value)\n",
      "  File \"c:\\Users\\risko\\miniconda3\\envs\\prompt-classification\\Lib\\site-packages\\diskcache\\core.py\", line 808, in set\n",
      "    self._row_insert(db_key, raw, now, columns)\n",
      "  File \"c:\\Users\\risko\\miniconda3\\envs\\prompt-classification\\Lib\\site-packages\\diskcache\\core.py\", line 857, in _row_insert\n",
      "    sql(\n",
      "sqlite3.OperationalError: no such column: \"size\" - should this be a string literal in single-quotes?\n"
     ]
    },
    {
     "name": "stdout",
     "output_type": "stream",
     "text": [
      "Average Metric: 4.00 / 4 (100.0%):  14%|█▎        | 3/22 [00:00<00:03,  5.13it/s]"
     ]
    },
    {
     "name": "stderr",
     "output_type": "stream",
     "text": [
      "\u001b[92m23:59:48 - LiteLLM:ERROR\u001b[0m: caching.py:645 - LiteLLM Cache: Excepton add_cache: no such column: \"size\" - should this be a string literal in single-quotes?\n",
      "Traceback (most recent call last):\n",
      "  File \"c:\\Users\\risko\\miniconda3\\envs\\prompt-classification\\Lib\\site-packages\\litellm\\caching\\caching.py\", line 643, in add_cache\n",
      "    self.cache.set_cache(cache_key, cached_data, **kwargs)\n",
      "  File \"c:\\Users\\risko\\miniconda3\\envs\\prompt-classification\\Lib\\site-packages\\litellm\\caching\\disk_cache.py\", line 28, in set_cache\n",
      "    self.disk_cache.set(key, value)\n",
      "  File \"c:\\Users\\risko\\miniconda3\\envs\\prompt-classification\\Lib\\site-packages\\diskcache\\core.py\", line 808, in set\n",
      "    self._row_insert(db_key, raw, now, columns)\n",
      "  File \"c:\\Users\\risko\\miniconda3\\envs\\prompt-classification\\Lib\\site-packages\\diskcache\\core.py\", line 857, in _row_insert\n",
      "    sql(\n",
      "sqlite3.OperationalError: no such column: \"size\" - should this be a string literal in single-quotes?\n"
     ]
    },
    {
     "name": "stdout",
     "output_type": "stream",
     "text": [
      "Average Metric: 5.00 / 5 (100.0%):  18%|█▊        | 4/22 [00:00<00:03,  5.13it/s]"
     ]
    },
    {
     "name": "stderr",
     "output_type": "stream",
     "text": [
      "\u001b[92m23:59:48 - LiteLLM:ERROR\u001b[0m: caching.py:645 - LiteLLM Cache: Excepton add_cache: no such column: \"size\" - should this be a string literal in single-quotes?\n",
      "Traceback (most recent call last):\n",
      "  File \"c:\\Users\\risko\\miniconda3\\envs\\prompt-classification\\Lib\\site-packages\\litellm\\caching\\caching.py\", line 643, in add_cache\n",
      "    self.cache.set_cache(cache_key, cached_data, **kwargs)\n",
      "  File \"c:\\Users\\risko\\miniconda3\\envs\\prompt-classification\\Lib\\site-packages\\litellm\\caching\\disk_cache.py\", line 28, in set_cache\n",
      "    self.disk_cache.set(key, value)\n",
      "  File \"c:\\Users\\risko\\miniconda3\\envs\\prompt-classification\\Lib\\site-packages\\diskcache\\core.py\", line 808, in set\n",
      "    self._row_insert(db_key, raw, now, columns)\n",
      "  File \"c:\\Users\\risko\\miniconda3\\envs\\prompt-classification\\Lib\\site-packages\\diskcache\\core.py\", line 857, in _row_insert\n",
      "    sql(\n",
      "sqlite3.OperationalError: no such column: \"size\" - should this be a string literal in single-quotes?\n"
     ]
    },
    {
     "name": "stdout",
     "output_type": "stream",
     "text": [
      "Average Metric: 6.00 / 6 (100.0%):  23%|██▎       | 5/22 [00:00<00:02,  6.69it/s]"
     ]
    },
    {
     "name": "stderr",
     "output_type": "stream",
     "text": [
      "\u001b[92m23:59:48 - LiteLLM:ERROR\u001b[0m: caching.py:645 - LiteLLM Cache: Excepton add_cache: no such column: \"size\" - should this be a string literal in single-quotes?\n",
      "Traceback (most recent call last):\n",
      "  File \"c:\\Users\\risko\\miniconda3\\envs\\prompt-classification\\Lib\\site-packages\\litellm\\caching\\caching.py\", line 643, in add_cache\n",
      "    self.cache.set_cache(cache_key, cached_data, **kwargs)\n",
      "  File \"c:\\Users\\risko\\miniconda3\\envs\\prompt-classification\\Lib\\site-packages\\litellm\\caching\\disk_cache.py\", line 28, in set_cache\n",
      "    self.disk_cache.set(key, value)\n",
      "  File \"c:\\Users\\risko\\miniconda3\\envs\\prompt-classification\\Lib\\site-packages\\diskcache\\core.py\", line 808, in set\n",
      "    self._row_insert(db_key, raw, now, columns)\n",
      "  File \"c:\\Users\\risko\\miniconda3\\envs\\prompt-classification\\Lib\\site-packages\\diskcache\\core.py\", line 857, in _row_insert\n",
      "    sql(\n",
      "sqlite3.OperationalError: no such column: \"size\" - should this be a string literal in single-quotes?\n"
     ]
    },
    {
     "name": "stdout",
     "output_type": "stream",
     "text": [
      "Average Metric: 7.00 / 7 (100.0%):  32%|███▏      | 7/22 [00:01<00:02,  6.30it/s]"
     ]
    },
    {
     "name": "stderr",
     "output_type": "stream",
     "text": [
      "\u001b[92m23:59:49 - LiteLLM:ERROR\u001b[0m: caching.py:645 - LiteLLM Cache: Excepton add_cache: no such column: \"size\" - should this be a string literal in single-quotes?\n",
      "Traceback (most recent call last):\n",
      "  File \"c:\\Users\\risko\\miniconda3\\envs\\prompt-classification\\Lib\\site-packages\\litellm\\caching\\caching.py\", line 643, in add_cache\n",
      "    self.cache.set_cache(cache_key, cached_data, **kwargs)\n",
      "  File \"c:\\Users\\risko\\miniconda3\\envs\\prompt-classification\\Lib\\site-packages\\litellm\\caching\\disk_cache.py\", line 28, in set_cache\n",
      "    self.disk_cache.set(key, value)\n",
      "  File \"c:\\Users\\risko\\miniconda3\\envs\\prompt-classification\\Lib\\site-packages\\diskcache\\core.py\", line 808, in set\n",
      "    self._row_insert(db_key, raw, now, columns)\n",
      "  File \"c:\\Users\\risko\\miniconda3\\envs\\prompt-classification\\Lib\\site-packages\\diskcache\\core.py\", line 857, in _row_insert\n",
      "    sql(\n",
      "sqlite3.OperationalError: no such column: \"size\" - should this be a string literal in single-quotes?\n"
     ]
    },
    {
     "name": "stdout",
     "output_type": "stream",
     "text": [
      "Average Metric: 8.00 / 8 (100.0%):  36%|███▋      | 8/22 [00:01<00:02,  4.89it/s]"
     ]
    },
    {
     "name": "stderr",
     "output_type": "stream",
     "text": [
      "\u001b[92m23:59:49 - LiteLLM:ERROR\u001b[0m: caching.py:645 - LiteLLM Cache: Excepton add_cache: no such column: \"size\" - should this be a string literal in single-quotes?\n",
      "Traceback (most recent call last):\n",
      "  File \"c:\\Users\\risko\\miniconda3\\envs\\prompt-classification\\Lib\\site-packages\\litellm\\caching\\caching.py\", line 643, in add_cache\n",
      "    self.cache.set_cache(cache_key, cached_data, **kwargs)\n",
      "  File \"c:\\Users\\risko\\miniconda3\\envs\\prompt-classification\\Lib\\site-packages\\litellm\\caching\\disk_cache.py\", line 28, in set_cache\n",
      "    self.disk_cache.set(key, value)\n",
      "  File \"c:\\Users\\risko\\miniconda3\\envs\\prompt-classification\\Lib\\site-packages\\diskcache\\core.py\", line 808, in set\n",
      "    self._row_insert(db_key, raw, now, columns)\n",
      "  File \"c:\\Users\\risko\\miniconda3\\envs\\prompt-classification\\Lib\\site-packages\\diskcache\\core.py\", line 857, in _row_insert\n",
      "    sql(\n",
      "sqlite3.OperationalError: no such column: \"size\" - should this be a string literal in single-quotes?\n"
     ]
    },
    {
     "name": "stdout",
     "output_type": "stream",
     "text": [
      "Average Metric: 9.00 / 9 (100.0%):  36%|███▋      | 8/22 [00:01<00:02,  4.89it/s]"
     ]
    },
    {
     "name": "stderr",
     "output_type": "stream",
     "text": [
      "\u001b[92m23:59:49 - LiteLLM:ERROR\u001b[0m: caching.py:645 - LiteLLM Cache: Excepton add_cache: no such column: \"size\" - should this be a string literal in single-quotes?\n",
      "Traceback (most recent call last):\n",
      "  File \"c:\\Users\\risko\\miniconda3\\envs\\prompt-classification\\Lib\\site-packages\\litellm\\caching\\caching.py\", line 643, in add_cache\n",
      "    self.cache.set_cache(cache_key, cached_data, **kwargs)\n",
      "  File \"c:\\Users\\risko\\miniconda3\\envs\\prompt-classification\\Lib\\site-packages\\litellm\\caching\\disk_cache.py\", line 28, in set_cache\n",
      "    self.disk_cache.set(key, value)\n",
      "  File \"c:\\Users\\risko\\miniconda3\\envs\\prompt-classification\\Lib\\site-packages\\diskcache\\core.py\", line 808, in set\n",
      "    self._row_insert(db_key, raw, now, columns)\n",
      "  File \"c:\\Users\\risko\\miniconda3\\envs\\prompt-classification\\Lib\\site-packages\\diskcache\\core.py\", line 857, in _row_insert\n",
      "    sql(\n",
      "sqlite3.OperationalError: no such column: \"size\" - should this be a string literal in single-quotes?\n"
     ]
    },
    {
     "name": "stdout",
     "output_type": "stream",
     "text": [
      "Average Metric: 10.00 / 10 (100.0%):  45%|████▌     | 10/22 [00:01<00:02,  5.60it/s]"
     ]
    },
    {
     "name": "stderr",
     "output_type": "stream",
     "text": [
      "\u001b[92m23:59:49 - LiteLLM:ERROR\u001b[0m: caching.py:645 - LiteLLM Cache: Excepton add_cache: no such column: \"size\" - should this be a string literal in single-quotes?\n",
      "Traceback (most recent call last):\n",
      "  File \"c:\\Users\\risko\\miniconda3\\envs\\prompt-classification\\Lib\\site-packages\\litellm\\caching\\caching.py\", line 643, in add_cache\n",
      "    self.cache.set_cache(cache_key, cached_data, **kwargs)\n",
      "  File \"c:\\Users\\risko\\miniconda3\\envs\\prompt-classification\\Lib\\site-packages\\litellm\\caching\\disk_cache.py\", line 28, in set_cache\n",
      "    self.disk_cache.set(key, value)\n",
      "  File \"c:\\Users\\risko\\miniconda3\\envs\\prompt-classification\\Lib\\site-packages\\diskcache\\core.py\", line 808, in set\n",
      "    self._row_insert(db_key, raw, now, columns)\n",
      "  File \"c:\\Users\\risko\\miniconda3\\envs\\prompt-classification\\Lib\\site-packages\\diskcache\\core.py\", line 857, in _row_insert\n",
      "    sql(\n",
      "sqlite3.OperationalError: no such column: \"size\" - should this be a string literal in single-quotes?\n"
     ]
    },
    {
     "name": "stdout",
     "output_type": "stream",
     "text": [
      "Average Metric: 11.00 / 11 (100.0%):  45%|████▌     | 10/22 [00:01<00:02,  5.60it/s]"
     ]
    },
    {
     "name": "stderr",
     "output_type": "stream",
     "text": [
      "\u001b[92m23:59:49 - LiteLLM:ERROR\u001b[0m: caching.py:645 - LiteLLM Cache: Excepton add_cache: no such column: \"size\" - should this be a string literal in single-quotes?\n",
      "Traceback (most recent call last):\n",
      "  File \"c:\\Users\\risko\\miniconda3\\envs\\prompt-classification\\Lib\\site-packages\\litellm\\caching\\caching.py\", line 643, in add_cache\n",
      "    self.cache.set_cache(cache_key, cached_data, **kwargs)\n",
      "  File \"c:\\Users\\risko\\miniconda3\\envs\\prompt-classification\\Lib\\site-packages\\litellm\\caching\\disk_cache.py\", line 28, in set_cache\n",
      "    self.disk_cache.set(key, value)\n",
      "  File \"c:\\Users\\risko\\miniconda3\\envs\\prompt-classification\\Lib\\site-packages\\diskcache\\core.py\", line 808, in set\n",
      "    self._row_insert(db_key, raw, now, columns)\n",
      "  File \"c:\\Users\\risko\\miniconda3\\envs\\prompt-classification\\Lib\\site-packages\\diskcache\\core.py\", line 857, in _row_insert\n",
      "    sql(\n",
      "sqlite3.OperationalError: no such column: \"size\" - should this be a string literal in single-quotes?\n"
     ]
    },
    {
     "name": "stdout",
     "output_type": "stream",
     "text": [
      "Average Metric: 12.00 / 12 (100.0%):  55%|█████▍    | 12/22 [00:02<00:01,  5.38it/s]"
     ]
    },
    {
     "name": "stderr",
     "output_type": "stream",
     "text": [
      "\u001b[92m23:59:50 - LiteLLM:ERROR\u001b[0m: caching.py:645 - LiteLLM Cache: Excepton add_cache: no such column: \"size\" - should this be a string literal in single-quotes?\n",
      "Traceback (most recent call last):\n",
      "  File \"c:\\Users\\risko\\miniconda3\\envs\\prompt-classification\\Lib\\site-packages\\litellm\\caching\\caching.py\", line 643, in add_cache\n",
      "    self.cache.set_cache(cache_key, cached_data, **kwargs)\n",
      "  File \"c:\\Users\\risko\\miniconda3\\envs\\prompt-classification\\Lib\\site-packages\\litellm\\caching\\disk_cache.py\", line 28, in set_cache\n",
      "    self.disk_cache.set(key, value)\n",
      "  File \"c:\\Users\\risko\\miniconda3\\envs\\prompt-classification\\Lib\\site-packages\\diskcache\\core.py\", line 808, in set\n",
      "    self._row_insert(db_key, raw, now, columns)\n",
      "  File \"c:\\Users\\risko\\miniconda3\\envs\\prompt-classification\\Lib\\site-packages\\diskcache\\core.py\", line 857, in _row_insert\n",
      "    sql(\n",
      "sqlite3.OperationalError: no such column: \"size\" - should this be a string literal in single-quotes?\n"
     ]
    },
    {
     "name": "stdout",
     "output_type": "stream",
     "text": [
      "Average Metric: 13.00 / 13 (100.0%):  59%|█████▉    | 13/22 [00:02<00:01,  5.15it/s]"
     ]
    },
    {
     "name": "stderr",
     "output_type": "stream",
     "text": [
      "\u001b[92m23:59:50 - LiteLLM:ERROR\u001b[0m: caching.py:645 - LiteLLM Cache: Excepton add_cache: no such column: \"size\" - should this be a string literal in single-quotes?\n",
      "Traceback (most recent call last):\n",
      "  File \"c:\\Users\\risko\\miniconda3\\envs\\prompt-classification\\Lib\\site-packages\\litellm\\caching\\caching.py\", line 643, in add_cache\n",
      "    self.cache.set_cache(cache_key, cached_data, **kwargs)\n",
      "  File \"c:\\Users\\risko\\miniconda3\\envs\\prompt-classification\\Lib\\site-packages\\litellm\\caching\\disk_cache.py\", line 28, in set_cache\n",
      "    self.disk_cache.set(key, value)\n",
      "  File \"c:\\Users\\risko\\miniconda3\\envs\\prompt-classification\\Lib\\site-packages\\diskcache\\core.py\", line 808, in set\n",
      "    self._row_insert(db_key, raw, now, columns)\n",
      "  File \"c:\\Users\\risko\\miniconda3\\envs\\prompt-classification\\Lib\\site-packages\\diskcache\\core.py\", line 857, in _row_insert\n",
      "    sql(\n",
      "sqlite3.OperationalError: no such column: \"size\" - should this be a string literal in single-quotes?\n"
     ]
    },
    {
     "name": "stdout",
     "output_type": "stream",
     "text": [
      "Average Metric: 14.00 / 14 (100.0%):  64%|██████▎   | 14/22 [00:02<00:01,  5.61it/s]"
     ]
    },
    {
     "name": "stderr",
     "output_type": "stream",
     "text": [
      "\u001b[92m23:59:50 - LiteLLM:ERROR\u001b[0m: caching.py:645 - LiteLLM Cache: Excepton add_cache: no such column: \"size\" - should this be a string literal in single-quotes?\n",
      "Traceback (most recent call last):\n",
      "  File \"c:\\Users\\risko\\miniconda3\\envs\\prompt-classification\\Lib\\site-packages\\litellm\\caching\\caching.py\", line 643, in add_cache\n",
      "    self.cache.set_cache(cache_key, cached_data, **kwargs)\n",
      "  File \"c:\\Users\\risko\\miniconda3\\envs\\prompt-classification\\Lib\\site-packages\\litellm\\caching\\disk_cache.py\", line 28, in set_cache\n",
      "    self.disk_cache.set(key, value)\n",
      "  File \"c:\\Users\\risko\\miniconda3\\envs\\prompt-classification\\Lib\\site-packages\\diskcache\\core.py\", line 808, in set\n",
      "    self._row_insert(db_key, raw, now, columns)\n",
      "  File \"c:\\Users\\risko\\miniconda3\\envs\\prompt-classification\\Lib\\site-packages\\diskcache\\core.py\", line 857, in _row_insert\n",
      "    sql(\n",
      "sqlite3.OperationalError: no such column: \"size\" - should this be a string literal in single-quotes?\n"
     ]
    },
    {
     "name": "stdout",
     "output_type": "stream",
     "text": [
      "Average Metric: 15.00 / 15 (100.0%):  68%|██████▊   | 15/22 [00:02<00:01,  5.34it/s]"
     ]
    },
    {
     "name": "stderr",
     "output_type": "stream",
     "text": [
      "\u001b[92m23:59:50 - LiteLLM:ERROR\u001b[0m: caching.py:645 - LiteLLM Cache: Excepton add_cache: no such column: \"size\" - should this be a string literal in single-quotes?\n",
      "Traceback (most recent call last):\n",
      "  File \"c:\\Users\\risko\\miniconda3\\envs\\prompt-classification\\Lib\\site-packages\\litellm\\caching\\caching.py\", line 643, in add_cache\n",
      "    self.cache.set_cache(cache_key, cached_data, **kwargs)\n",
      "  File \"c:\\Users\\risko\\miniconda3\\envs\\prompt-classification\\Lib\\site-packages\\litellm\\caching\\disk_cache.py\", line 28, in set_cache\n",
      "    self.disk_cache.set(key, value)\n",
      "  File \"c:\\Users\\risko\\miniconda3\\envs\\prompt-classification\\Lib\\site-packages\\diskcache\\core.py\", line 808, in set\n",
      "    self._row_insert(db_key, raw, now, columns)\n",
      "  File \"c:\\Users\\risko\\miniconda3\\envs\\prompt-classification\\Lib\\site-packages\\diskcache\\core.py\", line 857, in _row_insert\n",
      "    sql(\n",
      "sqlite3.OperationalError: no such column: \"size\" - should this be a string literal in single-quotes?\n"
     ]
    },
    {
     "name": "stdout",
     "output_type": "stream",
     "text": [
      "Average Metric: 16.00 / 16 (100.0%):  73%|███████▎  | 16/22 [00:02<00:01,  5.41it/s]"
     ]
    },
    {
     "name": "stderr",
     "output_type": "stream",
     "text": [
      "\u001b[92m23:59:50 - LiteLLM:ERROR\u001b[0m: caching.py:645 - LiteLLM Cache: Excepton add_cache: no such column: \"size\" - should this be a string literal in single-quotes?\n",
      "Traceback (most recent call last):\n",
      "  File \"c:\\Users\\risko\\miniconda3\\envs\\prompt-classification\\Lib\\site-packages\\litellm\\caching\\caching.py\", line 643, in add_cache\n",
      "    self.cache.set_cache(cache_key, cached_data, **kwargs)\n",
      "  File \"c:\\Users\\risko\\miniconda3\\envs\\prompt-classification\\Lib\\site-packages\\litellm\\caching\\disk_cache.py\", line 28, in set_cache\n",
      "    self.disk_cache.set(key, value)\n",
      "  File \"c:\\Users\\risko\\miniconda3\\envs\\prompt-classification\\Lib\\site-packages\\diskcache\\core.py\", line 808, in set\n",
      "    self._row_insert(db_key, raw, now, columns)\n",
      "  File \"c:\\Users\\risko\\miniconda3\\envs\\prompt-classification\\Lib\\site-packages\\diskcache\\core.py\", line 857, in _row_insert\n",
      "    sql(\n",
      "sqlite3.OperationalError: no such column: \"size\" - should this be a string literal in single-quotes?\n"
     ]
    },
    {
     "name": "stdout",
     "output_type": "stream",
     "text": [
      "Average Metric: 17.00 / 17 (100.0%):  77%|███████▋  | 17/22 [00:03<00:00,  5.26it/s]"
     ]
    },
    {
     "name": "stderr",
     "output_type": "stream",
     "text": [
      "\u001b[92m23:59:50 - LiteLLM:ERROR\u001b[0m: caching.py:645 - LiteLLM Cache: Excepton add_cache: no such column: \"size\" - should this be a string literal in single-quotes?\n",
      "Traceback (most recent call last):\n",
      "  File \"c:\\Users\\risko\\miniconda3\\envs\\prompt-classification\\Lib\\site-packages\\litellm\\caching\\caching.py\", line 643, in add_cache\n",
      "    self.cache.set_cache(cache_key, cached_data, **kwargs)\n",
      "  File \"c:\\Users\\risko\\miniconda3\\envs\\prompt-classification\\Lib\\site-packages\\litellm\\caching\\disk_cache.py\", line 28, in set_cache\n",
      "    self.disk_cache.set(key, value)\n",
      "  File \"c:\\Users\\risko\\miniconda3\\envs\\prompt-classification\\Lib\\site-packages\\diskcache\\core.py\", line 808, in set\n",
      "    self._row_insert(db_key, raw, now, columns)\n",
      "  File \"c:\\Users\\risko\\miniconda3\\envs\\prompt-classification\\Lib\\site-packages\\diskcache\\core.py\", line 857, in _row_insert\n",
      "    sql(\n",
      "sqlite3.OperationalError: no such column: \"size\" - should this be a string literal in single-quotes?\n"
     ]
    },
    {
     "name": "stdout",
     "output_type": "stream",
     "text": [
      "Average Metric: 18.00 / 18 (100.0%):  77%|███████▋  | 17/22 [00:03<00:00,  5.26it/s]"
     ]
    },
    {
     "name": "stderr",
     "output_type": "stream",
     "text": [
      "\u001b[92m23:59:50 - LiteLLM:ERROR\u001b[0m: caching.py:645 - LiteLLM Cache: Excepton add_cache: no such column: \"size\" - should this be a string literal in single-quotes?\n",
      "Traceback (most recent call last):\n",
      "  File \"c:\\Users\\risko\\miniconda3\\envs\\prompt-classification\\Lib\\site-packages\\litellm\\caching\\caching.py\", line 643, in add_cache\n",
      "    self.cache.set_cache(cache_key, cached_data, **kwargs)\n",
      "  File \"c:\\Users\\risko\\miniconda3\\envs\\prompt-classification\\Lib\\site-packages\\litellm\\caching\\disk_cache.py\", line 28, in set_cache\n",
      "    self.disk_cache.set(key, value)\n",
      "  File \"c:\\Users\\risko\\miniconda3\\envs\\prompt-classification\\Lib\\site-packages\\diskcache\\core.py\", line 808, in set\n",
      "    self._row_insert(db_key, raw, now, columns)\n",
      "  File \"c:\\Users\\risko\\miniconda3\\envs\\prompt-classification\\Lib\\site-packages\\diskcache\\core.py\", line 857, in _row_insert\n",
      "    sql(\n",
      "sqlite3.OperationalError: no such column: \"size\" - should this be a string literal in single-quotes?\n",
      "\u001b[92m23:59:50 - LiteLLM:ERROR\u001b[0m: caching.py:645 - LiteLLM Cache: Excepton add_cache: no such column: \"size\" - should this be a string literal in single-quotes?\n",
      "Traceback (most recent call last):\n",
      "  File \"c:\\Users\\risko\\miniconda3\\envs\\prompt-classification\\Lib\\site-packages\\litellm\\caching\\caching.py\", line 643, in add_cache\n",
      "    self.cache.set_cache(cache_key, cached_data, **kwargs)\n",
      "  File \"c:\\Users\\risko\\miniconda3\\envs\\prompt-classification\\Lib\\site-packages\\litellm\\caching\\disk_cache.py\", line 28, in set_cache\n",
      "    self.disk_cache.set(key, value)\n",
      "  File \"c:\\Users\\risko\\miniconda3\\envs\\prompt-classification\\Lib\\site-packages\\diskcache\\core.py\", line 808, in set\n",
      "    self._row_insert(db_key, raw, now, columns)\n",
      "  File \"c:\\Users\\risko\\miniconda3\\envs\\prompt-classification\\Lib\\site-packages\\diskcache\\core.py\", line 857, in _row_insert\n",
      "    sql(\n",
      "sqlite3.OperationalError: no such column: \"size\" - should this be a string literal in single-quotes?\n"
     ]
    },
    {
     "name": "stdout",
     "output_type": "stream",
     "text": [
      "Average Metric: 20.00 / 20 (100.0%):  86%|████████▋ | 19/22 [00:03<00:00,  7.01it/s]"
     ]
    },
    {
     "name": "stderr",
     "output_type": "stream",
     "text": [
      "\u001b[92m23:59:51 - LiteLLM:ERROR\u001b[0m: caching.py:645 - LiteLLM Cache: Excepton add_cache: no such column: \"size\" - should this be a string literal in single-quotes?\n",
      "Traceback (most recent call last):\n",
      "  File \"c:\\Users\\risko\\miniconda3\\envs\\prompt-classification\\Lib\\site-packages\\litellm\\llms\\openai\\openai.py\", line 726, in completion\n",
      "    raise e\n",
      "  File \"c:\\Users\\risko\\miniconda3\\envs\\prompt-classification\\Lib\\site-packages\\litellm\\llms\\openai\\openai.py\", line 653, in completion\n",
      "    self.make_sync_openai_chat_completion_request(\n",
      "  File \"c:\\Users\\risko\\miniconda3\\envs\\prompt-classification\\Lib\\site-packages\\litellm\\litellm_core_utils\\logging_utils.py\", line 145, in sync_wrapper\n",
      "    result = func(*args, **kwargs)\n",
      "             ^^^^^^^^^^^^^^^^^^^^^\n",
      "  File \"c:\\Users\\risko\\miniconda3\\envs\\prompt-classification\\Lib\\site-packages\\litellm\\llms\\openai\\openai.py\", line 472, in make_sync_openai_chat_completion_request\n",
      "    raise e\n",
      "  File \"c:\\Users\\risko\\miniconda3\\envs\\prompt-classification\\Lib\\site-packages\\litellm\\llms\\openai\\openai.py\", line 454, in make_sync_openai_chat_completion_request\n",
      "    raw_response = openai_client.chat.completions.with_raw_response.create(\n",
      "                   ^^^^^^^^^^^^^^^^^^^^^^^^^^^^^^^^^^^^^^^^^^^^^^^^^^^^^^^^\n",
      "  File \"c:\\Users\\risko\\miniconda3\\envs\\prompt-classification\\Lib\\site-packages\\openai\\_legacy_response.py\", line 364, in wrapped\n",
      "    return cast(LegacyAPIResponse[R], func(*args, **kwargs))\n",
      "                                      ^^^^^^^^^^^^^^^^^^^^^\n",
      "  File \"c:\\Users\\risko\\miniconda3\\envs\\prompt-classification\\Lib\\site-packages\\openai\\_utils\\_utils.py\", line 279, in wrapper\n",
      "    return func(*args, **kwargs)\n",
      "           ^^^^^^^^^^^^^^^^^^^^^\n",
      "  File \"c:\\Users\\risko\\miniconda3\\envs\\prompt-classification\\Lib\\site-packages\\openai\\resources\\chat\\completions\\completions.py\", line 879, in create\n",
      "    return self._post(\n",
      "           ^^^^^^^^^^^\n",
      "  File \"c:\\Users\\risko\\miniconda3\\envs\\prompt-classification\\Lib\\site-packages\\openai\\_base_client.py\", line 1290, in post\n",
      "    return cast(ResponseT, self.request(cast_to, opts, stream=stream, stream_cls=stream_cls))\n",
      "                           ^^^^^^^^^^^^^^^^^^^^^^^^^^^^^^^^^^^^^^^^^^^^^^^^^^^^^^^^^^^^^^^^^\n",
      "  File \"c:\\Users\\risko\\miniconda3\\envs\\prompt-classification\\Lib\\site-packages\\openai\\_base_client.py\", line 967, in request\n",
      "    return self._request(\n",
      "           ^^^^^^^^^^^^^^\n",
      "  File \"c:\\Users\\risko\\miniconda3\\envs\\prompt-classification\\Lib\\site-packages\\openai\\_base_client.py\", line 1071, in _request\n",
      "    raise self._make_status_error_from_response(err.response) from None\n",
      "openai.BadRequestError: Error code: 400 - {'error': {'message': \"litellm.BadRequestError: litellm.ContentPolicyViolationError: litellm.ContentPolicyViolationError: AzureException - The response was filtered due to the prompt triggering Azure OpenAI's content management policy. Please modify your prompt and retry. To learn more about our content filtering policies please read our documentation: https://go.microsoft.com/fwlink/?linkid=2198766\\nmodel=gpt-4o-mini. content_policy_fallback=None. fallbacks=None.\\n\\nSet 'content_policy_fallback' - https://docs.litellm.ai/docs/routing#fallbacks. Received Model Group=gpt-4o-mini\\nAvailable Model Group Fallbacks=None\", 'type': None, 'param': None, 'code': '400'}}\n",
      "\n",
      "During handling of the above exception, another exception occurred:\n",
      "\n",
      "Traceback (most recent call last):\n",
      "  File \"c:\\Users\\risko\\miniconda3\\envs\\prompt-classification\\Lib\\site-packages\\litellm\\main.py\", line 1724, in completion\n",
      "    raise e\n",
      "  File \"c:\\Users\\risko\\miniconda3\\envs\\prompt-classification\\Lib\\site-packages\\litellm\\main.py\", line 1697, in completion\n",
      "    response = openai_chat_completions.completion(\n",
      "               ^^^^^^^^^^^^^^^^^^^^^^^^^^^^^^^^^^^\n",
      "  File \"c:\\Users\\risko\\miniconda3\\envs\\prompt-classification\\Lib\\site-packages\\litellm\\llms\\openai\\openai.py\", line 736, in completion\n",
      "    raise OpenAIError(\n",
      "litellm.llms.openai.common_utils.OpenAIError: Error code: 400 - {'error': {'message': \"litellm.BadRequestError: litellm.ContentPolicyViolationError: litellm.ContentPolicyViolationError: AzureException - The response was filtered due to the prompt triggering Azure OpenAI's content management policy. Please modify your prompt and retry. To learn more about our content filtering policies please read our documentation: https://go.microsoft.com/fwlink/?linkid=2198766\\nmodel=gpt-4o-mini. content_policy_fallback=None. fallbacks=None.\\n\\nSet 'content_policy_fallback' - https://docs.litellm.ai/docs/routing#fallbacks. Received Model Group=gpt-4o-mini\\nAvailable Model Group Fallbacks=None\", 'type': None, 'param': None, 'code': '400'}}\n",
      "\n",
      "During handling of the above exception, another exception occurred:\n",
      "\n",
      "Traceback (most recent call last):\n",
      "  File \"c:\\Users\\risko\\miniconda3\\envs\\prompt-classification\\Lib\\site-packages\\litellm\\utils.py\", line 1068, in wrapper\n",
      "    result = original_function(*args, **kwargs)\n",
      "             ^^^^^^^^^^^^^^^^^^^^^^^^^^^^^^^^^^\n",
      "  File \"c:\\Users\\risko\\miniconda3\\envs\\prompt-classification\\Lib\\site-packages\\litellm\\main.py\", line 3085, in completion\n",
      "    raise exception_type(\n",
      "          ^^^^^^^^^^^^^^^\n",
      "  File \"c:\\Users\\risko\\miniconda3\\envs\\prompt-classification\\Lib\\site-packages\\litellm\\litellm_core_utils\\exception_mapping_utils.py\", line 2202, in exception_type\n",
      "    raise e\n",
      "  File \"c:\\Users\\risko\\miniconda3\\envs\\prompt-classification\\Lib\\site-packages\\litellm\\litellm_core_utils\\exception_mapping_utils.py\", line 382, in exception_type\n",
      "    raise BadRequestError(\n",
      "litellm.exceptions.BadRequestError: litellm.BadRequestError: OpenAIException - Error code: 400 - {'error': {'message': \"litellm.BadRequestError: litellm.ContentPolicyViolationError: litellm.ContentPolicyViolationError: AzureException - The response was filtered due to the prompt triggering Azure OpenAI's content management policy. Please modify your prompt and retry. To learn more about our content filtering policies please read our documentation: https://go.microsoft.com/fwlink/?linkid=2198766\\nmodel=gpt-4o-mini. content_policy_fallback=None. fallbacks=None.\\n\\nSet 'content_policy_fallback' - https://docs.litellm.ai/docs/routing#fallbacks. Received Model Group=gpt-4o-mini\\nAvailable Model Group Fallbacks=None\", 'type': None, 'param': None, 'code': '400'}}\n",
      "\n",
      "During handling of the above exception, another exception occurred:\n",
      "\n",
      "Traceback (most recent call last):\n",
      "  File \"c:\\Users\\risko\\miniconda3\\envs\\prompt-classification\\Lib\\site-packages\\litellm\\caching\\caching.py\", line 643, in add_cache\n",
      "    self.cache.set_cache(cache_key, cached_data, **kwargs)\n",
      "  File \"c:\\Users\\risko\\miniconda3\\envs\\prompt-classification\\Lib\\site-packages\\litellm\\caching\\disk_cache.py\", line 28, in set_cache\n",
      "    self.disk_cache.set(key, value)\n",
      "  File \"c:\\Users\\risko\\miniconda3\\envs\\prompt-classification\\Lib\\site-packages\\diskcache\\core.py\", line 808, in set\n",
      "    self._row_insert(db_key, raw, now, columns)\n",
      "  File \"c:\\Users\\risko\\miniconda3\\envs\\prompt-classification\\Lib\\site-packages\\diskcache\\core.py\", line 857, in _row_insert\n",
      "    sql(\n",
      "sqlite3.OperationalError: no such column: \"size\" - should this be a string literal in single-quotes?\n"
     ]
    },
    {
     "name": "stdout",
     "output_type": "stream",
     "text": [
      "Average Metric: 21.00 / 21 (100.0%):  95%|█████████▌| 21/22 [00:04<00:00,  4.37it/s]"
     ]
    },
    {
     "name": "stderr",
     "output_type": "stream",
     "text": [
      "\u001b[92m23:59:53 - LiteLLM:ERROR\u001b[0m: caching.py:645 - LiteLLM Cache: Excepton add_cache: no such column: \"size\" - should this be a string literal in single-quotes?\n",
      "Traceback (most recent call last):\n",
      "  File \"c:\\Users\\risko\\miniconda3\\envs\\prompt-classification\\Lib\\site-packages\\litellm\\caching\\caching.py\", line 643, in add_cache\n",
      "    self.cache.set_cache(cache_key, cached_data, **kwargs)\n",
      "  File \"c:\\Users\\risko\\miniconda3\\envs\\prompt-classification\\Lib\\site-packages\\litellm\\caching\\disk_cache.py\", line 28, in set_cache\n",
      "    self.disk_cache.set(key, value)\n",
      "  File \"c:\\Users\\risko\\miniconda3\\envs\\prompt-classification\\Lib\\site-packages\\diskcache\\core.py\", line 808, in set\n",
      "    self._row_insert(db_key, raw, now, columns)\n",
      "  File \"c:\\Users\\risko\\miniconda3\\envs\\prompt-classification\\Lib\\site-packages\\diskcache\\core.py\", line 857, in _row_insert\n",
      "    sql(\n",
      "sqlite3.OperationalError: no such column: \"size\" - should this be a string literal in single-quotes?\n"
     ]
    },
    {
     "name": "stdout",
     "output_type": "stream",
     "text": [
      "Average Metric: 22.00 / 22 (100.0%): 100%|██████████| 22/22 [00:05<00:00,  3.93it/s]"
     ]
    },
    {
     "name": "stderr",
     "output_type": "stream",
     "text": [
      "2025/02/21 23:59:53 INFO dspy.evaluate.evaluate: Average Metric: 22 / 22 (100.0%)\n"
     ]
    },
    {
     "name": "stdout",
     "output_type": "stream",
     "text": [
      "\n",
      "Scores so far: [100.0, 100.0, 100.0, 95.45, 100.0, 100.0, 100.0]\n",
      "Best score so far: 100.0\n",
      "7 candidate programs found.\n"
     ]
    },
    {
     "name": "stderr",
     "output_type": "stream",
     "text": [
      "  0%|          | 0/100 [00:00<?, ?it/s]\u001b[92m23:59:53 - LiteLLM:ERROR\u001b[0m: caching.py:645 - LiteLLM Cache: Excepton add_cache: no such column: \"size\" - should this be a string literal in single-quotes?\n",
      "Traceback (most recent call last):\n",
      "  File \"c:\\Users\\risko\\miniconda3\\envs\\prompt-classification\\Lib\\site-packages\\litellm\\caching\\caching.py\", line 643, in add_cache\n",
      "    self.cache.set_cache(cache_key, cached_data, **kwargs)\n",
      "  File \"c:\\Users\\risko\\miniconda3\\envs\\prompt-classification\\Lib\\site-packages\\litellm\\caching\\disk_cache.py\", line 28, in set_cache\n",
      "    self.disk_cache.set(key, value)\n",
      "  File \"c:\\Users\\risko\\miniconda3\\envs\\prompt-classification\\Lib\\site-packages\\diskcache\\core.py\", line 808, in set\n",
      "    self._row_insert(db_key, raw, now, columns)\n",
      "  File \"c:\\Users\\risko\\miniconda3\\envs\\prompt-classification\\Lib\\site-packages\\diskcache\\core.py\", line 857, in _row_insert\n",
      "    sql(\n",
      "sqlite3.OperationalError: no such column: \"size\" - should this be a string literal in single-quotes?\n",
      "  1%|          | 1/100 [00:00<01:03,  1.57it/s]\u001b[92m23:59:54 - LiteLLM:ERROR\u001b[0m: caching.py:645 - LiteLLM Cache: Excepton add_cache: no such column: \"size\" - should this be a string literal in single-quotes?\n",
      "Traceback (most recent call last):\n",
      "  File \"c:\\Users\\risko\\miniconda3\\envs\\prompt-classification\\Lib\\site-packages\\litellm\\caching\\caching.py\", line 643, in add_cache\n",
      "    self.cache.set_cache(cache_key, cached_data, **kwargs)\n",
      "  File \"c:\\Users\\risko\\miniconda3\\envs\\prompt-classification\\Lib\\site-packages\\litellm\\caching\\disk_cache.py\", line 28, in set_cache\n",
      "    self.disk_cache.set(key, value)\n",
      "  File \"c:\\Users\\risko\\miniconda3\\envs\\prompt-classification\\Lib\\site-packages\\diskcache\\core.py\", line 808, in set\n",
      "    self._row_insert(db_key, raw, now, columns)\n",
      "  File \"c:\\Users\\risko\\miniconda3\\envs\\prompt-classification\\Lib\\site-packages\\diskcache\\core.py\", line 857, in _row_insert\n",
      "    sql(\n",
      "sqlite3.OperationalError: no such column: \"size\" - should this be a string literal in single-quotes?\n",
      "  2%|▏         | 2/100 [00:00<00:43,  2.28it/s]\u001b[92m23:59:54 - LiteLLM:ERROR\u001b[0m: caching.py:645 - LiteLLM Cache: Excepton add_cache: no such column: \"size\" - should this be a string literal in single-quotes?\n",
      "Traceback (most recent call last):\n",
      "  File \"c:\\Users\\risko\\miniconda3\\envs\\prompt-classification\\Lib\\site-packages\\litellm\\caching\\caching.py\", line 643, in add_cache\n",
      "    self.cache.set_cache(cache_key, cached_data, **kwargs)\n",
      "  File \"c:\\Users\\risko\\miniconda3\\envs\\prompt-classification\\Lib\\site-packages\\litellm\\caching\\disk_cache.py\", line 28, in set_cache\n",
      "    self.disk_cache.set(key, value)\n",
      "  File \"c:\\Users\\risko\\miniconda3\\envs\\prompt-classification\\Lib\\site-packages\\diskcache\\core.py\", line 808, in set\n",
      "    self._row_insert(db_key, raw, now, columns)\n",
      "  File \"c:\\Users\\risko\\miniconda3\\envs\\prompt-classification\\Lib\\site-packages\\diskcache\\core.py\", line 857, in _row_insert\n",
      "    sql(\n",
      "sqlite3.OperationalError: no such column: \"size\" - should this be a string literal in single-quotes?\n",
      "  3%|▎         | 3/100 [00:01<00:55,  1.74it/s]\u001b[92m23:59:55 - LiteLLM:ERROR\u001b[0m: caching.py:645 - LiteLLM Cache: Excepton add_cache: no such column: \"size\" - should this be a string literal in single-quotes?\n",
      "Traceback (most recent call last):\n",
      "  File \"c:\\Users\\risko\\miniconda3\\envs\\prompt-classification\\Lib\\site-packages\\litellm\\caching\\caching.py\", line 643, in add_cache\n",
      "    self.cache.set_cache(cache_key, cached_data, **kwargs)\n",
      "  File \"c:\\Users\\risko\\miniconda3\\envs\\prompt-classification\\Lib\\site-packages\\litellm\\caching\\disk_cache.py\", line 28, in set_cache\n",
      "    self.disk_cache.set(key, value)\n",
      "  File \"c:\\Users\\risko\\miniconda3\\envs\\prompt-classification\\Lib\\site-packages\\diskcache\\core.py\", line 808, in set\n",
      "    self._row_insert(db_key, raw, now, columns)\n",
      "  File \"c:\\Users\\risko\\miniconda3\\envs\\prompt-classification\\Lib\\site-packages\\diskcache\\core.py\", line 857, in _row_insert\n",
      "    sql(\n",
      "sqlite3.OperationalError: no such column: \"size\" - should this be a string literal in single-quotes?\n",
      "  4%|▍         | 4/100 [00:02<01:03,  1.52it/s]\u001b[92m23:59:56 - LiteLLM:ERROR\u001b[0m: caching.py:645 - LiteLLM Cache: Excepton add_cache: no such column: \"size\" - should this be a string literal in single-quotes?\n",
      "Traceback (most recent call last):\n",
      "  File \"c:\\Users\\risko\\miniconda3\\envs\\prompt-classification\\Lib\\site-packages\\litellm\\caching\\caching.py\", line 643, in add_cache\n",
      "    self.cache.set_cache(cache_key, cached_data, **kwargs)\n",
      "  File \"c:\\Users\\risko\\miniconda3\\envs\\prompt-classification\\Lib\\site-packages\\litellm\\caching\\disk_cache.py\", line 28, in set_cache\n",
      "    self.disk_cache.set(key, value)\n",
      "  File \"c:\\Users\\risko\\miniconda3\\envs\\prompt-classification\\Lib\\site-packages\\diskcache\\core.py\", line 808, in set\n",
      "    self._row_insert(db_key, raw, now, columns)\n",
      "  File \"c:\\Users\\risko\\miniconda3\\envs\\prompt-classification\\Lib\\site-packages\\diskcache\\core.py\", line 857, in _row_insert\n",
      "    sql(\n",
      "sqlite3.OperationalError: no such column: \"size\" - should this be a string literal in single-quotes?\n",
      "  5%|▌         | 5/100 [00:02<00:49,  1.93it/s]\u001b[92m23:59:56 - LiteLLM:ERROR\u001b[0m: caching.py:645 - LiteLLM Cache: Excepton add_cache: no such column: \"size\" - should this be a string literal in single-quotes?\n",
      "Traceback (most recent call last):\n",
      "  File \"c:\\Users\\risko\\miniconda3\\envs\\prompt-classification\\Lib\\site-packages\\litellm\\caching\\caching.py\", line 643, in add_cache\n",
      "    self.cache.set_cache(cache_key, cached_data, **kwargs)\n",
      "  File \"c:\\Users\\risko\\miniconda3\\envs\\prompt-classification\\Lib\\site-packages\\litellm\\caching\\disk_cache.py\", line 28, in set_cache\n",
      "    self.disk_cache.set(key, value)\n",
      "  File \"c:\\Users\\risko\\miniconda3\\envs\\prompt-classification\\Lib\\site-packages\\diskcache\\core.py\", line 808, in set\n",
      "    self._row_insert(db_key, raw, now, columns)\n",
      "  File \"c:\\Users\\risko\\miniconda3\\envs\\prompt-classification\\Lib\\site-packages\\diskcache\\core.py\", line 857, in _row_insert\n",
      "    sql(\n",
      "sqlite3.OperationalError: no such column: \"size\" - should this be a string literal in single-quotes?\n",
      "  6%|▌         | 6/100 [00:03<00:56,  1.67it/s]\u001b[92m23:59:57 - LiteLLM:ERROR\u001b[0m: caching.py:645 - LiteLLM Cache: Excepton add_cache: no such column: \"size\" - should this be a string literal in single-quotes?\n",
      "Traceback (most recent call last):\n",
      "  File \"c:\\Users\\risko\\miniconda3\\envs\\prompt-classification\\Lib\\site-packages\\litellm\\caching\\caching.py\", line 643, in add_cache\n",
      "    self.cache.set_cache(cache_key, cached_data, **kwargs)\n",
      "  File \"c:\\Users\\risko\\miniconda3\\envs\\prompt-classification\\Lib\\site-packages\\litellm\\caching\\disk_cache.py\", line 28, in set_cache\n",
      "    self.disk_cache.set(key, value)\n",
      "  File \"c:\\Users\\risko\\miniconda3\\envs\\prompt-classification\\Lib\\site-packages\\diskcache\\core.py\", line 808, in set\n",
      "    self._row_insert(db_key, raw, now, columns)\n",
      "  File \"c:\\Users\\risko\\miniconda3\\envs\\prompt-classification\\Lib\\site-packages\\diskcache\\core.py\", line 857, in _row_insert\n",
      "    sql(\n",
      "sqlite3.OperationalError: no such column: \"size\" - should this be a string literal in single-quotes?\n",
      "  7%|▋         | 7/100 [00:04<00:59,  1.56it/s]\u001b[92m23:59:57 - LiteLLM:ERROR\u001b[0m: caching.py:645 - LiteLLM Cache: Excepton add_cache: no such column: \"size\" - should this be a string literal in single-quotes?\n",
      "Traceback (most recent call last):\n",
      "  File \"c:\\Users\\risko\\miniconda3\\envs\\prompt-classification\\Lib\\site-packages\\litellm\\caching\\caching.py\", line 643, in add_cache\n",
      "    self.cache.set_cache(cache_key, cached_data, **kwargs)\n",
      "  File \"c:\\Users\\risko\\miniconda3\\envs\\prompt-classification\\Lib\\site-packages\\litellm\\caching\\disk_cache.py\", line 28, in set_cache\n",
      "    self.disk_cache.set(key, value)\n",
      "  File \"c:\\Users\\risko\\miniconda3\\envs\\prompt-classification\\Lib\\site-packages\\diskcache\\core.py\", line 808, in set\n",
      "    self._row_insert(db_key, raw, now, columns)\n",
      "  File \"c:\\Users\\risko\\miniconda3\\envs\\prompt-classification\\Lib\\site-packages\\diskcache\\core.py\", line 857, in _row_insert\n",
      "    sql(\n",
      "sqlite3.OperationalError: no such column: \"size\" - should this be a string literal in single-quotes?\n",
      "  8%|▊         | 8/100 [00:04<00:49,  1.85it/s]\u001b[92m23:59:58 - LiteLLM:ERROR\u001b[0m: caching.py:645 - LiteLLM Cache: Excepton add_cache: no such column: \"size\" - should this be a string literal in single-quotes?\n",
      "Traceback (most recent call last):\n",
      "  File \"c:\\Users\\risko\\miniconda3\\envs\\prompt-classification\\Lib\\site-packages\\litellm\\caching\\caching.py\", line 643, in add_cache\n",
      "    self.cache.set_cache(cache_key, cached_data, **kwargs)\n",
      "  File \"c:\\Users\\risko\\miniconda3\\envs\\prompt-classification\\Lib\\site-packages\\litellm\\caching\\disk_cache.py\", line 28, in set_cache\n",
      "    self.disk_cache.set(key, value)\n",
      "  File \"c:\\Users\\risko\\miniconda3\\envs\\prompt-classification\\Lib\\site-packages\\diskcache\\core.py\", line 808, in set\n",
      "    self._row_insert(db_key, raw, now, columns)\n",
      "  File \"c:\\Users\\risko\\miniconda3\\envs\\prompt-classification\\Lib\\site-packages\\diskcache\\core.py\", line 857, in _row_insert\n",
      "    sql(\n",
      "sqlite3.OperationalError: no such column: \"size\" - should this be a string literal in single-quotes?\n",
      "  9%|▉         | 9/100 [00:04<00:42,  2.16it/s]\u001b[92m23:59:58 - LiteLLM:ERROR\u001b[0m: caching.py:645 - LiteLLM Cache: Excepton add_cache: no such column: \"size\" - should this be a string literal in single-quotes?\n",
      "Traceback (most recent call last):\n",
      "  File \"c:\\Users\\risko\\miniconda3\\envs\\prompt-classification\\Lib\\site-packages\\litellm\\caching\\caching.py\", line 643, in add_cache\n",
      "    self.cache.set_cache(cache_key, cached_data, **kwargs)\n",
      "  File \"c:\\Users\\risko\\miniconda3\\envs\\prompt-classification\\Lib\\site-packages\\litellm\\caching\\disk_cache.py\", line 28, in set_cache\n",
      "    self.disk_cache.set(key, value)\n",
      "  File \"c:\\Users\\risko\\miniconda3\\envs\\prompt-classification\\Lib\\site-packages\\diskcache\\core.py\", line 808, in set\n",
      "    self._row_insert(db_key, raw, now, columns)\n",
      "  File \"c:\\Users\\risko\\miniconda3\\envs\\prompt-classification\\Lib\\site-packages\\diskcache\\core.py\", line 857, in _row_insert\n",
      "    sql(\n",
      "sqlite3.OperationalError: no such column: \"size\" - should this be a string literal in single-quotes?\n",
      " 10%|█         | 10/100 [00:05<00:46,  1.92it/s]\u001b[92m23:59:59 - LiteLLM:ERROR\u001b[0m: caching.py:645 - LiteLLM Cache: Excepton add_cache: no such column: \"size\" - should this be a string literal in single-quotes?\n",
      "Traceback (most recent call last):\n",
      "  File \"c:\\Users\\risko\\miniconda3\\envs\\prompt-classification\\Lib\\site-packages\\litellm\\caching\\caching.py\", line 643, in add_cache\n",
      "    self.cache.set_cache(cache_key, cached_data, **kwargs)\n",
      "  File \"c:\\Users\\risko\\miniconda3\\envs\\prompt-classification\\Lib\\site-packages\\litellm\\caching\\disk_cache.py\", line 28, in set_cache\n",
      "    self.disk_cache.set(key, value)\n",
      "  File \"c:\\Users\\risko\\miniconda3\\envs\\prompt-classification\\Lib\\site-packages\\diskcache\\core.py\", line 808, in set\n",
      "    self._row_insert(db_key, raw, now, columns)\n",
      "  File \"c:\\Users\\risko\\miniconda3\\envs\\prompt-classification\\Lib\\site-packages\\diskcache\\core.py\", line 857, in _row_insert\n",
      "    sql(\n",
      "sqlite3.OperationalError: no such column: \"size\" - should this be a string literal in single-quotes?\n",
      " 11%|█         | 11/100 [00:05<00:41,  2.17it/s]\u001b[92m23:59:59 - LiteLLM:ERROR\u001b[0m: caching.py:645 - LiteLLM Cache: Excepton add_cache: no such column: \"size\" - should this be a string literal in single-quotes?\n",
      "Traceback (most recent call last):\n",
      "  File \"c:\\Users\\risko\\miniconda3\\envs\\prompt-classification\\Lib\\site-packages\\litellm\\caching\\caching.py\", line 643, in add_cache\n",
      "    self.cache.set_cache(cache_key, cached_data, **kwargs)\n",
      "  File \"c:\\Users\\risko\\miniconda3\\envs\\prompt-classification\\Lib\\site-packages\\litellm\\caching\\disk_cache.py\", line 28, in set_cache\n",
      "    self.disk_cache.set(key, value)\n",
      "  File \"c:\\Users\\risko\\miniconda3\\envs\\prompt-classification\\Lib\\site-packages\\diskcache\\core.py\", line 808, in set\n",
      "    self._row_insert(db_key, raw, now, columns)\n",
      "  File \"c:\\Users\\risko\\miniconda3\\envs\\prompt-classification\\Lib\\site-packages\\diskcache\\core.py\", line 857, in _row_insert\n",
      "    sql(\n",
      "sqlite3.OperationalError: no such column: \"size\" - should this be a string literal in single-quotes?\n",
      " 12%|█▏        | 12/100 [00:06<00:37,  2.32it/s]\u001b[92m00:00:00 - LiteLLM:ERROR\u001b[0m: caching.py:645 - LiteLLM Cache: Excepton add_cache: no such column: \"size\" - should this be a string literal in single-quotes?\n",
      "Traceback (most recent call last):\n",
      "  File \"c:\\Users\\risko\\miniconda3\\envs\\prompt-classification\\Lib\\site-packages\\litellm\\caching\\caching.py\", line 643, in add_cache\n",
      "    self.cache.set_cache(cache_key, cached_data, **kwargs)\n",
      "  File \"c:\\Users\\risko\\miniconda3\\envs\\prompt-classification\\Lib\\site-packages\\litellm\\caching\\disk_cache.py\", line 28, in set_cache\n",
      "    self.disk_cache.set(key, value)\n",
      "  File \"c:\\Users\\risko\\miniconda3\\envs\\prompt-classification\\Lib\\site-packages\\diskcache\\core.py\", line 808, in set\n",
      "    self._row_insert(db_key, raw, now, columns)\n",
      "  File \"c:\\Users\\risko\\miniconda3\\envs\\prompt-classification\\Lib\\site-packages\\diskcache\\core.py\", line 857, in _row_insert\n",
      "    sql(\n",
      "sqlite3.OperationalError: no such column: \"size\" - should this be a string literal in single-quotes?\n",
      " 13%|█▎        | 13/100 [00:07<00:53,  1.63it/s]\u001b[92m00:00:00 - LiteLLM:ERROR\u001b[0m: caching.py:645 - LiteLLM Cache: Excepton add_cache: no such column: \"size\" - should this be a string literal in single-quotes?\n",
      "Traceback (most recent call last):\n",
      "  File \"c:\\Users\\risko\\miniconda3\\envs\\prompt-classification\\Lib\\site-packages\\litellm\\caching\\caching.py\", line 643, in add_cache\n",
      "    self.cache.set_cache(cache_key, cached_data, **kwargs)\n",
      "  File \"c:\\Users\\risko\\miniconda3\\envs\\prompt-classification\\Lib\\site-packages\\litellm\\caching\\disk_cache.py\", line 28, in set_cache\n",
      "    self.disk_cache.set(key, value)\n",
      "  File \"c:\\Users\\risko\\miniconda3\\envs\\prompt-classification\\Lib\\site-packages\\diskcache\\core.py\", line 808, in set\n",
      "    self._row_insert(db_key, raw, now, columns)\n",
      "  File \"c:\\Users\\risko\\miniconda3\\envs\\prompt-classification\\Lib\\site-packages\\diskcache\\core.py\", line 857, in _row_insert\n",
      "    sql(\n",
      "sqlite3.OperationalError: no such column: \"size\" - should this be a string literal in single-quotes?\n",
      " 14%|█▍        | 14/100 [00:07<00:44,  1.94it/s]\u001b[92m00:00:01 - LiteLLM:ERROR\u001b[0m: caching.py:645 - LiteLLM Cache: Excepton add_cache: no such column: \"size\" - should this be a string literal in single-quotes?\n",
      "Traceback (most recent call last):\n",
      "  File \"c:\\Users\\risko\\miniconda3\\envs\\prompt-classification\\Lib\\site-packages\\litellm\\caching\\caching.py\", line 643, in add_cache\n",
      "    self.cache.set_cache(cache_key, cached_data, **kwargs)\n",
      "  File \"c:\\Users\\risko\\miniconda3\\envs\\prompt-classification\\Lib\\site-packages\\litellm\\caching\\disk_cache.py\", line 28, in set_cache\n",
      "    self.disk_cache.set(key, value)\n",
      "  File \"c:\\Users\\risko\\miniconda3\\envs\\prompt-classification\\Lib\\site-packages\\diskcache\\core.py\", line 808, in set\n",
      "    self._row_insert(db_key, raw, now, columns)\n",
      "  File \"c:\\Users\\risko\\miniconda3\\envs\\prompt-classification\\Lib\\site-packages\\diskcache\\core.py\", line 857, in _row_insert\n",
      "    sql(\n",
      "sqlite3.OperationalError: no such column: \"size\" - should this be a string literal in single-quotes?\n",
      " 15%|█▌        | 15/100 [00:07<00:38,  2.21it/s]\u001b[92m00:00:01 - LiteLLM:ERROR\u001b[0m: caching.py:645 - LiteLLM Cache: Excepton add_cache: no such column: \"size\" - should this be a string literal in single-quotes?\n",
      "Traceback (most recent call last):\n",
      "  File \"c:\\Users\\risko\\miniconda3\\envs\\prompt-classification\\Lib\\site-packages\\litellm\\caching\\caching.py\", line 643, in add_cache\n",
      "    self.cache.set_cache(cache_key, cached_data, **kwargs)\n",
      "  File \"c:\\Users\\risko\\miniconda3\\envs\\prompt-classification\\Lib\\site-packages\\litellm\\caching\\disk_cache.py\", line 28, in set_cache\n",
      "    self.disk_cache.set(key, value)\n",
      "  File \"c:\\Users\\risko\\miniconda3\\envs\\prompt-classification\\Lib\\site-packages\\diskcache\\core.py\", line 808, in set\n",
      "    self._row_insert(db_key, raw, now, columns)\n",
      "  File \"c:\\Users\\risko\\miniconda3\\envs\\prompt-classification\\Lib\\site-packages\\diskcache\\core.py\", line 857, in _row_insert\n",
      "    sql(\n",
      "sqlite3.OperationalError: no such column: \"size\" - should this be a string literal in single-quotes?\n",
      " 16%|█▌        | 16/100 [00:08<00:36,  2.28it/s]\u001b[92m00:00:02 - LiteLLM:ERROR\u001b[0m: caching.py:645 - LiteLLM Cache: Excepton add_cache: no such column: \"size\" - should this be a string literal in single-quotes?\n",
      "Traceback (most recent call last):\n",
      "  File \"c:\\Users\\risko\\miniconda3\\envs\\prompt-classification\\Lib\\site-packages\\litellm\\caching\\caching.py\", line 643, in add_cache\n",
      "    self.cache.set_cache(cache_key, cached_data, **kwargs)\n",
      "  File \"c:\\Users\\risko\\miniconda3\\envs\\prompt-classification\\Lib\\site-packages\\litellm\\caching\\disk_cache.py\", line 28, in set_cache\n",
      "    self.disk_cache.set(key, value)\n",
      "  File \"c:\\Users\\risko\\miniconda3\\envs\\prompt-classification\\Lib\\site-packages\\diskcache\\core.py\", line 808, in set\n",
      "    self._row_insert(db_key, raw, now, columns)\n",
      "  File \"c:\\Users\\risko\\miniconda3\\envs\\prompt-classification\\Lib\\site-packages\\diskcache\\core.py\", line 857, in _row_insert\n",
      "    sql(\n",
      "sqlite3.OperationalError: no such column: \"size\" - should this be a string literal in single-quotes?\n",
      " 17%|█▋        | 17/100 [00:09<00:45,  1.83it/s]\u001b[92m00:00:02 - LiteLLM:ERROR\u001b[0m: caching.py:645 - LiteLLM Cache: Excepton add_cache: no such column: \"size\" - should this be a string literal in single-quotes?\n",
      "Traceback (most recent call last):\n",
      "  File \"c:\\Users\\risko\\miniconda3\\envs\\prompt-classification\\Lib\\site-packages\\litellm\\caching\\caching.py\", line 643, in add_cache\n",
      "    self.cache.set_cache(cache_key, cached_data, **kwargs)\n",
      "  File \"c:\\Users\\risko\\miniconda3\\envs\\prompt-classification\\Lib\\site-packages\\litellm\\caching\\disk_cache.py\", line 28, in set_cache\n",
      "    self.disk_cache.set(key, value)\n",
      "  File \"c:\\Users\\risko\\miniconda3\\envs\\prompt-classification\\Lib\\site-packages\\diskcache\\core.py\", line 808, in set\n",
      "    self._row_insert(db_key, raw, now, columns)\n",
      "  File \"c:\\Users\\risko\\miniconda3\\envs\\prompt-classification\\Lib\\site-packages\\diskcache\\core.py\", line 857, in _row_insert\n",
      "    sql(\n",
      "sqlite3.OperationalError: no such column: \"size\" - should this be a string literal in single-quotes?\n",
      " 18%|█▊        | 18/100 [00:09<00:38,  2.13it/s]\u001b[92m00:00:03 - LiteLLM:ERROR\u001b[0m: caching.py:645 - LiteLLM Cache: Excepton add_cache: no such column: \"size\" - should this be a string literal in single-quotes?\n",
      "Traceback (most recent call last):\n",
      "  File \"c:\\Users\\risko\\miniconda3\\envs\\prompt-classification\\Lib\\site-packages\\litellm\\caching\\caching.py\", line 643, in add_cache\n",
      "    self.cache.set_cache(cache_key, cached_data, **kwargs)\n",
      "  File \"c:\\Users\\risko\\miniconda3\\envs\\prompt-classification\\Lib\\site-packages\\litellm\\caching\\disk_cache.py\", line 28, in set_cache\n",
      "    self.disk_cache.set(key, value)\n",
      "  File \"c:\\Users\\risko\\miniconda3\\envs\\prompt-classification\\Lib\\site-packages\\diskcache\\core.py\", line 808, in set\n",
      "    self._row_insert(db_key, raw, now, columns)\n",
      "  File \"c:\\Users\\risko\\miniconda3\\envs\\prompt-classification\\Lib\\site-packages\\diskcache\\core.py\", line 857, in _row_insert\n",
      "    sql(\n",
      "sqlite3.OperationalError: no such column: \"size\" - should this be a string literal in single-quotes?\n",
      " 19%|█▉        | 19/100 [00:10<00:51,  1.58it/s]\u001b[92m00:00:04 - LiteLLM:ERROR\u001b[0m: caching.py:645 - LiteLLM Cache: Excepton add_cache: no such column: \"size\" - should this be a string literal in single-quotes?\n",
      "Traceback (most recent call last):\n",
      "  File \"c:\\Users\\risko\\miniconda3\\envs\\prompt-classification\\Lib\\site-packages\\litellm\\caching\\caching.py\", line 643, in add_cache\n",
      "    self.cache.set_cache(cache_key, cached_data, **kwargs)\n",
      "  File \"c:\\Users\\risko\\miniconda3\\envs\\prompt-classification\\Lib\\site-packages\\litellm\\caching\\disk_cache.py\", line 28, in set_cache\n",
      "    self.disk_cache.set(key, value)\n",
      "  File \"c:\\Users\\risko\\miniconda3\\envs\\prompt-classification\\Lib\\site-packages\\diskcache\\core.py\", line 808, in set\n",
      "    self._row_insert(db_key, raw, now, columns)\n",
      "  File \"c:\\Users\\risko\\miniconda3\\envs\\prompt-classification\\Lib\\site-packages\\diskcache\\core.py\", line 857, in _row_insert\n",
      "    sql(\n",
      "sqlite3.OperationalError: no such column: \"size\" - should this be a string literal in single-quotes?\n",
      " 20%|██        | 20/100 [00:11<00:54,  1.48it/s]\u001b[92m00:00:04 - LiteLLM:ERROR\u001b[0m: caching.py:645 - LiteLLM Cache: Excepton add_cache: no such column: \"size\" - should this be a string literal in single-quotes?\n",
      "Traceback (most recent call last):\n",
      "  File \"c:\\Users\\risko\\miniconda3\\envs\\prompt-classification\\Lib\\site-packages\\litellm\\caching\\caching.py\", line 643, in add_cache\n",
      "    self.cache.set_cache(cache_key, cached_data, **kwargs)\n",
      "  File \"c:\\Users\\risko\\miniconda3\\envs\\prompt-classification\\Lib\\site-packages\\litellm\\caching\\disk_cache.py\", line 28, in set_cache\n",
      "    self.disk_cache.set(key, value)\n",
      "  File \"c:\\Users\\risko\\miniconda3\\envs\\prompt-classification\\Lib\\site-packages\\diskcache\\core.py\", line 808, in set\n",
      "    self._row_insert(db_key, raw, now, columns)\n",
      "  File \"c:\\Users\\risko\\miniconda3\\envs\\prompt-classification\\Lib\\site-packages\\diskcache\\core.py\", line 857, in _row_insert\n",
      "    sql(\n",
      "sqlite3.OperationalError: no such column: \"size\" - should this be a string literal in single-quotes?\n",
      " 21%|██        | 21/100 [00:11<00:44,  1.77it/s]\u001b[92m00:00:05 - LiteLLM:ERROR\u001b[0m: caching.py:645 - LiteLLM Cache: Excepton add_cache: no such column: \"size\" - should this be a string literal in single-quotes?\n",
      "Traceback (most recent call last):\n",
      "  File \"c:\\Users\\risko\\miniconda3\\envs\\prompt-classification\\Lib\\site-packages\\litellm\\caching\\caching.py\", line 643, in add_cache\n",
      "    self.cache.set_cache(cache_key, cached_data, **kwargs)\n",
      "  File \"c:\\Users\\risko\\miniconda3\\envs\\prompt-classification\\Lib\\site-packages\\litellm\\caching\\disk_cache.py\", line 28, in set_cache\n",
      "    self.disk_cache.set(key, value)\n",
      "  File \"c:\\Users\\risko\\miniconda3\\envs\\prompt-classification\\Lib\\site-packages\\diskcache\\core.py\", line 808, in set\n",
      "    self._row_insert(db_key, raw, now, columns)\n",
      "  File \"c:\\Users\\risko\\miniconda3\\envs\\prompt-classification\\Lib\\site-packages\\diskcache\\core.py\", line 857, in _row_insert\n",
      "    sql(\n",
      "sqlite3.OperationalError: no such column: \"size\" - should this be a string literal in single-quotes?\n",
      " 22%|██▏       | 22/100 [00:11<00:43,  1.80it/s]\u001b[92m00:00:05 - LiteLLM:ERROR\u001b[0m: caching.py:645 - LiteLLM Cache: Excepton add_cache: no such column: \"size\" - should this be a string literal in single-quotes?\n",
      "Traceback (most recent call last):\n",
      "  File \"c:\\Users\\risko\\miniconda3\\envs\\prompt-classification\\Lib\\site-packages\\litellm\\caching\\caching.py\", line 643, in add_cache\n",
      "    self.cache.set_cache(cache_key, cached_data, **kwargs)\n",
      "  File \"c:\\Users\\risko\\miniconda3\\envs\\prompt-classification\\Lib\\site-packages\\litellm\\caching\\disk_cache.py\", line 28, in set_cache\n",
      "    self.disk_cache.set(key, value)\n",
      "  File \"c:\\Users\\risko\\miniconda3\\envs\\prompt-classification\\Lib\\site-packages\\diskcache\\core.py\", line 808, in set\n",
      "    self._row_insert(db_key, raw, now, columns)\n",
      "  File \"c:\\Users\\risko\\miniconda3\\envs\\prompt-classification\\Lib\\site-packages\\diskcache\\core.py\", line 857, in _row_insert\n",
      "    sql(\n",
      "sqlite3.OperationalError: no such column: \"size\" - should this be a string literal in single-quotes?\n",
      " 23%|██▎       | 23/100 [00:12<00:36,  2.09it/s]\u001b[92m00:00:06 - LiteLLM:ERROR\u001b[0m: caching.py:645 - LiteLLM Cache: Excepton add_cache: no such column: \"size\" - should this be a string literal in single-quotes?\n",
      "Traceback (most recent call last):\n",
      "  File \"c:\\Users\\risko\\miniconda3\\envs\\prompt-classification\\Lib\\site-packages\\litellm\\caching\\caching.py\", line 643, in add_cache\n",
      "    self.cache.set_cache(cache_key, cached_data, **kwargs)\n",
      "  File \"c:\\Users\\risko\\miniconda3\\envs\\prompt-classification\\Lib\\site-packages\\litellm\\caching\\disk_cache.py\", line 28, in set_cache\n",
      "    self.disk_cache.set(key, value)\n",
      "  File \"c:\\Users\\risko\\miniconda3\\envs\\prompt-classification\\Lib\\site-packages\\diskcache\\core.py\", line 808, in set\n",
      "    self._row_insert(db_key, raw, now, columns)\n",
      "  File \"c:\\Users\\risko\\miniconda3\\envs\\prompt-classification\\Lib\\site-packages\\diskcache\\core.py\", line 857, in _row_insert\n",
      "    sql(\n",
      "sqlite3.OperationalError: no such column: \"size\" - should this be a string literal in single-quotes?\n",
      " 24%|██▍       | 24/100 [00:13<00:56,  1.36it/s]\u001b[92m00:00:07 - LiteLLM:ERROR\u001b[0m: caching.py:645 - LiteLLM Cache: Excepton add_cache: no such column: \"size\" - should this be a string literal in single-quotes?\n",
      "Traceback (most recent call last):\n",
      "  File \"c:\\Users\\risko\\miniconda3\\envs\\prompt-classification\\Lib\\site-packages\\litellm\\caching\\caching.py\", line 643, in add_cache\n",
      "    self.cache.set_cache(cache_key, cached_data, **kwargs)\n",
      "  File \"c:\\Users\\risko\\miniconda3\\envs\\prompt-classification\\Lib\\site-packages\\litellm\\caching\\disk_cache.py\", line 28, in set_cache\n",
      "    self.disk_cache.set(key, value)\n",
      "  File \"c:\\Users\\risko\\miniconda3\\envs\\prompt-classification\\Lib\\site-packages\\diskcache\\core.py\", line 808, in set\n",
      "    self._row_insert(db_key, raw, now, columns)\n",
      "  File \"c:\\Users\\risko\\miniconda3\\envs\\prompt-classification\\Lib\\site-packages\\diskcache\\core.py\", line 857, in _row_insert\n",
      "    sql(\n",
      "sqlite3.OperationalError: no such column: \"size\" - should this be a string literal in single-quotes?\n",
      " 25%|██▌       | 25/100 [00:14<00:55,  1.36it/s]\u001b[92m00:00:09 - LiteLLM:ERROR\u001b[0m: caching.py:645 - LiteLLM Cache: Excepton add_cache: no such column: \"size\" - should this be a string literal in single-quotes?\n",
      "Traceback (most recent call last):\n",
      "  File \"c:\\Users\\risko\\miniconda3\\envs\\prompt-classification\\Lib\\site-packages\\litellm\\caching\\caching.py\", line 643, in add_cache\n",
      "    self.cache.set_cache(cache_key, cached_data, **kwargs)\n",
      "  File \"c:\\Users\\risko\\miniconda3\\envs\\prompt-classification\\Lib\\site-packages\\litellm\\caching\\disk_cache.py\", line 28, in set_cache\n",
      "    self.disk_cache.set(key, value)\n",
      "  File \"c:\\Users\\risko\\miniconda3\\envs\\prompt-classification\\Lib\\site-packages\\diskcache\\core.py\", line 808, in set\n",
      "    self._row_insert(db_key, raw, now, columns)\n",
      "  File \"c:\\Users\\risko\\miniconda3\\envs\\prompt-classification\\Lib\\site-packages\\diskcache\\core.py\", line 857, in _row_insert\n",
      "    sql(\n",
      "sqlite3.OperationalError: no such column: \"size\" - should this be a string literal in single-quotes?\n",
      " 26%|██▌       | 26/100 [00:16<01:28,  1.20s/it]\u001b[92m00:00:10 - LiteLLM:ERROR\u001b[0m: caching.py:645 - LiteLLM Cache: Excepton add_cache: no such column: \"size\" - should this be a string literal in single-quotes?\n",
      "Traceback (most recent call last):\n",
      "  File \"c:\\Users\\risko\\miniconda3\\envs\\prompt-classification\\Lib\\site-packages\\litellm\\caching\\caching.py\", line 643, in add_cache\n",
      "    self.cache.set_cache(cache_key, cached_data, **kwargs)\n",
      "  File \"c:\\Users\\risko\\miniconda3\\envs\\prompt-classification\\Lib\\site-packages\\litellm\\caching\\disk_cache.py\", line 28, in set_cache\n",
      "    self.disk_cache.set(key, value)\n",
      "  File \"c:\\Users\\risko\\miniconda3\\envs\\prompt-classification\\Lib\\site-packages\\diskcache\\core.py\", line 808, in set\n",
      "    self._row_insert(db_key, raw, now, columns)\n",
      "  File \"c:\\Users\\risko\\miniconda3\\envs\\prompt-classification\\Lib\\site-packages\\diskcache\\core.py\", line 857, in _row_insert\n",
      "    sql(\n",
      "sqlite3.OperationalError: no such column: \"size\" - should this be a string literal in single-quotes?\n",
      " 27%|██▋       | 27/100 [00:17<01:17,  1.07s/it]\u001b[92m00:00:11 - LiteLLM:ERROR\u001b[0m: caching.py:645 - LiteLLM Cache: Excepton add_cache: no such column: \"size\" - should this be a string literal in single-quotes?\n",
      "Traceback (most recent call last):\n",
      "  File \"c:\\Users\\risko\\miniconda3\\envs\\prompt-classification\\Lib\\site-packages\\litellm\\caching\\caching.py\", line 643, in add_cache\n",
      "    self.cache.set_cache(cache_key, cached_data, **kwargs)\n",
      "  File \"c:\\Users\\risko\\miniconda3\\envs\\prompt-classification\\Lib\\site-packages\\litellm\\caching\\disk_cache.py\", line 28, in set_cache\n",
      "    self.disk_cache.set(key, value)\n",
      "  File \"c:\\Users\\risko\\miniconda3\\envs\\prompt-classification\\Lib\\site-packages\\diskcache\\core.py\", line 808, in set\n",
      "    self._row_insert(db_key, raw, now, columns)\n",
      "  File \"c:\\Users\\risko\\miniconda3\\envs\\prompt-classification\\Lib\\site-packages\\diskcache\\core.py\", line 857, in _row_insert\n",
      "    sql(\n",
      "sqlite3.OperationalError: no such column: \"size\" - should this be a string literal in single-quotes?\n",
      " 28%|██▊       | 28/100 [00:18<01:11,  1.01it/s]\u001b[92m00:00:11 - LiteLLM:ERROR\u001b[0m: caching.py:645 - LiteLLM Cache: Excepton add_cache: no such column: \"size\" - should this be a string literal in single-quotes?\n",
      "Traceback (most recent call last):\n",
      "  File \"c:\\Users\\risko\\miniconda3\\envs\\prompt-classification\\Lib\\site-packages\\litellm\\caching\\caching.py\", line 643, in add_cache\n",
      "    self.cache.set_cache(cache_key, cached_data, **kwargs)\n",
      "  File \"c:\\Users\\risko\\miniconda3\\envs\\prompt-classification\\Lib\\site-packages\\litellm\\caching\\disk_cache.py\", line 28, in set_cache\n",
      "    self.disk_cache.set(key, value)\n",
      "  File \"c:\\Users\\risko\\miniconda3\\envs\\prompt-classification\\Lib\\site-packages\\diskcache\\core.py\", line 808, in set\n",
      "    self._row_insert(db_key, raw, now, columns)\n",
      "  File \"c:\\Users\\risko\\miniconda3\\envs\\prompt-classification\\Lib\\site-packages\\diskcache\\core.py\", line 857, in _row_insert\n",
      "    sql(\n",
      "sqlite3.OperationalError: no such column: \"size\" - should this be a string literal in single-quotes?\n",
      " 29%|██▉       | 29/100 [00:18<00:59,  1.20it/s]\u001b[92m00:00:14 - LiteLLM:ERROR\u001b[0m: caching.py:645 - LiteLLM Cache: Excepton add_cache: no such column: \"size\" - should this be a string literal in single-quotes?\n",
      "Traceback (most recent call last):\n",
      "  File \"c:\\Users\\risko\\miniconda3\\envs\\prompt-classification\\Lib\\site-packages\\litellm\\caching\\caching.py\", line 643, in add_cache\n",
      "    self.cache.set_cache(cache_key, cached_data, **kwargs)\n",
      "  File \"c:\\Users\\risko\\miniconda3\\envs\\prompt-classification\\Lib\\site-packages\\litellm\\caching\\disk_cache.py\", line 28, in set_cache\n",
      "    self.disk_cache.set(key, value)\n",
      "  File \"c:\\Users\\risko\\miniconda3\\envs\\prompt-classification\\Lib\\site-packages\\diskcache\\core.py\", line 808, in set\n",
      "    self._row_insert(db_key, raw, now, columns)\n",
      "  File \"c:\\Users\\risko\\miniconda3\\envs\\prompt-classification\\Lib\\site-packages\\diskcache\\core.py\", line 857, in _row_insert\n",
      "    sql(\n",
      "sqlite3.OperationalError: no such column: \"size\" - should this be a string literal in single-quotes?\n",
      " 30%|███       | 30/100 [00:20<01:26,  1.23s/it]\u001b[92m00:00:14 - LiteLLM:ERROR\u001b[0m: caching.py:645 - LiteLLM Cache: Excepton add_cache: no such column: \"size\" - should this be a string literal in single-quotes?\n",
      "Traceback (most recent call last):\n",
      "  File \"c:\\Users\\risko\\miniconda3\\envs\\prompt-classification\\Lib\\site-packages\\litellm\\caching\\caching.py\", line 643, in add_cache\n",
      "    self.cache.set_cache(cache_key, cached_data, **kwargs)\n",
      "  File \"c:\\Users\\risko\\miniconda3\\envs\\prompt-classification\\Lib\\site-packages\\litellm\\caching\\disk_cache.py\", line 28, in set_cache\n",
      "    self.disk_cache.set(key, value)\n",
      "  File \"c:\\Users\\risko\\miniconda3\\envs\\prompt-classification\\Lib\\site-packages\\diskcache\\core.py\", line 808, in set\n",
      "    self._row_insert(db_key, raw, now, columns)\n",
      "  File \"c:\\Users\\risko\\miniconda3\\envs\\prompt-classification\\Lib\\site-packages\\diskcache\\core.py\", line 857, in _row_insert\n",
      "    sql(\n",
      "sqlite3.OperationalError: no such column: \"size\" - should this be a string literal in single-quotes?\n",
      " 31%|███       | 31/100 [00:21<01:06,  1.04it/s]\u001b[92m00:00:14 - LiteLLM:ERROR\u001b[0m: caching.py:645 - LiteLLM Cache: Excepton add_cache: no such column: \"size\" - should this be a string literal in single-quotes?\n",
      "Traceback (most recent call last):\n",
      "  File \"c:\\Users\\risko\\miniconda3\\envs\\prompt-classification\\Lib\\site-packages\\litellm\\caching\\caching.py\", line 643, in add_cache\n",
      "    self.cache.set_cache(cache_key, cached_data, **kwargs)\n",
      "  File \"c:\\Users\\risko\\miniconda3\\envs\\prompt-classification\\Lib\\site-packages\\litellm\\caching\\disk_cache.py\", line 28, in set_cache\n",
      "    self.disk_cache.set(key, value)\n",
      "  File \"c:\\Users\\risko\\miniconda3\\envs\\prompt-classification\\Lib\\site-packages\\diskcache\\core.py\", line 808, in set\n",
      "    self._row_insert(db_key, raw, now, columns)\n",
      "  File \"c:\\Users\\risko\\miniconda3\\envs\\prompt-classification\\Lib\\site-packages\\diskcache\\core.py\", line 857, in _row_insert\n",
      "    sql(\n",
      "sqlite3.OperationalError: no such column: \"size\" - should this be a string literal in single-quotes?\n",
      " 32%|███▏      | 32/100 [00:21<00:52,  1.30it/s]\u001b[92m00:00:15 - LiteLLM:ERROR\u001b[0m: caching.py:645 - LiteLLM Cache: Excepton add_cache: no such column: \"size\" - should this be a string literal in single-quotes?\n",
      "Traceback (most recent call last):\n",
      "  File \"c:\\Users\\risko\\miniconda3\\envs\\prompt-classification\\Lib\\site-packages\\litellm\\caching\\caching.py\", line 643, in add_cache\n",
      "    self.cache.set_cache(cache_key, cached_data, **kwargs)\n",
      "  File \"c:\\Users\\risko\\miniconda3\\envs\\prompt-classification\\Lib\\site-packages\\litellm\\caching\\disk_cache.py\", line 28, in set_cache\n",
      "    self.disk_cache.set(key, value)\n",
      "  File \"c:\\Users\\risko\\miniconda3\\envs\\prompt-classification\\Lib\\site-packages\\diskcache\\core.py\", line 808, in set\n",
      "    self._row_insert(db_key, raw, now, columns)\n",
      "  File \"c:\\Users\\risko\\miniconda3\\envs\\prompt-classification\\Lib\\site-packages\\diskcache\\core.py\", line 857, in _row_insert\n",
      "    sql(\n",
      "sqlite3.OperationalError: no such column: \"size\" - should this be a string literal in single-quotes?\n",
      " 33%|███▎      | 33/100 [00:22<00:53,  1.26it/s]\u001b[92m00:00:16 - LiteLLM:ERROR\u001b[0m: caching.py:645 - LiteLLM Cache: Excepton add_cache: no such column: \"size\" - should this be a string literal in single-quotes?\n",
      "Traceback (most recent call last):\n",
      "  File \"c:\\Users\\risko\\miniconda3\\envs\\prompt-classification\\Lib\\site-packages\\litellm\\caching\\caching.py\", line 643, in add_cache\n",
      "    self.cache.set_cache(cache_key, cached_data, **kwargs)\n",
      "  File \"c:\\Users\\risko\\miniconda3\\envs\\prompt-classification\\Lib\\site-packages\\litellm\\caching\\disk_cache.py\", line 28, in set_cache\n",
      "    self.disk_cache.set(key, value)\n",
      "  File \"c:\\Users\\risko\\miniconda3\\envs\\prompt-classification\\Lib\\site-packages\\diskcache\\core.py\", line 808, in set\n",
      "    self._row_insert(db_key, raw, now, columns)\n",
      "  File \"c:\\Users\\risko\\miniconda3\\envs\\prompt-classification\\Lib\\site-packages\\diskcache\\core.py\", line 857, in _row_insert\n",
      "    sql(\n",
      "sqlite3.OperationalError: no such column: \"size\" - should this be a string literal in single-quotes?\n",
      " 34%|███▍      | 34/100 [00:22<00:49,  1.33it/s]\u001b[92m00:00:16 - LiteLLM:ERROR\u001b[0m: caching.py:645 - LiteLLM Cache: Excepton add_cache: no such column: \"size\" - should this be a string literal in single-quotes?\n",
      "Traceback (most recent call last):\n",
      "  File \"c:\\Users\\risko\\miniconda3\\envs\\prompt-classification\\Lib\\site-packages\\litellm\\caching\\caching.py\", line 643, in add_cache\n",
      "    self.cache.set_cache(cache_key, cached_data, **kwargs)\n",
      "  File \"c:\\Users\\risko\\miniconda3\\envs\\prompt-classification\\Lib\\site-packages\\litellm\\caching\\disk_cache.py\", line 28, in set_cache\n",
      "    self.disk_cache.set(key, value)\n",
      "  File \"c:\\Users\\risko\\miniconda3\\envs\\prompt-classification\\Lib\\site-packages\\diskcache\\core.py\", line 808, in set\n",
      "    self._row_insert(db_key, raw, now, columns)\n",
      "  File \"c:\\Users\\risko\\miniconda3\\envs\\prompt-classification\\Lib\\site-packages\\diskcache\\core.py\", line 857, in _row_insert\n",
      "    sql(\n",
      "sqlite3.OperationalError: no such column: \"size\" - should this be a string literal in single-quotes?\n",
      " 35%|███▌      | 35/100 [00:23<00:49,  1.33it/s]\u001b[92m00:00:17 - LiteLLM:ERROR\u001b[0m: caching.py:645 - LiteLLM Cache: Excepton add_cache: no such column: \"size\" - should this be a string literal in single-quotes?\n",
      "Traceback (most recent call last):\n",
      "  File \"c:\\Users\\risko\\miniconda3\\envs\\prompt-classification\\Lib\\site-packages\\litellm\\caching\\caching.py\", line 643, in add_cache\n",
      "    self.cache.set_cache(cache_key, cached_data, **kwargs)\n",
      "  File \"c:\\Users\\risko\\miniconda3\\envs\\prompt-classification\\Lib\\site-packages\\litellm\\caching\\disk_cache.py\", line 28, in set_cache\n",
      "    self.disk_cache.set(key, value)\n",
      "  File \"c:\\Users\\risko\\miniconda3\\envs\\prompt-classification\\Lib\\site-packages\\diskcache\\core.py\", line 808, in set\n",
      "    self._row_insert(db_key, raw, now, columns)\n",
      "  File \"c:\\Users\\risko\\miniconda3\\envs\\prompt-classification\\Lib\\site-packages\\diskcache\\core.py\", line 857, in _row_insert\n",
      "    sql(\n",
      "sqlite3.OperationalError: no such column: \"size\" - should this be a string literal in single-quotes?\n",
      " 36%|███▌      | 36/100 [00:23<00:39,  1.62it/s]\u001b[92m00:00:18 - LiteLLM:ERROR\u001b[0m: caching.py:645 - LiteLLM Cache: Excepton add_cache: no such column: \"size\" - should this be a string literal in single-quotes?\n",
      "Traceback (most recent call last):\n",
      "  File \"c:\\Users\\risko\\miniconda3\\envs\\prompt-classification\\Lib\\site-packages\\litellm\\caching\\caching.py\", line 643, in add_cache\n",
      "    self.cache.set_cache(cache_key, cached_data, **kwargs)\n",
      "  File \"c:\\Users\\risko\\miniconda3\\envs\\prompt-classification\\Lib\\site-packages\\litellm\\caching\\disk_cache.py\", line 28, in set_cache\n",
      "    self.disk_cache.set(key, value)\n",
      "  File \"c:\\Users\\risko\\miniconda3\\envs\\prompt-classification\\Lib\\site-packages\\diskcache\\core.py\", line 808, in set\n",
      "    self._row_insert(db_key, raw, now, columns)\n",
      "  File \"c:\\Users\\risko\\miniconda3\\envs\\prompt-classification\\Lib\\site-packages\\diskcache\\core.py\", line 857, in _row_insert\n",
      "    sql(\n",
      "sqlite3.OperationalError: no such column: \"size\" - should this be a string literal in single-quotes?\n",
      " 37%|███▋      | 37/100 [00:24<00:45,  1.40it/s]\u001b[92m00:00:19 - LiteLLM:ERROR\u001b[0m: caching.py:645 - LiteLLM Cache: Excepton add_cache: no such column: \"size\" - should this be a string literal in single-quotes?\n",
      "Traceback (most recent call last):\n",
      "  File \"c:\\Users\\risko\\miniconda3\\envs\\prompt-classification\\Lib\\site-packages\\litellm\\caching\\caching.py\", line 643, in add_cache\n",
      "    self.cache.set_cache(cache_key, cached_data, **kwargs)\n",
      "  File \"c:\\Users\\risko\\miniconda3\\envs\\prompt-classification\\Lib\\site-packages\\litellm\\caching\\disk_cache.py\", line 28, in set_cache\n",
      "    self.disk_cache.set(key, value)\n",
      "  File \"c:\\Users\\risko\\miniconda3\\envs\\prompt-classification\\Lib\\site-packages\\diskcache\\core.py\", line 808, in set\n",
      "    self._row_insert(db_key, raw, now, columns)\n",
      "  File \"c:\\Users\\risko\\miniconda3\\envs\\prompt-classification\\Lib\\site-packages\\diskcache\\core.py\", line 857, in _row_insert\n",
      "    sql(\n",
      "sqlite3.OperationalError: no such column: \"size\" - should this be a string literal in single-quotes?\n",
      " 38%|███▊      | 38/100 [00:25<00:47,  1.30it/s]\u001b[92m00:00:19 - LiteLLM:ERROR\u001b[0m: caching.py:645 - LiteLLM Cache: Excepton add_cache: no such column: \"size\" - should this be a string literal in single-quotes?\n",
      "Traceback (most recent call last):\n",
      "  File \"c:\\Users\\risko\\miniconda3\\envs\\prompt-classification\\Lib\\site-packages\\litellm\\caching\\caching.py\", line 643, in add_cache\n",
      "    self.cache.set_cache(cache_key, cached_data, **kwargs)\n",
      "  File \"c:\\Users\\risko\\miniconda3\\envs\\prompt-classification\\Lib\\site-packages\\litellm\\caching\\disk_cache.py\", line 28, in set_cache\n",
      "    self.disk_cache.set(key, value)\n",
      "  File \"c:\\Users\\risko\\miniconda3\\envs\\prompt-classification\\Lib\\site-packages\\diskcache\\core.py\", line 808, in set\n",
      "    self._row_insert(db_key, raw, now, columns)\n",
      "  File \"c:\\Users\\risko\\miniconda3\\envs\\prompt-classification\\Lib\\site-packages\\diskcache\\core.py\", line 857, in _row_insert\n",
      "    sql(\n",
      "sqlite3.OperationalError: no such column: \"size\" - should this be a string literal in single-quotes?\n",
      " 39%|███▉      | 39/100 [00:26<00:37,  1.61it/s]\u001b[92m00:00:19 - LiteLLM:ERROR\u001b[0m: caching.py:645 - LiteLLM Cache: Excepton add_cache: no such column: \"size\" - should this be a string literal in single-quotes?\n",
      "Traceback (most recent call last):\n",
      "  File \"c:\\Users\\risko\\miniconda3\\envs\\prompt-classification\\Lib\\site-packages\\litellm\\caching\\caching.py\", line 643, in add_cache\n",
      "    self.cache.set_cache(cache_key, cached_data, **kwargs)\n",
      "  File \"c:\\Users\\risko\\miniconda3\\envs\\prompt-classification\\Lib\\site-packages\\litellm\\caching\\disk_cache.py\", line 28, in set_cache\n",
      "    self.disk_cache.set(key, value)\n",
      "  File \"c:\\Users\\risko\\miniconda3\\envs\\prompt-classification\\Lib\\site-packages\\diskcache\\core.py\", line 808, in set\n",
      "    self._row_insert(db_key, raw, now, columns)\n",
      "  File \"c:\\Users\\risko\\miniconda3\\envs\\prompt-classification\\Lib\\site-packages\\diskcache\\core.py\", line 857, in _row_insert\n",
      "    sql(\n",
      "sqlite3.OperationalError: no such column: \"size\" - should this be a string literal in single-quotes?\n",
      " 40%|████      | 40/100 [00:26<00:31,  1.89it/s]\u001b[92m00:00:20 - LiteLLM:ERROR\u001b[0m: caching.py:645 - LiteLLM Cache: Excepton add_cache: no such column: \"size\" - should this be a string literal in single-quotes?\n",
      "Traceback (most recent call last):\n",
      "  File \"c:\\Users\\risko\\miniconda3\\envs\\prompt-classification\\Lib\\site-packages\\litellm\\caching\\caching.py\", line 643, in add_cache\n",
      "    self.cache.set_cache(cache_key, cached_data, **kwargs)\n",
      "  File \"c:\\Users\\risko\\miniconda3\\envs\\prompt-classification\\Lib\\site-packages\\litellm\\caching\\disk_cache.py\", line 28, in set_cache\n",
      "    self.disk_cache.set(key, value)\n",
      "  File \"c:\\Users\\risko\\miniconda3\\envs\\prompt-classification\\Lib\\site-packages\\diskcache\\core.py\", line 808, in set\n",
      "    self._row_insert(db_key, raw, now, columns)\n",
      "  File \"c:\\Users\\risko\\miniconda3\\envs\\prompt-classification\\Lib\\site-packages\\diskcache\\core.py\", line 857, in _row_insert\n",
      "    sql(\n",
      "sqlite3.OperationalError: no such column: \"size\" - should this be a string literal in single-quotes?\n",
      " 41%|████      | 41/100 [00:26<00:27,  2.13it/s]\u001b[92m00:00:20 - LiteLLM:ERROR\u001b[0m: caching.py:645 - LiteLLM Cache: Excepton add_cache: no such column: \"size\" - should this be a string literal in single-quotes?\n",
      "Traceback (most recent call last):\n",
      "  File \"c:\\Users\\risko\\miniconda3\\envs\\prompt-classification\\Lib\\site-packages\\litellm\\caching\\caching.py\", line 643, in add_cache\n",
      "    self.cache.set_cache(cache_key, cached_data, **kwargs)\n",
      "  File \"c:\\Users\\risko\\miniconda3\\envs\\prompt-classification\\Lib\\site-packages\\litellm\\caching\\disk_cache.py\", line 28, in set_cache\n",
      "    self.disk_cache.set(key, value)\n",
      "  File \"c:\\Users\\risko\\miniconda3\\envs\\prompt-classification\\Lib\\site-packages\\diskcache\\core.py\", line 808, in set\n",
      "    self._row_insert(db_key, raw, now, columns)\n",
      "  File \"c:\\Users\\risko\\miniconda3\\envs\\prompt-classification\\Lib\\site-packages\\diskcache\\core.py\", line 857, in _row_insert\n",
      "    sql(\n",
      "sqlite3.OperationalError: no such column: \"size\" - should this be a string literal in single-quotes?\n",
      " 42%|████▏     | 42/100 [00:27<00:27,  2.13it/s]\u001b[92m00:00:21 - LiteLLM:ERROR\u001b[0m: caching.py:645 - LiteLLM Cache: Excepton add_cache: no such column: \"size\" - should this be a string literal in single-quotes?\n",
      "Traceback (most recent call last):\n",
      "  File \"c:\\Users\\risko\\miniconda3\\envs\\prompt-classification\\Lib\\site-packages\\litellm\\caching\\caching.py\", line 643, in add_cache\n",
      "    self.cache.set_cache(cache_key, cached_data, **kwargs)\n",
      "  File \"c:\\Users\\risko\\miniconda3\\envs\\prompt-classification\\Lib\\site-packages\\litellm\\caching\\disk_cache.py\", line 28, in set_cache\n",
      "    self.disk_cache.set(key, value)\n",
      "  File \"c:\\Users\\risko\\miniconda3\\envs\\prompt-classification\\Lib\\site-packages\\diskcache\\core.py\", line 808, in set\n",
      "    self._row_insert(db_key, raw, now, columns)\n",
      "  File \"c:\\Users\\risko\\miniconda3\\envs\\prompt-classification\\Lib\\site-packages\\diskcache\\core.py\", line 857, in _row_insert\n",
      "    sql(\n",
      "sqlite3.OperationalError: no such column: \"size\" - should this be a string literal in single-quotes?\n",
      " 43%|████▎     | 43/100 [00:28<00:32,  1.73it/s]\u001b[92m00:00:21 - LiteLLM:ERROR\u001b[0m: caching.py:645 - LiteLLM Cache: Excepton add_cache: no such column: \"size\" - should this be a string literal in single-quotes?\n",
      "Traceback (most recent call last):\n",
      "  File \"c:\\Users\\risko\\miniconda3\\envs\\prompt-classification\\Lib\\site-packages\\litellm\\caching\\caching.py\", line 643, in add_cache\n",
      "    self.cache.set_cache(cache_key, cached_data, **kwargs)\n",
      "  File \"c:\\Users\\risko\\miniconda3\\envs\\prompt-classification\\Lib\\site-packages\\litellm\\caching\\disk_cache.py\", line 28, in set_cache\n",
      "    self.disk_cache.set(key, value)\n",
      "  File \"c:\\Users\\risko\\miniconda3\\envs\\prompt-classification\\Lib\\site-packages\\diskcache\\core.py\", line 808, in set\n",
      "    self._row_insert(db_key, raw, now, columns)\n",
      "  File \"c:\\Users\\risko\\miniconda3\\envs\\prompt-classification\\Lib\\site-packages\\diskcache\\core.py\", line 857, in _row_insert\n",
      "    sql(\n",
      "sqlite3.OperationalError: no such column: \"size\" - should this be a string literal in single-quotes?\n",
      " 44%|████▍     | 44/100 [00:28<00:27,  2.03it/s]\u001b[92m00:00:21 - LiteLLM:ERROR\u001b[0m: caching.py:645 - LiteLLM Cache: Excepton add_cache: no such column: \"size\" - should this be a string literal in single-quotes?\n",
      "Traceback (most recent call last):\n",
      "  File \"c:\\Users\\risko\\miniconda3\\envs\\prompt-classification\\Lib\\site-packages\\litellm\\caching\\caching.py\", line 643, in add_cache\n",
      "    self.cache.set_cache(cache_key, cached_data, **kwargs)\n",
      "  File \"c:\\Users\\risko\\miniconda3\\envs\\prompt-classification\\Lib\\site-packages\\litellm\\caching\\disk_cache.py\", line 28, in set_cache\n",
      "    self.disk_cache.set(key, value)\n",
      "  File \"c:\\Users\\risko\\miniconda3\\envs\\prompt-classification\\Lib\\site-packages\\diskcache\\core.py\", line 808, in set\n",
      "    self._row_insert(db_key, raw, now, columns)\n",
      "  File \"c:\\Users\\risko\\miniconda3\\envs\\prompt-classification\\Lib\\site-packages\\diskcache\\core.py\", line 857, in _row_insert\n",
      "    sql(\n",
      "sqlite3.OperationalError: no such column: \"size\" - should this be a string literal in single-quotes?\n",
      " 45%|████▌     | 45/100 [00:28<00:23,  2.30it/s]\u001b[92m00:00:22 - LiteLLM:ERROR\u001b[0m: caching.py:645 - LiteLLM Cache: Excepton add_cache: no such column: \"size\" - should this be a string literal in single-quotes?\n",
      "Traceback (most recent call last):\n",
      "  File \"c:\\Users\\risko\\miniconda3\\envs\\prompt-classification\\Lib\\site-packages\\litellm\\caching\\caching.py\", line 643, in add_cache\n",
      "    self.cache.set_cache(cache_key, cached_data, **kwargs)\n",
      "  File \"c:\\Users\\risko\\miniconda3\\envs\\prompt-classification\\Lib\\site-packages\\litellm\\caching\\disk_cache.py\", line 28, in set_cache\n",
      "    self.disk_cache.set(key, value)\n",
      "  File \"c:\\Users\\risko\\miniconda3\\envs\\prompt-classification\\Lib\\site-packages\\diskcache\\core.py\", line 808, in set\n",
      "    self._row_insert(db_key, raw, now, columns)\n",
      "  File \"c:\\Users\\risko\\miniconda3\\envs\\prompt-classification\\Lib\\site-packages\\diskcache\\core.py\", line 857, in _row_insert\n",
      "    sql(\n",
      "sqlite3.OperationalError: no such column: \"size\" - should this be a string literal in single-quotes?\n",
      " 46%|████▌     | 46/100 [00:29<00:30,  1.78it/s]\u001b[92m00:00:23 - LiteLLM:ERROR\u001b[0m: caching.py:645 - LiteLLM Cache: Excepton add_cache: no such column: \"size\" - should this be a string literal in single-quotes?\n",
      "Traceback (most recent call last):\n",
      "  File \"c:\\Users\\risko\\miniconda3\\envs\\prompt-classification\\Lib\\site-packages\\litellm\\caching\\caching.py\", line 643, in add_cache\n",
      "    self.cache.set_cache(cache_key, cached_data, **kwargs)\n",
      "  File \"c:\\Users\\risko\\miniconda3\\envs\\prompt-classification\\Lib\\site-packages\\litellm\\caching\\disk_cache.py\", line 28, in set_cache\n",
      "    self.disk_cache.set(key, value)\n",
      "  File \"c:\\Users\\risko\\miniconda3\\envs\\prompt-classification\\Lib\\site-packages\\diskcache\\core.py\", line 808, in set\n",
      "    self._row_insert(db_key, raw, now, columns)\n",
      "  File \"c:\\Users\\risko\\miniconda3\\envs\\prompt-classification\\Lib\\site-packages\\diskcache\\core.py\", line 857, in _row_insert\n",
      "    sql(\n",
      "sqlite3.OperationalError: no such column: \"size\" - should this be a string literal in single-quotes?\n",
      " 47%|████▋     | 47/100 [00:29<00:26,  2.04it/s]\u001b[92m00:00:24 - LiteLLM:ERROR\u001b[0m: caching.py:645 - LiteLLM Cache: Excepton add_cache: no such column: \"size\" - should this be a string literal in single-quotes?\n",
      "Traceback (most recent call last):\n",
      "  File \"c:\\Users\\risko\\miniconda3\\envs\\prompt-classification\\Lib\\site-packages\\litellm\\caching\\caching.py\", line 643, in add_cache\n",
      "    self.cache.set_cache(cache_key, cached_data, **kwargs)\n",
      "  File \"c:\\Users\\risko\\miniconda3\\envs\\prompt-classification\\Lib\\site-packages\\litellm\\caching\\disk_cache.py\", line 28, in set_cache\n",
      "    self.disk_cache.set(key, value)\n",
      "  File \"c:\\Users\\risko\\miniconda3\\envs\\prompt-classification\\Lib\\site-packages\\diskcache\\core.py\", line 808, in set\n",
      "    self._row_insert(db_key, raw, now, columns)\n",
      "  File \"c:\\Users\\risko\\miniconda3\\envs\\prompt-classification\\Lib\\site-packages\\diskcache\\core.py\", line 857, in _row_insert\n",
      "    sql(\n",
      "sqlite3.OperationalError: no such column: \"size\" - should this be a string literal in single-quotes?\n",
      " 48%|████▊     | 48/100 [00:30<00:33,  1.57it/s]\u001b[92m00:00:27 - LiteLLM:ERROR\u001b[0m: caching.py:645 - LiteLLM Cache: Excepton add_cache: no such column: \"size\" - should this be a string literal in single-quotes?\n",
      "Traceback (most recent call last):\n",
      "  File \"c:\\Users\\risko\\miniconda3\\envs\\prompt-classification\\Lib\\site-packages\\litellm\\llms\\openai\\openai.py\", line 726, in completion\n",
      "    raise e\n",
      "  File \"c:\\Users\\risko\\miniconda3\\envs\\prompt-classification\\Lib\\site-packages\\litellm\\llms\\openai\\openai.py\", line 653, in completion\n",
      "    self.make_sync_openai_chat_completion_request(\n",
      "  File \"c:\\Users\\risko\\miniconda3\\envs\\prompt-classification\\Lib\\site-packages\\litellm\\litellm_core_utils\\logging_utils.py\", line 145, in sync_wrapper\n",
      "    result = func(*args, **kwargs)\n",
      "             ^^^^^^^^^^^^^^^^^^^^^\n",
      "  File \"c:\\Users\\risko\\miniconda3\\envs\\prompt-classification\\Lib\\site-packages\\litellm\\llms\\openai\\openai.py\", line 472, in make_sync_openai_chat_completion_request\n",
      "    raise e\n",
      "  File \"c:\\Users\\risko\\miniconda3\\envs\\prompt-classification\\Lib\\site-packages\\litellm\\llms\\openai\\openai.py\", line 454, in make_sync_openai_chat_completion_request\n",
      "    raw_response = openai_client.chat.completions.with_raw_response.create(\n",
      "                   ^^^^^^^^^^^^^^^^^^^^^^^^^^^^^^^^^^^^^^^^^^^^^^^^^^^^^^^^\n",
      "  File \"c:\\Users\\risko\\miniconda3\\envs\\prompt-classification\\Lib\\site-packages\\openai\\_legacy_response.py\", line 364, in wrapped\n",
      "    return cast(LegacyAPIResponse[R], func(*args, **kwargs))\n",
      "                                      ^^^^^^^^^^^^^^^^^^^^^\n",
      "  File \"c:\\Users\\risko\\miniconda3\\envs\\prompt-classification\\Lib\\site-packages\\openai\\_utils\\_utils.py\", line 279, in wrapper\n",
      "    return func(*args, **kwargs)\n",
      "           ^^^^^^^^^^^^^^^^^^^^^\n",
      "  File \"c:\\Users\\risko\\miniconda3\\envs\\prompt-classification\\Lib\\site-packages\\openai\\resources\\chat\\completions\\completions.py\", line 879, in create\n",
      "    return self._post(\n",
      "           ^^^^^^^^^^^\n",
      "  File \"c:\\Users\\risko\\miniconda3\\envs\\prompt-classification\\Lib\\site-packages\\openai\\_base_client.py\", line 1290, in post\n",
      "    return cast(ResponseT, self.request(cast_to, opts, stream=stream, stream_cls=stream_cls))\n",
      "                           ^^^^^^^^^^^^^^^^^^^^^^^^^^^^^^^^^^^^^^^^^^^^^^^^^^^^^^^^^^^^^^^^^\n",
      "  File \"c:\\Users\\risko\\miniconda3\\envs\\prompt-classification\\Lib\\site-packages\\openai\\_base_client.py\", line 967, in request\n",
      "    return self._request(\n",
      "           ^^^^^^^^^^^^^^\n",
      "  File \"c:\\Users\\risko\\miniconda3\\envs\\prompt-classification\\Lib\\site-packages\\openai\\_base_client.py\", line 1071, in _request\n",
      "    raise self._make_status_error_from_response(err.response) from None\n",
      "openai.BadRequestError: Error code: 400 - {'error': {'message': \"litellm.BadRequestError: litellm.ContentPolicyViolationError: litellm.ContentPolicyViolationError: AzureException - The response was filtered due to the prompt triggering Azure OpenAI's content management policy. Please modify your prompt and retry. To learn more about our content filtering policies please read our documentation: https://go.microsoft.com/fwlink/?linkid=2198766\\nmodel=gpt-4o-mini. content_policy_fallback=None. fallbacks=None.\\n\\nSet 'content_policy_fallback' - https://docs.litellm.ai/docs/routing#fallbacks. Received Model Group=gpt-4o-mini\\nAvailable Model Group Fallbacks=None\", 'type': None, 'param': None, 'code': '400'}}\n",
      "\n",
      "During handling of the above exception, another exception occurred:\n",
      "\n",
      "Traceback (most recent call last):\n",
      "  File \"c:\\Users\\risko\\miniconda3\\envs\\prompt-classification\\Lib\\site-packages\\litellm\\main.py\", line 1724, in completion\n",
      "    raise e\n",
      "  File \"c:\\Users\\risko\\miniconda3\\envs\\prompt-classification\\Lib\\site-packages\\litellm\\main.py\", line 1697, in completion\n",
      "    response = openai_chat_completions.completion(\n",
      "               ^^^^^^^^^^^^^^^^^^^^^^^^^^^^^^^^^^^\n",
      "  File \"c:\\Users\\risko\\miniconda3\\envs\\prompt-classification\\Lib\\site-packages\\litellm\\llms\\openai\\openai.py\", line 736, in completion\n",
      "    raise OpenAIError(\n",
      "litellm.llms.openai.common_utils.OpenAIError: Error code: 400 - {'error': {'message': \"litellm.BadRequestError: litellm.ContentPolicyViolationError: litellm.ContentPolicyViolationError: AzureException - The response was filtered due to the prompt triggering Azure OpenAI's content management policy. Please modify your prompt and retry. To learn more about our content filtering policies please read our documentation: https://go.microsoft.com/fwlink/?linkid=2198766\\nmodel=gpt-4o-mini. content_policy_fallback=None. fallbacks=None.\\n\\nSet 'content_policy_fallback' - https://docs.litellm.ai/docs/routing#fallbacks. Received Model Group=gpt-4o-mini\\nAvailable Model Group Fallbacks=None\", 'type': None, 'param': None, 'code': '400'}}\n",
      "\n",
      "During handling of the above exception, another exception occurred:\n",
      "\n",
      "Traceback (most recent call last):\n",
      "  File \"c:\\Users\\risko\\miniconda3\\envs\\prompt-classification\\Lib\\site-packages\\litellm\\utils.py\", line 1068, in wrapper\n",
      "    result = original_function(*args, **kwargs)\n",
      "             ^^^^^^^^^^^^^^^^^^^^^^^^^^^^^^^^^^\n",
      "  File \"c:\\Users\\risko\\miniconda3\\envs\\prompt-classification\\Lib\\site-packages\\litellm\\main.py\", line 3085, in completion\n",
      "    raise exception_type(\n",
      "          ^^^^^^^^^^^^^^^\n",
      "  File \"c:\\Users\\risko\\miniconda3\\envs\\prompt-classification\\Lib\\site-packages\\litellm\\litellm_core_utils\\exception_mapping_utils.py\", line 2202, in exception_type\n",
      "    raise e\n",
      "  File \"c:\\Users\\risko\\miniconda3\\envs\\prompt-classification\\Lib\\site-packages\\litellm\\litellm_core_utils\\exception_mapping_utils.py\", line 382, in exception_type\n",
      "    raise BadRequestError(\n",
      "litellm.exceptions.BadRequestError: litellm.BadRequestError: OpenAIException - Error code: 400 - {'error': {'message': \"litellm.BadRequestError: litellm.ContentPolicyViolationError: litellm.ContentPolicyViolationError: AzureException - The response was filtered due to the prompt triggering Azure OpenAI's content management policy. Please modify your prompt and retry. To learn more about our content filtering policies please read our documentation: https://go.microsoft.com/fwlink/?linkid=2198766\\nmodel=gpt-4o-mini. content_policy_fallback=None. fallbacks=None.\\n\\nSet 'content_policy_fallback' - https://docs.litellm.ai/docs/routing#fallbacks. Received Model Group=gpt-4o-mini\\nAvailable Model Group Fallbacks=None\", 'type': None, 'param': None, 'code': '400'}}\n",
      "\n",
      "During handling of the above exception, another exception occurred:\n",
      "\n",
      "Traceback (most recent call last):\n",
      "  File \"c:\\Users\\risko\\miniconda3\\envs\\prompt-classification\\Lib\\site-packages\\litellm\\caching\\caching.py\", line 643, in add_cache\n",
      "    self.cache.set_cache(cache_key, cached_data, **kwargs)\n",
      "  File \"c:\\Users\\risko\\miniconda3\\envs\\prompt-classification\\Lib\\site-packages\\litellm\\caching\\disk_cache.py\", line 28, in set_cache\n",
      "    self.disk_cache.set(key, value)\n",
      "  File \"c:\\Users\\risko\\miniconda3\\envs\\prompt-classification\\Lib\\site-packages\\diskcache\\core.py\", line 808, in set\n",
      "    self._row_insert(db_key, raw, now, columns)\n",
      "  File \"c:\\Users\\risko\\miniconda3\\envs\\prompt-classification\\Lib\\site-packages\\diskcache\\core.py\", line 857, in _row_insert\n",
      "    sql(\n",
      "sqlite3.OperationalError: no such column: \"size\" - should this be a string literal in single-quotes?\n",
      " 49%|████▉     | 49/100 [00:33<01:09,  1.36s/it]\u001b[92m00:00:27 - LiteLLM:ERROR\u001b[0m: caching.py:645 - LiteLLM Cache: Excepton add_cache: no such column: \"size\" - should this be a string literal in single-quotes?\n",
      "Traceback (most recent call last):\n",
      "  File \"c:\\Users\\risko\\miniconda3\\envs\\prompt-classification\\Lib\\site-packages\\litellm\\caching\\caching.py\", line 643, in add_cache\n",
      "    self.cache.set_cache(cache_key, cached_data, **kwargs)\n",
      "  File \"c:\\Users\\risko\\miniconda3\\envs\\prompt-classification\\Lib\\site-packages\\litellm\\caching\\disk_cache.py\", line 28, in set_cache\n",
      "    self.disk_cache.set(key, value)\n",
      "  File \"c:\\Users\\risko\\miniconda3\\envs\\prompt-classification\\Lib\\site-packages\\diskcache\\core.py\", line 808, in set\n",
      "    self._row_insert(db_key, raw, now, columns)\n",
      "  File \"c:\\Users\\risko\\miniconda3\\envs\\prompt-classification\\Lib\\site-packages\\diskcache\\core.py\", line 857, in _row_insert\n",
      "    sql(\n",
      "sqlite3.OperationalError: no such column: \"size\" - should this be a string literal in single-quotes?\n",
      " 50%|█████     | 50/100 [00:34<00:58,  1.17s/it]\u001b[92m00:00:28 - LiteLLM:ERROR\u001b[0m: caching.py:645 - LiteLLM Cache: Excepton add_cache: no such column: \"size\" - should this be a string literal in single-quotes?\n",
      "Traceback (most recent call last):\n",
      "  File \"c:\\Users\\risko\\miniconda3\\envs\\prompt-classification\\Lib\\site-packages\\litellm\\caching\\caching.py\", line 643, in add_cache\n",
      "    self.cache.set_cache(cache_key, cached_data, **kwargs)\n",
      "  File \"c:\\Users\\risko\\miniconda3\\envs\\prompt-classification\\Lib\\site-packages\\litellm\\caching\\disk_cache.py\", line 28, in set_cache\n",
      "    self.disk_cache.set(key, value)\n",
      "  File \"c:\\Users\\risko\\miniconda3\\envs\\prompt-classification\\Lib\\site-packages\\diskcache\\core.py\", line 808, in set\n",
      "    self._row_insert(db_key, raw, now, columns)\n",
      "  File \"c:\\Users\\risko\\miniconda3\\envs\\prompt-classification\\Lib\\site-packages\\diskcache\\core.py\", line 857, in _row_insert\n",
      "    sql(\n",
      "sqlite3.OperationalError: no such column: \"size\" - should this be a string literal in single-quotes?\n",
      " 51%|█████     | 51/100 [00:34<00:45,  1.08it/s]\u001b[92m00:00:28 - LiteLLM:ERROR\u001b[0m: caching.py:645 - LiteLLM Cache: Excepton add_cache: no such column: \"size\" - should this be a string literal in single-quotes?\n",
      "Traceback (most recent call last):\n",
      "  File \"c:\\Users\\risko\\miniconda3\\envs\\prompt-classification\\Lib\\site-packages\\litellm\\caching\\caching.py\", line 643, in add_cache\n",
      "    self.cache.set_cache(cache_key, cached_data, **kwargs)\n",
      "  File \"c:\\Users\\risko\\miniconda3\\envs\\prompt-classification\\Lib\\site-packages\\litellm\\caching\\disk_cache.py\", line 28, in set_cache\n",
      "    self.disk_cache.set(key, value)\n",
      "  File \"c:\\Users\\risko\\miniconda3\\envs\\prompt-classification\\Lib\\site-packages\\diskcache\\core.py\", line 808, in set\n",
      "    self._row_insert(db_key, raw, now, columns)\n",
      "  File \"c:\\Users\\risko\\miniconda3\\envs\\prompt-classification\\Lib\\site-packages\\diskcache\\core.py\", line 857, in _row_insert\n",
      "    sql(\n",
      "sqlite3.OperationalError: no such column: \"size\" - should this be a string literal in single-quotes?\n",
      " 52%|█████▏    | 52/100 [00:35<00:36,  1.33it/s]\u001b[92m00:00:29 - LiteLLM:ERROR\u001b[0m: caching.py:645 - LiteLLM Cache: Excepton add_cache: no such column: \"size\" - should this be a string literal in single-quotes?\n",
      "Traceback (most recent call last):\n",
      "  File \"c:\\Users\\risko\\miniconda3\\envs\\prompt-classification\\Lib\\site-packages\\litellm\\caching\\caching.py\", line 643, in add_cache\n",
      "    self.cache.set_cache(cache_key, cached_data, **kwargs)\n",
      "  File \"c:\\Users\\risko\\miniconda3\\envs\\prompt-classification\\Lib\\site-packages\\litellm\\caching\\disk_cache.py\", line 28, in set_cache\n",
      "    self.disk_cache.set(key, value)\n",
      "  File \"c:\\Users\\risko\\miniconda3\\envs\\prompt-classification\\Lib\\site-packages\\diskcache\\core.py\", line 808, in set\n",
      "    self._row_insert(db_key, raw, now, columns)\n",
      "  File \"c:\\Users\\risko\\miniconda3\\envs\\prompt-classification\\Lib\\site-packages\\diskcache\\core.py\", line 857, in _row_insert\n",
      "    sql(\n",
      "sqlite3.OperationalError: no such column: \"size\" - should this be a string literal in single-quotes?\n",
      " 53%|█████▎    | 53/100 [00:36<00:36,  1.30it/s]\u001b[92m00:00:30 - LiteLLM:ERROR\u001b[0m: caching.py:645 - LiteLLM Cache: Excepton add_cache: no such column: \"size\" - should this be a string literal in single-quotes?\n",
      "Traceback (most recent call last):\n",
      "  File \"c:\\Users\\risko\\miniconda3\\envs\\prompt-classification\\Lib\\site-packages\\litellm\\caching\\caching.py\", line 643, in add_cache\n",
      "    self.cache.set_cache(cache_key, cached_data, **kwargs)\n",
      "  File \"c:\\Users\\risko\\miniconda3\\envs\\prompt-classification\\Lib\\site-packages\\litellm\\caching\\disk_cache.py\", line 28, in set_cache\n",
      "    self.disk_cache.set(key, value)\n",
      "  File \"c:\\Users\\risko\\miniconda3\\envs\\prompt-classification\\Lib\\site-packages\\diskcache\\core.py\", line 808, in set\n",
      "    self._row_insert(db_key, raw, now, columns)\n",
      "  File \"c:\\Users\\risko\\miniconda3\\envs\\prompt-classification\\Lib\\site-packages\\diskcache\\core.py\", line 857, in _row_insert\n",
      "    sql(\n",
      "sqlite3.OperationalError: no such column: \"size\" - should this be a string literal in single-quotes?\n",
      " 54%|█████▍    | 54/100 [00:37<00:37,  1.22it/s]\u001b[92m00:00:31 - LiteLLM:ERROR\u001b[0m: caching.py:645 - LiteLLM Cache: Excepton add_cache: no such column: \"size\" - should this be a string literal in single-quotes?\n",
      "Traceback (most recent call last):\n",
      "  File \"c:\\Users\\risko\\miniconda3\\envs\\prompt-classification\\Lib\\site-packages\\litellm\\caching\\caching.py\", line 643, in add_cache\n",
      "    self.cache.set_cache(cache_key, cached_data, **kwargs)\n",
      "  File \"c:\\Users\\risko\\miniconda3\\envs\\prompt-classification\\Lib\\site-packages\\litellm\\caching\\disk_cache.py\", line 28, in set_cache\n",
      "    self.disk_cache.set(key, value)\n",
      "  File \"c:\\Users\\risko\\miniconda3\\envs\\prompt-classification\\Lib\\site-packages\\diskcache\\core.py\", line 808, in set\n",
      "    self._row_insert(db_key, raw, now, columns)\n",
      "  File \"c:\\Users\\risko\\miniconda3\\envs\\prompt-classification\\Lib\\site-packages\\diskcache\\core.py\", line 857, in _row_insert\n",
      "    sql(\n",
      "sqlite3.OperationalError: no such column: \"size\" - should this be a string literal in single-quotes?\n",
      " 55%|█████▌    | 55/100 [00:38<00:44,  1.02it/s]\u001b[92m00:00:32 - LiteLLM:ERROR\u001b[0m: caching.py:645 - LiteLLM Cache: Excepton add_cache: no such column: \"size\" - should this be a string literal in single-quotes?\n",
      "Traceback (most recent call last):\n",
      "  File \"c:\\Users\\risko\\miniconda3\\envs\\prompt-classification\\Lib\\site-packages\\litellm\\caching\\caching.py\", line 643, in add_cache\n",
      "    self.cache.set_cache(cache_key, cached_data, **kwargs)\n",
      "  File \"c:\\Users\\risko\\miniconda3\\envs\\prompt-classification\\Lib\\site-packages\\litellm\\caching\\disk_cache.py\", line 28, in set_cache\n",
      "    self.disk_cache.set(key, value)\n",
      "  File \"c:\\Users\\risko\\miniconda3\\envs\\prompt-classification\\Lib\\site-packages\\diskcache\\core.py\", line 808, in set\n",
      "    self._row_insert(db_key, raw, now, columns)\n",
      "  File \"c:\\Users\\risko\\miniconda3\\envs\\prompt-classification\\Lib\\site-packages\\diskcache\\core.py\", line 857, in _row_insert\n",
      "    sql(\n",
      "sqlite3.OperationalError: no such column: \"size\" - should this be a string literal in single-quotes?\n",
      " 56%|█████▌    | 56/100 [00:39<00:40,  1.08it/s]\u001b[92m00:00:32 - LiteLLM:ERROR\u001b[0m: caching.py:645 - LiteLLM Cache: Excepton add_cache: no such column: \"size\" - should this be a string literal in single-quotes?\n",
      "Traceback (most recent call last):\n",
      "  File \"c:\\Users\\risko\\miniconda3\\envs\\prompt-classification\\Lib\\site-packages\\litellm\\caching\\caching.py\", line 643, in add_cache\n",
      "    self.cache.set_cache(cache_key, cached_data, **kwargs)\n",
      "  File \"c:\\Users\\risko\\miniconda3\\envs\\prompt-classification\\Lib\\site-packages\\litellm\\caching\\disk_cache.py\", line 28, in set_cache\n",
      "    self.disk_cache.set(key, value)\n",
      "  File \"c:\\Users\\risko\\miniconda3\\envs\\prompt-classification\\Lib\\site-packages\\diskcache\\core.py\", line 808, in set\n",
      "    self._row_insert(db_key, raw, now, columns)\n",
      "  File \"c:\\Users\\risko\\miniconda3\\envs\\prompt-classification\\Lib\\site-packages\\diskcache\\core.py\", line 857, in _row_insert\n",
      "    sql(\n",
      "sqlite3.OperationalError: no such column: \"size\" - should this be a string literal in single-quotes?\n",
      " 57%|█████▋    | 57/100 [00:39<00:31,  1.36it/s]\u001b[92m00:00:33 - LiteLLM:ERROR\u001b[0m: caching.py:645 - LiteLLM Cache: Excepton add_cache: no such column: \"size\" - should this be a string literal in single-quotes?\n",
      "Traceback (most recent call last):\n",
      "  File \"c:\\Users\\risko\\miniconda3\\envs\\prompt-classification\\Lib\\site-packages\\litellm\\caching\\caching.py\", line 643, in add_cache\n",
      "    self.cache.set_cache(cache_key, cached_data, **kwargs)\n",
      "  File \"c:\\Users\\risko\\miniconda3\\envs\\prompt-classification\\Lib\\site-packages\\litellm\\caching\\disk_cache.py\", line 28, in set_cache\n",
      "    self.disk_cache.set(key, value)\n",
      "  File \"c:\\Users\\risko\\miniconda3\\envs\\prompt-classification\\Lib\\site-packages\\diskcache\\core.py\", line 808, in set\n",
      "    self._row_insert(db_key, raw, now, columns)\n",
      "  File \"c:\\Users\\risko\\miniconda3\\envs\\prompt-classification\\Lib\\site-packages\\diskcache\\core.py\", line 857, in _row_insert\n",
      "    sql(\n",
      "sqlite3.OperationalError: no such column: \"size\" - should this be a string literal in single-quotes?\n",
      " 58%|█████▊    | 58/100 [00:40<00:29,  1.42it/s]\u001b[92m00:00:36 - LiteLLM:ERROR\u001b[0m: caching.py:645 - LiteLLM Cache: Excepton add_cache: no such column: \"size\" - should this be a string literal in single-quotes?\n",
      "Traceback (most recent call last):\n",
      "  File \"c:\\Users\\risko\\miniconda3\\envs\\prompt-classification\\Lib\\site-packages\\litellm\\llms\\openai\\openai.py\", line 726, in completion\n",
      "    raise e\n",
      "  File \"c:\\Users\\risko\\miniconda3\\envs\\prompt-classification\\Lib\\site-packages\\litellm\\llms\\openai\\openai.py\", line 653, in completion\n",
      "    self.make_sync_openai_chat_completion_request(\n",
      "  File \"c:\\Users\\risko\\miniconda3\\envs\\prompt-classification\\Lib\\site-packages\\litellm\\litellm_core_utils\\logging_utils.py\", line 145, in sync_wrapper\n",
      "    result = func(*args, **kwargs)\n",
      "             ^^^^^^^^^^^^^^^^^^^^^\n",
      "  File \"c:\\Users\\risko\\miniconda3\\envs\\prompt-classification\\Lib\\site-packages\\litellm\\llms\\openai\\openai.py\", line 472, in make_sync_openai_chat_completion_request\n",
      "    raise e\n",
      "  File \"c:\\Users\\risko\\miniconda3\\envs\\prompt-classification\\Lib\\site-packages\\litellm\\llms\\openai\\openai.py\", line 454, in make_sync_openai_chat_completion_request\n",
      "    raw_response = openai_client.chat.completions.with_raw_response.create(\n",
      "                   ^^^^^^^^^^^^^^^^^^^^^^^^^^^^^^^^^^^^^^^^^^^^^^^^^^^^^^^^\n",
      "  File \"c:\\Users\\risko\\miniconda3\\envs\\prompt-classification\\Lib\\site-packages\\openai\\_legacy_response.py\", line 364, in wrapped\n",
      "    return cast(LegacyAPIResponse[R], func(*args, **kwargs))\n",
      "                                      ^^^^^^^^^^^^^^^^^^^^^\n",
      "  File \"c:\\Users\\risko\\miniconda3\\envs\\prompt-classification\\Lib\\site-packages\\openai\\_utils\\_utils.py\", line 279, in wrapper\n",
      "    return func(*args, **kwargs)\n",
      "           ^^^^^^^^^^^^^^^^^^^^^\n",
      "  File \"c:\\Users\\risko\\miniconda3\\envs\\prompt-classification\\Lib\\site-packages\\openai\\resources\\chat\\completions\\completions.py\", line 879, in create\n",
      "    return self._post(\n",
      "           ^^^^^^^^^^^\n",
      "  File \"c:\\Users\\risko\\miniconda3\\envs\\prompt-classification\\Lib\\site-packages\\openai\\_base_client.py\", line 1290, in post\n",
      "    return cast(ResponseT, self.request(cast_to, opts, stream=stream, stream_cls=stream_cls))\n",
      "                           ^^^^^^^^^^^^^^^^^^^^^^^^^^^^^^^^^^^^^^^^^^^^^^^^^^^^^^^^^^^^^^^^^\n",
      "  File \"c:\\Users\\risko\\miniconda3\\envs\\prompt-classification\\Lib\\site-packages\\openai\\_base_client.py\", line 967, in request\n",
      "    return self._request(\n",
      "           ^^^^^^^^^^^^^^\n",
      "  File \"c:\\Users\\risko\\miniconda3\\envs\\prompt-classification\\Lib\\site-packages\\openai\\_base_client.py\", line 1071, in _request\n",
      "    raise self._make_status_error_from_response(err.response) from None\n",
      "openai.BadRequestError: Error code: 400 - {'error': {'message': \"litellm.BadRequestError: litellm.ContentPolicyViolationError: litellm.ContentPolicyViolationError: AzureException - The response was filtered due to the prompt triggering Azure OpenAI's content management policy. Please modify your prompt and retry. To learn more about our content filtering policies please read our documentation: https://go.microsoft.com/fwlink/?linkid=2198766\\nmodel=gpt-4o-mini. content_policy_fallback=None. fallbacks=None.\\n\\nSet 'content_policy_fallback' - https://docs.litellm.ai/docs/routing#fallbacks. Received Model Group=gpt-4o-mini\\nAvailable Model Group Fallbacks=None\", 'type': None, 'param': None, 'code': '400'}}\n",
      "\n",
      "During handling of the above exception, another exception occurred:\n",
      "\n",
      "Traceback (most recent call last):\n",
      "  File \"c:\\Users\\risko\\miniconda3\\envs\\prompt-classification\\Lib\\site-packages\\litellm\\main.py\", line 1724, in completion\n",
      "    raise e\n",
      "  File \"c:\\Users\\risko\\miniconda3\\envs\\prompt-classification\\Lib\\site-packages\\litellm\\main.py\", line 1697, in completion\n",
      "    response = openai_chat_completions.completion(\n",
      "               ^^^^^^^^^^^^^^^^^^^^^^^^^^^^^^^^^^^\n",
      "  File \"c:\\Users\\risko\\miniconda3\\envs\\prompt-classification\\Lib\\site-packages\\litellm\\llms\\openai\\openai.py\", line 736, in completion\n",
      "    raise OpenAIError(\n",
      "litellm.llms.openai.common_utils.OpenAIError: Error code: 400 - {'error': {'message': \"litellm.BadRequestError: litellm.ContentPolicyViolationError: litellm.ContentPolicyViolationError: AzureException - The response was filtered due to the prompt triggering Azure OpenAI's content management policy. Please modify your prompt and retry. To learn more about our content filtering policies please read our documentation: https://go.microsoft.com/fwlink/?linkid=2198766\\nmodel=gpt-4o-mini. content_policy_fallback=None. fallbacks=None.\\n\\nSet 'content_policy_fallback' - https://docs.litellm.ai/docs/routing#fallbacks. Received Model Group=gpt-4o-mini\\nAvailable Model Group Fallbacks=None\", 'type': None, 'param': None, 'code': '400'}}\n",
      "\n",
      "During handling of the above exception, another exception occurred:\n",
      "\n",
      "Traceback (most recent call last):\n",
      "  File \"c:\\Users\\risko\\miniconda3\\envs\\prompt-classification\\Lib\\site-packages\\litellm\\utils.py\", line 1068, in wrapper\n",
      "    result = original_function(*args, **kwargs)\n",
      "             ^^^^^^^^^^^^^^^^^^^^^^^^^^^^^^^^^^\n",
      "  File \"c:\\Users\\risko\\miniconda3\\envs\\prompt-classification\\Lib\\site-packages\\litellm\\main.py\", line 3085, in completion\n",
      "    raise exception_type(\n",
      "          ^^^^^^^^^^^^^^^\n",
      "  File \"c:\\Users\\risko\\miniconda3\\envs\\prompt-classification\\Lib\\site-packages\\litellm\\litellm_core_utils\\exception_mapping_utils.py\", line 2202, in exception_type\n",
      "    raise e\n",
      "  File \"c:\\Users\\risko\\miniconda3\\envs\\prompt-classification\\Lib\\site-packages\\litellm\\litellm_core_utils\\exception_mapping_utils.py\", line 382, in exception_type\n",
      "    raise BadRequestError(\n",
      "litellm.exceptions.BadRequestError: litellm.BadRequestError: OpenAIException - Error code: 400 - {'error': {'message': \"litellm.BadRequestError: litellm.ContentPolicyViolationError: litellm.ContentPolicyViolationError: AzureException - The response was filtered due to the prompt triggering Azure OpenAI's content management policy. Please modify your prompt and retry. To learn more about our content filtering policies please read our documentation: https://go.microsoft.com/fwlink/?linkid=2198766\\nmodel=gpt-4o-mini. content_policy_fallback=None. fallbacks=None.\\n\\nSet 'content_policy_fallback' - https://docs.litellm.ai/docs/routing#fallbacks. Received Model Group=gpt-4o-mini\\nAvailable Model Group Fallbacks=None\", 'type': None, 'param': None, 'code': '400'}}\n",
      "\n",
      "During handling of the above exception, another exception occurred:\n",
      "\n",
      "Traceback (most recent call last):\n",
      "  File \"c:\\Users\\risko\\miniconda3\\envs\\prompt-classification\\Lib\\site-packages\\litellm\\caching\\caching.py\", line 643, in add_cache\n",
      "    self.cache.set_cache(cache_key, cached_data, **kwargs)\n",
      "  File \"c:\\Users\\risko\\miniconda3\\envs\\prompt-classification\\Lib\\site-packages\\litellm\\caching\\disk_cache.py\", line 28, in set_cache\n",
      "    self.disk_cache.set(key, value)\n",
      "  File \"c:\\Users\\risko\\miniconda3\\envs\\prompt-classification\\Lib\\site-packages\\diskcache\\core.py\", line 808, in set\n",
      "    self._row_insert(db_key, raw, now, columns)\n",
      "  File \"c:\\Users\\risko\\miniconda3\\envs\\prompt-classification\\Lib\\site-packages\\diskcache\\core.py\", line 857, in _row_insert\n",
      "    sql(\n",
      "sqlite3.OperationalError: no such column: \"size\" - should this be a string literal in single-quotes?\n",
      " 59%|█████▉    | 59/100 [00:42<00:52,  1.28s/it]\u001b[92m00:00:36 - LiteLLM:ERROR\u001b[0m: caching.py:645 - LiteLLM Cache: Excepton add_cache: no such column: \"size\" - should this be a string literal in single-quotes?\n",
      "Traceback (most recent call last):\n",
      "  File \"c:\\Users\\risko\\miniconda3\\envs\\prompt-classification\\Lib\\site-packages\\litellm\\caching\\caching.py\", line 643, in add_cache\n",
      "    self.cache.set_cache(cache_key, cached_data, **kwargs)\n",
      "  File \"c:\\Users\\risko\\miniconda3\\envs\\prompt-classification\\Lib\\site-packages\\litellm\\caching\\disk_cache.py\", line 28, in set_cache\n",
      "    self.disk_cache.set(key, value)\n",
      "  File \"c:\\Users\\risko\\miniconda3\\envs\\prompt-classification\\Lib\\site-packages\\diskcache\\core.py\", line 808, in set\n",
      "    self._row_insert(db_key, raw, now, columns)\n",
      "  File \"c:\\Users\\risko\\miniconda3\\envs\\prompt-classification\\Lib\\site-packages\\diskcache\\core.py\", line 857, in _row_insert\n",
      "    sql(\n",
      "sqlite3.OperationalError: no such column: \"size\" - should this be a string literal in single-quotes?\n",
      " 60%|██████    | 60/100 [00:43<00:39,  1.01it/s]\u001b[92m00:00:36 - LiteLLM:ERROR\u001b[0m: caching.py:645 - LiteLLM Cache: Excepton add_cache: no such column: \"size\" - should this be a string literal in single-quotes?\n",
      "Traceback (most recent call last):\n",
      "  File \"c:\\Users\\risko\\miniconda3\\envs\\prompt-classification\\Lib\\site-packages\\litellm\\caching\\caching.py\", line 643, in add_cache\n",
      "    self.cache.set_cache(cache_key, cached_data, **kwargs)\n",
      "  File \"c:\\Users\\risko\\miniconda3\\envs\\prompt-classification\\Lib\\site-packages\\litellm\\caching\\disk_cache.py\", line 28, in set_cache\n",
      "    self.disk_cache.set(key, value)\n",
      "  File \"c:\\Users\\risko\\miniconda3\\envs\\prompt-classification\\Lib\\site-packages\\diskcache\\core.py\", line 808, in set\n",
      "    self._row_insert(db_key, raw, now, columns)\n",
      "  File \"c:\\Users\\risko\\miniconda3\\envs\\prompt-classification\\Lib\\site-packages\\diskcache\\core.py\", line 857, in _row_insert\n",
      "    sql(\n",
      "sqlite3.OperationalError: no such column: \"size\" - should this be a string literal in single-quotes?\n",
      " 61%|██████    | 61/100 [00:43<00:32,  1.22it/s]\u001b[92m00:00:38 - LiteLLM:ERROR\u001b[0m: caching.py:645 - LiteLLM Cache: Excepton add_cache: no such column: \"size\" - should this be a string literal in single-quotes?\n",
      "Traceback (most recent call last):\n",
      "  File \"c:\\Users\\risko\\miniconda3\\envs\\prompt-classification\\Lib\\site-packages\\litellm\\caching\\caching.py\", line 643, in add_cache\n",
      "    self.cache.set_cache(cache_key, cached_data, **kwargs)\n",
      "  File \"c:\\Users\\risko\\miniconda3\\envs\\prompt-classification\\Lib\\site-packages\\litellm\\caching\\disk_cache.py\", line 28, in set_cache\n",
      "    self.disk_cache.set(key, value)\n",
      "  File \"c:\\Users\\risko\\miniconda3\\envs\\prompt-classification\\Lib\\site-packages\\diskcache\\core.py\", line 808, in set\n",
      "    self._row_insert(db_key, raw, now, columns)\n",
      "  File \"c:\\Users\\risko\\miniconda3\\envs\\prompt-classification\\Lib\\site-packages\\diskcache\\core.py\", line 857, in _row_insert\n",
      "    sql(\n",
      "sqlite3.OperationalError: no such column: \"size\" - should this be a string literal in single-quotes?\n",
      " 62%|██████▏   | 62/100 [00:45<00:43,  1.13s/it]\u001b[92m00:00:39 - LiteLLM:ERROR\u001b[0m: caching.py:645 - LiteLLM Cache: Excepton add_cache: no such column: \"size\" - should this be a string literal in single-quotes?\n",
      "Traceback (most recent call last):\n",
      "  File \"c:\\Users\\risko\\miniconda3\\envs\\prompt-classification\\Lib\\site-packages\\litellm\\caching\\caching.py\", line 643, in add_cache\n",
      "    self.cache.set_cache(cache_key, cached_data, **kwargs)\n",
      "  File \"c:\\Users\\risko\\miniconda3\\envs\\prompt-classification\\Lib\\site-packages\\litellm\\caching\\disk_cache.py\", line 28, in set_cache\n",
      "    self.disk_cache.set(key, value)\n",
      "  File \"c:\\Users\\risko\\miniconda3\\envs\\prompt-classification\\Lib\\site-packages\\diskcache\\core.py\", line 808, in set\n",
      "    self._row_insert(db_key, raw, now, columns)\n",
      "  File \"c:\\Users\\risko\\miniconda3\\envs\\prompt-classification\\Lib\\site-packages\\diskcache\\core.py\", line 857, in _row_insert\n",
      "    sql(\n",
      "sqlite3.OperationalError: no such column: \"size\" - should this be a string literal in single-quotes?\n",
      " 63%|██████▎   | 63/100 [00:46<00:38,  1.05s/it]\u001b[92m00:00:40 - LiteLLM:ERROR\u001b[0m: caching.py:645 - LiteLLM Cache: Excepton add_cache: no such column: \"size\" - should this be a string literal in single-quotes?\n",
      "Traceback (most recent call last):\n",
      "  File \"c:\\Users\\risko\\miniconda3\\envs\\prompt-classification\\Lib\\site-packages\\litellm\\caching\\caching.py\", line 643, in add_cache\n",
      "    self.cache.set_cache(cache_key, cached_data, **kwargs)\n",
      "  File \"c:\\Users\\risko\\miniconda3\\envs\\prompt-classification\\Lib\\site-packages\\litellm\\caching\\disk_cache.py\", line 28, in set_cache\n",
      "    self.disk_cache.set(key, value)\n",
      "  File \"c:\\Users\\risko\\miniconda3\\envs\\prompt-classification\\Lib\\site-packages\\diskcache\\core.py\", line 808, in set\n",
      "    self._row_insert(db_key, raw, now, columns)\n",
      "  File \"c:\\Users\\risko\\miniconda3\\envs\\prompt-classification\\Lib\\site-packages\\diskcache\\core.py\", line 857, in _row_insert\n",
      "    sql(\n",
      "sqlite3.OperationalError: no such column: \"size\" - should this be a string literal in single-quotes?\n",
      " 64%|██████▍   | 64/100 [00:47<00:36,  1.00s/it]\u001b[92m00:00:41 - LiteLLM:ERROR\u001b[0m: caching.py:645 - LiteLLM Cache: Excepton add_cache: no such column: \"size\" - should this be a string literal in single-quotes?\n",
      "Traceback (most recent call last):\n",
      "  File \"c:\\Users\\risko\\miniconda3\\envs\\prompt-classification\\Lib\\site-packages\\litellm\\caching\\caching.py\", line 643, in add_cache\n",
      "    self.cache.set_cache(cache_key, cached_data, **kwargs)\n",
      "  File \"c:\\Users\\risko\\miniconda3\\envs\\prompt-classification\\Lib\\site-packages\\litellm\\caching\\disk_cache.py\", line 28, in set_cache\n",
      "    self.disk_cache.set(key, value)\n",
      "  File \"c:\\Users\\risko\\miniconda3\\envs\\prompt-classification\\Lib\\site-packages\\diskcache\\core.py\", line 808, in set\n",
      "    self._row_insert(db_key, raw, now, columns)\n",
      "  File \"c:\\Users\\risko\\miniconda3\\envs\\prompt-classification\\Lib\\site-packages\\diskcache\\core.py\", line 857, in _row_insert\n",
      "    sql(\n",
      "sqlite3.OperationalError: no such column: \"size\" - should this be a string literal in single-quotes?\n",
      " 65%|██████▌   | 65/100 [00:48<00:36,  1.05s/it]\u001b[92m00:00:42 - LiteLLM:ERROR\u001b[0m: caching.py:645 - LiteLLM Cache: Excepton add_cache: no such column: \"size\" - should this be a string literal in single-quotes?\n",
      "Traceback (most recent call last):\n",
      "  File \"c:\\Users\\risko\\miniconda3\\envs\\prompt-classification\\Lib\\site-packages\\litellm\\caching\\caching.py\", line 643, in add_cache\n",
      "    self.cache.set_cache(cache_key, cached_data, **kwargs)\n",
      "  File \"c:\\Users\\risko\\miniconda3\\envs\\prompt-classification\\Lib\\site-packages\\litellm\\caching\\disk_cache.py\", line 28, in set_cache\n",
      "    self.disk_cache.set(key, value)\n",
      "  File \"c:\\Users\\risko\\miniconda3\\envs\\prompt-classification\\Lib\\site-packages\\diskcache\\core.py\", line 808, in set\n",
      "    self._row_insert(db_key, raw, now, columns)\n",
      "  File \"c:\\Users\\risko\\miniconda3\\envs\\prompt-classification\\Lib\\site-packages\\diskcache\\core.py\", line 857, in _row_insert\n",
      "    sql(\n",
      "sqlite3.OperationalError: no such column: \"size\" - should this be a string literal in single-quotes?\n",
      " 66%|██████▌   | 66/100 [00:49<00:32,  1.03it/s]\u001b[92m00:00:45 - LiteLLM:ERROR\u001b[0m: caching.py:645 - LiteLLM Cache: Excepton add_cache: no such column: \"size\" - should this be a string literal in single-quotes?\n",
      "Traceback (most recent call last):\n",
      "  File \"c:\\Users\\risko\\miniconda3\\envs\\prompt-classification\\Lib\\site-packages\\litellm\\caching\\caching.py\", line 643, in add_cache\n",
      "    self.cache.set_cache(cache_key, cached_data, **kwargs)\n",
      "  File \"c:\\Users\\risko\\miniconda3\\envs\\prompt-classification\\Lib\\site-packages\\litellm\\caching\\disk_cache.py\", line 28, in set_cache\n",
      "    self.disk_cache.set(key, value)\n",
      "  File \"c:\\Users\\risko\\miniconda3\\envs\\prompt-classification\\Lib\\site-packages\\diskcache\\core.py\", line 808, in set\n",
      "    self._row_insert(db_key, raw, now, columns)\n",
      "  File \"c:\\Users\\risko\\miniconda3\\envs\\prompt-classification\\Lib\\site-packages\\diskcache\\core.py\", line 857, in _row_insert\n",
      "    sql(\n",
      "sqlite3.OperationalError: no such column: \"size\" - should this be a string literal in single-quotes?\n",
      " 67%|██████▋   | 67/100 [00:52<00:52,  1.58s/it]\u001b[92m00:00:46 - LiteLLM:ERROR\u001b[0m: caching.py:645 - LiteLLM Cache: Excepton add_cache: no such column: \"size\" - should this be a string literal in single-quotes?\n",
      "Traceback (most recent call last):\n",
      "  File \"c:\\Users\\risko\\miniconda3\\envs\\prompt-classification\\Lib\\site-packages\\litellm\\caching\\caching.py\", line 643, in add_cache\n",
      "    self.cache.set_cache(cache_key, cached_data, **kwargs)\n",
      "  File \"c:\\Users\\risko\\miniconda3\\envs\\prompt-classification\\Lib\\site-packages\\litellm\\caching\\disk_cache.py\", line 28, in set_cache\n",
      "    self.disk_cache.set(key, value)\n",
      "  File \"c:\\Users\\risko\\miniconda3\\envs\\prompt-classification\\Lib\\site-packages\\diskcache\\core.py\", line 808, in set\n",
      "    self._row_insert(db_key, raw, now, columns)\n",
      "  File \"c:\\Users\\risko\\miniconda3\\envs\\prompt-classification\\Lib\\site-packages\\diskcache\\core.py\", line 857, in _row_insert\n",
      "    sql(\n",
      "sqlite3.OperationalError: no such column: \"size\" - should this be a string literal in single-quotes?\n",
      " 68%|██████▊   | 68/100 [00:52<00:43,  1.37s/it]\u001b[92m00:00:47 - LiteLLM:ERROR\u001b[0m: caching.py:645 - LiteLLM Cache: Excepton add_cache: no such column: \"size\" - should this be a string literal in single-quotes?\n",
      "Traceback (most recent call last):\n",
      "  File \"c:\\Users\\risko\\miniconda3\\envs\\prompt-classification\\Lib\\site-packages\\litellm\\caching\\caching.py\", line 643, in add_cache\n",
      "    self.cache.set_cache(cache_key, cached_data, **kwargs)\n",
      "  File \"c:\\Users\\risko\\miniconda3\\envs\\prompt-classification\\Lib\\site-packages\\litellm\\caching\\disk_cache.py\", line 28, in set_cache\n",
      "    self.disk_cache.set(key, value)\n",
      "  File \"c:\\Users\\risko\\miniconda3\\envs\\prompt-classification\\Lib\\site-packages\\diskcache\\core.py\", line 808, in set\n",
      "    self._row_insert(db_key, raw, now, columns)\n",
      "  File \"c:\\Users\\risko\\miniconda3\\envs\\prompt-classification\\Lib\\site-packages\\diskcache\\core.py\", line 857, in _row_insert\n",
      "    sql(\n",
      "sqlite3.OperationalError: no such column: \"size\" - should this be a string literal in single-quotes?\n",
      " 69%|██████▉   | 69/100 [00:53<00:37,  1.20s/it]\u001b[92m00:00:47 - LiteLLM:ERROR\u001b[0m: caching.py:645 - LiteLLM Cache: Excepton add_cache: no such column: \"size\" - should this be a string literal in single-quotes?\n",
      "Traceback (most recent call last):\n",
      "  File \"c:\\Users\\risko\\miniconda3\\envs\\prompt-classification\\Lib\\site-packages\\litellm\\caching\\caching.py\", line 643, in add_cache\n",
      "    self.cache.set_cache(cache_key, cached_data, **kwargs)\n",
      "  File \"c:\\Users\\risko\\miniconda3\\envs\\prompt-classification\\Lib\\site-packages\\litellm\\caching\\disk_cache.py\", line 28, in set_cache\n",
      "    self.disk_cache.set(key, value)\n",
      "  File \"c:\\Users\\risko\\miniconda3\\envs\\prompt-classification\\Lib\\site-packages\\diskcache\\core.py\", line 808, in set\n",
      "    self._row_insert(db_key, raw, now, columns)\n",
      "  File \"c:\\Users\\risko\\miniconda3\\envs\\prompt-classification\\Lib\\site-packages\\diskcache\\core.py\", line 857, in _row_insert\n",
      "    sql(\n",
      "sqlite3.OperationalError: no such column: \"size\" - should this be a string literal in single-quotes?\n",
      " 70%|███████   | 70/100 [00:54<00:29,  1.03it/s]\u001b[92m00:00:48 - LiteLLM:ERROR\u001b[0m: caching.py:645 - LiteLLM Cache: Excepton add_cache: no such column: \"size\" - should this be a string literal in single-quotes?\n",
      "Traceback (most recent call last):\n",
      "  File \"c:\\Users\\risko\\miniconda3\\envs\\prompt-classification\\Lib\\site-packages\\litellm\\caching\\caching.py\", line 643, in add_cache\n",
      "    self.cache.set_cache(cache_key, cached_data, **kwargs)\n",
      "  File \"c:\\Users\\risko\\miniconda3\\envs\\prompt-classification\\Lib\\site-packages\\litellm\\caching\\disk_cache.py\", line 28, in set_cache\n",
      "    self.disk_cache.set(key, value)\n",
      "  File \"c:\\Users\\risko\\miniconda3\\envs\\prompt-classification\\Lib\\site-packages\\diskcache\\core.py\", line 808, in set\n",
      "    self._row_insert(db_key, raw, now, columns)\n",
      "  File \"c:\\Users\\risko\\miniconda3\\envs\\prompt-classification\\Lib\\site-packages\\diskcache\\core.py\", line 857, in _row_insert\n",
      "    sql(\n",
      "sqlite3.OperationalError: no such column: \"size\" - should this be a string literal in single-quotes?\n",
      " 71%|███████   | 71/100 [00:54<00:26,  1.09it/s]\u001b[92m00:00:48 - LiteLLM:ERROR\u001b[0m: caching.py:645 - LiteLLM Cache: Excepton add_cache: no such column: \"size\" - should this be a string literal in single-quotes?\n",
      "Traceback (most recent call last):\n",
      "  File \"c:\\Users\\risko\\miniconda3\\envs\\prompt-classification\\Lib\\site-packages\\litellm\\caching\\caching.py\", line 643, in add_cache\n",
      "    self.cache.set_cache(cache_key, cached_data, **kwargs)\n",
      "  File \"c:\\Users\\risko\\miniconda3\\envs\\prompt-classification\\Lib\\site-packages\\litellm\\caching\\disk_cache.py\", line 28, in set_cache\n",
      "    self.disk_cache.set(key, value)\n",
      "  File \"c:\\Users\\risko\\miniconda3\\envs\\prompt-classification\\Lib\\site-packages\\diskcache\\core.py\", line 808, in set\n",
      "    self._row_insert(db_key, raw, now, columns)\n",
      "  File \"c:\\Users\\risko\\miniconda3\\envs\\prompt-classification\\Lib\\site-packages\\diskcache\\core.py\", line 857, in _row_insert\n",
      "    sql(\n",
      "sqlite3.OperationalError: no such column: \"size\" - should this be a string literal in single-quotes?\n",
      " 72%|███████▏  | 72/100 [00:55<00:20,  1.39it/s]\u001b[92m00:00:48 - LiteLLM:ERROR\u001b[0m: caching.py:645 - LiteLLM Cache: Excepton add_cache: no such column: \"size\" - should this be a string literal in single-quotes?\n",
      "Traceback (most recent call last):\n",
      "  File \"c:\\Users\\risko\\miniconda3\\envs\\prompt-classification\\Lib\\site-packages\\litellm\\caching\\caching.py\", line 643, in add_cache\n",
      "    self.cache.set_cache(cache_key, cached_data, **kwargs)\n",
      "  File \"c:\\Users\\risko\\miniconda3\\envs\\prompt-classification\\Lib\\site-packages\\litellm\\caching\\disk_cache.py\", line 28, in set_cache\n",
      "    self.disk_cache.set(key, value)\n",
      "  File \"c:\\Users\\risko\\miniconda3\\envs\\prompt-classification\\Lib\\site-packages\\diskcache\\core.py\", line 808, in set\n",
      "    self._row_insert(db_key, raw, now, columns)\n",
      "  File \"c:\\Users\\risko\\miniconda3\\envs\\prompt-classification\\Lib\\site-packages\\diskcache\\core.py\", line 857, in _row_insert\n",
      "    sql(\n",
      "sqlite3.OperationalError: no such column: \"size\" - should this be a string literal in single-quotes?\n",
      " 73%|███████▎  | 73/100 [00:55<00:15,  1.71it/s]\u001b[92m00:00:49 - LiteLLM:ERROR\u001b[0m: caching.py:645 - LiteLLM Cache: Excepton add_cache: no such column: \"size\" - should this be a string literal in single-quotes?\n",
      "Traceback (most recent call last):\n",
      "  File \"c:\\Users\\risko\\miniconda3\\envs\\prompt-classification\\Lib\\site-packages\\litellm\\caching\\caching.py\", line 643, in add_cache\n",
      "    self.cache.set_cache(cache_key, cached_data, **kwargs)\n",
      "  File \"c:\\Users\\risko\\miniconda3\\envs\\prompt-classification\\Lib\\site-packages\\litellm\\caching\\disk_cache.py\", line 28, in set_cache\n",
      "    self.disk_cache.set(key, value)\n",
      "  File \"c:\\Users\\risko\\miniconda3\\envs\\prompt-classification\\Lib\\site-packages\\diskcache\\core.py\", line 808, in set\n",
      "    self._row_insert(db_key, raw, now, columns)\n",
      "  File \"c:\\Users\\risko\\miniconda3\\envs\\prompt-classification\\Lib\\site-packages\\diskcache\\core.py\", line 857, in _row_insert\n",
      "    sql(\n",
      "sqlite3.OperationalError: no such column: \"size\" - should this be a string literal in single-quotes?\n",
      " 74%|███████▍  | 74/100 [00:56<00:17,  1.52it/s]\u001b[92m00:00:49 - LiteLLM:ERROR\u001b[0m: caching.py:645 - LiteLLM Cache: Excepton add_cache: no such column: \"size\" - should this be a string literal in single-quotes?\n",
      "Traceback (most recent call last):\n",
      "  File \"c:\\Users\\risko\\miniconda3\\envs\\prompt-classification\\Lib\\site-packages\\litellm\\caching\\caching.py\", line 643, in add_cache\n",
      "    self.cache.set_cache(cache_key, cached_data, **kwargs)\n",
      "  File \"c:\\Users\\risko\\miniconda3\\envs\\prompt-classification\\Lib\\site-packages\\litellm\\caching\\disk_cache.py\", line 28, in set_cache\n",
      "    self.disk_cache.set(key, value)\n",
      "  File \"c:\\Users\\risko\\miniconda3\\envs\\prompt-classification\\Lib\\site-packages\\diskcache\\core.py\", line 808, in set\n",
      "    self._row_insert(db_key, raw, now, columns)\n",
      "  File \"c:\\Users\\risko\\miniconda3\\envs\\prompt-classification\\Lib\\site-packages\\diskcache\\core.py\", line 857, in _row_insert\n",
      "    sql(\n",
      "sqlite3.OperationalError: no such column: \"size\" - should this be a string literal in single-quotes?\n",
      " 75%|███████▌  | 75/100 [00:56<00:13,  1.81it/s]\u001b[92m00:00:50 - LiteLLM:ERROR\u001b[0m: caching.py:645 - LiteLLM Cache: Excepton add_cache: no such column: \"size\" - should this be a string literal in single-quotes?\n",
      "Traceback (most recent call last):\n",
      "  File \"c:\\Users\\risko\\miniconda3\\envs\\prompt-classification\\Lib\\site-packages\\litellm\\caching\\caching.py\", line 643, in add_cache\n",
      "    self.cache.set_cache(cache_key, cached_data, **kwargs)\n",
      "  File \"c:\\Users\\risko\\miniconda3\\envs\\prompt-classification\\Lib\\site-packages\\litellm\\caching\\disk_cache.py\", line 28, in set_cache\n",
      "    self.disk_cache.set(key, value)\n",
      "  File \"c:\\Users\\risko\\miniconda3\\envs\\prompt-classification\\Lib\\site-packages\\diskcache\\core.py\", line 808, in set\n",
      "    self._row_insert(db_key, raw, now, columns)\n",
      "  File \"c:\\Users\\risko\\miniconda3\\envs\\prompt-classification\\Lib\\site-packages\\diskcache\\core.py\", line 857, in _row_insert\n",
      "    sql(\n",
      "sqlite3.OperationalError: no such column: \"size\" - should this be a string literal in single-quotes?\n",
      " 76%|███████▌  | 76/100 [00:57<00:16,  1.44it/s]\u001b[92m00:00:51 - LiteLLM:ERROR\u001b[0m: caching.py:645 - LiteLLM Cache: Excepton add_cache: no such column: \"size\" - should this be a string literal in single-quotes?\n",
      "Traceback (most recent call last):\n",
      "  File \"c:\\Users\\risko\\miniconda3\\envs\\prompt-classification\\Lib\\site-packages\\litellm\\caching\\caching.py\", line 643, in add_cache\n",
      "    self.cache.set_cache(cache_key, cached_data, **kwargs)\n",
      "  File \"c:\\Users\\risko\\miniconda3\\envs\\prompt-classification\\Lib\\site-packages\\litellm\\caching\\disk_cache.py\", line 28, in set_cache\n",
      "    self.disk_cache.set(key, value)\n",
      "  File \"c:\\Users\\risko\\miniconda3\\envs\\prompt-classification\\Lib\\site-packages\\diskcache\\core.py\", line 808, in set\n",
      "    self._row_insert(db_key, raw, now, columns)\n",
      "  File \"c:\\Users\\risko\\miniconda3\\envs\\prompt-classification\\Lib\\site-packages\\diskcache\\core.py\", line 857, in _row_insert\n",
      "    sql(\n",
      "sqlite3.OperationalError: no such column: \"size\" - should this be a string literal in single-quotes?\n",
      " 77%|███████▋  | 77/100 [00:58<00:15,  1.44it/s]\u001b[92m00:00:51 - LiteLLM:ERROR\u001b[0m: caching.py:645 - LiteLLM Cache: Excepton add_cache: no such column: \"size\" - should this be a string literal in single-quotes?\n",
      "Traceback (most recent call last):\n",
      "  File \"c:\\Users\\risko\\miniconda3\\envs\\prompt-classification\\Lib\\site-packages\\litellm\\caching\\caching.py\", line 643, in add_cache\n",
      "    self.cache.set_cache(cache_key, cached_data, **kwargs)\n",
      "  File \"c:\\Users\\risko\\miniconda3\\envs\\prompt-classification\\Lib\\site-packages\\litellm\\caching\\disk_cache.py\", line 28, in set_cache\n",
      "    self.disk_cache.set(key, value)\n",
      "  File \"c:\\Users\\risko\\miniconda3\\envs\\prompt-classification\\Lib\\site-packages\\diskcache\\core.py\", line 808, in set\n",
      "    self._row_insert(db_key, raw, now, columns)\n",
      "  File \"c:\\Users\\risko\\miniconda3\\envs\\prompt-classification\\Lib\\site-packages\\diskcache\\core.py\", line 857, in _row_insert\n",
      "    sql(\n",
      "sqlite3.OperationalError: no such column: \"size\" - should this be a string literal in single-quotes?\n",
      " 78%|███████▊  | 78/100 [00:58<00:12,  1.74it/s]\u001b[92m00:00:52 - LiteLLM:ERROR\u001b[0m: caching.py:645 - LiteLLM Cache: Excepton add_cache: no such column: \"size\" - should this be a string literal in single-quotes?\n",
      "Traceback (most recent call last):\n",
      "  File \"c:\\Users\\risko\\miniconda3\\envs\\prompt-classification\\Lib\\site-packages\\litellm\\caching\\caching.py\", line 643, in add_cache\n",
      "    self.cache.set_cache(cache_key, cached_data, **kwargs)\n",
      "  File \"c:\\Users\\risko\\miniconda3\\envs\\prompt-classification\\Lib\\site-packages\\litellm\\caching\\disk_cache.py\", line 28, in set_cache\n",
      "    self.disk_cache.set(key, value)\n",
      "  File \"c:\\Users\\risko\\miniconda3\\envs\\prompt-classification\\Lib\\site-packages\\diskcache\\core.py\", line 808, in set\n",
      "    self._row_insert(db_key, raw, now, columns)\n",
      "  File \"c:\\Users\\risko\\miniconda3\\envs\\prompt-classification\\Lib\\site-packages\\diskcache\\core.py\", line 857, in _row_insert\n",
      "    sql(\n",
      "sqlite3.OperationalError: no such column: \"size\" - should this be a string literal in single-quotes?\n",
      " 79%|███████▉  | 79/100 [00:59<00:13,  1.56it/s]\u001b[92m00:00:53 - LiteLLM:ERROR\u001b[0m: caching.py:645 - LiteLLM Cache: Excepton add_cache: no such column: \"size\" - should this be a string literal in single-quotes?\n",
      "Traceback (most recent call last):\n",
      "  File \"c:\\Users\\risko\\miniconda3\\envs\\prompt-classification\\Lib\\site-packages\\litellm\\caching\\caching.py\", line 643, in add_cache\n",
      "    self.cache.set_cache(cache_key, cached_data, **kwargs)\n",
      "  File \"c:\\Users\\risko\\miniconda3\\envs\\prompt-classification\\Lib\\site-packages\\litellm\\caching\\disk_cache.py\", line 28, in set_cache\n",
      "    self.disk_cache.set(key, value)\n",
      "  File \"c:\\Users\\risko\\miniconda3\\envs\\prompt-classification\\Lib\\site-packages\\diskcache\\core.py\", line 808, in set\n",
      "    self._row_insert(db_key, raw, now, columns)\n",
      "  File \"c:\\Users\\risko\\miniconda3\\envs\\prompt-classification\\Lib\\site-packages\\diskcache\\core.py\", line 857, in _row_insert\n",
      "    sql(\n",
      "sqlite3.OperationalError: no such column: \"size\" - should this be a string literal in single-quotes?\n",
      " 80%|████████  | 80/100 [01:00<00:13,  1.46it/s]\u001b[92m00:00:54 - LiteLLM:ERROR\u001b[0m: caching.py:645 - LiteLLM Cache: Excepton add_cache: no such column: \"size\" - should this be a string literal in single-quotes?\n",
      "Traceback (most recent call last):\n",
      "  File \"c:\\Users\\risko\\miniconda3\\envs\\prompt-classification\\Lib\\site-packages\\litellm\\caching\\caching.py\", line 643, in add_cache\n",
      "    self.cache.set_cache(cache_key, cached_data, **kwargs)\n",
      "  File \"c:\\Users\\risko\\miniconda3\\envs\\prompt-classification\\Lib\\site-packages\\litellm\\caching\\disk_cache.py\", line 28, in set_cache\n",
      "    self.disk_cache.set(key, value)\n",
      "  File \"c:\\Users\\risko\\miniconda3\\envs\\prompt-classification\\Lib\\site-packages\\diskcache\\core.py\", line 808, in set\n",
      "    self._row_insert(db_key, raw, now, columns)\n",
      "  File \"c:\\Users\\risko\\miniconda3\\envs\\prompt-classification\\Lib\\site-packages\\diskcache\\core.py\", line 857, in _row_insert\n",
      "    sql(\n",
      "sqlite3.OperationalError: no such column: \"size\" - should this be a string literal in single-quotes?\n",
      " 81%|████████  | 81/100 [01:01<00:14,  1.35it/s]\u001b[92m00:00:54 - LiteLLM:ERROR\u001b[0m: caching.py:645 - LiteLLM Cache: Excepton add_cache: no such column: \"size\" - should this be a string literal in single-quotes?\n",
      "Traceback (most recent call last):\n",
      "  File \"c:\\Users\\risko\\miniconda3\\envs\\prompt-classification\\Lib\\site-packages\\litellm\\caching\\caching.py\", line 643, in add_cache\n",
      "    self.cache.set_cache(cache_key, cached_data, **kwargs)\n",
      "  File \"c:\\Users\\risko\\miniconda3\\envs\\prompt-classification\\Lib\\site-packages\\litellm\\caching\\disk_cache.py\", line 28, in set_cache\n",
      "    self.disk_cache.set(key, value)\n",
      "  File \"c:\\Users\\risko\\miniconda3\\envs\\prompt-classification\\Lib\\site-packages\\diskcache\\core.py\", line 808, in set\n",
      "    self._row_insert(db_key, raw, now, columns)\n",
      "  File \"c:\\Users\\risko\\miniconda3\\envs\\prompt-classification\\Lib\\site-packages\\diskcache\\core.py\", line 857, in _row_insert\n",
      "    sql(\n",
      "sqlite3.OperationalError: no such column: \"size\" - should this be a string literal in single-quotes?\n",
      " 82%|████████▏ | 82/100 [01:01<00:10,  1.67it/s]\u001b[92m00:00:55 - LiteLLM:ERROR\u001b[0m: caching.py:645 - LiteLLM Cache: Excepton add_cache: no such column: \"size\" - should this be a string literal in single-quotes?\n",
      "Traceback (most recent call last):\n",
      "  File \"c:\\Users\\risko\\miniconda3\\envs\\prompt-classification\\Lib\\site-packages\\litellm\\caching\\caching.py\", line 643, in add_cache\n",
      "    self.cache.set_cache(cache_key, cached_data, **kwargs)\n",
      "  File \"c:\\Users\\risko\\miniconda3\\envs\\prompt-classification\\Lib\\site-packages\\litellm\\caching\\disk_cache.py\", line 28, in set_cache\n",
      "    self.disk_cache.set(key, value)\n",
      "  File \"c:\\Users\\risko\\miniconda3\\envs\\prompt-classification\\Lib\\site-packages\\diskcache\\core.py\", line 808, in set\n",
      "    self._row_insert(db_key, raw, now, columns)\n",
      "  File \"c:\\Users\\risko\\miniconda3\\envs\\prompt-classification\\Lib\\site-packages\\diskcache\\core.py\", line 857, in _row_insert\n",
      "    sql(\n",
      "sqlite3.OperationalError: no such column: \"size\" - should this be a string literal in single-quotes?\n",
      " 83%|████████▎ | 83/100 [01:02<00:11,  1.54it/s]\u001b[92m00:00:55 - LiteLLM:ERROR\u001b[0m: caching.py:645 - LiteLLM Cache: Excepton add_cache: no such column: \"size\" - should this be a string literal in single-quotes?\n",
      "Traceback (most recent call last):\n",
      "  File \"c:\\Users\\risko\\miniconda3\\envs\\prompt-classification\\Lib\\site-packages\\litellm\\caching\\caching.py\", line 643, in add_cache\n",
      "    self.cache.set_cache(cache_key, cached_data, **kwargs)\n",
      "  File \"c:\\Users\\risko\\miniconda3\\envs\\prompt-classification\\Lib\\site-packages\\litellm\\caching\\disk_cache.py\", line 28, in set_cache\n",
      "    self.disk_cache.set(key, value)\n",
      "  File \"c:\\Users\\risko\\miniconda3\\envs\\prompt-classification\\Lib\\site-packages\\diskcache\\core.py\", line 808, in set\n",
      "    self._row_insert(db_key, raw, now, columns)\n",
      "  File \"c:\\Users\\risko\\miniconda3\\envs\\prompt-classification\\Lib\\site-packages\\diskcache\\core.py\", line 857, in _row_insert\n",
      "    sql(\n",
      "sqlite3.OperationalError: no such column: \"size\" - should this be a string literal in single-quotes?\n",
      " 84%|████████▍ | 84/100 [01:02<00:08,  1.85it/s]\u001b[92m00:00:55 - LiteLLM:ERROR\u001b[0m: caching.py:645 - LiteLLM Cache: Excepton add_cache: no such column: \"size\" - should this be a string literal in single-quotes?\n",
      "Traceback (most recent call last):\n",
      "  File \"c:\\Users\\risko\\miniconda3\\envs\\prompt-classification\\Lib\\site-packages\\litellm\\caching\\caching.py\", line 643, in add_cache\n",
      "    self.cache.set_cache(cache_key, cached_data, **kwargs)\n",
      "  File \"c:\\Users\\risko\\miniconda3\\envs\\prompt-classification\\Lib\\site-packages\\litellm\\caching\\disk_cache.py\", line 28, in set_cache\n",
      "    self.disk_cache.set(key, value)\n",
      "  File \"c:\\Users\\risko\\miniconda3\\envs\\prompt-classification\\Lib\\site-packages\\diskcache\\core.py\", line 808, in set\n",
      "    self._row_insert(db_key, raw, now, columns)\n",
      "  File \"c:\\Users\\risko\\miniconda3\\envs\\prompt-classification\\Lib\\site-packages\\diskcache\\core.py\", line 857, in _row_insert\n",
      "    sql(\n",
      "sqlite3.OperationalError: no such column: \"size\" - should this be a string literal in single-quotes?\n",
      " 85%|████████▌ | 85/100 [01:02<00:06,  2.18it/s]\u001b[92m00:00:56 - LiteLLM:ERROR\u001b[0m: caching.py:645 - LiteLLM Cache: Excepton add_cache: no such column: \"size\" - should this be a string literal in single-quotes?\n",
      "Traceback (most recent call last):\n",
      "  File \"c:\\Users\\risko\\miniconda3\\envs\\prompt-classification\\Lib\\site-packages\\litellm\\caching\\caching.py\", line 643, in add_cache\n",
      "    self.cache.set_cache(cache_key, cached_data, **kwargs)\n",
      "  File \"c:\\Users\\risko\\miniconda3\\envs\\prompt-classification\\Lib\\site-packages\\litellm\\caching\\disk_cache.py\", line 28, in set_cache\n",
      "    self.disk_cache.set(key, value)\n",
      "  File \"c:\\Users\\risko\\miniconda3\\envs\\prompt-classification\\Lib\\site-packages\\diskcache\\core.py\", line 808, in set\n",
      "    self._row_insert(db_key, raw, now, columns)\n",
      "  File \"c:\\Users\\risko\\miniconda3\\envs\\prompt-classification\\Lib\\site-packages\\diskcache\\core.py\", line 857, in _row_insert\n",
      "    sql(\n",
      "sqlite3.OperationalError: no such column: \"size\" - should this be a string literal in single-quotes?\n",
      " 86%|████████▌ | 86/100 [01:03<00:08,  1.65it/s]\u001b[92m00:00:57 - LiteLLM:ERROR\u001b[0m: caching.py:645 - LiteLLM Cache: Excepton add_cache: no such column: \"size\" - should this be a string literal in single-quotes?\n",
      "Traceback (most recent call last):\n",
      "  File \"c:\\Users\\risko\\miniconda3\\envs\\prompt-classification\\Lib\\site-packages\\litellm\\caching\\caching.py\", line 643, in add_cache\n",
      "    self.cache.set_cache(cache_key, cached_data, **kwargs)\n",
      "  File \"c:\\Users\\risko\\miniconda3\\envs\\prompt-classification\\Lib\\site-packages\\litellm\\caching\\disk_cache.py\", line 28, in set_cache\n",
      "    self.disk_cache.set(key, value)\n",
      "  File \"c:\\Users\\risko\\miniconda3\\envs\\prompt-classification\\Lib\\site-packages\\diskcache\\core.py\", line 808, in set\n",
      "    self._row_insert(db_key, raw, now, columns)\n",
      "  File \"c:\\Users\\risko\\miniconda3\\envs\\prompt-classification\\Lib\\site-packages\\diskcache\\core.py\", line 857, in _row_insert\n",
      "    sql(\n",
      "sqlite3.OperationalError: no such column: \"size\" - should this be a string literal in single-quotes?\n",
      " 87%|████████▋ | 87/100 [01:04<00:08,  1.55it/s]\u001b[92m00:00:58 - LiteLLM:ERROR\u001b[0m: caching.py:645 - LiteLLM Cache: Excepton add_cache: no such column: \"size\" - should this be a string literal in single-quotes?\n",
      "Traceback (most recent call last):\n",
      "  File \"c:\\Users\\risko\\miniconda3\\envs\\prompt-classification\\Lib\\site-packages\\litellm\\caching\\caching.py\", line 643, in add_cache\n",
      "    self.cache.set_cache(cache_key, cached_data, **kwargs)\n",
      "  File \"c:\\Users\\risko\\miniconda3\\envs\\prompt-classification\\Lib\\site-packages\\litellm\\caching\\disk_cache.py\", line 28, in set_cache\n",
      "    self.disk_cache.set(key, value)\n",
      "  File \"c:\\Users\\risko\\miniconda3\\envs\\prompt-classification\\Lib\\site-packages\\diskcache\\core.py\", line 808, in set\n",
      "    self._row_insert(db_key, raw, now, columns)\n",
      "  File \"c:\\Users\\risko\\miniconda3\\envs\\prompt-classification\\Lib\\site-packages\\diskcache\\core.py\", line 857, in _row_insert\n",
      "    sql(\n",
      "sqlite3.OperationalError: no such column: \"size\" - should this be a string literal in single-quotes?\n",
      " 88%|████████▊ | 88/100 [01:05<00:08,  1.42it/s]\u001b[92m00:00:59 - LiteLLM:ERROR\u001b[0m: caching.py:645 - LiteLLM Cache: Excepton add_cache: no such column: \"size\" - should this be a string literal in single-quotes?\n",
      "Traceback (most recent call last):\n",
      "  File \"c:\\Users\\risko\\miniconda3\\envs\\prompt-classification\\Lib\\site-packages\\litellm\\caching\\caching.py\", line 643, in add_cache\n",
      "    self.cache.set_cache(cache_key, cached_data, **kwargs)\n",
      "  File \"c:\\Users\\risko\\miniconda3\\envs\\prompt-classification\\Lib\\site-packages\\litellm\\caching\\disk_cache.py\", line 28, in set_cache\n",
      "    self.disk_cache.set(key, value)\n",
      "  File \"c:\\Users\\risko\\miniconda3\\envs\\prompt-classification\\Lib\\site-packages\\diskcache\\core.py\", line 808, in set\n",
      "    self._row_insert(db_key, raw, now, columns)\n",
      "  File \"c:\\Users\\risko\\miniconda3\\envs\\prompt-classification\\Lib\\site-packages\\diskcache\\core.py\", line 857, in _row_insert\n",
      "    sql(\n",
      "sqlite3.OperationalError: no such column: \"size\" - should this be a string literal in single-quotes?\n",
      " 89%|████████▉ | 89/100 [01:05<00:07,  1.41it/s]\u001b[92m00:00:59 - LiteLLM:ERROR\u001b[0m: caching.py:645 - LiteLLM Cache: Excepton add_cache: no such column: \"size\" - should this be a string literal in single-quotes?\n",
      "Traceback (most recent call last):\n",
      "  File \"c:\\Users\\risko\\miniconda3\\envs\\prompt-classification\\Lib\\site-packages\\litellm\\caching\\caching.py\", line 643, in add_cache\n",
      "    self.cache.set_cache(cache_key, cached_data, **kwargs)\n",
      "  File \"c:\\Users\\risko\\miniconda3\\envs\\prompt-classification\\Lib\\site-packages\\litellm\\caching\\disk_cache.py\", line 28, in set_cache\n",
      "    self.disk_cache.set(key, value)\n",
      "  File \"c:\\Users\\risko\\miniconda3\\envs\\prompt-classification\\Lib\\site-packages\\diskcache\\core.py\", line 808, in set\n",
      "    self._row_insert(db_key, raw, now, columns)\n",
      "  File \"c:\\Users\\risko\\miniconda3\\envs\\prompt-classification\\Lib\\site-packages\\diskcache\\core.py\", line 857, in _row_insert\n",
      "    sql(\n",
      "sqlite3.OperationalError: no such column: \"size\" - should this be a string literal in single-quotes?\n",
      " 90%|█████████ | 90/100 [01:06<00:05,  1.71it/s]\u001b[92m00:00:59 - LiteLLM:ERROR\u001b[0m: caching.py:645 - LiteLLM Cache: Excepton add_cache: no such column: \"size\" - should this be a string literal in single-quotes?\n",
      "Traceback (most recent call last):\n",
      "  File \"c:\\Users\\risko\\miniconda3\\envs\\prompt-classification\\Lib\\site-packages\\litellm\\caching\\caching.py\", line 643, in add_cache\n",
      "    self.cache.set_cache(cache_key, cached_data, **kwargs)\n",
      "  File \"c:\\Users\\risko\\miniconda3\\envs\\prompt-classification\\Lib\\site-packages\\litellm\\caching\\disk_cache.py\", line 28, in set_cache\n",
      "    self.disk_cache.set(key, value)\n",
      "  File \"c:\\Users\\risko\\miniconda3\\envs\\prompt-classification\\Lib\\site-packages\\diskcache\\core.py\", line 808, in set\n",
      "    self._row_insert(db_key, raw, now, columns)\n",
      "  File \"c:\\Users\\risko\\miniconda3\\envs\\prompt-classification\\Lib\\site-packages\\diskcache\\core.py\", line 857, in _row_insert\n",
      "    sql(\n",
      "sqlite3.OperationalError: no such column: \"size\" - should this be a string literal in single-quotes?\n",
      " 91%|█████████ | 91/100 [01:06<00:04,  2.03it/s]\u001b[92m00:01:00 - LiteLLM:ERROR\u001b[0m: caching.py:645 - LiteLLM Cache: Excepton add_cache: no such column: \"size\" - should this be a string literal in single-quotes?\n",
      "Traceback (most recent call last):\n",
      "  File \"c:\\Users\\risko\\miniconda3\\envs\\prompt-classification\\Lib\\site-packages\\litellm\\caching\\caching.py\", line 643, in add_cache\n",
      "    self.cache.set_cache(cache_key, cached_data, **kwargs)\n",
      "  File \"c:\\Users\\risko\\miniconda3\\envs\\prompt-classification\\Lib\\site-packages\\litellm\\caching\\disk_cache.py\", line 28, in set_cache\n",
      "    self.disk_cache.set(key, value)\n",
      "  File \"c:\\Users\\risko\\miniconda3\\envs\\prompt-classification\\Lib\\site-packages\\diskcache\\core.py\", line 808, in set\n",
      "    self._row_insert(db_key, raw, now, columns)\n",
      "  File \"c:\\Users\\risko\\miniconda3\\envs\\prompt-classification\\Lib\\site-packages\\diskcache\\core.py\", line 857, in _row_insert\n",
      "    sql(\n",
      "sqlite3.OperationalError: no such column: \"size\" - should this be a string literal in single-quotes?\n",
      " 92%|█████████▏| 92/100 [01:07<00:05,  1.57it/s]\u001b[92m00:01:01 - LiteLLM:ERROR\u001b[0m: caching.py:645 - LiteLLM Cache: Excepton add_cache: no such column: \"size\" - should this be a string literal in single-quotes?\n",
      "Traceback (most recent call last):\n",
      "  File \"c:\\Users\\risko\\miniconda3\\envs\\prompt-classification\\Lib\\site-packages\\litellm\\caching\\caching.py\", line 643, in add_cache\n",
      "    self.cache.set_cache(cache_key, cached_data, **kwargs)\n",
      "  File \"c:\\Users\\risko\\miniconda3\\envs\\prompt-classification\\Lib\\site-packages\\litellm\\caching\\disk_cache.py\", line 28, in set_cache\n",
      "    self.disk_cache.set(key, value)\n",
      "  File \"c:\\Users\\risko\\miniconda3\\envs\\prompt-classification\\Lib\\site-packages\\diskcache\\core.py\", line 808, in set\n",
      "    self._row_insert(db_key, raw, now, columns)\n",
      "  File \"c:\\Users\\risko\\miniconda3\\envs\\prompt-classification\\Lib\\site-packages\\diskcache\\core.py\", line 857, in _row_insert\n",
      "    sql(\n",
      "sqlite3.OperationalError: no such column: \"size\" - should this be a string literal in single-quotes?\n",
      " 93%|█████████▎| 93/100 [01:07<00:03,  1.89it/s]\u001b[92m00:01:01 - LiteLLM:ERROR\u001b[0m: caching.py:645 - LiteLLM Cache: Excepton add_cache: no such column: \"size\" - should this be a string literal in single-quotes?\n",
      "Traceback (most recent call last):\n",
      "  File \"c:\\Users\\risko\\miniconda3\\envs\\prompt-classification\\Lib\\site-packages\\litellm\\caching\\caching.py\", line 643, in add_cache\n",
      "    self.cache.set_cache(cache_key, cached_data, **kwargs)\n",
      "  File \"c:\\Users\\risko\\miniconda3\\envs\\prompt-classification\\Lib\\site-packages\\litellm\\caching\\disk_cache.py\", line 28, in set_cache\n",
      "    self.disk_cache.set(key, value)\n",
      "  File \"c:\\Users\\risko\\miniconda3\\envs\\prompt-classification\\Lib\\site-packages\\diskcache\\core.py\", line 808, in set\n",
      "    self._row_insert(db_key, raw, now, columns)\n",
      "  File \"c:\\Users\\risko\\miniconda3\\envs\\prompt-classification\\Lib\\site-packages\\diskcache\\core.py\", line 857, in _row_insert\n",
      "    sql(\n",
      "sqlite3.OperationalError: no such column: \"size\" - should this be a string literal in single-quotes?\n",
      " 94%|█████████▍| 94/100 [01:08<00:03,  1.69it/s]\u001b[92m00:01:02 - LiteLLM:ERROR\u001b[0m: caching.py:645 - LiteLLM Cache: Excepton add_cache: no such column: \"size\" - should this be a string literal in single-quotes?\n",
      "Traceback (most recent call last):\n",
      "  File \"c:\\Users\\risko\\miniconda3\\envs\\prompt-classification\\Lib\\site-packages\\litellm\\caching\\caching.py\", line 643, in add_cache\n",
      "    self.cache.set_cache(cache_key, cached_data, **kwargs)\n",
      "  File \"c:\\Users\\risko\\miniconda3\\envs\\prompt-classification\\Lib\\site-packages\\litellm\\caching\\disk_cache.py\", line 28, in set_cache\n",
      "    self.disk_cache.set(key, value)\n",
      "  File \"c:\\Users\\risko\\miniconda3\\envs\\prompt-classification\\Lib\\site-packages\\diskcache\\core.py\", line 808, in set\n",
      "    self._row_insert(db_key, raw, now, columns)\n",
      "  File \"c:\\Users\\risko\\miniconda3\\envs\\prompt-classification\\Lib\\site-packages\\diskcache\\core.py\", line 857, in _row_insert\n",
      "    sql(\n",
      "sqlite3.OperationalError: no such column: \"size\" - should this be a string literal in single-quotes?\n",
      " 95%|█████████▌| 95/100 [01:08<00:02,  1.99it/s]\u001b[92m00:01:03 - LiteLLM:ERROR\u001b[0m: caching.py:645 - LiteLLM Cache: Excepton add_cache: no such column: \"size\" - should this be a string literal in single-quotes?\n",
      "Traceback (most recent call last):\n",
      "  File \"c:\\Users\\risko\\miniconda3\\envs\\prompt-classification\\Lib\\site-packages\\litellm\\caching\\caching.py\", line 643, in add_cache\n",
      "    self.cache.set_cache(cache_key, cached_data, **kwargs)\n",
      "  File \"c:\\Users\\risko\\miniconda3\\envs\\prompt-classification\\Lib\\site-packages\\litellm\\caching\\disk_cache.py\", line 28, in set_cache\n",
      "    self.disk_cache.set(key, value)\n",
      "  File \"c:\\Users\\risko\\miniconda3\\envs\\prompt-classification\\Lib\\site-packages\\diskcache\\core.py\", line 808, in set\n",
      "    self._row_insert(db_key, raw, now, columns)\n",
      "  File \"c:\\Users\\risko\\miniconda3\\envs\\prompt-classification\\Lib\\site-packages\\diskcache\\core.py\", line 857, in _row_insert\n",
      "    sql(\n",
      "sqlite3.OperationalError: no such column: \"size\" - should this be a string literal in single-quotes?\n",
      " 96%|█████████▌| 96/100 [01:10<00:03,  1.07it/s]\u001b[92m00:01:05 - LiteLLM:ERROR\u001b[0m: caching.py:645 - LiteLLM Cache: Excepton add_cache: no such column: \"size\" - should this be a string literal in single-quotes?\n",
      "Traceback (most recent call last):\n",
      "  File \"c:\\Users\\risko\\miniconda3\\envs\\prompt-classification\\Lib\\site-packages\\litellm\\caching\\caching.py\", line 643, in add_cache\n",
      "    self.cache.set_cache(cache_key, cached_data, **kwargs)\n",
      "  File \"c:\\Users\\risko\\miniconda3\\envs\\prompt-classification\\Lib\\site-packages\\litellm\\caching\\disk_cache.py\", line 28, in set_cache\n",
      "    self.disk_cache.set(key, value)\n",
      "  File \"c:\\Users\\risko\\miniconda3\\envs\\prompt-classification\\Lib\\site-packages\\diskcache\\core.py\", line 808, in set\n",
      "    self._row_insert(db_key, raw, now, columns)\n",
      "  File \"c:\\Users\\risko\\miniconda3\\envs\\prompt-classification\\Lib\\site-packages\\diskcache\\core.py\", line 857, in _row_insert\n",
      "    sql(\n",
      "sqlite3.OperationalError: no such column: \"size\" - should this be a string literal in single-quotes?\n",
      " 97%|█████████▋| 97/100 [01:11<00:03,  1.00s/it]\u001b[92m00:01:05 - LiteLLM:ERROR\u001b[0m: caching.py:645 - LiteLLM Cache: Excepton add_cache: no such column: \"size\" - should this be a string literal in single-quotes?\n",
      "Traceback (most recent call last):\n",
      "  File \"c:\\Users\\risko\\miniconda3\\envs\\prompt-classification\\Lib\\site-packages\\litellm\\caching\\caching.py\", line 643, in add_cache\n",
      "    self.cache.set_cache(cache_key, cached_data, **kwargs)\n",
      "  File \"c:\\Users\\risko\\miniconda3\\envs\\prompt-classification\\Lib\\site-packages\\litellm\\caching\\disk_cache.py\", line 28, in set_cache\n",
      "    self.disk_cache.set(key, value)\n",
      "  File \"c:\\Users\\risko\\miniconda3\\envs\\prompt-classification\\Lib\\site-packages\\diskcache\\core.py\", line 808, in set\n",
      "    self._row_insert(db_key, raw, now, columns)\n",
      "  File \"c:\\Users\\risko\\miniconda3\\envs\\prompt-classification\\Lib\\site-packages\\diskcache\\core.py\", line 857, in _row_insert\n",
      "    sql(\n",
      "sqlite3.OperationalError: no such column: \"size\" - should this be a string literal in single-quotes?\n",
      " 98%|█████████▊| 98/100 [01:12<00:01,  1.28it/s]\u001b[92m00:01:05 - LiteLLM:ERROR\u001b[0m: caching.py:645 - LiteLLM Cache: Excepton add_cache: no such column: \"size\" - should this be a string literal in single-quotes?\n",
      "Traceback (most recent call last):\n",
      "  File \"c:\\Users\\risko\\miniconda3\\envs\\prompt-classification\\Lib\\site-packages\\litellm\\caching\\caching.py\", line 643, in add_cache\n",
      "    self.cache.set_cache(cache_key, cached_data, **kwargs)\n",
      "  File \"c:\\Users\\risko\\miniconda3\\envs\\prompt-classification\\Lib\\site-packages\\litellm\\caching\\disk_cache.py\", line 28, in set_cache\n",
      "    self.disk_cache.set(key, value)\n",
      "  File \"c:\\Users\\risko\\miniconda3\\envs\\prompt-classification\\Lib\\site-packages\\diskcache\\core.py\", line 808, in set\n",
      "    self._row_insert(db_key, raw, now, columns)\n",
      "  File \"c:\\Users\\risko\\miniconda3\\envs\\prompt-classification\\Lib\\site-packages\\diskcache\\core.py\", line 857, in _row_insert\n",
      "    sql(\n",
      "sqlite3.OperationalError: no such column: \"size\" - should this be a string literal in single-quotes?\n",
      " 99%|█████████▉| 99/100 [01:12<00:00,  1.48it/s]\u001b[92m00:01:06 - LiteLLM:ERROR\u001b[0m: caching.py:645 - LiteLLM Cache: Excepton add_cache: no such column: \"size\" - should this be a string literal in single-quotes?\n",
      "Traceback (most recent call last):\n",
      "  File \"c:\\Users\\risko\\miniconda3\\envs\\prompt-classification\\Lib\\site-packages\\litellm\\caching\\caching.py\", line 643, in add_cache\n",
      "    self.cache.set_cache(cache_key, cached_data, **kwargs)\n",
      "  File \"c:\\Users\\risko\\miniconda3\\envs\\prompt-classification\\Lib\\site-packages\\litellm\\caching\\disk_cache.py\", line 28, in set_cache\n",
      "    self.disk_cache.set(key, value)\n",
      "  File \"c:\\Users\\risko\\miniconda3\\envs\\prompt-classification\\Lib\\site-packages\\diskcache\\core.py\", line 808, in set\n",
      "    self._row_insert(db_key, raw, now, columns)\n",
      "  File \"c:\\Users\\risko\\miniconda3\\envs\\prompt-classification\\Lib\\site-packages\\diskcache\\core.py\", line 857, in _row_insert\n",
      "    sql(\n",
      "sqlite3.OperationalError: no such column: \"size\" - should this be a string literal in single-quotes?\n",
      "100%|██████████| 100/100 [01:12<00:00,  1.37it/s]\n"
     ]
    },
    {
     "data": {
      "image/png": "[encoded data removed]",
      "text/plain": [
       "<Figure size 640x480 with 2 Axes>"
      ]
     },
     "metadata": {},
     "output_type": "display_data"
    },
    {
     "name": "stderr",
     "output_type": "stream",
     "text": [
      "Device set to use cuda:0\n",
      "  0%|          | 0/100 [00:00<?, ?it/s]Asking to truncate to max_length but no maximum length is provided and the model has no predefined maximum length. Default to no truncation.\n",
      "W0222 00:01:09.939000 10580 site-packages\\torch\\_dynamo\\convert_frame.py:1233] WON'T CONVERT compiled_embeddings c:\\Users\\risko\\miniconda3\\envs\\prompt-classification\\Lib\\site-packages\\transformers\\models\\modernbert\\modeling_modernbert.py line 206 \n",
      "W0222 00:01:09.939000 10580 site-packages\\torch\\_dynamo\\convert_frame.py:1233] due to: \n",
      "W0222 00:01:09.939000 10580 site-packages\\torch\\_dynamo\\convert_frame.py:1233] Traceback (most recent call last):\n",
      "W0222 00:01:09.939000 10580 site-packages\\torch\\_dynamo\\convert_frame.py:1233]   File \"c:\\Users\\risko\\miniconda3\\envs\\prompt-classification\\Lib\\site-packages\\torch\\_dynamo\\convert_frame.py\", line 1164, in __call__\n",
      "W0222 00:01:09.939000 10580 site-packages\\torch\\_dynamo\\convert_frame.py:1233]     result = self._inner_convert(\n",
      "W0222 00:01:09.939000 10580 site-packages\\torch\\_dynamo\\convert_frame.py:1233]              ^^^^^^^^^^^^^^^^^^^^\n",
      "W0222 00:01:09.939000 10580 site-packages\\torch\\_dynamo\\convert_frame.py:1233]   File \"c:\\Users\\risko\\miniconda3\\envs\\prompt-classification\\Lib\\site-packages\\torch\\_dynamo\\convert_frame.py\", line 547, in __call__\n",
      "W0222 00:01:09.939000 10580 site-packages\\torch\\_dynamo\\convert_frame.py:1233]     return _compile(\n",
      "W0222 00:01:09.939000 10580 site-packages\\torch\\_dynamo\\convert_frame.py:1233]            ^^^^^^^^^\n",
      "W0222 00:01:09.939000 10580 site-packages\\torch\\_dynamo\\convert_frame.py:1233]   File \"c:\\Users\\risko\\miniconda3\\envs\\prompt-classification\\Lib\\site-packages\\torch\\_dynamo\\convert_frame.py\", line 986, in _compile\n",
      "W0222 00:01:09.939000 10580 site-packages\\torch\\_dynamo\\convert_frame.py:1233]     guarded_code = compile_inner(code, one_graph, hooks, transform)\n",
      "W0222 00:01:09.939000 10580 site-packages\\torch\\_dynamo\\convert_frame.py:1233]                    ^^^^^^^^^^^^^^^^^^^^^^^^^^^^^^^^^^^^^^^^^^^^^^^^\n",
      "W0222 00:01:09.939000 10580 site-packages\\torch\\_dynamo\\convert_frame.py:1233]   File \"c:\\Users\\risko\\miniconda3\\envs\\prompt-classification\\Lib\\site-packages\\torch\\_dynamo\\convert_frame.py\", line 715, in compile_inner\n",
      "W0222 00:01:09.939000 10580 site-packages\\torch\\_dynamo\\convert_frame.py:1233]     return _compile_inner(code, one_graph, hooks, transform)\n",
      "W0222 00:01:09.939000 10580 site-packages\\torch\\_dynamo\\convert_frame.py:1233]            ^^^^^^^^^^^^^^^^^^^^^^^^^^^^^^^^^^^^^^^^^^^^^^^^^\n",
      "W0222 00:01:09.939000 10580 site-packages\\torch\\_dynamo\\convert_frame.py:1233]   File \"c:\\Users\\risko\\miniconda3\\envs\\prompt-classification\\Lib\\site-packages\\torch\\_utils_internal.py\", line 95, in wrapper_function\n",
      "W0222 00:01:09.939000 10580 site-packages\\torch\\_dynamo\\convert_frame.py:1233]     return function(*args, **kwargs)\n",
      "W0222 00:01:09.939000 10580 site-packages\\torch\\_dynamo\\convert_frame.py:1233]            ^^^^^^^^^^^^^^^^^^^^^^^^^\n",
      "W0222 00:01:09.939000 10580 site-packages\\torch\\_dynamo\\convert_frame.py:1233]   File \"c:\\Users\\risko\\miniconda3\\envs\\prompt-classification\\Lib\\site-packages\\torch\\_dynamo\\convert_frame.py\", line 750, in _compile_inner\n",
      "W0222 00:01:09.939000 10580 site-packages\\torch\\_dynamo\\convert_frame.py:1233]     out_code = transform_code_object(code, transform)\n",
      "W0222 00:01:09.939000 10580 site-packages\\torch\\_dynamo\\convert_frame.py:1233]                ^^^^^^^^^^^^^^^^^^^^^^^^^^^^^^^^^^^^^^\n",
      "W0222 00:01:09.939000 10580 site-packages\\torch\\_dynamo\\convert_frame.py:1233]   File \"c:\\Users\\risko\\miniconda3\\envs\\prompt-classification\\Lib\\site-packages\\torch\\_dynamo\\bytecode_transformation.py\", line 1361, in transform_code_object\n",
      "W0222 00:01:09.939000 10580 site-packages\\torch\\_dynamo\\convert_frame.py:1233]     transformations(instructions, code_options)\n",
      "W0222 00:01:09.939000 10580 site-packages\\torch\\_dynamo\\convert_frame.py:1233]   File \"c:\\Users\\risko\\miniconda3\\envs\\prompt-classification\\Lib\\site-packages\\torch\\_dynamo\\convert_frame.py\", line 231, in _fn\n",
      "W0222 00:01:09.939000 10580 site-packages\\torch\\_dynamo\\convert_frame.py:1233]     return fn(*args, **kwargs)\n",
      "W0222 00:01:09.939000 10580 site-packages\\torch\\_dynamo\\convert_frame.py:1233]            ^^^^^^^^^^^^^^^^^^^\n",
      "W0222 00:01:09.939000 10580 site-packages\\torch\\_dynamo\\convert_frame.py:1233]   File \"c:\\Users\\risko\\miniconda3\\envs\\prompt-classification\\Lib\\site-packages\\torch\\_dynamo\\convert_frame.py\", line 662, in transform\n",
      "W0222 00:01:09.939000 10580 site-packages\\torch\\_dynamo\\convert_frame.py:1233]     tracer.run()\n",
      "W0222 00:01:09.939000 10580 site-packages\\torch\\_dynamo\\convert_frame.py:1233]   File \"c:\\Users\\risko\\miniconda3\\envs\\prompt-classification\\Lib\\site-packages\\torch\\_dynamo\\symbolic_convert.py\", line 2868, in run\n",
      "W0222 00:01:09.939000 10580 site-packages\\torch\\_dynamo\\convert_frame.py:1233]     super().run()\n",
      "W0222 00:01:09.939000 10580 site-packages\\torch\\_dynamo\\convert_frame.py:1233]   File \"c:\\Users\\risko\\miniconda3\\envs\\prompt-classification\\Lib\\site-packages\\torch\\_dynamo\\symbolic_convert.py\", line 1052, in run\n",
      "W0222 00:01:09.939000 10580 site-packages\\torch\\_dynamo\\convert_frame.py:1233]     while self.step():\n",
      "W0222 00:01:09.939000 10580 site-packages\\torch\\_dynamo\\convert_frame.py:1233]           ^^^^^^^^^^^\n",
      "W0222 00:01:09.939000 10580 site-packages\\torch\\_dynamo\\convert_frame.py:1233]   File \"c:\\Users\\risko\\miniconda3\\envs\\prompt-classification\\Lib\\site-packages\\torch\\_dynamo\\symbolic_convert.py\", line 962, in step\n",
      "W0222 00:01:09.939000 10580 site-packages\\torch\\_dynamo\\convert_frame.py:1233]     self.dispatch_table[inst.opcode](self, inst)\n",
      "W0222 00:01:09.939000 10580 site-packages\\torch\\_dynamo\\convert_frame.py:1233]   File \"c:\\Users\\risko\\miniconda3\\envs\\prompt-classification\\Lib\\site-packages\\torch\\_dynamo\\symbolic_convert.py\", line 3048, in RETURN_VALUE\n",
      "W0222 00:01:09.939000 10580 site-packages\\torch\\_dynamo\\convert_frame.py:1233]     self._return(inst)\n",
      "W0222 00:01:09.939000 10580 site-packages\\torch\\_dynamo\\convert_frame.py:1233]   File \"c:\\Users\\risko\\miniconda3\\envs\\prompt-classification\\Lib\\site-packages\\torch\\_dynamo\\symbolic_convert.py\", line 3033, in _return\n",
      "W0222 00:01:09.939000 10580 site-packages\\torch\\_dynamo\\convert_frame.py:1233]     self.output.compile_subgraph(\n",
      "W0222 00:01:09.939000 10580 site-packages\\torch\\_dynamo\\convert_frame.py:1233]   File \"c:\\Users\\risko\\miniconda3\\envs\\prompt-classification\\Lib\\site-packages\\torch\\_dynamo\\output_graph.py\", line 1101, in compile_subgraph\n",
      "W0222 00:01:09.939000 10580 site-packages\\torch\\_dynamo\\convert_frame.py:1233]     self.compile_and_call_fx_graph(\n",
      "W0222 00:01:09.939000 10580 site-packages\\torch\\_dynamo\\convert_frame.py:1233]   File \"c:\\Users\\risko\\miniconda3\\envs\\prompt-classification\\Lib\\site-packages\\torch\\_dynamo\\output_graph.py\", line 1382, in compile_and_call_fx_graph\n",
      "W0222 00:01:09.939000 10580 site-packages\\torch\\_dynamo\\convert_frame.py:1233]     compiled_fn = self.call_user_compiler(gm)\n",
      "W0222 00:01:09.939000 10580 site-packages\\torch\\_dynamo\\convert_frame.py:1233]                   ^^^^^^^^^^^^^^^^^^^^^^^^^^^\n",
      "W0222 00:01:09.939000 10580 site-packages\\torch\\_dynamo\\convert_frame.py:1233]   File \"c:\\Users\\risko\\miniconda3\\envs\\prompt-classification\\Lib\\site-packages\\torch\\_dynamo\\output_graph.py\", line 1432, in call_user_compiler\n",
      "W0222 00:01:09.939000 10580 site-packages\\torch\\_dynamo\\convert_frame.py:1233]     return self._call_user_compiler(gm)\n",
      "W0222 00:01:09.939000 10580 site-packages\\torch\\_dynamo\\convert_frame.py:1233]            ^^^^^^^^^^^^^^^^^^^^^^^^^^^^\n",
      "W0222 00:01:09.939000 10580 site-packages\\torch\\_dynamo\\convert_frame.py:1233]   File \"c:\\Users\\risko\\miniconda3\\envs\\prompt-classification\\Lib\\site-packages\\torch\\_dynamo\\output_graph.py\", line 1483, in _call_user_compiler\n",
      "W0222 00:01:09.939000 10580 site-packages\\torch\\_dynamo\\convert_frame.py:1233]     raise BackendCompilerFailed(self.compiler_fn, e).with_traceback(\n",
      "W0222 00:01:09.939000 10580 site-packages\\torch\\_dynamo\\convert_frame.py:1233]   File \"c:\\Users\\risko\\miniconda3\\envs\\prompt-classification\\Lib\\site-packages\\torch\\_dynamo\\output_graph.py\", line 1462, in _call_user_compiler\n",
      "W0222 00:01:09.939000 10580 site-packages\\torch\\_dynamo\\convert_frame.py:1233]     compiled_fn = compiler_fn(gm, self.example_inputs())\n",
      "W0222 00:01:09.939000 10580 site-packages\\torch\\_dynamo\\convert_frame.py:1233]                   ^^^^^^^^^^^^^^^^^^^^^^^^^^^^^^^^^^^^^^\n",
      "W0222 00:01:09.939000 10580 site-packages\\torch\\_dynamo\\convert_frame.py:1233]   File \"c:\\Users\\risko\\miniconda3\\envs\\prompt-classification\\Lib\\site-packages\\torch\\_dynamo\\repro\\after_dynamo.py\", line 130, in __call__\n",
      "W0222 00:01:09.939000 10580 site-packages\\torch\\_dynamo\\convert_frame.py:1233]     compiled_gm = compiler_fn(gm, example_inputs)\n",
      "W0222 00:01:09.939000 10580 site-packages\\torch\\_dynamo\\convert_frame.py:1233]                   ^^^^^^^^^^^^^^^^^^^^^^^^^^^^^^^\n",
      "W0222 00:01:09.939000 10580 site-packages\\torch\\_dynamo\\convert_frame.py:1233]   File \"c:\\Users\\risko\\miniconda3\\envs\\prompt-classification\\Lib\\site-packages\\torch\\__init__.py\", line 2340, in __call__\n",
      "W0222 00:01:09.939000 10580 site-packages\\torch\\_dynamo\\convert_frame.py:1233]     return compile_fx(model_, inputs_, config_patches=self.config)\n",
      "W0222 00:01:09.939000 10580 site-packages\\torch\\_dynamo\\convert_frame.py:1233]            ^^^^^^^^^^^^^^^^^^^^^^^^^^^^^^^^^^^^^^^^^^^^^^^^^^^^^^^\n",
      "W0222 00:01:09.939000 10580 site-packages\\torch\\_dynamo\\convert_frame.py:1233]   File \"c:\\Users\\risko\\miniconda3\\envs\\prompt-classification\\Lib\\site-packages\\torch\\_inductor\\compile_fx.py\", line 1863, in compile_fx\n",
      "W0222 00:01:09.939000 10580 site-packages\\torch\\_dynamo\\convert_frame.py:1233]     return aot_autograd(\n",
      "W0222 00:01:09.939000 10580 site-packages\\torch\\_dynamo\\convert_frame.py:1233]            ^^^^^^^^^^^^^\n",
      "W0222 00:01:09.939000 10580 site-packages\\torch\\_dynamo\\convert_frame.py:1233]   File \"c:\\Users\\risko\\miniconda3\\envs\\prompt-classification\\Lib\\site-packages\\torch\\_dynamo\\backends\\common.py\", line 83, in __call__\n",
      "W0222 00:01:09.939000 10580 site-packages\\torch\\_dynamo\\convert_frame.py:1233]     cg = aot_module_simplified(gm, example_inputs, **self.kwargs)\n",
      "W0222 00:01:09.939000 10580 site-packages\\torch\\_dynamo\\convert_frame.py:1233]          ^^^^^^^^^^^^^^^^^^^^^^^^^^^^^^^^^^^^^^^^^^^^^^^^^^^^^^^^\n",
      "W0222 00:01:09.939000 10580 site-packages\\torch\\_dynamo\\convert_frame.py:1233]   File \"c:\\Users\\risko\\miniconda3\\envs\\prompt-classification\\Lib\\site-packages\\torch\\_functorch\\aot_autograd.py\", line 1155, in aot_module_simplified\n",
      "W0222 00:01:09.939000 10580 site-packages\\torch\\_dynamo\\convert_frame.py:1233]     compiled_fn = dispatch_and_compile()\n",
      "W0222 00:01:09.939000 10580 site-packages\\torch\\_dynamo\\convert_frame.py:1233]                   ^^^^^^^^^^^^^^^^^^^^^^\n",
      "W0222 00:01:09.939000 10580 site-packages\\torch\\_dynamo\\convert_frame.py:1233]   File \"c:\\Users\\risko\\miniconda3\\envs\\prompt-classification\\Lib\\site-packages\\torch\\_functorch\\aot_autograd.py\", line 1131, in dispatch_and_compile\n",
      "W0222 00:01:09.939000 10580 site-packages\\torch\\_dynamo\\convert_frame.py:1233]     compiled_fn, _ = create_aot_dispatcher_function(\n",
      "W0222 00:01:09.939000 10580 site-packages\\torch\\_dynamo\\convert_frame.py:1233]                      ^^^^^^^^^^^^^^^^^^^^^^^^^^^^^^^\n",
      "W0222 00:01:09.939000 10580 site-packages\\torch\\_dynamo\\convert_frame.py:1233]   File \"c:\\Users\\risko\\miniconda3\\envs\\prompt-classification\\Lib\\site-packages\\torch\\_functorch\\aot_autograd.py\", line 580, in create_aot_dispatcher_function\n",
      "W0222 00:01:09.939000 10580 site-packages\\torch\\_dynamo\\convert_frame.py:1233]     return _create_aot_dispatcher_function(\n",
      "W0222 00:01:09.939000 10580 site-packages\\torch\\_dynamo\\convert_frame.py:1233]            ^^^^^^^^^^^^^^^^^^^^^^^^^^^^^^^^\n",
      "W0222 00:01:09.939000 10580 site-packages\\torch\\_dynamo\\convert_frame.py:1233]   File \"c:\\Users\\risko\\miniconda3\\envs\\prompt-classification\\Lib\\site-packages\\torch\\_functorch\\aot_autograd.py\", line 830, in _create_aot_dispatcher_function\n",
      "W0222 00:01:09.939000 10580 site-packages\\torch\\_dynamo\\convert_frame.py:1233]     compiled_fn, fw_metadata = compiler_fn(\n",
      "W0222 00:01:09.939000 10580 site-packages\\torch\\_dynamo\\convert_frame.py:1233]                                ^^^^^^^^^^^^\n",
      "W0222 00:01:09.939000 10580 site-packages\\torch\\_dynamo\\convert_frame.py:1233]   File \"c:\\Users\\risko\\miniconda3\\envs\\prompt-classification\\Lib\\site-packages\\torch\\_functorch\\_aot_autograd\\jit_compile_runtime_wrappers.py\", line 203, in aot_dispatch_base\n",
      "W0222 00:01:09.939000 10580 site-packages\\torch\\_dynamo\\convert_frame.py:1233]     compiled_fw = compiler(fw_module, updated_flat_args)\n",
      "W0222 00:01:09.939000 10580 site-packages\\torch\\_dynamo\\convert_frame.py:1233]                   ^^^^^^^^^^^^^^^^^^^^^^^^^^^^^^^^^^^^^^\n",
      "W0222 00:01:09.939000 10580 site-packages\\torch\\_dynamo\\convert_frame.py:1233]   File \"c:\\Users\\risko\\miniconda3\\envs\\prompt-classification\\Lib\\site-packages\\torch\\_functorch\\aot_autograd.py\", line 489, in __call__\n",
      "W0222 00:01:09.939000 10580 site-packages\\torch\\_dynamo\\convert_frame.py:1233]     return self.compiler_fn(gm, example_inputs)\n",
      "W0222 00:01:09.939000 10580 site-packages\\torch\\_dynamo\\convert_frame.py:1233]            ^^^^^^^^^^^^^^^^^^^^^^^^^^^^^^^^^^^^\n",
      "W0222 00:01:09.939000 10580 site-packages\\torch\\_dynamo\\convert_frame.py:1233]   File \"c:\\Users\\risko\\miniconda3\\envs\\prompt-classification\\Lib\\site-packages\\torch\\_inductor\\compile_fx.py\", line 1741, in fw_compiler_base\n",
      "W0222 00:01:09.939000 10580 site-packages\\torch\\_dynamo\\convert_frame.py:1233]     return inner_compile(\n",
      "W0222 00:01:09.939000 10580 site-packages\\torch\\_dynamo\\convert_frame.py:1233]            ^^^^^^^^^^^^^^\n",
      "W0222 00:01:09.939000 10580 site-packages\\torch\\_dynamo\\convert_frame.py:1233]   File \"c:\\Users\\risko\\miniconda3\\envs\\prompt-classification\\Lib\\site-packages\\torch\\_inductor\\compile_fx.py\", line 569, in compile_fx_inner\n",
      "W0222 00:01:09.939000 10580 site-packages\\torch\\_dynamo\\convert_frame.py:1233]     return wrap_compiler_debug(_compile_fx_inner, compiler_name=\"inductor\")(\n",
      "W0222 00:01:09.939000 10580 site-packages\\torch\\_dynamo\\convert_frame.py:1233]            ^^^^^^^^^^^^^^^^^^^^^^^^^^^^^^^^^^^^^^^^^^^^^^^^^^^^^^^^^^^^^^^^^\n",
      "W0222 00:01:09.939000 10580 site-packages\\torch\\_dynamo\\convert_frame.py:1233]   File \"c:\\Users\\risko\\miniconda3\\envs\\prompt-classification\\Lib\\site-packages\\torch\\_dynamo\\repro\\after_aot.py\", line 102, in debug_wrapper\n",
      "W0222 00:01:09.939000 10580 site-packages\\torch\\_dynamo\\convert_frame.py:1233]     inner_compiled_fn = compiler_fn(gm, example_inputs)\n",
      "W0222 00:01:09.939000 10580 site-packages\\torch\\_dynamo\\convert_frame.py:1233]                         ^^^^^^^^^^^^^^^^^^^^^^^^^^^^^^^\n",
      "W0222 00:01:09.939000 10580 site-packages\\torch\\_dynamo\\convert_frame.py:1233]   File \"c:\\Users\\risko\\miniconda3\\envs\\prompt-classification\\Lib\\site-packages\\torch\\_inductor\\compile_fx.py\", line 685, in _compile_fx_inner\n",
      "W0222 00:01:09.939000 10580 site-packages\\torch\\_dynamo\\convert_frame.py:1233]     mb_compiled_graph = fx_codegen_and_compile(\n",
      "W0222 00:01:09.939000 10580 site-packages\\torch\\_dynamo\\convert_frame.py:1233]                         ^^^^^^^^^^^^^^^^^^^^^^^\n",
      "W0222 00:01:09.939000 10580 site-packages\\torch\\_dynamo\\convert_frame.py:1233]   File \"c:\\Users\\risko\\miniconda3\\envs\\prompt-classification\\Lib\\site-packages\\torch\\_inductor\\compile_fx.py\", line 1129, in fx_codegen_and_compile\n",
      "W0222 00:01:09.939000 10580 site-packages\\torch\\_dynamo\\convert_frame.py:1233]     return scheme.codegen_and_compile(gm, example_inputs, inputs_to_check, graph_kwargs)\n",
      "W0222 00:01:09.939000 10580 site-packages\\torch\\_dynamo\\convert_frame.py:1233]            ^^^^^^^^^^^^^^^^^^^^^^^^^^^^^^^^^^^^^^^^^^^^^^^^^^^^^^^^^^^^^^^^^^^^^^^^^^^^^\n",
      "W0222 00:01:09.939000 10580 site-packages\\torch\\_dynamo\\convert_frame.py:1233]   File \"c:\\Users\\risko\\miniconda3\\envs\\prompt-classification\\Lib\\site-packages\\torch\\_inductor\\compile_fx.py\", line 1044, in codegen_and_compile\n",
      "W0222 00:01:09.939000 10580 site-packages\\torch\\_dynamo\\convert_frame.py:1233]     compiled_fn = graph.compile_to_module().call\n",
      "W0222 00:01:09.939000 10580 site-packages\\torch\\_dynamo\\convert_frame.py:1233]                   ^^^^^^^^^^^^^^^^^^^^^^^^^\n",
      "W0222 00:01:09.939000 10580 site-packages\\torch\\_dynamo\\convert_frame.py:1233]   File \"c:\\Users\\risko\\miniconda3\\envs\\prompt-classification\\Lib\\site-packages\\torch\\_inductor\\graph.py\", line 2027, in compile_to_module\n",
      "W0222 00:01:09.939000 10580 site-packages\\torch\\_dynamo\\convert_frame.py:1233]     return self._compile_to_module()\n",
      "W0222 00:01:09.939000 10580 site-packages\\torch\\_dynamo\\convert_frame.py:1233]            ^^^^^^^^^^^^^^^^^^^^^^^^^\n",
      "W0222 00:01:09.939000 10580 site-packages\\torch\\_dynamo\\convert_frame.py:1233]   File \"c:\\Users\\risko\\miniconda3\\envs\\prompt-classification\\Lib\\site-packages\\torch\\_inductor\\graph.py\", line 2033, in _compile_to_module\n",
      "W0222 00:01:09.939000 10580 site-packages\\torch\\_dynamo\\convert_frame.py:1233]     self.codegen_with_cpp_wrapper() if self.cpp_wrapper else self.codegen()\n",
      "W0222 00:01:09.939000 10580 site-packages\\torch\\_dynamo\\convert_frame.py:1233]                                                              ^^^^^^^^^^^^^^\n",
      "W0222 00:01:09.939000 10580 site-packages\\torch\\_dynamo\\convert_frame.py:1233]   File \"c:\\Users\\risko\\miniconda3\\envs\\prompt-classification\\Lib\\site-packages\\torch\\_inductor\\graph.py\", line 1964, in codegen\n",
      "W0222 00:01:09.939000 10580 site-packages\\torch\\_dynamo\\convert_frame.py:1233]     self.scheduler = Scheduler(self.operations)\n",
      "W0222 00:01:09.939000 10580 site-packages\\torch\\_dynamo\\convert_frame.py:1233]                      ^^^^^^^^^^^^^^^^^^^^^^^^^^\n",
      "W0222 00:01:09.939000 10580 site-packages\\torch\\_dynamo\\convert_frame.py:1233]   File \"c:\\Users\\risko\\miniconda3\\envs\\prompt-classification\\Lib\\site-packages\\torch\\_inductor\\scheduler.py\", line 1798, in __init__\n",
      "W0222 00:01:09.939000 10580 site-packages\\torch\\_dynamo\\convert_frame.py:1233]     self._init(nodes)\n",
      "W0222 00:01:09.939000 10580 site-packages\\torch\\_dynamo\\convert_frame.py:1233]   File \"c:\\Users\\risko\\miniconda3\\envs\\prompt-classification\\Lib\\site-packages\\torch\\_inductor\\scheduler.py\", line 1816, in _init\n",
      "W0222 00:01:09.939000 10580 site-packages\\torch\\_dynamo\\convert_frame.py:1233]     self.nodes = [self.create_scheduler_node(n) for n in nodes]\n",
      "W0222 00:01:09.939000 10580 site-packages\\torch\\_dynamo\\convert_frame.py:1233]                  ^^^^^^^^^^^^^^^^^^^^^^^^^^^^^^^^^^^^^^^^^^^^^^\n",
      "W0222 00:01:09.939000 10580 site-packages\\torch\\_dynamo\\convert_frame.py:1233]   File \"c:\\Users\\risko\\miniconda3\\envs\\prompt-classification\\Lib\\site-packages\\torch\\_inductor\\scheduler.py\", line 1816, in <listcomp>\n",
      "W0222 00:01:09.939000 10580 site-packages\\torch\\_dynamo\\convert_frame.py:1233]     self.nodes = [self.create_scheduler_node(n) for n in nodes]\n",
      "W0222 00:01:09.939000 10580 site-packages\\torch\\_dynamo\\convert_frame.py:1233]                   ^^^^^^^^^^^^^^^^^^^^^^^^^^^^^\n",
      "W0222 00:01:09.939000 10580 site-packages\\torch\\_dynamo\\convert_frame.py:1233]   File \"c:\\Users\\risko\\miniconda3\\envs\\prompt-classification\\Lib\\site-packages\\torch\\_inductor\\scheduler.py\", line 1947, in create_scheduler_node\n",
      "W0222 00:01:09.939000 10580 site-packages\\torch\\_dynamo\\convert_frame.py:1233]     return SchedulerNode(self, node)\n",
      "W0222 00:01:09.939000 10580 site-packages\\torch\\_dynamo\\convert_frame.py:1233]            ^^^^^^^^^^^^^^^^^^^^^^^^^\n",
      "W0222 00:01:09.939000 10580 site-packages\\torch\\_dynamo\\convert_frame.py:1233]   File \"c:\\Users\\risko\\miniconda3\\envs\\prompt-classification\\Lib\\site-packages\\torch\\_inductor\\scheduler.py\", line 893, in __init__\n",
      "W0222 00:01:09.939000 10580 site-packages\\torch\\_dynamo\\convert_frame.py:1233]     self._compute_attrs()\n",
      "W0222 00:01:09.939000 10580 site-packages\\torch\\_dynamo\\convert_frame.py:1233]   File \"c:\\Users\\risko\\miniconda3\\envs\\prompt-classification\\Lib\\site-packages\\torch\\_inductor\\scheduler.py\", line 907, in _compute_attrs\n",
      "W0222 00:01:09.939000 10580 site-packages\\torch\\_dynamo\\convert_frame.py:1233]     group_fn = self.scheduler.get_backend(device).group_fn\n",
      "W0222 00:01:09.939000 10580 site-packages\\torch\\_dynamo\\convert_frame.py:1233]                ^^^^^^^^^^^^^^^^^^^^^^^^^^^^^^^^^^\n",
      "W0222 00:01:09.939000 10580 site-packages\\torch\\_dynamo\\convert_frame.py:1233]   File \"c:\\Users\\risko\\miniconda3\\envs\\prompt-classification\\Lib\\site-packages\\torch\\_inductor\\scheduler.py\", line 3441, in get_backend\n",
      "W0222 00:01:09.939000 10580 site-packages\\torch\\_dynamo\\convert_frame.py:1233]     self.backends[device] = self.create_backend(device)\n",
      "W0222 00:01:09.939000 10580 site-packages\\torch\\_dynamo\\convert_frame.py:1233]                             ^^^^^^^^^^^^^^^^^^^^^^^^^^^\n",
      "W0222 00:01:09.939000 10580 site-packages\\torch\\_dynamo\\convert_frame.py:1233]   File \"c:\\Users\\risko\\miniconda3\\envs\\prompt-classification\\Lib\\site-packages\\torch\\_inductor\\scheduler.py\", line 3432, in create_backend\n",
      "W0222 00:01:09.939000 10580 site-packages\\torch\\_dynamo\\convert_frame.py:1233]     raise RuntimeError(\n",
      "W0222 00:01:09.939000 10580 site-packages\\torch\\_dynamo\\convert_frame.py:1233] torch._dynamo.exc.BackendCompilerFailed: backend='inductor' raised:\n",
      "W0222 00:01:09.939000 10580 site-packages\\torch\\_dynamo\\convert_frame.py:1233] RuntimeError: Cannot find a working triton installation. Either the package is not installed or it is too old. More information on installing Triton can be found at https://github.com/openai/triton\n",
      "W0222 00:01:09.939000 10580 site-packages\\torch\\_dynamo\\convert_frame.py:1233] \n",
      "W0222 00:01:09.939000 10580 site-packages\\torch\\_dynamo\\convert_frame.py:1233] Set TORCH_LOGS=\"+dynamo\" and TORCHDYNAMO_VERBOSE=1 for more information\n",
      "W0222 00:01:09.939000 10580 site-packages\\torch\\_dynamo\\convert_frame.py:1233] \n",
      "W0222 00:01:09.939000 10580 site-packages\\torch\\_dynamo\\convert_frame.py:1233] Traceback (most recent call last):\n",
      "W0222 00:01:09.939000 10580 site-packages\\torch\\_dynamo\\convert_frame.py:1233]   File \"c:\\Users\\risko\\miniconda3\\envs\\prompt-classification\\Lib\\site-packages\\torch\\_dynamo\\convert_frame.py\", line 1164, in __call__\n",
      "W0222 00:01:09.939000 10580 site-packages\\torch\\_dynamo\\convert_frame.py:1233]     result = self._inner_convert(\n",
      "W0222 00:01:09.939000 10580 site-packages\\torch\\_dynamo\\convert_frame.py:1233]              ^^^^^^^^^^^^^^^^^^^^\n",
      "W0222 00:01:09.939000 10580 site-packages\\torch\\_dynamo\\convert_frame.py:1233]   File \"c:\\Users\\risko\\miniconda3\\envs\\prompt-classification\\Lib\\site-packages\\torch\\_dynamo\\convert_frame.py\", line 547, in __call__\n",
      "W0222 00:01:09.939000 10580 site-packages\\torch\\_dynamo\\convert_frame.py:1233]     return _compile(\n",
      "W0222 00:01:09.939000 10580 site-packages\\torch\\_dynamo\\convert_frame.py:1233]            ^^^^^^^^^\n",
      "W0222 00:01:09.939000 10580 site-packages\\torch\\_dynamo\\convert_frame.py:1233]   File \"c:\\Users\\risko\\miniconda3\\envs\\prompt-classification\\Lib\\site-packages\\torch\\_dynamo\\convert_frame.py\", line 986, in _compile\n",
      "W0222 00:01:09.939000 10580 site-packages\\torch\\_dynamo\\convert_frame.py:1233]     guarded_code = compile_inner(code, one_graph, hooks, transform)\n",
      "W0222 00:01:09.939000 10580 site-packages\\torch\\_dynamo\\convert_frame.py:1233]                    ^^^^^^^^^^^^^^^^^^^^^^^^^^^^^^^^^^^^^^^^^^^^^^^^\n",
      "W0222 00:01:09.939000 10580 site-packages\\torch\\_dynamo\\convert_frame.py:1233]   File \"c:\\Users\\risko\\miniconda3\\envs\\prompt-classification\\Lib\\site-packages\\torch\\_dynamo\\convert_frame.py\", line 715, in compile_inner\n",
      "W0222 00:01:09.939000 10580 site-packages\\torch\\_dynamo\\convert_frame.py:1233]     return _compile_inner(code, one_graph, hooks, transform)\n",
      "W0222 00:01:09.939000 10580 site-packages\\torch\\_dynamo\\convert_frame.py:1233]            ^^^^^^^^^^^^^^^^^^^^^^^^^^^^^^^^^^^^^^^^^^^^^^^^^\n",
      "W0222 00:01:09.939000 10580 site-packages\\torch\\_dynamo\\convert_frame.py:1233]   File \"c:\\Users\\risko\\miniconda3\\envs\\prompt-classification\\Lib\\site-packages\\torch\\_utils_internal.py\", line 95, in wrapper_function\n",
      "W0222 00:01:09.939000 10580 site-packages\\torch\\_dynamo\\convert_frame.py:1233]     return function(*args, **kwargs)\n",
      "W0222 00:01:09.939000 10580 site-packages\\torch\\_dynamo\\convert_frame.py:1233]            ^^^^^^^^^^^^^^^^^^^^^^^^^\n",
      "W0222 00:01:09.939000 10580 site-packages\\torch\\_dynamo\\convert_frame.py:1233]   File \"c:\\Users\\risko\\miniconda3\\envs\\prompt-classification\\Lib\\site-packages\\torch\\_dynamo\\convert_frame.py\", line 750, in _compile_inner\n",
      "W0222 00:01:09.939000 10580 site-packages\\torch\\_dynamo\\convert_frame.py:1233]     out_code = transform_code_object(code, transform)\n",
      "W0222 00:01:09.939000 10580 site-packages\\torch\\_dynamo\\convert_frame.py:1233]                ^^^^^^^^^^^^^^^^^^^^^^^^^^^^^^^^^^^^^^\n",
      "W0222 00:01:09.939000 10580 site-packages\\torch\\_dynamo\\convert_frame.py:1233]   File \"c:\\Users\\risko\\miniconda3\\envs\\prompt-classification\\Lib\\site-packages\\torch\\_dynamo\\bytecode_transformation.py\", line 1361, in transform_code_object\n",
      "W0222 00:01:09.939000 10580 site-packages\\torch\\_dynamo\\convert_frame.py:1233]     transformations(instructions, code_options)\n",
      "W0222 00:01:09.939000 10580 site-packages\\torch\\_dynamo\\convert_frame.py:1233]   File \"c:\\Users\\risko\\miniconda3\\envs\\prompt-classification\\Lib\\site-packages\\torch\\_dynamo\\convert_frame.py\", line 231, in _fn\n",
      "W0222 00:01:09.939000 10580 site-packages\\torch\\_dynamo\\convert_frame.py:1233]     return fn(*args, **kwargs)\n",
      "W0222 00:01:09.939000 10580 site-packages\\torch\\_dynamo\\convert_frame.py:1233]            ^^^^^^^^^^^^^^^^^^^\n",
      "W0222 00:01:09.939000 10580 site-packages\\torch\\_dynamo\\convert_frame.py:1233]   File \"c:\\Users\\risko\\miniconda3\\envs\\prompt-classification\\Lib\\site-packages\\torch\\_dynamo\\convert_frame.py\", line 662, in transform\n",
      "W0222 00:01:09.939000 10580 site-packages\\torch\\_dynamo\\convert_frame.py:1233]     tracer.run()\n",
      "W0222 00:01:09.939000 10580 site-packages\\torch\\_dynamo\\convert_frame.py:1233]   File \"c:\\Users\\risko\\miniconda3\\envs\\prompt-classification\\Lib\\site-packages\\torch\\_dynamo\\symbolic_convert.py\", line 2868, in run\n",
      "W0222 00:01:09.939000 10580 site-packages\\torch\\_dynamo\\convert_frame.py:1233]     super().run()\n",
      "W0222 00:01:09.939000 10580 site-packages\\torch\\_dynamo\\convert_frame.py:1233]   File \"c:\\Users\\risko\\miniconda3\\envs\\prompt-classification\\Lib\\site-packages\\torch\\_dynamo\\symbolic_convert.py\", line 1052, in run\n",
      "W0222 00:01:09.939000 10580 site-packages\\torch\\_dynamo\\convert_frame.py:1233]     while self.step():\n",
      "W0222 00:01:09.939000 10580 site-packages\\torch\\_dynamo\\convert_frame.py:1233]           ^^^^^^^^^^^\n",
      "W0222 00:01:09.939000 10580 site-packages\\torch\\_dynamo\\convert_frame.py:1233]   File \"c:\\Users\\risko\\miniconda3\\envs\\prompt-classification\\Lib\\site-packages\\torch\\_dynamo\\symbolic_convert.py\", line 962, in step\n",
      "W0222 00:01:09.939000 10580 site-packages\\torch\\_dynamo\\convert_frame.py:1233]     self.dispatch_table[inst.opcode](self, inst)\n",
      "W0222 00:01:09.939000 10580 site-packages\\torch\\_dynamo\\convert_frame.py:1233]   File \"c:\\Users\\risko\\miniconda3\\envs\\prompt-classification\\Lib\\site-packages\\torch\\_dynamo\\symbolic_convert.py\", line 3048, in RETURN_VALUE\n",
      "W0222 00:01:09.939000 10580 site-packages\\torch\\_dynamo\\convert_frame.py:1233]     self._return(inst)\n",
      "W0222 00:01:09.939000 10580 site-packages\\torch\\_dynamo\\convert_frame.py:1233]   File \"c:\\Users\\risko\\miniconda3\\envs\\prompt-classification\\Lib\\site-packages\\torch\\_dynamo\\symbolic_convert.py\", line 3033, in _return\n",
      "W0222 00:01:09.939000 10580 site-packages\\torch\\_dynamo\\convert_frame.py:1233]     self.output.compile_subgraph(\n",
      "W0222 00:01:09.939000 10580 site-packages\\torch\\_dynamo\\convert_frame.py:1233]   File \"c:\\Users\\risko\\miniconda3\\envs\\prompt-classification\\Lib\\site-packages\\torch\\_dynamo\\output_graph.py\", line 1101, in compile_subgraph\n",
      "W0222 00:01:09.939000 10580 site-packages\\torch\\_dynamo\\convert_frame.py:1233]     self.compile_and_call_fx_graph(\n",
      "W0222 00:01:09.939000 10580 site-packages\\torch\\_dynamo\\convert_frame.py:1233]   File \"c:\\Users\\risko\\miniconda3\\envs\\prompt-classification\\Lib\\site-packages\\torch\\_dynamo\\output_graph.py\", line 1382, in compile_and_call_fx_graph\n",
      "W0222 00:01:09.939000 10580 site-packages\\torch\\_dynamo\\convert_frame.py:1233]     compiled_fn = self.call_user_compiler(gm)\n",
      "W0222 00:01:09.939000 10580 site-packages\\torch\\_dynamo\\convert_frame.py:1233]                   ^^^^^^^^^^^^^^^^^^^^^^^^^^^\n",
      "W0222 00:01:09.939000 10580 site-packages\\torch\\_dynamo\\convert_frame.py:1233]   File \"c:\\Users\\risko\\miniconda3\\envs\\prompt-classification\\Lib\\site-packages\\torch\\_dynamo\\output_graph.py\", line 1432, in call_user_compiler\n",
      "W0222 00:01:09.939000 10580 site-packages\\torch\\_dynamo\\convert_frame.py:1233]     return self._call_user_compiler(gm)\n",
      "W0222 00:01:09.939000 10580 site-packages\\torch\\_dynamo\\convert_frame.py:1233]            ^^^^^^^^^^^^^^^^^^^^^^^^^^^^\n",
      "W0222 00:01:09.939000 10580 site-packages\\torch\\_dynamo\\convert_frame.py:1233]   File \"c:\\Users\\risko\\miniconda3\\envs\\prompt-classification\\Lib\\site-packages\\torch\\_dynamo\\output_graph.py\", line 1483, in _call_user_compiler\n",
      "W0222 00:01:09.939000 10580 site-packages\\torch\\_dynamo\\convert_frame.py:1233]     raise BackendCompilerFailed(self.compiler_fn, e).with_traceback(\n",
      "W0222 00:01:09.939000 10580 site-packages\\torch\\_dynamo\\convert_frame.py:1233]   File \"c:\\Users\\risko\\miniconda3\\envs\\prompt-classification\\Lib\\site-packages\\torch\\_dynamo\\output_graph.py\", line 1462, in _call_user_compiler\n",
      "W0222 00:01:09.939000 10580 site-packages\\torch\\_dynamo\\convert_frame.py:1233]     compiled_fn = compiler_fn(gm, self.example_inputs())\n",
      "W0222 00:01:09.939000 10580 site-packages\\torch\\_dynamo\\convert_frame.py:1233]                   ^^^^^^^^^^^^^^^^^^^^^^^^^^^^^^^^^^^^^^\n",
      "W0222 00:01:09.939000 10580 site-packages\\torch\\_dynamo\\convert_frame.py:1233]   File \"c:\\Users\\risko\\miniconda3\\envs\\prompt-classification\\Lib\\site-packages\\torch\\_dynamo\\repro\\after_dynamo.py\", line 130, in __call__\n",
      "W0222 00:01:09.939000 10580 site-packages\\torch\\_dynamo\\convert_frame.py:1233]     compiled_gm = compiler_fn(gm, example_inputs)\n",
      "W0222 00:01:09.939000 10580 site-packages\\torch\\_dynamo\\convert_frame.py:1233]                   ^^^^^^^^^^^^^^^^^^^^^^^^^^^^^^^\n",
      "W0222 00:01:09.939000 10580 site-packages\\torch\\_dynamo\\convert_frame.py:1233]   File \"c:\\Users\\risko\\miniconda3\\envs\\prompt-classification\\Lib\\site-packages\\torch\\__init__.py\", line 2340, in __call__\n",
      "W0222 00:01:09.939000 10580 site-packages\\torch\\_dynamo\\convert_frame.py:1233]     return compile_fx(model_, inputs_, config_patches=self.config)\n",
      "W0222 00:01:09.939000 10580 site-packages\\torch\\_dynamo\\convert_frame.py:1233]            ^^^^^^^^^^^^^^^^^^^^^^^^^^^^^^^^^^^^^^^^^^^^^^^^^^^^^^^\n",
      "W0222 00:01:09.939000 10580 site-packages\\torch\\_dynamo\\convert_frame.py:1233]   File \"c:\\Users\\risko\\miniconda3\\envs\\prompt-classification\\Lib\\site-packages\\torch\\_inductor\\compile_fx.py\", line 1863, in compile_fx\n",
      "W0222 00:01:09.939000 10580 site-packages\\torch\\_dynamo\\convert_frame.py:1233]     return aot_autograd(\n",
      "W0222 00:01:09.939000 10580 site-packages\\torch\\_dynamo\\convert_frame.py:1233]            ^^^^^^^^^^^^^\n",
      "W0222 00:01:09.939000 10580 site-packages\\torch\\_dynamo\\convert_frame.py:1233]   File \"c:\\Users\\risko\\miniconda3\\envs\\prompt-classification\\Lib\\site-packages\\torch\\_dynamo\\backends\\common.py\", line 83, in __call__\n",
      "W0222 00:01:09.939000 10580 site-packages\\torch\\_dynamo\\convert_frame.py:1233]     cg = aot_module_simplified(gm, example_inputs, **self.kwargs)\n",
      "W0222 00:01:09.939000 10580 site-packages\\torch\\_dynamo\\convert_frame.py:1233]          ^^^^^^^^^^^^^^^^^^^^^^^^^^^^^^^^^^^^^^^^^^^^^^^^^^^^^^^^\n",
      "W0222 00:01:09.939000 10580 site-packages\\torch\\_dynamo\\convert_frame.py:1233]   File \"c:\\Users\\risko\\miniconda3\\envs\\prompt-classification\\Lib\\site-packages\\torch\\_functorch\\aot_autograd.py\", line 1155, in aot_module_simplified\n",
      "W0222 00:01:09.939000 10580 site-packages\\torch\\_dynamo\\convert_frame.py:1233]     compiled_fn = dispatch_and_compile()\n",
      "W0222 00:01:09.939000 10580 site-packages\\torch\\_dynamo\\convert_frame.py:1233]                   ^^^^^^^^^^^^^^^^^^^^^^\n",
      "W0222 00:01:09.939000 10580 site-packages\\torch\\_dynamo\\convert_frame.py:1233]   File \"c:\\Users\\risko\\miniconda3\\envs\\prompt-classification\\Lib\\site-packages\\torch\\_functorch\\aot_autograd.py\", line 1131, in dispatch_and_compile\n",
      "W0222 00:01:09.939000 10580 site-packages\\torch\\_dynamo\\convert_frame.py:1233]     compiled_fn, _ = create_aot_dispatcher_function(\n",
      "W0222 00:01:09.939000 10580 site-packages\\torch\\_dynamo\\convert_frame.py:1233]                      ^^^^^^^^^^^^^^^^^^^^^^^^^^^^^^^\n",
      "W0222 00:01:09.939000 10580 site-packages\\torch\\_dynamo\\convert_frame.py:1233]   File \"c:\\Users\\risko\\miniconda3\\envs\\prompt-classification\\Lib\\site-packages\\torch\\_functorch\\aot_autograd.py\", line 580, in create_aot_dispatcher_function\n",
      "W0222 00:01:09.939000 10580 site-packages\\torch\\_dynamo\\convert_frame.py:1233]     return _create_aot_dispatcher_function(\n",
      "W0222 00:01:09.939000 10580 site-packages\\torch\\_dynamo\\convert_frame.py:1233]            ^^^^^^^^^^^^^^^^^^^^^^^^^^^^^^^^\n",
      "W0222 00:01:09.939000 10580 site-packages\\torch\\_dynamo\\convert_frame.py:1233]   File \"c:\\Users\\risko\\miniconda3\\envs\\prompt-classification\\Lib\\site-packages\\torch\\_functorch\\aot_autograd.py\", line 830, in _create_aot_dispatcher_function\n",
      "W0222 00:01:09.939000 10580 site-packages\\torch\\_dynamo\\convert_frame.py:1233]     compiled_fn, fw_metadata = compiler_fn(\n",
      "W0222 00:01:09.939000 10580 site-packages\\torch\\_dynamo\\convert_frame.py:1233]                                ^^^^^^^^^^^^\n",
      "W0222 00:01:09.939000 10580 site-packages\\torch\\_dynamo\\convert_frame.py:1233]   File \"c:\\Users\\risko\\miniconda3\\envs\\prompt-classification\\Lib\\site-packages\\torch\\_functorch\\_aot_autograd\\jit_compile_runtime_wrappers.py\", line 203, in aot_dispatch_base\n",
      "W0222 00:01:09.939000 10580 site-packages\\torch\\_dynamo\\convert_frame.py:1233]     compiled_fw = compiler(fw_module, updated_flat_args)\n",
      "W0222 00:01:09.939000 10580 site-packages\\torch\\_dynamo\\convert_frame.py:1233]                   ^^^^^^^^^^^^^^^^^^^^^^^^^^^^^^^^^^^^^^\n",
      "W0222 00:01:09.939000 10580 site-packages\\torch\\_dynamo\\convert_frame.py:1233]   File \"c:\\Users\\risko\\miniconda3\\envs\\prompt-classification\\Lib\\site-packages\\torch\\_functorch\\aot_autograd.py\", line 489, in __call__\n",
      "W0222 00:01:09.939000 10580 site-packages\\torch\\_dynamo\\convert_frame.py:1233]     return self.compiler_fn(gm, example_inputs)\n",
      "W0222 00:01:09.939000 10580 site-packages\\torch\\_dynamo\\convert_frame.py:1233]            ^^^^^^^^^^^^^^^^^^^^^^^^^^^^^^^^^^^^\n",
      "W0222 00:01:09.939000 10580 site-packages\\torch\\_dynamo\\convert_frame.py:1233]   File \"c:\\Users\\risko\\miniconda3\\envs\\prompt-classification\\Lib\\site-packages\\torch\\_inductor\\compile_fx.py\", line 1741, in fw_compiler_base\n",
      "W0222 00:01:09.939000 10580 site-packages\\torch\\_dynamo\\convert_frame.py:1233]     return inner_compile(\n",
      "W0222 00:01:09.939000 10580 site-packages\\torch\\_dynamo\\convert_frame.py:1233]            ^^^^^^^^^^^^^^\n",
      "W0222 00:01:09.939000 10580 site-packages\\torch\\_dynamo\\convert_frame.py:1233]   File \"c:\\Users\\risko\\miniconda3\\envs\\prompt-classification\\Lib\\site-packages\\torch\\_inductor\\compile_fx.py\", line 569, in compile_fx_inner\n",
      "W0222 00:01:09.939000 10580 site-packages\\torch\\_dynamo\\convert_frame.py:1233]     return wrap_compiler_debug(_compile_fx_inner, compiler_name=\"inductor\")(\n",
      "W0222 00:01:09.939000 10580 site-packages\\torch\\_dynamo\\convert_frame.py:1233]            ^^^^^^^^^^^^^^^^^^^^^^^^^^^^^^^^^^^^^^^^^^^^^^^^^^^^^^^^^^^^^^^^^\n",
      "W0222 00:01:09.939000 10580 site-packages\\torch\\_dynamo\\convert_frame.py:1233]   File \"c:\\Users\\risko\\miniconda3\\envs\\prompt-classification\\Lib\\site-packages\\torch\\_dynamo\\repro\\after_aot.py\", line 102, in debug_wrapper\n",
      "W0222 00:01:09.939000 10580 site-packages\\torch\\_dynamo\\convert_frame.py:1233]     inner_compiled_fn = compiler_fn(gm, example_inputs)\n",
      "W0222 00:01:09.939000 10580 site-packages\\torch\\_dynamo\\convert_frame.py:1233]                         ^^^^^^^^^^^^^^^^^^^^^^^^^^^^^^^\n",
      "W0222 00:01:09.939000 10580 site-packages\\torch\\_dynamo\\convert_frame.py:1233]   File \"c:\\Users\\risko\\miniconda3\\envs\\prompt-classification\\Lib\\site-packages\\torch\\_inductor\\compile_fx.py\", line 685, in _compile_fx_inner\n",
      "W0222 00:01:09.939000 10580 site-packages\\torch\\_dynamo\\convert_frame.py:1233]     mb_compiled_graph = fx_codegen_and_compile(\n",
      "W0222 00:01:09.939000 10580 site-packages\\torch\\_dynamo\\convert_frame.py:1233]                         ^^^^^^^^^^^^^^^^^^^^^^^\n",
      "W0222 00:01:09.939000 10580 site-packages\\torch\\_dynamo\\convert_frame.py:1233]   File \"c:\\Users\\risko\\miniconda3\\envs\\prompt-classification\\Lib\\site-packages\\torch\\_inductor\\compile_fx.py\", line 1129, in fx_codegen_and_compile\n",
      "W0222 00:01:09.939000 10580 site-packages\\torch\\_dynamo\\convert_frame.py:1233]     return scheme.codegen_and_compile(gm, example_inputs, inputs_to_check, graph_kwargs)\n",
      "W0222 00:01:09.939000 10580 site-packages\\torch\\_dynamo\\convert_frame.py:1233]            ^^^^^^^^^^^^^^^^^^^^^^^^^^^^^^^^^^^^^^^^^^^^^^^^^^^^^^^^^^^^^^^^^^^^^^^^^^^^^\n",
      "W0222 00:01:09.939000 10580 site-packages\\torch\\_dynamo\\convert_frame.py:1233]   File \"c:\\Users\\risko\\miniconda3\\envs\\prompt-classification\\Lib\\site-packages\\torch\\_inductor\\compile_fx.py\", line 1044, in codegen_and_compile\n",
      "W0222 00:01:09.939000 10580 site-packages\\torch\\_dynamo\\convert_frame.py:1233]     compiled_fn = graph.compile_to_module().call\n",
      "W0222 00:01:09.939000 10580 site-packages\\torch\\_dynamo\\convert_frame.py:1233]                   ^^^^^^^^^^^^^^^^^^^^^^^^^\n",
      "W0222 00:01:09.939000 10580 site-packages\\torch\\_dynamo\\convert_frame.py:1233]   File \"c:\\Users\\risko\\miniconda3\\envs\\prompt-classification\\Lib\\site-packages\\torch\\_inductor\\graph.py\", line 2027, in compile_to_module\n",
      "W0222 00:01:09.939000 10580 site-packages\\torch\\_dynamo\\convert_frame.py:1233]     return self._compile_to_module()\n",
      "W0222 00:01:09.939000 10580 site-packages\\torch\\_dynamo\\convert_frame.py:1233]            ^^^^^^^^^^^^^^^^^^^^^^^^^\n",
      "W0222 00:01:09.939000 10580 site-packages\\torch\\_dynamo\\convert_frame.py:1233]   File \"c:\\Users\\risko\\miniconda3\\envs\\prompt-classification\\Lib\\site-packages\\torch\\_inductor\\graph.py\", line 2033, in _compile_to_module\n",
      "W0222 00:01:09.939000 10580 site-packages\\torch\\_dynamo\\convert_frame.py:1233]     self.codegen_with_cpp_wrapper() if self.cpp_wrapper else self.codegen()\n",
      "W0222 00:01:09.939000 10580 site-packages\\torch\\_dynamo\\convert_frame.py:1233]                                                              ^^^^^^^^^^^^^^\n",
      "W0222 00:01:09.939000 10580 site-packages\\torch\\_dynamo\\convert_frame.py:1233]   File \"c:\\Users\\risko\\miniconda3\\envs\\prompt-classification\\Lib\\site-packages\\torch\\_inductor\\graph.py\", line 1964, in codegen\n",
      "W0222 00:01:09.939000 10580 site-packages\\torch\\_dynamo\\convert_frame.py:1233]     self.scheduler = Scheduler(self.operations)\n",
      "W0222 00:01:09.939000 10580 site-packages\\torch\\_dynamo\\convert_frame.py:1233]                      ^^^^^^^^^^^^^^^^^^^^^^^^^^\n",
      "W0222 00:01:09.939000 10580 site-packages\\torch\\_dynamo\\convert_frame.py:1233]   File \"c:\\Users\\risko\\miniconda3\\envs\\prompt-classification\\Lib\\site-packages\\torch\\_inductor\\scheduler.py\", line 1798, in __init__\n",
      "W0222 00:01:09.939000 10580 site-packages\\torch\\_dynamo\\convert_frame.py:1233]     self._init(nodes)\n",
      "W0222 00:01:09.939000 10580 site-packages\\torch\\_dynamo\\convert_frame.py:1233]   File \"c:\\Users\\risko\\miniconda3\\envs\\prompt-classification\\Lib\\site-packages\\torch\\_inductor\\scheduler.py\", line 1816, in _init\n",
      "W0222 00:01:09.939000 10580 site-packages\\torch\\_dynamo\\convert_frame.py:1233]     self.nodes = [self.create_scheduler_node(n) for n in nodes]\n",
      "W0222 00:01:09.939000 10580 site-packages\\torch\\_dynamo\\convert_frame.py:1233]                  ^^^^^^^^^^^^^^^^^^^^^^^^^^^^^^^^^^^^^^^^^^^^^^\n",
      "W0222 00:01:09.939000 10580 site-packages\\torch\\_dynamo\\convert_frame.py:1233]   File \"c:\\Users\\risko\\miniconda3\\envs\\prompt-classification\\Lib\\site-packages\\torch\\_inductor\\scheduler.py\", line 1816, in <listcomp>\n",
      "W0222 00:01:09.939000 10580 site-packages\\torch\\_dynamo\\convert_frame.py:1233]     self.nodes = [self.create_scheduler_node(n) for n in nodes]\n",
      "W0222 00:01:09.939000 10580 site-packages\\torch\\_dynamo\\convert_frame.py:1233]                   ^^^^^^^^^^^^^^^^^^^^^^^^^^^^^\n",
      "W0222 00:01:09.939000 10580 site-packages\\torch\\_dynamo\\convert_frame.py:1233]   File \"c:\\Users\\risko\\miniconda3\\envs\\prompt-classification\\Lib\\site-packages\\torch\\_inductor\\scheduler.py\", line 1947, in create_scheduler_node\n",
      "W0222 00:01:09.939000 10580 site-packages\\torch\\_dynamo\\convert_frame.py:1233]     return SchedulerNode(self, node)\n",
      "W0222 00:01:09.939000 10580 site-packages\\torch\\_dynamo\\convert_frame.py:1233]            ^^^^^^^^^^^^^^^^^^^^^^^^^\n",
      "W0222 00:01:09.939000 10580 site-packages\\torch\\_dynamo\\convert_frame.py:1233]   File \"c:\\Users\\risko\\miniconda3\\envs\\prompt-classification\\Lib\\site-packages\\torch\\_inductor\\scheduler.py\", line 893, in __init__\n",
      "W0222 00:01:09.939000 10580 site-packages\\torch\\_dynamo\\convert_frame.py:1233]     self._compute_attrs()\n",
      "W0222 00:01:09.939000 10580 site-packages\\torch\\_dynamo\\convert_frame.py:1233]   File \"c:\\Users\\risko\\miniconda3\\envs\\prompt-classification\\Lib\\site-packages\\torch\\_inductor\\scheduler.py\", line 907, in _compute_attrs\n",
      "W0222 00:01:09.939000 10580 site-packages\\torch\\_dynamo\\convert_frame.py:1233]     group_fn = self.scheduler.get_backend(device).group_fn\n",
      "W0222 00:01:09.939000 10580 site-packages\\torch\\_dynamo\\convert_frame.py:1233]                ^^^^^^^^^^^^^^^^^^^^^^^^^^^^^^^^^^\n",
      "W0222 00:01:09.939000 10580 site-packages\\torch\\_dynamo\\convert_frame.py:1233]   File \"c:\\Users\\risko\\miniconda3\\envs\\prompt-classification\\Lib\\site-packages\\torch\\_inductor\\scheduler.py\", line 3441, in get_backend\n",
      "W0222 00:01:09.939000 10580 site-packages\\torch\\_dynamo\\convert_frame.py:1233]     self.backends[device] = self.create_backend(device)\n",
      "W0222 00:01:09.939000 10580 site-packages\\torch\\_dynamo\\convert_frame.py:1233]                             ^^^^^^^^^^^^^^^^^^^^^^^^^^^\n",
      "W0222 00:01:09.939000 10580 site-packages\\torch\\_dynamo\\convert_frame.py:1233]   File \"c:\\Users\\risko\\miniconda3\\envs\\prompt-classification\\Lib\\site-packages\\torch\\_inductor\\scheduler.py\", line 3432, in create_backend\n",
      "W0222 00:01:09.939000 10580 site-packages\\torch\\_dynamo\\convert_frame.py:1233]     raise RuntimeError(\n",
      "W0222 00:01:09.939000 10580 site-packages\\torch\\_dynamo\\convert_frame.py:1233] torch._dynamo.exc.BackendCompilerFailed: backend='inductor' raised:\n",
      "W0222 00:01:09.939000 10580 site-packages\\torch\\_dynamo\\convert_frame.py:1233] RuntimeError: Cannot find a working triton installation. Either the package is not installed or it is too old. More information on installing Triton can be found at https://github.com/openai/triton\n",
      "W0222 00:01:09.939000 10580 site-packages\\torch\\_dynamo\\convert_frame.py:1233] \n",
      "W0222 00:01:09.939000 10580 site-packages\\torch\\_dynamo\\convert_frame.py:1233] Set TORCH_LOGS=\"+dynamo\" and TORCHDYNAMO_VERBOSE=1 for more information\n",
      "W0222 00:01:09.939000 10580 site-packages\\torch\\_dynamo\\convert_frame.py:1233] \n",
      "c:\\Users\\risko\\miniconda3\\envs\\prompt-classification\\Lib\\site-packages\\torch\\_inductor\\compile_fx.py:194: UserWarning: TensorFloat32 tensor cores for float32 matrix multiplication available but not enabled. Consider setting `torch.set_float32_matmul_precision('high')` for better performance.\n",
      "  warnings.warn(\n",
      "W0222 00:01:10.335000 10580 site-packages\\torch\\_inductor\\utils.py:1137] [1/0] Not enough SMs to use max_autotune_gemm mode\n",
      "W0222 00:01:10.367000 10580 site-packages\\torch\\_dynamo\\convert_frame.py:1233] WON'T CONVERT compiled_mlp c:\\Users\\risko\\miniconda3\\envs\\prompt-classification\\Lib\\site-packages\\transformers\\models\\modernbert\\modeling_modernbert.py line 552 \n",
      "W0222 00:01:10.367000 10580 site-packages\\torch\\_dynamo\\convert_frame.py:1233] due to: \n",
      "W0222 00:01:10.367000 10580 site-packages\\torch\\_dynamo\\convert_frame.py:1233] Traceback (most recent call last):\n",
      "W0222 00:01:10.367000 10580 site-packages\\torch\\_dynamo\\convert_frame.py:1233]   File \"c:\\Users\\risko\\miniconda3\\envs\\prompt-classification\\Lib\\site-packages\\torch\\_dynamo\\convert_frame.py\", line 1164, in __call__\n",
      "W0222 00:01:10.367000 10580 site-packages\\torch\\_dynamo\\convert_frame.py:1233]     result = self._inner_convert(\n",
      "W0222 00:01:10.367000 10580 site-packages\\torch\\_dynamo\\convert_frame.py:1233]              ^^^^^^^^^^^^^^^^^^^^\n",
      "W0222 00:01:10.367000 10580 site-packages\\torch\\_dynamo\\convert_frame.py:1233]   File \"c:\\Users\\risko\\miniconda3\\envs\\prompt-classification\\Lib\\site-packages\\torch\\_dynamo\\convert_frame.py\", line 547, in __call__\n",
      "W0222 00:01:10.367000 10580 site-packages\\torch\\_dynamo\\convert_frame.py:1233]     return _compile(\n",
      "W0222 00:01:10.367000 10580 site-packages\\torch\\_dynamo\\convert_frame.py:1233]            ^^^^^^^^^\n",
      "W0222 00:01:10.367000 10580 site-packages\\torch\\_dynamo\\convert_frame.py:1233]   File \"c:\\Users\\risko\\miniconda3\\envs\\prompt-classification\\Lib\\site-packages\\torch\\_dynamo\\convert_frame.py\", line 986, in _compile\n",
      "W0222 00:01:10.367000 10580 site-packages\\torch\\_dynamo\\convert_frame.py:1233]     guarded_code = compile_inner(code, one_graph, hooks, transform)\n",
      "W0222 00:01:10.367000 10580 site-packages\\torch\\_dynamo\\convert_frame.py:1233]                    ^^^^^^^^^^^^^^^^^^^^^^^^^^^^^^^^^^^^^^^^^^^^^^^^\n",
      "W0222 00:01:10.367000 10580 site-packages\\torch\\_dynamo\\convert_frame.py:1233]   File \"c:\\Users\\risko\\miniconda3\\envs\\prompt-classification\\Lib\\site-packages\\torch\\_dynamo\\convert_frame.py\", line 715, in compile_inner\n",
      "W0222 00:01:10.367000 10580 site-packages\\torch\\_dynamo\\convert_frame.py:1233]     return _compile_inner(code, one_graph, hooks, transform)\n",
      "W0222 00:01:10.367000 10580 site-packages\\torch\\_dynamo\\convert_frame.py:1233]            ^^^^^^^^^^^^^^^^^^^^^^^^^^^^^^^^^^^^^^^^^^^^^^^^^\n",
      "W0222 00:01:10.367000 10580 site-packages\\torch\\_dynamo\\convert_frame.py:1233]   File \"c:\\Users\\risko\\miniconda3\\envs\\prompt-classification\\Lib\\site-packages\\torch\\_utils_internal.py\", line 95, in wrapper_function\n",
      "W0222 00:01:10.367000 10580 site-packages\\torch\\_dynamo\\convert_frame.py:1233]     return function(*args, **kwargs)\n",
      "W0222 00:01:10.367000 10580 site-packages\\torch\\_dynamo\\convert_frame.py:1233]            ^^^^^^^^^^^^^^^^^^^^^^^^^\n",
      "W0222 00:01:10.367000 10580 site-packages\\torch\\_dynamo\\convert_frame.py:1233]   File \"c:\\Users\\risko\\miniconda3\\envs\\prompt-classification\\Lib\\site-packages\\torch\\_dynamo\\convert_frame.py\", line 750, in _compile_inner\n",
      "W0222 00:01:10.367000 10580 site-packages\\torch\\_dynamo\\convert_frame.py:1233]     out_code = transform_code_object(code, transform)\n",
      "W0222 00:01:10.367000 10580 site-packages\\torch\\_dynamo\\convert_frame.py:1233]                ^^^^^^^^^^^^^^^^^^^^^^^^^^^^^^^^^^^^^^\n",
      "W0222 00:01:10.367000 10580 site-packages\\torch\\_dynamo\\convert_frame.py:1233]   File \"c:\\Users\\risko\\miniconda3\\envs\\prompt-classification\\Lib\\site-packages\\torch\\_dynamo\\bytecode_transformation.py\", line 1361, in transform_code_object\n",
      "W0222 00:01:10.367000 10580 site-packages\\torch\\_dynamo\\convert_frame.py:1233]     transformations(instructions, code_options)\n",
      "W0222 00:01:10.367000 10580 site-packages\\torch\\_dynamo\\convert_frame.py:1233]   File \"c:\\Users\\risko\\miniconda3\\envs\\prompt-classification\\Lib\\site-packages\\torch\\_dynamo\\convert_frame.py\", line 231, in _fn\n",
      "W0222 00:01:10.367000 10580 site-packages\\torch\\_dynamo\\convert_frame.py:1233]     return fn(*args, **kwargs)\n",
      "W0222 00:01:10.367000 10580 site-packages\\torch\\_dynamo\\convert_frame.py:1233]            ^^^^^^^^^^^^^^^^^^^\n",
      "W0222 00:01:10.367000 10580 site-packages\\torch\\_dynamo\\convert_frame.py:1233]   File \"c:\\Users\\risko\\miniconda3\\envs\\prompt-classification\\Lib\\site-packages\\torch\\_dynamo\\convert_frame.py\", line 662, in transform\n",
      "W0222 00:01:10.367000 10580 site-packages\\torch\\_dynamo\\convert_frame.py:1233]     tracer.run()\n",
      "W0222 00:01:10.367000 10580 site-packages\\torch\\_dynamo\\convert_frame.py:1233]   File \"c:\\Users\\risko\\miniconda3\\envs\\prompt-classification\\Lib\\site-packages\\torch\\_dynamo\\symbolic_convert.py\", line 2868, in run\n",
      "W0222 00:01:10.367000 10580 site-packages\\torch\\_dynamo\\convert_frame.py:1233]     super().run()\n",
      "W0222 00:01:10.367000 10580 site-packages\\torch\\_dynamo\\convert_frame.py:1233]   File \"c:\\Users\\risko\\miniconda3\\envs\\prompt-classification\\Lib\\site-packages\\torch\\_dynamo\\symbolic_convert.py\", line 1052, in run\n",
      "W0222 00:01:10.367000 10580 site-packages\\torch\\_dynamo\\convert_frame.py:1233]     while self.step():\n",
      "W0222 00:01:10.367000 10580 site-packages\\torch\\_dynamo\\convert_frame.py:1233]           ^^^^^^^^^^^\n",
      "W0222 00:01:10.367000 10580 site-packages\\torch\\_dynamo\\convert_frame.py:1233]   File \"c:\\Users\\risko\\miniconda3\\envs\\prompt-classification\\Lib\\site-packages\\torch\\_dynamo\\symbolic_convert.py\", line 962, in step\n",
      "W0222 00:01:10.367000 10580 site-packages\\torch\\_dynamo\\convert_frame.py:1233]     self.dispatch_table[inst.opcode](self, inst)\n",
      "W0222 00:01:10.367000 10580 site-packages\\torch\\_dynamo\\convert_frame.py:1233]   File \"c:\\Users\\risko\\miniconda3\\envs\\prompt-classification\\Lib\\site-packages\\torch\\_dynamo\\symbolic_convert.py\", line 3048, in RETURN_VALUE\n",
      "W0222 00:01:10.367000 10580 site-packages\\torch\\_dynamo\\convert_frame.py:1233]     self._return(inst)\n",
      "W0222 00:01:10.367000 10580 site-packages\\torch\\_dynamo\\convert_frame.py:1233]   File \"c:\\Users\\risko\\miniconda3\\envs\\prompt-classification\\Lib\\site-packages\\torch\\_dynamo\\symbolic_convert.py\", line 3033, in _return\n",
      "W0222 00:01:10.367000 10580 site-packages\\torch\\_dynamo\\convert_frame.py:1233]     self.output.compile_subgraph(\n",
      "W0222 00:01:10.367000 10580 site-packages\\torch\\_dynamo\\convert_frame.py:1233]   File \"c:\\Users\\risko\\miniconda3\\envs\\prompt-classification\\Lib\\site-packages\\torch\\_dynamo\\output_graph.py\", line 1101, in compile_subgraph\n",
      "W0222 00:01:10.367000 10580 site-packages\\torch\\_dynamo\\convert_frame.py:1233]     self.compile_and_call_fx_graph(\n",
      "W0222 00:01:10.367000 10580 site-packages\\torch\\_dynamo\\convert_frame.py:1233]   File \"c:\\Users\\risko\\miniconda3\\envs\\prompt-classification\\Lib\\site-packages\\torch\\_dynamo\\output_graph.py\", line 1382, in compile_and_call_fx_graph\n",
      "W0222 00:01:10.367000 10580 site-packages\\torch\\_dynamo\\convert_frame.py:1233]     compiled_fn = self.call_user_compiler(gm)\n",
      "W0222 00:01:10.367000 10580 site-packages\\torch\\_dynamo\\convert_frame.py:1233]                   ^^^^^^^^^^^^^^^^^^^^^^^^^^^\n",
      "W0222 00:01:10.367000 10580 site-packages\\torch\\_dynamo\\convert_frame.py:1233]   File \"c:\\Users\\risko\\miniconda3\\envs\\prompt-classification\\Lib\\site-packages\\torch\\_dynamo\\output_graph.py\", line 1432, in call_user_compiler\n",
      "W0222 00:01:10.367000 10580 site-packages\\torch\\_dynamo\\convert_frame.py:1233]     return self._call_user_compiler(gm)\n",
      "W0222 00:01:10.367000 10580 site-packages\\torch\\_dynamo\\convert_frame.py:1233]            ^^^^^^^^^^^^^^^^^^^^^^^^^^^^\n",
      "W0222 00:01:10.367000 10580 site-packages\\torch\\_dynamo\\convert_frame.py:1233]   File \"c:\\Users\\risko\\miniconda3\\envs\\prompt-classification\\Lib\\site-packages\\torch\\_dynamo\\output_graph.py\", line 1483, in _call_user_compiler\n",
      "W0222 00:01:10.367000 10580 site-packages\\torch\\_dynamo\\convert_frame.py:1233]     raise BackendCompilerFailed(self.compiler_fn, e).with_traceback(\n",
      "W0222 00:01:10.367000 10580 site-packages\\torch\\_dynamo\\convert_frame.py:1233]   File \"c:\\Users\\risko\\miniconda3\\envs\\prompt-classification\\Lib\\site-packages\\torch\\_dynamo\\output_graph.py\", line 1462, in _call_user_compiler\n",
      "W0222 00:01:10.367000 10580 site-packages\\torch\\_dynamo\\convert_frame.py:1233]     compiled_fn = compiler_fn(gm, self.example_inputs())\n",
      "W0222 00:01:10.367000 10580 site-packages\\torch\\_dynamo\\convert_frame.py:1233]                   ^^^^^^^^^^^^^^^^^^^^^^^^^^^^^^^^^^^^^^\n",
      "W0222 00:01:10.367000 10580 site-packages\\torch\\_dynamo\\convert_frame.py:1233]   File \"c:\\Users\\risko\\miniconda3\\envs\\prompt-classification\\Lib\\site-packages\\torch\\_dynamo\\repro\\after_dynamo.py\", line 130, in __call__\n",
      "W0222 00:01:10.367000 10580 site-packages\\torch\\_dynamo\\convert_frame.py:1233]     compiled_gm = compiler_fn(gm, example_inputs)\n",
      "W0222 00:01:10.367000 10580 site-packages\\torch\\_dynamo\\convert_frame.py:1233]                   ^^^^^^^^^^^^^^^^^^^^^^^^^^^^^^^\n",
      "W0222 00:01:10.367000 10580 site-packages\\torch\\_dynamo\\convert_frame.py:1233]   File \"c:\\Users\\risko\\miniconda3\\envs\\prompt-classification\\Lib\\site-packages\\torch\\__init__.py\", line 2340, in __call__\n",
      "W0222 00:01:10.367000 10580 site-packages\\torch\\_dynamo\\convert_frame.py:1233]     return compile_fx(model_, inputs_, config_patches=self.config)\n",
      "W0222 00:01:10.367000 10580 site-packages\\torch\\_dynamo\\convert_frame.py:1233]            ^^^^^^^^^^^^^^^^^^^^^^^^^^^^^^^^^^^^^^^^^^^^^^^^^^^^^^^\n",
      "W0222 00:01:10.367000 10580 site-packages\\torch\\_dynamo\\convert_frame.py:1233]   File \"c:\\Users\\risko\\miniconda3\\envs\\prompt-classification\\Lib\\site-packages\\torch\\_inductor\\compile_fx.py\", line 1863, in compile_fx\n",
      "W0222 00:01:10.367000 10580 site-packages\\torch\\_dynamo\\convert_frame.py:1233]     return aot_autograd(\n",
      "W0222 00:01:10.367000 10580 site-packages\\torch\\_dynamo\\convert_frame.py:1233]            ^^^^^^^^^^^^^\n",
      "W0222 00:01:10.367000 10580 site-packages\\torch\\_dynamo\\convert_frame.py:1233]   File \"c:\\Users\\risko\\miniconda3\\envs\\prompt-classification\\Lib\\site-packages\\torch\\_dynamo\\backends\\common.py\", line 83, in __call__\n",
      "W0222 00:01:10.367000 10580 site-packages\\torch\\_dynamo\\convert_frame.py:1233]     cg = aot_module_simplified(gm, example_inputs, **self.kwargs)\n",
      "W0222 00:01:10.367000 10580 site-packages\\torch\\_dynamo\\convert_frame.py:1233]          ^^^^^^^^^^^^^^^^^^^^^^^^^^^^^^^^^^^^^^^^^^^^^^^^^^^^^^^^\n",
      "W0222 00:01:10.367000 10580 site-packages\\torch\\_dynamo\\convert_frame.py:1233]   File \"c:\\Users\\risko\\miniconda3\\envs\\prompt-classification\\Lib\\site-packages\\torch\\_functorch\\aot_autograd.py\", line 1155, in aot_module_simplified\n",
      "W0222 00:01:10.367000 10580 site-packages\\torch\\_dynamo\\convert_frame.py:1233]     compiled_fn = dispatch_and_compile()\n",
      "W0222 00:01:10.367000 10580 site-packages\\torch\\_dynamo\\convert_frame.py:1233]                   ^^^^^^^^^^^^^^^^^^^^^^\n",
      "W0222 00:01:10.367000 10580 site-packages\\torch\\_dynamo\\convert_frame.py:1233]   File \"c:\\Users\\risko\\miniconda3\\envs\\prompt-classification\\Lib\\site-packages\\torch\\_functorch\\aot_autograd.py\", line 1131, in dispatch_and_compile\n",
      "W0222 00:01:10.367000 10580 site-packages\\torch\\_dynamo\\convert_frame.py:1233]     compiled_fn, _ = create_aot_dispatcher_function(\n",
      "W0222 00:01:10.367000 10580 site-packages\\torch\\_dynamo\\convert_frame.py:1233]                      ^^^^^^^^^^^^^^^^^^^^^^^^^^^^^^^\n",
      "W0222 00:01:10.367000 10580 site-packages\\torch\\_dynamo\\convert_frame.py:1233]   File \"c:\\Users\\risko\\miniconda3\\envs\\prompt-classification\\Lib\\site-packages\\torch\\_functorch\\aot_autograd.py\", line 580, in create_aot_dispatcher_function\n",
      "W0222 00:01:10.367000 10580 site-packages\\torch\\_dynamo\\convert_frame.py:1233]     return _create_aot_dispatcher_function(\n",
      "W0222 00:01:10.367000 10580 site-packages\\torch\\_dynamo\\convert_frame.py:1233]            ^^^^^^^^^^^^^^^^^^^^^^^^^^^^^^^^\n",
      "W0222 00:01:10.367000 10580 site-packages\\torch\\_dynamo\\convert_frame.py:1233]   File \"c:\\Users\\risko\\miniconda3\\envs\\prompt-classification\\Lib\\site-packages\\torch\\_functorch\\aot_autograd.py\", line 830, in _create_aot_dispatcher_function\n",
      "W0222 00:01:10.367000 10580 site-packages\\torch\\_dynamo\\convert_frame.py:1233]     compiled_fn, fw_metadata = compiler_fn(\n",
      "W0222 00:01:10.367000 10580 site-packages\\torch\\_dynamo\\convert_frame.py:1233]                                ^^^^^^^^^^^^\n",
      "W0222 00:01:10.367000 10580 site-packages\\torch\\_dynamo\\convert_frame.py:1233]   File \"c:\\Users\\risko\\miniconda3\\envs\\prompt-classification\\Lib\\site-packages\\torch\\_functorch\\_aot_autograd\\jit_compile_runtime_wrappers.py\", line 203, in aot_dispatch_base\n",
      "W0222 00:01:10.367000 10580 site-packages\\torch\\_dynamo\\convert_frame.py:1233]     compiled_fw = compiler(fw_module, updated_flat_args)\n",
      "W0222 00:01:10.367000 10580 site-packages\\torch\\_dynamo\\convert_frame.py:1233]                   ^^^^^^^^^^^^^^^^^^^^^^^^^^^^^^^^^^^^^^\n",
      "W0222 00:01:10.367000 10580 site-packages\\torch\\_dynamo\\convert_frame.py:1233]   File \"c:\\Users\\risko\\miniconda3\\envs\\prompt-classification\\Lib\\site-packages\\torch\\_functorch\\aot_autograd.py\", line 489, in __call__\n",
      "W0222 00:01:10.367000 10580 site-packages\\torch\\_dynamo\\convert_frame.py:1233]     return self.compiler_fn(gm, example_inputs)\n",
      "W0222 00:01:10.367000 10580 site-packages\\torch\\_dynamo\\convert_frame.py:1233]            ^^^^^^^^^^^^^^^^^^^^^^^^^^^^^^^^^^^^\n",
      "W0222 00:01:10.367000 10580 site-packages\\torch\\_dynamo\\convert_frame.py:1233]   File \"c:\\Users\\risko\\miniconda3\\envs\\prompt-classification\\Lib\\site-packages\\torch\\_inductor\\compile_fx.py\", line 1741, in fw_compiler_base\n",
      "W0222 00:01:10.367000 10580 site-packages\\torch\\_dynamo\\convert_frame.py:1233]     return inner_compile(\n",
      "W0222 00:01:10.367000 10580 site-packages\\torch\\_dynamo\\convert_frame.py:1233]            ^^^^^^^^^^^^^^\n",
      "W0222 00:01:10.367000 10580 site-packages\\torch\\_dynamo\\convert_frame.py:1233]   File \"c:\\Users\\risko\\miniconda3\\envs\\prompt-classification\\Lib\\site-packages\\torch\\_inductor\\compile_fx.py\", line 569, in compile_fx_inner\n",
      "W0222 00:01:10.367000 10580 site-packages\\torch\\_dynamo\\convert_frame.py:1233]     return wrap_compiler_debug(_compile_fx_inner, compiler_name=\"inductor\")(\n",
      "W0222 00:01:10.367000 10580 site-packages\\torch\\_dynamo\\convert_frame.py:1233]            ^^^^^^^^^^^^^^^^^^^^^^^^^^^^^^^^^^^^^^^^^^^^^^^^^^^^^^^^^^^^^^^^^\n",
      "W0222 00:01:10.367000 10580 site-packages\\torch\\_dynamo\\convert_frame.py:1233]   File \"c:\\Users\\risko\\miniconda3\\envs\\prompt-classification\\Lib\\site-packages\\torch\\_dynamo\\repro\\after_aot.py\", line 102, in debug_wrapper\n",
      "W0222 00:01:10.367000 10580 site-packages\\torch\\_dynamo\\convert_frame.py:1233]     inner_compiled_fn = compiler_fn(gm, example_inputs)\n",
      "W0222 00:01:10.367000 10580 site-packages\\torch\\_dynamo\\convert_frame.py:1233]                         ^^^^^^^^^^^^^^^^^^^^^^^^^^^^^^^\n",
      "W0222 00:01:10.367000 10580 site-packages\\torch\\_dynamo\\convert_frame.py:1233]   File \"c:\\Users\\risko\\miniconda3\\envs\\prompt-classification\\Lib\\site-packages\\torch\\_inductor\\compile_fx.py\", line 685, in _compile_fx_inner\n",
      "W0222 00:01:10.367000 10580 site-packages\\torch\\_dynamo\\convert_frame.py:1233]     mb_compiled_graph = fx_codegen_and_compile(\n",
      "W0222 00:01:10.367000 10580 site-packages\\torch\\_dynamo\\convert_frame.py:1233]                         ^^^^^^^^^^^^^^^^^^^^^^^\n",
      "W0222 00:01:10.367000 10580 site-packages\\torch\\_dynamo\\convert_frame.py:1233]   File \"c:\\Users\\risko\\miniconda3\\envs\\prompt-classification\\Lib\\site-packages\\torch\\_inductor\\compile_fx.py\", line 1129, in fx_codegen_and_compile\n",
      "W0222 00:01:10.367000 10580 site-packages\\torch\\_dynamo\\convert_frame.py:1233]     return scheme.codegen_and_compile(gm, example_inputs, inputs_to_check, graph_kwargs)\n",
      "W0222 00:01:10.367000 10580 site-packages\\torch\\_dynamo\\convert_frame.py:1233]            ^^^^^^^^^^^^^^^^^^^^^^^^^^^^^^^^^^^^^^^^^^^^^^^^^^^^^^^^^^^^^^^^^^^^^^^^^^^^^\n",
      "W0222 00:01:10.367000 10580 site-packages\\torch\\_dynamo\\convert_frame.py:1233]   File \"c:\\Users\\risko\\miniconda3\\envs\\prompt-classification\\Lib\\site-packages\\torch\\_inductor\\compile_fx.py\", line 1044, in codegen_and_compile\n",
      "W0222 00:01:10.367000 10580 site-packages\\torch\\_dynamo\\convert_frame.py:1233]     compiled_fn = graph.compile_to_module().call\n",
      "W0222 00:01:10.367000 10580 site-packages\\torch\\_dynamo\\convert_frame.py:1233]                   ^^^^^^^^^^^^^^^^^^^^^^^^^\n",
      "W0222 00:01:10.367000 10580 site-packages\\torch\\_dynamo\\convert_frame.py:1233]   File \"c:\\Users\\risko\\miniconda3\\envs\\prompt-classification\\Lib\\site-packages\\torch\\_inductor\\graph.py\", line 2027, in compile_to_module\n",
      "W0222 00:01:10.367000 10580 site-packages\\torch\\_dynamo\\convert_frame.py:1233]     return self._compile_to_module()\n",
      "W0222 00:01:10.367000 10580 site-packages\\torch\\_dynamo\\convert_frame.py:1233]            ^^^^^^^^^^^^^^^^^^^^^^^^^\n",
      "W0222 00:01:10.367000 10580 site-packages\\torch\\_dynamo\\convert_frame.py:1233]   File \"c:\\Users\\risko\\miniconda3\\envs\\prompt-classification\\Lib\\site-packages\\torch\\_inductor\\graph.py\", line 2033, in _compile_to_module\n",
      "W0222 00:01:10.367000 10580 site-packages\\torch\\_dynamo\\convert_frame.py:1233]     self.codegen_with_cpp_wrapper() if self.cpp_wrapper else self.codegen()\n",
      "W0222 00:01:10.367000 10580 site-packages\\torch\\_dynamo\\convert_frame.py:1233]                                                              ^^^^^^^^^^^^^^\n",
      "W0222 00:01:10.367000 10580 site-packages\\torch\\_dynamo\\convert_frame.py:1233]   File \"c:\\Users\\risko\\miniconda3\\envs\\prompt-classification\\Lib\\site-packages\\torch\\_inductor\\graph.py\", line 1964, in codegen\n",
      "W0222 00:01:10.367000 10580 site-packages\\torch\\_dynamo\\convert_frame.py:1233]     self.scheduler = Scheduler(self.operations)\n",
      "W0222 00:01:10.367000 10580 site-packages\\torch\\_dynamo\\convert_frame.py:1233]                      ^^^^^^^^^^^^^^^^^^^^^^^^^^\n",
      "W0222 00:01:10.367000 10580 site-packages\\torch\\_dynamo\\convert_frame.py:1233]   File \"c:\\Users\\risko\\miniconda3\\envs\\prompt-classification\\Lib\\site-packages\\torch\\_inductor\\scheduler.py\", line 1798, in __init__\n",
      "W0222 00:01:10.367000 10580 site-packages\\torch\\_dynamo\\convert_frame.py:1233]     self._init(nodes)\n",
      "W0222 00:01:10.367000 10580 site-packages\\torch\\_dynamo\\convert_frame.py:1233]   File \"c:\\Users\\risko\\miniconda3\\envs\\prompt-classification\\Lib\\site-packages\\torch\\_inductor\\scheduler.py\", line 1816, in _init\n",
      "W0222 00:01:10.367000 10580 site-packages\\torch\\_dynamo\\convert_frame.py:1233]     self.nodes = [self.create_scheduler_node(n) for n in nodes]\n",
      "W0222 00:01:10.367000 10580 site-packages\\torch\\_dynamo\\convert_frame.py:1233]                  ^^^^^^^^^^^^^^^^^^^^^^^^^^^^^^^^^^^^^^^^^^^^^^\n",
      "W0222 00:01:10.367000 10580 site-packages\\torch\\_dynamo\\convert_frame.py:1233]   File \"c:\\Users\\risko\\miniconda3\\envs\\prompt-classification\\Lib\\site-packages\\torch\\_inductor\\scheduler.py\", line 1816, in <listcomp>\n",
      "W0222 00:01:10.367000 10580 site-packages\\torch\\_dynamo\\convert_frame.py:1233]     self.nodes = [self.create_scheduler_node(n) for n in nodes]\n",
      "W0222 00:01:10.367000 10580 site-packages\\torch\\_dynamo\\convert_frame.py:1233]                   ^^^^^^^^^^^^^^^^^^^^^^^^^^^^^\n",
      "W0222 00:01:10.367000 10580 site-packages\\torch\\_dynamo\\convert_frame.py:1233]   File \"c:\\Users\\risko\\miniconda3\\envs\\prompt-classification\\Lib\\site-packages\\torch\\_inductor\\scheduler.py\", line 1947, in create_scheduler_node\n",
      "W0222 00:01:10.367000 10580 site-packages\\torch\\_dynamo\\convert_frame.py:1233]     return SchedulerNode(self, node)\n",
      "W0222 00:01:10.367000 10580 site-packages\\torch\\_dynamo\\convert_frame.py:1233]            ^^^^^^^^^^^^^^^^^^^^^^^^^\n",
      "W0222 00:01:10.367000 10580 site-packages\\torch\\_dynamo\\convert_frame.py:1233]   File \"c:\\Users\\risko\\miniconda3\\envs\\prompt-classification\\Lib\\site-packages\\torch\\_inductor\\scheduler.py\", line 893, in __init__\n",
      "W0222 00:01:10.367000 10580 site-packages\\torch\\_dynamo\\convert_frame.py:1233]     self._compute_attrs()\n",
      "W0222 00:01:10.367000 10580 site-packages\\torch\\_dynamo\\convert_frame.py:1233]   File \"c:\\Users\\risko\\miniconda3\\envs\\prompt-classification\\Lib\\site-packages\\torch\\_inductor\\scheduler.py\", line 907, in _compute_attrs\n",
      "W0222 00:01:10.367000 10580 site-packages\\torch\\_dynamo\\convert_frame.py:1233]     group_fn = self.scheduler.get_backend(device).group_fn\n",
      "W0222 00:01:10.367000 10580 site-packages\\torch\\_dynamo\\convert_frame.py:1233]                ^^^^^^^^^^^^^^^^^^^^^^^^^^^^^^^^^^\n",
      "W0222 00:01:10.367000 10580 site-packages\\torch\\_dynamo\\convert_frame.py:1233]   File \"c:\\Users\\risko\\miniconda3\\envs\\prompt-classification\\Lib\\site-packages\\torch\\_inductor\\scheduler.py\", line 3441, in get_backend\n",
      "W0222 00:01:10.367000 10580 site-packages\\torch\\_dynamo\\convert_frame.py:1233]     self.backends[device] = self.create_backend(device)\n",
      "W0222 00:01:10.367000 10580 site-packages\\torch\\_dynamo\\convert_frame.py:1233]                             ^^^^^^^^^^^^^^^^^^^^^^^^^^^\n",
      "W0222 00:01:10.367000 10580 site-packages\\torch\\_dynamo\\convert_frame.py:1233]   File \"c:\\Users\\risko\\miniconda3\\envs\\prompt-classification\\Lib\\site-packages\\torch\\_inductor\\scheduler.py\", line 3432, in create_backend\n",
      "W0222 00:01:10.367000 10580 site-packages\\torch\\_dynamo\\convert_frame.py:1233]     raise RuntimeError(\n",
      "W0222 00:01:10.367000 10580 site-packages\\torch\\_dynamo\\convert_frame.py:1233] torch._dynamo.exc.BackendCompilerFailed: backend='inductor' raised:\n",
      "W0222 00:01:10.367000 10580 site-packages\\torch\\_dynamo\\convert_frame.py:1233] RuntimeError: Cannot find a working triton installation. Either the package is not installed or it is too old. More information on installing Triton can be found at https://github.com/openai/triton\n",
      "W0222 00:01:10.367000 10580 site-packages\\torch\\_dynamo\\convert_frame.py:1233] \n",
      "W0222 00:01:10.367000 10580 site-packages\\torch\\_dynamo\\convert_frame.py:1233] Set TORCH_LOGS=\"+dynamo\" and TORCHDYNAMO_VERBOSE=1 for more information\n",
      "W0222 00:01:10.367000 10580 site-packages\\torch\\_dynamo\\convert_frame.py:1233] \n",
      "W0222 00:01:10.367000 10580 site-packages\\torch\\_dynamo\\convert_frame.py:1233] Traceback (most recent call last):\n",
      "W0222 00:01:10.367000 10580 site-packages\\torch\\_dynamo\\convert_frame.py:1233]   File \"c:\\Users\\risko\\miniconda3\\envs\\prompt-classification\\Lib\\site-packages\\torch\\_dynamo\\convert_frame.py\", line 1164, in __call__\n",
      "W0222 00:01:10.367000 10580 site-packages\\torch\\_dynamo\\convert_frame.py:1233]     result = self._inner_convert(\n",
      "W0222 00:01:10.367000 10580 site-packages\\torch\\_dynamo\\convert_frame.py:1233]              ^^^^^^^^^^^^^^^^^^^^\n",
      "W0222 00:01:10.367000 10580 site-packages\\torch\\_dynamo\\convert_frame.py:1233]   File \"c:\\Users\\risko\\miniconda3\\envs\\prompt-classification\\Lib\\site-packages\\torch\\_dynamo\\convert_frame.py\", line 547, in __call__\n",
      "W0222 00:01:10.367000 10580 site-packages\\torch\\_dynamo\\convert_frame.py:1233]     return _compile(\n",
      "W0222 00:01:10.367000 10580 site-packages\\torch\\_dynamo\\convert_frame.py:1233]            ^^^^^^^^^\n",
      "W0222 00:01:10.367000 10580 site-packages\\torch\\_dynamo\\convert_frame.py:1233]   File \"c:\\Users\\risko\\miniconda3\\envs\\prompt-classification\\Lib\\site-packages\\torch\\_dynamo\\convert_frame.py\", line 986, in _compile\n",
      "W0222 00:01:10.367000 10580 site-packages\\torch\\_dynamo\\convert_frame.py:1233]     guarded_code = compile_inner(code, one_graph, hooks, transform)\n",
      "W0222 00:01:10.367000 10580 site-packages\\torch\\_dynamo\\convert_frame.py:1233]                    ^^^^^^^^^^^^^^^^^^^^^^^^^^^^^^^^^^^^^^^^^^^^^^^^\n",
      "W0222 00:01:10.367000 10580 site-packages\\torch\\_dynamo\\convert_frame.py:1233]   File \"c:\\Users\\risko\\miniconda3\\envs\\prompt-classification\\Lib\\site-packages\\torch\\_dynamo\\convert_frame.py\", line 715, in compile_inner\n",
      "W0222 00:01:10.367000 10580 site-packages\\torch\\_dynamo\\convert_frame.py:1233]     return _compile_inner(code, one_graph, hooks, transform)\n",
      "W0222 00:01:10.367000 10580 site-packages\\torch\\_dynamo\\convert_frame.py:1233]            ^^^^^^^^^^^^^^^^^^^^^^^^^^^^^^^^^^^^^^^^^^^^^^^^^\n",
      "W0222 00:01:10.367000 10580 site-packages\\torch\\_dynamo\\convert_frame.py:1233]   File \"c:\\Users\\risko\\miniconda3\\envs\\prompt-classification\\Lib\\site-packages\\torch\\_utils_internal.py\", line 95, in wrapper_function\n",
      "W0222 00:01:10.367000 10580 site-packages\\torch\\_dynamo\\convert_frame.py:1233]     return function(*args, **kwargs)\n",
      "W0222 00:01:10.367000 10580 site-packages\\torch\\_dynamo\\convert_frame.py:1233]            ^^^^^^^^^^^^^^^^^^^^^^^^^\n",
      "W0222 00:01:10.367000 10580 site-packages\\torch\\_dynamo\\convert_frame.py:1233]   File \"c:\\Users\\risko\\miniconda3\\envs\\prompt-classification\\Lib\\site-packages\\torch\\_dynamo\\convert_frame.py\", line 750, in _compile_inner\n",
      "W0222 00:01:10.367000 10580 site-packages\\torch\\_dynamo\\convert_frame.py:1233]     out_code = transform_code_object(code, transform)\n",
      "W0222 00:01:10.367000 10580 site-packages\\torch\\_dynamo\\convert_frame.py:1233]                ^^^^^^^^^^^^^^^^^^^^^^^^^^^^^^^^^^^^^^\n",
      "W0222 00:01:10.367000 10580 site-packages\\torch\\_dynamo\\convert_frame.py:1233]   File \"c:\\Users\\risko\\miniconda3\\envs\\prompt-classification\\Lib\\site-packages\\torch\\_dynamo\\bytecode_transformation.py\", line 1361, in transform_code_object\n",
      "W0222 00:01:10.367000 10580 site-packages\\torch\\_dynamo\\convert_frame.py:1233]     transformations(instructions, code_options)\n",
      "W0222 00:01:10.367000 10580 site-packages\\torch\\_dynamo\\convert_frame.py:1233]   File \"c:\\Users\\risko\\miniconda3\\envs\\prompt-classification\\Lib\\site-packages\\torch\\_dynamo\\convert_frame.py\", line 231, in _fn\n",
      "W0222 00:01:10.367000 10580 site-packages\\torch\\_dynamo\\convert_frame.py:1233]     return fn(*args, **kwargs)\n",
      "W0222 00:01:10.367000 10580 site-packages\\torch\\_dynamo\\convert_frame.py:1233]            ^^^^^^^^^^^^^^^^^^^\n",
      "W0222 00:01:10.367000 10580 site-packages\\torch\\_dynamo\\convert_frame.py:1233]   File \"c:\\Users\\risko\\miniconda3\\envs\\prompt-classification\\Lib\\site-packages\\torch\\_dynamo\\convert_frame.py\", line 662, in transform\n",
      "W0222 00:01:10.367000 10580 site-packages\\torch\\_dynamo\\convert_frame.py:1233]     tracer.run()\n",
      "W0222 00:01:10.367000 10580 site-packages\\torch\\_dynamo\\convert_frame.py:1233]   File \"c:\\Users\\risko\\miniconda3\\envs\\prompt-classification\\Lib\\site-packages\\torch\\_dynamo\\symbolic_convert.py\", line 2868, in run\n",
      "W0222 00:01:10.367000 10580 site-packages\\torch\\_dynamo\\convert_frame.py:1233]     super().run()\n",
      "W0222 00:01:10.367000 10580 site-packages\\torch\\_dynamo\\convert_frame.py:1233]   File \"c:\\Users\\risko\\miniconda3\\envs\\prompt-classification\\Lib\\site-packages\\torch\\_dynamo\\symbolic_convert.py\", line 1052, in run\n",
      "W0222 00:01:10.367000 10580 site-packages\\torch\\_dynamo\\convert_frame.py:1233]     while self.step():\n",
      "W0222 00:01:10.367000 10580 site-packages\\torch\\_dynamo\\convert_frame.py:1233]           ^^^^^^^^^^^\n",
      "W0222 00:01:10.367000 10580 site-packages\\torch\\_dynamo\\convert_frame.py:1233]   File \"c:\\Users\\risko\\miniconda3\\envs\\prompt-classification\\Lib\\site-packages\\torch\\_dynamo\\symbolic_convert.py\", line 962, in step\n",
      "W0222 00:01:10.367000 10580 site-packages\\torch\\_dynamo\\convert_frame.py:1233]     self.dispatch_table[inst.opcode](self, inst)\n",
      "W0222 00:01:10.367000 10580 site-packages\\torch\\_dynamo\\convert_frame.py:1233]   File \"c:\\Users\\risko\\miniconda3\\envs\\prompt-classification\\Lib\\site-packages\\torch\\_dynamo\\symbolic_convert.py\", line 3048, in RETURN_VALUE\n",
      "W0222 00:01:10.367000 10580 site-packages\\torch\\_dynamo\\convert_frame.py:1233]     self._return(inst)\n",
      "W0222 00:01:10.367000 10580 site-packages\\torch\\_dynamo\\convert_frame.py:1233]   File \"c:\\Users\\risko\\miniconda3\\envs\\prompt-classification\\Lib\\site-packages\\torch\\_dynamo\\symbolic_convert.py\", line 3033, in _return\n",
      "W0222 00:01:10.367000 10580 site-packages\\torch\\_dynamo\\convert_frame.py:1233]     self.output.compile_subgraph(\n",
      "W0222 00:01:10.367000 10580 site-packages\\torch\\_dynamo\\convert_frame.py:1233]   File \"c:\\Users\\risko\\miniconda3\\envs\\prompt-classification\\Lib\\site-packages\\torch\\_dynamo\\output_graph.py\", line 1101, in compile_subgraph\n",
      "W0222 00:01:10.367000 10580 site-packages\\torch\\_dynamo\\convert_frame.py:1233]     self.compile_and_call_fx_graph(\n",
      "W0222 00:01:10.367000 10580 site-packages\\torch\\_dynamo\\convert_frame.py:1233]   File \"c:\\Users\\risko\\miniconda3\\envs\\prompt-classification\\Lib\\site-packages\\torch\\_dynamo\\output_graph.py\", line 1382, in compile_and_call_fx_graph\n",
      "W0222 00:01:10.367000 10580 site-packages\\torch\\_dynamo\\convert_frame.py:1233]     compiled_fn = self.call_user_compiler(gm)\n",
      "W0222 00:01:10.367000 10580 site-packages\\torch\\_dynamo\\convert_frame.py:1233]                   ^^^^^^^^^^^^^^^^^^^^^^^^^^^\n",
      "W0222 00:01:10.367000 10580 site-packages\\torch\\_dynamo\\convert_frame.py:1233]   File \"c:\\Users\\risko\\miniconda3\\envs\\prompt-classification\\Lib\\site-packages\\torch\\_dynamo\\output_graph.py\", line 1432, in call_user_compiler\n",
      "W0222 00:01:10.367000 10580 site-packages\\torch\\_dynamo\\convert_frame.py:1233]     return self._call_user_compiler(gm)\n",
      "W0222 00:01:10.367000 10580 site-packages\\torch\\_dynamo\\convert_frame.py:1233]            ^^^^^^^^^^^^^^^^^^^^^^^^^^^^\n",
      "W0222 00:01:10.367000 10580 site-packages\\torch\\_dynamo\\convert_frame.py:1233]   File \"c:\\Users\\risko\\miniconda3\\envs\\prompt-classification\\Lib\\site-packages\\torch\\_dynamo\\output_graph.py\", line 1483, in _call_user_compiler\n",
      "W0222 00:01:10.367000 10580 site-packages\\torch\\_dynamo\\convert_frame.py:1233]     raise BackendCompilerFailed(self.compiler_fn, e).with_traceback(\n",
      "W0222 00:01:10.367000 10580 site-packages\\torch\\_dynamo\\convert_frame.py:1233]   File \"c:\\Users\\risko\\miniconda3\\envs\\prompt-classification\\Lib\\site-packages\\torch\\_dynamo\\output_graph.py\", line 1462, in _call_user_compiler\n",
      "W0222 00:01:10.367000 10580 site-packages\\torch\\_dynamo\\convert_frame.py:1233]     compiled_fn = compiler_fn(gm, self.example_inputs())\n",
      "W0222 00:01:10.367000 10580 site-packages\\torch\\_dynamo\\convert_frame.py:1233]                   ^^^^^^^^^^^^^^^^^^^^^^^^^^^^^^^^^^^^^^\n",
      "W0222 00:01:10.367000 10580 site-packages\\torch\\_dynamo\\convert_frame.py:1233]   File \"c:\\Users\\risko\\miniconda3\\envs\\prompt-classification\\Lib\\site-packages\\torch\\_dynamo\\repro\\after_dynamo.py\", line 130, in __call__\n",
      "W0222 00:01:10.367000 10580 site-packages\\torch\\_dynamo\\convert_frame.py:1233]     compiled_gm = compiler_fn(gm, example_inputs)\n",
      "W0222 00:01:10.367000 10580 site-packages\\torch\\_dynamo\\convert_frame.py:1233]                   ^^^^^^^^^^^^^^^^^^^^^^^^^^^^^^^\n",
      "W0222 00:01:10.367000 10580 site-packages\\torch\\_dynamo\\convert_frame.py:1233]   File \"c:\\Users\\risko\\miniconda3\\envs\\prompt-classification\\Lib\\site-packages\\torch\\__init__.py\", line 2340, in __call__\n",
      "W0222 00:01:10.367000 10580 site-packages\\torch\\_dynamo\\convert_frame.py:1233]     return compile_fx(model_, inputs_, config_patches=self.config)\n",
      "W0222 00:01:10.367000 10580 site-packages\\torch\\_dynamo\\convert_frame.py:1233]            ^^^^^^^^^^^^^^^^^^^^^^^^^^^^^^^^^^^^^^^^^^^^^^^^^^^^^^^\n",
      "W0222 00:01:10.367000 10580 site-packages\\torch\\_dynamo\\convert_frame.py:1233]   File \"c:\\Users\\risko\\miniconda3\\envs\\prompt-classification\\Lib\\site-packages\\torch\\_inductor\\compile_fx.py\", line 1863, in compile_fx\n",
      "W0222 00:01:10.367000 10580 site-packages\\torch\\_dynamo\\convert_frame.py:1233]     return aot_autograd(\n",
      "W0222 00:01:10.367000 10580 site-packages\\torch\\_dynamo\\convert_frame.py:1233]            ^^^^^^^^^^^^^\n",
      "W0222 00:01:10.367000 10580 site-packages\\torch\\_dynamo\\convert_frame.py:1233]   File \"c:\\Users\\risko\\miniconda3\\envs\\prompt-classification\\Lib\\site-packages\\torch\\_dynamo\\backends\\common.py\", line 83, in __call__\n",
      "W0222 00:01:10.367000 10580 site-packages\\torch\\_dynamo\\convert_frame.py:1233]     cg = aot_module_simplified(gm, example_inputs, **self.kwargs)\n",
      "W0222 00:01:10.367000 10580 site-packages\\torch\\_dynamo\\convert_frame.py:1233]          ^^^^^^^^^^^^^^^^^^^^^^^^^^^^^^^^^^^^^^^^^^^^^^^^^^^^^^^^\n",
      "W0222 00:01:10.367000 10580 site-packages\\torch\\_dynamo\\convert_frame.py:1233]   File \"c:\\Users\\risko\\miniconda3\\envs\\prompt-classification\\Lib\\site-packages\\torch\\_functorch\\aot_autograd.py\", line 1155, in aot_module_simplified\n",
      "W0222 00:01:10.367000 10580 site-packages\\torch\\_dynamo\\convert_frame.py:1233]     compiled_fn = dispatch_and_compile()\n",
      "W0222 00:01:10.367000 10580 site-packages\\torch\\_dynamo\\convert_frame.py:1233]                   ^^^^^^^^^^^^^^^^^^^^^^\n",
      "W0222 00:01:10.367000 10580 site-packages\\torch\\_dynamo\\convert_frame.py:1233]   File \"c:\\Users\\risko\\miniconda3\\envs\\prompt-classification\\Lib\\site-packages\\torch\\_functorch\\aot_autograd.py\", line 1131, in dispatch_and_compile\n",
      "W0222 00:01:10.367000 10580 site-packages\\torch\\_dynamo\\convert_frame.py:1233]     compiled_fn, _ = create_aot_dispatcher_function(\n",
      "W0222 00:01:10.367000 10580 site-packages\\torch\\_dynamo\\convert_frame.py:1233]                      ^^^^^^^^^^^^^^^^^^^^^^^^^^^^^^^\n",
      "W0222 00:01:10.367000 10580 site-packages\\torch\\_dynamo\\convert_frame.py:1233]   File \"c:\\Users\\risko\\miniconda3\\envs\\prompt-classification\\Lib\\site-packages\\torch\\_functorch\\aot_autograd.py\", line 580, in create_aot_dispatcher_function\n",
      "W0222 00:01:10.367000 10580 site-packages\\torch\\_dynamo\\convert_frame.py:1233]     return _create_aot_dispatcher_function(\n",
      "W0222 00:01:10.367000 10580 site-packages\\torch\\_dynamo\\convert_frame.py:1233]            ^^^^^^^^^^^^^^^^^^^^^^^^^^^^^^^^\n",
      "W0222 00:01:10.367000 10580 site-packages\\torch\\_dynamo\\convert_frame.py:1233]   File \"c:\\Users\\risko\\miniconda3\\envs\\prompt-classification\\Lib\\site-packages\\torch\\_functorch\\aot_autograd.py\", line 830, in _create_aot_dispatcher_function\n",
      "W0222 00:01:10.367000 10580 site-packages\\torch\\_dynamo\\convert_frame.py:1233]     compiled_fn, fw_metadata = compiler_fn(\n",
      "W0222 00:01:10.367000 10580 site-packages\\torch\\_dynamo\\convert_frame.py:1233]                                ^^^^^^^^^^^^\n",
      "W0222 00:01:10.367000 10580 site-packages\\torch\\_dynamo\\convert_frame.py:1233]   File \"c:\\Users\\risko\\miniconda3\\envs\\prompt-classification\\Lib\\site-packages\\torch\\_functorch\\_aot_autograd\\jit_compile_runtime_wrappers.py\", line 203, in aot_dispatch_base\n",
      "W0222 00:01:10.367000 10580 site-packages\\torch\\_dynamo\\convert_frame.py:1233]     compiled_fw = compiler(fw_module, updated_flat_args)\n",
      "W0222 00:01:10.367000 10580 site-packages\\torch\\_dynamo\\convert_frame.py:1233]                   ^^^^^^^^^^^^^^^^^^^^^^^^^^^^^^^^^^^^^^\n",
      "W0222 00:01:10.367000 10580 site-packages\\torch\\_dynamo\\convert_frame.py:1233]   File \"c:\\Users\\risko\\miniconda3\\envs\\prompt-classification\\Lib\\site-packages\\torch\\_functorch\\aot_autograd.py\", line 489, in __call__\n",
      "W0222 00:01:10.367000 10580 site-packages\\torch\\_dynamo\\convert_frame.py:1233]     return self.compiler_fn(gm, example_inputs)\n",
      "W0222 00:01:10.367000 10580 site-packages\\torch\\_dynamo\\convert_frame.py:1233]            ^^^^^^^^^^^^^^^^^^^^^^^^^^^^^^^^^^^^\n",
      "W0222 00:01:10.367000 10580 site-packages\\torch\\_dynamo\\convert_frame.py:1233]   File \"c:\\Users\\risko\\miniconda3\\envs\\prompt-classification\\Lib\\site-packages\\torch\\_inductor\\compile_fx.py\", line 1741, in fw_compiler_base\n",
      "W0222 00:01:10.367000 10580 site-packages\\torch\\_dynamo\\convert_frame.py:1233]     return inner_compile(\n",
      "W0222 00:01:10.367000 10580 site-packages\\torch\\_dynamo\\convert_frame.py:1233]            ^^^^^^^^^^^^^^\n",
      "W0222 00:01:10.367000 10580 site-packages\\torch\\_dynamo\\convert_frame.py:1233]   File \"c:\\Users\\risko\\miniconda3\\envs\\prompt-classification\\Lib\\site-packages\\torch\\_inductor\\compile_fx.py\", line 569, in compile_fx_inner\n",
      "W0222 00:01:10.367000 10580 site-packages\\torch\\_dynamo\\convert_frame.py:1233]     return wrap_compiler_debug(_compile_fx_inner, compiler_name=\"inductor\")(\n",
      "W0222 00:01:10.367000 10580 site-packages\\torch\\_dynamo\\convert_frame.py:1233]            ^^^^^^^^^^^^^^^^^^^^^^^^^^^^^^^^^^^^^^^^^^^^^^^^^^^^^^^^^^^^^^^^^\n",
      "W0222 00:01:10.367000 10580 site-packages\\torch\\_dynamo\\convert_frame.py:1233]   File \"c:\\Users\\risko\\miniconda3\\envs\\prompt-classification\\Lib\\site-packages\\torch\\_dynamo\\repro\\after_aot.py\", line 102, in debug_wrapper\n",
      "W0222 00:01:10.367000 10580 site-packages\\torch\\_dynamo\\convert_frame.py:1233]     inner_compiled_fn = compiler_fn(gm, example_inputs)\n",
      "W0222 00:01:10.367000 10580 site-packages\\torch\\_dynamo\\convert_frame.py:1233]                         ^^^^^^^^^^^^^^^^^^^^^^^^^^^^^^^\n",
      "W0222 00:01:10.367000 10580 site-packages\\torch\\_dynamo\\convert_frame.py:1233]   File \"c:\\Users\\risko\\miniconda3\\envs\\prompt-classification\\Lib\\site-packages\\torch\\_inductor\\compile_fx.py\", line 685, in _compile_fx_inner\n",
      "W0222 00:01:10.367000 10580 site-packages\\torch\\_dynamo\\convert_frame.py:1233]     mb_compiled_graph = fx_codegen_and_compile(\n",
      "W0222 00:01:10.367000 10580 site-packages\\torch\\_dynamo\\convert_frame.py:1233]                         ^^^^^^^^^^^^^^^^^^^^^^^\n",
      "W0222 00:01:10.367000 10580 site-packages\\torch\\_dynamo\\convert_frame.py:1233]   File \"c:\\Users\\risko\\miniconda3\\envs\\prompt-classification\\Lib\\site-packages\\torch\\_inductor\\compile_fx.py\", line 1129, in fx_codegen_and_compile\n",
      "W0222 00:01:10.367000 10580 site-packages\\torch\\_dynamo\\convert_frame.py:1233]     return scheme.codegen_and_compile(gm, example_inputs, inputs_to_check, graph_kwargs)\n",
      "W0222 00:01:10.367000 10580 site-packages\\torch\\_dynamo\\convert_frame.py:1233]            ^^^^^^^^^^^^^^^^^^^^^^^^^^^^^^^^^^^^^^^^^^^^^^^^^^^^^^^^^^^^^^^^^^^^^^^^^^^^^\n",
      "W0222 00:01:10.367000 10580 site-packages\\torch\\_dynamo\\convert_frame.py:1233]   File \"c:\\Users\\risko\\miniconda3\\envs\\prompt-classification\\Lib\\site-packages\\torch\\_inductor\\compile_fx.py\", line 1044, in codegen_and_compile\n",
      "W0222 00:01:10.367000 10580 site-packages\\torch\\_dynamo\\convert_frame.py:1233]     compiled_fn = graph.compile_to_module().call\n",
      "W0222 00:01:10.367000 10580 site-packages\\torch\\_dynamo\\convert_frame.py:1233]                   ^^^^^^^^^^^^^^^^^^^^^^^^^\n",
      "W0222 00:01:10.367000 10580 site-packages\\torch\\_dynamo\\convert_frame.py:1233]   File \"c:\\Users\\risko\\miniconda3\\envs\\prompt-classification\\Lib\\site-packages\\torch\\_inductor\\graph.py\", line 2027, in compile_to_module\n",
      "W0222 00:01:10.367000 10580 site-packages\\torch\\_dynamo\\convert_frame.py:1233]     return self._compile_to_module()\n",
      "W0222 00:01:10.367000 10580 site-packages\\torch\\_dynamo\\convert_frame.py:1233]            ^^^^^^^^^^^^^^^^^^^^^^^^^\n",
      "W0222 00:01:10.367000 10580 site-packages\\torch\\_dynamo\\convert_frame.py:1233]   File \"c:\\Users\\risko\\miniconda3\\envs\\prompt-classification\\Lib\\site-packages\\torch\\_inductor\\graph.py\", line 2033, in _compile_to_module\n",
      "W0222 00:01:10.367000 10580 site-packages\\torch\\_dynamo\\convert_frame.py:1233]     self.codegen_with_cpp_wrapper() if self.cpp_wrapper else self.codegen()\n",
      "W0222 00:01:10.367000 10580 site-packages\\torch\\_dynamo\\convert_frame.py:1233]                                                              ^^^^^^^^^^^^^^\n",
      "W0222 00:01:10.367000 10580 site-packages\\torch\\_dynamo\\convert_frame.py:1233]   File \"c:\\Users\\risko\\miniconda3\\envs\\prompt-classification\\Lib\\site-packages\\torch\\_inductor\\graph.py\", line 1964, in codegen\n",
      "W0222 00:01:10.367000 10580 site-packages\\torch\\_dynamo\\convert_frame.py:1233]     self.scheduler = Scheduler(self.operations)\n",
      "W0222 00:01:10.367000 10580 site-packages\\torch\\_dynamo\\convert_frame.py:1233]                      ^^^^^^^^^^^^^^^^^^^^^^^^^^\n",
      "W0222 00:01:10.367000 10580 site-packages\\torch\\_dynamo\\convert_frame.py:1233]   File \"c:\\Users\\risko\\miniconda3\\envs\\prompt-classification\\Lib\\site-packages\\torch\\_inductor\\scheduler.py\", line 1798, in __init__\n",
      "W0222 00:01:10.367000 10580 site-packages\\torch\\_dynamo\\convert_frame.py:1233]     self._init(nodes)\n",
      "W0222 00:01:10.367000 10580 site-packages\\torch\\_dynamo\\convert_frame.py:1233]   File \"c:\\Users\\risko\\miniconda3\\envs\\prompt-classification\\Lib\\site-packages\\torch\\_inductor\\scheduler.py\", line 1816, in _init\n",
      "W0222 00:01:10.367000 10580 site-packages\\torch\\_dynamo\\convert_frame.py:1233]     self.nodes = [self.create_scheduler_node(n) for n in nodes]\n",
      "W0222 00:01:10.367000 10580 site-packages\\torch\\_dynamo\\convert_frame.py:1233]                  ^^^^^^^^^^^^^^^^^^^^^^^^^^^^^^^^^^^^^^^^^^^^^^\n",
      "W0222 00:01:10.367000 10580 site-packages\\torch\\_dynamo\\convert_frame.py:1233]   File \"c:\\Users\\risko\\miniconda3\\envs\\prompt-classification\\Lib\\site-packages\\torch\\_inductor\\scheduler.py\", line 1816, in <listcomp>\n",
      "W0222 00:01:10.367000 10580 site-packages\\torch\\_dynamo\\convert_frame.py:1233]     self.nodes = [self.create_scheduler_node(n) for n in nodes]\n",
      "W0222 00:01:10.367000 10580 site-packages\\torch\\_dynamo\\convert_frame.py:1233]                   ^^^^^^^^^^^^^^^^^^^^^^^^^^^^^\n",
      "W0222 00:01:10.367000 10580 site-packages\\torch\\_dynamo\\convert_frame.py:1233]   File \"c:\\Users\\risko\\miniconda3\\envs\\prompt-classification\\Lib\\site-packages\\torch\\_inductor\\scheduler.py\", line 1947, in create_scheduler_node\n",
      "W0222 00:01:10.367000 10580 site-packages\\torch\\_dynamo\\convert_frame.py:1233]     return SchedulerNode(self, node)\n",
      "W0222 00:01:10.367000 10580 site-packages\\torch\\_dynamo\\convert_frame.py:1233]            ^^^^^^^^^^^^^^^^^^^^^^^^^\n",
      "W0222 00:01:10.367000 10580 site-packages\\torch\\_dynamo\\convert_frame.py:1233]   File \"c:\\Users\\risko\\miniconda3\\envs\\prompt-classification\\Lib\\site-packages\\torch\\_inductor\\scheduler.py\", line 893, in __init__\n",
      "W0222 00:01:10.367000 10580 site-packages\\torch\\_dynamo\\convert_frame.py:1233]     self._compute_attrs()\n",
      "W0222 00:01:10.367000 10580 site-packages\\torch\\_dynamo\\convert_frame.py:1233]   File \"c:\\Users\\risko\\miniconda3\\envs\\prompt-classification\\Lib\\site-packages\\torch\\_inductor\\scheduler.py\", line 907, in _compute_attrs\n",
      "W0222 00:01:10.367000 10580 site-packages\\torch\\_dynamo\\convert_frame.py:1233]     group_fn = self.scheduler.get_backend(device).group_fn\n",
      "W0222 00:01:10.367000 10580 site-packages\\torch\\_dynamo\\convert_frame.py:1233]                ^^^^^^^^^^^^^^^^^^^^^^^^^^^^^^^^^^\n",
      "W0222 00:01:10.367000 10580 site-packages\\torch\\_dynamo\\convert_frame.py:1233]   File \"c:\\Users\\risko\\miniconda3\\envs\\prompt-classification\\Lib\\site-packages\\torch\\_inductor\\scheduler.py\", line 3441, in get_backend\n",
      "W0222 00:01:10.367000 10580 site-packages\\torch\\_dynamo\\convert_frame.py:1233]     self.backends[device] = self.create_backend(device)\n",
      "W0222 00:01:10.367000 10580 site-packages\\torch\\_dynamo\\convert_frame.py:1233]                             ^^^^^^^^^^^^^^^^^^^^^^^^^^^\n",
      "W0222 00:01:10.367000 10580 site-packages\\torch\\_dynamo\\convert_frame.py:1233]   File \"c:\\Users\\risko\\miniconda3\\envs\\prompt-classification\\Lib\\site-packages\\torch\\_inductor\\scheduler.py\", line 3432, in create_backend\n",
      "W0222 00:01:10.367000 10580 site-packages\\torch\\_dynamo\\convert_frame.py:1233]     raise RuntimeError(\n",
      "W0222 00:01:10.367000 10580 site-packages\\torch\\_dynamo\\convert_frame.py:1233] torch._dynamo.exc.BackendCompilerFailed: backend='inductor' raised:\n",
      "W0222 00:01:10.367000 10580 site-packages\\torch\\_dynamo\\convert_frame.py:1233] RuntimeError: Cannot find a working triton installation. Either the package is not installed or it is too old. More information on installing Triton can be found at https://github.com/openai/triton\n",
      "W0222 00:01:10.367000 10580 site-packages\\torch\\_dynamo\\convert_frame.py:1233] \n",
      "W0222 00:01:10.367000 10580 site-packages\\torch\\_dynamo\\convert_frame.py:1233] Set TORCH_LOGS=\"+dynamo\" and TORCHDYNAMO_VERBOSE=1 for more information\n",
      "W0222 00:01:10.367000 10580 site-packages\\torch\\_dynamo\\convert_frame.py:1233] \n",
      "W0222 00:01:10.608000 10580 site-packages\\torch\\_dynamo\\convert_frame.py:1233] WON'T CONVERT forward c:\\Users\\risko\\miniconda3\\envs\\prompt-classification\\Lib\\site-packages\\transformers\\models\\modernbert\\modeling_modernbert.py line 239 \n",
      "W0222 00:01:10.608000 10580 site-packages\\torch\\_dynamo\\convert_frame.py:1233] due to: \n",
      "W0222 00:01:10.608000 10580 site-packages\\torch\\_dynamo\\convert_frame.py:1233] Traceback (most recent call last):\n",
      "W0222 00:01:10.608000 10580 site-packages\\torch\\_dynamo\\convert_frame.py:1233]   File \"c:\\Users\\risko\\miniconda3\\envs\\prompt-classification\\Lib\\site-packages\\torch\\_dynamo\\convert_frame.py\", line 1164, in __call__\n",
      "W0222 00:01:10.608000 10580 site-packages\\torch\\_dynamo\\convert_frame.py:1233]     result = self._inner_convert(\n",
      "W0222 00:01:10.608000 10580 site-packages\\torch\\_dynamo\\convert_frame.py:1233]              ^^^^^^^^^^^^^^^^^^^^\n",
      "W0222 00:01:10.608000 10580 site-packages\\torch\\_dynamo\\convert_frame.py:1233]   File \"c:\\Users\\risko\\miniconda3\\envs\\prompt-classification\\Lib\\site-packages\\torch\\_dynamo\\convert_frame.py\", line 547, in __call__\n",
      "W0222 00:01:10.608000 10580 site-packages\\torch\\_dynamo\\convert_frame.py:1233]     return _compile(\n",
      "W0222 00:01:10.608000 10580 site-packages\\torch\\_dynamo\\convert_frame.py:1233]            ^^^^^^^^^\n",
      "W0222 00:01:10.608000 10580 site-packages\\torch\\_dynamo\\convert_frame.py:1233]   File \"c:\\Users\\risko\\miniconda3\\envs\\prompt-classification\\Lib\\site-packages\\torch\\_dynamo\\convert_frame.py\", line 986, in _compile\n",
      "W0222 00:01:10.608000 10580 site-packages\\torch\\_dynamo\\convert_frame.py:1233]     guarded_code = compile_inner(code, one_graph, hooks, transform)\n",
      "W0222 00:01:10.608000 10580 site-packages\\torch\\_dynamo\\convert_frame.py:1233]                    ^^^^^^^^^^^^^^^^^^^^^^^^^^^^^^^^^^^^^^^^^^^^^^^^\n",
      "W0222 00:01:10.608000 10580 site-packages\\torch\\_dynamo\\convert_frame.py:1233]   File \"c:\\Users\\risko\\miniconda3\\envs\\prompt-classification\\Lib\\site-packages\\torch\\_dynamo\\convert_frame.py\", line 715, in compile_inner\n",
      "W0222 00:01:10.608000 10580 site-packages\\torch\\_dynamo\\convert_frame.py:1233]     return _compile_inner(code, one_graph, hooks, transform)\n",
      "W0222 00:01:10.608000 10580 site-packages\\torch\\_dynamo\\convert_frame.py:1233]            ^^^^^^^^^^^^^^^^^^^^^^^^^^^^^^^^^^^^^^^^^^^^^^^^^\n",
      "W0222 00:01:10.608000 10580 site-packages\\torch\\_dynamo\\convert_frame.py:1233]   File \"c:\\Users\\risko\\miniconda3\\envs\\prompt-classification\\Lib\\site-packages\\torch\\_utils_internal.py\", line 95, in wrapper_function\n",
      "W0222 00:01:10.608000 10580 site-packages\\torch\\_dynamo\\convert_frame.py:1233]     return function(*args, **kwargs)\n",
      "W0222 00:01:10.608000 10580 site-packages\\torch\\_dynamo\\convert_frame.py:1233]            ^^^^^^^^^^^^^^^^^^^^^^^^^\n",
      "W0222 00:01:10.608000 10580 site-packages\\torch\\_dynamo\\convert_frame.py:1233]   File \"c:\\Users\\risko\\miniconda3\\envs\\prompt-classification\\Lib\\site-packages\\torch\\_dynamo\\convert_frame.py\", line 750, in _compile_inner\n",
      "W0222 00:01:10.608000 10580 site-packages\\torch\\_dynamo\\convert_frame.py:1233]     out_code = transform_code_object(code, transform)\n",
      "W0222 00:01:10.608000 10580 site-packages\\torch\\_dynamo\\convert_frame.py:1233]                ^^^^^^^^^^^^^^^^^^^^^^^^^^^^^^^^^^^^^^\n",
      "W0222 00:01:10.608000 10580 site-packages\\torch\\_dynamo\\convert_frame.py:1233]   File \"c:\\Users\\risko\\miniconda3\\envs\\prompt-classification\\Lib\\site-packages\\torch\\_dynamo\\bytecode_transformation.py\", line 1361, in transform_code_object\n",
      "W0222 00:01:10.608000 10580 site-packages\\torch\\_dynamo\\convert_frame.py:1233]     transformations(instructions, code_options)\n",
      "W0222 00:01:10.608000 10580 site-packages\\torch\\_dynamo\\convert_frame.py:1233]   File \"c:\\Users\\risko\\miniconda3\\envs\\prompt-classification\\Lib\\site-packages\\torch\\_dynamo\\convert_frame.py\", line 231, in _fn\n",
      "W0222 00:01:10.608000 10580 site-packages\\torch\\_dynamo\\convert_frame.py:1233]     return fn(*args, **kwargs)\n",
      "W0222 00:01:10.608000 10580 site-packages\\torch\\_dynamo\\convert_frame.py:1233]            ^^^^^^^^^^^^^^^^^^^\n",
      "W0222 00:01:10.608000 10580 site-packages\\torch\\_dynamo\\convert_frame.py:1233]   File \"c:\\Users\\risko\\miniconda3\\envs\\prompt-classification\\Lib\\site-packages\\torch\\_dynamo\\convert_frame.py\", line 662, in transform\n",
      "W0222 00:01:10.608000 10580 site-packages\\torch\\_dynamo\\convert_frame.py:1233]     tracer.run()\n",
      "W0222 00:01:10.608000 10580 site-packages\\torch\\_dynamo\\convert_frame.py:1233]   File \"c:\\Users\\risko\\miniconda3\\envs\\prompt-classification\\Lib\\site-packages\\torch\\_dynamo\\symbolic_convert.py\", line 2868, in run\n",
      "W0222 00:01:10.608000 10580 site-packages\\torch\\_dynamo\\convert_frame.py:1233]     super().run()\n",
      "W0222 00:01:10.608000 10580 site-packages\\torch\\_dynamo\\convert_frame.py:1233]   File \"c:\\Users\\risko\\miniconda3\\envs\\prompt-classification\\Lib\\site-packages\\torch\\_dynamo\\symbolic_convert.py\", line 1052, in run\n",
      "W0222 00:01:10.608000 10580 site-packages\\torch\\_dynamo\\convert_frame.py:1233]     while self.step():\n",
      "W0222 00:01:10.608000 10580 site-packages\\torch\\_dynamo\\convert_frame.py:1233]           ^^^^^^^^^^^\n",
      "W0222 00:01:10.608000 10580 site-packages\\torch\\_dynamo\\convert_frame.py:1233]   File \"c:\\Users\\risko\\miniconda3\\envs\\prompt-classification\\Lib\\site-packages\\torch\\_dynamo\\symbolic_convert.py\", line 962, in step\n",
      "W0222 00:01:10.608000 10580 site-packages\\torch\\_dynamo\\convert_frame.py:1233]     self.dispatch_table[inst.opcode](self, inst)\n",
      "W0222 00:01:10.608000 10580 site-packages\\torch\\_dynamo\\convert_frame.py:1233]   File \"c:\\Users\\risko\\miniconda3\\envs\\prompt-classification\\Lib\\site-packages\\torch\\_dynamo\\symbolic_convert.py\", line 3048, in RETURN_VALUE\n",
      "W0222 00:01:10.608000 10580 site-packages\\torch\\_dynamo\\convert_frame.py:1233]     self._return(inst)\n",
      "W0222 00:01:10.608000 10580 site-packages\\torch\\_dynamo\\convert_frame.py:1233]   File \"c:\\Users\\risko\\miniconda3\\envs\\prompt-classification\\Lib\\site-packages\\torch\\_dynamo\\symbolic_convert.py\", line 3033, in _return\n",
      "W0222 00:01:10.608000 10580 site-packages\\torch\\_dynamo\\convert_frame.py:1233]     self.output.compile_subgraph(\n",
      "W0222 00:01:10.608000 10580 site-packages\\torch\\_dynamo\\convert_frame.py:1233]   File \"c:\\Users\\risko\\miniconda3\\envs\\prompt-classification\\Lib\\site-packages\\torch\\_dynamo\\output_graph.py\", line 1101, in compile_subgraph\n",
      "W0222 00:01:10.608000 10580 site-packages\\torch\\_dynamo\\convert_frame.py:1233]     self.compile_and_call_fx_graph(\n",
      "W0222 00:01:10.608000 10580 site-packages\\torch\\_dynamo\\convert_frame.py:1233]   File \"c:\\Users\\risko\\miniconda3\\envs\\prompt-classification\\Lib\\site-packages\\torch\\_dynamo\\output_graph.py\", line 1382, in compile_and_call_fx_graph\n",
      "W0222 00:01:10.608000 10580 site-packages\\torch\\_dynamo\\convert_frame.py:1233]     compiled_fn = self.call_user_compiler(gm)\n",
      "W0222 00:01:10.608000 10580 site-packages\\torch\\_dynamo\\convert_frame.py:1233]                   ^^^^^^^^^^^^^^^^^^^^^^^^^^^\n",
      "W0222 00:01:10.608000 10580 site-packages\\torch\\_dynamo\\convert_frame.py:1233]   File \"c:\\Users\\risko\\miniconda3\\envs\\prompt-classification\\Lib\\site-packages\\torch\\_dynamo\\output_graph.py\", line 1432, in call_user_compiler\n",
      "W0222 00:01:10.608000 10580 site-packages\\torch\\_dynamo\\convert_frame.py:1233]     return self._call_user_compiler(gm)\n",
      "W0222 00:01:10.608000 10580 site-packages\\torch\\_dynamo\\convert_frame.py:1233]            ^^^^^^^^^^^^^^^^^^^^^^^^^^^^\n",
      "W0222 00:01:10.608000 10580 site-packages\\torch\\_dynamo\\convert_frame.py:1233]   File \"c:\\Users\\risko\\miniconda3\\envs\\prompt-classification\\Lib\\site-packages\\torch\\_dynamo\\output_graph.py\", line 1483, in _call_user_compiler\n",
      "W0222 00:01:10.608000 10580 site-packages\\torch\\_dynamo\\convert_frame.py:1233]     raise BackendCompilerFailed(self.compiler_fn, e).with_traceback(\n",
      "W0222 00:01:10.608000 10580 site-packages\\torch\\_dynamo\\convert_frame.py:1233]   File \"c:\\Users\\risko\\miniconda3\\envs\\prompt-classification\\Lib\\site-packages\\torch\\_dynamo\\output_graph.py\", line 1462, in _call_user_compiler\n",
      "W0222 00:01:10.608000 10580 site-packages\\torch\\_dynamo\\convert_frame.py:1233]     compiled_fn = compiler_fn(gm, self.example_inputs())\n",
      "W0222 00:01:10.608000 10580 site-packages\\torch\\_dynamo\\convert_frame.py:1233]                   ^^^^^^^^^^^^^^^^^^^^^^^^^^^^^^^^^^^^^^\n",
      "W0222 00:01:10.608000 10580 site-packages\\torch\\_dynamo\\convert_frame.py:1233]   File \"c:\\Users\\risko\\miniconda3\\envs\\prompt-classification\\Lib\\site-packages\\torch\\_dynamo\\repro\\after_dynamo.py\", line 130, in __call__\n",
      "W0222 00:01:10.608000 10580 site-packages\\torch\\_dynamo\\convert_frame.py:1233]     compiled_gm = compiler_fn(gm, example_inputs)\n",
      "W0222 00:01:10.608000 10580 site-packages\\torch\\_dynamo\\convert_frame.py:1233]                   ^^^^^^^^^^^^^^^^^^^^^^^^^^^^^^^\n",
      "W0222 00:01:10.608000 10580 site-packages\\torch\\_dynamo\\convert_frame.py:1233]   File \"c:\\Users\\risko\\miniconda3\\envs\\prompt-classification\\Lib\\site-packages\\torch\\__init__.py\", line 2340, in __call__\n",
      "W0222 00:01:10.608000 10580 site-packages\\torch\\_dynamo\\convert_frame.py:1233]     return compile_fx(model_, inputs_, config_patches=self.config)\n",
      "W0222 00:01:10.608000 10580 site-packages\\torch\\_dynamo\\convert_frame.py:1233]            ^^^^^^^^^^^^^^^^^^^^^^^^^^^^^^^^^^^^^^^^^^^^^^^^^^^^^^^\n",
      "W0222 00:01:10.608000 10580 site-packages\\torch\\_dynamo\\convert_frame.py:1233]   File \"c:\\Users\\risko\\miniconda3\\envs\\prompt-classification\\Lib\\site-packages\\torch\\_inductor\\compile_fx.py\", line 1863, in compile_fx\n",
      "W0222 00:01:10.608000 10580 site-packages\\torch\\_dynamo\\convert_frame.py:1233]     return aot_autograd(\n",
      "W0222 00:01:10.608000 10580 site-packages\\torch\\_dynamo\\convert_frame.py:1233]            ^^^^^^^^^^^^^\n",
      "W0222 00:01:10.608000 10580 site-packages\\torch\\_dynamo\\convert_frame.py:1233]   File \"c:\\Users\\risko\\miniconda3\\envs\\prompt-classification\\Lib\\site-packages\\torch\\_dynamo\\backends\\common.py\", line 83, in __call__\n",
      "W0222 00:01:10.608000 10580 site-packages\\torch\\_dynamo\\convert_frame.py:1233]     cg = aot_module_simplified(gm, example_inputs, **self.kwargs)\n",
      "W0222 00:01:10.608000 10580 site-packages\\torch\\_dynamo\\convert_frame.py:1233]          ^^^^^^^^^^^^^^^^^^^^^^^^^^^^^^^^^^^^^^^^^^^^^^^^^^^^^^^^\n",
      "W0222 00:01:10.608000 10580 site-packages\\torch\\_dynamo\\convert_frame.py:1233]   File \"c:\\Users\\risko\\miniconda3\\envs\\prompt-classification\\Lib\\site-packages\\torch\\_functorch\\aot_autograd.py\", line 1155, in aot_module_simplified\n",
      "W0222 00:01:10.608000 10580 site-packages\\torch\\_dynamo\\convert_frame.py:1233]     compiled_fn = dispatch_and_compile()\n",
      "W0222 00:01:10.608000 10580 site-packages\\torch\\_dynamo\\convert_frame.py:1233]                   ^^^^^^^^^^^^^^^^^^^^^^\n",
      "W0222 00:01:10.608000 10580 site-packages\\torch\\_dynamo\\convert_frame.py:1233]   File \"c:\\Users\\risko\\miniconda3\\envs\\prompt-classification\\Lib\\site-packages\\torch\\_functorch\\aot_autograd.py\", line 1131, in dispatch_and_compile\n",
      "W0222 00:01:10.608000 10580 site-packages\\torch\\_dynamo\\convert_frame.py:1233]     compiled_fn, _ = create_aot_dispatcher_function(\n",
      "W0222 00:01:10.608000 10580 site-packages\\torch\\_dynamo\\convert_frame.py:1233]                      ^^^^^^^^^^^^^^^^^^^^^^^^^^^^^^^\n",
      "W0222 00:01:10.608000 10580 site-packages\\torch\\_dynamo\\convert_frame.py:1233]   File \"c:\\Users\\risko\\miniconda3\\envs\\prompt-classification\\Lib\\site-packages\\torch\\_functorch\\aot_autograd.py\", line 580, in create_aot_dispatcher_function\n",
      "W0222 00:01:10.608000 10580 site-packages\\torch\\_dynamo\\convert_frame.py:1233]     return _create_aot_dispatcher_function(\n",
      "W0222 00:01:10.608000 10580 site-packages\\torch\\_dynamo\\convert_frame.py:1233]            ^^^^^^^^^^^^^^^^^^^^^^^^^^^^^^^^\n",
      "W0222 00:01:10.608000 10580 site-packages\\torch\\_dynamo\\convert_frame.py:1233]   File \"c:\\Users\\risko\\miniconda3\\envs\\prompt-classification\\Lib\\site-packages\\torch\\_functorch\\aot_autograd.py\", line 830, in _create_aot_dispatcher_function\n",
      "W0222 00:01:10.608000 10580 site-packages\\torch\\_dynamo\\convert_frame.py:1233]     compiled_fn, fw_metadata = compiler_fn(\n",
      "W0222 00:01:10.608000 10580 site-packages\\torch\\_dynamo\\convert_frame.py:1233]                                ^^^^^^^^^^^^\n",
      "W0222 00:01:10.608000 10580 site-packages\\torch\\_dynamo\\convert_frame.py:1233]   File \"c:\\Users\\risko\\miniconda3\\envs\\prompt-classification\\Lib\\site-packages\\torch\\_functorch\\_aot_autograd\\jit_compile_runtime_wrappers.py\", line 203, in aot_dispatch_base\n",
      "W0222 00:01:10.608000 10580 site-packages\\torch\\_dynamo\\convert_frame.py:1233]     compiled_fw = compiler(fw_module, updated_flat_args)\n",
      "W0222 00:01:10.608000 10580 site-packages\\torch\\_dynamo\\convert_frame.py:1233]                   ^^^^^^^^^^^^^^^^^^^^^^^^^^^^^^^^^^^^^^\n",
      "W0222 00:01:10.608000 10580 site-packages\\torch\\_dynamo\\convert_frame.py:1233]   File \"c:\\Users\\risko\\miniconda3\\envs\\prompt-classification\\Lib\\site-packages\\torch\\_functorch\\aot_autograd.py\", line 489, in __call__\n",
      "W0222 00:01:10.608000 10580 site-packages\\torch\\_dynamo\\convert_frame.py:1233]     return self.compiler_fn(gm, example_inputs)\n",
      "W0222 00:01:10.608000 10580 site-packages\\torch\\_dynamo\\convert_frame.py:1233]            ^^^^^^^^^^^^^^^^^^^^^^^^^^^^^^^^^^^^\n",
      "W0222 00:01:10.608000 10580 site-packages\\torch\\_dynamo\\convert_frame.py:1233]   File \"c:\\Users\\risko\\miniconda3\\envs\\prompt-classification\\Lib\\site-packages\\torch\\_inductor\\compile_fx.py\", line 1741, in fw_compiler_base\n",
      "W0222 00:01:10.608000 10580 site-packages\\torch\\_dynamo\\convert_frame.py:1233]     return inner_compile(\n",
      "W0222 00:01:10.608000 10580 site-packages\\torch\\_dynamo\\convert_frame.py:1233]            ^^^^^^^^^^^^^^\n",
      "W0222 00:01:10.608000 10580 site-packages\\torch\\_dynamo\\convert_frame.py:1233]   File \"c:\\Users\\risko\\miniconda3\\envs\\prompt-classification\\Lib\\site-packages\\torch\\_inductor\\compile_fx.py\", line 569, in compile_fx_inner\n",
      "W0222 00:01:10.608000 10580 site-packages\\torch\\_dynamo\\convert_frame.py:1233]     return wrap_compiler_debug(_compile_fx_inner, compiler_name=\"inductor\")(\n",
      "W0222 00:01:10.608000 10580 site-packages\\torch\\_dynamo\\convert_frame.py:1233]            ^^^^^^^^^^^^^^^^^^^^^^^^^^^^^^^^^^^^^^^^^^^^^^^^^^^^^^^^^^^^^^^^^\n",
      "W0222 00:01:10.608000 10580 site-packages\\torch\\_dynamo\\convert_frame.py:1233]   File \"c:\\Users\\risko\\miniconda3\\envs\\prompt-classification\\Lib\\site-packages\\torch\\_dynamo\\repro\\after_aot.py\", line 102, in debug_wrapper\n",
      "W0222 00:01:10.608000 10580 site-packages\\torch\\_dynamo\\convert_frame.py:1233]     inner_compiled_fn = compiler_fn(gm, example_inputs)\n",
      "W0222 00:01:10.608000 10580 site-packages\\torch\\_dynamo\\convert_frame.py:1233]                         ^^^^^^^^^^^^^^^^^^^^^^^^^^^^^^^\n",
      "W0222 00:01:10.608000 10580 site-packages\\torch\\_dynamo\\convert_frame.py:1233]   File \"c:\\Users\\risko\\miniconda3\\envs\\prompt-classification\\Lib\\site-packages\\torch\\_inductor\\compile_fx.py\", line 685, in _compile_fx_inner\n",
      "W0222 00:01:10.608000 10580 site-packages\\torch\\_dynamo\\convert_frame.py:1233]     mb_compiled_graph = fx_codegen_and_compile(\n",
      "W0222 00:01:10.608000 10580 site-packages\\torch\\_dynamo\\convert_frame.py:1233]                         ^^^^^^^^^^^^^^^^^^^^^^^\n",
      "W0222 00:01:10.608000 10580 site-packages\\torch\\_dynamo\\convert_frame.py:1233]   File \"c:\\Users\\risko\\miniconda3\\envs\\prompt-classification\\Lib\\site-packages\\torch\\_inductor\\compile_fx.py\", line 1129, in fx_codegen_and_compile\n",
      "W0222 00:01:10.608000 10580 site-packages\\torch\\_dynamo\\convert_frame.py:1233]     return scheme.codegen_and_compile(gm, example_inputs, inputs_to_check, graph_kwargs)\n",
      "W0222 00:01:10.608000 10580 site-packages\\torch\\_dynamo\\convert_frame.py:1233]            ^^^^^^^^^^^^^^^^^^^^^^^^^^^^^^^^^^^^^^^^^^^^^^^^^^^^^^^^^^^^^^^^^^^^^^^^^^^^^\n",
      "W0222 00:01:10.608000 10580 site-packages\\torch\\_dynamo\\convert_frame.py:1233]   File \"c:\\Users\\risko\\miniconda3\\envs\\prompt-classification\\Lib\\site-packages\\torch\\_inductor\\compile_fx.py\", line 1044, in codegen_and_compile\n",
      "W0222 00:01:10.608000 10580 site-packages\\torch\\_dynamo\\convert_frame.py:1233]     compiled_fn = graph.compile_to_module().call\n",
      "W0222 00:01:10.608000 10580 site-packages\\torch\\_dynamo\\convert_frame.py:1233]                   ^^^^^^^^^^^^^^^^^^^^^^^^^\n",
      "W0222 00:01:10.608000 10580 site-packages\\torch\\_dynamo\\convert_frame.py:1233]   File \"c:\\Users\\risko\\miniconda3\\envs\\prompt-classification\\Lib\\site-packages\\torch\\_inductor\\graph.py\", line 2027, in compile_to_module\n",
      "W0222 00:01:10.608000 10580 site-packages\\torch\\_dynamo\\convert_frame.py:1233]     return self._compile_to_module()\n",
      "W0222 00:01:10.608000 10580 site-packages\\torch\\_dynamo\\convert_frame.py:1233]            ^^^^^^^^^^^^^^^^^^^^^^^^^\n",
      "W0222 00:01:10.608000 10580 site-packages\\torch\\_dynamo\\convert_frame.py:1233]   File \"c:\\Users\\risko\\miniconda3\\envs\\prompt-classification\\Lib\\site-packages\\torch\\_inductor\\graph.py\", line 2033, in _compile_to_module\n",
      "W0222 00:01:10.608000 10580 site-packages\\torch\\_dynamo\\convert_frame.py:1233]     self.codegen_with_cpp_wrapper() if self.cpp_wrapper else self.codegen()\n",
      "W0222 00:01:10.608000 10580 site-packages\\torch\\_dynamo\\convert_frame.py:1233]                                                              ^^^^^^^^^^^^^^\n",
      "W0222 00:01:10.608000 10580 site-packages\\torch\\_dynamo\\convert_frame.py:1233]   File \"c:\\Users\\risko\\miniconda3\\envs\\prompt-classification\\Lib\\site-packages\\torch\\_inductor\\graph.py\", line 1964, in codegen\n",
      "W0222 00:01:10.608000 10580 site-packages\\torch\\_dynamo\\convert_frame.py:1233]     self.scheduler = Scheduler(self.operations)\n",
      "W0222 00:01:10.608000 10580 site-packages\\torch\\_dynamo\\convert_frame.py:1233]                      ^^^^^^^^^^^^^^^^^^^^^^^^^^\n",
      "W0222 00:01:10.608000 10580 site-packages\\torch\\_dynamo\\convert_frame.py:1233]   File \"c:\\Users\\risko\\miniconda3\\envs\\prompt-classification\\Lib\\site-packages\\torch\\_inductor\\scheduler.py\", line 1798, in __init__\n",
      "W0222 00:01:10.608000 10580 site-packages\\torch\\_dynamo\\convert_frame.py:1233]     self._init(nodes)\n",
      "W0222 00:01:10.608000 10580 site-packages\\torch\\_dynamo\\convert_frame.py:1233]   File \"c:\\Users\\risko\\miniconda3\\envs\\prompt-classification\\Lib\\site-packages\\torch\\_inductor\\scheduler.py\", line 1816, in _init\n",
      "W0222 00:01:10.608000 10580 site-packages\\torch\\_dynamo\\convert_frame.py:1233]     self.nodes = [self.create_scheduler_node(n) for n in nodes]\n",
      "W0222 00:01:10.608000 10580 site-packages\\torch\\_dynamo\\convert_frame.py:1233]                  ^^^^^^^^^^^^^^^^^^^^^^^^^^^^^^^^^^^^^^^^^^^^^^\n",
      "W0222 00:01:10.608000 10580 site-packages\\torch\\_dynamo\\convert_frame.py:1233]   File \"c:\\Users\\risko\\miniconda3\\envs\\prompt-classification\\Lib\\site-packages\\torch\\_inductor\\scheduler.py\", line 1816, in <listcomp>\n",
      "W0222 00:01:10.608000 10580 site-packages\\torch\\_dynamo\\convert_frame.py:1233]     self.nodes = [self.create_scheduler_node(n) for n in nodes]\n",
      "W0222 00:01:10.608000 10580 site-packages\\torch\\_dynamo\\convert_frame.py:1233]                   ^^^^^^^^^^^^^^^^^^^^^^^^^^^^^\n",
      "W0222 00:01:10.608000 10580 site-packages\\torch\\_dynamo\\convert_frame.py:1233]   File \"c:\\Users\\risko\\miniconda3\\envs\\prompt-classification\\Lib\\site-packages\\torch\\_inductor\\scheduler.py\", line 1947, in create_scheduler_node\n",
      "W0222 00:01:10.608000 10580 site-packages\\torch\\_dynamo\\convert_frame.py:1233]     return SchedulerNode(self, node)\n",
      "W0222 00:01:10.608000 10580 site-packages\\torch\\_dynamo\\convert_frame.py:1233]            ^^^^^^^^^^^^^^^^^^^^^^^^^\n",
      "W0222 00:01:10.608000 10580 site-packages\\torch\\_dynamo\\convert_frame.py:1233]   File \"c:\\Users\\risko\\miniconda3\\envs\\prompt-classification\\Lib\\site-packages\\torch\\_inductor\\scheduler.py\", line 893, in __init__\n",
      "W0222 00:01:10.608000 10580 site-packages\\torch\\_dynamo\\convert_frame.py:1233]     self._compute_attrs()\n",
      "W0222 00:01:10.608000 10580 site-packages\\torch\\_dynamo\\convert_frame.py:1233]   File \"c:\\Users\\risko\\miniconda3\\envs\\prompt-classification\\Lib\\site-packages\\torch\\_inductor\\scheduler.py\", line 907, in _compute_attrs\n",
      "W0222 00:01:10.608000 10580 site-packages\\torch\\_dynamo\\convert_frame.py:1233]     group_fn = self.scheduler.get_backend(device).group_fn\n",
      "W0222 00:01:10.608000 10580 site-packages\\torch\\_dynamo\\convert_frame.py:1233]                ^^^^^^^^^^^^^^^^^^^^^^^^^^^^^^^^^^\n",
      "W0222 00:01:10.608000 10580 site-packages\\torch\\_dynamo\\convert_frame.py:1233]   File \"c:\\Users\\risko\\miniconda3\\envs\\prompt-classification\\Lib\\site-packages\\torch\\_inductor\\scheduler.py\", line 3441, in get_backend\n",
      "W0222 00:01:10.608000 10580 site-packages\\torch\\_dynamo\\convert_frame.py:1233]     self.backends[device] = self.create_backend(device)\n",
      "W0222 00:01:10.608000 10580 site-packages\\torch\\_dynamo\\convert_frame.py:1233]                             ^^^^^^^^^^^^^^^^^^^^^^^^^^^\n",
      "W0222 00:01:10.608000 10580 site-packages\\torch\\_dynamo\\convert_frame.py:1233]   File \"c:\\Users\\risko\\miniconda3\\envs\\prompt-classification\\Lib\\site-packages\\torch\\_inductor\\scheduler.py\", line 3432, in create_backend\n",
      "W0222 00:01:10.608000 10580 site-packages\\torch\\_dynamo\\convert_frame.py:1233]     raise RuntimeError(\n",
      "W0222 00:01:10.608000 10580 site-packages\\torch\\_dynamo\\convert_frame.py:1233] torch._dynamo.exc.BackendCompilerFailed: backend='inductor' raised:\n",
      "W0222 00:01:10.608000 10580 site-packages\\torch\\_dynamo\\convert_frame.py:1233] RuntimeError: Cannot find a working triton installation. Either the package is not installed or it is too old. More information on installing Triton can be found at https://github.com/openai/triton\n",
      "W0222 00:01:10.608000 10580 site-packages\\torch\\_dynamo\\convert_frame.py:1233] \n",
      "W0222 00:01:10.608000 10580 site-packages\\torch\\_dynamo\\convert_frame.py:1233] Set TORCH_LOGS=\"+dynamo\" and TORCHDYNAMO_VERBOSE=1 for more information\n",
      "W0222 00:01:10.608000 10580 site-packages\\torch\\_dynamo\\convert_frame.py:1233] \n",
      "W0222 00:01:10.608000 10580 site-packages\\torch\\_dynamo\\convert_frame.py:1233] Traceback (most recent call last):\n",
      "W0222 00:01:10.608000 10580 site-packages\\torch\\_dynamo\\convert_frame.py:1233]   File \"c:\\Users\\risko\\miniconda3\\envs\\prompt-classification\\Lib\\site-packages\\torch\\_dynamo\\convert_frame.py\", line 1164, in __call__\n",
      "W0222 00:01:10.608000 10580 site-packages\\torch\\_dynamo\\convert_frame.py:1233]     result = self._inner_convert(\n",
      "W0222 00:01:10.608000 10580 site-packages\\torch\\_dynamo\\convert_frame.py:1233]              ^^^^^^^^^^^^^^^^^^^^\n",
      "W0222 00:01:10.608000 10580 site-packages\\torch\\_dynamo\\convert_frame.py:1233]   File \"c:\\Users\\risko\\miniconda3\\envs\\prompt-classification\\Lib\\site-packages\\torch\\_dynamo\\convert_frame.py\", line 547, in __call__\n",
      "W0222 00:01:10.608000 10580 site-packages\\torch\\_dynamo\\convert_frame.py:1233]     return _compile(\n",
      "W0222 00:01:10.608000 10580 site-packages\\torch\\_dynamo\\convert_frame.py:1233]            ^^^^^^^^^\n",
      "W0222 00:01:10.608000 10580 site-packages\\torch\\_dynamo\\convert_frame.py:1233]   File \"c:\\Users\\risko\\miniconda3\\envs\\prompt-classification\\Lib\\site-packages\\torch\\_dynamo\\convert_frame.py\", line 986, in _compile\n",
      "W0222 00:01:10.608000 10580 site-packages\\torch\\_dynamo\\convert_frame.py:1233]     guarded_code = compile_inner(code, one_graph, hooks, transform)\n",
      "W0222 00:01:10.608000 10580 site-packages\\torch\\_dynamo\\convert_frame.py:1233]                    ^^^^^^^^^^^^^^^^^^^^^^^^^^^^^^^^^^^^^^^^^^^^^^^^\n",
      "W0222 00:01:10.608000 10580 site-packages\\torch\\_dynamo\\convert_frame.py:1233]   File \"c:\\Users\\risko\\miniconda3\\envs\\prompt-classification\\Lib\\site-packages\\torch\\_dynamo\\convert_frame.py\", line 715, in compile_inner\n",
      "W0222 00:01:10.608000 10580 site-packages\\torch\\_dynamo\\convert_frame.py:1233]     return _compile_inner(code, one_graph, hooks, transform)\n",
      "W0222 00:01:10.608000 10580 site-packages\\torch\\_dynamo\\convert_frame.py:1233]            ^^^^^^^^^^^^^^^^^^^^^^^^^^^^^^^^^^^^^^^^^^^^^^^^^\n",
      "W0222 00:01:10.608000 10580 site-packages\\torch\\_dynamo\\convert_frame.py:1233]   File \"c:\\Users\\risko\\miniconda3\\envs\\prompt-classification\\Lib\\site-packages\\torch\\_utils_internal.py\", line 95, in wrapper_function\n",
      "W0222 00:01:10.608000 10580 site-packages\\torch\\_dynamo\\convert_frame.py:1233]     return function(*args, **kwargs)\n",
      "W0222 00:01:10.608000 10580 site-packages\\torch\\_dynamo\\convert_frame.py:1233]            ^^^^^^^^^^^^^^^^^^^^^^^^^\n",
      "W0222 00:01:10.608000 10580 site-packages\\torch\\_dynamo\\convert_frame.py:1233]   File \"c:\\Users\\risko\\miniconda3\\envs\\prompt-classification\\Lib\\site-packages\\torch\\_dynamo\\convert_frame.py\", line 750, in _compile_inner\n",
      "W0222 00:01:10.608000 10580 site-packages\\torch\\_dynamo\\convert_frame.py:1233]     out_code = transform_code_object(code, transform)\n",
      "W0222 00:01:10.608000 10580 site-packages\\torch\\_dynamo\\convert_frame.py:1233]                ^^^^^^^^^^^^^^^^^^^^^^^^^^^^^^^^^^^^^^\n",
      "W0222 00:01:10.608000 10580 site-packages\\torch\\_dynamo\\convert_frame.py:1233]   File \"c:\\Users\\risko\\miniconda3\\envs\\prompt-classification\\Lib\\site-packages\\torch\\_dynamo\\bytecode_transformation.py\", line 1361, in transform_code_object\n",
      "W0222 00:01:10.608000 10580 site-packages\\torch\\_dynamo\\convert_frame.py:1233]     transformations(instructions, code_options)\n",
      "W0222 00:01:10.608000 10580 site-packages\\torch\\_dynamo\\convert_frame.py:1233]   File \"c:\\Users\\risko\\miniconda3\\envs\\prompt-classification\\Lib\\site-packages\\torch\\_dynamo\\convert_frame.py\", line 231, in _fn\n",
      "W0222 00:01:10.608000 10580 site-packages\\torch\\_dynamo\\convert_frame.py:1233]     return fn(*args, **kwargs)\n",
      "W0222 00:01:10.608000 10580 site-packages\\torch\\_dynamo\\convert_frame.py:1233]            ^^^^^^^^^^^^^^^^^^^\n",
      "W0222 00:01:10.608000 10580 site-packages\\torch\\_dynamo\\convert_frame.py:1233]   File \"c:\\Users\\risko\\miniconda3\\envs\\prompt-classification\\Lib\\site-packages\\torch\\_dynamo\\convert_frame.py\", line 662, in transform\n",
      "W0222 00:01:10.608000 10580 site-packages\\torch\\_dynamo\\convert_frame.py:1233]     tracer.run()\n",
      "W0222 00:01:10.608000 10580 site-packages\\torch\\_dynamo\\convert_frame.py:1233]   File \"c:\\Users\\risko\\miniconda3\\envs\\prompt-classification\\Lib\\site-packages\\torch\\_dynamo\\symbolic_convert.py\", line 2868, in run\n",
      "W0222 00:01:10.608000 10580 site-packages\\torch\\_dynamo\\convert_frame.py:1233]     super().run()\n",
      "W0222 00:01:10.608000 10580 site-packages\\torch\\_dynamo\\convert_frame.py:1233]   File \"c:\\Users\\risko\\miniconda3\\envs\\prompt-classification\\Lib\\site-packages\\torch\\_dynamo\\symbolic_convert.py\", line 1052, in run\n",
      "W0222 00:01:10.608000 10580 site-packages\\torch\\_dynamo\\convert_frame.py:1233]     while self.step():\n",
      "W0222 00:01:10.608000 10580 site-packages\\torch\\_dynamo\\convert_frame.py:1233]           ^^^^^^^^^^^\n",
      "W0222 00:01:10.608000 10580 site-packages\\torch\\_dynamo\\convert_frame.py:1233]   File \"c:\\Users\\risko\\miniconda3\\envs\\prompt-classification\\Lib\\site-packages\\torch\\_dynamo\\symbolic_convert.py\", line 962, in step\n",
      "W0222 00:01:10.608000 10580 site-packages\\torch\\_dynamo\\convert_frame.py:1233]     self.dispatch_table[inst.opcode](self, inst)\n",
      "W0222 00:01:10.608000 10580 site-packages\\torch\\_dynamo\\convert_frame.py:1233]   File \"c:\\Users\\risko\\miniconda3\\envs\\prompt-classification\\Lib\\site-packages\\torch\\_dynamo\\symbolic_convert.py\", line 3048, in RETURN_VALUE\n",
      "W0222 00:01:10.608000 10580 site-packages\\torch\\_dynamo\\convert_frame.py:1233]     self._return(inst)\n",
      "W0222 00:01:10.608000 10580 site-packages\\torch\\_dynamo\\convert_frame.py:1233]   File \"c:\\Users\\risko\\miniconda3\\envs\\prompt-classification\\Lib\\site-packages\\torch\\_dynamo\\symbolic_convert.py\", line 3033, in _return\n",
      "W0222 00:01:10.608000 10580 site-packages\\torch\\_dynamo\\convert_frame.py:1233]     self.output.compile_subgraph(\n",
      "W0222 00:01:10.608000 10580 site-packages\\torch\\_dynamo\\convert_frame.py:1233]   File \"c:\\Users\\risko\\miniconda3\\envs\\prompt-classification\\Lib\\site-packages\\torch\\_dynamo\\output_graph.py\", line 1101, in compile_subgraph\n",
      "W0222 00:01:10.608000 10580 site-packages\\torch\\_dynamo\\convert_frame.py:1233]     self.compile_and_call_fx_graph(\n",
      "W0222 00:01:10.608000 10580 site-packages\\torch\\_dynamo\\convert_frame.py:1233]   File \"c:\\Users\\risko\\miniconda3\\envs\\prompt-classification\\Lib\\site-packages\\torch\\_dynamo\\output_graph.py\", line 1382, in compile_and_call_fx_graph\n",
      "W0222 00:01:10.608000 10580 site-packages\\torch\\_dynamo\\convert_frame.py:1233]     compiled_fn = self.call_user_compiler(gm)\n",
      "W0222 00:01:10.608000 10580 site-packages\\torch\\_dynamo\\convert_frame.py:1233]                   ^^^^^^^^^^^^^^^^^^^^^^^^^^^\n",
      "W0222 00:01:10.608000 10580 site-packages\\torch\\_dynamo\\convert_frame.py:1233]   File \"c:\\Users\\risko\\miniconda3\\envs\\prompt-classification\\Lib\\site-packages\\torch\\_dynamo\\output_graph.py\", line 1432, in call_user_compiler\n",
      "W0222 00:01:10.608000 10580 site-packages\\torch\\_dynamo\\convert_frame.py:1233]     return self._call_user_compiler(gm)\n",
      "W0222 00:01:10.608000 10580 site-packages\\torch\\_dynamo\\convert_frame.py:1233]            ^^^^^^^^^^^^^^^^^^^^^^^^^^^^\n",
      "W0222 00:01:10.608000 10580 site-packages\\torch\\_dynamo\\convert_frame.py:1233]   File \"c:\\Users\\risko\\miniconda3\\envs\\prompt-classification\\Lib\\site-packages\\torch\\_dynamo\\output_graph.py\", line 1483, in _call_user_compiler\n",
      "W0222 00:01:10.608000 10580 site-packages\\torch\\_dynamo\\convert_frame.py:1233]     raise BackendCompilerFailed(self.compiler_fn, e).with_traceback(\n",
      "W0222 00:01:10.608000 10580 site-packages\\torch\\_dynamo\\convert_frame.py:1233]   File \"c:\\Users\\risko\\miniconda3\\envs\\prompt-classification\\Lib\\site-packages\\torch\\_dynamo\\output_graph.py\", line 1462, in _call_user_compiler\n",
      "W0222 00:01:10.608000 10580 site-packages\\torch\\_dynamo\\convert_frame.py:1233]     compiled_fn = compiler_fn(gm, self.example_inputs())\n",
      "W0222 00:01:10.608000 10580 site-packages\\torch\\_dynamo\\convert_frame.py:1233]                   ^^^^^^^^^^^^^^^^^^^^^^^^^^^^^^^^^^^^^^\n",
      "W0222 00:01:10.608000 10580 site-packages\\torch\\_dynamo\\convert_frame.py:1233]   File \"c:\\Users\\risko\\miniconda3\\envs\\prompt-classification\\Lib\\site-packages\\torch\\_dynamo\\repro\\after_dynamo.py\", line 130, in __call__\n",
      "W0222 00:01:10.608000 10580 site-packages\\torch\\_dynamo\\convert_frame.py:1233]     compiled_gm = compiler_fn(gm, example_inputs)\n",
      "W0222 00:01:10.608000 10580 site-packages\\torch\\_dynamo\\convert_frame.py:1233]                   ^^^^^^^^^^^^^^^^^^^^^^^^^^^^^^^\n",
      "W0222 00:01:10.608000 10580 site-packages\\torch\\_dynamo\\convert_frame.py:1233]   File \"c:\\Users\\risko\\miniconda3\\envs\\prompt-classification\\Lib\\site-packages\\torch\\__init__.py\", line 2340, in __call__\n",
      "W0222 00:01:10.608000 10580 site-packages\\torch\\_dynamo\\convert_frame.py:1233]     return compile_fx(model_, inputs_, config_patches=self.config)\n",
      "W0222 00:01:10.608000 10580 site-packages\\torch\\_dynamo\\convert_frame.py:1233]            ^^^^^^^^^^^^^^^^^^^^^^^^^^^^^^^^^^^^^^^^^^^^^^^^^^^^^^^\n",
      "W0222 00:01:10.608000 10580 site-packages\\torch\\_dynamo\\convert_frame.py:1233]   File \"c:\\Users\\risko\\miniconda3\\envs\\prompt-classification\\Lib\\site-packages\\torch\\_inductor\\compile_fx.py\", line 1863, in compile_fx\n",
      "W0222 00:01:10.608000 10580 site-packages\\torch\\_dynamo\\convert_frame.py:1233]     return aot_autograd(\n",
      "W0222 00:01:10.608000 10580 site-packages\\torch\\_dynamo\\convert_frame.py:1233]            ^^^^^^^^^^^^^\n",
      "W0222 00:01:10.608000 10580 site-packages\\torch\\_dynamo\\convert_frame.py:1233]   File \"c:\\Users\\risko\\miniconda3\\envs\\prompt-classification\\Lib\\site-packages\\torch\\_dynamo\\backends\\common.py\", line 83, in __call__\n",
      "W0222 00:01:10.608000 10580 site-packages\\torch\\_dynamo\\convert_frame.py:1233]     cg = aot_module_simplified(gm, example_inputs, **self.kwargs)\n",
      "W0222 00:01:10.608000 10580 site-packages\\torch\\_dynamo\\convert_frame.py:1233]          ^^^^^^^^^^^^^^^^^^^^^^^^^^^^^^^^^^^^^^^^^^^^^^^^^^^^^^^^\n",
      "W0222 00:01:10.608000 10580 site-packages\\torch\\_dynamo\\convert_frame.py:1233]   File \"c:\\Users\\risko\\miniconda3\\envs\\prompt-classification\\Lib\\site-packages\\torch\\_functorch\\aot_autograd.py\", line 1155, in aot_module_simplified\n",
      "W0222 00:01:10.608000 10580 site-packages\\torch\\_dynamo\\convert_frame.py:1233]     compiled_fn = dispatch_and_compile()\n",
      "W0222 00:01:10.608000 10580 site-packages\\torch\\_dynamo\\convert_frame.py:1233]                   ^^^^^^^^^^^^^^^^^^^^^^\n",
      "W0222 00:01:10.608000 10580 site-packages\\torch\\_dynamo\\convert_frame.py:1233]   File \"c:\\Users\\risko\\miniconda3\\envs\\prompt-classification\\Lib\\site-packages\\torch\\_functorch\\aot_autograd.py\", line 1131, in dispatch_and_compile\n",
      "W0222 00:01:10.608000 10580 site-packages\\torch\\_dynamo\\convert_frame.py:1233]     compiled_fn, _ = create_aot_dispatcher_function(\n",
      "W0222 00:01:10.608000 10580 site-packages\\torch\\_dynamo\\convert_frame.py:1233]                      ^^^^^^^^^^^^^^^^^^^^^^^^^^^^^^^\n",
      "W0222 00:01:10.608000 10580 site-packages\\torch\\_dynamo\\convert_frame.py:1233]   File \"c:\\Users\\risko\\miniconda3\\envs\\prompt-classification\\Lib\\site-packages\\torch\\_functorch\\aot_autograd.py\", line 580, in create_aot_dispatcher_function\n",
      "W0222 00:01:10.608000 10580 site-packages\\torch\\_dynamo\\convert_frame.py:1233]     return _create_aot_dispatcher_function(\n",
      "W0222 00:01:10.608000 10580 site-packages\\torch\\_dynamo\\convert_frame.py:1233]            ^^^^^^^^^^^^^^^^^^^^^^^^^^^^^^^^\n",
      "W0222 00:01:10.608000 10580 site-packages\\torch\\_dynamo\\convert_frame.py:1233]   File \"c:\\Users\\risko\\miniconda3\\envs\\prompt-classification\\Lib\\site-packages\\torch\\_functorch\\aot_autograd.py\", line 830, in _create_aot_dispatcher_function\n",
      "W0222 00:01:10.608000 10580 site-packages\\torch\\_dynamo\\convert_frame.py:1233]     compiled_fn, fw_metadata = compiler_fn(\n",
      "W0222 00:01:10.608000 10580 site-packages\\torch\\_dynamo\\convert_frame.py:1233]                                ^^^^^^^^^^^^\n",
      "W0222 00:01:10.608000 10580 site-packages\\torch\\_dynamo\\convert_frame.py:1233]   File \"c:\\Users\\risko\\miniconda3\\envs\\prompt-classification\\Lib\\site-packages\\torch\\_functorch\\_aot_autograd\\jit_compile_runtime_wrappers.py\", line 203, in aot_dispatch_base\n",
      "W0222 00:01:10.608000 10580 site-packages\\torch\\_dynamo\\convert_frame.py:1233]     compiled_fw = compiler(fw_module, updated_flat_args)\n",
      "W0222 00:01:10.608000 10580 site-packages\\torch\\_dynamo\\convert_frame.py:1233]                   ^^^^^^^^^^^^^^^^^^^^^^^^^^^^^^^^^^^^^^\n",
      "W0222 00:01:10.608000 10580 site-packages\\torch\\_dynamo\\convert_frame.py:1233]   File \"c:\\Users\\risko\\miniconda3\\envs\\prompt-classification\\Lib\\site-packages\\torch\\_functorch\\aot_autograd.py\", line 489, in __call__\n",
      "W0222 00:01:10.608000 10580 site-packages\\torch\\_dynamo\\convert_frame.py:1233]     return self.compiler_fn(gm, example_inputs)\n",
      "W0222 00:01:10.608000 10580 site-packages\\torch\\_dynamo\\convert_frame.py:1233]            ^^^^^^^^^^^^^^^^^^^^^^^^^^^^^^^^^^^^\n",
      "W0222 00:01:10.608000 10580 site-packages\\torch\\_dynamo\\convert_frame.py:1233]   File \"c:\\Users\\risko\\miniconda3\\envs\\prompt-classification\\Lib\\site-packages\\torch\\_inductor\\compile_fx.py\", line 1741, in fw_compiler_base\n",
      "W0222 00:01:10.608000 10580 site-packages\\torch\\_dynamo\\convert_frame.py:1233]     return inner_compile(\n",
      "W0222 00:01:10.608000 10580 site-packages\\torch\\_dynamo\\convert_frame.py:1233]            ^^^^^^^^^^^^^^\n",
      "W0222 00:01:10.608000 10580 site-packages\\torch\\_dynamo\\convert_frame.py:1233]   File \"c:\\Users\\risko\\miniconda3\\envs\\prompt-classification\\Lib\\site-packages\\torch\\_inductor\\compile_fx.py\", line 569, in compile_fx_inner\n",
      "W0222 00:01:10.608000 10580 site-packages\\torch\\_dynamo\\convert_frame.py:1233]     return wrap_compiler_debug(_compile_fx_inner, compiler_name=\"inductor\")(\n",
      "W0222 00:01:10.608000 10580 site-packages\\torch\\_dynamo\\convert_frame.py:1233]            ^^^^^^^^^^^^^^^^^^^^^^^^^^^^^^^^^^^^^^^^^^^^^^^^^^^^^^^^^^^^^^^^^\n",
      "W0222 00:01:10.608000 10580 site-packages\\torch\\_dynamo\\convert_frame.py:1233]   File \"c:\\Users\\risko\\miniconda3\\envs\\prompt-classification\\Lib\\site-packages\\torch\\_dynamo\\repro\\after_aot.py\", line 102, in debug_wrapper\n",
      "W0222 00:01:10.608000 10580 site-packages\\torch\\_dynamo\\convert_frame.py:1233]     inner_compiled_fn = compiler_fn(gm, example_inputs)\n",
      "W0222 00:01:10.608000 10580 site-packages\\torch\\_dynamo\\convert_frame.py:1233]                         ^^^^^^^^^^^^^^^^^^^^^^^^^^^^^^^\n",
      "W0222 00:01:10.608000 10580 site-packages\\torch\\_dynamo\\convert_frame.py:1233]   File \"c:\\Users\\risko\\miniconda3\\envs\\prompt-classification\\Lib\\site-packages\\torch\\_inductor\\compile_fx.py\", line 685, in _compile_fx_inner\n",
      "W0222 00:01:10.608000 10580 site-packages\\torch\\_dynamo\\convert_frame.py:1233]     mb_compiled_graph = fx_codegen_and_compile(\n",
      "W0222 00:01:10.608000 10580 site-packages\\torch\\_dynamo\\convert_frame.py:1233]                         ^^^^^^^^^^^^^^^^^^^^^^^\n",
      "W0222 00:01:10.608000 10580 site-packages\\torch\\_dynamo\\convert_frame.py:1233]   File \"c:\\Users\\risko\\miniconda3\\envs\\prompt-classification\\Lib\\site-packages\\torch\\_inductor\\compile_fx.py\", line 1129, in fx_codegen_and_compile\n",
      "W0222 00:01:10.608000 10580 site-packages\\torch\\_dynamo\\convert_frame.py:1233]     return scheme.codegen_and_compile(gm, example_inputs, inputs_to_check, graph_kwargs)\n",
      "W0222 00:01:10.608000 10580 site-packages\\torch\\_dynamo\\convert_frame.py:1233]            ^^^^^^^^^^^^^^^^^^^^^^^^^^^^^^^^^^^^^^^^^^^^^^^^^^^^^^^^^^^^^^^^^^^^^^^^^^^^^\n",
      "W0222 00:01:10.608000 10580 site-packages\\torch\\_dynamo\\convert_frame.py:1233]   File \"c:\\Users\\risko\\miniconda3\\envs\\prompt-classification\\Lib\\site-packages\\torch\\_inductor\\compile_fx.py\", line 1044, in codegen_and_compile\n",
      "W0222 00:01:10.608000 10580 site-packages\\torch\\_dynamo\\convert_frame.py:1233]     compiled_fn = graph.compile_to_module().call\n",
      "W0222 00:01:10.608000 10580 site-packages\\torch\\_dynamo\\convert_frame.py:1233]                   ^^^^^^^^^^^^^^^^^^^^^^^^^\n",
      "W0222 00:01:10.608000 10580 site-packages\\torch\\_dynamo\\convert_frame.py:1233]   File \"c:\\Users\\risko\\miniconda3\\envs\\prompt-classification\\Lib\\site-packages\\torch\\_inductor\\graph.py\", line 2027, in compile_to_module\n",
      "W0222 00:01:10.608000 10580 site-packages\\torch\\_dynamo\\convert_frame.py:1233]     return self._compile_to_module()\n",
      "W0222 00:01:10.608000 10580 site-packages\\torch\\_dynamo\\convert_frame.py:1233]            ^^^^^^^^^^^^^^^^^^^^^^^^^\n",
      "W0222 00:01:10.608000 10580 site-packages\\torch\\_dynamo\\convert_frame.py:1233]   File \"c:\\Users\\risko\\miniconda3\\envs\\prompt-classification\\Lib\\site-packages\\torch\\_inductor\\graph.py\", line 2033, in _compile_to_module\n",
      "W0222 00:01:10.608000 10580 site-packages\\torch\\_dynamo\\convert_frame.py:1233]     self.codegen_with_cpp_wrapper() if self.cpp_wrapper else self.codegen()\n",
      "W0222 00:01:10.608000 10580 site-packages\\torch\\_dynamo\\convert_frame.py:1233]                                                              ^^^^^^^^^^^^^^\n",
      "W0222 00:01:10.608000 10580 site-packages\\torch\\_dynamo\\convert_frame.py:1233]   File \"c:\\Users\\risko\\miniconda3\\envs\\prompt-classification\\Lib\\site-packages\\torch\\_inductor\\graph.py\", line 1964, in codegen\n",
      "W0222 00:01:10.608000 10580 site-packages\\torch\\_dynamo\\convert_frame.py:1233]     self.scheduler = Scheduler(self.operations)\n",
      "W0222 00:01:10.608000 10580 site-packages\\torch\\_dynamo\\convert_frame.py:1233]                      ^^^^^^^^^^^^^^^^^^^^^^^^^^\n",
      "W0222 00:01:10.608000 10580 site-packages\\torch\\_dynamo\\convert_frame.py:1233]   File \"c:\\Users\\risko\\miniconda3\\envs\\prompt-classification\\Lib\\site-packages\\torch\\_inductor\\scheduler.py\", line 1798, in __init__\n",
      "W0222 00:01:10.608000 10580 site-packages\\torch\\_dynamo\\convert_frame.py:1233]     self._init(nodes)\n",
      "W0222 00:01:10.608000 10580 site-packages\\torch\\_dynamo\\convert_frame.py:1233]   File \"c:\\Users\\risko\\miniconda3\\envs\\prompt-classification\\Lib\\site-packages\\torch\\_inductor\\scheduler.py\", line 1816, in _init\n",
      "W0222 00:01:10.608000 10580 site-packages\\torch\\_dynamo\\convert_frame.py:1233]     self.nodes = [self.create_scheduler_node(n) for n in nodes]\n",
      "W0222 00:01:10.608000 10580 site-packages\\torch\\_dynamo\\convert_frame.py:1233]                  ^^^^^^^^^^^^^^^^^^^^^^^^^^^^^^^^^^^^^^^^^^^^^^\n",
      "W0222 00:01:10.608000 10580 site-packages\\torch\\_dynamo\\convert_frame.py:1233]   File \"c:\\Users\\risko\\miniconda3\\envs\\prompt-classification\\Lib\\site-packages\\torch\\_inductor\\scheduler.py\", line 1816, in <listcomp>\n",
      "W0222 00:01:10.608000 10580 site-packages\\torch\\_dynamo\\convert_frame.py:1233]     self.nodes = [self.create_scheduler_node(n) for n in nodes]\n",
      "W0222 00:01:10.608000 10580 site-packages\\torch\\_dynamo\\convert_frame.py:1233]                   ^^^^^^^^^^^^^^^^^^^^^^^^^^^^^\n",
      "W0222 00:01:10.608000 10580 site-packages\\torch\\_dynamo\\convert_frame.py:1233]   File \"c:\\Users\\risko\\miniconda3\\envs\\prompt-classification\\Lib\\site-packages\\torch\\_inductor\\scheduler.py\", line 1947, in create_scheduler_node\n",
      "W0222 00:01:10.608000 10580 site-packages\\torch\\_dynamo\\convert_frame.py:1233]     return SchedulerNode(self, node)\n",
      "W0222 00:01:10.608000 10580 site-packages\\torch\\_dynamo\\convert_frame.py:1233]            ^^^^^^^^^^^^^^^^^^^^^^^^^\n",
      "W0222 00:01:10.608000 10580 site-packages\\torch\\_dynamo\\convert_frame.py:1233]   File \"c:\\Users\\risko\\miniconda3\\envs\\prompt-classification\\Lib\\site-packages\\torch\\_inductor\\scheduler.py\", line 893, in __init__\n",
      "W0222 00:01:10.608000 10580 site-packages\\torch\\_dynamo\\convert_frame.py:1233]     self._compute_attrs()\n",
      "W0222 00:01:10.608000 10580 site-packages\\torch\\_dynamo\\convert_frame.py:1233]   File \"c:\\Users\\risko\\miniconda3\\envs\\prompt-classification\\Lib\\site-packages\\torch\\_inductor\\scheduler.py\", line 907, in _compute_attrs\n",
      "W0222 00:01:10.608000 10580 site-packages\\torch\\_dynamo\\convert_frame.py:1233]     group_fn = self.scheduler.get_backend(device).group_fn\n",
      "W0222 00:01:10.608000 10580 site-packages\\torch\\_dynamo\\convert_frame.py:1233]                ^^^^^^^^^^^^^^^^^^^^^^^^^^^^^^^^^^\n",
      "W0222 00:01:10.608000 10580 site-packages\\torch\\_dynamo\\convert_frame.py:1233]   File \"c:\\Users\\risko\\miniconda3\\envs\\prompt-classification\\Lib\\site-packages\\torch\\_inductor\\scheduler.py\", line 3441, in get_backend\n",
      "W0222 00:01:10.608000 10580 site-packages\\torch\\_dynamo\\convert_frame.py:1233]     self.backends[device] = self.create_backend(device)\n",
      "W0222 00:01:10.608000 10580 site-packages\\torch\\_dynamo\\convert_frame.py:1233]                             ^^^^^^^^^^^^^^^^^^^^^^^^^^^\n",
      "W0222 00:01:10.608000 10580 site-packages\\torch\\_dynamo\\convert_frame.py:1233]   File \"c:\\Users\\risko\\miniconda3\\envs\\prompt-classification\\Lib\\site-packages\\torch\\_inductor\\scheduler.py\", line 3432, in create_backend\n",
      "W0222 00:01:10.608000 10580 site-packages\\torch\\_dynamo\\convert_frame.py:1233]     raise RuntimeError(\n",
      "W0222 00:01:10.608000 10580 site-packages\\torch\\_dynamo\\convert_frame.py:1233] torch._dynamo.exc.BackendCompilerFailed: backend='inductor' raised:\n",
      "W0222 00:01:10.608000 10580 site-packages\\torch\\_dynamo\\convert_frame.py:1233] RuntimeError: Cannot find a working triton installation. Either the package is not installed or it is too old. More information on installing Triton can be found at https://github.com/openai/triton\n",
      "W0222 00:01:10.608000 10580 site-packages\\torch\\_dynamo\\convert_frame.py:1233] \n",
      "W0222 00:01:10.608000 10580 site-packages\\torch\\_dynamo\\convert_frame.py:1233] Set TORCH_LOGS=\"+dynamo\" and TORCHDYNAMO_VERBOSE=1 for more information\n",
      "W0222 00:01:10.608000 10580 site-packages\\torch\\_dynamo\\convert_frame.py:1233] \n",
      "W0222 00:01:10.747000 10580 site-packages\\torch\\_dynamo\\convert_frame.py:1233] WON'T CONVERT forward c:\\Users\\risko\\miniconda3\\envs\\prompt-classification\\Lib\\site-packages\\transformers\\activations.py line 77 \n",
      "W0222 00:01:10.747000 10580 site-packages\\torch\\_dynamo\\convert_frame.py:1233] due to: \n",
      "W0222 00:01:10.747000 10580 site-packages\\torch\\_dynamo\\convert_frame.py:1233] Traceback (most recent call last):\n",
      "W0222 00:01:10.747000 10580 site-packages\\torch\\_dynamo\\convert_frame.py:1233]   File \"c:\\Users\\risko\\miniconda3\\envs\\prompt-classification\\Lib\\site-packages\\torch\\_dynamo\\convert_frame.py\", line 1164, in __call__\n",
      "W0222 00:01:10.747000 10580 site-packages\\torch\\_dynamo\\convert_frame.py:1233]     result = self._inner_convert(\n",
      "W0222 00:01:10.747000 10580 site-packages\\torch\\_dynamo\\convert_frame.py:1233]              ^^^^^^^^^^^^^^^^^^^^\n",
      "W0222 00:01:10.747000 10580 site-packages\\torch\\_dynamo\\convert_frame.py:1233]   File \"c:\\Users\\risko\\miniconda3\\envs\\prompt-classification\\Lib\\site-packages\\torch\\_dynamo\\convert_frame.py\", line 547, in __call__\n",
      "W0222 00:01:10.747000 10580 site-packages\\torch\\_dynamo\\convert_frame.py:1233]     return _compile(\n",
      "W0222 00:01:10.747000 10580 site-packages\\torch\\_dynamo\\convert_frame.py:1233]            ^^^^^^^^^\n",
      "W0222 00:01:10.747000 10580 site-packages\\torch\\_dynamo\\convert_frame.py:1233]   File \"c:\\Users\\risko\\miniconda3\\envs\\prompt-classification\\Lib\\site-packages\\torch\\_dynamo\\convert_frame.py\", line 986, in _compile\n",
      "W0222 00:01:10.747000 10580 site-packages\\torch\\_dynamo\\convert_frame.py:1233]     guarded_code = compile_inner(code, one_graph, hooks, transform)\n",
      "W0222 00:01:10.747000 10580 site-packages\\torch\\_dynamo\\convert_frame.py:1233]                    ^^^^^^^^^^^^^^^^^^^^^^^^^^^^^^^^^^^^^^^^^^^^^^^^\n",
      "W0222 00:01:10.747000 10580 site-packages\\torch\\_dynamo\\convert_frame.py:1233]   File \"c:\\Users\\risko\\miniconda3\\envs\\prompt-classification\\Lib\\site-packages\\torch\\_dynamo\\convert_frame.py\", line 715, in compile_inner\n",
      "W0222 00:01:10.747000 10580 site-packages\\torch\\_dynamo\\convert_frame.py:1233]     return _compile_inner(code, one_graph, hooks, transform)\n",
      "W0222 00:01:10.747000 10580 site-packages\\torch\\_dynamo\\convert_frame.py:1233]            ^^^^^^^^^^^^^^^^^^^^^^^^^^^^^^^^^^^^^^^^^^^^^^^^^\n",
      "W0222 00:01:10.747000 10580 site-packages\\torch\\_dynamo\\convert_frame.py:1233]   File \"c:\\Users\\risko\\miniconda3\\envs\\prompt-classification\\Lib\\site-packages\\torch\\_utils_internal.py\", line 95, in wrapper_function\n",
      "W0222 00:01:10.747000 10580 site-packages\\torch\\_dynamo\\convert_frame.py:1233]     return function(*args, **kwargs)\n",
      "W0222 00:01:10.747000 10580 site-packages\\torch\\_dynamo\\convert_frame.py:1233]            ^^^^^^^^^^^^^^^^^^^^^^^^^\n",
      "W0222 00:01:10.747000 10580 site-packages\\torch\\_dynamo\\convert_frame.py:1233]   File \"c:\\Users\\risko\\miniconda3\\envs\\prompt-classification\\Lib\\site-packages\\torch\\_dynamo\\convert_frame.py\", line 750, in _compile_inner\n",
      "W0222 00:01:10.747000 10580 site-packages\\torch\\_dynamo\\convert_frame.py:1233]     out_code = transform_code_object(code, transform)\n",
      "W0222 00:01:10.747000 10580 site-packages\\torch\\_dynamo\\convert_frame.py:1233]                ^^^^^^^^^^^^^^^^^^^^^^^^^^^^^^^^^^^^^^\n",
      "W0222 00:01:10.747000 10580 site-packages\\torch\\_dynamo\\convert_frame.py:1233]   File \"c:\\Users\\risko\\miniconda3\\envs\\prompt-classification\\Lib\\site-packages\\torch\\_dynamo\\bytecode_transformation.py\", line 1361, in transform_code_object\n",
      "W0222 00:01:10.747000 10580 site-packages\\torch\\_dynamo\\convert_frame.py:1233]     transformations(instructions, code_options)\n",
      "W0222 00:01:10.747000 10580 site-packages\\torch\\_dynamo\\convert_frame.py:1233]   File \"c:\\Users\\risko\\miniconda3\\envs\\prompt-classification\\Lib\\site-packages\\torch\\_dynamo\\convert_frame.py\", line 231, in _fn\n",
      "W0222 00:01:10.747000 10580 site-packages\\torch\\_dynamo\\convert_frame.py:1233]     return fn(*args, **kwargs)\n",
      "W0222 00:01:10.747000 10580 site-packages\\torch\\_dynamo\\convert_frame.py:1233]            ^^^^^^^^^^^^^^^^^^^\n",
      "W0222 00:01:10.747000 10580 site-packages\\torch\\_dynamo\\convert_frame.py:1233]   File \"c:\\Users\\risko\\miniconda3\\envs\\prompt-classification\\Lib\\site-packages\\torch\\_dynamo\\convert_frame.py\", line 662, in transform\n",
      "W0222 00:01:10.747000 10580 site-packages\\torch\\_dynamo\\convert_frame.py:1233]     tracer.run()\n",
      "W0222 00:01:10.747000 10580 site-packages\\torch\\_dynamo\\convert_frame.py:1233]   File \"c:\\Users\\risko\\miniconda3\\envs\\prompt-classification\\Lib\\site-packages\\torch\\_dynamo\\symbolic_convert.py\", line 2868, in run\n",
      "W0222 00:01:10.747000 10580 site-packages\\torch\\_dynamo\\convert_frame.py:1233]     super().run()\n",
      "W0222 00:01:10.747000 10580 site-packages\\torch\\_dynamo\\convert_frame.py:1233]   File \"c:\\Users\\risko\\miniconda3\\envs\\prompt-classification\\Lib\\site-packages\\torch\\_dynamo\\symbolic_convert.py\", line 1052, in run\n",
      "W0222 00:01:10.747000 10580 site-packages\\torch\\_dynamo\\convert_frame.py:1233]     while self.step():\n",
      "W0222 00:01:10.747000 10580 site-packages\\torch\\_dynamo\\convert_frame.py:1233]           ^^^^^^^^^^^\n",
      "W0222 00:01:10.747000 10580 site-packages\\torch\\_dynamo\\convert_frame.py:1233]   File \"c:\\Users\\risko\\miniconda3\\envs\\prompt-classification\\Lib\\site-packages\\torch\\_dynamo\\symbolic_convert.py\", line 962, in step\n",
      "W0222 00:01:10.747000 10580 site-packages\\torch\\_dynamo\\convert_frame.py:1233]     self.dispatch_table[inst.opcode](self, inst)\n",
      "W0222 00:01:10.747000 10580 site-packages\\torch\\_dynamo\\convert_frame.py:1233]   File \"c:\\Users\\risko\\miniconda3\\envs\\prompt-classification\\Lib\\site-packages\\torch\\_dynamo\\symbolic_convert.py\", line 3048, in RETURN_VALUE\n",
      "W0222 00:01:10.747000 10580 site-packages\\torch\\_dynamo\\convert_frame.py:1233]     self._return(inst)\n",
      "W0222 00:01:10.747000 10580 site-packages\\torch\\_dynamo\\convert_frame.py:1233]   File \"c:\\Users\\risko\\miniconda3\\envs\\prompt-classification\\Lib\\site-packages\\torch\\_dynamo\\symbolic_convert.py\", line 3033, in _return\n",
      "W0222 00:01:10.747000 10580 site-packages\\torch\\_dynamo\\convert_frame.py:1233]     self.output.compile_subgraph(\n",
      "W0222 00:01:10.747000 10580 site-packages\\torch\\_dynamo\\convert_frame.py:1233]   File \"c:\\Users\\risko\\miniconda3\\envs\\prompt-classification\\Lib\\site-packages\\torch\\_dynamo\\output_graph.py\", line 1101, in compile_subgraph\n",
      "W0222 00:01:10.747000 10580 site-packages\\torch\\_dynamo\\convert_frame.py:1233]     self.compile_and_call_fx_graph(\n",
      "W0222 00:01:10.747000 10580 site-packages\\torch\\_dynamo\\convert_frame.py:1233]   File \"c:\\Users\\risko\\miniconda3\\envs\\prompt-classification\\Lib\\site-packages\\torch\\_dynamo\\output_graph.py\", line 1382, in compile_and_call_fx_graph\n",
      "W0222 00:01:10.747000 10580 site-packages\\torch\\_dynamo\\convert_frame.py:1233]     compiled_fn = self.call_user_compiler(gm)\n",
      "W0222 00:01:10.747000 10580 site-packages\\torch\\_dynamo\\convert_frame.py:1233]                   ^^^^^^^^^^^^^^^^^^^^^^^^^^^\n",
      "W0222 00:01:10.747000 10580 site-packages\\torch\\_dynamo\\convert_frame.py:1233]   File \"c:\\Users\\risko\\miniconda3\\envs\\prompt-classification\\Lib\\site-packages\\torch\\_dynamo\\output_graph.py\", line 1432, in call_user_compiler\n",
      "W0222 00:01:10.747000 10580 site-packages\\torch\\_dynamo\\convert_frame.py:1233]     return self._call_user_compiler(gm)\n",
      "W0222 00:01:10.747000 10580 site-packages\\torch\\_dynamo\\convert_frame.py:1233]            ^^^^^^^^^^^^^^^^^^^^^^^^^^^^\n",
      "W0222 00:01:10.747000 10580 site-packages\\torch\\_dynamo\\convert_frame.py:1233]   File \"c:\\Users\\risko\\miniconda3\\envs\\prompt-classification\\Lib\\site-packages\\torch\\_dynamo\\output_graph.py\", line 1483, in _call_user_compiler\n",
      "W0222 00:01:10.747000 10580 site-packages\\torch\\_dynamo\\convert_frame.py:1233]     raise BackendCompilerFailed(self.compiler_fn, e).with_traceback(\n",
      "W0222 00:01:10.747000 10580 site-packages\\torch\\_dynamo\\convert_frame.py:1233]   File \"c:\\Users\\risko\\miniconda3\\envs\\prompt-classification\\Lib\\site-packages\\torch\\_dynamo\\output_graph.py\", line 1462, in _call_user_compiler\n",
      "W0222 00:01:10.747000 10580 site-packages\\torch\\_dynamo\\convert_frame.py:1233]     compiled_fn = compiler_fn(gm, self.example_inputs())\n",
      "W0222 00:01:10.747000 10580 site-packages\\torch\\_dynamo\\convert_frame.py:1233]                   ^^^^^^^^^^^^^^^^^^^^^^^^^^^^^^^^^^^^^^\n",
      "W0222 00:01:10.747000 10580 site-packages\\torch\\_dynamo\\convert_frame.py:1233]   File \"c:\\Users\\risko\\miniconda3\\envs\\prompt-classification\\Lib\\site-packages\\torch\\_dynamo\\repro\\after_dynamo.py\", line 130, in __call__\n",
      "W0222 00:01:10.747000 10580 site-packages\\torch\\_dynamo\\convert_frame.py:1233]     compiled_gm = compiler_fn(gm, example_inputs)\n",
      "W0222 00:01:10.747000 10580 site-packages\\torch\\_dynamo\\convert_frame.py:1233]                   ^^^^^^^^^^^^^^^^^^^^^^^^^^^^^^^\n",
      "W0222 00:01:10.747000 10580 site-packages\\torch\\_dynamo\\convert_frame.py:1233]   File \"c:\\Users\\risko\\miniconda3\\envs\\prompt-classification\\Lib\\site-packages\\torch\\__init__.py\", line 2340, in __call__\n",
      "W0222 00:01:10.747000 10580 site-packages\\torch\\_dynamo\\convert_frame.py:1233]     return compile_fx(model_, inputs_, config_patches=self.config)\n",
      "W0222 00:01:10.747000 10580 site-packages\\torch\\_dynamo\\convert_frame.py:1233]            ^^^^^^^^^^^^^^^^^^^^^^^^^^^^^^^^^^^^^^^^^^^^^^^^^^^^^^^\n",
      "W0222 00:01:10.747000 10580 site-packages\\torch\\_dynamo\\convert_frame.py:1233]   File \"c:\\Users\\risko\\miniconda3\\envs\\prompt-classification\\Lib\\site-packages\\torch\\_inductor\\compile_fx.py\", line 1863, in compile_fx\n",
      "W0222 00:01:10.747000 10580 site-packages\\torch\\_dynamo\\convert_frame.py:1233]     return aot_autograd(\n",
      "W0222 00:01:10.747000 10580 site-packages\\torch\\_dynamo\\convert_frame.py:1233]            ^^^^^^^^^^^^^\n",
      "W0222 00:01:10.747000 10580 site-packages\\torch\\_dynamo\\convert_frame.py:1233]   File \"c:\\Users\\risko\\miniconda3\\envs\\prompt-classification\\Lib\\site-packages\\torch\\_dynamo\\backends\\common.py\", line 83, in __call__\n",
      "W0222 00:01:10.747000 10580 site-packages\\torch\\_dynamo\\convert_frame.py:1233]     cg = aot_module_simplified(gm, example_inputs, **self.kwargs)\n",
      "W0222 00:01:10.747000 10580 site-packages\\torch\\_dynamo\\convert_frame.py:1233]          ^^^^^^^^^^^^^^^^^^^^^^^^^^^^^^^^^^^^^^^^^^^^^^^^^^^^^^^^\n",
      "W0222 00:01:10.747000 10580 site-packages\\torch\\_dynamo\\convert_frame.py:1233]   File \"c:\\Users\\risko\\miniconda3\\envs\\prompt-classification\\Lib\\site-packages\\torch\\_functorch\\aot_autograd.py\", line 1155, in aot_module_simplified\n",
      "W0222 00:01:10.747000 10580 site-packages\\torch\\_dynamo\\convert_frame.py:1233]     compiled_fn = dispatch_and_compile()\n",
      "W0222 00:01:10.747000 10580 site-packages\\torch\\_dynamo\\convert_frame.py:1233]                   ^^^^^^^^^^^^^^^^^^^^^^\n",
      "W0222 00:01:10.747000 10580 site-packages\\torch\\_dynamo\\convert_frame.py:1233]   File \"c:\\Users\\risko\\miniconda3\\envs\\prompt-classification\\Lib\\site-packages\\torch\\_functorch\\aot_autograd.py\", line 1131, in dispatch_and_compile\n",
      "W0222 00:01:10.747000 10580 site-packages\\torch\\_dynamo\\convert_frame.py:1233]     compiled_fn, _ = create_aot_dispatcher_function(\n",
      "W0222 00:01:10.747000 10580 site-packages\\torch\\_dynamo\\convert_frame.py:1233]                      ^^^^^^^^^^^^^^^^^^^^^^^^^^^^^^^\n",
      "W0222 00:01:10.747000 10580 site-packages\\torch\\_dynamo\\convert_frame.py:1233]   File \"c:\\Users\\risko\\miniconda3\\envs\\prompt-classification\\Lib\\site-packages\\torch\\_functorch\\aot_autograd.py\", line 580, in create_aot_dispatcher_function\n",
      "W0222 00:01:10.747000 10580 site-packages\\torch\\_dynamo\\convert_frame.py:1233]     return _create_aot_dispatcher_function(\n",
      "W0222 00:01:10.747000 10580 site-packages\\torch\\_dynamo\\convert_frame.py:1233]            ^^^^^^^^^^^^^^^^^^^^^^^^^^^^^^^^\n",
      "W0222 00:01:10.747000 10580 site-packages\\torch\\_dynamo\\convert_frame.py:1233]   File \"c:\\Users\\risko\\miniconda3\\envs\\prompt-classification\\Lib\\site-packages\\torch\\_functorch\\aot_autograd.py\", line 830, in _create_aot_dispatcher_function\n",
      "W0222 00:01:10.747000 10580 site-packages\\torch\\_dynamo\\convert_frame.py:1233]     compiled_fn, fw_metadata = compiler_fn(\n",
      "W0222 00:01:10.747000 10580 site-packages\\torch\\_dynamo\\convert_frame.py:1233]                                ^^^^^^^^^^^^\n",
      "W0222 00:01:10.747000 10580 site-packages\\torch\\_dynamo\\convert_frame.py:1233]   File \"c:\\Users\\risko\\miniconda3\\envs\\prompt-classification\\Lib\\site-packages\\torch\\_functorch\\_aot_autograd\\jit_compile_runtime_wrappers.py\", line 203, in aot_dispatch_base\n",
      "W0222 00:01:10.747000 10580 site-packages\\torch\\_dynamo\\convert_frame.py:1233]     compiled_fw = compiler(fw_module, updated_flat_args)\n",
      "W0222 00:01:10.747000 10580 site-packages\\torch\\_dynamo\\convert_frame.py:1233]                   ^^^^^^^^^^^^^^^^^^^^^^^^^^^^^^^^^^^^^^\n",
      "W0222 00:01:10.747000 10580 site-packages\\torch\\_dynamo\\convert_frame.py:1233]   File \"c:\\Users\\risko\\miniconda3\\envs\\prompt-classification\\Lib\\site-packages\\torch\\_functorch\\aot_autograd.py\", line 489, in __call__\n",
      "W0222 00:01:10.747000 10580 site-packages\\torch\\_dynamo\\convert_frame.py:1233]     return self.compiler_fn(gm, example_inputs)\n",
      "W0222 00:01:10.747000 10580 site-packages\\torch\\_dynamo\\convert_frame.py:1233]            ^^^^^^^^^^^^^^^^^^^^^^^^^^^^^^^^^^^^\n",
      "W0222 00:01:10.747000 10580 site-packages\\torch\\_dynamo\\convert_frame.py:1233]   File \"c:\\Users\\risko\\miniconda3\\envs\\prompt-classification\\Lib\\site-packages\\torch\\_inductor\\compile_fx.py\", line 1741, in fw_compiler_base\n",
      "W0222 00:01:10.747000 10580 site-packages\\torch\\_dynamo\\convert_frame.py:1233]     return inner_compile(\n",
      "W0222 00:01:10.747000 10580 site-packages\\torch\\_dynamo\\convert_frame.py:1233]            ^^^^^^^^^^^^^^\n",
      "W0222 00:01:10.747000 10580 site-packages\\torch\\_dynamo\\convert_frame.py:1233]   File \"c:\\Users\\risko\\miniconda3\\envs\\prompt-classification\\Lib\\site-packages\\torch\\_inductor\\compile_fx.py\", line 569, in compile_fx_inner\n",
      "W0222 00:01:10.747000 10580 site-packages\\torch\\_dynamo\\convert_frame.py:1233]     return wrap_compiler_debug(_compile_fx_inner, compiler_name=\"inductor\")(\n",
      "W0222 00:01:10.747000 10580 site-packages\\torch\\_dynamo\\convert_frame.py:1233]            ^^^^^^^^^^^^^^^^^^^^^^^^^^^^^^^^^^^^^^^^^^^^^^^^^^^^^^^^^^^^^^^^^\n",
      "W0222 00:01:10.747000 10580 site-packages\\torch\\_dynamo\\convert_frame.py:1233]   File \"c:\\Users\\risko\\miniconda3\\envs\\prompt-classification\\Lib\\site-packages\\torch\\_dynamo\\repro\\after_aot.py\", line 102, in debug_wrapper\n",
      "W0222 00:01:10.747000 10580 site-packages\\torch\\_dynamo\\convert_frame.py:1233]     inner_compiled_fn = compiler_fn(gm, example_inputs)\n",
      "W0222 00:01:10.747000 10580 site-packages\\torch\\_dynamo\\convert_frame.py:1233]                         ^^^^^^^^^^^^^^^^^^^^^^^^^^^^^^^\n",
      "W0222 00:01:10.747000 10580 site-packages\\torch\\_dynamo\\convert_frame.py:1233]   File \"c:\\Users\\risko\\miniconda3\\envs\\prompt-classification\\Lib\\site-packages\\torch\\_inductor\\compile_fx.py\", line 685, in _compile_fx_inner\n",
      "W0222 00:01:10.747000 10580 site-packages\\torch\\_dynamo\\convert_frame.py:1233]     mb_compiled_graph = fx_codegen_and_compile(\n",
      "W0222 00:01:10.747000 10580 site-packages\\torch\\_dynamo\\convert_frame.py:1233]                         ^^^^^^^^^^^^^^^^^^^^^^^\n",
      "W0222 00:01:10.747000 10580 site-packages\\torch\\_dynamo\\convert_frame.py:1233]   File \"c:\\Users\\risko\\miniconda3\\envs\\prompt-classification\\Lib\\site-packages\\torch\\_inductor\\compile_fx.py\", line 1129, in fx_codegen_and_compile\n",
      "W0222 00:01:10.747000 10580 site-packages\\torch\\_dynamo\\convert_frame.py:1233]     return scheme.codegen_and_compile(gm, example_inputs, inputs_to_check, graph_kwargs)\n",
      "W0222 00:01:10.747000 10580 site-packages\\torch\\_dynamo\\convert_frame.py:1233]            ^^^^^^^^^^^^^^^^^^^^^^^^^^^^^^^^^^^^^^^^^^^^^^^^^^^^^^^^^^^^^^^^^^^^^^^^^^^^^\n",
      "W0222 00:01:10.747000 10580 site-packages\\torch\\_dynamo\\convert_frame.py:1233]   File \"c:\\Users\\risko\\miniconda3\\envs\\prompt-classification\\Lib\\site-packages\\torch\\_inductor\\compile_fx.py\", line 1044, in codegen_and_compile\n",
      "W0222 00:01:10.747000 10580 site-packages\\torch\\_dynamo\\convert_frame.py:1233]     compiled_fn = graph.compile_to_module().call\n",
      "W0222 00:01:10.747000 10580 site-packages\\torch\\_dynamo\\convert_frame.py:1233]                   ^^^^^^^^^^^^^^^^^^^^^^^^^\n",
      "W0222 00:01:10.747000 10580 site-packages\\torch\\_dynamo\\convert_frame.py:1233]   File \"c:\\Users\\risko\\miniconda3\\envs\\prompt-classification\\Lib\\site-packages\\torch\\_inductor\\graph.py\", line 2027, in compile_to_module\n",
      "W0222 00:01:10.747000 10580 site-packages\\torch\\_dynamo\\convert_frame.py:1233]     return self._compile_to_module()\n",
      "W0222 00:01:10.747000 10580 site-packages\\torch\\_dynamo\\convert_frame.py:1233]            ^^^^^^^^^^^^^^^^^^^^^^^^^\n",
      "W0222 00:01:10.747000 10580 site-packages\\torch\\_dynamo\\convert_frame.py:1233]   File \"c:\\Users\\risko\\miniconda3\\envs\\prompt-classification\\Lib\\site-packages\\torch\\_inductor\\graph.py\", line 2033, in _compile_to_module\n",
      "W0222 00:01:10.747000 10580 site-packages\\torch\\_dynamo\\convert_frame.py:1233]     self.codegen_with_cpp_wrapper() if self.cpp_wrapper else self.codegen()\n",
      "W0222 00:01:10.747000 10580 site-packages\\torch\\_dynamo\\convert_frame.py:1233]                                                              ^^^^^^^^^^^^^^\n",
      "W0222 00:01:10.747000 10580 site-packages\\torch\\_dynamo\\convert_frame.py:1233]   File \"c:\\Users\\risko\\miniconda3\\envs\\prompt-classification\\Lib\\site-packages\\torch\\_inductor\\graph.py\", line 1964, in codegen\n",
      "W0222 00:01:10.747000 10580 site-packages\\torch\\_dynamo\\convert_frame.py:1233]     self.scheduler = Scheduler(self.operations)\n",
      "W0222 00:01:10.747000 10580 site-packages\\torch\\_dynamo\\convert_frame.py:1233]                      ^^^^^^^^^^^^^^^^^^^^^^^^^^\n",
      "W0222 00:01:10.747000 10580 site-packages\\torch\\_dynamo\\convert_frame.py:1233]   File \"c:\\Users\\risko\\miniconda3\\envs\\prompt-classification\\Lib\\site-packages\\torch\\_inductor\\scheduler.py\", line 1798, in __init__\n",
      "W0222 00:01:10.747000 10580 site-packages\\torch\\_dynamo\\convert_frame.py:1233]     self._init(nodes)\n",
      "W0222 00:01:10.747000 10580 site-packages\\torch\\_dynamo\\convert_frame.py:1233]   File \"c:\\Users\\risko\\miniconda3\\envs\\prompt-classification\\Lib\\site-packages\\torch\\_inductor\\scheduler.py\", line 1816, in _init\n",
      "W0222 00:01:10.747000 10580 site-packages\\torch\\_dynamo\\convert_frame.py:1233]     self.nodes = [self.create_scheduler_node(n) for n in nodes]\n",
      "W0222 00:01:10.747000 10580 site-packages\\torch\\_dynamo\\convert_frame.py:1233]                  ^^^^^^^^^^^^^^^^^^^^^^^^^^^^^^^^^^^^^^^^^^^^^^\n",
      "W0222 00:01:10.747000 10580 site-packages\\torch\\_dynamo\\convert_frame.py:1233]   File \"c:\\Users\\risko\\miniconda3\\envs\\prompt-classification\\Lib\\site-packages\\torch\\_inductor\\scheduler.py\", line 1816, in <listcomp>\n",
      "W0222 00:01:10.747000 10580 site-packages\\torch\\_dynamo\\convert_frame.py:1233]     self.nodes = [self.create_scheduler_node(n) for n in nodes]\n",
      "W0222 00:01:10.747000 10580 site-packages\\torch\\_dynamo\\convert_frame.py:1233]                   ^^^^^^^^^^^^^^^^^^^^^^^^^^^^^\n",
      "W0222 00:01:10.747000 10580 site-packages\\torch\\_dynamo\\convert_frame.py:1233]   File \"c:\\Users\\risko\\miniconda3\\envs\\prompt-classification\\Lib\\site-packages\\torch\\_inductor\\scheduler.py\", line 1947, in create_scheduler_node\n",
      "W0222 00:01:10.747000 10580 site-packages\\torch\\_dynamo\\convert_frame.py:1233]     return SchedulerNode(self, node)\n",
      "W0222 00:01:10.747000 10580 site-packages\\torch\\_dynamo\\convert_frame.py:1233]            ^^^^^^^^^^^^^^^^^^^^^^^^^\n",
      "W0222 00:01:10.747000 10580 site-packages\\torch\\_dynamo\\convert_frame.py:1233]   File \"c:\\Users\\risko\\miniconda3\\envs\\prompt-classification\\Lib\\site-packages\\torch\\_inductor\\scheduler.py\", line 893, in __init__\n",
      "W0222 00:01:10.747000 10580 site-packages\\torch\\_dynamo\\convert_frame.py:1233]     self._compute_attrs()\n",
      "W0222 00:01:10.747000 10580 site-packages\\torch\\_dynamo\\convert_frame.py:1233]   File \"c:\\Users\\risko\\miniconda3\\envs\\prompt-classification\\Lib\\site-packages\\torch\\_inductor\\scheduler.py\", line 907, in _compute_attrs\n",
      "W0222 00:01:10.747000 10580 site-packages\\torch\\_dynamo\\convert_frame.py:1233]     group_fn = self.scheduler.get_backend(device).group_fn\n",
      "W0222 00:01:10.747000 10580 site-packages\\torch\\_dynamo\\convert_frame.py:1233]                ^^^^^^^^^^^^^^^^^^^^^^^^^^^^^^^^^^\n",
      "W0222 00:01:10.747000 10580 site-packages\\torch\\_dynamo\\convert_frame.py:1233]   File \"c:\\Users\\risko\\miniconda3\\envs\\prompt-classification\\Lib\\site-packages\\torch\\_inductor\\scheduler.py\", line 3441, in get_backend\n",
      "W0222 00:01:10.747000 10580 site-packages\\torch\\_dynamo\\convert_frame.py:1233]     self.backends[device] = self.create_backend(device)\n",
      "W0222 00:01:10.747000 10580 site-packages\\torch\\_dynamo\\convert_frame.py:1233]                             ^^^^^^^^^^^^^^^^^^^^^^^^^^^\n",
      "W0222 00:01:10.747000 10580 site-packages\\torch\\_dynamo\\convert_frame.py:1233]   File \"c:\\Users\\risko\\miniconda3\\envs\\prompt-classification\\Lib\\site-packages\\torch\\_inductor\\scheduler.py\", line 3432, in create_backend\n",
      "W0222 00:01:10.747000 10580 site-packages\\torch\\_dynamo\\convert_frame.py:1233]     raise RuntimeError(\n",
      "W0222 00:01:10.747000 10580 site-packages\\torch\\_dynamo\\convert_frame.py:1233] torch._dynamo.exc.BackendCompilerFailed: backend='inductor' raised:\n",
      "W0222 00:01:10.747000 10580 site-packages\\torch\\_dynamo\\convert_frame.py:1233] RuntimeError: Cannot find a working triton installation. Either the package is not installed or it is too old. More information on installing Triton can be found at https://github.com/openai/triton\n",
      "W0222 00:01:10.747000 10580 site-packages\\torch\\_dynamo\\convert_frame.py:1233] \n",
      "W0222 00:01:10.747000 10580 site-packages\\torch\\_dynamo\\convert_frame.py:1233] Set TORCH_LOGS=\"+dynamo\" and TORCHDYNAMO_VERBOSE=1 for more information\n",
      "W0222 00:01:10.747000 10580 site-packages\\torch\\_dynamo\\convert_frame.py:1233] \n",
      "W0222 00:01:10.747000 10580 site-packages\\torch\\_dynamo\\convert_frame.py:1233] Traceback (most recent call last):\n",
      "W0222 00:01:10.747000 10580 site-packages\\torch\\_dynamo\\convert_frame.py:1233]   File \"c:\\Users\\risko\\miniconda3\\envs\\prompt-classification\\Lib\\site-packages\\torch\\_dynamo\\convert_frame.py\", line 1164, in __call__\n",
      "W0222 00:01:10.747000 10580 site-packages\\torch\\_dynamo\\convert_frame.py:1233]     result = self._inner_convert(\n",
      "W0222 00:01:10.747000 10580 site-packages\\torch\\_dynamo\\convert_frame.py:1233]              ^^^^^^^^^^^^^^^^^^^^\n",
      "W0222 00:01:10.747000 10580 site-packages\\torch\\_dynamo\\convert_frame.py:1233]   File \"c:\\Users\\risko\\miniconda3\\envs\\prompt-classification\\Lib\\site-packages\\torch\\_dynamo\\convert_frame.py\", line 547, in __call__\n",
      "W0222 00:01:10.747000 10580 site-packages\\torch\\_dynamo\\convert_frame.py:1233]     return _compile(\n",
      "W0222 00:01:10.747000 10580 site-packages\\torch\\_dynamo\\convert_frame.py:1233]            ^^^^^^^^^\n",
      "W0222 00:01:10.747000 10580 site-packages\\torch\\_dynamo\\convert_frame.py:1233]   File \"c:\\Users\\risko\\miniconda3\\envs\\prompt-classification\\Lib\\site-packages\\torch\\_dynamo\\convert_frame.py\", line 986, in _compile\n",
      "W0222 00:01:10.747000 10580 site-packages\\torch\\_dynamo\\convert_frame.py:1233]     guarded_code = compile_inner(code, one_graph, hooks, transform)\n",
      "W0222 00:01:10.747000 10580 site-packages\\torch\\_dynamo\\convert_frame.py:1233]                    ^^^^^^^^^^^^^^^^^^^^^^^^^^^^^^^^^^^^^^^^^^^^^^^^\n",
      "W0222 00:01:10.747000 10580 site-packages\\torch\\_dynamo\\convert_frame.py:1233]   File \"c:\\Users\\risko\\miniconda3\\envs\\prompt-classification\\Lib\\site-packages\\torch\\_dynamo\\convert_frame.py\", line 715, in compile_inner\n",
      "W0222 00:01:10.747000 10580 site-packages\\torch\\_dynamo\\convert_frame.py:1233]     return _compile_inner(code, one_graph, hooks, transform)\n",
      "W0222 00:01:10.747000 10580 site-packages\\torch\\_dynamo\\convert_frame.py:1233]            ^^^^^^^^^^^^^^^^^^^^^^^^^^^^^^^^^^^^^^^^^^^^^^^^^\n",
      "W0222 00:01:10.747000 10580 site-packages\\torch\\_dynamo\\convert_frame.py:1233]   File \"c:\\Users\\risko\\miniconda3\\envs\\prompt-classification\\Lib\\site-packages\\torch\\_utils_internal.py\", line 95, in wrapper_function\n",
      "W0222 00:01:10.747000 10580 site-packages\\torch\\_dynamo\\convert_frame.py:1233]     return function(*args, **kwargs)\n",
      "W0222 00:01:10.747000 10580 site-packages\\torch\\_dynamo\\convert_frame.py:1233]            ^^^^^^^^^^^^^^^^^^^^^^^^^\n",
      "W0222 00:01:10.747000 10580 site-packages\\torch\\_dynamo\\convert_frame.py:1233]   File \"c:\\Users\\risko\\miniconda3\\envs\\prompt-classification\\Lib\\site-packages\\torch\\_dynamo\\convert_frame.py\", line 750, in _compile_inner\n",
      "W0222 00:01:10.747000 10580 site-packages\\torch\\_dynamo\\convert_frame.py:1233]     out_code = transform_code_object(code, transform)\n",
      "W0222 00:01:10.747000 10580 site-packages\\torch\\_dynamo\\convert_frame.py:1233]                ^^^^^^^^^^^^^^^^^^^^^^^^^^^^^^^^^^^^^^\n",
      "W0222 00:01:10.747000 10580 site-packages\\torch\\_dynamo\\convert_frame.py:1233]   File \"c:\\Users\\risko\\miniconda3\\envs\\prompt-classification\\Lib\\site-packages\\torch\\_dynamo\\bytecode_transformation.py\", line 1361, in transform_code_object\n",
      "W0222 00:01:10.747000 10580 site-packages\\torch\\_dynamo\\convert_frame.py:1233]     transformations(instructions, code_options)\n",
      "W0222 00:01:10.747000 10580 site-packages\\torch\\_dynamo\\convert_frame.py:1233]   File \"c:\\Users\\risko\\miniconda3\\envs\\prompt-classification\\Lib\\site-packages\\torch\\_dynamo\\convert_frame.py\", line 231, in _fn\n",
      "W0222 00:01:10.747000 10580 site-packages\\torch\\_dynamo\\convert_frame.py:1233]     return fn(*args, **kwargs)\n",
      "W0222 00:01:10.747000 10580 site-packages\\torch\\_dynamo\\convert_frame.py:1233]            ^^^^^^^^^^^^^^^^^^^\n",
      "W0222 00:01:10.747000 10580 site-packages\\torch\\_dynamo\\convert_frame.py:1233]   File \"c:\\Users\\risko\\miniconda3\\envs\\prompt-classification\\Lib\\site-packages\\torch\\_dynamo\\convert_frame.py\", line 662, in transform\n",
      "W0222 00:01:10.747000 10580 site-packages\\torch\\_dynamo\\convert_frame.py:1233]     tracer.run()\n",
      "W0222 00:01:10.747000 10580 site-packages\\torch\\_dynamo\\convert_frame.py:1233]   File \"c:\\Users\\risko\\miniconda3\\envs\\prompt-classification\\Lib\\site-packages\\torch\\_dynamo\\symbolic_convert.py\", line 2868, in run\n",
      "W0222 00:01:10.747000 10580 site-packages\\torch\\_dynamo\\convert_frame.py:1233]     super().run()\n",
      "W0222 00:01:10.747000 10580 site-packages\\torch\\_dynamo\\convert_frame.py:1233]   File \"c:\\Users\\risko\\miniconda3\\envs\\prompt-classification\\Lib\\site-packages\\torch\\_dynamo\\symbolic_convert.py\", line 1052, in run\n",
      "W0222 00:01:10.747000 10580 site-packages\\torch\\_dynamo\\convert_frame.py:1233]     while self.step():\n",
      "W0222 00:01:10.747000 10580 site-packages\\torch\\_dynamo\\convert_frame.py:1233]           ^^^^^^^^^^^\n",
      "W0222 00:01:10.747000 10580 site-packages\\torch\\_dynamo\\convert_frame.py:1233]   File \"c:\\Users\\risko\\miniconda3\\envs\\prompt-classification\\Lib\\site-packages\\torch\\_dynamo\\symbolic_convert.py\", line 962, in step\n",
      "W0222 00:01:10.747000 10580 site-packages\\torch\\_dynamo\\convert_frame.py:1233]     self.dispatch_table[inst.opcode](self, inst)\n",
      "W0222 00:01:10.747000 10580 site-packages\\torch\\_dynamo\\convert_frame.py:1233]   File \"c:\\Users\\risko\\miniconda3\\envs\\prompt-classification\\Lib\\site-packages\\torch\\_dynamo\\symbolic_convert.py\", line 3048, in RETURN_VALUE\n",
      "W0222 00:01:10.747000 10580 site-packages\\torch\\_dynamo\\convert_frame.py:1233]     self._return(inst)\n",
      "W0222 00:01:10.747000 10580 site-packages\\torch\\_dynamo\\convert_frame.py:1233]   File \"c:\\Users\\risko\\miniconda3\\envs\\prompt-classification\\Lib\\site-packages\\torch\\_dynamo\\symbolic_convert.py\", line 3033, in _return\n",
      "W0222 00:01:10.747000 10580 site-packages\\torch\\_dynamo\\convert_frame.py:1233]     self.output.compile_subgraph(\n",
      "W0222 00:01:10.747000 10580 site-packages\\torch\\_dynamo\\convert_frame.py:1233]   File \"c:\\Users\\risko\\miniconda3\\envs\\prompt-classification\\Lib\\site-packages\\torch\\_dynamo\\output_graph.py\", line 1101, in compile_subgraph\n",
      "W0222 00:01:10.747000 10580 site-packages\\torch\\_dynamo\\convert_frame.py:1233]     self.compile_and_call_fx_graph(\n",
      "W0222 00:01:10.747000 10580 site-packages\\torch\\_dynamo\\convert_frame.py:1233]   File \"c:\\Users\\risko\\miniconda3\\envs\\prompt-classification\\Lib\\site-packages\\torch\\_dynamo\\output_graph.py\", line 1382, in compile_and_call_fx_graph\n",
      "W0222 00:01:10.747000 10580 site-packages\\torch\\_dynamo\\convert_frame.py:1233]     compiled_fn = self.call_user_compiler(gm)\n",
      "W0222 00:01:10.747000 10580 site-packages\\torch\\_dynamo\\convert_frame.py:1233]                   ^^^^^^^^^^^^^^^^^^^^^^^^^^^\n",
      "W0222 00:01:10.747000 10580 site-packages\\torch\\_dynamo\\convert_frame.py:1233]   File \"c:\\Users\\risko\\miniconda3\\envs\\prompt-classification\\Lib\\site-packages\\torch\\_dynamo\\output_graph.py\", line 1432, in call_user_compiler\n",
      "W0222 00:01:10.747000 10580 site-packages\\torch\\_dynamo\\convert_frame.py:1233]     return self._call_user_compiler(gm)\n",
      "W0222 00:01:10.747000 10580 site-packages\\torch\\_dynamo\\convert_frame.py:1233]            ^^^^^^^^^^^^^^^^^^^^^^^^^^^^\n",
      "W0222 00:01:10.747000 10580 site-packages\\torch\\_dynamo\\convert_frame.py:1233]   File \"c:\\Users\\risko\\miniconda3\\envs\\prompt-classification\\Lib\\site-packages\\torch\\_dynamo\\output_graph.py\", line 1483, in _call_user_compiler\n",
      "W0222 00:01:10.747000 10580 site-packages\\torch\\_dynamo\\convert_frame.py:1233]     raise BackendCompilerFailed(self.compiler_fn, e).with_traceback(\n",
      "W0222 00:01:10.747000 10580 site-packages\\torch\\_dynamo\\convert_frame.py:1233]   File \"c:\\Users\\risko\\miniconda3\\envs\\prompt-classification\\Lib\\site-packages\\torch\\_dynamo\\output_graph.py\", line 1462, in _call_user_compiler\n",
      "W0222 00:01:10.747000 10580 site-packages\\torch\\_dynamo\\convert_frame.py:1233]     compiled_fn = compiler_fn(gm, self.example_inputs())\n",
      "W0222 00:01:10.747000 10580 site-packages\\torch\\_dynamo\\convert_frame.py:1233]                   ^^^^^^^^^^^^^^^^^^^^^^^^^^^^^^^^^^^^^^\n",
      "W0222 00:01:10.747000 10580 site-packages\\torch\\_dynamo\\convert_frame.py:1233]   File \"c:\\Users\\risko\\miniconda3\\envs\\prompt-classification\\Lib\\site-packages\\torch\\_dynamo\\repro\\after_dynamo.py\", line 130, in __call__\n",
      "W0222 00:01:10.747000 10580 site-packages\\torch\\_dynamo\\convert_frame.py:1233]     compiled_gm = compiler_fn(gm, example_inputs)\n",
      "W0222 00:01:10.747000 10580 site-packages\\torch\\_dynamo\\convert_frame.py:1233]                   ^^^^^^^^^^^^^^^^^^^^^^^^^^^^^^^\n",
      "W0222 00:01:10.747000 10580 site-packages\\torch\\_dynamo\\convert_frame.py:1233]   File \"c:\\Users\\risko\\miniconda3\\envs\\prompt-classification\\Lib\\site-packages\\torch\\__init__.py\", line 2340, in __call__\n",
      "W0222 00:01:10.747000 10580 site-packages\\torch\\_dynamo\\convert_frame.py:1233]     return compile_fx(model_, inputs_, config_patches=self.config)\n",
      "W0222 00:01:10.747000 10580 site-packages\\torch\\_dynamo\\convert_frame.py:1233]            ^^^^^^^^^^^^^^^^^^^^^^^^^^^^^^^^^^^^^^^^^^^^^^^^^^^^^^^\n",
      "W0222 00:01:10.747000 10580 site-packages\\torch\\_dynamo\\convert_frame.py:1233]   File \"c:\\Users\\risko\\miniconda3\\envs\\prompt-classification\\Lib\\site-packages\\torch\\_inductor\\compile_fx.py\", line 1863, in compile_fx\n",
      "W0222 00:01:10.747000 10580 site-packages\\torch\\_dynamo\\convert_frame.py:1233]     return aot_autograd(\n",
      "W0222 00:01:10.747000 10580 site-packages\\torch\\_dynamo\\convert_frame.py:1233]            ^^^^^^^^^^^^^\n",
      "W0222 00:01:10.747000 10580 site-packages\\torch\\_dynamo\\convert_frame.py:1233]   File \"c:\\Users\\risko\\miniconda3\\envs\\prompt-classification\\Lib\\site-packages\\torch\\_dynamo\\backends\\common.py\", line 83, in __call__\n",
      "W0222 00:01:10.747000 10580 site-packages\\torch\\_dynamo\\convert_frame.py:1233]     cg = aot_module_simplified(gm, example_inputs, **self.kwargs)\n",
      "W0222 00:01:10.747000 10580 site-packages\\torch\\_dynamo\\convert_frame.py:1233]          ^^^^^^^^^^^^^^^^^^^^^^^^^^^^^^^^^^^^^^^^^^^^^^^^^^^^^^^^\n",
      "W0222 00:01:10.747000 10580 site-packages\\torch\\_dynamo\\convert_frame.py:1233]   File \"c:\\Users\\risko\\miniconda3\\envs\\prompt-classification\\Lib\\site-packages\\torch\\_functorch\\aot_autograd.py\", line 1155, in aot_module_simplified\n",
      "W0222 00:01:10.747000 10580 site-packages\\torch\\_dynamo\\convert_frame.py:1233]     compiled_fn = dispatch_and_compile()\n",
      "W0222 00:01:10.747000 10580 site-packages\\torch\\_dynamo\\convert_frame.py:1233]                   ^^^^^^^^^^^^^^^^^^^^^^\n",
      "W0222 00:01:10.747000 10580 site-packages\\torch\\_dynamo\\convert_frame.py:1233]   File \"c:\\Users\\risko\\miniconda3\\envs\\prompt-classification\\Lib\\site-packages\\torch\\_functorch\\aot_autograd.py\", line 1131, in dispatch_and_compile\n",
      "W0222 00:01:10.747000 10580 site-packages\\torch\\_dynamo\\convert_frame.py:1233]     compiled_fn, _ = create_aot_dispatcher_function(\n",
      "W0222 00:01:10.747000 10580 site-packages\\torch\\_dynamo\\convert_frame.py:1233]                      ^^^^^^^^^^^^^^^^^^^^^^^^^^^^^^^\n",
      "W0222 00:01:10.747000 10580 site-packages\\torch\\_dynamo\\convert_frame.py:1233]   File \"c:\\Users\\risko\\miniconda3\\envs\\prompt-classification\\Lib\\site-packages\\torch\\_functorch\\aot_autograd.py\", line 580, in create_aot_dispatcher_function\n",
      "W0222 00:01:10.747000 10580 site-packages\\torch\\_dynamo\\convert_frame.py:1233]     return _create_aot_dispatcher_function(\n",
      "W0222 00:01:10.747000 10580 site-packages\\torch\\_dynamo\\convert_frame.py:1233]            ^^^^^^^^^^^^^^^^^^^^^^^^^^^^^^^^\n",
      "W0222 00:01:10.747000 10580 site-packages\\torch\\_dynamo\\convert_frame.py:1233]   File \"c:\\Users\\risko\\miniconda3\\envs\\prompt-classification\\Lib\\site-packages\\torch\\_functorch\\aot_autograd.py\", line 830, in _create_aot_dispatcher_function\n",
      "W0222 00:01:10.747000 10580 site-packages\\torch\\_dynamo\\convert_frame.py:1233]     compiled_fn, fw_metadata = compiler_fn(\n",
      "W0222 00:01:10.747000 10580 site-packages\\torch\\_dynamo\\convert_frame.py:1233]                                ^^^^^^^^^^^^\n",
      "W0222 00:01:10.747000 10580 site-packages\\torch\\_dynamo\\convert_frame.py:1233]   File \"c:\\Users\\risko\\miniconda3\\envs\\prompt-classification\\Lib\\site-packages\\torch\\_functorch\\_aot_autograd\\jit_compile_runtime_wrappers.py\", line 203, in aot_dispatch_base\n",
      "W0222 00:01:10.747000 10580 site-packages\\torch\\_dynamo\\convert_frame.py:1233]     compiled_fw = compiler(fw_module, updated_flat_args)\n",
      "W0222 00:01:10.747000 10580 site-packages\\torch\\_dynamo\\convert_frame.py:1233]                   ^^^^^^^^^^^^^^^^^^^^^^^^^^^^^^^^^^^^^^\n",
      "W0222 00:01:10.747000 10580 site-packages\\torch\\_dynamo\\convert_frame.py:1233]   File \"c:\\Users\\risko\\miniconda3\\envs\\prompt-classification\\Lib\\site-packages\\torch\\_functorch\\aot_autograd.py\", line 489, in __call__\n",
      "W0222 00:01:10.747000 10580 site-packages\\torch\\_dynamo\\convert_frame.py:1233]     return self.compiler_fn(gm, example_inputs)\n",
      "W0222 00:01:10.747000 10580 site-packages\\torch\\_dynamo\\convert_frame.py:1233]            ^^^^^^^^^^^^^^^^^^^^^^^^^^^^^^^^^^^^\n",
      "W0222 00:01:10.747000 10580 site-packages\\torch\\_dynamo\\convert_frame.py:1233]   File \"c:\\Users\\risko\\miniconda3\\envs\\prompt-classification\\Lib\\site-packages\\torch\\_inductor\\compile_fx.py\", line 1741, in fw_compiler_base\n",
      "W0222 00:01:10.747000 10580 site-packages\\torch\\_dynamo\\convert_frame.py:1233]     return inner_compile(\n",
      "W0222 00:01:10.747000 10580 site-packages\\torch\\_dynamo\\convert_frame.py:1233]            ^^^^^^^^^^^^^^\n",
      "W0222 00:01:10.747000 10580 site-packages\\torch\\_dynamo\\convert_frame.py:1233]   File \"c:\\Users\\risko\\miniconda3\\envs\\prompt-classification\\Lib\\site-packages\\torch\\_inductor\\compile_fx.py\", line 569, in compile_fx_inner\n",
      "W0222 00:01:10.747000 10580 site-packages\\torch\\_dynamo\\convert_frame.py:1233]     return wrap_compiler_debug(_compile_fx_inner, compiler_name=\"inductor\")(\n",
      "W0222 00:01:10.747000 10580 site-packages\\torch\\_dynamo\\convert_frame.py:1233]            ^^^^^^^^^^^^^^^^^^^^^^^^^^^^^^^^^^^^^^^^^^^^^^^^^^^^^^^^^^^^^^^^^\n",
      "W0222 00:01:10.747000 10580 site-packages\\torch\\_dynamo\\convert_frame.py:1233]   File \"c:\\Users\\risko\\miniconda3\\envs\\prompt-classification\\Lib\\site-packages\\torch\\_dynamo\\repro\\after_aot.py\", line 102, in debug_wrapper\n",
      "W0222 00:01:10.747000 10580 site-packages\\torch\\_dynamo\\convert_frame.py:1233]     inner_compiled_fn = compiler_fn(gm, example_inputs)\n",
      "W0222 00:01:10.747000 10580 site-packages\\torch\\_dynamo\\convert_frame.py:1233]                         ^^^^^^^^^^^^^^^^^^^^^^^^^^^^^^^\n",
      "W0222 00:01:10.747000 10580 site-packages\\torch\\_dynamo\\convert_frame.py:1233]   File \"c:\\Users\\risko\\miniconda3\\envs\\prompt-classification\\Lib\\site-packages\\torch\\_inductor\\compile_fx.py\", line 685, in _compile_fx_inner\n",
      "W0222 00:01:10.747000 10580 site-packages\\torch\\_dynamo\\convert_frame.py:1233]     mb_compiled_graph = fx_codegen_and_compile(\n",
      "W0222 00:01:10.747000 10580 site-packages\\torch\\_dynamo\\convert_frame.py:1233]                         ^^^^^^^^^^^^^^^^^^^^^^^\n",
      "W0222 00:01:10.747000 10580 site-packages\\torch\\_dynamo\\convert_frame.py:1233]   File \"c:\\Users\\risko\\miniconda3\\envs\\prompt-classification\\Lib\\site-packages\\torch\\_inductor\\compile_fx.py\", line 1129, in fx_codegen_and_compile\n",
      "W0222 00:01:10.747000 10580 site-packages\\torch\\_dynamo\\convert_frame.py:1233]     return scheme.codegen_and_compile(gm, example_inputs, inputs_to_check, graph_kwargs)\n",
      "W0222 00:01:10.747000 10580 site-packages\\torch\\_dynamo\\convert_frame.py:1233]            ^^^^^^^^^^^^^^^^^^^^^^^^^^^^^^^^^^^^^^^^^^^^^^^^^^^^^^^^^^^^^^^^^^^^^^^^^^^^^\n",
      "W0222 00:01:10.747000 10580 site-packages\\torch\\_dynamo\\convert_frame.py:1233]   File \"c:\\Users\\risko\\miniconda3\\envs\\prompt-classification\\Lib\\site-packages\\torch\\_inductor\\compile_fx.py\", line 1044, in codegen_and_compile\n",
      "W0222 00:01:10.747000 10580 site-packages\\torch\\_dynamo\\convert_frame.py:1233]     compiled_fn = graph.compile_to_module().call\n",
      "W0222 00:01:10.747000 10580 site-packages\\torch\\_dynamo\\convert_frame.py:1233]                   ^^^^^^^^^^^^^^^^^^^^^^^^^\n",
      "W0222 00:01:10.747000 10580 site-packages\\torch\\_dynamo\\convert_frame.py:1233]   File \"c:\\Users\\risko\\miniconda3\\envs\\prompt-classification\\Lib\\site-packages\\torch\\_inductor\\graph.py\", line 2027, in compile_to_module\n",
      "W0222 00:01:10.747000 10580 site-packages\\torch\\_dynamo\\convert_frame.py:1233]     return self._compile_to_module()\n",
      "W0222 00:01:10.747000 10580 site-packages\\torch\\_dynamo\\convert_frame.py:1233]            ^^^^^^^^^^^^^^^^^^^^^^^^^\n",
      "W0222 00:01:10.747000 10580 site-packages\\torch\\_dynamo\\convert_frame.py:1233]   File \"c:\\Users\\risko\\miniconda3\\envs\\prompt-classification\\Lib\\site-packages\\torch\\_inductor\\graph.py\", line 2033, in _compile_to_module\n",
      "W0222 00:01:10.747000 10580 site-packages\\torch\\_dynamo\\convert_frame.py:1233]     self.codegen_with_cpp_wrapper() if self.cpp_wrapper else self.codegen()\n",
      "W0222 00:01:10.747000 10580 site-packages\\torch\\_dynamo\\convert_frame.py:1233]                                                              ^^^^^^^^^^^^^^\n",
      "W0222 00:01:10.747000 10580 site-packages\\torch\\_dynamo\\convert_frame.py:1233]   File \"c:\\Users\\risko\\miniconda3\\envs\\prompt-classification\\Lib\\site-packages\\torch\\_inductor\\graph.py\", line 1964, in codegen\n",
      "W0222 00:01:10.747000 10580 site-packages\\torch\\_dynamo\\convert_frame.py:1233]     self.scheduler = Scheduler(self.operations)\n",
      "W0222 00:01:10.747000 10580 site-packages\\torch\\_dynamo\\convert_frame.py:1233]                      ^^^^^^^^^^^^^^^^^^^^^^^^^^\n",
      "W0222 00:01:10.747000 10580 site-packages\\torch\\_dynamo\\convert_frame.py:1233]   File \"c:\\Users\\risko\\miniconda3\\envs\\prompt-classification\\Lib\\site-packages\\torch\\_inductor\\scheduler.py\", line 1798, in __init__\n",
      "W0222 00:01:10.747000 10580 site-packages\\torch\\_dynamo\\convert_frame.py:1233]     self._init(nodes)\n",
      "W0222 00:01:10.747000 10580 site-packages\\torch\\_dynamo\\convert_frame.py:1233]   File \"c:\\Users\\risko\\miniconda3\\envs\\prompt-classification\\Lib\\site-packages\\torch\\_inductor\\scheduler.py\", line 1816, in _init\n",
      "W0222 00:01:10.747000 10580 site-packages\\torch\\_dynamo\\convert_frame.py:1233]     self.nodes = [self.create_scheduler_node(n) for n in nodes]\n",
      "W0222 00:01:10.747000 10580 site-packages\\torch\\_dynamo\\convert_frame.py:1233]                  ^^^^^^^^^^^^^^^^^^^^^^^^^^^^^^^^^^^^^^^^^^^^^^\n",
      "W0222 00:01:10.747000 10580 site-packages\\torch\\_dynamo\\convert_frame.py:1233]   File \"c:\\Users\\risko\\miniconda3\\envs\\prompt-classification\\Lib\\site-packages\\torch\\_inductor\\scheduler.py\", line 1816, in <listcomp>\n",
      "W0222 00:01:10.747000 10580 site-packages\\torch\\_dynamo\\convert_frame.py:1233]     self.nodes = [self.create_scheduler_node(n) for n in nodes]\n",
      "W0222 00:01:10.747000 10580 site-packages\\torch\\_dynamo\\convert_frame.py:1233]                   ^^^^^^^^^^^^^^^^^^^^^^^^^^^^^\n",
      "W0222 00:01:10.747000 10580 site-packages\\torch\\_dynamo\\convert_frame.py:1233]   File \"c:\\Users\\risko\\miniconda3\\envs\\prompt-classification\\Lib\\site-packages\\torch\\_inductor\\scheduler.py\", line 1947, in create_scheduler_node\n",
      "W0222 00:01:10.747000 10580 site-packages\\torch\\_dynamo\\convert_frame.py:1233]     return SchedulerNode(self, node)\n",
      "W0222 00:01:10.747000 10580 site-packages\\torch\\_dynamo\\convert_frame.py:1233]            ^^^^^^^^^^^^^^^^^^^^^^^^^\n",
      "W0222 00:01:10.747000 10580 site-packages\\torch\\_dynamo\\convert_frame.py:1233]   File \"c:\\Users\\risko\\miniconda3\\envs\\prompt-classification\\Lib\\site-packages\\torch\\_inductor\\scheduler.py\", line 893, in __init__\n",
      "W0222 00:01:10.747000 10580 site-packages\\torch\\_dynamo\\convert_frame.py:1233]     self._compute_attrs()\n",
      "W0222 00:01:10.747000 10580 site-packages\\torch\\_dynamo\\convert_frame.py:1233]   File \"c:\\Users\\risko\\miniconda3\\envs\\prompt-classification\\Lib\\site-packages\\torch\\_inductor\\scheduler.py\", line 907, in _compute_attrs\n",
      "W0222 00:01:10.747000 10580 site-packages\\torch\\_dynamo\\convert_frame.py:1233]     group_fn = self.scheduler.get_backend(device).group_fn\n",
      "W0222 00:01:10.747000 10580 site-packages\\torch\\_dynamo\\convert_frame.py:1233]                ^^^^^^^^^^^^^^^^^^^^^^^^^^^^^^^^^^\n",
      "W0222 00:01:10.747000 10580 site-packages\\torch\\_dynamo\\convert_frame.py:1233]   File \"c:\\Users\\risko\\miniconda3\\envs\\prompt-classification\\Lib\\site-packages\\torch\\_inductor\\scheduler.py\", line 3441, in get_backend\n",
      "W0222 00:01:10.747000 10580 site-packages\\torch\\_dynamo\\convert_frame.py:1233]     self.backends[device] = self.create_backend(device)\n",
      "W0222 00:01:10.747000 10580 site-packages\\torch\\_dynamo\\convert_frame.py:1233]                             ^^^^^^^^^^^^^^^^^^^^^^^^^^^\n",
      "W0222 00:01:10.747000 10580 site-packages\\torch\\_dynamo\\convert_frame.py:1233]   File \"c:\\Users\\risko\\miniconda3\\envs\\prompt-classification\\Lib\\site-packages\\torch\\_inductor\\scheduler.py\", line 3432, in create_backend\n",
      "W0222 00:01:10.747000 10580 site-packages\\torch\\_dynamo\\convert_frame.py:1233]     raise RuntimeError(\n",
      "W0222 00:01:10.747000 10580 site-packages\\torch\\_dynamo\\convert_frame.py:1233] torch._dynamo.exc.BackendCompilerFailed: backend='inductor' raised:\n",
      "W0222 00:01:10.747000 10580 site-packages\\torch\\_dynamo\\convert_frame.py:1233] RuntimeError: Cannot find a working triton installation. Either the package is not installed or it is too old. More information on installing Triton can be found at https://github.com/openai/triton\n",
      "W0222 00:01:10.747000 10580 site-packages\\torch\\_dynamo\\convert_frame.py:1233] \n",
      "W0222 00:01:10.747000 10580 site-packages\\torch\\_dynamo\\convert_frame.py:1233] Set TORCH_LOGS=\"+dynamo\" and TORCHDYNAMO_VERBOSE=1 for more information\n",
      "W0222 00:01:10.747000 10580 site-packages\\torch\\_dynamo\\convert_frame.py:1233] \n",
      "  9%|▉         | 9/100 [00:03<00:16,  5.66it/s]You seem to be using the pipelines sequentially on GPU. In order to maximize efficiency please use a dataset\n",
      "100%|██████████| 100/100 [00:08<00:00, 11.25it/s]\n"
     ]
    },
    {
     "ename": "ValueError",
     "evalue": "Classification metrics can't handle a mix of binary and unknown targets",
     "output_type": "error",
     "traceback": [
      "\u001b[1;31m---------------------------------------------------------------------------\u001b[0m",
      "\u001b[1;31mValueError\u001b[0m                                Traceback (most recent call last)",
      "Cell \u001b[1;32mIn[8], line 52\u001b[0m\n\u001b[0;32m     49\u001b[0m     test_predictions\u001b[38;5;241m.\u001b[39mappend(pred)\n\u001b[0;32m     50\u001b[0m     test_times\u001b[38;5;241m.\u001b[39mappend(time\u001b[38;5;241m.\u001b[39mperf_counter_ns() \u001b[38;5;241m-\u001b[39m start_time)\n\u001b[1;32m---> 52\u001b[0m test_acc \u001b[38;5;241m=\u001b[39m \u001b[43mmetrics\u001b[49m\u001b[38;5;241;43m.\u001b[39;49m\u001b[43maccuracy_score\u001b[49m\u001b[43m(\u001b[49m\u001b[43mtest_data\u001b[49m\u001b[43m[\u001b[49m\u001b[38;5;124;43m\"\u001b[39;49m\u001b[38;5;124;43mlabel\u001b[39;49m\u001b[38;5;124;43m\"\u001b[39;49m\u001b[43m]\u001b[49m\u001b[43m,\u001b[49m\u001b[43m \u001b[49m\u001b[43mtest_predictions\u001b[49m\u001b[43m)\u001b[49m\n\u001b[0;32m     53\u001b[0m mean_prediction_time \u001b[38;5;241m=\u001b[39m statistics\u001b[38;5;241m.\u001b[39mmean(test_times)\n\u001b[0;32m     55\u001b[0m \u001b[38;5;66;03m# Evaluate ModernBERT\u001b[39;00m\n",
      "File \u001b[1;32mc:\\Users\\risko\\miniconda3\\envs\\prompt-classification\\Lib\\site-packages\\sklearn\\utils\\_param_validation.py:216\u001b[0m, in \u001b[0;36mvalidate_params.<locals>.decorator.<locals>.wrapper\u001b[1;34m(*args, **kwargs)\u001b[0m\n\u001b[0;32m    210\u001b[0m \u001b[38;5;28;01mtry\u001b[39;00m:\n\u001b[0;32m    211\u001b[0m     \u001b[38;5;28;01mwith\u001b[39;00m config_context(\n\u001b[0;32m    212\u001b[0m         skip_parameter_validation\u001b[38;5;241m=\u001b[39m(\n\u001b[0;32m    213\u001b[0m             prefer_skip_nested_validation \u001b[38;5;129;01mor\u001b[39;00m global_skip_validation\n\u001b[0;32m    214\u001b[0m         )\n\u001b[0;32m    215\u001b[0m     ):\n\u001b[1;32m--> 216\u001b[0m         \u001b[38;5;28;01mreturn\u001b[39;00m \u001b[43mfunc\u001b[49m\u001b[43m(\u001b[49m\u001b[38;5;241;43m*\u001b[39;49m\u001b[43margs\u001b[49m\u001b[43m,\u001b[49m\u001b[43m \u001b[49m\u001b[38;5;241;43m*\u001b[39;49m\u001b[38;5;241;43m*\u001b[39;49m\u001b[43mkwargs\u001b[49m\u001b[43m)\u001b[49m\n\u001b[0;32m    217\u001b[0m \u001b[38;5;28;01mexcept\u001b[39;00m InvalidParameterError \u001b[38;5;28;01mas\u001b[39;00m e:\n\u001b[0;32m    218\u001b[0m     \u001b[38;5;66;03m# When the function is just a wrapper around an estimator, we allow\u001b[39;00m\n\u001b[0;32m    219\u001b[0m     \u001b[38;5;66;03m# the function to delegate validation to the estimator, but we replace\u001b[39;00m\n\u001b[0;32m    220\u001b[0m     \u001b[38;5;66;03m# the name of the estimator by the name of the function in the error\u001b[39;00m\n\u001b[0;32m    221\u001b[0m     \u001b[38;5;66;03m# message to avoid confusion.\u001b[39;00m\n\u001b[0;32m    222\u001b[0m     msg \u001b[38;5;241m=\u001b[39m re\u001b[38;5;241m.\u001b[39msub(\n\u001b[0;32m    223\u001b[0m         \u001b[38;5;124mr\u001b[39m\u001b[38;5;124m\"\u001b[39m\u001b[38;5;124mparameter of \u001b[39m\u001b[38;5;124m\\\u001b[39m\u001b[38;5;124mw+ must be\u001b[39m\u001b[38;5;124m\"\u001b[39m,\n\u001b[0;32m    224\u001b[0m         \u001b[38;5;124mf\u001b[39m\u001b[38;5;124m\"\u001b[39m\u001b[38;5;124mparameter of \u001b[39m\u001b[38;5;132;01m{\u001b[39;00mfunc\u001b[38;5;241m.\u001b[39m\u001b[38;5;18m__qualname__\u001b[39m\u001b[38;5;132;01m}\u001b[39;00m\u001b[38;5;124m must be\u001b[39m\u001b[38;5;124m\"\u001b[39m,\n\u001b[0;32m    225\u001b[0m         \u001b[38;5;28mstr\u001b[39m(e),\n\u001b[0;32m    226\u001b[0m     )\n",
      "File \u001b[1;32mc:\\Users\\risko\\miniconda3\\envs\\prompt-classification\\Lib\\site-packages\\sklearn\\metrics\\_classification.py:227\u001b[0m, in \u001b[0;36maccuracy_score\u001b[1;34m(y_true, y_pred, normalize, sample_weight)\u001b[0m\n\u001b[0;32m    225\u001b[0m \u001b[38;5;66;03m# Compute accuracy for each possible representation\u001b[39;00m\n\u001b[0;32m    226\u001b[0m y_true, y_pred \u001b[38;5;241m=\u001b[39m attach_unique(y_true, y_pred)\n\u001b[1;32m--> 227\u001b[0m y_type, y_true, y_pred \u001b[38;5;241m=\u001b[39m \u001b[43m_check_targets\u001b[49m\u001b[43m(\u001b[49m\u001b[43my_true\u001b[49m\u001b[43m,\u001b[49m\u001b[43m \u001b[49m\u001b[43my_pred\u001b[49m\u001b[43m)\u001b[49m\n\u001b[0;32m    228\u001b[0m check_consistent_length(y_true, y_pred, sample_weight)\n\u001b[0;32m    230\u001b[0m \u001b[38;5;28;01mif\u001b[39;00m y_type\u001b[38;5;241m.\u001b[39mstartswith(\u001b[38;5;124m\"\u001b[39m\u001b[38;5;124mmultilabel\u001b[39m\u001b[38;5;124m\"\u001b[39m):\n",
      "File \u001b[1;32mc:\\Users\\risko\\miniconda3\\envs\\prompt-classification\\Lib\\site-packages\\sklearn\\metrics\\_classification.py:107\u001b[0m, in \u001b[0;36m_check_targets\u001b[1;34m(y_true, y_pred)\u001b[0m\n\u001b[0;32m    104\u001b[0m     y_type \u001b[38;5;241m=\u001b[39m {\u001b[38;5;124m\"\u001b[39m\u001b[38;5;124mmulticlass\u001b[39m\u001b[38;5;124m\"\u001b[39m}\n\u001b[0;32m    106\u001b[0m \u001b[38;5;28;01mif\u001b[39;00m \u001b[38;5;28mlen\u001b[39m(y_type) \u001b[38;5;241m>\u001b[39m \u001b[38;5;241m1\u001b[39m:\n\u001b[1;32m--> 107\u001b[0m     \u001b[38;5;28;01mraise\u001b[39;00m \u001b[38;5;167;01mValueError\u001b[39;00m(\n\u001b[0;32m    108\u001b[0m         \u001b[38;5;124m\"\u001b[39m\u001b[38;5;124mClassification metrics can\u001b[39m\u001b[38;5;124m'\u001b[39m\u001b[38;5;124mt handle a mix of \u001b[39m\u001b[38;5;132;01m{0}\u001b[39;00m\u001b[38;5;124m and \u001b[39m\u001b[38;5;132;01m{1}\u001b[39;00m\u001b[38;5;124m targets\u001b[39m\u001b[38;5;124m\"\u001b[39m\u001b[38;5;241m.\u001b[39mformat(\n\u001b[0;32m    109\u001b[0m             type_true, type_pred\n\u001b[0;32m    110\u001b[0m         )\n\u001b[0;32m    111\u001b[0m     )\n\u001b[0;32m    113\u001b[0m \u001b[38;5;66;03m# We can't have more than one value on y_type => The set is no more needed\u001b[39;00m\n\u001b[0;32m    114\u001b[0m y_type \u001b[38;5;241m=\u001b[39m y_type\u001b[38;5;241m.\u001b[39mpop()\n",
      "\u001b[1;31mValueError\u001b[0m: Classification metrics can't handle a mix of binary and unknown targets"
     ]
    }
   ],
   "source": [
    "for domain, dataset in datasets_interim.items():\n",
    "    # Split data\n",
    "    train_data = dataset.sample(frac=0.00025)\n",
    "    test_data = dataset.drop(train_data.index).head(100)\n",
    "\n",
    "    # GPT Classifier\n",
    "    gpt_classifier = GPT4oMini(\n",
    "        api_key=os.getenv(\"OPENAI_API_KEY\"),\n",
    "        proxy_url=os.getenv(\"PROXY_URL\"),\n",
    "        model_name=\"gpt-4o-mini\",\n",
    "        domain=domain,\n",
    "        train_data=train_data,\n",
    "        test_data=test_data,\n",
    "    )\n",
    "\n",
    "    # DSPy optimization\n",
    "    gpt_classifier.optimize_model()\n",
    "\n",
    "    # Get predictions and metrics for test data\n",
    "    test_predictions, test_actuals, test_latency = gpt_classifier.predict()\n",
    "\n",
    "    test_predictions = [int(pred) for pred in test_predictions]\n",
    "    test_actuals = [int(actual) for actual in test_actuals]\n",
    "    test_acc = metrics.accuracy_score(test_actuals, test_predictions)\n",
    "\n",
    "    # Evaluate and save model\n",
    "    evaluate(\n",
    "        predictions=test_predictions,\n",
    "        true_labels=test_actuals,\n",
    "        domain=domain,\n",
    "        model_name=\"gpt4o-mini\",\n",
    "        embed_model=\"ada-002\",\n",
    "        cost=gpt_classifier.cost,\n",
    "        latency=test_latency,\n",
    "        train_acc=test_acc\n",
    "    )\n",
    "\n",
    "    gpt_classifier.save_model(f\"models/gpt-4o-mini-{domain}.json\")\n",
    "\n",
    "    # ModernBERT Classifier\n",
    "    bert_classifier = ModernBERTNLI(domain=domain)\n",
    "\n",
    "    # Test predictions\n",
    "    test_predictions = []\n",
    "    test_times = []\n",
    "    for _, row in tqdm(test_data.iterrows(), total=len(test_data)):\n",
    "        start_time = time.perf_counter_ns()\n",
    "        pred = bert_classifier.predict(row[\"prompt\"])\n",
    "        test_predictions.append(pred)\n",
    "        test_times.append(time.perf_counter_ns() - start_time)\n",
    "\n",
    "    test_acc = metrics.accuracy_score(test_data[\"label\"], test_predictions)\n",
    "    mean_prediction_time = statistics.mean(test_times)\n",
    "\n",
    "    # Evaluate ModernBERT\n",
    "    evaluate(\n",
    "        predictions=test_predictions,\n",
    "        true_labels=test_data[\"label\"],\n",
    "        domain=domain,\n",
    "        model_name=\"modernbert\",\n",
    "        embed_model=\"bert-base\",\n",
    "        latency=mean_prediction_time,\n",
    "        train_acc=test_acc\n",
    "    )\n"
   ]
  },
  {
   "cell_type": "markdown",
   "metadata": {},
   "source": [
    "# SVM, fastText and XGBoost loop using processed data"
   ]
  },
  {
   "cell_type": "code",
   "execution_count": null,
   "metadata": {},
   "outputs": [],
   "source": [
    "def train_and_evaluate_model(\n",
    "    model_name: str,\n",
    "    train_embeds: np.ndarray,\n",
    "    test_embeds: np.ndarray,\n",
    "    train_labels: pd.Series,\n",
    "    test_labels: pd.Series,\n",
    "    domain: str,\n",
    "    embed_model: str,\n",
    "    save_path: str,\n",
    ") -> None:\n",
    "\n",
    "    # Initialize the classifier\n",
    "    if model_name == \"SVM\":\n",
    "        classifier = SVC(probability=True)\n",
    "    elif model_name == \"XGBoost\":\n",
    "        classifier = XGBClassifier(n_jobs=-1)\n",
    "    else:\n",
    "        raise ValueError(\"Invalid model_name. Choose 'SVM' or 'XGBoost'.\")\n",
    "\n",
    "    print(f\"Training {embed_model} embeddings on {domain} domain using {model_name}\")\n",
    "\n",
    "    # Train the model\n",
    "    classifier.fit(train_embeds, train_labels)\n",
    "\n",
    "    train_predictions = classifier.predict(train_embeds)\n",
    "    train_acc = metrics.accuracy_score(train_labels, train_predictions)\n",
    "\n",
    "    predictions = []\n",
    "    prediction_times = []\n",
    "\n",
    "    # Evaluate the model on test data\n",
    "    for _, test_embed in enumerate(\n",
    "        tqdm(test_embeds, desc=f\"Evaluating {model_name} on {domain}\")\n",
    "    ):\n",
    "        start_time = time.perf_counter_ns()\n",
    "        prediction = classifier.predict(test_embed.reshape(1, -1))\n",
    "        end_time = time.perf_counter_ns()\n",
    "\n",
    "        prediction_times.append(end_time - start_time)\n",
    "        predictions.append(prediction[0])\n",
    "\n",
    "    mean_prediction_time = statistics.mean(prediction_times)\n",
    "\n",
    "    # Save the model\n",
    "    try:\n",
    "        with open(save_path, \"wb\") as file:\n",
    "            pickle.dump(classifier, file)\n",
    "    except Exception as e:\n",
    "        print(f\"Error saving model: {e}\")\n",
    "\n",
    "    # Evaluate the predictions\n",
    "    evaluate(\n",
    "        predictions,\n",
    "        test_labels,\n",
    "        domain,\n",
    "        model_name=model_name,\n",
    "        embed_model=embed_model,\n",
    "        latency=mean_prediction_time,\n",
    "        train_acc=train_acc,\n",
    "    )"
   ]
  },
  {
   "cell_type": "code",
   "execution_count": null,
   "metadata": {},
   "outputs": [],
   "source": [
    "embedding_models = {\n",
    "    \"mini\": mini_embedding,\n",
    "    \"tf_idf\": tfidf_embedding,\n",
    "    \"baai\": baai_embedding,\n",
    "}"
   ]
  },
  {
   "cell_type": "code",
   "execution_count": null,
   "metadata": {},
   "outputs": [],
   "source": [
    "print(f\"BAAI-BGE available providers: {baai_embedding.model.model.get_providers()}\")\n",
    "print(f\"MiniLM available providers: {mini_embedding.model.model.get_providers()}\")"
   ]
  },
  {
   "cell_type": "code",
   "execution_count": null,
   "metadata": {},
   "outputs": [],
   "source": [
    "for domain, dataset in datasets.items():\n",
    "    train_data = dataset.sample(frac=0.7).reset_index(drop=True)\n",
    "    test_data = dataset.drop(train_data.index).reset_index(drop=True)\n",
    "\n",
    "    actuals = []\n",
    "    predictions = []\n",
    "    prediction_times = []\n",
    "\n",
    "    # fastText\n",
    "    fasttext_classifier = FastTextClassifier(train_data=train_data, test_data=test_data)\n",
    "    fasttext_classifier.train()\n",
    "\n",
    "    train_predictions = []\n",
    "    for _, row in train_data.iterrows():\n",
    "        query = str(row[\"prompt\"]).replace(\"\\n\", \"\")\n",
    "        prediction = fasttext_classifier.model.predict(query)\n",
    "        train_predictions.append(1 if prediction[0][0] == \"__label__1\" else 0)\n",
    "\n",
    "    train_acc = metrics.accuracy_score(train_data[\"label\"], train_predictions)\n",
    "\n",
    "    for _, row in tqdm(test_data.iterrows(), total=len(test_data)):\n",
    "        text = str(row[\"prompt\"])\n",
    "        query = text.replace(\"\\n\", \"\")\n",
    "\n",
    "        start_time = time.perf_counter_ns()\n",
    "        prediction = fasttext_classifier.model.predict(query)\n",
    "        end_time = time.perf_counter_ns()\n",
    "\n",
    "        prediction_times.append(end_time - start_time)\n",
    "\n",
    "        if prediction[0][0] == \"__label__1\":\n",
    "            predictions.append(1)\n",
    "        else:\n",
    "            predictions.append(0)\n",
    "\n",
    "        actuals.append(row[\"label\"])\n",
    "\n",
    "    mean_prediction_time = statistics.mean(prediction_times)\n",
    "\n",
    "    evaluate(\n",
    "        predictions,\n",
    "        true_labels=actuals,\n",
    "        domain=domain,\n",
    "        model_name=\"fastText\",\n",
    "        embed_model=\"fastText\",\n",
    "        latency=mean_prediction_time,\n",
    "        train_acc=train_acc,\n",
    "    )\n",
    "    \n",
    "    fasttext_classifier.model.save_model(f\"models/fastText_{domain}_fasttext.bin\")\n",
    "\n",
    "    for model_name, embedding_model in embedding_models.items():\n",
    "        if model_name == \"tf_idf\":\n",
    "            embedding_model.fit(train_data[\"prompt\"])\n",
    "            with open(f\"models/tfidf_{domain}.pkl\", \"wb\") as f:\n",
    "                pickle.dump(embedding_model, f)\n",
    "            train_embeds = embedding_model.transform(train_data[\"prompt\"])\n",
    "            test_embeds = embedding_model.transform(test_data[\"prompt\"])\n",
    "\n",
    "\n",
    "        else:\n",
    "            train_embeds = np.array(list(embedding_model.embed(train_data[\"prompt\"])))\n",
    "            test_embeds = np.array(list(embedding_model.embed(test_data[\"prompt\"])))\n",
    "\n",
    "    \n",
    "        # Train and evaluate SVM model\n",
    "        train_and_evaluate_model(\n",
    "            model_name=\"SVM\",\n",
    "            train_embeds=train_embeds,\n",
    "            test_embeds=test_embeds,\n",
    "            train_labels=train_data[\"label\"],\n",
    "            test_labels=test_data[\"label\"],\n",
    "            domain=domain,\n",
    "            embed_model=model_name,\n",
    "            save_path=f\"models/SVM_{domain}_{model_name}.pkl\",\n",
    "        )\n",
    "\n",
    "        # Train and evaluate XGBoost model\n",
    "        train_and_evaluate_model(\n",
    "            model_name=\"XGBoost\",\n",
    "            train_embeds=train_embeds,\n",
    "            test_embeds=test_embeds,\n",
    "            train_labels=train_data[\"label\"],\n",
    "            test_labels=test_data[\"label\"],\n",
    "            domain=domain,\n",
    "            embed_model=model_name,\n",
    "            save_path=f\"models/XGBoost_{domain}_{model_name}.json\",\n",
    "        )"
   ]
  },
  {
   "cell_type": "code",
   "execution_count": null,
   "metadata": {},
   "outputs": [],
   "source": []
  }
 ],
 "metadata": {
  "kernelspec": {
   "display_name": "prompt-classification",
   "language": "python",
   "name": "python3"
  },
  "language_info": {
   "codemirror_mode": {
    "name": "ipython",
    "version": 3
   },
   "file_extension": ".py",
   "mimetype": "text/x-python",
   "name": "python",
   "nbconvert_exporter": "python",
   "pygments_lexer": "ipython3",
   "version": "3.11.11"
  }
 },
 "nbformat": 4,
 "nbformat_minor": 2
}
