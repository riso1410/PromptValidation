{
 "cells": [
  {
   "cell_type": "code",
   "execution_count": 1,
   "metadata": {},
   "outputs": [],
   "source": [
    "import os\n",
    "\n",
    "os.chdir(\"../\") # Change working directory to root of the project"
   ]
  },
  {
   "cell_type": "code",
   "execution_count": 2,
   "metadata": {},
   "outputs": [],
   "source": [
    "import re\n",
    "import warnings\n",
    "\n",
    "import nltk\n",
    "import pandas as pd\n",
    "from nltk.corpus import stopwords\n",
    "\n",
    "from prompt_classifier.config import DATASET_SIZE\n",
    "\n",
    "warnings.filterwarnings('ignore')"
   ]
  },
  {
   "cell_type": "code",
   "execution_count": 3,
   "metadata": {},
   "outputs": [
    {
     "name": "stderr",
     "output_type": "stream",
     "text": [
      "[nltk_data] Downloading package stopwords to\n",
      "[nltk_data]     C:\\Users\\risko\\AppData\\Roaming\\nltk_data...\n",
      "[nltk_data]   Unzipping corpora\\stopwords.zip.\n"
     ]
    },
    {
     "data": {
      "text/plain": [
       "True"
      ]
     },
     "execution_count": 3,
     "metadata": {},
     "output_type": "execute_result"
    }
   ],
   "source": [
    "nltk.download('stopwords')"
   ]
  },
  {
   "cell_type": "code",
   "execution_count": 4,
   "metadata": {},
   "outputs": [],
   "source": [
    "general_df = pd.read_csv('data/interim/general_prompts.csv')\n",
    "finance_df = pd.read_csv('data/interim/finance_prompts.csv')\n",
    "healthcare_df = pd.read_csv('data/interim/healthcare_prompts.csv')\n",
    "law_df = pd.read_csv('data/interim/law_prompts.csv')\n",
    "\n",
    "\n",
    "dataframes = {\"general_prompts\": general_df, \"finance_prompts\": finance_df,\n",
    "              \"healthcare_prompts\": healthcare_df, \"law_prompts\": law_df}"
   ]
  },
  {
   "cell_type": "code",
   "execution_count": 5,
   "metadata": {},
   "outputs": [],
   "source": [
    "def preprocess_text(text: str) -> str:\n",
    "    text = str(text).lower()\n",
    "    text = re.sub(r'[^a-zA-Z\\s]', '', text)\n",
    "\n",
    "    words = text.split()\n",
    "\n",
    "    stop_words = set(stopwords.words('english'))\n",
    "    words = [word for word in words if word not in stop_words and len(word) > 2]\n",
    "    clear_output = str(' '.join(words))\n",
    "\n",
    "    if not clear_output:\n",
    "        return None\n",
    "\n",
    "    return clear_output"
   ]
  },
  {
   "cell_type": "code",
   "execution_count": 6,
   "metadata": {},
   "outputs": [],
   "source": [
    "for key, df in dataframes.items():\n",
    "    df['prompt'] = df['prompt'].apply(preprocess_text)\n",
    "    df = df[df['prompt'].apply(lambda x: isinstance(x, str))]\n",
    "\n",
    "    df = df.head(DATASET_SIZE)\n",
    "    df.to_csv(f'data/processed/{key}.csv', index=False)"
   ]
  },
  {
   "cell_type": "code",
   "execution_count": 7,
   "metadata": {},
   "outputs": [],
   "source": [
    "general_df_cleaned = pd.read_csv('data/processed/general_prompts.csv')\n",
    "finance_df_cleaned = pd.read_csv('data/processed/finance_prompts.csv')\n",
    "healthcare_df_cleaned = pd.read_csv('data/processed/healthcare_prompts.csv')\n",
    "law_df_cleaned = pd.read_csv('data/processed/law_prompts.csv')\n",
    "\n",
    "dataframes_cleaned = {\"general_prompts\": general_df_cleaned, \"finance_prompts\": finance_df_cleaned, \"healthcare_prompts\": healthcare_df_cleaned, \"law_prompts\": law_df_cleaned}"
   ]
  },
  {
   "cell_type": "code",
   "execution_count": 8,
   "metadata": {},
   "outputs": [
    {
     "name": "stdout",
     "output_type": "stream",
     "text": [
      "15000\n",
      "15000\n",
      "15000\n",
      "15000\n"
     ]
    }
   ],
   "source": [
    "print(len(general_df_cleaned))\n",
    "print(len(finance_df_cleaned))\n",
    "print(len(healthcare_df_cleaned))\n",
    "print(len(law_df_cleaned))"
   ]
  },
  {
   "cell_type": "code",
   "execution_count": null,
   "metadata": {},
   "outputs": [],
   "source": []
  }
 ],
 "metadata": {
  "kernelspec": {
   "display_name": "bc",
   "language": "python",
   "name": "python3"
  },
  "language_info": {
   "codemirror_mode": {
    "name": "ipython",
    "version": 3
   },
   "file_extension": ".py",
   "mimetype": "text/x-python",
   "name": "python",
   "nbconvert_exporter": "python",
   "pygments_lexer": "ipython3",
   "version": "3.11.9"
  }
 },
 "nbformat": 4,
 "nbformat_minor": 2
}
