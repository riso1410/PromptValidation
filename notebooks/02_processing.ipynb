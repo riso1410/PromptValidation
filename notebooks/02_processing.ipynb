{
 "cells": [
  {
   "cell_type": "markdown",
   "metadata": {},
   "source": [
    "# Text Processing Pipeline\n",
    "\n",
    "This notebook implements the text preprocessing pipeline for cleaning and standardizing the prompt data."
   ]
  },
  {
   "cell_type": "markdown",
   "metadata": {},
   "source": [
    "## Setup\n",
    "Import required libraries and configure environment"
   ]
  },
  {
   "cell_type": "code",
   "execution_count": 1,
   "metadata": {},
   "outputs": [],
   "source": [
    "import re\n",
    "import warnings\n",
    "\n",
    "import nltk\n",
    "import pandas as pd\n",
    "from nltk.corpus import stopwords\n",
    "\n",
    "from prompt_classifier.config import DATASET_SIZE\n",
    "\n",
    "warnings.filterwarnings('ignore')"
   ]
  },
  {
   "cell_type": "code",
   "execution_count": 2,
   "metadata": {},
   "outputs": [],
   "source": [
    "nltk.download('stopwords')"
   ]
  },
  {
   "cell_type": "markdown",
   "metadata": {},
   "source": [
    "## Load Data\n",
    "Load the interim datasets for processing"
   ]
  },
  {
   "cell_type": "code",
   "execution_count": 3,
   "metadata": {},
   "outputs": [],
   "source": [
    "finance_df = pd.read_csv('data/interim/finance_prompts.csv')\n",
    "healthcare_df = pd.read_csv('data/interim/healthcare_prompts.csv')\n",
    "law_df = pd.read_csv('data/interim/law_prompts.csv')\n",
    "\n",
    "\n",
    "dataframes = {\"finance_prompts\": finance_df,\n",
    "              \"healthcare_prompts\": healthcare_df, \"law_prompts\": law_df}"
   ]
  },
  {
   "cell_type": "markdown",
   "metadata": {},
   "source": [
    "## Text Preprocessing\n",
    "Define and implement text cleaning functions"
   ]
  },
  {
   "cell_type": "code",
   "execution_count": 4,
   "metadata": {},
   "outputs": [],
   "source": [
    "def preprocess_text(text: str) -> str:\n",
    "    # Convert to lowercase\n",
    "    text = str(text).lower()\n",
    "    # Remove special characters and numbers\n",
    "    text = re.sub(r'[^a-zA-Z\\s]', '', text)\n",
    "\n",
    "    # Split into words\n",
    "    words = text.split()\n",
    "\n",
    "    # Remove stopwords and short words\n",
    "    stop_words = set(stopwords.words('english'))\n",
    "    words = [word for word in words if word not in stop_words and len(word) > 2]\n",
    "    clear_output = str(' '.join(words))\n",
    "\n",
    "    if not clear_output:\n",
    "        return None\n",
    "\n",
    "    return clear_output"
   ]
  },
  {
   "cell_type": "markdown",
   "metadata": {},
   "source": [
    "## Apply Processing\n",
    "Apply the preprocessing to all datasets"
   ]
  },
  {
   "cell_type": "code",
   "execution_count": 5,
   "metadata": {},
   "outputs": [],
   "source": [
    "for key, df in dataframes.items():\n",
    "    df['prompt'] = df['prompt'].apply(preprocess_text)\n",
    "    df = df[df['prompt'].apply(lambda x: isinstance(x, str))]\n",
    "\n",
    "    df = df.head(DATASET_SIZE)\n",
    "    df.to_csv(f'data/processed/{key}.csv', index=False)"
   ]
  },
  {
   "cell_type": "markdown",
   "metadata": {},
   "source": [
    "## Load Processed Data\n",
    "Load and verify the processed datasets"
   ]
  },
  {
   "cell_type": "code",
   "execution_count": 6,
   "metadata": {},
   "outputs": [],
   "source": [
    "finance_df_cleaned = pd.read_csv('data/processed/finance_prompts.csv')\n",
    "healthcare_df_cleaned = pd.read_csv('data/processed/healthcare_prompts.csv')\n",
    "law_df_cleaned = pd.read_csv('data/processed/law_prompts.csv')\n",
    "\n",
    "dataframes_cleaned = {\"finance_prompts\": finance_df_cleaned, \"healthcare_prompts\": healthcare_df_cleaned, \"law_prompts\": law_df_cleaned}"
   ]
  }
 ],
 "metadata": {
  "kernelspec": {
   "display_name": "prompt-validation",
   "language": "python",
   "name": "python3"
  },
  "language_info": {
   "name": "python",
   "version": "3.11.11"
  }
 },
 "nbformat": 4,
 "nbformat_minor": 2
}
