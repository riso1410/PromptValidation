{
 "cells": [
  {
   "cell_type": "code",
   "execution_count": 1,
   "metadata": {},
   "outputs": [],
   "source": [
    "import os\n",
    "\n",
    "os.chdir(\"../\")"
   ]
  },
  {
   "cell_type": "code",
   "execution_count": 2,
   "metadata": {},
   "outputs": [],
   "source": [
    "from prompt_classifier.datasets import load_datasets"
   ]
  },
  {
   "cell_type": "code",
   "execution_count": 3,
   "metadata": {},
   "outputs": [],
   "source": [
    "law_df, finance_df, healthcare_df, general_df = load_datasets()"
   ]
  },
  {
   "cell_type": "code",
   "execution_count": 4,
   "metadata": {},
   "outputs": [],
   "source": [
    "def extract_user_content(messages: list) -> str:\n",
    "    user_content = [msg[\"content\"] for msg in messages if msg[\"role\"] == \"user\"]\n",
    "    return ' '.join(user_content)"
   ]
  },
  {
   "cell_type": "code",
   "execution_count": 5,
   "metadata": {},
   "outputs": [],
   "source": [
    "finance_df['prompt'] = finance_df['instruction']\n",
    "os.makedirs('data/interim', exist_ok=True)\n",
    "os.makedirs('data/processed', exist_ok=True)"
   ]
  },
  {
   "cell_type": "code",
   "execution_count": 6,
   "metadata": {},
   "outputs": [
    {
     "name": "stderr",
     "output_type": "stream",
     "text": [
      "C:\\Users\\risko\\AppData\\Local\\Temp\\ipykernel_6924\\340821238.py:3: UserWarning: Boolean Series key will be reindexed to match DataFrame index.\n",
      "  finance_df = finance_df[general_df['prompt'] != '']\n"
     ]
    }
   ],
   "source": [
    "finance_df = finance_df.dropna(subset=['prompt'])\n",
    "finance_df = finance_df.replace('\\n', '', regex=True)\n",
    "finance_df = finance_df[general_df['prompt'] != '']\n",
    "finance_df['label'] = 1\n",
    "finance_df[['prompt', 'label']].to_csv('data/interim/finance_prompts.csv', index=False)"
   ]
  },
  {
   "cell_type": "code",
   "execution_count": 7,
   "metadata": {},
   "outputs": [],
   "source": [
    "general_df = general_df.dropna(subset=['prompt'])\n",
    "general_df = general_df.replace('\\n', '', regex=True)\n",
    "general_df = general_df[general_df['prompt'] != '']\n",
    "general_df['label'] = 0\n",
    "general_df[['prompt', 'label']].to_csv('data/interim/general_prompts.csv', index=False)"
   ]
  },
  {
   "cell_type": "code",
   "execution_count": 8,
   "metadata": {},
   "outputs": [],
   "source": [
    "healthcare_df['prompt'] = healthcare_df['input']\n",
    "healthcare_df = healthcare_df.dropna(subset=['prompt'])\n",
    "healthcare_df = healthcare_df.replace('\\n', '', regex=True)\n",
    "healthcare_df = healthcare_df[healthcare_df['prompt'] != '']\n",
    "healthcare_df['label'] = 1\n",
    "healthcare_df[['prompt', 'label']].to_csv('data/interim/healthcare_prompts.csv', index=False)"
   ]
  },
  {
   "cell_type": "code",
   "execution_count": 9,
   "metadata": {},
   "outputs": [],
   "source": [
    "law_df['label'] = 1\n",
    "law_df = law_df.dropna(subset=['prompt'])\n",
    "law_df = law_df.replace('\\n', '', regex=True)\n",
    "law_df = law_df[law_df['prompt'] != '']\n",
    "law_df['label'] = 1\n",
    "law_df[['prompt', 'label']].to_csv('data/interim/law_prompts.csv', index=False)"
   ]
  }
 ],
 "metadata": {
  "kernelspec": {
   "display_name": "bc",
   "language": "python",
   "name": "python3"
  },
  "language_info": {
   "codemirror_mode": {
    "name": "ipython",
    "version": 3
   },
   "file_extension": ".py",
   "mimetype": "text/x-python",
   "name": "python",
   "nbconvert_exporter": "python",
   "pygments_lexer": "ipython3",
   "version": "3.11.9"
  }
 },
 "nbformat": 4,
 "nbformat_minor": 2
}
