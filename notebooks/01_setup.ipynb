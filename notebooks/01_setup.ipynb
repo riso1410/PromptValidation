{
 "cells": [
  {
   "cell_type": "code",
   "execution_count": null,
   "metadata": {},
   "outputs": [
    {
     "name": "stderr",
     "output_type": "stream",
     "text": [
      "c:\\Users\\riso\\miniconda3\\envs\\prompt-validation\\Lib\\site-packages\\tqdm\\auto.py:21: TqdmWarning: IProgress not found. Please update jupyter and ipywidgets. See https://ipywidgets.readthedocs.io/en/stable/user_install.html\n",
      "  from .autonotebook import tqdm as notebook_tqdm\n"
     ]
    }
   ],
   "source": [
    "import os\n",
    "\n",
    "from prompt_classifier.modeling.datasets_config import load_datasets\n"
   ]
  },
  {
   "cell_type": "code",
   "execution_count": 2,
   "metadata": {},
   "outputs": [
    {
     "name": "stderr",
     "output_type": "stream",
     "text": [
      "Generating train split: 100%|██████████| 53937/53937 [00:00<00:00, 69212.58 examples/s]\n"
     ]
    }
   ],
   "source": [
    "law_df, finance_df, healthcare_df = load_datasets()"
   ]
  },
  {
   "cell_type": "code",
   "execution_count": 3,
   "metadata": {},
   "outputs": [],
   "source": [
    "def extract_user_content(messages: list) -> str:\n",
    "    user_content = [msg[\"content\"] for msg in messages if msg[\"role\"] == \"user\"]\n",
    "    return ' '.join(user_content)"
   ]
  },
  {
   "cell_type": "code",
   "execution_count": 4,
   "metadata": {},
   "outputs": [],
   "source": [
    "finance_df['prompt'] = finance_df['instruction']\n",
    "os.makedirs('data/interim', exist_ok=True)\n",
    "os.makedirs('data/processed', exist_ok=True)"
   ]
  },
  {
   "cell_type": "code",
   "execution_count": 5,
   "metadata": {},
   "outputs": [],
   "source": [
    "finance_df = finance_df.dropna(subset=['prompt'])\n",
    "finance_df = finance_df.replace('\\n', '', regex=True)\n",
    "finance_df = finance_df[finance_df['prompt'] != '']\n",
    "finance_df['label'] = 1\n",
    "finance_df[['prompt', 'label']].to_csv('data/interim/finance_prompts.csv', index=False)"
   ]
  },
  {
   "cell_type": "code",
   "execution_count": 6,
   "metadata": {},
   "outputs": [],
   "source": [
    "healthcare_df['prompt'] = healthcare_df['input']\n",
    "healthcare_df = healthcare_df.dropna(subset=['prompt'])\n",
    "healthcare_df = healthcare_df.replace('\\n', '', regex=True)\n",
    "healthcare_df = healthcare_df[healthcare_df['prompt'] != '']\n",
    "healthcare_df['label'] = 1\n",
    "healthcare_df[['prompt', 'label']].to_csv('data/interim/healthcare_prompts.csv', index=False)"
   ]
  },
  {
   "cell_type": "code",
   "execution_count": 7,
   "metadata": {},
   "outputs": [],
   "source": [
    "law_df['label'] = 1\n",
    "law_df = law_df.dropna(subset=['prompt'])\n",
    "law_df = law_df.replace('\\n', '', regex=True)\n",
    "law_df = law_df[law_df['prompt'] != '']\n",
    "law_df['label'] = 1\n",
    "law_df[['prompt', 'label']].to_csv('data/interim/law_prompts.csv', index=False)"
   ]
  },
  {
   "cell_type": "code",
   "execution_count": null,
   "metadata": {},
   "outputs": [],
   "source": []
  }
 ],
 "metadata": {
  "kernelspec": {
   "display_name": "prompt-validation",
   "language": "python",
   "name": "python3"
  },
  "language_info": {
   "codemirror_mode": {
    "name": "ipython",
    "version": 3
   },
   "file_extension": ".py",
   "mimetype": "text/x-python",
   "name": "python",
   "nbconvert_exporter": "python",
   "pygments_lexer": "ipython3",
   "version": "3.11.11"
  }
 },
 "nbformat": 4,
 "nbformat_minor": 2
}
