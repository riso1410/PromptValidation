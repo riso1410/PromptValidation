{
 "cells": [
  {
   "cell_type": "markdown",
   "metadata": {},
   "source": [
    "# MLP \n",
    "- author: Tibor Sloboda"
   ]
  },
  {
   "cell_type": "code",
   "execution_count": null,
   "metadata": {},
   "outputs": [],
   "source": [
    "from functools import partial\n",
    "\n",
    "import matplotlib.pyplot as plt\n",
    "import numpy as np\n",
    "import pandas as pd\n",
    "import seaborn as sns\n",
    "import torch\n",
    "import torch.nn.functional as F\n",
    "import torch.nn.utils.prune as prune\n",
    "from accelerate.data_loader import DataLoader\n",
    "from datasets import ClassLabel, Dataset, load_dataset\n",
    "from sklearn.metrics import confusion_matrix\n",
    "from torch import nn as nn\n",
    "from torch.optim import Adam, AdamW\n",
    "from torch.optim.lr_scheduler import CosineAnnealingLR\n",
    "from tqdm import tqdm\n",
    "from transformers import AutoModel, AutoTokenizer\n"
   ]
  },
  {
   "cell_type": "code",
   "execution_count": 2,
   "metadata": {},
   "outputs": [
    {
     "data": {
      "text/plain": [
       "1"
      ]
     },
     "execution_count": 2,
     "metadata": {},
     "output_type": "execute_result"
    }
   ],
   "source": [
    "torch.cuda.device_count()"
   ]
  },
  {
   "cell_type": "code",
   "execution_count": null,
   "metadata": {},
   "outputs": [],
   "source": [
    "if (\n",
    "    torch.cuda.get_device_capability(0)[0] >= 8\n",
    "):  # A100 is Ampere architecture (compute capability 8.0+)\n",
    "    # Enable sparse tensor cores\n",
    "    torch.backends.cuda.matmul.allow_tf32 = (\n",
    "        True  # This enables TF32 which works with the sparse cores\n",
    "    )\n",
    "    # For specific sparse operations\n",
    "    torch.set_float32_matmul_precision(\"high\")"
   ]
  },
  {
   "cell_type": "code",
   "execution_count": null,
   "metadata": {},
   "outputs": [],
   "source": [
    "class CustomSwiGLU(nn.Module):\n",
    "    def __init__(self, in_features: int):\n",
    "        super().__init__()\n",
    "\n",
    "        assert in_features % 2 == 0, \"in_features must be even\"\n",
    "\n",
    "        self.in_features = in_features\n",
    "        self.linear1 = nn.Linear(in_features // 2, in_features // 2)\n",
    "        self.linear2 = nn.Linear(in_features // 2, in_features // 2)\n",
    "\n",
    "    def forward(self, x: torch.Tensor) -> torch.Tensor:\n",
    "        x1, x2 = x.chunk(2, dim=-1)\n",
    "        x1 = self.linear1(x1)\n",
    "        x2 = self.linear2(x2)\n",
    "        return F.silu(x1) * x2"
   ]
  },
  {
   "cell_type": "code",
   "execution_count": 5,
   "metadata": {},
   "outputs": [],
   "source": [
    "class DyT(nn.Module):\n",
    "    def __init__(self, hidden_size: int, init_alpha: float = 0.5):\n",
    "        super().__init__()\n",
    "        self.alpha = nn.Parameter(torch.ones(1) * init_alpha)\n",
    "        self.gamma = nn.Parameter(torch.ones(hidden_size))\n",
    "        self.beta = nn.Parameter(torch.zeros(hidden_size))\n",
    "\n",
    "    def forward(self, x: torch.Tensor) -> torch.Tensor:\n",
    "        return self.gamma * torch.tanh(self.alpha * x) + self.beta"
   ]
  },
  {
   "cell_type": "code",
   "execution_count": null,
   "metadata": {},
   "outputs": [],
   "source": [
    "class Head(nn.Module):\n",
    "    def __init__(self, hidden_size: int, num_classes: int):\n",
    "        super().__init__()\n",
    "        self.seq = nn.Sequential(\n",
    "            nn.Linear(hidden_size, 256),\n",
    "            nn.Tanh(),\n",
    "            DyT(256),\n",
    "            CustomSwiGLU(256),\n",
    "            DyT(128),\n",
    "            CustomSwiGLU(128),\n",
    "            nn.AlphaDropout(0.15),\n",
    "            DyT(64),\n",
    "            CustomSwiGLU(64),\n",
    "            nn.AlphaDropout(0.05),\n",
    "            DyT(32),\n",
    "            CustomSwiGLU(32),\n",
    "            DyT(16),\n",
    "            nn.Linear(16, num_classes),\n",
    "        )\n",
    "\n",
    "    @property\n",
    "    def device(self):\n",
    "        return next(self.parameters()).device\n",
    "\n",
    "    def forward(self, x: torch.Tensor) -> torch.Tensor:\n",
    "        return self.seq(x)"
   ]
  },
  {
   "cell_type": "code",
   "execution_count": null,
   "metadata": {},
   "outputs": [],
   "source": [
    "def train_frozen():\n",
    "    model.eval()\n",
    "    for param in model.parameters():\n",
    "        param.requires_grad = False\n",
    "\n",
    "    head.train()\n",
    "    for param in head.parameters():\n",
    "        param.requires_grad = True\n",
    "\n",
    "    last_test_loss = float(\"inf\")\n",
    "    patience_counter = 0\n",
    "\n",
    "    while True:\n",
    "        for batch in tqdm(train_dataloader):\n",
    "            optim_frozen.zero_grad()\n",
    "            input_msg = batch[\"messages\"]\n",
    "            input = tokenizer_func(input_msg).to(model.device)\n",
    "            target = batch[\"label\"].to(model.device)\n",
    "\n",
    "            with torch.no_grad():\n",
    "                out = model.forward(**input)\n",
    "                out = mean_pooling(out, input[\"attention_mask\"])\n",
    "                out = F.normalize(out, p=2, dim=1)\n",
    "\n",
    "            out = head(out)\n",
    "            loss = criterion(out, target)\n",
    "\n",
    "            loss.backward()\n",
    "            optim_frozen.step()\n",
    "\n",
    "        with torch.inference_mode():\n",
    "            losses = []\n",
    "            for batch in test_dataloader:\n",
    "                input_msg = batch[\"messages\"]\n",
    "                input = tokenizer_func(input_msg).to(model.device)\n",
    "                target = batch[\"label\"].to(model.device)\n",
    "                out = model.forward(**input)\n",
    "                out = mean_pooling(out, input[\"attention_mask\"])\n",
    "                out = F.normalize(out, p=2, dim=1)\n",
    "                out = head(out)\n",
    "                loss = criterion(out, target)\n",
    "                losses.append(loss.item())\n",
    "            test_loss = sum(losses) / len(losses)\n",
    "            print(f\"Test loss: {test_loss}\")\n",
    "            if test_loss < last_test_loss:\n",
    "                last_test_loss = test_loss\n",
    "                patience_counter = 0\n",
    "            else:\n",
    "                patience_counter += 1\n",
    "\n",
    "        if patience_counter >= EARLY_STOP_PATIENCE:\n",
    "            break"
   ]
  },
  {
   "cell_type": "code",
   "execution_count": null,
   "metadata": {},
   "outputs": [],
   "source": [
    "def evaluate_accuracy():\n",
    "    model.eval()\n",
    "\n",
    "    correct = 0\n",
    "    total = 0\n",
    "\n",
    "    with torch.inference_mode():\n",
    "        for batch in tqdm(test_dataloader, desc=\"Evaluating\"):\n",
    "            input_msg = batch[\"messages\"]\n",
    "            input = tokenizer_func(input_msg).to(model.device)\n",
    "            target = batch[\"label\"].to(model.device)\n",
    "\n",
    "            out = model.forward(**input)\n",
    "            out = mean_pooling(out, input[\"attention_mask\"])\n",
    "            out = F.normalize(out, p=2, dim=1)\n",
    "\n",
    "            logits = head(out)\n",
    "\n",
    "            _, predicted = torch.max(logits, 1)\n",
    "\n",
    "            total += target.size(0)\n",
    "            correct += (predicted == target).sum().item()\n",
    "\n",
    "    accuracy = 100 * correct / total\n",
    "    print(f\"Test Accuracy: {accuracy:.2f}%\")\n",
    "\n",
    "    class_correct = [0, 0, 0]\n",
    "    class_total = [0, 0, 0]\n",
    "\n",
    "    with torch.inference_mode():\n",
    "        for batch in tqdm(test_dataloader, desc=\"Class accuracy\"):\n",
    "            input_msg = batch[\"messages\"]\n",
    "            input = tokenizer_func(input_msg).to(model.device)\n",
    "            target = batch[\"label\"].to(model.device)\n",
    "\n",
    "            out = model.forward(**input)\n",
    "            out = mean_pooling(out, input[\"attention_mask\"])\n",
    "            out = F.normalize(out, p=2, dim=1)\n",
    "            logits = head(out)\n",
    "\n",
    "            _, predicted = torch.max(logits, 1)\n",
    "\n",
    "            # Calculate per-class accuracy\n",
    "            for i in range(target.size(0)):\n",
    "                label = target[i].item()\n",
    "                class_total[label] += 1\n",
    "                if predicted[i] == target[i]:\n",
    "                    class_correct[label] += 1\n",
    "\n",
    "    for i in range(3):\n",
    "        class_name = combined_dataset[\"test\"].features[\"label\"].names[i]\n",
    "        class_acc = 100 * class_correct[i] / class_total[i]\n",
    "        print(f\"Accuracy of {class_name}: {class_acc:.2f}%\")\n",
    "\n",
    "    return accuracy"
   ]
  },
  {
   "cell_type": "code",
   "execution_count": null,
   "metadata": {},
   "outputs": [],
   "source": [
    "def plot_confusion_matrix():\n",
    "    all_predictions = []\n",
    "    all_targets = []\n",
    "\n",
    "    with torch.inference_mode():\n",
    "        for batch in tqdm(test_dataloader, desc=\"Collecting predictions\"):\n",
    "            input_msg = batch[\"messages\"]\n",
    "            input = tokenizer_func(input_msg).to(model.device)\n",
    "            target = batch[\"label\"].to(model.device)\n",
    "\n",
    "            out = model.forward(**input)\n",
    "            out = mean_pooling(out, input[\"attention_mask\"])\n",
    "            out = F.normalize(out, p=2, dim=1)\n",
    "            logits = head(out)\n",
    "\n",
    "            _, predicted = torch.max(logits, 1)\n",
    "\n",
    "            all_predictions.extend(predicted.cpu().numpy())\n",
    "            all_targets.extend(target.cpu().numpy())\n",
    "\n",
    "    cm = confusion_matrix(all_targets, all_predictions)\n",
    "\n",
    "    plt.figure(figsize=(10, 8))\n",
    "    sns.heatmap(\n",
    "        cm,\n",
    "        annot=True,\n",
    "        fmt=\"d\",\n",
    "        cmap=\"Blues\",\n",
    "        xticklabels=combined_dataset[\"test\"].features[\"label\"].names,\n",
    "        yticklabels=combined_dataset[\"test\"].features[\"label\"].names,\n",
    "    )\n",
    "    plt.xlabel(\"Predicted\")\n",
    "    plt.ylabel(\"True\")\n",
    "    plt.title(\"Confusion Matrix\")\n",
    "    plt.show()"
   ]
  },
  {
   "cell_type": "code",
   "execution_count": null,
   "metadata": {},
   "outputs": [],
   "source": [
    "def train_unfrozen(previous_head_optim=None):\n",
    "    base_optim = Adam(model.parameters(), lr=UNFROZEN_TRAIN_LR_WARMUP)\n",
    "\n",
    "    if previous_head_optim is not None:\n",
    "        head_optim = AdamW(head.parameters(), lr=FREEZE_TRAIN_LR, weight_decay=0.01)\n",
    "        head_optim.load_state_dict(previous_head_optim.state_dict())\n",
    "    else:\n",
    "        head_optim = AdamW(head.parameters(), lr=FREEZE_TRAIN_LR, weight_decay=0.01)\n",
    "\n",
    "    total_steps = len(train_dataloader) * 5  # Assuming 5 epochs as a cycle\n",
    "    scheduler = CosineAnnealingLR(\n",
    "        base_optim, T_max=total_steps, eta_min=UNFROZEN_TRAIN_LR_WARMUP\n",
    "    )\n",
    "\n",
    "    model.train()\n",
    "    head.train()\n",
    "\n",
    "    for param in model.parameters():\n",
    "        param.requires_grad = True\n",
    "    for param in head.parameters():\n",
    "        param.requires_grad = True\n",
    "\n",
    "    last_test_loss = float(\"inf\")\n",
    "    patience_counter = 0\n",
    "    step_counter = 0\n",
    "\n",
    "    while True:\n",
    "        for batch in tqdm(train_dataloader, desc=\"Training unfrozen\"):\n",
    "            base_optim.zero_grad()\n",
    "            head_optim.zero_grad()\n",
    "\n",
    "            input_msg = batch[\"messages\"]\n",
    "            input = tokenizer_func(input_msg).to(model.device)\n",
    "            target = batch[\"label\"].to(model.device)\n",
    "\n",
    "            with torch.autocast(device_type=\"cuda\", dtype=torch.bfloat16):\n",
    "                out = model.forward(**input)\n",
    "                out = mean_pooling(out, input[\"attention_mask\"])\n",
    "                out = F.normalize(out, p=2, dim=1)\n",
    "\n",
    "                logits = head(out)\n",
    "                loss = criterion(logits, target)\n",
    "\n",
    "            scaler.scale(loss).backward()\n",
    "            scaler.step(base_optim)\n",
    "            scaler.step(head_optim)\n",
    "            scaler.update()\n",
    "\n",
    "            step_counter += 1\n",
    "            if step_counter == WARMUP_STEPS:\n",
    "                print(f\"Increasing learning rate after {WARMUP_STEPS} steps\")\n",
    "                for param_group in base_optim.param_groups:\n",
    "                    param_group[\"lr\"] = UNFROZEN_TRAIN_LR\n",
    "            scheduler.step()\n",
    "\n",
    "        with torch.inference_mode():\n",
    "            losses = []\n",
    "            for batch in tqdm(test_dataloader, desc=\"Evaluating\"):\n",
    "                input_msg = batch[\"messages\"]\n",
    "                input = tokenizer_func(input_msg).to(model.device)\n",
    "                target = batch[\"label\"].to(model.device)\n",
    "\n",
    "                out = model.forward(**input)\n",
    "                out = mean_pooling(out, input[\"attention_mask\"])\n",
    "                out = F.normalize(out, p=2, dim=1)\n",
    "                logits = head(out)\n",
    "\n",
    "                loss = criterion(logits, target)\n",
    "                losses.append(loss.item())\n",
    "\n",
    "            test_loss = sum(losses) / len(losses)\n",
    "            print(f\"Test loss: {test_loss:.6f}\")\n",
    "\n",
    "            if test_loss < last_test_loss:\n",
    "                last_test_loss = test_loss\n",
    "                patience_counter = 0\n",
    "            else:\n",
    "                patience_counter += 1\n",
    "\n",
    "            if patience_counter >= EARLY_STOP_PATIENCE:\n",
    "                print(\n",
    "                    f\"Early stopping triggered after {patience_counter} epochs without improvement\"\n",
    "                )\n",
    "                break\n",
    "\n",
    "    return model"
   ]
  },
  {
   "cell_type": "code",
   "execution_count": null,
   "metadata": {},
   "outputs": [],
   "source": [
    "def full_training_pipeline():\n",
    "    train_frozen()\n",
    "\n",
    "    # Evaluate after first phase\n",
    "    evaluate_accuracy()\n",
    "\n",
    "    # save head\n",
    "    save_model(head, \"head.pt\")\n",
    "\n",
    "    train_unfrozen(previous_head_optim=optim_frozen)\n",
    "\n",
    "    # Final evaluation\n",
    "    evaluate_accuracy()\n",
    "\n",
    "    return model"
   ]
  },
  {
   "cell_type": "code",
   "execution_count": null,
   "metadata": {},
   "outputs": [],
   "source": [
    "def mean_pooling(\n",
    "    model_output: torch.Tensor, attention_mask: torch.Tensor\n",
    ") -> torch.Tensor:\n",
    "    token_embeddings = model_output[\n",
    "        0\n",
    "    ]  # First element of model_output contains all token embeddings\n",
    "    input_mask_expanded = (\n",
    "        attention_mask.unsqueeze(-1).expand(token_embeddings.size()).float()\n",
    "    )\n",
    "    return torch.sum(token_embeddings * input_mask_expanded, 1) / torch.clamp(\n",
    "        input_mask_expanded.sum(1), min=1e-9\n",
    "    )"
   ]
  },
  {
   "cell_type": "code",
   "execution_count": 13,
   "metadata": {},
   "outputs": [],
   "source": [
    "def save_model(model: nn.Module, path: str) -> None:\n",
    "    # Save only the head's state dictionary\n",
    "    torch.save(model.state_dict(), path)\n",
    "    print(f\"Model head saved to {path}\")"
   ]
  },
  {
   "cell_type": "code",
   "execution_count": 14,
   "metadata": {},
   "outputs": [],
   "source": [
    "BATCH_SIZE = 64\n",
    "EARLY_STOP_PATIENCE = 5\n",
    "FREEZE_TRAIN_LR = 1e-4\n",
    "UNFROZEN_TRAIN_LR_WARMUP = 1e-6\n",
    "UNFROZEN_TRAIN_LR = 1e-5\n",
    "WARMUP_STEPS = 512"
   ]
  },
  {
   "cell_type": "code",
   "execution_count": null,
   "metadata": {},
   "outputs": [
    {
     "data": {
      "application/vnd.jupyter.widget-view+json": {
       "model_id": "81ee7fd2887d4807b30a567118e1e500",
       "version_major": 2,
       "version_minor": 0
      },
      "text/plain": [
       "Casting the dataset:   0%|          | 0/83143 [00:00<?, ? examples/s]"
      ]
     },
     "metadata": {},
     "output_type": "display_data"
    }
   ],
   "source": [
    "finance = load_dataset(\"Marina-C/question-answer-Subject-Finance-Instruct\")\n",
    "health = load_dataset(\"iecjsu/lavita-ChatDoctor-HealthCareMagic-100k\")\n",
    "law = load_dataset(\"dim/law_stackexchange_prompts\")\n",
    "\n",
    "finance_df = pd.DataFrame(\n",
    "    {\"messages\": [row[1][\"content\"] for row in finance[\"train\"][\"messages\"]]}\n",
    ")\n",
    "\n",
    "health_df = pd.DataFrame({\"messages\": health[\"train\"][\"input\"]})\n",
    "\n",
    "law_df = pd.DataFrame({\"messages\": law[\"train\"][\"prompt\"]})\n",
    "\n",
    "# Add labels\n",
    "finance_df[\"label\"] = 0\n",
    "health_df[\"label\"] = 1\n",
    "law_df[\"label\"] = 2\n",
    "\n",
    "combined_df = pd.concat([finance_df, health_df, law_df], ignore_index=True)\n",
    "combined_dataset = Dataset.from_pandas(combined_df)\n",
    "combined_dataset = combined_dataset.cast_column(\n",
    "    \"label\", ClassLabel(num_classes=3, names=[\"finance\", \"health\", \"law\"])\n",
    ")\n",
    "combined_dataset = combined_dataset.train_test_split(\n",
    "    test_size=0.15, stratify_by_column=\"label\"\n",
    ")"
   ]
  },
  {
   "cell_type": "code",
   "execution_count": null,
   "metadata": {},
   "outputs": [
    {
     "name": "stdout",
     "output_type": "stream",
     "text": [
      "Class weights:\n",
      "Class 0 (finance): 0.7143\n",
      "Class 1 (health): 1.3858\n",
      "Class 2 (law): 1.1385\n"
     ]
    }
   ],
   "source": [
    "# Calculate class weights to handle class imbalance\n",
    "labels = combined_dataset[\"train\"][\"label\"]\n",
    "unique, counts = np.unique(labels, return_counts=True)\n",
    "total_samples = len(labels)\n",
    "\n",
    "# Compute weights inversely proportional to class frequencies\n",
    "class_weights = total_samples / (len(unique) * counts)\n",
    "class_weights = torch.tensor(class_weights, dtype=torch.float)\n",
    "\n",
    "print(f\"Class weights:\")\n",
    "print(f\"Class 0 (finance): {class_weights[0]:.4f}\")\n",
    "print(f\"Class 1 (health): {class_weights[1]:.4f}\")\n",
    "print(f\"Class 2 (law): {class_weights[2]:.4f}\")\n"
   ]
  },
  {
   "cell_type": "code",
   "execution_count": null,
   "metadata": {},
   "outputs": [],
   "source": [
    "train_dataset = combined_dataset[\"train\"]\n",
    "test_dataset = combined_dataset[\"test\"]\n",
    "train_dataloader = DataLoader(\n",
    "    train_dataset, batch_size=BATCH_SIZE, shuffle=True, num_workers=1, pin_memory=True\n",
    ")\n",
    "test_dataloader = DataLoader(test_dataset, batch_size=BATCH_SIZE, shuffle=False)"
   ]
  },
  {
   "cell_type": "code",
   "execution_count": null,
   "metadata": {},
   "outputs": [],
   "source": [
    "tokenizer = AutoTokenizer.from_pretrained(\"sentence-transformers/all-MiniLM-L12-v2\")\n",
    "tokenizer_func = partial(\n",
    "    tokenizer, padding=True, truncation=True, return_tensors=\"pt\", max_length=512\n",
    ")"
   ]
  },
  {
   "cell_type": "code",
   "execution_count": null,
   "metadata": {},
   "outputs": [],
   "source": [
    "model = (\n",
    "    AutoModel.from_pretrained(\"sentence-transformers/all-MiniLM-L12-v2\").train().cuda(0)\n",
    ")\n",
    "head = Head(384, 3).train().to(model.device)"
   ]
  },
  {
   "cell_type": "code",
   "execution_count": 29,
   "metadata": {},
   "outputs": [
    {
     "name": "stderr",
     "output_type": "stream",
     "text": [
      "C:\\Users\\ixenr\\AppData\\Local\\Temp\\ipykernel_54992\\1762986478.py:1: FutureWarning: You are using `torch.load` with `weights_only=False` (the current default value), which uses the default pickle module implicitly. It is possible to construct malicious pickle data which will execute arbitrary code during unpickling (See https://github.com/pytorch/pytorch/blob/main/SECURITY.md#untrusted-models for more details). In a future release, the default value for `weights_only` will be flipped to `True`. This limits the functions that could be executed during unpickling. Arbitrary objects will no longer be allowed to be loaded via this mode unless they are explicitly allowlisted by the user via `torch.serialization.add_safe_globals`. We recommend you start setting `weights_only=True` for any use case where you don't have full control of the loaded file. Please open an issue on GitHub for any issues related to this experimental feature.\n",
      "  model.model = torch.load(\"model.pt\")\n",
      "C:\\Users\\ixenr\\AppData\\Local\\Temp\\ipykernel_54992\\1762986478.py:2: FutureWarning: You are using `torch.load` with `weights_only=False` (the current default value), which uses the default pickle module implicitly. It is possible to construct malicious pickle data which will execute arbitrary code during unpickling (See https://github.com/pytorch/pytorch/blob/main/SECURITY.md#untrusted-models for more details). In a future release, the default value for `weights_only` will be flipped to `True`. This limits the functions that could be executed during unpickling. Arbitrary objects will no longer be allowed to be loaded via this mode unless they are explicitly allowlisted by the user via `torch.serialization.add_safe_globals`. We recommend you start setting `weights_only=True` for any use case where you don't have full control of the loaded file. Please open an issue on GitHub for any issues related to this experimental feature.\n",
      "  head = torch.load(\"head.pt\")\n"
     ]
    }
   ],
   "source": [
    "model.model = torch.load(\"model.pt\")\n",
    "head = torch.load(\"head.pt\")"
   ]
  },
  {
   "cell_type": "code",
   "execution_count": 21,
   "metadata": {},
   "outputs": [],
   "source": [
    "optim_frozen = AdamW(head.parameters(), lr=FREEZE_TRAIN_LR, weight_decay=0.01)\n",
    "criterion = nn.CrossEntropyLoss(weight=class_weights.to(model.device))\n",
    "scaler = torch.GradScaler()\n",
    "head_scaler = torch.GradScaler()"
   ]
  },
  {
   "cell_type": "code",
   "execution_count": null,
   "metadata": {},
   "outputs": [],
   "source": [
    "train_frozen()"
   ]
  },
  {
   "cell_type": "code",
   "execution_count": null,
   "metadata": {},
   "outputs": [],
   "source": [
    "full_training_pipeline()"
   ]
  },
  {
   "cell_type": "code",
   "execution_count": 24,
   "metadata": {},
   "outputs": [
    {
     "name": "stdout",
     "output_type": "stream",
     "text": [
      "Model head saved to head.pt\n"
     ]
    }
   ],
   "source": [
    "save_model(head, \"head.pt\")"
   ]
  },
  {
   "cell_type": "code",
   "execution_count": 25,
   "metadata": {},
   "outputs": [
    {
     "name": "stderr",
     "output_type": "stream",
     "text": [
      "Training unfrozen:  46%|████▋     | 513/1105 [01:15<01:13,  8.11it/s]"
     ]
    },
    {
     "name": "stdout",
     "output_type": "stream",
     "text": [
      "Increasing learning rate after 512 steps\n"
     ]
    },
    {
     "name": "stderr",
     "output_type": "stream",
     "text": [
      "Training unfrozen: 100%|██████████| 1105/1105 [02:29<00:00,  7.38it/s]\n",
      "Evaluating: 100%|██████████| 195/195 [00:14<00:00, 13.63it/s]\n"
     ]
    },
    {
     "name": "stdout",
     "output_type": "stream",
     "text": [
      "Test loss: 0.007532\n"
     ]
    },
    {
     "name": "stderr",
     "output_type": "stream",
     "text": [
      "Training unfrozen: 100%|██████████| 1105/1105 [02:24<00:00,  7.67it/s]\n",
      "Evaluating: 100%|██████████| 195/195 [00:14<00:00, 13.63it/s]\n"
     ]
    },
    {
     "name": "stdout",
     "output_type": "stream",
     "text": [
      "Test loss: 0.005576\n"
     ]
    },
    {
     "name": "stderr",
     "output_type": "stream",
     "text": [
      "Training unfrozen: 100%|██████████| 1105/1105 [02:24<00:00,  7.63it/s]\n",
      "Evaluating: 100%|██████████| 195/195 [00:14<00:00, 13.69it/s]\n"
     ]
    },
    {
     "name": "stdout",
     "output_type": "stream",
     "text": [
      "Test loss: 0.004299\n"
     ]
    },
    {
     "name": "stderr",
     "output_type": "stream",
     "text": [
      "Training unfrozen: 100%|██████████| 1105/1105 [02:24<00:00,  7.62it/s]\n",
      "Evaluating: 100%|██████████| 195/195 [00:14<00:00, 13.71it/s]\n"
     ]
    },
    {
     "name": "stdout",
     "output_type": "stream",
     "text": [
      "Test loss: 0.003625\n"
     ]
    },
    {
     "name": "stderr",
     "output_type": "stream",
     "text": [
      "Training unfrozen: 100%|██████████| 1105/1105 [02:22<00:00,  7.74it/s]\n",
      "Evaluating: 100%|██████████| 195/195 [00:14<00:00, 13.79it/s]\n"
     ]
    },
    {
     "name": "stdout",
     "output_type": "stream",
     "text": [
      "Test loss: 0.004443\n"
     ]
    },
    {
     "name": "stderr",
     "output_type": "stream",
     "text": [
      "Training unfrozen: 100%|██████████| 1105/1105 [02:39<00:00,  6.93it/s]\n",
      "Evaluating: 100%|██████████| 195/195 [00:17<00:00, 11.47it/s]\n"
     ]
    },
    {
     "name": "stdout",
     "output_type": "stream",
     "text": [
      "Test loss: 0.003602\n"
     ]
    },
    {
     "name": "stderr",
     "output_type": "stream",
     "text": [
      "Training unfrozen: 100%|██████████| 1105/1105 [02:33<00:00,  7.21it/s]\n",
      "Evaluating: 100%|██████████| 195/195 [00:13<00:00, 14.21it/s]\n"
     ]
    },
    {
     "name": "stdout",
     "output_type": "stream",
     "text": [
      "Test loss: 0.004004\n"
     ]
    },
    {
     "name": "stderr",
     "output_type": "stream",
     "text": [
      "Training unfrozen: 100%|██████████| 1105/1105 [02:16<00:00,  8.10it/s]\n",
      "Evaluating: 100%|██████████| 195/195 [00:13<00:00, 14.24it/s]\n"
     ]
    },
    {
     "name": "stdout",
     "output_type": "stream",
     "text": [
      "Test loss: 0.003859\n"
     ]
    },
    {
     "name": "stderr",
     "output_type": "stream",
     "text": [
      "Training unfrozen: 100%|██████████| 1105/1105 [02:40<00:00,  6.87it/s]\n",
      "Evaluating: 100%|██████████| 195/195 [00:16<00:00, 11.50it/s]\n"
     ]
    },
    {
     "name": "stdout",
     "output_type": "stream",
     "text": [
      "Test loss: 0.005903\n"
     ]
    },
    {
     "name": "stderr",
     "output_type": "stream",
     "text": [
      "Training unfrozen: 100%|██████████| 1105/1105 [02:46<00:00,  6.64it/s]\n",
      "Evaluating: 100%|██████████| 195/195 [00:17<00:00, 11.36it/s]\n"
     ]
    },
    {
     "name": "stdout",
     "output_type": "stream",
     "text": [
      "Test loss: 0.004746\n"
     ]
    },
    {
     "name": "stderr",
     "output_type": "stream",
     "text": [
      "Training unfrozen: 100%|██████████| 1105/1105 [02:44<00:00,  6.73it/s]\n",
      "Evaluating: 100%|██████████| 195/195 [00:16<00:00, 11.66it/s]"
     ]
    },
    {
     "name": "stdout",
     "output_type": "stream",
     "text": [
      "Test loss: 0.004725\n",
      "Early stopping triggered after 5 epochs without improvement\n"
     ]
    },
    {
     "name": "stderr",
     "output_type": "stream",
     "text": [
      "\n"
     ]
    },
    {
     "data": {
      "text/plain": [
       "BertModel(\n",
       "  (embeddings): BertEmbeddings(\n",
       "    (word_embeddings): Embedding(30522, 384, padding_idx=0)\n",
       "    (position_embeddings): Embedding(512, 384)\n",
       "    (token_type_embeddings): Embedding(2, 384)\n",
       "    (LayerNorm): LayerNorm((384,), eps=1e-12, elementwise_affine=True)\n",
       "    (dropout): Dropout(p=0.1, inplace=False)\n",
       "  )\n",
       "  (encoder): BertEncoder(\n",
       "    (layer): ModuleList(\n",
       "      (0-11): 12 x BertLayer(\n",
       "        (attention): BertAttention(\n",
       "          (self): BertSdpaSelfAttention(\n",
       "            (query): Linear(in_features=384, out_features=384, bias=True)\n",
       "            (key): Linear(in_features=384, out_features=384, bias=True)\n",
       "            (value): Linear(in_features=384, out_features=384, bias=True)\n",
       "            (dropout): Dropout(p=0.1, inplace=False)\n",
       "          )\n",
       "          (output): BertSelfOutput(\n",
       "            (dense): Linear(in_features=384, out_features=384, bias=True)\n",
       "            (LayerNorm): LayerNorm((384,), eps=1e-12, elementwise_affine=True)\n",
       "            (dropout): Dropout(p=0.1, inplace=False)\n",
       "          )\n",
       "        )\n",
       "        (intermediate): BertIntermediate(\n",
       "          (dense): Linear(in_features=384, out_features=1536, bias=True)\n",
       "          (intermediate_act_fn): GELUActivation()\n",
       "        )\n",
       "        (output): BertOutput(\n",
       "          (dense): Linear(in_features=1536, out_features=384, bias=True)\n",
       "          (LayerNorm): LayerNorm((384,), eps=1e-12, elementwise_affine=True)\n",
       "          (dropout): Dropout(p=0.1, inplace=False)\n",
       "        )\n",
       "      )\n",
       "    )\n",
       "  )\n",
       "  (pooler): BertPooler(\n",
       "    (dense): Linear(in_features=384, out_features=384, bias=True)\n",
       "    (activation): Tanh()\n",
       "  )\n",
       ")"
      ]
     },
     "execution_count": 25,
     "metadata": {},
     "output_type": "execute_result"
    }
   ],
   "source": [
    "train_unfrozen(previous_head_optim=optim_frozen)"
   ]
  },
  {
   "cell_type": "code",
   "execution_count": 26,
   "metadata": {},
   "outputs": [
    {
     "name": "stderr",
     "output_type": "stream",
     "text": [
      "Evaluating: 100%|██████████| 195/195 [00:13<00:00, 14.50it/s]\n"
     ]
    },
    {
     "name": "stdout",
     "output_type": "stream",
     "text": [
      "Test Accuracy: 99.95%\n"
     ]
    },
    {
     "name": "stderr",
     "output_type": "stream",
     "text": [
      "Class accuracy: 100%|██████████| 195/195 [00:14<00:00, 13.88it/s]"
     ]
    },
    {
     "name": "stdout",
     "output_type": "stream",
     "text": [
      "Accuracy of finance: 99.97%\n",
      "Accuracy of health: 99.97%\n",
      "Accuracy of law: 99.92%\n"
     ]
    },
    {
     "name": "stderr",
     "output_type": "stream",
     "text": [
      "\n"
     ]
    },
    {
     "data": {
      "text/plain": [
       "99.95189223861449"
      ]
     },
     "execution_count": 26,
     "metadata": {},
     "output_type": "execute_result"
    }
   ],
   "source": [
    "evaluate_accuracy()"
   ]
  },
  {
   "cell_type": "code",
   "execution_count": 27,
   "metadata": {},
   "outputs": [
    {
     "name": "stderr",
     "output_type": "stream",
     "text": [
      "Collecting predictions: 100%|██████████| 195/195 [00:13<00:00, 14.70it/s]\n"
     ]
    },
    {
     "data": {
      "image/png": "[encoded data removed]",
      "text/plain": [
       "<Figure size 1000x800 with 2 Axes>"
      ]
     },
     "metadata": {},
     "output_type": "display_data"
    }
   ],
   "source": [
    "plot_confusion_matrix()"
   ]
  },
  {
   "cell_type": "code",
   "execution_count": 28,
   "metadata": {},
   "outputs": [
    {
     "name": "stdout",
     "output_type": "stream",
     "text": [
      "Model head saved to head.pt\n"
     ]
    }
   ],
   "source": [
    "save_model(head, \"head.pt\")"
   ]
  },
  {
   "cell_type": "code",
   "execution_count": 29,
   "metadata": {},
   "outputs": [
    {
     "name": "stdout",
     "output_type": "stream",
     "text": [
      "Model head saved to model.pt\n"
     ]
    }
   ],
   "source": [
    "save_model(model, \"model.pt\")"
   ]
  },
  {
   "cell_type": "code",
   "execution_count": null,
   "metadata": {},
   "outputs": [
    {
     "name": "stderr",
     "output_type": "stream",
     "text": [
      "C:\\Users\\ixenr\\AppData\\Local\\Temp\\ipykernel_54092\\3457885924.py:3: FutureWarning: You are using `torch.load` with `weights_only=False` (the current default value), which uses the default pickle module implicitly. It is possible to construct malicious pickle data which will execute arbitrary code during unpickling (See https://github.com/pytorch/pytorch/blob/main/SECURITY.md#untrusted-models for more details). In a future release, the default value for `weights_only` will be flipped to `True`. This limits the functions that could be executed during unpickling. Arbitrary objects will no longer be allowed to be loaded via this mode unless they are explicitly allowlisted by the user via `torch.serialization.add_safe_globals`. We recommend you start setting `weights_only=True` for any use case where you don't have full control of the loaded file. Please open an issue on GitHub for any issues related to this experimental feature.\n",
      "  model.load_state_dict(torch.load(\"model.pt\"))\n",
      "C:\\Users\\ixenr\\AppData\\Local\\Temp\\ipykernel_54092\\3457885924.py:4: FutureWarning: You are using `torch.load` with `weights_only=False` (the current default value), which uses the default pickle module implicitly. It is possible to construct malicious pickle data which will execute arbitrary code during unpickling (See https://github.com/pytorch/pytorch/blob/main/SECURITY.md#untrusted-models for more details). In a future release, the default value for `weights_only` will be flipped to `True`. This limits the functions that could be executed during unpickling. Arbitrary objects will no longer be allowed to be loaded via this mode unless they are explicitly allowlisted by the user via `torch.serialization.add_safe_globals`. We recommend you start setting `weights_only=True` for any use case where you don't have full control of the loaded file. Please open an issue on GitHub for any issues related to this experimental feature.\n",
      "  head.load_state_dict(torch.load(\"head.pt\"))\n"
     ]
    },
    {
     "data": {
      "text/plain": [
       "<All keys matched successfully>"
      ]
     },
     "execution_count": 20,
     "metadata": {},
     "output_type": "execute_result"
    }
   ],
   "source": [
    "model = (\n",
    "    AutoModel.from_pretrained(\"sentence-transformers/all-MiniLM-L12-v2\").train().cuda(0)\n",
    ")\n",
    "head = Head(384, 3).train().to(model.device)\n",
    "model.load_state_dict(torch.load(\"model.pt\"))\n",
    "head.load_state_dict(torch.load(\"head.pt\"))"
   ]
  },
  {
   "cell_type": "code",
   "execution_count": null,
   "metadata": {},
   "outputs": [
    {
     "data": {
      "text/plain": [
       "CustomModel(\n",
       "  (model): BertModel(\n",
       "    (embeddings): BertEmbeddings(\n",
       "      (word_embeddings): Embedding(30522, 384, padding_idx=0)\n",
       "      (position_embeddings): Embedding(512, 384)\n",
       "      (token_type_embeddings): Embedding(2, 384)\n",
       "      (LayerNorm): LayerNorm((384,), eps=1e-12, elementwise_affine=True)\n",
       "      (dropout): Dropout(p=0.1, inplace=False)\n",
       "    )\n",
       "    (encoder): BertEncoder(\n",
       "      (layer): ModuleList(\n",
       "        (0-11): 12 x BertLayer(\n",
       "          (attention): BertAttention(\n",
       "            (self): BertSdpaSelfAttention(\n",
       "              (query): Linear(in_features=384, out_features=384, bias=True)\n",
       "              (key): Linear(in_features=384, out_features=384, bias=True)\n",
       "              (value): Linear(in_features=384, out_features=384, bias=True)\n",
       "              (dropout): Dropout(p=0.1, inplace=False)\n",
       "            )\n",
       "            (output): BertSelfOutput(\n",
       "              (dense): Linear(in_features=384, out_features=384, bias=True)\n",
       "              (LayerNorm): LayerNorm((384,), eps=1e-12, elementwise_affine=True)\n",
       "              (dropout): Dropout(p=0.1, inplace=False)\n",
       "            )\n",
       "          )\n",
       "          (intermediate): BertIntermediate(\n",
       "            (dense): Linear(in_features=384, out_features=1536, bias=True)\n",
       "            (intermediate_act_fn): GELUActivation()\n",
       "          )\n",
       "          (output): BertOutput(\n",
       "            (dense): Linear(in_features=1536, out_features=384, bias=True)\n",
       "            (LayerNorm): LayerNorm((384,), eps=1e-12, elementwise_affine=True)\n",
       "            (dropout): Dropout(p=0.1, inplace=False)\n",
       "          )\n",
       "        )\n",
       "      )\n",
       "    )\n",
       "    (pooler): BertPooler(\n",
       "      (dense): Linear(in_features=384, out_features=384, bias=True)\n",
       "      (activation): Tanh()\n",
       "    )\n",
       "  )\n",
       "  (head): Head(\n",
       "    (seq): Sequential(\n",
       "      (0): Linear(in_features=384, out_features=256, bias=True)\n",
       "      (1): Tanh()\n",
       "      (2): DyT()\n",
       "      (3): CustomSwiGLU(\n",
       "        (linear1): Linear(in_features=128, out_features=128, bias=True)\n",
       "        (linear2): Linear(in_features=128, out_features=128, bias=True)\n",
       "      )\n",
       "      (4): DyT()\n",
       "      (5): CustomSwiGLU(\n",
       "        (linear1): Linear(in_features=64, out_features=64, bias=True)\n",
       "        (linear2): Linear(in_features=64, out_features=64, bias=True)\n",
       "      )\n",
       "      (6): AlphaDropout(p=0.15, inplace=False)\n",
       "      (7): DyT()\n",
       "      (8): CustomSwiGLU(\n",
       "        (linear1): Linear(in_features=32, out_features=32, bias=True)\n",
       "        (linear2): Linear(in_features=32, out_features=32, bias=True)\n",
       "      )\n",
       "      (9): AlphaDropout(p=0.05, inplace=False)\n",
       "      (10): DyT()\n",
       "      (11): CustomSwiGLU(\n",
       "        (linear1): Linear(in_features=16, out_features=16, bias=True)\n",
       "        (linear2): Linear(in_features=16, out_features=16, bias=True)\n",
       "      )\n",
       "      (12): DyT()\n",
       "      (13): Linear(in_features=16, out_features=3, bias=True)\n",
       "    )\n",
       "  )\n",
       ")"
      ]
     },
     "execution_count": 21,
     "metadata": {},
     "output_type": "execute_result"
    }
   ],
   "source": [
    "class CustomModel(nn.Module):\n",
    "    def __init__(self, model, head):\n",
    "        super().__init__()\n",
    "        self.model = model\n",
    "        self.head = head\n",
    "\n",
    "    def forward(self, input):\n",
    "        out = self.model.forward(**input)\n",
    "        out = mean_pooling(out, input[\"attention_mask\"])\n",
    "        out = F.normalize(out, p=2, dim=1)\n",
    "        return self.head(out)\n",
    "\n",
    "\n",
    "custom_model = CustomModel(model, head)\n",
    "custom_model.eval()"
   ]
  },
  {
   "cell_type": "code",
   "execution_count": 22,
   "metadata": {},
   "outputs": [],
   "source": [
    "import torch.onnx"
   ]
  },
  {
   "cell_type": "code",
   "execution_count": null,
   "metadata": {},
   "outputs": [],
   "source": [
    "def export_model_to_onnx(model, save_path, input_shape=(1, 512), device=\"cuda\"):\n",
    "    model.eval()  # Set model to evaluation mode\n",
    "\n",
    "    # Create dummy input for tracing\n",
    "    input_ids = torch.ones(input_shape, dtype=torch.long).to(device)\n",
    "    attention_mask = torch.ones(input_shape, dtype=torch.long).to(device)\n",
    "\n",
    "    sample_input = {\"input_ids\": input_ids, \"attention_mask\": attention_mask}\n",
    "\n",
    "    # Package inputs into a dictionary like the model expects\n",
    "    dummy_input = {\"input\": sample_input}\n",
    "\n",
    "    # Export the model with optimization options\n",
    "    torch.onnx.export(\n",
    "        model,  # model being run\n",
    "        dummy_input,  # model input (or a tuple for multiple inputs)\n",
    "        save_path,  # where to save the model\n",
    "        export_params=True,  # store the trained parameter weights inside the model file\n",
    "        opset_version=16,  # the ONNX version to export the model to\n",
    "        do_constant_folding=True,  # whether to execute constant folding for optimization\n",
    "        input_names=[\"input_ids\", \"attention_mask\"],  # the model's input names\n",
    "        output_names=[\"output\"],  # the model's output names\n",
    "        dynamic_axes={\n",
    "            \"input_ids\": {\n",
    "                0: \"batch_size\",\n",
    "                1: \"sequence_length\",\n",
    "            },  # variable length axes\n",
    "            \"attention_mask\": {0: \"batch_size\", 1: \"sequence_length\"},\n",
    "            \"output\": {0: \"batch_size\"},\n",
    "        },\n",
    "        keep_initializers_as_inputs=False,  # optimization for model size\n",
    "        verbose=False,\n",
    "    )\n",
    "    print(f\"Model exported to ONNX format at {save_path}\")\n",
    "\n",
    "\n",
    "def optimize_onnx_model(\n",
    "    onnx_model_path, optimized_model_path=None, quantize=True, quantization_type=\"int8\"\n",
    "):\n",
    "    import onnx\n",
    "    from onnxruntime.transformers import optimizer\n",
    "    from onnxruntime.transformers.fusion_options import FusionOptions\n",
    "    from onnxruntime.quantization import quantize_dynamic, QuantType\n",
    "    import onnx\n",
    "\n",
    "    if optimized_model_path is None:\n",
    "        optimized_model_path = onnx_model_path\n",
    "\n",
    "    # Load the model\n",
    "    model = onnx.load(onnx_model_path)\n",
    "\n",
    "    # Skip BERT optimizer if the model was already optimized\n",
    "    if \"onnxruntime.transformers\" not in model.producer_name:\n",
    "        # Set up optimization options\n",
    "        opt_options = FusionOptions(\"bert\")\n",
    "        opt_options.enable_embed_layer_norm = True\n",
    "        opt_options.enable_attention = True\n",
    "        opt_options.enable_skip_layer_norm = True\n",
    "        opt_options.enable_gelu = True\n",
    "\n",
    "        # Create the optimizer\n",
    "        model_optimizer = optimizer.optimize_model(\n",
    "            onnx_model_path,\n",
    "            \"bert\",\n",
    "            num_heads=12,  # Use detected value for MiniLM\n",
    "            hidden_size=384,  # Adjust based on your model architecture\n",
    "            optimization_options=opt_options,\n",
    "        )\n",
    "\n",
    "        # Save optimized model\n",
    "        optimized_path = optimized_model_path.replace(\".onnx\", \"_optimized.onnx\")\n",
    "        model_optimizer.save_model_to_file(optimized_path)\n",
    "        print(f\"Optimized model saved to {optimized_path}\")\n",
    "    else:\n",
    "        # If already optimized, just use the original path\n",
    "        optimized_path = onnx_model_path\n",
    "        print(f\"Model already optimized, skipping optimization\")\n",
    "\n",
    "    # Quantize if requested\n",
    "    if quantize:\n",
    "        try:\n",
    "            if quantization_type == \"int8\":\n",
    "                quant_type = QuantType.QInt8\n",
    "            else:\n",
    "                quant_type = QuantType.QFloat16\n",
    "\n",
    "            quantized_path = optimized_path.replace(\n",
    "                \".onnx\", f\"_{quantization_type}.onnx\"\n",
    "            )\n",
    "\n",
    "            # Add DefaultTensorType to address the error\n",
    "            extra_options = {\"DefaultTensorType\": onnx.TensorProto.FLOAT}\n",
    "\n",
    "            quantize_dynamic(\n",
    "                optimized_path,\n",
    "                quantized_path,\n",
    "                weight_type=quant_type,\n",
    "                extra_options=extra_options,\n",
    "            )\n",
    "            print(f\"Quantized model ({quantization_type}) saved to {quantized_path}\")\n",
    "            return quantized_path\n",
    "        except Exception as e:\n",
    "            print(f\"Quantization failed with error: {e}\")\n",
    "            print(\"Returning optimized but non-quantized model\")\n",
    "            return optimized_path\n",
    "\n",
    "    return optimized_path\n",
    "\n",
    "\n",
    "def test_onnx_inference_performance(onnx_model_path, test_batch, num_runs=100):\n",
    "    import onnxruntime as ort\n",
    "    import time\n",
    "    import numpy as np\n",
    "\n",
    "    # Configure session options for best performance\n",
    "    sess_options = ort.SessionOptions()\n",
    "    sess_options.graph_optimization_level = ort.GraphOptimizationLevel.ORT_ENABLE_ALL\n",
    "    sess_options.intra_op_num_threads = 0  # 0 means use all available threads\n",
    "    sess_options.execution_mode = ort.ExecutionMode.ORT_SEQUENTIAL\n",
    "\n",
    "    # Provide all providers in priority order - let ONNXRuntime decide\n",
    "    providers = [\n",
    "        \"CUDAExecutionProvider\",\n",
    "        \"TensorrtExecutionProvider\",\n",
    "        \"DmlExecutionProvider\",\n",
    "        \"OpenVINOExecutionProvider\",\n",
    "        \"ROCMExecutionProvider\",\n",
    "        \"CoreMLExecutionProvider\",\n",
    "        \"CPUExecutionProvider\",\n",
    "    ]\n",
    "\n",
    "    try:\n",
    "        session = ort.InferenceSession(\n",
    "            onnx_model_path,\n",
    "            sess_options=sess_options,\n",
    "            providers=providers,  # Let ONNX runtime choose available providers\n",
    "        )\n",
    "        print(f\"Using providers: {session.get_providers()}\")\n",
    "    except Exception as e:\n",
    "        print(f\"Failed to use custom providers. Error: {e}\")\n",
    "        print(\"Falling back to default providers\")\n",
    "        session = ort.InferenceSession(onnx_model_path)\n",
    "        print(f\"Using providers: {session.get_providers()}\")\n",
    "\n",
    "    # Prepare input\n",
    "    input_msg = test_batch[\"messages\"][:1]  # Just use first item for speed test\n",
    "    inputs = tokenizer_func(input_msg)\n",
    "\n",
    "    # Convert to numpy arrays for ONNX Runtime\n",
    "    ort_inputs = {\n",
    "        \"input_ids\": inputs[\"input_ids\"].cpu().numpy(),\n",
    "        \"attention_mask\": inputs[\"attention_mask\"].cpu().numpy(),\n",
    "    }\n",
    "\n",
    "    # Warm-up runs\n",
    "    for _ in range(10):\n",
    "        session.run([\"output\"], ort_inputs)\n",
    "\n",
    "    # Benchmark runs\n",
    "    start_time = time.time()\n",
    "    for _ in range(num_runs):\n",
    "        output = session.run([\"output\"], ort_inputs)\n",
    "    end_time = time.time()\n",
    "\n",
    "    avg_time = (end_time - start_time) / num_runs * 1000  # ms\n",
    "\n",
    "    print(f\"Average inference time: {avg_time:.2f} ms per sample\")\n",
    "    print(f\"Throughput: {1000/avg_time:.2f} samples/second\")\n",
    "\n",
    "    return avg_time\n",
    "\n",
    "\n",
    "def create_optimized_model_pipeline(\n",
    "    model, base_filename=\"text_classifier\", quantize=True\n",
    "):\n",
    "    model_paths = {}\n",
    "\n",
    "    # Step 1: Export original model\n",
    "    orig_path = f\"{base_filename}.onnx\"\n",
    "    export_model_to_onnx(model, orig_path)\n",
    "    model_paths[\"original\"] = orig_path\n",
    "\n",
    "    # Step 2: Optimize model\n",
    "    optimized_path = optimize_onnx_model(\n",
    "        orig_path, optimized_model_path=None, quantize=False\n",
    "    )\n",
    "    model_paths[\"optimized\"] = optimized_path\n",
    "\n",
    "    # Step 3: Create quantized versions\n",
    "    if quantize:\n",
    "        # INT8 quantization\n",
    "        int8_path = optimize_onnx_model(\n",
    "            optimized_path,\n",
    "            optimized_model_path=None,\n",
    "            quantize=True,\n",
    "            quantization_type=\"int8\",\n",
    "        )\n",
    "        model_paths[\"int8\"] = int8_path\n",
    "\n",
    "        # FP16 quantization\n",
    "        fp16_path = optimize_onnx_model(\n",
    "            optimized_path,\n",
    "            optimized_model_path=None,\n",
    "            quantize=True,\n",
    "            quantization_type=\"fp16\",\n",
    "        )\n",
    "        model_paths[\"fp16\"] = fp16_path\n",
    "\n",
    "    return model_paths\n",
    "\n",
    "\n",
    "def benchmark_all_models(model_paths, test_data):\n",
    "    results = {}\n",
    "\n",
    "    for model_type, path in model_paths.items():\n",
    "        print(f\"\\n===== Benchmarking {model_type} model =====\")\n",
    "        try:\n",
    "            latency = test_onnx_inference_performance(path, test_data)\n",
    "            results[model_type] = latency\n",
    "        except Exception as e:\n",
    "            print(f\"Error benchmarking {model_type} model: {e}\")\n",
    "            results[model_type] = None\n",
    "\n",
    "    # Print comparison\n",
    "    print(\"\\n===== Performance Comparison =====\")\n",
    "    for model_type, latency in results.items():\n",
    "        if latency is not None:\n",
    "            print(f\"{model_type.capitalize()} model: {latency:.2f} ms per sample\")\n",
    "\n",
    "    return results"
   ]
  },
  {
   "cell_type": "code",
   "execution_count": 26,
   "metadata": {},
   "outputs": [
    {
     "name": "stdout",
     "output_type": "stream",
     "text": [
      "Model exported to ONNX format at text_classifier.onnx\n",
      "Optimized model saved to text_classifier_optimized.onnx\n",
      "Model already optimized, skipping optimization\n"
     ]
    },
    {
     "name": "stderr",
     "output_type": "stream",
     "text": [
      "WARNING:root:Please consider to run pre-processing before quantization. Refer to example: https://github.com/microsoft/onnxruntime-inference-examples/blob/main/quantization/image_classification/cpu/ReadMe.md \n"
     ]
    },
    {
     "name": "stdout",
     "output_type": "stream",
     "text": [
      "Quantized model (int8) saved to text_classifier_optimized_int8.onnx\n",
      "Model already optimized, skipping optimization\n",
      "Quantization failed with error: QFloat16\n",
      "Returning optimized but non-quantized model\n"
     ]
    }
   ],
   "source": [
    "model_paths = create_optimized_model_pipeline(custom_model)"
   ]
  },
  {
   "cell_type": "code",
   "execution_count": 36,
   "metadata": {},
   "outputs": [
    {
     "name": "stdout",
     "output_type": "stream",
     "text": [
      "Model exported to ONNX format at text_classifier.onnx\n"
     ]
    }
   ],
   "source": [
    "export_model_to_onnx(custom_model, \"text_classifier.onnx\")"
   ]
  },
  {
   "cell_type": "code",
   "execution_count": 19,
   "metadata": {},
   "outputs": [],
   "source": [
    "test_sample = next(iter(test_dataloader))"
   ]
  },
  {
   "cell_type": "code",
   "execution_count": null,
   "metadata": {},
   "outputs": [],
   "source": [
    "import onnxruntime as ort\n",
    "\n",
    "\n",
    "def test_onnx_model(onnx_path, test_data):\n",
    "    \"\"\"Test an exported ONNX model with sample data.\"\"\"\n",
    "    # Create an ONNX Runtime session\n",
    "    session = ort.InferenceSession(onnx_path)\n",
    "\n",
    "    # Prepare input data (assuming test_data is a batch from your test_dataloader)\n",
    "    input_msg = test_data[\"messages\"]\n",
    "    inputs = tokenizer_func(input_msg)\n",
    "\n",
    "    # Run inference\n",
    "    onnx_inputs = {\n",
    "        \"input_ids\": inputs[\"input_ids\"].numpy(),\n",
    "        \"attention_mask\": inputs[\"attention_mask\"].numpy(),\n",
    "    }\n",
    "\n",
    "    onnx_outputs = session.run(None, onnx_inputs)\n",
    "\n",
    "    # Process outputs\n",
    "    predicted_labels = onnx_outputs[0].argmax(axis=1)\n",
    "\n",
    "    print(f\"ONNX model predictions: {predicted_labels}\")\n",
    "    return predicted_labels"
   ]
  },
  {
   "cell_type": "code",
   "execution_count": 21,
   "metadata": {},
   "outputs": [
    {
     "name": "stdout",
     "output_type": "stream",
     "text": [
      "ONNX model predictions: [1 2 0 0 0 2 0 2 2 2 2 0 1 0 0 1 1 0 2 0 1 0 2 0 1 1 2 0 0 2 1 2 0 0 2 1 2\n",
      " 0 1 2 1 1 1 1 2 1 0 0 2 0 0 2 0 2 0 0 0 2 0 1 0 0 0 2]\n"
     ]
    },
    {
     "data": {
      "text/plain": [
       "array([1, 2, 0, 0, 0, 2, 0, 2, 2, 2, 2, 0, 1, 0, 0, 1, 1, 0, 2, 0, 1, 0,\n",
       "       2, 0, 1, 1, 2, 0, 0, 2, 1, 2, 0, 0, 2, 1, 2, 0, 1, 2, 1, 1, 1, 1,\n",
       "       2, 1, 0, 0, 2, 0, 0, 2, 0, 2, 0, 0, 0, 2, 0, 1, 0, 0, 0, 2])"
      ]
     },
     "execution_count": 21,
     "metadata": {},
     "output_type": "execute_result"
    }
   ],
   "source": [
    "test_onnx_model(\"text_classifier_optimized_int8.onnx\", test_sample)"
   ]
  },
  {
   "cell_type": "code",
   "execution_count": null,
   "metadata": {},
   "outputs": [],
   "source": [
    "test_onnx_inference_performance(\"text_classifier_optimized_int8.onnx\", test_sample)"
   ]
  },
  {
   "cell_type": "code",
   "execution_count": null,
   "metadata": {},
   "outputs": [],
   "source": []
  }
 ],
 "metadata": {
  "kernelspec": {
   "display_name": ".venv",
   "language": "python",
   "name": "python3"
  },
  "language_info": {
   "codemirror_mode": {
    "name": "ipython",
    "version": 3
   },
   "file_extension": ".py",
   "mimetype": "text/x-python",
   "name": "python",
   "nbconvert_exporter": "python",
   "pygments_lexer": "ipython3",
   "version": "3.11.9"
  }
 },
 "nbformat": 4,
 "nbformat_minor": 2
}
